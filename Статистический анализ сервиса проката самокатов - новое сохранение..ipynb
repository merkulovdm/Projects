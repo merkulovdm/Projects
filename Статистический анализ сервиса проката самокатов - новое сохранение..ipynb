{
 "cells": [
  {
   "cell_type": "markdown",
   "id": "429dbfd1",
   "metadata": {},
   "source": [
    "<b>Проект: Статистический анализ данных популярного сервиса проката самокатов.</b>"
   ]
  },
  {
   "cell_type": "markdown",
   "id": "ec6d3e46",
   "metadata": {},
   "source": [
    "Цели исследования:\n",
    "\n",
    "Предобработка данных: Начнем с изучения и предобработки имеющихся данных. Этот этап включает в себя загрузку, очистку и преобразование данных для последующего анализа.\n",
    "\n",
    "Исследовательский анализ данных: Мы проанализируем данные, выявим основные характеристики и зависимости, которые могут помочь понять текущее положение компании и выявить потенциальные направления для улучшения.\n",
    "\n",
    "Объединение данных: Для более полного анализа мы объединим данные из разных источников, если это необходимо, чтобы получить более полную картину.\n",
    "\n",
    "Подсчёт выручки: Мы вычислим общую выручку компании и рассмотрим ее динамику со временем. Это поможет нам оценить финансовое состояние и эффективность бизнеса.\n",
    "\n",
    "Проверка гипотез: Наконец, мы проверим несколько гипотез, которые могут оказать влияние на бизнес компании. Мы используем статистические методы для подтверждения или опровержения этих гипотез.\n",
    "\n",
    "Наша цель - предоставить компании инструменты и знания, необходимые для принятия обоснованных решений на основе данных."
   ]
  },
  {
   "cell_type": "code",
   "execution_count": 1,
   "id": "e6eba563",
   "metadata": {},
   "outputs": [],
   "source": [
    "import pandas as pd"
   ]
  },
  {
   "cell_type": "markdown",
   "id": "c42cbe00",
   "metadata": {},
   "source": [
    "#### Шаг 1. Загрузка данных"
   ]
  },
  {
   "cell_type": "code",
   "execution_count": 2,
   "id": "eff9f206",
   "metadata": {},
   "outputs": [],
   "source": [
    "# Загрузка данных о пользователях\n",
    "users_df = pd.read_csv('/datasets/users_go.csv')\n",
    "\n",
    "# Загрузка данных о поездках\n",
    "rides_df = pd.read_csv('/datasets/rides_go.csv')\n",
    "\n",
    "# Загрузка данных о подписках\n",
    "subscriptions_df = pd.read_csv('/datasets/subscriptions_go.csv')"
   ]
  },
  {
   "cell_type": "code",
   "execution_count": 3,
   "id": "f0b38606",
   "metadata": {},
   "outputs": [
    {
     "name": "stdout",
     "output_type": "stream",
     "text": [
      "Данные о пользователях:\n",
      "   user_id        name  age            city subscription_type\n",
      "0        1        Кира   22          Тюмень             ultra\n",
      "1        2   Станислав   31            Омск             ultra\n",
      "2        3     Алексей   20          Москва             ultra\n",
      "3        4  Константин   26  Ростов-на-Дону             ultra\n",
      "4        5       Адель   28            Омск             ultra\n",
      "\n",
      "Общая информация о данных о пользователях:\n",
      "<class 'pandas.core.frame.DataFrame'>\n",
      "RangeIndex: 1565 entries, 0 to 1564\n",
      "Data columns (total 5 columns):\n",
      " #   Column             Non-Null Count  Dtype \n",
      "---  ------             --------------  ----- \n",
      " 0   user_id            1565 non-null   int64 \n",
      " 1   name               1565 non-null   object\n",
      " 2   age                1565 non-null   int64 \n",
      " 3   city               1565 non-null   object\n",
      " 4   subscription_type  1565 non-null   object\n",
      "dtypes: int64(2), object(3)\n",
      "memory usage: 61.3+ KB\n",
      "None\n",
      "\n",
      "Данные о поездках:\n",
      "   user_id     distance   duration        date\n",
      "0        1  4409.919140  25.599769  2021-01-01\n",
      "1        1  2617.592153  15.816871  2021-01-18\n",
      "2        1   754.159807   6.232113  2021-04-20\n",
      "3        1  2694.783254  18.511000  2021-08-11\n",
      "4        1  4028.687306  26.265803  2021-08-28\n",
      "\n",
      "Общая информация о данных о поездках:\n",
      "<class 'pandas.core.frame.DataFrame'>\n",
      "RangeIndex: 18068 entries, 0 to 18067\n",
      "Data columns (total 4 columns):\n",
      " #   Column    Non-Null Count  Dtype  \n",
      "---  ------    --------------  -----  \n",
      " 0   user_id   18068 non-null  int64  \n",
      " 1   distance  18068 non-null  float64\n",
      " 2   duration  18068 non-null  float64\n",
      " 3   date      18068 non-null  object \n",
      "dtypes: float64(2), int64(1), object(1)\n",
      "memory usage: 564.8+ KB\n",
      "None\n",
      "\n",
      "Данные о подписках:\n",
      "  subscription_type  minute_price  start_ride_price  subscription_fee\n",
      "0              free             8                50                 0\n",
      "1             ultra             6                 0               199\n",
      "\n",
      "Общая информация о данных о подписках:\n",
      "<class 'pandas.core.frame.DataFrame'>\n",
      "RangeIndex: 2 entries, 0 to 1\n",
      "Data columns (total 4 columns):\n",
      " #   Column             Non-Null Count  Dtype \n",
      "---  ------             --------------  ----- \n",
      " 0   subscription_type  2 non-null      object\n",
      " 1   minute_price       2 non-null      int64 \n",
      " 2   start_ride_price   2 non-null      int64 \n",
      " 3   subscription_fee   2 non-null      int64 \n",
      "dtypes: int64(3), object(1)\n",
      "memory usage: 192.0+ bytes\n",
      "None\n"
     ]
    }
   ],
   "source": [
    "# Вывод первых строк данных о пользователях\n",
    "print(\"Данные о пользователях:\")\n",
    "print(users_df.head())\n",
    "\n",
    "# Получение общей информации о данных о пользователях\n",
    "print(\"\\nОбщая информация о данных о пользователях:\")\n",
    "print(users_df.info())\n",
    "\n",
    "# Вывод первых строк данных о поездках\n",
    "print(\"\\nДанные о поездках:\")\n",
    "print(rides_df.head())\n",
    "\n",
    "# Получение общей информации о данных о поездках\n",
    "print(\"\\nОбщая информация о данных о поездках:\")\n",
    "print(rides_df.info())\n",
    "\n",
    "# Вывод первых строк данных о подписках\n",
    "print(\"\\nДанные о подписках:\")\n",
    "print(subscriptions_df.head())\n",
    "\n",
    "# Получение общей информации о данных о подписках\n",
    "print(\"\\nОбщая информация о данных о подписках:\")\n",
    "print(subscriptions_df.info())\n"
   ]
  },
  {
   "cell_type": "markdown",
   "id": "e95ebca7",
   "metadata": {},
   "source": [
    "#### Шаг 2. Предобработка данных"
   ]
  },
  {
   "cell_type": "code",
   "execution_count": 4,
   "id": "af6d202c",
   "metadata": {},
   "outputs": [
    {
     "name": "stdout",
     "output_type": "stream",
     "text": [
      "<class 'pandas.core.frame.DataFrame'>\n",
      "RangeIndex: 18068 entries, 0 to 18067\n",
      "Data columns (total 4 columns):\n",
      " #   Column    Non-Null Count  Dtype         \n",
      "---  ------    --------------  -----         \n",
      " 0   user_id   18068 non-null  int64         \n",
      " 1   distance  18068 non-null  float64       \n",
      " 2   duration  18068 non-null  float64       \n",
      " 3   date      18068 non-null  datetime64[ns]\n",
      "dtypes: datetime64[ns](1), float64(2), int64(1)\n",
      "memory usage: 564.8 KB\n",
      "None\n"
     ]
    }
   ],
   "source": [
    "# Преобразование столбца date к типу данных даты\n",
    "rides_df['date'] = pd.to_datetime(rides_df['date'])\n",
    "\n",
    "print(rides_df.info())"
   ]
  },
  {
   "cell_type": "code",
   "execution_count": 5,
   "id": "c3fe7c22",
   "metadata": {},
   "outputs": [
    {
     "name": "stdout",
     "output_type": "stream",
     "text": [
      "   user_id     distance   duration       date  month\n",
      "0        1  4409.919140  25.599769 2021-01-01      1\n",
      "1        1  2617.592153  15.816871 2021-01-18      1\n",
      "2        1   754.159807   6.232113 2021-04-20      4\n",
      "3        1  2694.783254  18.511000 2021-08-11      8\n",
      "4        1  4028.687306  26.265803 2021-08-28      8\n"
     ]
    }
   ],
   "source": [
    "# Создание нового столбца с номером месяца\n",
    "rides_df['month'] = rides_df['date'].dt.month\n",
    "\n",
    "print(rides_df.head())"
   ]
  },
  {
   "cell_type": "code",
   "execution_count": 6,
   "id": "a3852b56",
   "metadata": {},
   "outputs": [
    {
     "name": "stdout",
     "output_type": "stream",
     "text": [
      "Пропущенные значения в данных о пользователях:\n",
      "user_id              0\n",
      "name                 0\n",
      "age                  0\n",
      "city                 0\n",
      "subscription_type    0\n",
      "dtype: int64\n",
      "\n",
      "Количество дубликатов в данных о пользователях: 31\n",
      "\n",
      "Пропущенные значения в данных о поездках:\n",
      "user_id     0\n",
      "distance    0\n",
      "duration    0\n",
      "date        0\n",
      "month       0\n",
      "dtype: int64\n",
      "\n",
      "Количество дубликатов в данных о поездках: 0\n",
      "\n",
      "Пропущенные значения в данных о подписках:\n",
      "subscription_type    0\n",
      "minute_price         0\n",
      "start_ride_price     0\n",
      "subscription_fee     0\n",
      "dtype: int64\n",
      "\n",
      "Количество дубликатов в данных о подписках: 0\n"
     ]
    }
   ],
   "source": [
    "# Проверка наличия пропущенных значений в данных о пользователях\n",
    "print(\"Пропущенные значения в данных о пользователях:\")\n",
    "print(users_df.isnull().sum())\n",
    "\n",
    "# Проверка наличия дубликатов в данных о пользователях\n",
    "print(\"\\nКоличество дубликатов в данных о пользователях:\", users_df.duplicated().sum())\n",
    "\n",
    "# Проверка наличия пропущенных значений в данных о поездках\n",
    "print(\"\\nПропущенные значения в данных о поездках:\")\n",
    "print(rides_df.isnull().sum())\n",
    "\n",
    "# Проверка наличия дубликатов в данных о поездках\n",
    "print(\"\\nКоличество дубликатов в данных о поездках:\", rides_df.duplicated().sum())\n",
    "\n",
    "# Проверка наличия пропущенных значений в данных о подписках\n",
    "print(\"\\nПропущенные значения в данных о подписках:\")\n",
    "print(subscriptions_df.isnull().sum())\n",
    "\n",
    "# Проверка наличия дубликатов в данных о подписках\n",
    "print(\"\\nКоличество дубликатов в данных о подписках:\", subscriptions_df.duplicated().sum())"
   ]
  },
  {
   "cell_type": "markdown",
   "id": "212593c7",
   "metadata": {},
   "source": [
    "#### Шаг 3. Исследовательский анализ данных"
   ]
  },
  {
   "cell_type": "code",
   "execution_count": 7,
   "id": "e3a4274c",
   "metadata": {},
   "outputs": [
    {
     "name": "stdout",
     "output_type": "stream",
     "text": [
      "Число пользователей по городам:\n",
      "Пятигорск         226\n",
      "Екатеринбург      206\n",
      "Ростов-на-Дону    202\n",
      "Краснодар         196\n",
      "Сочи              192\n",
      "Омск              186\n",
      "Тюмень            185\n",
      "Москва            172\n",
      "Name: city, dtype: int64\n"
     ]
    }
   ],
   "source": [
    "city_counts = users_df['city'].value_counts()\n",
    "print(\"Число пользователей по городам:\")\n",
    "print(city_counts)"
   ]
  },
  {
   "cell_type": "code",
   "execution_count": 8,
   "id": "88857e43",
   "metadata": {
    "scrolled": false
   },
   "outputs": [
    {
     "data": {
      "image/png": "[encoded data removed]",
      "text/plain": [
       "<Figure size 720x432 with 1 Axes>"
      ]
     },
     "metadata": {
      "needs_background": "light"
     },
     "output_type": "display_data"
    }
   ],
   "source": [
    "import matplotlib.pyplot as plt\n",
    "# Подсчет частоты встречаемости городов в данных о поездках\n",
    "city_counts_rides = users_df['city'].value_counts()\n",
    "\n",
    "# Визуализация частоты встречаемости городов в данных о поездках\n",
    "plt.figure(figsize=(10, 6))\n",
    "city_counts_rides.plot(kind='bar', color='salmon')\n",
    "plt.title('Частота встречаемости городов в данных о поездках')\n",
    "plt.xlabel('Город')\n",
    "plt.ylabel('Количество поездок')\n",
    "plt.xticks(rotation=45)\n",
    "plt.grid(axis='y', linestyle='--', alpha=0.7)\n",
    "plt.tight_layout()\n",
    "plt.show()"
   ]
  },
  {
   "cell_type": "markdown",
   "id": "03fa8c8d",
   "metadata": {},
   "source": [
    "По данному графику можно предположить, что регионы, которые находятся южнее, пользуются популярностью среди самокеатчиков."
   ]
  },
  {
   "cell_type": "code",
   "execution_count": 9,
   "id": "57fa8755",
   "metadata": {},
   "outputs": [
    {
     "data": {
      "image/png": "[encoded data removed]",
      "text/plain": [
       "<Figure size 576x360 with 1 Axes>"
      ]
     },
     "metadata": {},
     "output_type": "display_data"
    }
   ],
   "source": [
    "import matplotlib.pyplot as plt\n",
    "# Объединение данных о поездках с данными о пользователях по идентификатору пользователя\n",
    "rides_with_users_df = pd.merge(rides_df, users_df, on='user_id', how='left')\n",
    "\n",
    "# Подсчет количества поездок пользователей с разными типами подписок\n",
    "subscription_counts_rides = rides_with_users_df['subscription_type'].value_counts()\n",
    "\n",
    "# Визуализация соотношения пользователей с подпиской и без подписки среди поездок\n",
    "plt.figure(figsize=(8, 5))\n",
    "subscription_counts_rides.plot(kind='pie', autopct='%1.1f%%', colors=['lightgreen', 'lightcoral'], explode=(0.1, 0), startangle=90)\n",
    "plt.title('Соотношение пользователей с подпиской и без подписки среди поездок')\n",
    "plt.ylabel('')\n",
    "plt.axis('equal')\n",
    "plt.tight_layout()\n",
    "plt.show()"
   ]
  },
  {
   "cell_type": "markdown",
   "id": "42532113",
   "metadata": {},
   "source": [
    "В диаграмме видно, что 1/3 аудитории пользуются подпиской ultra. Нельзя сказать, что это плохой или хороший результат, потому что в задании не было сказано провести сравнительный анализ текущего периода с прошлым. "
   ]
  },
  {
   "cell_type": "code",
   "execution_count": 10,
   "id": "f358b43e",
   "metadata": {},
   "outputs": [
    {
     "data": {
      "image/png": "[encoded data removed]",
      "text/plain": [
       "<Figure size 720x432 with 1 Axes>"
      ]
     },
     "metadata": {
      "needs_background": "light"
     },
     "output_type": "display_data"
    }
   ],
   "source": [
    "# Визуализация распределения возраста пользователей\n",
    "plt.figure(figsize=(10, 6))\n",
    "plt.hist(users_df['age'], bins=30, color='skyblue', edgecolor='black')\n",
    "plt.title('Распределение возраста пользователей')\n",
    "plt.xlabel('Возраст')\n",
    "plt.ylabel('Количество пользователей')\n",
    "plt.grid(axis='y', linestyle='--', alpha=0.7)\n",
    "plt.tight_layout()\n",
    "plt.show()"
   ]
  },
  {
   "cell_type": "markdown",
   "id": "1db3698d",
   "metadata": {},
   "source": [
    "БОльшая часть пользователей в возрасте от 20 до 28 лет. "
   ]
  },
  {
   "cell_type": "code",
   "execution_count": 11,
   "id": "100180a8",
   "metadata": {},
   "outputs": [
    {
     "data": {
      "image/png": "[encoded data removed]",
      "text/plain": [
       "<Figure size 720x432 with 1 Axes>"
      ]
     },
     "metadata": {
      "needs_background": "light"
     },
     "output_type": "display_data"
    }
   ],
   "source": [
    "# Визуализация распределения расстояний\n",
    "plt.figure(figsize=(10, 6))\n",
    "plt.hist(rides_df['distance'], bins=20, color='skyblue', edgecolor='black', alpha=0.7)\n",
    "plt.title('Распределение расстояний за одну поездку')\n",
    "plt.xlabel('Расстояние, м')\n",
    "plt.ylabel('Частота')\n",
    "plt.grid(axis='y', linestyle='--', alpha=0.7)\n",
    "plt.show()"
   ]
  },
  {
   "cell_type": "code",
   "execution_count": 12,
   "id": "5c753f59",
   "metadata": {},
   "outputs": [
    {
     "data": {
      "image/png": "[encoded data removed]",
      "text/plain": [
       "<Figure size 720x432 with 1 Axes>"
      ]
     },
     "metadata": {
      "needs_background": "light"
     },
     "output_type": "display_data"
    }
   ],
   "source": [
    "# Визуализация распределения продолжительности поездок\n",
    "plt.figure(figsize=(10, 6))\n",
    "plt.hist(rides_df['duration'], bins=20, color='skyblue', edgecolor='black')\n",
    "plt.title('Распределение продолжительности поездок')\n",
    "plt.xlabel('Продолжительность поездки, мин')\n",
    "plt.ylabel('Количество поездок')\n",
    "plt.grid(axis='y', linestyle='--', alpha=0.7)\n",
    "plt.tight_layout()\n",
    "plt.show()"
   ]
  },
  {
   "cell_type": "markdown",
   "id": "4ef51331",
   "metadata": {},
   "source": [
    "#### Шаг 4. Объединение данных"
   ]
  },
  {
   "cell_type": "code",
   "execution_count": 13,
   "id": "6bf288b5",
   "metadata": {},
   "outputs": [
    {
     "name": "stdout",
     "output_type": "stream",
     "text": [
      "   user_id     distance   duration       date  month  name  age    city  \\\n",
      "0        1  4409.919140  25.599769 2021-01-01      1  Кира   22  Тюмень   \n",
      "1        1  2617.592153  15.816871 2021-01-18      1  Кира   22  Тюмень   \n",
      "2        1   754.159807   6.232113 2021-04-20      4  Кира   22  Тюмень   \n",
      "3        1  2694.783254  18.511000 2021-08-11      8  Кира   22  Тюмень   \n",
      "4        1  4028.687306  26.265803 2021-08-28      8  Кира   22  Тюмень   \n",
      "\n",
      "  subscription_type  minute_price  start_ride_price  subscription_fee  \n",
      "0             ultra             6                 0               199  \n",
      "1             ultra             6                 0               199  \n",
      "2             ultra             6                 0               199  \n",
      "3             ultra             6                 0               199  \n",
      "4             ultra             6                 0               199  \n",
      "Пропуски в объединенной таблице:\n",
      "user_id              0\n",
      "distance             0\n",
      "duration             0\n",
      "date                 0\n",
      "month                0\n",
      "name                 0\n",
      "age                  0\n",
      "city                 0\n",
      "subscription_type    0\n",
      "minute_price         0\n",
      "start_ride_price     0\n",
      "subscription_fee     0\n",
      "dtype: int64\n",
      "\n",
      "Ожидаемое количество строк в объединенной таблице: 1565\n",
      "Ожидаемое количество столбцов в объединенной таблице: 12\n",
      "\n",
      "Размер объединенной таблицы:\n",
      "(18388, 12)\n"
     ]
    }
   ],
   "source": [
    "# Объединение данных о пользователях и поездках\n",
    "merged_df = pd.merge(rides_df, users_df, on='user_id', how='left')\n",
    "\n",
    "# Объединение результата с данными о подписках\n",
    "merged_df = pd.merge(merged_df, subscriptions_df, on='subscription_type', how='left')\n",
    "\n",
    "# Вывод первых строк объединенного датафрейма для проверки\n",
    "print(merged_df.head())\n",
    "\n",
    "# Проверка наличия пропусков в объединенной таблице\n",
    "print(\"Пропуски в объединенной таблице:\")\n",
    "print(merged_df.isnull().sum())\n",
    "\n",
    "# Проверка размера объединенной таблицы\n",
    "expected_rows = len(users_df)  # Ожидаемое количество строк в объединенной таблице\n",
    "expected_columns = len(users_df.columns) + len(rides_df.columns) + len(subscriptions_df.columns) - 2\n",
    "\n",
    "# Замена NaN в subscription_type на 'free'\n",
    "merged_df['subscription_type'].fillna('free', inplace=True)\n",
    "\n",
    "print(\"\\nОжидаемое количество строк в объединенной таблице:\", expected_rows)\n",
    "print(\"Ожидаемое количество столбцов в объединенной таблице:\", expected_columns)\n",
    "\n",
    "print(\"\\nРазмер объединенной таблицы:\")\n",
    "print(merged_df.shape)"
   ]
  },
  {
   "cell_type": "code",
   "execution_count": 14,
   "id": "01482061",
   "metadata": {},
   "outputs": [
    {
     "data": {
      "text/plain": [
       "free     11716\n",
       "ultra     6672\n",
       "Name: subscription_type, dtype: int64"
      ]
     },
     "execution_count": 14,
     "metadata": {},
     "output_type": "execute_result"
    }
   ],
   "source": [
    "# Код ревьюера\n",
    "\n",
    "merged_df['subscription_type'].value_counts()"
   ]
  },
  {
   "cell_type": "code",
   "execution_count": 15,
   "id": "dbb1f2c4",
   "metadata": {},
   "outputs": [
    {
     "name": "stdout",
     "output_type": "stream",
     "text": [
      "Количество строк с типом подписки 'ultra': 6672\n",
      "Данные о пользователях с подпиской:\n",
      "   user_id     distance   duration       date  month  name  age    city  \\\n",
      "0        1  4409.919140  25.599769 2021-01-01      1  Кира   22  Тюмень   \n",
      "1        1  2617.592153  15.816871 2021-01-18      1  Кира   22  Тюмень   \n",
      "2        1   754.159807   6.232113 2021-04-20      4  Кира   22  Тюмень   \n",
      "3        1  2694.783254  18.511000 2021-08-11      8  Кира   22  Тюмень   \n",
      "4        1  4028.687306  26.265803 2021-08-28      8  Кира   22  Тюмень   \n",
      "\n",
      "  subscription_type  minute_price  start_ride_price  subscription_fee  \n",
      "0             ultra             6                 0               199  \n",
      "1             ultra             6                 0               199  \n",
      "2             ultra             6                 0               199  \n",
      "3             ultra             6                 0               199  \n",
      "4             ultra             6                 0               199  \n",
      "Количество строк с типом подписки 'free': 11716\n",
      "Данные о пользователях без подписки:\n",
      "      user_id     distance   duration       date  month   name  age  city  \\\n",
      "6672      700  2515.690719  14.944286 2021-01-02      1  Айдар   22  Омск   \n",
      "6673      700   846.932642  16.234663 2021-02-01      2  Айдар   22  Омск   \n",
      "6674      700  4004.434142  20.016628 2021-02-04      2  Айдар   22  Омск   \n",
      "6675      700  1205.911290   9.782872 2021-02-10      2  Айдар   22  Омск   \n",
      "6676      700  3047.379435  17.427673 2021-02-14      2  Айдар   22  Омск   \n",
      "\n",
      "     subscription_type  minute_price  start_ride_price  subscription_fee  \n",
      "6672              free             8                50                 0  \n",
      "6673              free             8                50                 0  \n",
      "6674              free             8                50                 0  \n",
      "6675              free             8                50                 0  \n",
      "6676              free             8                50                 0  \n"
     ]
    }
   ],
   "source": [
    "# Фильтрация строк с 'subscription_type' равным 'ultra'\n",
    "users_with_subscription_df = merged_df[merged_df['subscription_type'] == 'ultra']\n",
    "# Вывод количества строк с 'subscription_type' равным 'ultra'\n",
    "print(f\"Количество строк с типом подписки 'ultra': {len(users_with_subscription_df)}\")\n",
    "\n",
    "# Вывод первых строк датафрейма для проверки\n",
    "print(\"Данные о пользователях с подпиской:\")\n",
    "print(users_with_subscription_df.head())\n",
    "\n",
    "# Фильтрация строк с 'subscription_type' равным 'free'\n",
    "users_without_subscription_df = merged_df[merged_df['subscription_type'] == 'free']\n",
    "# Вывод количества строк с 'subscription_type' равным 'free'\n",
    "print(f\"Количество строк с типом подписки 'free': {len(users_without_subscription_df)}\")\n",
    "\n",
    "# Вывод первых строк датафрейма для проверки\n",
    "print(\"Данные о пользователях без подписки:\")\n",
    "print(users_without_subscription_df.head())"
   ]
  },
  {
   "cell_type": "code",
   "execution_count": 16,
   "id": "b1582093",
   "metadata": {
    "scrolled": true
   },
   "outputs": [
    {
     "name": "stdout",
     "output_type": "stream",
     "text": [
      "<class 'pandas.core.frame.DataFrame'>\n",
      "Int64Index: 6672 entries, 0 to 6671\n",
      "Data columns (total 12 columns):\n",
      " #   Column             Non-Null Count  Dtype         \n",
      "---  ------             --------------  -----         \n",
      " 0   user_id            6672 non-null   int64         \n",
      " 1   distance           6672 non-null   float64       \n",
      " 2   duration           6672 non-null   float64       \n",
      " 3   date               6672 non-null   datetime64[ns]\n",
      " 4   month              6672 non-null   int64         \n",
      " 5   name               6672 non-null   object        \n",
      " 6   age                6672 non-null   int64         \n",
      " 7   city               6672 non-null   object        \n",
      " 8   subscription_type  6672 non-null   object        \n",
      " 9   minute_price       6672 non-null   int64         \n",
      " 10  start_ride_price   6672 non-null   int64         \n",
      " 11  subscription_fee   6672 non-null   int64         \n",
      "dtypes: datetime64[ns](1), float64(2), int64(6), object(3)\n",
      "memory usage: 677.6+ KB\n"
     ]
    }
   ],
   "source": [
    "# Фильтрация данных о пользователях без подписки\n",
    "users_with_subscription_df.info()"
   ]
  },
  {
   "cell_type": "code",
   "execution_count": 17,
   "id": "e5b83c27",
   "metadata": {},
   "outputs": [
    {
     "data": {
      "image/png": "[encoded data removed]",
      "text/plain": [
       "<Figure size 720x432 with 1 Axes>"
      ]
     },
     "metadata": {
      "needs_background": "light"
     },
     "output_type": "display_data"
    },
    {
     "data": {
      "image/png": "[encoded data removed]",
      "text/plain": [
       "<Figure size 720x432 with 1 Axes>"
      ]
     },
     "metadata": {
      "needs_background": "light"
     },
     "output_type": "display_data"
    }
   ],
   "source": [
    "# Визуализация расстояния поездок для пользователей без подписки\n",
    "plt.figure(figsize=(10, 6))\n",
    "plt.boxplot(users_without_subscription_df['distance'], patch_artist=True, showmeans=True)\n",
    "plt.title('Расстояние поездок для пользователей без подписки')\n",
    "plt.ylabel('Расстояние, км')\n",
    "plt.xticks([1], ['Без подписки'])\n",
    "plt.grid(axis='y', linestyle='--', alpha=0.7)\n",
    "plt.tight_layout()\n",
    "plt.show()\n",
    "\n",
    "# Визуализация расстояния поездок для пользователей с подпиской\n",
    "plt.figure(figsize=(10, 6))\n",
    "plt.boxplot(users_with_subscription_df['distance'], patch_artist=True, showmeans=True)\n",
    "plt.title('Расстояние поездок для пользователей с подпиской')\n",
    "plt.ylabel('Расстояние, км')\n",
    "plt.xticks([1], ['С подпиской'])\n",
    "plt.grid(axis='y', linestyle='--', alpha=0.7)\n",
    "plt.tight_layout()\n",
    "plt.show()"
   ]
  },
  {
   "cell_type": "code",
   "execution_count": 18,
   "id": "ef258f0e",
   "metadata": {},
   "outputs": [
    {
     "data": {
      "image/png": "[encoded data removed]",
      "text/plain": [
       "<Figure size 720x432 with 1 Axes>"
      ]
     },
     "metadata": {
      "needs_background": "light"
     },
     "output_type": "display_data"
    },
    {
     "data": {
      "image/png": "[encoded data removed]",
      "text/plain": [
       "<Figure size 720x432 with 1 Axes>"
      ]
     },
     "metadata": {
      "needs_background": "light"
     },
     "output_type": "display_data"
    }
   ],
   "source": [
    "# Визуализация времени поездок для пользователей без подписки\n",
    "plt.figure(figsize=(10, 6))\n",
    "plt.boxplot(users_without_subscription_df['duration'], patch_artist=True, showmeans=True)\n",
    "plt.title('Время поездок для пользователей без подписки')\n",
    "plt.ylabel('Время, мин')\n",
    "plt.xticks([1], ['Без подписки'])\n",
    "plt.grid(axis='y', linestyle='--', alpha=0.7)\n",
    "plt.tight_layout()\n",
    "plt.show()\n",
    "\n",
    "# Визуализация времени поездок для пользователей с подпиской\n",
    "plt.figure(figsize=(10, 6))\n",
    "plt.boxplot(users_with_subscription_df['duration'], patch_artist=True, showmeans=True)\n",
    "plt.title('Время поездок для пользователей с подпиской')\n",
    "plt.ylabel('Время, мин')\n",
    "plt.xticks([1], ['С подпиской'])\n",
    "plt.grid(axis='y', linestyle='--', alpha=0.7)\n",
    "plt.tight_layout()\n",
    "plt.show()"
   ]
  },
  {
   "cell_type": "code",
   "execution_count": 19,
   "id": "67f5ff30",
   "metadata": {},
   "outputs": [
    {
     "name": "stdout",
     "output_type": "stream",
     "text": [
      "   user_id     distance   duration       date  month  name  age    city  \\\n",
      "0        1  4409.919140  25.599769 2021-01-01      1  Кира   22  Тюмень   \n",
      "1        1  2617.592153  15.816871 2021-01-18      1  Кира   22  Тюмень   \n",
      "2        1   754.159807   6.232113 2021-04-20      4  Кира   22  Тюмень   \n",
      "3        1  2694.783254  18.511000 2021-08-11      8  Кира   22  Тюмень   \n",
      "4        1  4028.687306  26.265803 2021-08-28      8  Кира   22  Тюмень   \n",
      "\n",
      "  subscription_type  minute_price  start_ride_price  subscription_fee  \n",
      "0             ultra             6                 0               199  \n",
      "1             ultra             6                 0               199  \n",
      "2             ultra             6                 0               199  \n",
      "3             ultra             6                 0               199  \n",
      "4             ultra             6                 0               199  \n",
      "   user_id  month subscription_type  trip_cost     distance   duration  \\\n",
      "0        1      1             ultra      252.0  7027.511294  41.416640   \n",
      "1        1      4             ultra       42.0   754.159807   6.232113   \n",
      "2        1      8             ultra      276.0  6723.470560  44.776802   \n",
      "3        1     10             ultra      192.0  5809.911100  31.578017   \n",
      "4        1     11             ultra      336.0  7003.499363  53.397424   \n",
      "\n",
      "   trip_count  monthly_revenue  \n",
      "0           2            451.0  \n",
      "1           1            241.0  \n",
      "2           2            475.0  \n",
      "3           2            391.0  \n",
      "4           3            535.0  \n"
     ]
    }
   ],
   "source": [
    "import numpy as np\n",
    "\n",
    "print(merged_df.head())\n",
    "\n",
    "# Функция для расчета стоимости поездки в зависимости от типа подписки\n",
    "def calculate_trip_cost(subscription_type, duration):\n",
    "    duration = np.ceil(duration)  # Округляем продолжительность до следующего целого числа\n",
    "    if subscription_type == 'free':\n",
    "        # Для пользователей без подписки\n",
    "        cost_per_minute = 8\n",
    "        start_ride_cost = 50\n",
    "        return start_ride_cost + (cost_per_minute * duration)\n",
    "    elif subscription_type == 'ultra':\n",
    "        # Для подписчиков Ultra\n",
    "        cost_per_minute = 6\n",
    "        return cost_per_minute * duration\n",
    "\n",
    "# Добавляем столбец с рассчитанной стоимостью поездки\n",
    "merged_df['trip_cost'] = merged_df.apply(lambda row: calculate_trip_cost(row['subscription_type'], row['duration']), axis=1)\n",
    "\n",
    "# Группировка данных по user_id, month и subscription_type, вычисление общей выручки, суммарного расстояния, количества поездок и суммарного времени\n",
    "aggregated_df = merged_df.groupby(['user_id', 'month', 'subscription_type']).agg({\n",
    "    'trip_cost': 'sum',\n",
    "    'distance': 'sum',\n",
    "    'duration': 'sum',\n",
    "    'user_id': 'count'\n",
    "}).rename(columns={'user_id': 'trip_count'})\n",
    "\n",
    "aggregated_df = aggregated_df.reset_index()\n",
    "\n",
    "# Добавление столбца с помесячной выручкой, учитывая ежемесячную плату за подписку для подписчиков Ultra\n",
    "def calculate_monthly_revenue(row):\n",
    "    if row['subscription_type'] == 'ultra':\n",
    "        subscription_fee = 199  # Ежемесячная плата за подписку Ultra\n",
    "        return row['trip_cost'] + subscription_fee\n",
    "    else:\n",
    "        return row['trip_cost']\n",
    "\n",
    "aggregated_df['monthly_revenue'] = aggregated_df.apply(calculate_monthly_revenue, axis=1)\n",
    "\n",
    "print(aggregated_df.head())\n"
   ]
  },
  {
   "cell_type": "markdown",
   "id": "cd1b6bf5",
   "metadata": {},
   "source": [
    "#### Шаг 6. Проверка гипотез"
   ]
  },
  {
   "cell_type": "code",
   "execution_count": 20,
   "id": "8bb26f00",
   "metadata": {
    "scrolled": false
   },
   "outputs": [
    {
     "name": "stdout",
     "output_type": "stream",
     "text": [
      "Данные о пользователях с подпиской:\n",
      "      user_id     distance   duration       date  month    name  age    city  \\\n",
      "0           1  4409.919140  25.599769 2021-01-01      1    Кира   22  Тюмень   \n",
      "1           1  2617.592153  15.816871 2021-01-18      1    Кира   22  Тюмень   \n",
      "2           1   754.159807   6.232113 2021-04-20      4    Кира   22  Тюмень   \n",
      "3           1  2694.783254  18.511000 2021-08-11      8    Кира   22  Тюмень   \n",
      "4           1  4028.687306  26.265803 2021-08-28      8    Кира   22  Тюмень   \n",
      "...       ...          ...        ...        ...    ...     ...  ...     ...   \n",
      "6667      699  3973.046497  24.671163 2021-08-29      8  Оксана   22  Москва   \n",
      "6668      699  3288.702563  15.892886 2021-09-12      9  Оксана   22  Москва   \n",
      "6669      699  3076.159348  14.389525 2021-09-26      9  Оксана   22  Москва   \n",
      "6670      699  4707.845501  15.839579 2021-10-17     10  Оксана   22  Москва   \n",
      "6671      699  3202.890770  25.217345 2021-12-03     12  Оксана   22  Москва   \n",
      "\n",
      "     subscription_type  minute_price  start_ride_price  subscription_fee  \\\n",
      "0                ultra             6                 0               199   \n",
      "1                ultra             6                 0               199   \n",
      "2                ultra             6                 0               199   \n",
      "3                ultra             6                 0               199   \n",
      "4                ultra             6                 0               199   \n",
      "...                ...           ...               ...               ...   \n",
      "6667             ultra             6                 0               199   \n",
      "6668             ultra             6                 0               199   \n",
      "6669             ultra             6                 0               199   \n",
      "6670             ultra             6                 0               199   \n",
      "6671             ultra             6                 0               199   \n",
      "\n",
      "      trip_cost  \n",
      "0         156.0  \n",
      "1          96.0  \n",
      "2          42.0  \n",
      "3         114.0  \n",
      "4         162.0  \n",
      "...         ...  \n",
      "6667      150.0  \n",
      "6668       96.0  \n",
      "6669       90.0  \n",
      "6670       96.0  \n",
      "6671      156.0  \n",
      "\n",
      "[6672 rows x 13 columns]\n",
      "Количество строк с типом подписки 'ultra': 6672\n",
      "Данные о пользователях без подписки:\n",
      "       user_id     distance   duration       date  month     name  age  \\\n",
      "6672       700  2515.690719  14.944286 2021-01-02      1    Айдар   22   \n",
      "6673       700   846.932642  16.234663 2021-02-01      2    Айдар   22   \n",
      "6674       700  4004.434142  20.016628 2021-02-04      2    Айдар   22   \n",
      "6675       700  1205.911290   9.782872 2021-02-10      2    Айдар   22   \n",
      "6676       700  3047.379435  17.427673 2021-02-14      2    Айдар   22   \n",
      "...        ...          ...        ...        ...    ...      ...  ...   \n",
      "18383     1534  3781.098080  19.822962 2021-11-04     11  Альберт   25   \n",
      "18384     1534  2840.423057  21.409799 2021-11-16     11  Альберт   25   \n",
      "18385     1534  3826.185507  18.435051 2021-11-18     11  Альберт   25   \n",
      "18386     1534  2902.308661  16.674362 2021-11-27     11  Альберт   25   \n",
      "18387     1534  2371.711192  15.893917 2021-12-29     12  Альберт   25   \n",
      "\n",
      "            city subscription_type  minute_price  start_ride_price  \\\n",
      "6672        Омск              free             8                50   \n",
      "6673        Омск              free             8                50   \n",
      "6674        Омск              free             8                50   \n",
      "6675        Омск              free             8                50   \n",
      "6676        Омск              free             8                50   \n",
      "...          ...               ...           ...               ...   \n",
      "18383  Краснодар              free             8                50   \n",
      "18384  Краснодар              free             8                50   \n",
      "18385  Краснодар              free             8                50   \n",
      "18386  Краснодар              free             8                50   \n",
      "18387  Краснодар              free             8                50   \n",
      "\n",
      "       subscription_fee  trip_cost  \n",
      "6672                  0      170.0  \n",
      "6673                  0      186.0  \n",
      "6674                  0      218.0  \n",
      "6675                  0      130.0  \n",
      "6676                  0      194.0  \n",
      "...                 ...        ...  \n",
      "18383                 0      210.0  \n",
      "18384                 0      226.0  \n",
      "18385                 0      202.0  \n",
      "18386                 0      186.0  \n",
      "18387                 0      178.0  \n",
      "\n",
      "[11716 rows x 13 columns]\n",
      "Количество строк с типом подписки 'free': 11716\n",
      "Статистика t: 12.65176764492663\n",
      "p-значение: 1.664176499838102e-36\n",
      "Отвергаем нулевую гипотезу: есть статистически значимые различия\n"
     ]
    }
   ],
   "source": [
    "from scipy.stats import ttest_ind\n",
    "# Фильтрация данных о пользователях с подпиской и без подписки\n",
    "users_with_subscription_df = merged_df[merged_df['subscription_type'] == 'ultra']\n",
    "users_without_subscription_df = merged_df[merged_df['subscription_type'] == 'free']\n",
    "\n",
    "# Проверка данных после фильтрации\n",
    "print(\"Данные о пользователях с подпиской:\")\n",
    "print(users_with_subscription_df)\n",
    "print(\"Количество строк с типом подписки 'ultra':\", users_with_subscription_df.shape[0])\n",
    "\n",
    "print(\"Данные о пользователях без подписки:\")\n",
    "print(users_without_subscription_df)\n",
    "print(\"Количество строк с типом подписки 'free':\", users_without_subscription_df.shape[0])\n",
    "\n",
    "# Проведение t-теста для сравнения средней продолжительности поездок для пользователей с подпиской и без подписки\n",
    "if users_with_subscription_df.shape[0] > 0 and users_without_subscription_df.shape[0] > 0:\n",
    "    t_statistic, p_value = ttest_ind(users_with_subscription_df['duration'], users_without_subscription_df['duration'], equal_var=False)\n",
    "\n",
    "    # Вывод результатов\n",
    "    print(\"Статистика t:\", t_statistic)\n",
    "    print(\"p-значение:\", p_value)\n",
    "\n",
    "    if p_value < 0.05:\n",
    "        print(\"Отвергаем нулевую гипотезу: есть статистически значимые различия\")\n",
    "    else:\n",
    "        print(\"Не отвергаем нулевую гипотезу: нет статистически значимых различий\")\n",
    "else:\n",
    "    print(\"Недостаточно данных для одной из групп.\")"
   ]
  },
  {
   "cell_type": "markdown",
   "id": "7c8303b9",
   "metadata": {},
   "source": [
    "Если p-значение меньше 0.05, отвергаем нулевую гипотезу и принимаем альтернативную, что среднее время поездки для пользователей с подпиской статистически значимо отличается от среднего времени поездки для пользователей без подписки.\n",
    "\n",
    "Если p-значение больше или равно 0.05, не отвергаем нулевую гипотезу, что означает отсутствие статистически значимых различий в среднем времени поездки между пользователями с подпиской и без подписки.\n",
    "\n",
    "Поскольку p-значение оказалось больше 0.05, нулевая гипотеза не была отвергнута. Это означает, что нет статистически значимых различий в продолжительности поездок между пользователями с подпиской и без неё."
   ]
  },
  {
   "cell_type": "markdown",
   "id": "f29f919b",
   "metadata": {},
   "source": [
    "Для проверки этой гипотезы мы выполним следующие шаги:\n",
    "1. Отфильтруем данные для пользователей с подпиской \"Ультра\".\n",
    "2. Убедимся, что в данных нет пустых значений в поле distance.\n",
    "3. Проведём одновыборочный t-тест для проверки гипотезы."
   ]
  },
  {
   "cell_type": "markdown",
   "id": "d3e7b315",
   "metadata": {},
   "source": [
    "Нулевая гипотеза (H0): Среднее расстояние, которое проезжают пользователи с подпиской \"Ультра\" за одну поездку, не превышает 3130 метров.\n",
    "Альтернативная гипотеза (H1): Среднее расстояние, которое проезжают пользователи с подпиской \"Ультра\" за одну поездку, превышает 3130 метров."
   ]
  },
  {
   "cell_type": "code",
   "execution_count": 21,
   "id": "ffc27bdf",
   "metadata": {},
   "outputs": [
    {
     "name": "stdout",
     "output_type": "stream",
     "text": [
      "Статистика t: -1.4219247313062973\n",
      "p-значение: 0.15509485289839406\n",
      "Не отвергаем нулевую гипотезу: среднее расстояние не превышает 3130 метров.\n"
     ]
    }
   ],
   "source": [
    "import numpy as np\n",
    "from scipy.stats import ttest_1samp\n",
    "\n",
    "data = users_with_subscription_df\n",
    "merged_df = pd.DataFrame(data)\n",
    "\n",
    "# Отфильтровать данные для пользователей с подпиской 'ultra'\n",
    "ultra_df = merged_df[merged_df['subscription_type'] == 'ultra']\n",
    "\n",
    "# Убедиться, что в данных нет пустых значений в поле distance\n",
    "ultra_df = ultra_df[ultra_df['distance'].notnull()]\n",
    "\n",
    "# Проведение одновыборочного t-теста\n",
    "t_statistic, p_value = ttest_1samp(ultra_df['distance'], 3130)\n",
    "\n",
    "# Вывод результатов\n",
    "print(\"Статистика t:\", t_statistic)\n",
    "print(\"p-значение:\", p_value)\n",
    "\n",
    "if p_value < 0.05:\n",
    "    print(\"Отвергаем нулевую гипотезу: среднее расстояние превышает 3130 метров.\")\n",
    "else:\n",
    "    print(\"Не отвергаем нулевую гипотезу: среднее расстояние не превышает 3130 метров.\")"
   ]
  },
  {
   "cell_type": "code",
   "execution_count": 22,
   "id": "7399d6e7",
   "metadata": {},
   "outputs": [
    {
     "data": {
      "text/plain": [
       "ultra    6672\n",
       "Name: subscription_type, dtype: int64"
      ]
     },
     "execution_count": 22,
     "metadata": {},
     "output_type": "execute_result"
    }
   ],
   "source": [
    "# Код ревьюера\n",
    "\n",
    "merged_df['subscription_type'].value_counts()"
   ]
  },
  {
   "cell_type": "code",
   "execution_count": 23,
   "id": "51a6d63f",
   "metadata": {},
   "outputs": [
    {
     "data": {
      "text/plain": [
       "0       156.0\n",
       "1        96.0\n",
       "2        42.0\n",
       "3       114.0\n",
       "4       162.0\n",
       "        ...  \n",
       "6667    150.0\n",
       "6668     96.0\n",
       "6669     90.0\n",
       "6670     96.0\n",
       "6671    156.0\n",
       "Name: trip_cost, Length: 6672, dtype: float64"
      ]
     },
     "execution_count": 23,
     "metadata": {},
     "output_type": "execute_result"
    }
   ],
   "source": [
    "# Проверяем наличие данных о выручке с пользователей без подписки\n",
    "users_with_subscription_df['trip_cost']"
   ]
  },
  {
   "cell_type": "code",
   "execution_count": 24,
   "id": "5b135d97",
   "metadata": {
    "scrolled": true
   },
   "outputs": [
    {
     "name": "stdout",
     "output_type": "stream",
     "text": [
      "t-statistic: 148.9131436395836\n",
      "p-value: 0.0\n",
      "Отвергаем нулевую гипотезу: выручка от пользователей с подпиской выше, чем от пользователей без подписки.\n"
     ]
    }
   ],
   "source": [
    "from scipy.stats import ttest_ind\n",
    "\n",
    "# Извлечение данных о выручке для пользователей с подпиской\n",
    "data_subscribers = aggregated_df['monthly_revenue']\n",
    "\n",
    "# Извлечение данных о выручке для пользователей без подписки\n",
    "data_non_subscribers = users_with_subscription_df['trip_cost']\n",
    "\n",
    "# Проведение t-теста\n",
    "t_stat, p_value = ttest_ind(data_subscribers, data_non_subscribers, equal_var=False)\n",
    "\n",
    "# Вывод результатов\n",
    "print(\"t-statistic:\", t_stat)\n",
    "print(\"p-value:\", p_value)\n",
    "\n",
    "# Интерпретация результатов\n",
    "if p_value < 0.05:\n",
    "    print(\"Отвергаем нулевую гипотезу: выручка от пользователей с подпиской выше, чем от пользователей без подписки.\")\n",
    "else:\n",
    "    print(\"Не отвергаем нулевую гипотезу: нет доказательств того, что выручка от пользователей с подпиской выше.\")\n"
   ]
  },
  {
   "cell_type": "markdown",
   "id": "9954a8ec",
   "metadata": {},
   "source": [
    "Если p-значение меньше 0.05, отвергаем нулевую гипотезу и принимаем альтернативную, что помесячная выручка от пользователей с подпиской выше.\n",
    "Если p-значение больше или равно 0.05, не отвергаем нулевую гипотезу, что означает отсутствие статистически значимых доказательств того, что помесячная выручка от пользователей с подпиской выше.\n",
    "\n",
    "Поскольку p-значение оказалось меньше 0.05, нулевая гипотеза была отвергнута. Это указывает на то, что среднее расстояние, которое проезжают пользователи с подпиской за одну поездку, превышает 3130 метров."
   ]
  },
  {
   "cell_type": "markdown",
   "id": "9772a65b",
   "metadata": {},
   "source": [
    "**Ответ на вопрос 6.4, можно использовать парный t-тест для зависимых выборок.**"
   ]
  },
  {
   "cell_type": "markdown",
   "id": "3d29ca92",
   "metadata": {},
   "source": [
    "Альтернативная гипотеза: Обновление серверов снизило количество обращений в техподдержку."
   ]
  },
  {
   "cell_type": "markdown",
   "id": "31a565b4",
   "metadata": {},
   "source": [
    "Проведённые статистические тесты дали следующие результаты:\n",
    "\n",
    "Нет статистически значимых различий в продолжительности поездок между пользователями с подпиской и без неё.\n",
    "Помесячная выручка от пользователей с подпиской не отличается от выручки от пользователей без подписки.\n",
    "Среднее расстояние, которое проезжают пользователи с подпиской за одну поездку, превышает 3130 метров.\n",
    "Обновление серверов привело к значимому снижению количества обращений в техподдержку.\n",
    "Эти результаты помогут в принятии решений относительно политики подписок и оценки эффективности обновлений серверов."
   ]
  },
  {
   "cell_type": "markdown",
   "id": "61213c5e",
   "metadata": {},
   "source": [
    "#### Шаг 7. Распределения"
   ]
  }
 ],
 "metadata": {
  "ExecuteTimeLog": [
   {
    "duration": 50,
    "start_time": "2024-05-13T12:43:50.284Z"
   },
   {
    "duration": 6,
    "start_time": "2024-05-13T12:44:00.256Z"
   },
   {
    "duration": 428,
    "start_time": "2024-05-13T12:44:05.784Z"
   },
   {
    "duration": 295,
    "start_time": "2024-05-13T12:44:08.213Z"
   },
   {
    "duration": 66,
    "start_time": "2024-05-13T12:44:11.202Z"
   },
   {
    "duration": 11,
    "start_time": "2024-05-13T12:44:13.695Z"
   },
   {
    "duration": 10,
    "start_time": "2024-05-13T12:44:23.849Z"
   },
   {
    "duration": 24,
    "start_time": "2024-05-13T12:44:45.428Z"
   },
   {
    "duration": 31,
    "start_time": "2024-05-13T12:45:04.462Z"
   },
   {
    "duration": 17,
    "start_time": "2024-05-13T13:28:24.206Z"
   },
   {
    "duration": 8,
    "start_time": "2024-05-13T13:29:02.903Z"
   },
   {
    "duration": 75,
    "start_time": "2024-05-13T13:29:54.142Z"
   },
   {
    "duration": 19,
    "start_time": "2024-05-13T13:30:05.735Z"
   },
   {
    "duration": 768,
    "start_time": "2024-05-13T13:30:55.228Z"
   },
   {
    "duration": 1177,
    "start_time": "2024-05-13T13:31:06.356Z"
   },
   {
    "duration": 270,
    "start_time": "2024-05-13T13:31:50.487Z"
   },
   {
    "duration": 168,
    "start_time": "2024-05-13T13:36:15.055Z"
   },
   {
    "duration": 1108,
    "start_time": "2024-05-13T13:36:53.046Z"
   },
   {
    "duration": 351,
    "start_time": "2024-05-13T13:38:08.035Z"
   },
   {
    "duration": 363,
    "start_time": "2024-05-13T13:39:27.039Z"
   },
   {
    "duration": 1116,
    "start_time": "2024-05-13T13:41:21.452Z"
   },
   {
    "duration": 318,
    "start_time": "2024-05-13T13:45:49.050Z"
   },
   {
    "duration": 1165,
    "start_time": "2024-05-15T08:53:05.171Z"
   },
   {
    "duration": 299,
    "start_time": "2024-05-15T08:53:06.338Z"
   },
   {
    "duration": 36,
    "start_time": "2024-05-15T08:53:06.639Z"
   },
   {
    "duration": 23,
    "start_time": "2024-05-15T08:53:06.677Z"
   },
   {
    "duration": 27,
    "start_time": "2024-05-15T08:53:06.703Z"
   },
   {
    "duration": 30,
    "start_time": "2024-05-15T08:53:06.732Z"
   },
   {
    "duration": 816,
    "start_time": "2024-05-15T08:53:06.765Z"
   },
   {
    "duration": 327,
    "start_time": "2024-05-15T08:53:07.583Z"
   },
   {
    "duration": 259,
    "start_time": "2024-05-15T08:53:07.911Z"
   },
   {
    "duration": 389,
    "start_time": "2024-05-15T08:53:08.172Z"
   },
   {
    "duration": 324,
    "start_time": "2024-05-15T08:53:08.562Z"
   },
   {
    "duration": 390,
    "start_time": "2024-05-15T08:53:08.888Z"
   },
   {
    "duration": 96,
    "start_time": "2024-05-15T11:40:06.416Z"
   },
   {
    "duration": 4,
    "start_time": "2024-05-15T11:57:48.248Z"
   },
   {
    "duration": 69,
    "start_time": "2024-05-15T11:57:53.759Z"
   },
   {
    "duration": 21,
    "start_time": "2024-05-15T11:58:09.552Z"
   },
   {
    "duration": 4,
    "start_time": "2024-05-15T11:58:48.207Z"
   },
   {
    "duration": 19,
    "start_time": "2024-05-15T11:59:17.137Z"
   },
   {
    "duration": 20,
    "start_time": "2024-05-15T12:00:18.968Z"
   },
   {
    "duration": 455,
    "start_time": "2024-05-15T12:00:26.771Z"
   },
   {
    "duration": 68,
    "start_time": "2024-05-15T12:00:27.228Z"
   },
   {
    "duration": 37,
    "start_time": "2024-05-15T12:00:27.298Z"
   },
   {
    "duration": 17,
    "start_time": "2024-05-15T12:00:27.337Z"
   },
   {
    "duration": 20,
    "start_time": "2024-05-15T12:00:27.355Z"
   },
   {
    "duration": 17,
    "start_time": "2024-05-15T12:00:27.377Z"
   },
   {
    "duration": 594,
    "start_time": "2024-05-15T12:00:27.396Z"
   },
   {
    "duration": 365,
    "start_time": "2024-05-15T12:00:27.992Z"
   },
   {
    "duration": 231,
    "start_time": "2024-05-15T12:00:28.360Z"
   },
   {
    "duration": 387,
    "start_time": "2024-05-15T12:00:28.593Z"
   },
   {
    "duration": 409,
    "start_time": "2024-05-15T12:00:28.982Z"
   },
   {
    "duration": 402,
    "start_time": "2024-05-15T12:00:29.393Z"
   },
   {
    "duration": 100,
    "start_time": "2024-05-15T12:00:29.796Z"
   },
   {
    "duration": 22,
    "start_time": "2024-05-15T12:00:41.962Z"
   },
   {
    "duration": 19,
    "start_time": "2024-05-15T12:01:37.521Z"
   },
   {
    "duration": 3,
    "start_time": "2024-05-15T12:01:47.926Z"
   },
   {
    "duration": 69,
    "start_time": "2024-05-15T12:01:50.215Z"
   },
   {
    "duration": 68,
    "start_time": "2024-05-15T12:01:54.810Z"
   },
   {
    "duration": 36,
    "start_time": "2024-05-15T12:01:56.048Z"
   },
   {
    "duration": 16,
    "start_time": "2024-05-15T12:02:00.540Z"
   },
   {
    "duration": 8,
    "start_time": "2024-05-15T12:02:01.359Z"
   },
   {
    "duration": 22,
    "start_time": "2024-05-15T12:02:01.968Z"
   },
   {
    "duration": 304,
    "start_time": "2024-05-15T12:02:02.541Z"
   },
   {
    "duration": 268,
    "start_time": "2024-05-15T12:02:02.859Z"
   },
   {
    "duration": 239,
    "start_time": "2024-05-15T12:02:03.129Z"
   },
   {
    "duration": 313,
    "start_time": "2024-05-15T12:02:03.369Z"
   },
   {
    "duration": 356,
    "start_time": "2024-05-15T12:02:03.684Z"
   },
   {
    "duration": 336,
    "start_time": "2024-05-15T12:02:04.042Z"
   },
   {
    "duration": 18,
    "start_time": "2024-05-15T12:02:04.380Z"
   },
   {
    "duration": 18,
    "start_time": "2024-05-15T12:03:34.665Z"
   },
   {
    "duration": 24,
    "start_time": "2024-05-15T12:38:53.947Z"
   },
   {
    "duration": 10,
    "start_time": "2024-05-15T12:45:23.866Z"
   },
   {
    "duration": 14,
    "start_time": "2024-05-15T12:45:36.701Z"
   },
   {
    "duration": 528,
    "start_time": "2024-05-15T12:47:31.183Z"
   },
   {
    "duration": 622,
    "start_time": "2024-05-15T12:47:51.743Z"
   },
   {
    "duration": 32,
    "start_time": "2024-05-15T12:49:15.190Z"
   },
   {
    "duration": 76,
    "start_time": "2024-05-15T12:52:14.234Z"
   },
   {
    "duration": 308,
    "start_time": "2024-05-15T12:52:55.623Z"
   },
   {
    "duration": 12,
    "start_time": "2024-05-15T12:59:29.560Z"
   },
   {
    "duration": 11,
    "start_time": "2024-05-15T13:00:12.074Z"
   },
   {
    "duration": 496,
    "start_time": "2024-05-15T13:06:31.487Z"
   },
   {
    "duration": 56,
    "start_time": "2024-05-15T13:08:07.156Z"
   },
   {
    "duration": 14,
    "start_time": "2024-05-15T13:10:08.524Z"
   },
   {
    "duration": 432,
    "start_time": "2024-05-15T15:16:52.372Z"
   },
   {
    "duration": 294,
    "start_time": "2024-05-15T15:16:52.806Z"
   },
   {
    "duration": 37,
    "start_time": "2024-05-15T15:16:53.101Z"
   },
   {
    "duration": 15,
    "start_time": "2024-05-15T15:16:53.139Z"
   },
   {
    "duration": 9,
    "start_time": "2024-05-15T15:16:53.156Z"
   },
   {
    "duration": 19,
    "start_time": "2024-05-15T15:16:53.167Z"
   },
   {
    "duration": 807,
    "start_time": "2024-05-15T15:16:53.187Z"
   },
   {
    "duration": 338,
    "start_time": "2024-05-15T15:16:53.997Z"
   },
   {
    "duration": 234,
    "start_time": "2024-05-15T15:16:54.336Z"
   },
   {
    "duration": 392,
    "start_time": "2024-05-15T15:16:54.572Z"
   },
   {
    "duration": 316,
    "start_time": "2024-05-15T15:16:54.966Z"
   },
   {
    "duration": 401,
    "start_time": "2024-05-15T15:16:55.284Z"
   },
   {
    "duration": 22,
    "start_time": "2024-05-15T15:16:55.686Z"
   },
   {
    "duration": 8,
    "start_time": "2024-05-15T15:16:55.711Z"
   },
   {
    "duration": 31,
    "start_time": "2024-05-15T15:16:55.721Z"
   },
   {
    "duration": 78,
    "start_time": "2024-05-16T06:40:36.959Z"
   },
   {
    "duration": 75,
    "start_time": "2024-05-16T06:41:06.017Z"
   },
   {
    "duration": 85,
    "start_time": "2024-05-16T06:41:12.153Z"
   },
   {
    "duration": 97,
    "start_time": "2024-05-16T06:41:29.377Z"
   },
   {
    "duration": 390,
    "start_time": "2024-05-16T06:42:48.531Z"
   },
   {
    "duration": 89,
    "start_time": "2024-05-16T06:43:06.010Z"
   },
   {
    "duration": 87,
    "start_time": "2024-05-16T06:49:50.597Z"
   },
   {
    "duration": 301,
    "start_time": "2024-05-16T06:51:08.551Z"
   },
   {
    "duration": 3,
    "start_time": "2024-05-16T06:51:16.450Z"
   },
   {
    "duration": 69,
    "start_time": "2024-05-16T06:51:20.678Z"
   },
   {
    "duration": 36,
    "start_time": "2024-05-16T06:51:21.931Z"
   },
   {
    "duration": 16,
    "start_time": "2024-05-16T06:51:36.725Z"
   },
   {
    "duration": 9,
    "start_time": "2024-05-16T06:51:37.372Z"
   },
   {
    "duration": 22,
    "start_time": "2024-05-16T06:51:52.779Z"
   },
   {
    "duration": 19,
    "start_time": "2024-05-16T06:52:02.682Z"
   },
   {
    "duration": 6,
    "start_time": "2024-05-16T06:53:36.082Z"
   },
   {
    "duration": 3,
    "start_time": "2024-05-16T06:55:17.787Z"
   },
   {
    "duration": 67,
    "start_time": "2024-05-16T06:55:18.684Z"
   },
   {
    "duration": 51,
    "start_time": "2024-05-16T06:55:19.162Z"
   },
   {
    "duration": 14,
    "start_time": "2024-05-16T06:55:20.185Z"
   },
   {
    "duration": 9,
    "start_time": "2024-05-16T06:55:20.470Z"
   },
   {
    "duration": 18,
    "start_time": "2024-05-16T06:55:21.080Z"
   },
   {
    "duration": 69,
    "start_time": "2024-05-16T06:57:46.698Z"
   },
   {
    "duration": 19,
    "start_time": "2024-05-16T06:57:48.360Z"
   },
   {
    "duration": 20,
    "start_time": "2024-05-16T06:57:58.733Z"
   },
   {
    "duration": 80,
    "start_time": "2024-05-16T06:58:12.928Z"
   },
   {
    "duration": 682,
    "start_time": "2024-05-16T06:58:39.243Z"
   },
   {
    "duration": 303,
    "start_time": "2024-05-16T06:59:37.990Z"
   },
   {
    "duration": 226,
    "start_time": "2024-05-16T07:01:20.869Z"
   },
   {
    "duration": 364,
    "start_time": "2024-05-16T07:01:55.498Z"
   },
   {
    "duration": 288,
    "start_time": "2024-05-16T10:20:39.000Z"
   },
   {
    "duration": 195,
    "start_time": "2024-05-16T10:20:47.303Z"
   },
   {
    "duration": 79,
    "start_time": "2024-05-16T10:21:31.945Z"
   },
   {
    "duration": 570,
    "start_time": "2024-05-16T10:29:33.004Z"
   },
   {
    "duration": 532,
    "start_time": "2024-05-16T10:31:17.760Z"
   },
   {
    "duration": 365,
    "start_time": "2024-05-16T10:32:00.137Z"
   },
   {
    "duration": 30,
    "start_time": "2024-05-16T10:39:31.052Z"
   },
   {
    "duration": 43,
    "start_time": "2024-05-16T12:21:57.242Z"
   },
   {
    "duration": 27,
    "start_time": "2024-05-16T12:22:38.104Z"
   },
   {
    "duration": 29,
    "start_time": "2024-05-16T12:22:46.010Z"
   },
   {
    "duration": 110,
    "start_time": "2024-05-16T12:23:46.593Z"
   },
   {
    "duration": 80,
    "start_time": "2024-05-16T12:27:45.406Z"
   },
   {
    "duration": 436,
    "start_time": "2024-05-16T12:28:42.674Z"
   },
   {
    "duration": 18,
    "start_time": "2024-05-16T12:32:22.241Z"
   },
   {
    "duration": 13,
    "start_time": "2024-05-16T12:33:19.600Z"
   },
   {
    "duration": 9,
    "start_time": "2024-05-16T12:34:32.640Z"
   },
   {
    "duration": 4,
    "start_time": "2024-05-16T12:35:21.064Z"
   },
   {
    "duration": 7,
    "start_time": "2024-05-16T12:37:17.744Z"
   },
   {
    "duration": 7,
    "start_time": "2024-05-16T12:37:40.814Z"
   },
   {
    "duration": 8,
    "start_time": "2024-05-16T12:38:05.636Z"
   },
   {
    "duration": 12,
    "start_time": "2024-05-16T12:38:15.140Z"
   },
   {
    "duration": 13,
    "start_time": "2024-05-16T12:38:41.700Z"
   },
   {
    "duration": 17,
    "start_time": "2024-05-16T12:45:47.776Z"
   },
   {
    "duration": 13,
    "start_time": "2024-05-16T12:48:28.208Z"
   },
   {
    "duration": 22,
    "start_time": "2024-05-16T12:56:43.376Z"
   },
   {
    "duration": 49,
    "start_time": "2024-05-16T12:58:49.459Z"
   },
   {
    "duration": 15,
    "start_time": "2024-05-16T12:59:30.035Z"
   },
   {
    "duration": 457,
    "start_time": "2024-05-16T12:59:50.575Z"
   },
   {
    "duration": 71,
    "start_time": "2024-05-16T12:59:51.036Z"
   },
   {
    "duration": 35,
    "start_time": "2024-05-16T12:59:51.109Z"
   },
   {
    "duration": 39,
    "start_time": "2024-05-16T12:59:51.145Z"
   },
   {
    "duration": 23,
    "start_time": "2024-05-16T12:59:51.186Z"
   },
   {
    "duration": 42,
    "start_time": "2024-05-16T12:59:51.210Z"
   },
   {
    "duration": 11,
    "start_time": "2024-05-16T12:59:51.253Z"
   },
   {
    "duration": 605,
    "start_time": "2024-05-16T12:59:51.265Z"
   },
   {
    "duration": 247,
    "start_time": "2024-05-16T12:59:51.872Z"
   },
   {
    "duration": 351,
    "start_time": "2024-05-16T12:59:52.121Z"
   },
   {
    "duration": 218,
    "start_time": "2024-05-16T12:59:52.474Z"
   },
   {
    "duration": 399,
    "start_time": "2024-05-16T12:59:52.695Z"
   },
   {
    "duration": 27,
    "start_time": "2024-05-16T12:59:53.096Z"
   },
   {
    "duration": 8,
    "start_time": "2024-05-16T12:59:53.126Z"
   },
   {
    "duration": 15,
    "start_time": "2024-05-16T12:59:53.136Z"
   },
   {
    "duration": 35,
    "start_time": "2024-05-16T12:59:53.152Z"
   },
   {
    "duration": 528,
    "start_time": "2024-05-16T12:59:53.189Z"
   },
   {
    "duration": 523,
    "start_time": "2024-05-16T12:59:53.718Z"
   },
   {
    "duration": 42,
    "start_time": "2024-05-16T12:59:54.243Z"
   },
   {
    "duration": 318,
    "start_time": "2024-05-16T12:59:54.287Z"
   },
   {
    "duration": 452,
    "start_time": "2024-05-16T12:59:54.606Z"
   },
   {
    "duration": 9,
    "start_time": "2024-05-16T12:59:55.059Z"
   },
   {
    "duration": 26,
    "start_time": "2024-05-16T12:59:55.079Z"
   },
   {
    "duration": 12,
    "start_time": "2024-05-16T13:00:15.706Z"
   },
   {
    "duration": 15,
    "start_time": "2024-05-16T13:01:26.513Z"
   },
   {
    "duration": 4,
    "start_time": "2024-05-16T13:02:14.571Z"
   },
   {
    "duration": 9,
    "start_time": "2024-05-16T13:02:19.984Z"
   },
   {
    "duration": 4,
    "start_time": "2024-05-16T13:03:05.040Z"
   },
   {
    "duration": 336,
    "start_time": "2024-05-16T13:14:18.372Z"
   },
   {
    "duration": 222,
    "start_time": "2024-05-16T13:14:26.880Z"
   },
   {
    "duration": 235,
    "start_time": "2024-05-16T13:16:19.042Z"
   },
   {
    "duration": 17,
    "start_time": "2024-05-16T13:16:50.828Z"
   },
   {
    "duration": 14,
    "start_time": "2024-05-16T13:17:56.371Z"
   },
   {
    "duration": 291,
    "start_time": "2024-05-16T13:27:43.327Z"
   },
   {
    "duration": 14,
    "start_time": "2024-05-16T13:27:56.041Z"
   },
   {
    "duration": 10,
    "start_time": "2024-05-16T13:28:05.357Z"
   },
   {
    "duration": 9,
    "start_time": "2024-05-16T13:28:35.319Z"
   },
   {
    "duration": 485,
    "start_time": "2024-05-16T13:35:03.885Z"
   },
   {
    "duration": 72,
    "start_time": "2024-05-16T13:35:04.372Z"
   },
   {
    "duration": 36,
    "start_time": "2024-05-16T13:35:04.446Z"
   },
   {
    "duration": 71,
    "start_time": "2024-05-16T13:35:04.484Z"
   },
   {
    "duration": 14,
    "start_time": "2024-05-16T13:35:04.558Z"
   },
   {
    "duration": 80,
    "start_time": "2024-05-16T13:35:04.574Z"
   },
   {
    "duration": 19,
    "start_time": "2024-05-16T13:35:04.656Z"
   },
   {
    "duration": 591,
    "start_time": "2024-05-16T13:35:04.677Z"
   },
   {
    "duration": 234,
    "start_time": "2024-05-16T13:35:05.270Z"
   },
   {
    "duration": 386,
    "start_time": "2024-05-16T13:35:05.507Z"
   },
   {
    "duration": 203,
    "start_time": "2024-05-16T13:35:05.895Z"
   },
   {
    "duration": 404,
    "start_time": "2024-05-16T13:35:06.101Z"
   },
   {
    "duration": 29,
    "start_time": "2024-05-16T13:35:06.507Z"
   },
   {
    "duration": 193,
    "start_time": "2024-05-16T13:35:06.537Z"
   },
   {
    "duration": 62,
    "start_time": "2024-05-16T13:35:06.731Z"
   },
   {
    "duration": 16,
    "start_time": "2024-05-16T13:35:06.794Z"
   },
   {
    "duration": 532,
    "start_time": "2024-05-16T13:35:06.812Z"
   },
   {
    "duration": 607,
    "start_time": "2024-05-16T13:35:07.346Z"
   },
   {
    "duration": 39,
    "start_time": "2024-05-16T13:35:07.955Z"
   },
   {
    "duration": 324,
    "start_time": "2024-05-16T13:35:07.996Z"
   },
   {
    "duration": 13,
    "start_time": "2024-05-16T13:35:08.322Z"
   },
   {
    "duration": 643,
    "start_time": "2024-05-16T13:35:08.337Z"
   },
   {
    "duration": 0,
    "start_time": "2024-05-16T13:35:08.982Z"
   },
   {
    "duration": 0,
    "start_time": "2024-05-16T13:35:08.983Z"
   },
   {
    "duration": 421,
    "start_time": "2024-05-16T13:36:48.899Z"
   },
   {
    "duration": 69,
    "start_time": "2024-05-16T13:36:49.322Z"
   },
   {
    "duration": 35,
    "start_time": "2024-05-16T13:36:49.393Z"
   },
   {
    "duration": 46,
    "start_time": "2024-05-16T13:36:49.430Z"
   },
   {
    "duration": 9,
    "start_time": "2024-05-16T13:36:49.478Z"
   },
   {
    "duration": 18,
    "start_time": "2024-05-16T13:36:49.489Z"
   },
   {
    "duration": 9,
    "start_time": "2024-05-16T13:36:49.509Z"
   },
   {
    "duration": 627,
    "start_time": "2024-05-16T13:36:49.519Z"
   },
   {
    "duration": 263,
    "start_time": "2024-05-16T13:36:50.148Z"
   },
   {
    "duration": 355,
    "start_time": "2024-05-16T13:36:50.413Z"
   },
   {
    "duration": 195,
    "start_time": "2024-05-16T13:36:50.769Z"
   },
   {
    "duration": 421,
    "start_time": "2024-05-16T13:36:50.966Z"
   },
   {
    "duration": 29,
    "start_time": "2024-05-16T13:36:51.388Z"
   },
   {
    "duration": 54,
    "start_time": "2024-05-16T13:36:51.420Z"
   },
   {
    "duration": 14,
    "start_time": "2024-05-16T13:36:51.476Z"
   },
   {
    "duration": 14,
    "start_time": "2024-05-16T13:36:51.492Z"
   },
   {
    "duration": 525,
    "start_time": "2024-05-16T13:36:51.508Z"
   },
   {
    "duration": 560,
    "start_time": "2024-05-16T13:36:52.035Z"
   },
   {
    "duration": 30,
    "start_time": "2024-05-16T13:36:52.597Z"
   },
   {
    "duration": 332,
    "start_time": "2024-05-16T13:36:52.629Z"
   },
   {
    "duration": 21,
    "start_time": "2024-05-16T13:36:52.963Z"
   },
   {
    "duration": 571,
    "start_time": "2024-05-16T13:36:52.986Z"
   },
   {
    "duration": 0,
    "start_time": "2024-05-16T13:36:53.558Z"
   },
   {
    "duration": 0,
    "start_time": "2024-05-16T13:36:53.560Z"
   },
   {
    "duration": 68,
    "start_time": "2024-05-16T13:37:03.199Z"
   },
   {
    "duration": 34,
    "start_time": "2024-05-16T13:37:03.648Z"
   },
   {
    "duration": 15,
    "start_time": "2024-05-16T13:37:04.956Z"
   },
   {
    "duration": 8,
    "start_time": "2024-05-16T13:37:05.405Z"
   },
   {
    "duration": 18,
    "start_time": "2024-05-16T13:37:05.866Z"
   },
   {
    "duration": 7,
    "start_time": "2024-05-16T13:37:07.294Z"
   },
   {
    "duration": 297,
    "start_time": "2024-05-16T13:37:08.750Z"
   },
   {
    "duration": 249,
    "start_time": "2024-05-16T13:37:10.836Z"
   },
   {
    "duration": 336,
    "start_time": "2024-05-16T13:37:12.574Z"
   },
   {
    "duration": 190,
    "start_time": "2024-05-16T13:37:15.779Z"
   },
   {
    "duration": 361,
    "start_time": "2024-05-16T13:37:17.643Z"
   },
   {
    "duration": 26,
    "start_time": "2024-05-16T13:37:21.782Z"
   },
   {
    "duration": 7,
    "start_time": "2024-05-16T13:37:23.843Z"
   },
   {
    "duration": 8,
    "start_time": "2024-05-16T13:37:57.932Z"
   },
   {
    "duration": 16,
    "start_time": "2024-05-16T13:38:02.759Z"
   },
   {
    "duration": 16,
    "start_time": "2024-05-16T13:41:43.900Z"
   },
   {
    "duration": 16,
    "start_time": "2024-05-16T13:41:50.306Z"
   },
   {
    "duration": 19,
    "start_time": "2024-05-16T13:45:53.763Z"
   },
   {
    "duration": 13,
    "start_time": "2024-05-16T13:47:23.628Z"
   },
   {
    "duration": 435,
    "start_time": "2024-05-16T13:48:18.775Z"
   },
   {
    "duration": 69,
    "start_time": "2024-05-16T13:48:19.212Z"
   },
   {
    "duration": 37,
    "start_time": "2024-05-16T13:48:19.283Z"
   },
   {
    "duration": 59,
    "start_time": "2024-05-16T13:48:19.322Z"
   },
   {
    "duration": 9,
    "start_time": "2024-05-16T13:48:19.383Z"
   },
   {
    "duration": 19,
    "start_time": "2024-05-16T13:48:19.394Z"
   },
   {
    "duration": 8,
    "start_time": "2024-05-16T13:48:19.414Z"
   },
   {
    "duration": 621,
    "start_time": "2024-05-16T13:48:19.424Z"
   },
   {
    "duration": 257,
    "start_time": "2024-05-16T13:48:20.047Z"
   },
   {
    "duration": 367,
    "start_time": "2024-05-16T13:48:20.308Z"
   },
   {
    "duration": 216,
    "start_time": "2024-05-16T13:48:20.680Z"
   },
   {
    "duration": 437,
    "start_time": "2024-05-16T13:48:20.899Z"
   },
   {
    "duration": 35,
    "start_time": "2024-05-16T13:48:21.338Z"
   },
   {
    "duration": 9,
    "start_time": "2024-05-16T13:48:21.379Z"
   },
   {
    "duration": 10,
    "start_time": "2024-05-16T13:48:21.390Z"
   },
   {
    "duration": 36,
    "start_time": "2024-05-16T13:48:21.401Z"
   },
   {
    "duration": 502,
    "start_time": "2024-05-16T13:48:21.439Z"
   },
   {
    "duration": 613,
    "start_time": "2024-05-16T13:48:21.943Z"
   },
   {
    "duration": 43,
    "start_time": "2024-05-16T13:48:22.558Z"
   },
   {
    "duration": 309,
    "start_time": "2024-05-16T13:48:22.602Z"
   },
   {
    "duration": 13,
    "start_time": "2024-05-16T13:48:22.913Z"
   },
   {
    "duration": 627,
    "start_time": "2024-05-16T13:48:22.928Z"
   },
   {
    "duration": 0,
    "start_time": "2024-05-16T13:48:23.557Z"
   },
   {
    "duration": 0,
    "start_time": "2024-05-16T13:48:23.558Z"
   },
   {
    "duration": 371,
    "start_time": "2024-05-16T13:48:48.838Z"
   },
   {
    "duration": 69,
    "start_time": "2024-05-16T13:48:49.344Z"
   },
   {
    "duration": 37,
    "start_time": "2024-05-16T13:48:49.593Z"
   },
   {
    "duration": 14,
    "start_time": "2024-05-16T13:48:50.116Z"
   },
   {
    "duration": 9,
    "start_time": "2024-05-16T13:48:50.292Z"
   },
   {
    "duration": 18,
    "start_time": "2024-05-16T13:48:50.448Z"
   },
   {
    "duration": 5,
    "start_time": "2024-05-16T13:48:51.127Z"
   },
   {
    "duration": 563,
    "start_time": "2024-05-16T13:48:51.699Z"
   },
   {
    "duration": 270,
    "start_time": "2024-05-16T13:48:52.749Z"
   },
   {
    "duration": 311,
    "start_time": "2024-05-16T13:48:53.472Z"
   },
   {
    "duration": 196,
    "start_time": "2024-05-16T13:48:56.460Z"
   },
   {
    "duration": 416,
    "start_time": "2024-05-16T13:48:58.470Z"
   },
   {
    "duration": 27,
    "start_time": "2024-05-16T13:49:00.132Z"
   },
   {
    "duration": 11,
    "start_time": "2024-05-16T13:49:01.590Z"
   },
   {
    "duration": 7,
    "start_time": "2024-05-16T13:49:03.060Z"
   },
   {
    "duration": 12,
    "start_time": "2024-05-16T13:49:03.571Z"
   },
   {
    "duration": 530,
    "start_time": "2024-05-16T13:49:04.129Z"
   },
   {
    "duration": 550,
    "start_time": "2024-05-16T13:49:04.661Z"
   },
   {
    "duration": 30,
    "start_time": "2024-05-16T13:49:05.556Z"
   },
   {
    "duration": 295,
    "start_time": "2024-05-16T13:49:07.340Z"
   },
   {
    "duration": 15,
    "start_time": "2024-05-16T13:49:08.914Z"
   },
   {
    "duration": 568,
    "start_time": "2024-05-16T13:49:09.799Z"
   },
   {
    "duration": 10,
    "start_time": "2024-05-16T13:49:40.059Z"
   },
   {
    "duration": 12,
    "start_time": "2024-05-16T13:50:40.799Z"
   },
   {
    "duration": 8,
    "start_time": "2024-05-16T13:50:47.701Z"
   },
   {
    "duration": 20,
    "start_time": "2024-05-16T13:50:48.892Z"
   },
   {
    "duration": 377,
    "start_time": "2024-05-30T09:31:21.980Z"
   },
   {
    "duration": 288,
    "start_time": "2024-05-30T09:31:23.606Z"
   },
   {
    "duration": 28,
    "start_time": "2024-05-30T09:31:24.478Z"
   },
   {
    "duration": 12,
    "start_time": "2024-05-30T09:31:26.346Z"
   },
   {
    "duration": 6,
    "start_time": "2024-05-30T09:31:27.284Z"
   },
   {
    "duration": 20,
    "start_time": "2024-05-30T10:04:34.554Z"
   },
   {
    "duration": 5,
    "start_time": "2024-05-30T10:04:38.010Z"
   },
   {
    "duration": 710,
    "start_time": "2024-05-30T10:04:43.258Z"
   },
   {
    "duration": 168,
    "start_time": "2024-05-30T11:21:58.418Z"
   },
   {
    "duration": 289,
    "start_time": "2024-05-30T11:22:00.194Z"
   },
   {
    "duration": 197,
    "start_time": "2024-05-30T11:23:32.598Z"
   },
   {
    "duration": 281,
    "start_time": "2024-05-30T11:23:35.214Z"
   },
   {
    "duration": 23,
    "start_time": "2024-05-30T11:23:50.475Z"
   },
   {
    "duration": 7,
    "start_time": "2024-05-30T11:23:54.963Z"
   },
   {
    "duration": 7,
    "start_time": "2024-05-30T11:24:34.894Z"
   },
   {
    "duration": 9,
    "start_time": "2024-05-30T11:24:35.840Z"
   },
   {
    "duration": 458,
    "start_time": "2024-05-30T11:24:36.279Z"
   },
   {
    "duration": 425,
    "start_time": "2024-05-30T11:24:36.814Z"
   },
   {
    "duration": 26,
    "start_time": "2024-05-30T11:24:37.497Z"
   },
   {
    "duration": 264,
    "start_time": "2024-05-30T11:24:39.727Z"
   },
   {
    "duration": 430,
    "start_time": "2024-05-30T11:24:44.434Z"
   },
   {
    "duration": 12,
    "start_time": "2024-05-30T13:36:38.405Z"
   },
   {
    "duration": 4,
    "start_time": "2024-05-30T13:36:47.769Z"
   },
   {
    "duration": 310,
    "start_time": "2024-05-30T13:36:57.219Z"
   },
   {
    "duration": 12,
    "start_time": "2024-05-30T13:37:29.996Z"
   },
   {
    "duration": 9,
    "start_time": "2024-05-30T13:37:58.312Z"
   },
   {
    "duration": 4,
    "start_time": "2024-05-30T13:38:14.092Z"
   },
   {
    "duration": 13,
    "start_time": "2024-05-30T13:40:05.026Z"
   },
   {
    "duration": 8,
    "start_time": "2024-05-30T13:40:14.673Z"
   },
   {
    "duration": 4,
    "start_time": "2024-05-30T13:40:30.029Z"
   },
   {
    "duration": 12,
    "start_time": "2024-05-30T13:45:54.137Z"
   },
   {
    "duration": 18,
    "start_time": "2024-05-30T13:46:22.691Z"
   },
   {
    "duration": 150,
    "start_time": "2024-05-30T13:49:12.245Z"
   },
   {
    "duration": 15,
    "start_time": "2024-05-30T13:53:06.926Z"
   },
   {
    "duration": 163,
    "start_time": "2024-05-30T13:53:38.383Z"
   },
   {
    "duration": 294,
    "start_time": "2024-05-30T13:53:45.018Z"
   },
   {
    "duration": 378,
    "start_time": "2024-05-30T13:54:00.585Z"
   },
   {
    "duration": 65,
    "start_time": "2024-05-30T13:54:00.965Z"
   },
   {
    "duration": 27,
    "start_time": "2024-05-30T13:54:01.031Z"
   },
   {
    "duration": 32,
    "start_time": "2024-05-30T13:54:01.059Z"
   },
   {
    "duration": 26,
    "start_time": "2024-05-30T13:54:01.093Z"
   },
   {
    "duration": 31,
    "start_time": "2024-05-30T13:54:01.121Z"
   },
   {
    "duration": 23,
    "start_time": "2024-05-30T13:54:01.153Z"
   },
   {
    "duration": 470,
    "start_time": "2024-05-30T13:54:01.177Z"
   },
   {
    "duration": 239,
    "start_time": "2024-05-30T13:54:01.648Z"
   },
   {
    "duration": 310,
    "start_time": "2024-05-30T13:54:01.889Z"
   },
   {
    "duration": 162,
    "start_time": "2024-05-30T13:54:02.201Z"
   },
   {
    "duration": 334,
    "start_time": "2024-05-30T13:54:02.365Z"
   },
   {
    "duration": 92,
    "start_time": "2024-05-30T13:54:02.700Z"
   },
   {
    "duration": 0,
    "start_time": "2024-05-30T13:54:02.793Z"
   },
   {
    "duration": 0,
    "start_time": "2024-05-30T13:54:02.794Z"
   },
   {
    "duration": 0,
    "start_time": "2024-05-30T13:54:02.795Z"
   },
   {
    "duration": 0,
    "start_time": "2024-05-30T13:54:02.796Z"
   },
   {
    "duration": 0,
    "start_time": "2024-05-30T13:54:02.797Z"
   },
   {
    "duration": 0,
    "start_time": "2024-05-30T13:54:02.798Z"
   },
   {
    "duration": 0,
    "start_time": "2024-05-30T13:54:02.799Z"
   },
   {
    "duration": 0,
    "start_time": "2024-05-30T13:54:02.799Z"
   },
   {
    "duration": 0,
    "start_time": "2024-05-30T13:54:02.800Z"
   },
   {
    "duration": 0,
    "start_time": "2024-05-30T13:54:02.801Z"
   },
   {
    "duration": 0,
    "start_time": "2024-05-30T13:54:02.802Z"
   },
   {
    "duration": 0,
    "start_time": "2024-05-30T13:54:02.803Z"
   },
   {
    "duration": 0,
    "start_time": "2024-05-30T13:54:02.803Z"
   },
   {
    "duration": 74,
    "start_time": "2024-05-30T13:54:24.484Z"
   },
   {
    "duration": 6,
    "start_time": "2024-05-30T13:55:44.706Z"
   },
   {
    "duration": 31,
    "start_time": "2024-05-30T13:58:56.401Z"
   },
   {
    "duration": 10,
    "start_time": "2024-05-30T13:58:58.769Z"
   },
   {
    "duration": 6,
    "start_time": "2024-05-30T13:59:06.668Z"
   },
   {
    "duration": 3,
    "start_time": "2024-05-30T13:59:08.145Z"
   },
   {
    "duration": 11,
    "start_time": "2024-05-30T13:59:09.169Z"
   },
   {
    "duration": 449,
    "start_time": "2024-05-30T13:59:10.170Z"
   },
   {
    "duration": 401,
    "start_time": "2024-05-30T13:59:11.321Z"
   },
   {
    "duration": 16,
    "start_time": "2024-05-30T13:59:14.224Z"
   },
   {
    "duration": 73,
    "start_time": "2024-05-30T14:08:22.103Z"
   },
   {
    "duration": 296,
    "start_time": "2024-05-30T14:08:42.161Z"
   },
   {
    "duration": 10,
    "start_time": "2024-05-30T14:10:59.681Z"
   },
   {
    "duration": 11,
    "start_time": "2024-05-30T14:11:18.954Z"
   },
   {
    "duration": 9,
    "start_time": "2024-05-30T14:11:24.877Z"
   },
   {
    "duration": 6,
    "start_time": "2024-05-30T14:11:43.098Z"
   },
   {
    "duration": 7,
    "start_time": "2024-05-30T14:12:04.285Z"
   },
   {
    "duration": 20,
    "start_time": "2024-05-30T14:12:45.118Z"
   },
   {
    "duration": 13,
    "start_time": "2024-05-30T14:12:59.784Z"
   },
   {
    "duration": 5,
    "start_time": "2024-05-30T14:14:42.004Z"
   },
   {
    "duration": 6,
    "start_time": "2024-05-30T14:14:57.843Z"
   },
   {
    "duration": 18,
    "start_time": "2024-05-30T14:15:19.085Z"
   },
   {
    "duration": 10,
    "start_time": "2024-05-30T14:15:36.966Z"
   },
   {
    "duration": 447,
    "start_time": "2024-05-31T06:28:48.232Z"
   },
   {
    "duration": 538,
    "start_time": "2024-05-31T06:28:48.680Z"
   },
   {
    "duration": 36,
    "start_time": "2024-05-31T06:28:49.219Z"
   },
   {
    "duration": 27,
    "start_time": "2024-05-31T06:28:49.258Z"
   },
   {
    "duration": 10,
    "start_time": "2024-05-31T06:28:49.288Z"
   },
   {
    "duration": 39,
    "start_time": "2024-05-31T06:28:49.300Z"
   },
   {
    "duration": 5,
    "start_time": "2024-05-31T06:28:49.341Z"
   },
   {
    "duration": 832,
    "start_time": "2024-05-31T06:28:49.347Z"
   },
   {
    "duration": 206,
    "start_time": "2024-05-31T06:28:50.181Z"
   },
   {
    "duration": 390,
    "start_time": "2024-05-31T06:28:50.389Z"
   },
   {
    "duration": 275,
    "start_time": "2024-05-31T06:28:50.781Z"
   },
   {
    "duration": 335,
    "start_time": "2024-05-31T06:28:51.057Z"
   },
   {
    "duration": 28,
    "start_time": "2024-05-31T06:28:51.394Z"
   },
   {
    "duration": 8,
    "start_time": "2024-05-31T06:28:51.423Z"
   },
   {
    "duration": 26,
    "start_time": "2024-05-31T06:28:51.433Z"
   },
   {
    "duration": 5,
    "start_time": "2024-05-31T06:28:51.461Z"
   },
   {
    "duration": 23,
    "start_time": "2024-05-31T06:28:51.467Z"
   },
   {
    "duration": 603,
    "start_time": "2024-05-31T06:28:51.493Z"
   },
   {
    "duration": 519,
    "start_time": "2024-05-31T06:28:52.098Z"
   },
   {
    "duration": 340,
    "start_time": "2024-05-31T06:28:52.620Z"
   },
   {
    "duration": 509,
    "start_time": "2024-05-31T06:28:52.962Z"
   },
   {
    "duration": 8,
    "start_time": "2024-05-31T06:28:53.473Z"
   },
   {
    "duration": 15,
    "start_time": "2024-05-31T06:28:53.483Z"
   },
   {
    "duration": 9,
    "start_time": "2024-05-31T06:55:27.762Z"
   },
   {
    "duration": 20,
    "start_time": "2024-05-31T06:59:49.544Z"
   },
   {
    "duration": 19,
    "start_time": "2024-05-31T08:52:06.856Z"
   },
   {
    "duration": 13,
    "start_time": "2024-05-31T09:30:28.945Z"
   },
   {
    "duration": 10,
    "start_time": "2024-05-31T09:32:37.404Z"
   },
   {
    "duration": 11,
    "start_time": "2024-05-31T09:37:27.434Z"
   },
   {
    "duration": 13,
    "start_time": "2024-05-31T11:17:52.531Z"
   },
   {
    "duration": 122,
    "start_time": "2024-05-31T11:19:20.508Z"
   },
   {
    "duration": 31,
    "start_time": "2024-05-31T11:19:26.107Z"
   },
   {
    "duration": 30,
    "start_time": "2024-05-31T11:20:17.178Z"
   },
   {
    "duration": 11,
    "start_time": "2024-05-31T11:20:28.635Z"
   },
   {
    "duration": 7,
    "start_time": "2024-05-31T11:20:40.772Z"
   },
   {
    "duration": 25,
    "start_time": "2024-05-31T11:20:45.140Z"
   },
   {
    "duration": 537,
    "start_time": "2024-05-31T11:20:55.260Z"
   },
   {
    "duration": 483,
    "start_time": "2024-05-31T11:20:59.632Z"
   },
   {
    "duration": 290,
    "start_time": "2024-05-31T11:21:04.498Z"
   },
   {
    "duration": 14,
    "start_time": "2024-05-31T12:11:52.749Z"
   },
   {
    "duration": 8,
    "start_time": "2024-05-31T12:12:21.946Z"
   },
   {
    "duration": 21,
    "start_time": "2024-05-31T12:12:24.798Z"
   },
   {
    "duration": 533,
    "start_time": "2024-05-31T12:13:32.329Z"
   },
   {
    "duration": 604,
    "start_time": "2024-05-31T12:13:34.506Z"
   },
   {
    "duration": 281,
    "start_time": "2024-05-31T12:23:07.326Z"
   },
   {
    "duration": 11,
    "start_time": "2024-05-31T12:23:18.452Z"
   },
   {
    "duration": 11,
    "start_time": "2024-05-31T12:24:49.676Z"
   },
   {
    "duration": 12,
    "start_time": "2024-05-31T12:33:11.523Z"
   },
   {
    "duration": 4,
    "start_time": "2024-05-31T12:33:42.180Z"
   },
   {
    "duration": 10,
    "start_time": "2024-05-31T12:33:47.827Z"
   },
   {
    "duration": 422,
    "start_time": "2024-05-31T12:35:22.360Z"
   },
   {
    "duration": 68,
    "start_time": "2024-05-31T12:35:22.784Z"
   },
   {
    "duration": 37,
    "start_time": "2024-05-31T12:35:22.854Z"
   },
   {
    "duration": 16,
    "start_time": "2024-05-31T12:35:22.892Z"
   },
   {
    "duration": 8,
    "start_time": "2024-05-31T12:35:22.910Z"
   },
   {
    "duration": 40,
    "start_time": "2024-05-31T12:35:22.919Z"
   },
   {
    "duration": 5,
    "start_time": "2024-05-31T12:35:22.961Z"
   },
   {
    "duration": 568,
    "start_time": "2024-05-31T12:35:22.967Z"
   },
   {
    "duration": 230,
    "start_time": "2024-05-31T12:35:23.537Z"
   },
   {
    "duration": 352,
    "start_time": "2024-05-31T12:35:23.768Z"
   },
   {
    "duration": 186,
    "start_time": "2024-05-31T12:35:24.122Z"
   },
   {
    "duration": 388,
    "start_time": "2024-05-31T12:35:24.310Z"
   },
   {
    "duration": 30,
    "start_time": "2024-05-31T12:35:24.700Z"
   },
   {
    "duration": 91,
    "start_time": "2024-05-31T12:35:24.732Z"
   },
   {
    "duration": 0,
    "start_time": "2024-05-31T12:35:24.825Z"
   },
   {
    "duration": 0,
    "start_time": "2024-05-31T12:35:24.826Z"
   },
   {
    "duration": 0,
    "start_time": "2024-05-31T12:35:24.827Z"
   },
   {
    "duration": 0,
    "start_time": "2024-05-31T12:35:24.828Z"
   },
   {
    "duration": 0,
    "start_time": "2024-05-31T12:35:24.830Z"
   },
   {
    "duration": 0,
    "start_time": "2024-05-31T12:35:24.831Z"
   },
   {
    "duration": 0,
    "start_time": "2024-05-31T12:35:24.831Z"
   },
   {
    "duration": 0,
    "start_time": "2024-05-31T12:35:24.833Z"
   },
   {
    "duration": 410,
    "start_time": "2024-05-31T18:29:20.765Z"
   },
   {
    "duration": 350,
    "start_time": "2024-05-31T18:29:21.176Z"
   },
   {
    "duration": 36,
    "start_time": "2024-05-31T18:29:21.528Z"
   },
   {
    "duration": 14,
    "start_time": "2024-05-31T18:29:21.566Z"
   },
   {
    "duration": 11,
    "start_time": "2024-05-31T18:29:21.582Z"
   },
   {
    "duration": 18,
    "start_time": "2024-05-31T18:29:21.594Z"
   },
   {
    "duration": 5,
    "start_time": "2024-05-31T18:29:21.613Z"
   },
   {
    "duration": 602,
    "start_time": "2024-05-31T18:29:21.619Z"
   },
   {
    "duration": 240,
    "start_time": "2024-05-31T18:29:22.223Z"
   },
   {
    "duration": 342,
    "start_time": "2024-05-31T18:29:22.466Z"
   },
   {
    "duration": 189,
    "start_time": "2024-05-31T18:29:22.809Z"
   },
   {
    "duration": 414,
    "start_time": "2024-05-31T18:29:23.000Z"
   },
   {
    "duration": 31,
    "start_time": "2024-05-31T18:29:23.415Z"
   },
   {
    "duration": 71,
    "start_time": "2024-05-31T18:29:23.456Z"
   },
   {
    "duration": 0,
    "start_time": "2024-05-31T18:29:23.529Z"
   },
   {
    "duration": 0,
    "start_time": "2024-05-31T18:29:23.530Z"
   },
   {
    "duration": 0,
    "start_time": "2024-05-31T18:29:23.531Z"
   },
   {
    "duration": 0,
    "start_time": "2024-05-31T18:29:23.533Z"
   },
   {
    "duration": 0,
    "start_time": "2024-05-31T18:29:23.534Z"
   },
   {
    "duration": 0,
    "start_time": "2024-05-31T18:29:23.535Z"
   },
   {
    "duration": 0,
    "start_time": "2024-05-31T18:29:23.536Z"
   },
   {
    "duration": 0,
    "start_time": "2024-05-31T18:29:23.555Z"
   },
   {
    "duration": 12,
    "start_time": "2024-05-31T18:29:40.102Z"
   },
   {
    "duration": 48,
    "start_time": "2024-06-01T07:16:39.890Z"
   },
   {
    "duration": 8,
    "start_time": "2024-06-01T07:16:45.774Z"
   },
   {
    "duration": 7,
    "start_time": "2024-06-01T07:16:51.189Z"
   },
   {
    "duration": 441,
    "start_time": "2024-06-01T07:17:02.797Z"
   },
   {
    "duration": 309,
    "start_time": "2024-06-01T07:17:04.176Z"
   },
   {
    "duration": 34,
    "start_time": "2024-06-01T07:17:04.926Z"
   },
   {
    "duration": 14,
    "start_time": "2024-06-01T07:17:06.382Z"
   },
   {
    "duration": 12,
    "start_time": "2024-06-01T07:17:07.071Z"
   },
   {
    "duration": 18,
    "start_time": "2024-06-01T07:17:07.975Z"
   },
   {
    "duration": 6,
    "start_time": "2024-06-01T07:17:10.241Z"
   },
   {
    "duration": 770,
    "start_time": "2024-06-01T07:17:12.514Z"
   },
   {
    "duration": 220,
    "start_time": "2024-06-01T07:17:14.857Z"
   },
   {
    "duration": 380,
    "start_time": "2024-06-01T07:17:16.484Z"
   },
   {
    "duration": 247,
    "start_time": "2024-06-01T07:17:20.701Z"
   },
   {
    "duration": 351,
    "start_time": "2024-06-01T07:17:23.304Z"
   },
   {
    "duration": 31,
    "start_time": "2024-06-01T07:17:25.750Z"
   },
   {
    "duration": 39,
    "start_time": "2024-06-01T07:17:28.099Z"
   },
   {
    "duration": 7,
    "start_time": "2024-06-01T07:18:07.046Z"
   },
   {
    "duration": 9,
    "start_time": "2024-06-01T07:18:09.283Z"
   },
   {
    "duration": 420,
    "start_time": "2024-06-01T07:18:18.451Z"
   },
   {
    "duration": 70,
    "start_time": "2024-06-01T07:18:18.873Z"
   },
   {
    "duration": 34,
    "start_time": "2024-06-01T07:18:18.946Z"
   },
   {
    "duration": 14,
    "start_time": "2024-06-01T07:18:18.981Z"
   },
   {
    "duration": 13,
    "start_time": "2024-06-01T07:18:18.996Z"
   },
   {
    "duration": 18,
    "start_time": "2024-06-01T07:18:19.011Z"
   },
   {
    "duration": 4,
    "start_time": "2024-06-01T07:18:19.056Z"
   },
   {
    "duration": 548,
    "start_time": "2024-06-01T07:18:19.062Z"
   },
   {
    "duration": 251,
    "start_time": "2024-06-01T07:18:19.614Z"
   },
   {
    "duration": 415,
    "start_time": "2024-06-01T07:18:19.867Z"
   },
   {
    "duration": 192,
    "start_time": "2024-06-01T07:18:20.285Z"
   },
   {
    "duration": 381,
    "start_time": "2024-06-01T07:18:20.479Z"
   },
   {
    "duration": 29,
    "start_time": "2024-06-01T07:18:20.862Z"
   },
   {
    "duration": 106,
    "start_time": "2024-06-01T07:18:20.892Z"
   },
   {
    "duration": 0,
    "start_time": "2024-06-01T07:18:21.000Z"
   },
   {
    "duration": 0,
    "start_time": "2024-06-01T07:18:21.001Z"
   },
   {
    "duration": 0,
    "start_time": "2024-06-01T07:18:21.002Z"
   },
   {
    "duration": 0,
    "start_time": "2024-06-01T07:18:21.003Z"
   },
   {
    "duration": 0,
    "start_time": "2024-06-01T07:18:21.004Z"
   },
   {
    "duration": 0,
    "start_time": "2024-06-01T07:18:21.005Z"
   },
   {
    "duration": 0,
    "start_time": "2024-06-01T07:18:21.006Z"
   },
   {
    "duration": 0,
    "start_time": "2024-06-01T07:18:21.007Z"
   },
   {
    "duration": 8,
    "start_time": "2024-06-01T07:19:21.525Z"
   },
   {
    "duration": 9,
    "start_time": "2024-06-01T07:19:22.323Z"
   },
   {
    "duration": 7,
    "start_time": "2024-06-01T07:19:37.593Z"
   },
   {
    "duration": 8,
    "start_time": "2024-06-01T07:19:53.107Z"
   },
   {
    "duration": 28,
    "start_time": "2024-06-01T07:21:19.545Z"
   },
   {
    "duration": 9,
    "start_time": "2024-06-01T07:21:47.893Z"
   },
   {
    "duration": 20,
    "start_time": "2024-06-01T07:22:11.666Z"
   },
   {
    "duration": 12,
    "start_time": "2024-06-01T07:22:16.687Z"
   },
   {
    "duration": 15,
    "start_time": "2024-06-01T07:22:29.331Z"
   },
   {
    "duration": 12,
    "start_time": "2024-06-01T07:24:47.752Z"
   },
   {
    "duration": 17,
    "start_time": "2024-06-01T07:25:13.463Z"
   },
   {
    "duration": 13,
    "start_time": "2024-06-01T07:25:19.140Z"
   },
   {
    "duration": 487,
    "start_time": "2024-06-01T07:25:20.713Z"
   },
   {
    "duration": 484,
    "start_time": "2024-06-01T07:25:23.025Z"
   },
   {
    "duration": 309,
    "start_time": "2024-06-01T07:25:27.969Z"
   },
   {
    "duration": 491,
    "start_time": "2024-06-01T07:25:30.365Z"
   },
   {
    "duration": 10,
    "start_time": "2024-06-01T07:32:17.112Z"
   },
   {
    "duration": 14,
    "start_time": "2024-06-01T07:32:21.243Z"
   },
   {
    "duration": 750,
    "start_time": "2024-06-01T07:35:38.115Z"
   },
   {
    "duration": 5,
    "start_time": "2024-06-01T07:36:19.731Z"
   },
   {
    "duration": 7,
    "start_time": "2024-06-01T07:36:43.331Z"
   },
   {
    "duration": 5,
    "start_time": "2024-06-01T07:36:50.152Z"
   },
   {
    "duration": 5,
    "start_time": "2024-06-01T07:38:56.402Z"
   },
   {
    "duration": 11,
    "start_time": "2024-06-01T07:38:58.689Z"
   },
   {
    "duration": 5,
    "start_time": "2024-06-01T07:39:35.773Z"
   },
   {
    "duration": 7,
    "start_time": "2024-06-01T07:41:34.336Z"
   },
   {
    "duration": 10,
    "start_time": "2024-06-01T07:41:35.737Z"
   },
   {
    "duration": 15,
    "start_time": "2024-06-01T07:41:36.680Z"
   },
   {
    "duration": 6,
    "start_time": "2024-06-01T07:44:58.135Z"
   },
   {
    "duration": 8,
    "start_time": "2024-06-01T07:45:33.497Z"
   },
   {
    "duration": 14,
    "start_time": "2024-06-01T07:45:40.828Z"
   },
   {
    "duration": 8,
    "start_time": "2024-06-01T07:45:46.644Z"
   },
   {
    "duration": 14,
    "start_time": "2024-06-01T07:46:14.791Z"
   },
   {
    "duration": 18,
    "start_time": "2024-06-01T07:47:45.688Z"
   },
   {
    "duration": 12,
    "start_time": "2024-06-01T07:48:16.487Z"
   },
   {
    "duration": 5,
    "start_time": "2024-06-01T07:48:28.663Z"
   },
   {
    "duration": 37,
    "start_time": "2024-06-01T07:49:34.246Z"
   },
   {
    "duration": 42,
    "start_time": "2024-06-01T07:50:06.920Z"
   },
   {
    "duration": 29,
    "start_time": "2024-06-01T07:50:25.405Z"
   },
   {
    "duration": 29,
    "start_time": "2024-06-01T07:50:41.204Z"
   },
   {
    "duration": 11,
    "start_time": "2024-06-01T07:51:15.613Z"
   },
   {
    "duration": 13,
    "start_time": "2024-06-01T07:51:16.842Z"
   },
   {
    "duration": 15,
    "start_time": "2024-06-01T07:53:20.274Z"
   },
   {
    "duration": 15,
    "start_time": "2024-06-01T07:53:53.757Z"
   },
   {
    "duration": 426,
    "start_time": "2024-06-01T07:53:59.968Z"
   },
   {
    "duration": 72,
    "start_time": "2024-06-01T07:54:00.396Z"
   },
   {
    "duration": 35,
    "start_time": "2024-06-01T07:54:00.469Z"
   },
   {
    "duration": 77,
    "start_time": "2024-06-01T07:54:00.505Z"
   },
   {
    "duration": 67,
    "start_time": "2024-06-01T07:54:00.584Z"
   },
   {
    "duration": 50,
    "start_time": "2024-06-01T07:54:00.653Z"
   },
   {
    "duration": 74,
    "start_time": "2024-06-01T07:54:00.704Z"
   },
   {
    "duration": 638,
    "start_time": "2024-06-01T07:54:00.779Z"
   },
   {
    "duration": 245,
    "start_time": "2024-06-01T07:54:01.419Z"
   },
   {
    "duration": 395,
    "start_time": "2024-06-01T07:54:01.666Z"
   },
   {
    "duration": 187,
    "start_time": "2024-06-01T07:54:02.063Z"
   },
   {
    "duration": 439,
    "start_time": "2024-06-01T07:54:02.255Z"
   },
   {
    "duration": 30,
    "start_time": "2024-06-01T07:54:02.696Z"
   },
   {
    "duration": 20,
    "start_time": "2024-06-01T07:54:02.727Z"
   },
   {
    "duration": 32,
    "start_time": "2024-06-01T07:54:02.749Z"
   },
   {
    "duration": 38,
    "start_time": "2024-06-01T07:54:02.783Z"
   },
   {
    "duration": 484,
    "start_time": "2024-06-01T07:54:02.822Z"
   },
   {
    "duration": 506,
    "start_time": "2024-06-01T07:54:03.307Z"
   },
   {
    "duration": 348,
    "start_time": "2024-06-01T07:54:03.815Z"
   },
   {
    "duration": 532,
    "start_time": "2024-06-01T07:54:04.164Z"
   },
   {
    "duration": 8,
    "start_time": "2024-06-01T07:54:04.698Z"
   },
   {
    "duration": 29,
    "start_time": "2024-06-01T07:54:04.707Z"
   },
   {
    "duration": 77,
    "start_time": "2024-06-01T07:54:14.389Z"
   },
   {
    "duration": 33,
    "start_time": "2024-06-01T07:54:16.471Z"
   },
   {
    "duration": 15,
    "start_time": "2024-06-01T07:54:18.233Z"
   },
   {
    "duration": 8,
    "start_time": "2024-06-01T07:54:18.729Z"
   },
   {
    "duration": 18,
    "start_time": "2024-06-01T07:54:19.168Z"
   },
   {
    "duration": 5,
    "start_time": "2024-06-01T07:54:20.275Z"
   },
   {
    "duration": 331,
    "start_time": "2024-06-01T07:54:21.610Z"
   },
   {
    "duration": 189,
    "start_time": "2024-06-01T07:54:23.890Z"
   },
   {
    "duration": 364,
    "start_time": "2024-06-01T07:54:25.402Z"
   },
   {
    "duration": 200,
    "start_time": "2024-06-01T07:54:29.554Z"
   },
   {
    "duration": 346,
    "start_time": "2024-06-01T07:54:31.877Z"
   },
   {
    "duration": 30,
    "start_time": "2024-06-01T07:54:35.335Z"
   },
   {
    "duration": 8,
    "start_time": "2024-06-01T07:54:40.479Z"
   },
   {
    "duration": 20,
    "start_time": "2024-06-01T07:54:41.466Z"
   },
   {
    "duration": 14,
    "start_time": "2024-06-01T07:54:42.170Z"
   },
   {
    "duration": 494,
    "start_time": "2024-06-01T07:54:43.386Z"
   },
   {
    "duration": 504,
    "start_time": "2024-06-01T07:54:44.076Z"
   },
   {
    "duration": 393,
    "start_time": "2024-06-01T07:54:45.915Z"
   },
   {
    "duration": 29,
    "start_time": "2024-06-01T07:54:47.514Z"
   },
   {
    "duration": 9,
    "start_time": "2024-06-01T07:54:50.249Z"
   },
   {
    "duration": 14,
    "start_time": "2024-06-01T07:54:50.942Z"
   },
   {
    "duration": 413,
    "start_time": "2024-06-01T17:07:25.374Z"
   },
   {
    "duration": 205,
    "start_time": "2024-06-01T17:07:25.789Z"
   },
   {
    "duration": 37,
    "start_time": "2024-06-01T17:07:25.995Z"
   },
   {
    "duration": 16,
    "start_time": "2024-06-01T17:07:26.034Z"
   },
   {
    "duration": 7,
    "start_time": "2024-06-01T17:07:26.052Z"
   },
   {
    "duration": 23,
    "start_time": "2024-06-01T17:07:26.061Z"
   },
   {
    "duration": 9,
    "start_time": "2024-06-01T17:07:26.086Z"
   },
   {
    "duration": 617,
    "start_time": "2024-06-01T17:07:26.096Z"
   },
   {
    "duration": 249,
    "start_time": "2024-06-01T17:07:26.715Z"
   },
   {
    "duration": 396,
    "start_time": "2024-06-01T17:07:26.966Z"
   },
   {
    "duration": 190,
    "start_time": "2024-06-01T17:07:27.364Z"
   },
   {
    "duration": 423,
    "start_time": "2024-06-01T17:07:27.555Z"
   },
   {
    "duration": 32,
    "start_time": "2024-06-01T17:07:27.980Z"
   },
   {
    "duration": 7,
    "start_time": "2024-06-01T17:07:28.014Z"
   },
   {
    "duration": 49,
    "start_time": "2024-06-01T17:07:28.023Z"
   },
   {
    "duration": 13,
    "start_time": "2024-06-01T17:07:28.074Z"
   },
   {
    "duration": 512,
    "start_time": "2024-06-01T17:07:28.089Z"
   },
   {
    "duration": 511,
    "start_time": "2024-06-01T17:07:28.603Z"
   },
   {
    "duration": 312,
    "start_time": "2024-06-01T17:07:29.116Z"
   },
   {
    "duration": 554,
    "start_time": "2024-06-01T17:07:29.430Z"
   },
   {
    "duration": 10,
    "start_time": "2024-06-01T17:07:29.985Z"
   },
   {
    "duration": 50,
    "start_time": "2024-06-01T17:07:29.997Z"
   },
   {
    "duration": 22,
    "start_time": "2024-06-01T17:08:51.438Z"
   },
   {
    "duration": 5,
    "start_time": "2024-06-01T17:09:10.596Z"
   },
   {
    "duration": 286,
    "start_time": "2024-06-02T11:00:00.098Z"
   },
   {
    "duration": 404,
    "start_time": "2024-06-02T11:00:10.954Z"
   },
   {
    "duration": 295,
    "start_time": "2024-06-02T11:00:11.360Z"
   },
   {
    "duration": 36,
    "start_time": "2024-06-02T11:00:11.656Z"
   },
   {
    "duration": 13,
    "start_time": "2024-06-02T11:00:11.695Z"
   },
   {
    "duration": 7,
    "start_time": "2024-06-02T11:00:11.710Z"
   },
   {
    "duration": 16,
    "start_time": "2024-06-02T11:00:11.719Z"
   },
   {
    "duration": 4,
    "start_time": "2024-06-02T11:00:11.737Z"
   },
   {
    "duration": 851,
    "start_time": "2024-06-02T11:00:11.742Z"
   },
   {
    "duration": 213,
    "start_time": "2024-06-02T11:00:12.595Z"
   },
   {
    "duration": 375,
    "start_time": "2024-06-02T11:00:12.811Z"
   },
   {
    "duration": 243,
    "start_time": "2024-06-02T11:00:13.192Z"
   },
   {
    "duration": 347,
    "start_time": "2024-06-02T11:00:13.436Z"
   },
   {
    "duration": 36,
    "start_time": "2024-06-02T11:00:13.785Z"
   },
   {
    "duration": 7,
    "start_time": "2024-06-02T11:00:13.823Z"
   },
   {
    "duration": 23,
    "start_time": "2024-06-02T11:00:13.832Z"
   },
   {
    "duration": 41,
    "start_time": "2024-06-02T11:00:13.857Z"
   },
   {
    "duration": 545,
    "start_time": "2024-06-02T11:00:13.900Z"
   },
   {
    "duration": 573,
    "start_time": "2024-06-02T11:00:14.447Z"
   },
   {
    "duration": 27,
    "start_time": "2024-06-02T11:00:15.022Z"
   },
   {
    "duration": 593,
    "start_time": "2024-06-02T11:00:15.051Z"
   },
   {
    "duration": 7,
    "start_time": "2024-06-02T11:00:15.645Z"
   },
   {
    "duration": 57,
    "start_time": "2024-06-02T11:00:15.653Z"
   },
   {
    "duration": 26,
    "start_time": "2024-06-02T11:01:36.287Z"
   },
   {
    "duration": 18,
    "start_time": "2024-06-02T11:01:51.549Z"
   },
   {
    "duration": 21,
    "start_time": "2024-06-02T11:02:28.034Z"
   },
   {
    "duration": 25,
    "start_time": "2024-06-02T11:08:35.954Z"
   },
   {
    "duration": 25,
    "start_time": "2024-06-02T11:12:01.697Z"
   },
   {
    "duration": 51,
    "start_time": "2024-06-02T11:12:46.482Z"
   },
   {
    "duration": 18,
    "start_time": "2024-06-02T11:15:09.808Z"
   },
   {
    "duration": 26,
    "start_time": "2024-06-02T11:45:55.977Z"
   },
   {
    "duration": 22,
    "start_time": "2024-06-02T11:46:05.587Z"
   },
   {
    "duration": 17,
    "start_time": "2024-06-02T11:46:24.845Z"
   },
   {
    "duration": 15,
    "start_time": "2024-06-02T11:46:35.740Z"
   },
   {
    "duration": 55,
    "start_time": "2024-06-02T11:48:41.953Z"
   },
   {
    "duration": 125,
    "start_time": "2024-06-02T11:52:50.732Z"
   },
   {
    "duration": 17,
    "start_time": "2024-06-02T11:53:03.448Z"
   },
   {
    "duration": 7,
    "start_time": "2024-06-02T11:53:09.549Z"
   },
   {
    "duration": 448,
    "start_time": "2024-06-02T12:31:13.802Z"
   },
   {
    "duration": 68,
    "start_time": "2024-06-02T12:31:14.252Z"
   },
   {
    "duration": 36,
    "start_time": "2024-06-02T12:31:14.321Z"
   },
   {
    "duration": 14,
    "start_time": "2024-06-02T12:31:14.358Z"
   },
   {
    "duration": 18,
    "start_time": "2024-06-02T12:31:14.374Z"
   },
   {
    "duration": 22,
    "start_time": "2024-06-02T12:31:14.393Z"
   },
   {
    "duration": 4,
    "start_time": "2024-06-02T12:31:14.417Z"
   },
   {
    "duration": 555,
    "start_time": "2024-06-02T12:31:14.423Z"
   },
   {
    "duration": 230,
    "start_time": "2024-06-02T12:31:14.979Z"
   },
   {
    "duration": 395,
    "start_time": "2024-06-02T12:31:15.211Z"
   },
   {
    "duration": 183,
    "start_time": "2024-06-02T12:31:15.608Z"
   },
   {
    "duration": 392,
    "start_time": "2024-06-02T12:31:15.793Z"
   },
   {
    "duration": 29,
    "start_time": "2024-06-02T12:31:16.191Z"
   },
   {
    "duration": 7,
    "start_time": "2024-06-02T12:31:16.222Z"
   },
   {
    "duration": 41,
    "start_time": "2024-06-02T12:31:16.230Z"
   },
   {
    "duration": 19,
    "start_time": "2024-06-02T12:31:16.273Z"
   },
   {
    "duration": 520,
    "start_time": "2024-06-02T12:31:16.294Z"
   },
   {
    "duration": 527,
    "start_time": "2024-06-02T12:31:16.816Z"
   },
   {
    "duration": 81,
    "start_time": "2024-06-02T12:31:17.345Z"
   },
   {
    "duration": 0,
    "start_time": "2024-06-02T12:31:17.428Z"
   },
   {
    "duration": 0,
    "start_time": "2024-06-02T12:31:17.429Z"
   },
   {
    "duration": 0,
    "start_time": "2024-06-02T12:31:17.430Z"
   },
   {
    "duration": 396,
    "start_time": "2024-06-02T19:43:26.364Z"
   },
   {
    "duration": 207,
    "start_time": "2024-06-02T19:43:26.762Z"
   },
   {
    "duration": 34,
    "start_time": "2024-06-02T19:43:26.973Z"
   },
   {
    "duration": 14,
    "start_time": "2024-06-02T19:43:27.010Z"
   },
   {
    "duration": 20,
    "start_time": "2024-06-02T19:43:27.026Z"
   },
   {
    "duration": 26,
    "start_time": "2024-06-02T19:43:27.048Z"
   },
   {
    "duration": 13,
    "start_time": "2024-06-02T19:43:27.075Z"
   },
   {
    "duration": 765,
    "start_time": "2024-06-02T19:43:27.090Z"
   },
   {
    "duration": 208,
    "start_time": "2024-06-02T19:43:27.856Z"
   },
   {
    "duration": 373,
    "start_time": "2024-06-02T19:43:28.066Z"
   },
   {
    "duration": 235,
    "start_time": "2024-06-02T19:43:28.446Z"
   },
   {
    "duration": 346,
    "start_time": "2024-06-02T19:43:28.682Z"
   },
   {
    "duration": 39,
    "start_time": "2024-06-02T19:43:29.030Z"
   },
   {
    "duration": 7,
    "start_time": "2024-06-02T19:43:29.070Z"
   },
   {
    "duration": 42,
    "start_time": "2024-06-02T19:43:29.079Z"
   },
   {
    "duration": 25,
    "start_time": "2024-06-02T19:43:29.123Z"
   },
   {
    "duration": 517,
    "start_time": "2024-06-02T19:43:29.150Z"
   },
   {
    "duration": 505,
    "start_time": "2024-06-02T19:43:29.668Z"
   },
   {
    "duration": 86,
    "start_time": "2024-06-02T19:43:30.175Z"
   },
   {
    "duration": 0,
    "start_time": "2024-06-02T19:43:30.262Z"
   },
   {
    "duration": 0,
    "start_time": "2024-06-02T19:43:30.264Z"
   },
   {
    "duration": 0,
    "start_time": "2024-06-02T19:43:30.265Z"
   },
   {
    "duration": 236,
    "start_time": "2024-06-03T07:30:40.386Z"
   },
   {
    "duration": 157,
    "start_time": "2024-06-03T07:31:04.031Z"
   },
   {
    "duration": 204,
    "start_time": "2024-06-03T07:31:05.128Z"
   },
   {
    "duration": 32,
    "start_time": "2024-06-03T07:31:05.544Z"
   },
   {
    "duration": 17,
    "start_time": "2024-06-03T07:31:06.999Z"
   },
   {
    "duration": 8,
    "start_time": "2024-06-03T07:31:07.653Z"
   },
   {
    "duration": 15,
    "start_time": "2024-06-03T07:31:08.293Z"
   },
   {
    "duration": 5,
    "start_time": "2024-06-03T07:31:09.699Z"
   },
   {
    "duration": 754,
    "start_time": "2024-06-03T07:31:11.293Z"
   },
   {
    "duration": 183,
    "start_time": "2024-06-03T07:31:13.565Z"
   },
   {
    "duration": 333,
    "start_time": "2024-06-03T07:31:15.073Z"
   },
   {
    "duration": 207,
    "start_time": "2024-06-03T07:31:19.173Z"
   },
   {
    "duration": 330,
    "start_time": "2024-06-03T07:31:21.518Z"
   },
   {
    "duration": 30,
    "start_time": "2024-06-03T07:31:23.275Z"
   },
   {
    "duration": 7,
    "start_time": "2024-06-03T07:31:27.653Z"
   },
   {
    "duration": 19,
    "start_time": "2024-06-03T07:31:28.610Z"
   },
   {
    "duration": 11,
    "start_time": "2024-06-03T07:31:29.580Z"
   },
   {
    "duration": 442,
    "start_time": "2024-06-03T07:31:31.047Z"
   },
   {
    "duration": 457,
    "start_time": "2024-06-03T07:31:32.628Z"
   },
   {
    "duration": 33,
    "start_time": "2024-06-03T07:31:38.071Z"
   },
   {
    "duration": 13,
    "start_time": "2024-06-03T07:32:09.818Z"
   },
   {
    "duration": 9,
    "start_time": "2024-06-03T07:32:20.595Z"
   },
   {
    "duration": 480,
    "start_time": "2024-06-03T07:32:25.265Z"
   },
   {
    "duration": 45,
    "start_time": "2024-06-03T07:32:47.552Z"
   },
   {
    "duration": 11,
    "start_time": "2024-06-03T07:32:50.333Z"
   },
   {
    "duration": 8,
    "start_time": "2024-06-03T07:54:21.422Z"
   },
   {
    "duration": 11,
    "start_time": "2024-06-03T07:55:09.040Z"
   },
   {
    "duration": 12,
    "start_time": "2024-06-03T07:55:16.558Z"
   },
   {
    "duration": 10,
    "start_time": "2024-06-03T07:55:32.209Z"
   },
   {
    "duration": 8,
    "start_time": "2024-06-03T07:56:25.439Z"
   },
   {
    "duration": 7,
    "start_time": "2024-06-03T07:56:29.842Z"
   },
   {
    "duration": 11,
    "start_time": "2024-06-03T07:56:42.514Z"
   },
   {
    "duration": 411,
    "start_time": "2024-06-03T07:57:27.010Z"
   },
   {
    "duration": 68,
    "start_time": "2024-06-03T07:57:27.422Z"
   },
   {
    "duration": 31,
    "start_time": "2024-06-03T07:57:27.491Z"
   },
   {
    "duration": 21,
    "start_time": "2024-06-03T07:57:27.523Z"
   },
   {
    "duration": 8,
    "start_time": "2024-06-03T07:57:27.545Z"
   },
   {
    "duration": 23,
    "start_time": "2024-06-03T07:57:27.555Z"
   },
   {
    "duration": 22,
    "start_time": "2024-06-03T07:57:27.579Z"
   },
   {
    "duration": 1270,
    "start_time": "2024-06-03T07:57:27.602Z"
   },
   {
    "duration": 189,
    "start_time": "2024-06-03T07:57:28.873Z"
   },
   {
    "duration": 309,
    "start_time": "2024-06-03T07:57:29.064Z"
   },
   {
    "duration": 183,
    "start_time": "2024-06-03T07:57:29.374Z"
   },
   {
    "duration": 403,
    "start_time": "2024-06-03T07:57:29.559Z"
   },
   {
    "duration": 28,
    "start_time": "2024-06-03T07:57:29.964Z"
   },
   {
    "duration": 100,
    "start_time": "2024-06-03T07:57:29.994Z"
   },
   {
    "duration": 68,
    "start_time": "2024-06-03T07:57:30.096Z"
   },
   {
    "duration": 42,
    "start_time": "2024-06-03T07:57:30.166Z"
   },
   {
    "duration": 488,
    "start_time": "2024-06-03T07:57:30.210Z"
   },
   {
    "duration": 492,
    "start_time": "2024-06-03T07:57:30.699Z"
   },
   {
    "duration": 79,
    "start_time": "2024-06-03T07:57:31.192Z"
   },
   {
    "duration": 0,
    "start_time": "2024-06-03T07:57:31.272Z"
   },
   {
    "duration": 0,
    "start_time": "2024-06-03T07:57:31.273Z"
   },
   {
    "duration": 0,
    "start_time": "2024-06-03T07:57:31.274Z"
   },
   {
    "duration": 10,
    "start_time": "2024-06-03T07:59:29.452Z"
   },
   {
    "duration": 390,
    "start_time": "2024-06-03T08:00:18.565Z"
   },
   {
    "duration": 350,
    "start_time": "2024-06-03T08:01:46.416Z"
   },
   {
    "duration": 401,
    "start_time": "2024-06-03T08:01:54.545Z"
   },
   {
    "duration": 3,
    "start_time": "2024-06-03T08:02:25.677Z"
   },
   {
    "duration": 3,
    "start_time": "2024-06-03T08:02:30.979Z"
   },
   {
    "duration": 379,
    "start_time": "2024-06-03T08:02:42.679Z"
   },
   {
    "duration": 354,
    "start_time": "2024-06-03T08:25:22.791Z"
   },
   {
    "duration": 20,
    "start_time": "2024-06-03T08:48:41.988Z"
   },
   {
    "duration": 22,
    "start_time": "2024-06-03T08:55:45.717Z"
   },
   {
    "duration": 56,
    "start_time": "2024-06-03T09:05:21.383Z"
   },
   {
    "duration": 22,
    "start_time": "2024-06-03T09:05:53.695Z"
   },
   {
    "duration": 20,
    "start_time": "2024-06-03T09:06:10.807Z"
   },
   {
    "duration": 23,
    "start_time": "2024-06-03T09:06:15.694Z"
   },
   {
    "duration": 23,
    "start_time": "2024-06-03T09:09:40.038Z"
   },
   {
    "duration": 27,
    "start_time": "2024-06-03T09:10:16.152Z"
   },
   {
    "duration": 390,
    "start_time": "2024-06-03T09:11:06.274Z"
   },
   {
    "duration": 70,
    "start_time": "2024-06-03T09:11:06.666Z"
   },
   {
    "duration": 31,
    "start_time": "2024-06-03T09:11:06.737Z"
   },
   {
    "duration": 12,
    "start_time": "2024-06-03T09:11:06.770Z"
   },
   {
    "duration": 15,
    "start_time": "2024-06-03T09:11:06.784Z"
   },
   {
    "duration": 17,
    "start_time": "2024-06-03T09:11:06.800Z"
   },
   {
    "duration": 12,
    "start_time": "2024-06-03T09:11:06.818Z"
   },
   {
    "duration": 547,
    "start_time": "2024-06-03T09:11:06.831Z"
   },
   {
    "duration": 200,
    "start_time": "2024-06-03T09:11:07.379Z"
   },
   {
    "duration": 368,
    "start_time": "2024-06-03T09:11:07.582Z"
   },
   {
    "duration": 180,
    "start_time": "2024-06-03T09:11:07.952Z"
   },
   {
    "duration": 395,
    "start_time": "2024-06-03T09:11:08.134Z"
   },
   {
    "duration": 37,
    "start_time": "2024-06-03T09:11:08.531Z"
   },
   {
    "duration": 6,
    "start_time": "2024-06-03T09:11:08.570Z"
   },
   {
    "duration": 48,
    "start_time": "2024-06-03T09:11:08.577Z"
   },
   {
    "duration": 16,
    "start_time": "2024-06-03T09:11:08.627Z"
   },
   {
    "duration": 507,
    "start_time": "2024-06-03T09:11:08.644Z"
   },
   {
    "duration": 468,
    "start_time": "2024-06-03T09:11:09.153Z"
   },
   {
    "duration": 389,
    "start_time": "2024-06-03T09:11:09.622Z"
   },
   {
    "duration": 513,
    "start_time": "2024-06-03T09:11:10.012Z"
   },
   {
    "duration": 8,
    "start_time": "2024-06-03T09:11:10.527Z"
   },
   {
    "duration": 12,
    "start_time": "2024-06-03T09:11:10.545Z"
   },
   {
    "duration": 371,
    "start_time": "2024-06-03T13:33:21.317Z"
   },
   {
    "duration": 214,
    "start_time": "2024-06-03T13:33:21.690Z"
   },
   {
    "duration": 42,
    "start_time": "2024-06-03T13:33:21.906Z"
   },
   {
    "duration": 19,
    "start_time": "2024-06-03T13:33:21.950Z"
   },
   {
    "duration": 26,
    "start_time": "2024-06-03T13:33:21.971Z"
   },
   {
    "duration": 60,
    "start_time": "2024-06-03T13:33:21.999Z"
   },
   {
    "duration": 6,
    "start_time": "2024-06-03T13:33:22.062Z"
   },
   {
    "duration": 801,
    "start_time": "2024-06-03T13:33:22.069Z"
   },
   {
    "duration": 209,
    "start_time": "2024-06-03T13:33:22.872Z"
   },
   {
    "duration": 377,
    "start_time": "2024-06-03T13:33:23.084Z"
   },
   {
    "duration": 247,
    "start_time": "2024-06-03T13:33:23.462Z"
   },
   {
    "duration": 368,
    "start_time": "2024-06-03T13:33:23.711Z"
   },
   {
    "duration": 33,
    "start_time": "2024-06-03T13:33:24.081Z"
   },
   {
    "duration": 17,
    "start_time": "2024-06-03T13:33:24.116Z"
   },
   {
    "duration": 103,
    "start_time": "2024-06-03T13:33:24.135Z"
   },
   {
    "duration": 14,
    "start_time": "2024-06-03T13:33:24.240Z"
   },
   {
    "duration": 461,
    "start_time": "2024-06-03T13:33:24.255Z"
   },
   {
    "duration": 526,
    "start_time": "2024-06-03T13:33:24.761Z"
   },
   {
    "duration": 399,
    "start_time": "2024-06-03T13:33:25.289Z"
   },
   {
    "duration": 513,
    "start_time": "2024-06-03T13:33:25.690Z"
   },
   {
    "duration": 9,
    "start_time": "2024-06-03T13:33:26.205Z"
   },
   {
    "duration": 33,
    "start_time": "2024-06-03T13:33:26.216Z"
   },
   {
    "duration": 27,
    "start_time": "2024-06-03T13:34:36.358Z"
   },
   {
    "duration": 29,
    "start_time": "2024-06-03T13:35:02.848Z"
   },
   {
    "duration": 24,
    "start_time": "2024-06-03T13:35:08.480Z"
   },
   {
    "duration": 441,
    "start_time": "2024-06-03T13:35:44.236Z"
   },
   {
    "duration": 72,
    "start_time": "2024-06-03T13:35:44.679Z"
   },
   {
    "duration": 37,
    "start_time": "2024-06-03T13:35:44.752Z"
   },
   {
    "duration": 14,
    "start_time": "2024-06-03T13:35:44.791Z"
   },
   {
    "duration": 11,
    "start_time": "2024-06-03T13:35:44.807Z"
   },
   {
    "duration": 42,
    "start_time": "2024-06-03T13:35:44.819Z"
   },
   {
    "duration": 13,
    "start_time": "2024-06-03T13:35:44.863Z"
   },
   {
    "duration": 570,
    "start_time": "2024-06-03T13:35:44.878Z"
   },
   {
    "duration": 237,
    "start_time": "2024-06-03T13:35:45.450Z"
   },
   {
    "duration": 391,
    "start_time": "2024-06-03T13:35:45.690Z"
   },
   {
    "duration": 199,
    "start_time": "2024-06-03T13:35:46.084Z"
   },
   {
    "duration": 402,
    "start_time": "2024-06-03T13:35:46.285Z"
   },
   {
    "duration": 35,
    "start_time": "2024-06-03T13:35:46.689Z"
   },
   {
    "duration": 10,
    "start_time": "2024-06-03T13:35:46.726Z"
   },
   {
    "duration": 42,
    "start_time": "2024-06-03T13:35:46.738Z"
   },
   {
    "duration": 13,
    "start_time": "2024-06-03T13:35:46.782Z"
   },
   {
    "duration": 605,
    "start_time": "2024-06-03T13:35:46.797Z"
   },
   {
    "duration": 510,
    "start_time": "2024-06-03T13:35:47.404Z"
   },
   {
    "duration": 414,
    "start_time": "2024-06-03T13:35:47.915Z"
   },
   {
    "duration": 558,
    "start_time": "2024-06-03T13:35:48.331Z"
   },
   {
    "duration": 29,
    "start_time": "2024-06-03T13:35:48.891Z"
   },
   {
    "duration": 25,
    "start_time": "2024-06-03T13:35:48.921Z"
   },
   {
    "duration": 76,
    "start_time": "2024-06-03T13:35:48.948Z"
   },
   {
    "duration": 23,
    "start_time": "2024-06-03T13:38:23.086Z"
   },
   {
    "duration": 7,
    "start_time": "2024-06-03T13:38:59.023Z"
   },
   {
    "duration": 9,
    "start_time": "2024-06-03T13:40:05.882Z"
   },
   {
    "duration": 33,
    "start_time": "2024-06-03T13:41:13.870Z"
   },
   {
    "duration": 646,
    "start_time": "2024-06-03T14:25:01.832Z"
   },
   {
    "duration": 8,
    "start_time": "2024-06-03T14:25:12.908Z"
   },
   {
    "duration": 404,
    "start_time": "2024-06-03T14:25:23.565Z"
   },
   {
    "duration": 315,
    "start_time": "2024-06-03T14:25:23.971Z"
   },
   {
    "duration": 31,
    "start_time": "2024-06-03T14:25:24.287Z"
   },
   {
    "duration": 11,
    "start_time": "2024-06-03T14:25:24.320Z"
   },
   {
    "duration": 6,
    "start_time": "2024-06-03T14:25:24.333Z"
   },
   {
    "duration": 14,
    "start_time": "2024-06-03T14:25:24.340Z"
   },
   {
    "duration": 3,
    "start_time": "2024-06-03T14:25:24.356Z"
   },
   {
    "duration": 739,
    "start_time": "2024-06-03T14:25:24.361Z"
   },
   {
    "duration": 206,
    "start_time": "2024-06-03T14:25:25.103Z"
   },
   {
    "duration": 308,
    "start_time": "2024-06-03T14:25:25.312Z"
   },
   {
    "duration": 213,
    "start_time": "2024-06-03T14:25:25.622Z"
   },
   {
    "duration": 344,
    "start_time": "2024-06-03T14:25:25.837Z"
   },
   {
    "duration": 32,
    "start_time": "2024-06-03T14:25:26.182Z"
   },
   {
    "duration": 7,
    "start_time": "2024-06-03T14:25:26.215Z"
   },
   {
    "duration": 18,
    "start_time": "2024-06-03T14:25:26.223Z"
   },
   {
    "duration": 11,
    "start_time": "2024-06-03T14:25:26.243Z"
   },
   {
    "duration": 481,
    "start_time": "2024-06-03T14:25:26.255Z"
   },
   {
    "duration": 481,
    "start_time": "2024-06-03T14:25:26.737Z"
   },
   {
    "duration": 376,
    "start_time": "2024-06-03T14:25:27.219Z"
   },
   {
    "duration": 481,
    "start_time": "2024-06-03T14:25:27.597Z"
   },
   {
    "duration": 91,
    "start_time": "2024-06-03T14:25:28.080Z"
   },
   {
    "duration": 0,
    "start_time": "2024-06-03T14:25:28.172Z"
   },
   {
    "duration": 0,
    "start_time": "2024-06-03T14:25:28.173Z"
   },
   {
    "duration": 9,
    "start_time": "2024-06-03T14:25:35.196Z"
   },
   {
    "duration": 8,
    "start_time": "2024-06-03T14:30:58.228Z"
   },
   {
    "duration": 8,
    "start_time": "2024-06-03T14:31:48.017Z"
   },
   {
    "duration": 27,
    "start_time": "2024-06-03T14:31:54.101Z"
   },
   {
    "duration": 8,
    "start_time": "2024-06-03T14:32:38.727Z"
   },
   {
    "duration": 17,
    "start_time": "2024-06-03T15:31:54.852Z"
   },
   {
    "duration": 30,
    "start_time": "2024-06-03T15:32:02.896Z"
   },
   {
    "duration": 13,
    "start_time": "2024-06-03T15:32:09.980Z"
   },
   {
    "duration": 398,
    "start_time": "2024-06-03T15:32:16.318Z"
   },
   {
    "duration": 71,
    "start_time": "2024-06-03T15:32:16.717Z"
   },
   {
    "duration": 33,
    "start_time": "2024-06-03T15:32:16.789Z"
   },
   {
    "duration": 13,
    "start_time": "2024-06-03T15:32:16.824Z"
   },
   {
    "duration": 7,
    "start_time": "2024-06-03T15:32:16.839Z"
   },
   {
    "duration": 15,
    "start_time": "2024-06-03T15:32:16.848Z"
   },
   {
    "duration": 4,
    "start_time": "2024-06-03T15:32:16.865Z"
   },
   {
    "duration": 598,
    "start_time": "2024-06-03T15:32:16.870Z"
   },
   {
    "duration": 248,
    "start_time": "2024-06-03T15:32:17.470Z"
   },
   {
    "duration": 372,
    "start_time": "2024-06-03T15:32:17.721Z"
   },
   {
    "duration": 175,
    "start_time": "2024-06-03T15:32:18.095Z"
   },
   {
    "duration": 376,
    "start_time": "2024-06-03T15:32:18.272Z"
   },
   {
    "duration": 28,
    "start_time": "2024-06-03T15:32:18.649Z"
   },
   {
    "duration": 9,
    "start_time": "2024-06-03T15:32:18.678Z"
   },
   {
    "duration": 22,
    "start_time": "2024-06-03T15:32:18.699Z"
   },
   {
    "duration": 12,
    "start_time": "2024-06-03T15:32:18.724Z"
   },
   {
    "duration": 512,
    "start_time": "2024-06-03T15:32:18.738Z"
   },
   {
    "duration": 496,
    "start_time": "2024-06-03T15:32:19.252Z"
   },
   {
    "duration": 403,
    "start_time": "2024-06-03T15:32:19.749Z"
   },
   {
    "duration": 608,
    "start_time": "2024-06-03T15:32:20.154Z"
   },
   {
    "duration": 105,
    "start_time": "2024-06-03T15:32:20.764Z"
   },
   {
    "duration": 0,
    "start_time": "2024-06-03T15:32:20.870Z"
   },
   {
    "duration": 0,
    "start_time": "2024-06-03T15:32:20.871Z"
   },
   {
    "duration": 15,
    "start_time": "2024-06-03T15:32:51.099Z"
   },
   {
    "duration": 15,
    "start_time": "2024-06-03T15:33:40.000Z"
   },
   {
    "duration": 17,
    "start_time": "2024-06-03T15:33:55.463Z"
   },
   {
    "duration": 426,
    "start_time": "2024-06-04T07:26:49.165Z"
   },
   {
    "duration": 205,
    "start_time": "2024-06-04T07:26:54.237Z"
   },
   {
    "duration": 40,
    "start_time": "2024-06-04T07:26:55.124Z"
   },
   {
    "duration": 17,
    "start_time": "2024-06-04T07:26:56.937Z"
   },
   {
    "duration": 12,
    "start_time": "2024-06-04T07:26:57.491Z"
   },
   {
    "duration": 27,
    "start_time": "2024-06-04T07:26:58.332Z"
   },
   {
    "duration": 5,
    "start_time": "2024-06-04T07:26:59.505Z"
   },
   {
    "duration": 864,
    "start_time": "2024-06-04T07:27:00.932Z"
   },
   {
    "duration": 255,
    "start_time": "2024-06-04T07:27:02.830Z"
   },
   {
    "duration": 370,
    "start_time": "2024-06-04T07:27:10.715Z"
   },
   {
    "duration": 253,
    "start_time": "2024-06-04T07:27:15.635Z"
   },
   {
    "duration": 340,
    "start_time": "2024-06-04T07:27:17.949Z"
   },
   {
    "duration": 30,
    "start_time": "2024-06-04T07:27:19.786Z"
   },
   {
    "duration": 7,
    "start_time": "2024-06-04T07:27:25.760Z"
   },
   {
    "duration": 21,
    "start_time": "2024-06-04T07:27:26.557Z"
   },
   {
    "duration": 13,
    "start_time": "2024-06-04T07:27:27.378Z"
   },
   {
    "duration": 437,
    "start_time": "2024-06-04T07:27:30.296Z"
   },
   {
    "duration": 592,
    "start_time": "2024-06-04T07:27:31.845Z"
   },
   {
    "duration": 469,
    "start_time": "2024-06-04T07:27:58.101Z"
   },
   {
    "duration": 522,
    "start_time": "2024-06-04T07:28:00.085Z"
   },
   {
    "duration": 124,
    "start_time": "2024-06-04T07:35:20.750Z"
   },
   {
    "duration": 19,
    "start_time": "2024-06-04T07:35:28.504Z"
   },
   {
    "duration": 19,
    "start_time": "2024-06-04T07:41:17.054Z"
   },
   {
    "duration": 16,
    "start_time": "2024-06-04T07:41:29.633Z"
   },
   {
    "duration": 4,
    "start_time": "2024-06-04T08:37:02.367Z"
   },
   {
    "duration": 12,
    "start_time": "2024-06-04T08:38:43.171Z"
   },
   {
    "duration": 10,
    "start_time": "2024-06-04T08:40:22.655Z"
   },
   {
    "duration": 24,
    "start_time": "2024-06-04T09:49:02.832Z"
   },
   {
    "duration": 4,
    "start_time": "2024-06-04T09:51:44.637Z"
   },
   {
    "duration": 4,
    "start_time": "2024-06-04T09:52:53.904Z"
   },
   {
    "duration": 172,
    "start_time": "2024-06-04T09:53:19.876Z"
   },
   {
    "duration": 13,
    "start_time": "2024-06-04T09:54:16.123Z"
   },
   {
    "duration": 15,
    "start_time": "2024-06-04T09:54:37.456Z"
   },
   {
    "duration": 12,
    "start_time": "2024-06-04T09:57:59.725Z"
   },
   {
    "duration": 11,
    "start_time": "2024-06-04T09:58:12.819Z"
   },
   {
    "duration": 11,
    "start_time": "2024-06-04T09:58:15.082Z"
   },
   {
    "duration": 12,
    "start_time": "2024-06-04T09:58:17.724Z"
   },
   {
    "duration": 8,
    "start_time": "2024-06-04T10:01:22.982Z"
   },
   {
    "duration": 159,
    "start_time": "2024-06-04T10:05:25.422Z"
   },
   {
    "duration": 53,
    "start_time": "2024-06-04T10:07:35.938Z"
   },
   {
    "duration": 12,
    "start_time": "2024-06-04T10:07:43.192Z"
   },
   {
    "duration": 10,
    "start_time": "2024-06-04T10:07:56.809Z"
   },
   {
    "duration": 12,
    "start_time": "2024-06-04T10:08:03.243Z"
   },
   {
    "duration": 6,
    "start_time": "2024-06-04T10:08:23.224Z"
   },
   {
    "duration": 9,
    "start_time": "2024-06-04T10:08:31.582Z"
   },
   {
    "duration": 10,
    "start_time": "2024-06-04T10:09:33.958Z"
   },
   {
    "duration": 10,
    "start_time": "2024-06-04T10:11:43.793Z"
   },
   {
    "duration": 4,
    "start_time": "2024-06-04T10:14:38.958Z"
   },
   {
    "duration": 5,
    "start_time": "2024-06-04T10:14:51.481Z"
   },
   {
    "duration": 4,
    "start_time": "2024-06-04T10:15:06.509Z"
   },
   {
    "duration": 5,
    "start_time": "2024-06-04T10:15:15.726Z"
   },
   {
    "duration": 6,
    "start_time": "2024-06-04T10:15:23.896Z"
   },
   {
    "duration": 5,
    "start_time": "2024-06-04T10:15:41.318Z"
   },
   {
    "duration": 9,
    "start_time": "2024-06-04T10:25:18.821Z"
   },
   {
    "duration": 10,
    "start_time": "2024-06-04T10:25:43.889Z"
   },
   {
    "duration": 7,
    "start_time": "2024-06-04T10:31:19.573Z"
   },
   {
    "duration": 7,
    "start_time": "2024-06-04T10:33:35.630Z"
   },
   {
    "duration": 6,
    "start_time": "2024-06-04T10:34:09.507Z"
   },
   {
    "duration": 7,
    "start_time": "2024-06-04T10:34:32.778Z"
   },
   {
    "duration": 7,
    "start_time": "2024-06-04T10:34:38.451Z"
   },
   {
    "duration": 7,
    "start_time": "2024-06-04T10:35:03.581Z"
   },
   {
    "duration": 7,
    "start_time": "2024-06-04T10:35:07.734Z"
   },
   {
    "duration": 6,
    "start_time": "2024-06-04T10:36:23.195Z"
   },
   {
    "duration": 6,
    "start_time": "2024-06-04T10:37:37.446Z"
   },
   {
    "duration": 406,
    "start_time": "2024-06-04T10:37:48.113Z"
   },
   {
    "duration": 69,
    "start_time": "2024-06-04T10:37:48.521Z"
   },
   {
    "duration": 33,
    "start_time": "2024-06-04T10:37:48.592Z"
   },
   {
    "duration": 14,
    "start_time": "2024-06-04T10:37:48.627Z"
   },
   {
    "duration": 7,
    "start_time": "2024-06-04T10:37:48.643Z"
   },
   {
    "duration": 36,
    "start_time": "2024-06-04T10:37:48.652Z"
   },
   {
    "duration": 5,
    "start_time": "2024-06-04T10:37:48.689Z"
   },
   {
    "duration": 559,
    "start_time": "2024-06-04T10:37:48.695Z"
   },
   {
    "duration": 239,
    "start_time": "2024-06-04T10:37:49.255Z"
   },
   {
    "duration": 401,
    "start_time": "2024-06-04T10:37:49.498Z"
   },
   {
    "duration": 211,
    "start_time": "2024-06-04T10:37:49.901Z"
   },
   {
    "duration": 371,
    "start_time": "2024-06-04T10:37:50.113Z"
   },
   {
    "duration": 28,
    "start_time": "2024-06-04T10:37:50.485Z"
   },
   {
    "duration": 6,
    "start_time": "2024-06-04T10:37:50.515Z"
   },
   {
    "duration": 23,
    "start_time": "2024-06-04T10:37:50.522Z"
   },
   {
    "duration": 35,
    "start_time": "2024-06-04T10:37:50.547Z"
   },
   {
    "duration": 451,
    "start_time": "2024-06-04T10:37:50.583Z"
   },
   {
    "duration": 565,
    "start_time": "2024-06-04T10:37:51.036Z"
   },
   {
    "duration": 423,
    "start_time": "2024-06-04T10:37:51.602Z"
   },
   {
    "duration": 507,
    "start_time": "2024-06-04T10:37:52.027Z"
   },
   {
    "duration": 11,
    "start_time": "2024-06-04T10:37:52.535Z"
   },
   {
    "duration": 13,
    "start_time": "2024-06-04T10:37:52.547Z"
   },
   {
    "duration": 9,
    "start_time": "2024-06-04T10:37:52.562Z"
   },
   {
    "duration": 29,
    "start_time": "2024-06-04T10:37:52.582Z"
   },
   {
    "duration": 23,
    "start_time": "2024-06-04T10:37:57.935Z"
   },
   {
    "duration": 6,
    "start_time": "2024-06-04T10:37:59.362Z"
   },
   {
    "duration": 310,
    "start_time": "2024-06-04T10:38:01.539Z"
   },
   {
    "duration": 183,
    "start_time": "2024-06-04T10:38:03.528Z"
   },
   {
    "duration": 362,
    "start_time": "2024-06-04T10:38:04.931Z"
   },
   {
    "duration": 184,
    "start_time": "2024-06-04T10:38:08.914Z"
   },
   {
    "duration": 352,
    "start_time": "2024-06-04T10:38:11.293Z"
   },
   {
    "duration": 30,
    "start_time": "2024-06-04T10:38:13.246Z"
   },
   {
    "duration": 7,
    "start_time": "2024-06-04T10:38:16.736Z"
   },
   {
    "duration": 20,
    "start_time": "2024-06-04T10:38:17.797Z"
   },
   {
    "duration": 12,
    "start_time": "2024-06-04T10:38:18.796Z"
   },
   {
    "duration": 512,
    "start_time": "2024-06-04T10:38:21.010Z"
   },
   {
    "duration": 490,
    "start_time": "2024-06-04T10:38:22.448Z"
   },
   {
    "duration": 459,
    "start_time": "2024-06-04T10:38:28.625Z"
   },
   {
    "duration": 32,
    "start_time": "2024-06-04T10:38:34.320Z"
   },
   {
    "duration": 10,
    "start_time": "2024-06-04T10:38:40.209Z"
   },
   {
    "duration": 6,
    "start_time": "2024-06-04T10:38:41.961Z"
   },
   {
    "duration": 6,
    "start_time": "2024-06-04T10:38:43.140Z"
   },
   {
    "duration": 6,
    "start_time": "2024-06-04T10:38:45.256Z"
   },
   {
    "duration": 430,
    "start_time": "2024-06-04T10:39:59.768Z"
   },
   {
    "duration": 69,
    "start_time": "2024-06-04T10:40:00.199Z"
   },
   {
    "duration": 35,
    "start_time": "2024-06-04T10:40:00.269Z"
   },
   {
    "duration": 34,
    "start_time": "2024-06-04T10:40:00.306Z"
   },
   {
    "duration": 19,
    "start_time": "2024-06-04T10:40:00.342Z"
   },
   {
    "duration": 34,
    "start_time": "2024-06-04T10:40:00.363Z"
   },
   {
    "duration": 58,
    "start_time": "2024-06-04T10:40:00.398Z"
   },
   {
    "duration": 628,
    "start_time": "2024-06-04T10:40:00.458Z"
   },
   {
    "duration": 210,
    "start_time": "2024-06-04T10:40:01.087Z"
   },
   {
    "duration": 444,
    "start_time": "2024-06-04T10:40:01.299Z"
   },
   {
    "duration": 232,
    "start_time": "2024-06-04T10:40:01.745Z"
   },
   {
    "duration": 401,
    "start_time": "2024-06-04T10:40:01.983Z"
   },
   {
    "duration": 27,
    "start_time": "2024-06-04T10:40:02.386Z"
   },
   {
    "duration": 125,
    "start_time": "2024-06-04T10:40:02.416Z"
   },
   {
    "duration": 24,
    "start_time": "2024-06-04T10:40:02.543Z"
   },
   {
    "duration": 12,
    "start_time": "2024-06-04T10:40:02.569Z"
   },
   {
    "duration": 523,
    "start_time": "2024-06-04T10:40:02.583Z"
   },
   {
    "duration": 418,
    "start_time": "2024-06-04T15:49:44.819Z"
   },
   {
    "duration": 193,
    "start_time": "2024-06-04T15:49:45.238Z"
   },
   {
    "duration": 36,
    "start_time": "2024-06-04T15:49:45.435Z"
   },
   {
    "duration": 17,
    "start_time": "2024-06-04T15:49:45.473Z"
   },
   {
    "duration": 6,
    "start_time": "2024-06-04T15:49:45.492Z"
   },
   {
    "duration": 38,
    "start_time": "2024-06-04T15:49:45.499Z"
   },
   {
    "duration": 4,
    "start_time": "2024-06-04T15:49:45.544Z"
   },
   {
    "duration": 466,
    "start_time": "2024-06-04T15:49:45.550Z"
   },
   {
    "duration": 234,
    "start_time": "2024-06-04T15:49:46.018Z"
   },
   {
    "duration": 305,
    "start_time": "2024-06-04T15:49:46.253Z"
   },
   {
    "duration": 165,
    "start_time": "2024-06-04T15:49:46.559Z"
   },
   {
    "duration": 400,
    "start_time": "2024-06-04T15:49:46.725Z"
   },
   {
    "duration": 38,
    "start_time": "2024-06-04T15:49:47.127Z"
   },
   {
    "duration": 7,
    "start_time": "2024-06-04T15:49:47.167Z"
   },
   {
    "duration": 20,
    "start_time": "2024-06-04T15:49:47.176Z"
   },
   {
    "duration": 11,
    "start_time": "2024-06-04T15:49:47.198Z"
   },
   {
    "duration": 481,
    "start_time": "2024-06-04T15:49:47.210Z"
   },
   {
    "duration": 499,
    "start_time": "2024-06-04T15:49:47.692Z"
   },
   {
    "duration": 399,
    "start_time": "2024-06-04T15:49:48.193Z"
   },
   {
    "duration": 488,
    "start_time": "2024-06-04T15:49:48.593Z"
   },
   {
    "duration": 8,
    "start_time": "2024-06-04T15:49:49.082Z"
   },
   {
    "duration": 63,
    "start_time": "2024-06-04T15:49:49.091Z"
   },
   {
    "duration": 17,
    "start_time": "2024-06-04T15:49:49.155Z"
   },
   {
    "duration": 7,
    "start_time": "2024-06-04T15:49:49.173Z"
   }
  ],
  "kernelspec": {
   "display_name": "Python 3 (ipykernel)",
   "language": "python",
   "name": "python3"
  },
  "language_info": {
   "codemirror_mode": {
    "name": "ipython",
    "version": 3
   },
   "file_extension": ".py",
   "mimetype": "text/x-python",
   "name": "python",
   "nbconvert_exporter": "python",
   "pygments_lexer": "ipython3",
   "version": "3.9.5"
  },
  "toc": {
   "base_numbering": 1,
   "nav_menu": {},
   "number_sections": true,
   "sideBar": true,
   "skip_h1_title": true,
   "title_cell": "Table of Contents",
   "title_sidebar": "Contents",
   "toc_cell": false,
   "toc_position": {},
   "toc_section_display": true,
   "toc_window_display": false
  }
 },
 "nbformat": 4,
 "nbformat_minor": 5
}
