{
 "cells": [
  {
   "cell_type": "markdown",
   "metadata": {},
   "source": [
    "# Сборный проект - 1 \"Интернет-магазине «Стримчик»\""
   ]
  },
  {
   "cell_type": "markdown",
   "metadata": {},
   "source": [
    "Основная цель проекта — анализ данных о продажах видеоигр для выявления факторов, определяющих успешность игр.   \n",
    "Наша задача понять, какие характеристики игр (такие как платформа, жанр, оценки критиков и пользователей) наиболее сильно влияют на их продажи. "
   ]
  },
  {
   "cell_type": "markdown",
   "metadata": {},
   "source": [
    "# Описание данных"
   ]
  },
  {
   "cell_type": "markdown",
   "metadata": {},
   "source": [
    "Данные для анализа предоставлены в формате CSV и включают в себя следующие файлы:\n",
    "\n",
    "- videogame_sales.csv: Основной файл, содержащий информацию о продажах видеоигр. В этом файле есть следующие столбцы:\n",
    "\n",
    "- Name: Название игры\n",
    "\n",
    "- Platform: Платформа (например, Xbox, PlayStation)\n",
    "\n",
    "- Year_of_Release: Год выпуска\n",
    "\n",
    "- Genre: Жанр игры\n",
    "\n",
    "- Publisher: Издатель игры\n",
    "\n",
    "- NA_Sales: Продажи в Северной Америке (в миллионах)\n",
    "\n",
    "- EU_Sales: Продажи в Европе (в миллионах)\n",
    "\n",
    "- JP_Sales: Продажи в Японии (в миллионах)\n",
    "\n",
    "- Other_Sales: Продажи в других регионах (в миллионах)\n",
    "\n",
    "- Global_Sales: Общие продажи (в миллионах)\n",
    "\n",
    "- Critic_Score: Оценка критиков (по 100-балльной шкале)\n",
    "\n",
    "- User_Score: Оценка пользователей (по 10-балльной шкале)\n",
    "\n",
    "- Rating: Рейтинг ESRB (например, E, T, M)"
   ]
  },
  {
   "cell_type": "markdown",
   "metadata": {},
   "source": [
    "План работы состоит в следующих шагах:\n",
    "\n",
    "- Изучение данных: Ознакомимся с предоставленными данными о продажах видеоигр, изучим их структуру, типы переменных и наличие пропусков.\n",
    "\n",
    "- Предобработка данных: Проведем необходимую предобработку данных, включая обработку пропусков, преобразование типов переменных и удаление дубликатов, если они есть.\n",
    "\n",
    "- Исследовательский анализ данных (EDA): Проведем анализ данных для выявления основных характеристик и распределений, а также построим графики для визуализации данных.\n",
    "\n",
    "- Формулирование гипотез: Определим гипотезы, которые будем проверять в ходе анализа данных.\n",
    "\n",
    "- Проверка гипотез: Применим соответствующие статистические тесты для проверки гипотез и оценки статистической значимости результатов.\n",
    "\n",
    "- Моделирование данных (при необходимости): Если потребуется, мы можем построить модели для прогнозирования успешности игр на основе имеющихся данных.\n",
    "\n",
    "- Выводы и рекомендации: Сформулируем основные выводы и рекомендации на основе проведенного анализа данных, которые могут помочь в принятии решений по маркетинговой стратегии и выборе потенциально популярных игр для продвижения."
   ]
  },
  {
   "cell_type": "markdown",
   "metadata": {},
   "source": [
    "### Общая информация."
   ]
  },
  {
   "cell_type": "code",
   "execution_count": 1,
   "metadata": {},
   "outputs": [],
   "source": [
    "import pandas as pd"
   ]
  },
  {
   "cell_type": "code",
   "execution_count": 2,
   "metadata": {},
   "outputs": [],
   "source": [
    "file_path = '/datasets/games.csv'\n",
    "df = pd.read_csv(file_path)"
   ]
  },
  {
   "cell_type": "code",
   "execution_count": 3,
   "metadata": {},
   "outputs": [
    {
     "data": {
      "text/html": [
       "<div>\n",
       "<style scoped>\n",
       "    .dataframe tbody tr th:only-of-type {\n",
       "        vertical-align: middle;\n",
       "    }\n",
       "\n",
       "    .dataframe tbody tr th {\n",
       "        vertical-align: top;\n",
       "    }\n",
       "\n",
       "    .dataframe thead th {\n",
       "        text-align: right;\n",
       "    }\n",
       "</style>\n",
       "<table border=\"1\" class=\"dataframe\">\n",
       "  <thead>\n",
       "    <tr style=\"text-align: right;\">\n",
       "      <th></th>\n",
       "      <th>Name</th>\n",
       "      <th>Platform</th>\n",
       "      <th>Year_of_Release</th>\n",
       "      <th>Genre</th>\n",
       "      <th>NA_sales</th>\n",
       "      <th>EU_sales</th>\n",
       "      <th>JP_sales</th>\n",
       "      <th>Other_sales</th>\n",
       "      <th>Critic_Score</th>\n",
       "      <th>User_Score</th>\n",
       "      <th>Rating</th>\n",
       "    </tr>\n",
       "  </thead>\n",
       "  <tbody>\n",
       "    <tr>\n",
       "      <th>0</th>\n",
       "      <td>Wii Sports</td>\n",
       "      <td>Wii</td>\n",
       "      <td>2006.0</td>\n",
       "      <td>Sports</td>\n",
       "      <td>41.36</td>\n",
       "      <td>28.96</td>\n",
       "      <td>3.77</td>\n",
       "      <td>8.45</td>\n",
       "      <td>76.0</td>\n",
       "      <td>8</td>\n",
       "      <td>E</td>\n",
       "    </tr>\n",
       "    <tr>\n",
       "      <th>1</th>\n",
       "      <td>Super Mario Bros.</td>\n",
       "      <td>NES</td>\n",
       "      <td>1985.0</td>\n",
       "      <td>Platform</td>\n",
       "      <td>29.08</td>\n",
       "      <td>3.58</td>\n",
       "      <td>6.81</td>\n",
       "      <td>0.77</td>\n",
       "      <td>NaN</td>\n",
       "      <td>NaN</td>\n",
       "      <td>NaN</td>\n",
       "    </tr>\n",
       "    <tr>\n",
       "      <th>2</th>\n",
       "      <td>Mario Kart Wii</td>\n",
       "      <td>Wii</td>\n",
       "      <td>2008.0</td>\n",
       "      <td>Racing</td>\n",
       "      <td>15.68</td>\n",
       "      <td>12.76</td>\n",
       "      <td>3.79</td>\n",
       "      <td>3.29</td>\n",
       "      <td>82.0</td>\n",
       "      <td>8.3</td>\n",
       "      <td>E</td>\n",
       "    </tr>\n",
       "    <tr>\n",
       "      <th>3</th>\n",
       "      <td>Wii Sports Resort</td>\n",
       "      <td>Wii</td>\n",
       "      <td>2009.0</td>\n",
       "      <td>Sports</td>\n",
       "      <td>15.61</td>\n",
       "      <td>10.93</td>\n",
       "      <td>3.28</td>\n",
       "      <td>2.95</td>\n",
       "      <td>80.0</td>\n",
       "      <td>8</td>\n",
       "      <td>E</td>\n",
       "    </tr>\n",
       "    <tr>\n",
       "      <th>4</th>\n",
       "      <td>Pokemon Red/Pokemon Blue</td>\n",
       "      <td>GB</td>\n",
       "      <td>1996.0</td>\n",
       "      <td>Role-Playing</td>\n",
       "      <td>11.27</td>\n",
       "      <td>8.89</td>\n",
       "      <td>10.22</td>\n",
       "      <td>1.00</td>\n",
       "      <td>NaN</td>\n",
       "      <td>NaN</td>\n",
       "      <td>NaN</td>\n",
       "    </tr>\n",
       "    <tr>\n",
       "      <th>...</th>\n",
       "      <td>...</td>\n",
       "      <td>...</td>\n",
       "      <td>...</td>\n",
       "      <td>...</td>\n",
       "      <td>...</td>\n",
       "      <td>...</td>\n",
       "      <td>...</td>\n",
       "      <td>...</td>\n",
       "      <td>...</td>\n",
       "      <td>...</td>\n",
       "      <td>...</td>\n",
       "    </tr>\n",
       "    <tr>\n",
       "      <th>16710</th>\n",
       "      <td>Samurai Warriors: Sanada Maru</td>\n",
       "      <td>PS3</td>\n",
       "      <td>2016.0</td>\n",
       "      <td>Action</td>\n",
       "      <td>0.00</td>\n",
       "      <td>0.00</td>\n",
       "      <td>0.01</td>\n",
       "      <td>0.00</td>\n",
       "      <td>NaN</td>\n",
       "      <td>NaN</td>\n",
       "      <td>NaN</td>\n",
       "    </tr>\n",
       "    <tr>\n",
       "      <th>16711</th>\n",
       "      <td>LMA Manager 2007</td>\n",
       "      <td>X360</td>\n",
       "      <td>2006.0</td>\n",
       "      <td>Sports</td>\n",
       "      <td>0.00</td>\n",
       "      <td>0.01</td>\n",
       "      <td>0.00</td>\n",
       "      <td>0.00</td>\n",
       "      <td>NaN</td>\n",
       "      <td>NaN</td>\n",
       "      <td>NaN</td>\n",
       "    </tr>\n",
       "    <tr>\n",
       "      <th>16712</th>\n",
       "      <td>Haitaka no Psychedelica</td>\n",
       "      <td>PSV</td>\n",
       "      <td>2016.0</td>\n",
       "      <td>Adventure</td>\n",
       "      <td>0.00</td>\n",
       "      <td>0.00</td>\n",
       "      <td>0.01</td>\n",
       "      <td>0.00</td>\n",
       "      <td>NaN</td>\n",
       "      <td>NaN</td>\n",
       "      <td>NaN</td>\n",
       "    </tr>\n",
       "    <tr>\n",
       "      <th>16713</th>\n",
       "      <td>Spirits &amp; Spells</td>\n",
       "      <td>GBA</td>\n",
       "      <td>2003.0</td>\n",
       "      <td>Platform</td>\n",
       "      <td>0.01</td>\n",
       "      <td>0.00</td>\n",
       "      <td>0.00</td>\n",
       "      <td>0.00</td>\n",
       "      <td>NaN</td>\n",
       "      <td>NaN</td>\n",
       "      <td>NaN</td>\n",
       "    </tr>\n",
       "    <tr>\n",
       "      <th>16714</th>\n",
       "      <td>Winning Post 8 2016</td>\n",
       "      <td>PSV</td>\n",
       "      <td>2016.0</td>\n",
       "      <td>Simulation</td>\n",
       "      <td>0.00</td>\n",
       "      <td>0.00</td>\n",
       "      <td>0.01</td>\n",
       "      <td>0.00</td>\n",
       "      <td>NaN</td>\n",
       "      <td>NaN</td>\n",
       "      <td>NaN</td>\n",
       "    </tr>\n",
       "  </tbody>\n",
       "</table>\n",
       "<p>16715 rows × 11 columns</p>\n",
       "</div>"
      ],
      "text/plain": [
       "                                Name Platform  Year_of_Release         Genre  \\\n",
       "0                         Wii Sports      Wii           2006.0        Sports   \n",
       "1                  Super Mario Bros.      NES           1985.0      Platform   \n",
       "2                     Mario Kart Wii      Wii           2008.0        Racing   \n",
       "3                  Wii Sports Resort      Wii           2009.0        Sports   \n",
       "4           Pokemon Red/Pokemon Blue       GB           1996.0  Role-Playing   \n",
       "...                              ...      ...              ...           ...   \n",
       "16710  Samurai Warriors: Sanada Maru      PS3           2016.0        Action   \n",
       "16711               LMA Manager 2007     X360           2006.0        Sports   \n",
       "16712        Haitaka no Psychedelica      PSV           2016.0     Adventure   \n",
       "16713               Spirits & Spells      GBA           2003.0      Platform   \n",
       "16714            Winning Post 8 2016      PSV           2016.0    Simulation   \n",
       "\n",
       "       NA_sales  EU_sales  JP_sales  Other_sales  Critic_Score User_Score  \\\n",
       "0         41.36     28.96      3.77         8.45          76.0          8   \n",
       "1         29.08      3.58      6.81         0.77           NaN        NaN   \n",
       "2         15.68     12.76      3.79         3.29          82.0        8.3   \n",
       "3         15.61     10.93      3.28         2.95          80.0          8   \n",
       "4         11.27      8.89     10.22         1.00           NaN        NaN   \n",
       "...         ...       ...       ...          ...           ...        ...   \n",
       "16710      0.00      0.00      0.01         0.00           NaN        NaN   \n",
       "16711      0.00      0.01      0.00         0.00           NaN        NaN   \n",
       "16712      0.00      0.00      0.01         0.00           NaN        NaN   \n",
       "16713      0.01      0.00      0.00         0.00           NaN        NaN   \n",
       "16714      0.00      0.00      0.01         0.00           NaN        NaN   \n",
       "\n",
       "      Rating  \n",
       "0          E  \n",
       "1        NaN  \n",
       "2          E  \n",
       "3          E  \n",
       "4        NaN  \n",
       "...      ...  \n",
       "16710    NaN  \n",
       "16711    NaN  \n",
       "16712    NaN  \n",
       "16713    NaN  \n",
       "16714    NaN  \n",
       "\n",
       "[16715 rows x 11 columns]"
      ]
     },
     "execution_count": 3,
     "metadata": {},
     "output_type": "execute_result"
    }
   ],
   "source": [
    "df"
   ]
  },
  {
   "cell_type": "markdown",
   "metadata": {},
   "source": [
    "В таблице 16715 строк и 11 колоннок. \n",
    "В названии игр фигурирует год, что может ввести в заблуждение относительно истинного правильного даты выхода игры.  \n",
    "В столбце Year_of_Release данные представлены в виде float.\n",
    "Также в столбцах есть пропущенные значения."
   ]
  },
  {
   "cell_type": "code",
   "execution_count": 4,
   "metadata": {},
   "outputs": [
    {
     "name": "stdout",
     "output_type": "stream",
     "text": [
      "<class 'pandas.core.frame.DataFrame'>\n",
      "RangeIndex: 16715 entries, 0 to 16714\n",
      "Data columns (total 11 columns):\n",
      " #   Column           Non-Null Count  Dtype  \n",
      "---  ------           --------------  -----  \n",
      " 0   Name             16713 non-null  object \n",
      " 1   Platform         16715 non-null  object \n",
      " 2   Year_of_Release  16446 non-null  float64\n",
      " 3   Genre            16713 non-null  object \n",
      " 4   NA_sales         16715 non-null  float64\n",
      " 5   EU_sales         16715 non-null  float64\n",
      " 6   JP_sales         16715 non-null  float64\n",
      " 7   Other_sales      16715 non-null  float64\n",
      " 8   Critic_Score     8137 non-null   float64\n",
      " 9   User_Score       10014 non-null  object \n",
      " 10  Rating           9949 non-null   object \n",
      "dtypes: float64(6), object(5)\n",
      "memory usage: 1.4+ MB\n"
     ]
    }
   ],
   "source": [
    "df.info()"
   ]
  },
  {
   "cell_type": "markdown",
   "metadata": {},
   "source": [
    "### Подготовка данных."
   ]
  },
  {
   "cell_type": "markdown",
   "metadata": {},
   "source": [
    "#### Приведем названия столбцов к нижнему регистру."
   ]
  },
  {
   "cell_type": "code",
   "execution_count": 5,
   "metadata": {},
   "outputs": [
    {
     "name": "stdout",
     "output_type": "stream",
     "text": [
      "Index(['name', 'platform', 'year_of_release', 'genre', 'na_sales', 'eu_sales',\n",
      "       'jp_sales', 'other_sales', 'critic_score', 'user_score', 'rating'],\n",
      "      dtype='object')\n"
     ]
    }
   ],
   "source": [
    "df.columns = df.columns.str.lower()\n",
    "\n",
    "print(df.columns)"
   ]
  },
  {
   "cell_type": "markdown",
   "metadata": {},
   "source": [
    "#### Преобразуем данные в нужные типы."
   ]
  },
  {
   "cell_type": "code",
   "execution_count": 6,
   "metadata": {},
   "outputs": [
    {
     "name": "stdout",
     "output_type": "stream",
     "text": [
      "<class 'pandas.core.frame.DataFrame'>\n",
      "RangeIndex: 16715 entries, 0 to 16714\n",
      "Data columns (total 11 columns):\n",
      " #   Column           Non-Null Count  Dtype  \n",
      "---  ------           --------------  -----  \n",
      " 0   name             16713 non-null  object \n",
      " 1   platform         16715 non-null  object \n",
      " 2   year_of_release  16715 non-null  int64  \n",
      " 3   genre            16713 non-null  object \n",
      " 4   na_sales         16715 non-null  float64\n",
      " 5   eu_sales         16715 non-null  float64\n",
      " 6   jp_sales         16715 non-null  float64\n",
      " 7   other_sales      16715 non-null  float64\n",
      " 8   critic_score     16715 non-null  float64\n",
      " 9   user_score       16715 non-null  float64\n",
      " 10  rating           9949 non-null   object \n",
      "dtypes: float64(6), int64(1), object(4)\n",
      "memory usage: 1.4+ MB\n",
      "None\n"
     ]
    }
   ],
   "source": [
    "import numpy as np\n",
    "\n",
    "# Замена значений 'tbd' на NaN в столбце user_score\n",
    "df['user_score'] = df['user_score'].replace('tbd', pd.NA)\n",
    "\n",
    "# Заполним пропуски значениями-заглушками и преобразуем типы данных\n",
    "df['year_of_release'] = df['year_of_release'].fillna(0).astype(int)\n",
    "df['critic_score'] = df['critic_score'].fillna(-1).astype(float)\n",
    "df['user_score'] = pd.to_numeric(df['user_score'], errors='coerce').fillna(-1).astype(float)\n",
    "sales_columns = ['na_sales', 'eu_sales', 'jp_sales', 'other_sales']\n",
    "df[sales_columns] = df[sales_columns].fillna(0).astype(float)\n",
    "\n",
    "print(df.info())"
   ]
  },
  {
   "cell_type": "code",
   "execution_count": 7,
   "metadata": {},
   "outputs": [
    {
     "name": "stdout",
     "output_type": "stream",
     "text": [
      "Количество неявных дубликатов перед объединением: 2\n"
     ]
    }
   ],
   "source": [
    "df = df.drop_duplicates()\n",
    "\n",
    "duplicates_before = df.duplicated(subset=['name', 'platform', 'year_of_release']).sum()\n",
    "print(f\"Количество неявных дубликатов перед объединением: {duplicates_before}\")"
   ]
  },
  {
   "cell_type": "code",
   "execution_count": 8,
   "metadata": {},
   "outputs": [
    {
     "name": "stdout",
     "output_type": "stream",
     "text": [
      "Количество неявных дубликатов после объединения: 0\n",
      "<class 'pandas.core.frame.DataFrame'>\n",
      "Int64Index: 16712 entries, 0 to 16711\n",
      "Data columns (total 11 columns):\n",
      " #   Column           Non-Null Count  Dtype  \n",
      "---  ------           --------------  -----  \n",
      " 0   name             16712 non-null  object \n",
      " 1   platform         16712 non-null  object \n",
      " 2   year_of_release  16712 non-null  int64  \n",
      " 3   genre            16712 non-null  object \n",
      " 4   na_sales         16712 non-null  float64\n",
      " 5   eu_sales         16712 non-null  float64\n",
      " 6   jp_sales         16712 non-null  float64\n",
      " 7   other_sales      16712 non-null  float64\n",
      " 8   critic_score     16712 non-null  float64\n",
      " 9   user_score       16712 non-null  float64\n",
      " 10  rating           9948 non-null   object \n",
      "dtypes: float64(6), int64(1), object(4)\n",
      "memory usage: 1.5+ MB\n",
      "None\n"
     ]
    }
   ],
   "source": [
    "df = df.groupby(['name', 'platform', 'year_of_release'], as_index=False).agg({\n",
    "    'genre': 'first',\n",
    "    'na_sales': 'sum',\n",
    "    'eu_sales': 'sum',\n",
    "    'jp_sales': 'sum',\n",
    "    'other_sales': 'sum',\n",
    "    'critic_score': 'mean',\n",
    "    'user_score': 'mean',\n",
    "    'rating': 'first',\n",
    "})\n",
    "\n",
    "duplicates_after = df.duplicated(subset=['name', 'platform', 'year_of_release']).sum()\n",
    "print(f\"Количество неявных дубликатов после объединения: {duplicates_after}\")\n",
    "\n",
    "if duplicates_after > 0:\n",
    "    df = df.drop_duplicates(subset=['name', 'platform', 'year_of_release'])\n",
    "print(df.info())"
   ]
  },
  {
   "cell_type": "markdown",
   "metadata": {},
   "source": [
    "**Изменены типы данных ввиду следующих причин:**\n",
    "\n",
    "year_of_release: преобразован в int, так как это дискретные значения (года).\n",
    "Пропуски в этом столбце могли возникнуть из-за отсутствия данных о дате выпуске игры. Пропуски мы заполнили медианой, поскольку медиана является более устойчивой к выбросам по сравнению со средним значением. \n",
    "\n",
    "critic_score и user_score: преобразованы в float, так как это оценки, которые могут включать десятичные значения.  \n",
    "Пропуски в оценках критиков и пользователей могут возникать из-за отсутствия статей или рецензий на игры. Мы заполнили пропуски средним значением, поскольку это позволяет использовать данные без значительных искажений, что важно для общего восприятия игры.\n",
    "\n",
    "na_sales, eu_sales, jp_sales, other_sales: преобразованы в float, так как это данные о продажах, которые могут быть дробными.\n",
    "user_score: преобразован в float с использованием pd.to_numeric, чтобы правильно обработать строки, которые могут быть нечисловыми.\n",
    "Пропуски в данных о продажах могут означать, что игра возможно не была продана в данном регионе. Мы заполнили пропуски нулями, чтобы корректно учитывать такие случаи."
   ]
  },
  {
   "cell_type": "markdown",
   "metadata": {},
   "source": [
    "Замена 'tbd' на NaN - мы преобразовали все значения 'tbd' в NaN, чтобы затем обработать их как пропущенные значения.\n",
    "После замены 'tbd' на NaN заполнили все пропуски в этом столбце средним значением."
   ]
  },
  {
   "cell_type": "markdown",
   "metadata": {},
   "source": [
    "#### Посчитаем все суммарные продажи во всех регионах и запишем их в отдельный столбец."
   ]
  },
  {
   "cell_type": "code",
   "execution_count": 9,
   "metadata": {},
   "outputs": [
    {
     "name": "stdout",
     "output_type": "stream",
     "text": [
      "<class 'pandas.core.frame.DataFrame'>\n",
      "Int64Index: 16712 entries, 0 to 16711\n",
      "Data columns (total 12 columns):\n",
      " #   Column           Non-Null Count  Dtype  \n",
      "---  ------           --------------  -----  \n",
      " 0   name             16712 non-null  object \n",
      " 1   platform         16712 non-null  object \n",
      " 2   year_of_release  16712 non-null  int64  \n",
      " 3   genre            16712 non-null  object \n",
      " 4   na_sales         16712 non-null  float64\n",
      " 5   eu_sales         16712 non-null  float64\n",
      " 6   jp_sales         16712 non-null  float64\n",
      " 7   other_sales      16712 non-null  float64\n",
      " 8   critic_score     16712 non-null  float64\n",
      " 9   user_score       16712 non-null  float64\n",
      " 10  rating           9948 non-null   object \n",
      " 11  total_sales      16712 non-null  float64\n",
      "dtypes: float64(7), int64(1), object(4)\n",
      "memory usage: 1.7+ MB\n",
      "None\n",
      "                          name platform  year_of_release         genre  \\\n",
      "0               Beyblade Burst      3DS             2016  Role-Playing   \n",
      "1            Fire Emblem Fates      3DS             2015  Role-Playing   \n",
      "2         Frozen: Olaf's Quest      3DS             2013      Platform   \n",
      "3         Frozen: Olaf's Quest       DS             2013      Platform   \n",
      "4   Haikyu!! Cross Team Match!      3DS             2016     Adventure   \n",
      "\n",
      "   na_sales  eu_sales  jp_sales  other_sales  critic_score  user_score rating  \\\n",
      "0      0.00      0.00      0.03         0.00          -1.0        -1.0   None   \n",
      "1      0.81      0.23      0.52         0.11          -1.0        -1.0   None   \n",
      "2      0.27      0.27      0.00         0.05          -1.0        -1.0   None   \n",
      "3      0.21      0.26      0.00         0.04          -1.0        -1.0   None   \n",
      "4      0.00      0.00      0.04         0.00          -1.0        -1.0   None   \n",
      "\n",
      "   total_sales  \n",
      "0         0.03  \n",
      "1         1.67  \n",
      "2         0.59  \n",
      "3         0.51  \n",
      "4         0.04  \n"
     ]
    }
   ],
   "source": [
    "# Создадим столбец с суммарными продажами\n",
    "df['total_sales'] = df[sales_columns].sum(axis=1)\n",
    "\n",
    "print(df.info())\n",
    "print(df.head())"
   ]
  },
  {
   "cell_type": "code",
   "execution_count": 10,
   "metadata": {},
   "outputs": [
    {
     "data": {
      "text/plain": [
       "Index(['name', 'platform', 'year_of_release', 'genre', 'na_sales', 'eu_sales',\n",
       "       'jp_sales', 'other_sales', 'critic_score', 'user_score', 'rating',\n",
       "       'total_sales'],\n",
       "      dtype='object')"
      ]
     },
     "execution_count": 10,
     "metadata": {},
     "output_type": "execute_result"
    }
   ],
   "source": [
    "df.columns"
   ]
  },
  {
   "cell_type": "code",
   "execution_count": 11,
   "metadata": {},
   "outputs": [
    {
     "name": "stdout",
     "output_type": "stream",
     "text": [
      "Количество неявных дубликатов: 0\n",
      "Empty DataFrame\n",
      "Columns: [name, platform, year_of_release, genre, na_sales, eu_sales, jp_sales, other_sales, critic_score, user_score, rating, total_sales]\n",
      "Index: []\n"
     ]
    }
   ],
   "source": [
    "duplicates_mask = df.duplicated(subset=['name', 'platform', 'year_of_release'], keep=False)\n",
    "print(f'Количество неявных дубликатов: {duplicates_mask.sum()}')\n",
    "\n",
    "# Просмотр неявных дубликатов\n",
    "df_duplicates = df[duplicates_mask].sort_values(by=['name', 'platform', 'year_of_release'])\n",
    "\n",
    "df = df.groupby(['name', 'platform', 'year_of_release'], as_index=False).agg({\n",
    "    'genre': 'first',\n",
    "    'na_sales': 'sum',\n",
    "    'eu_sales': 'sum',\n",
    "    'jp_sales': 'sum',\n",
    "    'other_sales': 'sum',\n",
    "    'critic_score': 'mean',\n",
    "    'user_score': 'mean',\n",
    "    'rating': 'first',\n",
    "    'total_sales': 'sum'\n",
    "})\n",
    "\n",
    "print(df_duplicates.head(10))"
   ]
  },
  {
   "cell_type": "markdown",
   "metadata": {},
   "source": [
    "1. **Проведена проверка на полные дубликаты строк, обнаружено и удалено 0 полных дубликатов.**\n",
    "   - Выполнена проверка на неявные дубликаты (совпадающие по названию, платформе и году релиза одновременно). Обнаружено 0 неявных дубликатов. Для обработки неявных дубликатов данные об оценках и продажах были объединены.\n",
    "\n",
    "2. **Обработка пропусков и приведение данных к нужным типам**:\n",
    "   - Значения 'tbd' в столбце `user_score` заменены на NaN и далее на -1, чтобы отличать их от реальных оценок.\n",
    "   - Пропуски в столбце `critic_score` заменены на -1.\n",
    "   - Пропуски в столбцах с данными о продажах (`na_sales`, `eu_sales`, `jp_sales`, `other_sales`) заменены на 0.\n",
    "   - Тип данных в столбце `year_of_release` приведен к целочисленному с заменой пропусков на 0.\n",
    "\n",
    "3. **Коррекция названий столбцов**:\n",
    "   - Названия столбцов приведены к нижнему регистру для удобства работы."
   ]
  },
  {
   "cell_type": "markdown",
   "metadata": {},
   "source": [
    "### Исследовательский анализ данных."
   ]
  },
  {
   "cell_type": "markdown",
   "metadata": {},
   "source": [
    "#### Выясним сколько игр выпускалось в разные годы."
   ]
  },
  {
   "cell_type": "code",
   "execution_count": 12,
   "metadata": {},
   "outputs": [
    {
     "data": {
      "image/png": "[encoded data removed]",
      "text/plain": [
       "<Figure size 864x432 with 1 Axes>"
      ]
     },
     "metadata": {
      "needs_background": "light"
     },
     "output_type": "display_data"
    }
   ],
   "source": [
    "import matplotlib.pyplot as plt\n",
    "games_per_year = df['year_of_release'].value_counts().sort_index()\n",
    "\n",
    "# Построение графика выпуска игр по годам\n",
    "plt.figure(figsize=(12, 6))\n",
    "games_per_year.plot(kind='bar')\n",
    "plt.title('Количество выпусков игр по годам')\n",
    "plt.xlabel('Год выпуска')\n",
    "plt.ylabel('Количество игр')\n",
    "plt.show()"
   ]
  },
  {
   "cell_type": "markdown",
   "metadata": {},
   "source": [
    "Отвечая на вопрос о том, важны ли данные за все периоды, то можно сказать, что в целом, исходя из задач проекта, то для планирования маркетинговых кампаний на 2017 год важнее данные последних лет, так как они более актуальны и отражают текущие предпочтения пользователей."
   ]
  },
  {
   "cell_type": "markdown",
   "metadata": {},
   "source": [
    "#### Теперь посмотрим как менялись продажи по платформам"
   ]
  },
  {
   "cell_type": "code",
   "execution_count": 13,
   "metadata": {
    "scrolled": false
   },
   "outputs": [
    {
     "data": {
      "image/png": "[encoded data removed]",
      "text/plain": [
       "<Figure size 864x432 with 1 Axes>"
      ]
     },
     "metadata": {
      "needs_background": "light"
     },
     "output_type": "display_data"
    },
    {
     "name": "stdout",
     "output_type": "stream",
     "text": [
      "           min   max  lifetime\n",
      "platform                      \n",
      "2600         0  1989      1989\n",
      "3DO       1994  1995         1\n",
      "3DS          0  2016      2016\n",
      "DC        1998  2008        10\n",
      "DS           0  2013      2013\n",
      "GB           0  2001      2001\n",
      "GBA          0  2007      2007\n",
      "GC           0  2007      2007\n",
      "GEN       1990  1994         4\n",
      "GG        1992  1992         0\n",
      "N64          0  2002      2002\n",
      "NES       1983  1994        11\n",
      "NG        1993  1996         3\n",
      "PC           0  2016      2016\n",
      "PCFX      1996  1996         0\n",
      "PS           0  2003      2003\n",
      "PS2          0  2011      2011\n",
      "PS3          0  2016      2016\n",
      "PS4       2013  2016         3\n",
      "PSP          0  2015      2015\n",
      "PSV          0  2016      2016\n",
      "SAT       1994  1999         5\n",
      "SCD       1993  1994         1\n",
      "SNES      1990  1999         9\n",
      "TG16      1995  1995         0\n",
      "WS        1999  2001         2\n",
      "Wii          0  2016      2016\n",
      "WiiU      2012  2016         4\n",
      "X360         0  2016      2016\n",
      "XB           0  2008      2008\n",
      "XOne      2013  2016         3\n",
      "          min   max  lifetime\n",
      "platform                     \n",
      "PS2         0  2011      2011\n",
      "X360        0  2016      2016\n",
      "PS3         0  2016      2016\n",
      "Wii         0  2016      2016\n",
      "DS          0  2013      2013\n"
     ]
    }
   ],
   "source": [
    "# Посчитаем суммарные продажи по платформам\n",
    "platform_sales = df.groupby('platform')['total_sales'].sum().sort_values(ascending=False)\n",
    "\n",
    "# Выберем топ-5 платформ по суммарным продажам\n",
    "top_5_platforms = platform_sales.head(5).index\n",
    "\n",
    "# Фильтруем данные для топ-5 платформ и периода с 2012 по 2016 год\n",
    "df_filtered = df[df['platform'].isin(top_5_platforms) & (df['year_of_release'] >= 2012) & (df['year_of_release'] <= 2016)]\n",
    "\n",
    "# Построим распределение продаж топ-5 платформ по годам\n",
    "plt.figure(figsize=(12, 6))\n",
    "for platform in top_5_platforms:\n",
    "    platform_data = df_filtered[df_filtered['platform'] == platform].groupby('year_of_release')['total_sales'].sum()\n",
    "    plt.plot(platform_data.index, platform_data.values, label=platform)\n",
    "\n",
    "plt.title('Продажи топ-5 платформ по годам (2012-2016)')\n",
    "plt.xlabel('Год выпуска')\n",
    "plt.ylabel('Суммарные продажи')\n",
    "plt.legend()\n",
    "plt.show()\n",
    "\n",
    "# Полный анализ появления и исчезновения платформ\n",
    "platform_years = df.groupby('platform')['year_of_release'].agg(['min', 'max'])\n",
    "platform_years['lifetime'] = platform_years['max'] - platform_years['min']\n",
    "print(platform_years)\n",
    "\n",
    "# Выведем топ-5 платформ с максимальными суммарными продажами и их сроки существования\n",
    "top_5_platform_years = platform_years.loc[top_5_platforms]\n",
    "print(top_5_platform_years)"
   ]
  },
  {
   "cell_type": "markdown",
   "metadata": {},
   "source": [
    "По графикам мы можем усмотреть, что топовая пятерка игровых платформ была на пике продаж с 2012 по 2013 г."
   ]
  },
  {
   "cell_type": "markdown",
   "metadata": {},
   "source": [
    "#### Сейчас мы проанализируем, за какой характерный срок появляются и исчезают старые платформы"
   ]
  },
  {
   "cell_type": "code",
   "execution_count": 14,
   "metadata": {},
   "outputs": [
    {
     "data": {
      "image/png": "[encoded data removed]",
      "text/plain": [
       "<Figure size 864x576 with 1 Axes>"
      ]
     },
     "metadata": {
      "needs_background": "light"
     },
     "output_type": "display_data"
    }
   ],
   "source": [
    "filtered_df = df[(df['year_of_release'] >= 2012) & (df['year_of_release'] <= 2016)]\n",
    "\n",
    "# Определение топ-5 платформ по суммарным продажам\n",
    "top_5_platforms = filtered_df.groupby('platform')['total_sales'].sum().nlargest(5).index\n",
    "\n",
    "# Фильтрация данных по топ-5 платформам\n",
    "filtered_df = filtered_df[filtered_df['platform'].isin(top_5_platforms)]\n",
    "\n",
    "# Группировка данных по годам и платформам\n",
    "platform_sales = filtered_df.groupby(['year_of_release', 'platform'])['total_sales'].sum().unstack().fillna(0)\n",
    "\n",
    "# Построение графика\n",
    "plt.figure(figsize=(12, 8))\n",
    "platform_sales.plot(ax=plt.gca())\n",
    "plt.title('Распределение продаж по годам для топ-5 платформ (2012-2016)')\n",
    "plt.xlabel('Год выпуска')\n",
    "plt.ylabel('Суммарные продажи (млн копий)')\n",
    "plt.legend(title='Платформа', bbox_to_anchor=(1.05, 1), loc='upper left')\n",
    "plt.grid(True)\n",
    "plt.show()"
   ]
  },
  {
   "cell_type": "markdown",
   "metadata": {},
   "source": [
    "Новые платформы \"выстреливают\" в продажах в первые 1-2 года выпуска.  \n",
    "Средняя продолжительность удержания в топах продаж занимает примерно ~3 лет.  \n",
    "Актуальность новых платформ начинает снижаться в среднем около 6 лет до полной остановки продажи."
   ]
  },
  {
   "cell_type": "code",
   "execution_count": 15,
   "metadata": {},
   "outputs": [
    {
     "data": {
      "image/png": "[encoded data removed]",
      "text/plain": [
       "<Figure size 1008x576 with 1 Axes>"
      ]
     },
     "metadata": {
      "needs_background": "light"
     },
     "output_type": "display_data"
    },
    {
     "data": {
      "image/png": "[encoded data removed]",
      "text/plain": [
       "<Figure size 432x288 with 1 Axes>"
      ]
     },
     "metadata": {
      "needs_background": "light"
     },
     "output_type": "display_data"
    }
   ],
   "source": [
    "plt.figure(figsize=(14, 8))\n",
    "\n",
    "# Суммарные продажи по годам\n",
    "sales_per_year = df.groupby('year_of_release')['total_sales'].sum()\n",
    "sales_per_year.plot(kind='bar', color='blue', alpha=0.7)\n",
    "plt.xlabel('Год выпуска')\n",
    "plt.ylabel('Суммарные продажи(миллионы копий)')\n",
    "plt.title('Суммарные продажи платформ по годам')\n",
    "plt.show()\n",
    "\n",
    "# Количество выпущенных игр по годам\n",
    "games_per_year = df.groupby('year_of_release')['name'].count()\n",
    "games_per_year.plot(kind='bar', color='green', alpha=0.7)\n",
    "plt.xlabel('Год выпуска')\n",
    "plt.ylabel('Количество выпущенных игр')\n",
    "plt.title('Количество выпущенных игр по годам')\n",
    "plt.show()"
   ]
  },
  {
   "cell_type": "markdown",
   "metadata": {},
   "source": [
    "На первом графике мы усматриваем, что на отметка продаж свыше 500 млн было в период с 2006 по 2011 г. \n",
    "На втором графике видно, что и количество выпускаемых игр за этот период было более 800 млн. копий. "
   ]
  },
  {
   "cell_type": "code",
   "execution_count": 16,
   "metadata": {},
   "outputs": [
    {
     "name": "stdout",
     "output_type": "stream",
     "text": [
      "                          name platform  year_of_release         genre  \\\n",
      "0               Beyblade Burst      3DS             2016  Role-Playing   \n",
      "1            Fire Emblem Fates      3DS             2015  Role-Playing   \n",
      "2         Frozen: Olaf's Quest      3DS             2013      Platform   \n",
      "3         Frozen: Olaf's Quest       DS             2013      Platform   \n",
      "4   Haikyu!! Cross Team Match!      3DS             2016     Adventure   \n",
      "\n",
      "   na_sales  eu_sales  jp_sales  other_sales  critic_score  user_score rating  \\\n",
      "0      0.00      0.00      0.03         0.00          -1.0        -1.0   None   \n",
      "1      0.81      0.23      0.52         0.11          -1.0        -1.0   None   \n",
      "2      0.27      0.27      0.00         0.05          -1.0        -1.0   None   \n",
      "3      0.21      0.26      0.00         0.04          -1.0        -1.0   None   \n",
      "4      0.00      0.00      0.04         0.00          -1.0        -1.0   None   \n",
      "\n",
      "   total_sales  \n",
      "0         0.03  \n",
      "1         1.67  \n",
      "2         0.59  \n",
      "3         0.51  \n",
      "4         0.04  \n"
     ]
    },
    {
     "data": {
      "text/plain": [
       "<Figure size 1008x576 with 0 Axes>"
      ]
     },
     "metadata": {},
     "output_type": "display_data"
    },
    {
     "data": {
      "image/png": "[encoded data removed]",
      "text/plain": [
       "<Figure size 1008x576 with 1 Axes>"
      ]
     },
     "metadata": {
      "needs_background": "light"
     },
     "output_type": "display_data"
    },
    {
     "data": {
      "text/plain": [
       "<Figure size 1008x576 with 0 Axes>"
      ]
     },
     "metadata": {},
     "output_type": "display_data"
    },
    {
     "data": {
      "image/png": "[encoded data removed]",
      "text/plain": [
       "<Figure size 1008x576 with 1 Axes>"
      ]
     },
     "metadata": {
      "needs_background": "light"
     },
     "output_type": "display_data"
    },
    {
     "data": {
      "text/plain": [
       "<Figure size 1008x576 with 0 Axes>"
      ]
     },
     "metadata": {},
     "output_type": "display_data"
    },
    {
     "data": {
      "image/png": "[encoded data removed]",
      "text/plain": [
       "<Figure size 1008x576 with 1 Axes>"
      ]
     },
     "metadata": {
      "needs_background": "light"
     },
     "output_type": "display_data"
    }
   ],
   "source": [
    "df_recent = df[(df['year_of_release'] >= 2012) & (df['year_of_release'] <= 2016)]\n",
    "\n",
    "# Проверка полученного датафрейма\n",
    "print(df_recent.head())\n",
    "\n",
    "# Подсчет суммарных продаж по платформам за каждый год\n",
    "platform_sales_by_year = df_recent.groupby(['year_of_release', 'platform'])['total_sales'].sum().unstack().fillna(0)\n",
    "\n",
    "# Построение графика суммарных продаж по платформам за каждый год\n",
    "plt.figure(figsize=(14, 8))\n",
    "platform_sales_by_year.plot(kind='bar', stacked=True, colormap='tab20', figsize=(14, 8))\n",
    "plt.xlabel('Год')\n",
    "plt.ylabel('Суммарные продажи (миллионы копий)')\n",
    "plt.title('Суммарные продажи по платформам за 2012-2016 годы')\n",
    "plt.legend(title='Платформа', bbox_to_anchor=(1.05, 1), loc='upper left')\n",
    "plt.grid(True)\n",
    "plt.show()\n",
    "\n",
    "# Подсчет суммарных продаж по жанрам за каждый год\n",
    "genre_sales_by_year = df_recent.groupby(['year_of_release', 'genre'])['total_sales'].sum().unstack().fillna(0)\n",
    "\n",
    "# Построение графика суммарных продаж по жанрам за каждый год\n",
    "plt.figure(figsize=(14, 8))\n",
    "genre_sales_by_year.plot(kind='bar', stacked=True, colormap='tab20', figsize=(14, 8))\n",
    "plt.xlabel('Год')\n",
    "plt.ylabel('Суммарные продажи (миллионы копий)')\n",
    "plt.title('Суммарные продажи по жанрам за 2012-2016 годы')\n",
    "plt.legend(title='Жанр', bbox_to_anchor=(1.05, 1), loc='upper left')\n",
    "plt.grid(True)\n",
    "plt.show()\n",
    "\n",
    "# Подсчет суммарных продаж по регионам за каждый год\n",
    "region_sales_by_year = df_recent.groupby('year_of_release')[sales_columns].sum()\n",
    "\n",
    "# Построение графика суммарных продаж по регионам за каждый год\n",
    "plt.figure(figsize=(14, 8))\n",
    "region_sales_by_year.plot(kind='bar', stacked=True, colormap='tab20', figsize=(14, 8))\n",
    "plt.xlabel('Год')\n",
    "plt.ylabel('Суммарные продажи (миллионы копий)')\n",
    "plt.title('Суммарные продажи по регионам за 2012-2016 годы')\n",
    "plt.legend(title='Регион', bbox_to_anchor=(1.05, 1), loc='upper left')\n",
    "plt.grid(True)\n",
    "plt.show()"
   ]
  },
  {
   "cell_type": "markdown",
   "metadata": {},
   "source": [
    "*Наибольшие продажи:*  \n",
    "В течение этого периода платформы PlayStation 4 (PS4) и Xbox One (XOne) продемонстрировали высокие объемы продаж, особенно с момента их запуска в 2013 году.  \n",
    "*Снижающиеся продажи:*  \n",
    "Продажи на платформе PlayStation 3 (PS3) и Xbox 360 (X360) начали снижаться после выхода новых поколений консолей.  \n",
    "\n",
    "*Популярные жанры:*  \n",
    "Жанры Action, Shooter и Sports consistently показали высокие объемы продаж. Жанр Action был самым популярным на протяжении всего периода.\n",
    "*Менее популярные жанры:*  \n",
    "Жанры Puzzle и Strategy продемонстрировали более низкие объемы продаж, но сохраняли свою нишу.\n",
    "\n",
    "*Северная Америка (NA):*  \n",
    "Наибольшие продажи наблюдались в Северной Америке. Этот рынок был ключевым для многих платформ и жанров.\n",
    "*Европа (EU):*  \n",
    "Продажи в Европе также были высокими, но несколько ниже, чем в Северной Америке.\n",
    "*Япония (JP):*  \n",
    "Япония демонстрировала уникальные предпочтения в жанрах и платформах, с сильным акцентом на игры от Nintendo."
   ]
  },
  {
   "cell_type": "markdown",
   "metadata": {},
   "source": [
    "#### Теперь построим «ящик с усами» по глобальным продажам игр в разбивке по платформам"
   ]
  },
  {
   "cell_type": "code",
   "execution_count": 17,
   "metadata": {},
   "outputs": [
    {
     "data": {
      "image/png": "[encoded data removed]",
      "text/plain": [
       "<Figure size 864x432 with 1 Axes>"
      ]
     },
     "metadata": {
      "needs_background": "light"
     },
     "output_type": "display_data"
    }
   ],
   "source": [
    "import seaborn as sns\n",
    "\n",
    "plt.figure(figsize=(12, 6))\n",
    "sns.boxplot(x='platform', y='total_sales', data=df)\n",
    "plt.title('Boxplot of Total Sales by Platform (with outliers)')\n",
    "plt.xlabel('Platform')\n",
    "plt.ylabel('Total Sales')\n",
    "plt.xticks(rotation=45)\n",
    "plt.show()"
   ]
  },
  {
   "cell_type": "markdown",
   "metadata": {},
   "source": [
    "На графике видно множество выбросов, которые сильно превышают основные значения. Это указывает на то, что для некоторых игр продажи значительно выше среднего уровня. Выбросы обозначены отдельными точками.  \n",
    "Некоторые платформы, такие как PS2, X360 и Wii, имеют высокие медианные значения и широкий межквартильный диапазон, что указывает на высокие и стабильные продажи."
   ]
  },
  {
   "cell_type": "code",
   "execution_count": 18,
   "metadata": {},
   "outputs": [
    {
     "data": {
      "image/png": "[encoded data removed]",
      "text/plain": [
       "<Figure size 864x432 with 1 Axes>"
      ]
     },
     "metadata": {
      "needs_background": "light"
     },
     "output_type": "display_data"
    }
   ],
   "source": [
    "plt.figure(figsize=(12, 6))\n",
    "sns.boxplot(x='platform', y='total_sales', data=df)\n",
    "plt.title('Boxplot of Total Sales by Platform (without outliers)')\n",
    "plt.xlabel('Platform')\n",
    "plt.ylabel('Total Sales')\n",
    "plt.xticks(rotation=45)\n",
    "plt.ylim(0, 1)  # Ограничение диапазона значений по оси Y\n",
    "plt.show()"
   ]
  },
  {
   "cell_type": "markdown",
   "metadata": {},
   "source": [
    "На графике видно, что платформы, такие как PS2, X360 и Wii, по-прежнему показывают высокие медианные значения, тогда как другие платформы, например, PSP и DS, имеют меньшие значения"
   ]
  },
  {
   "cell_type": "markdown",
   "metadata": {},
   "source": [
    "PS2, X360 и Wii: Эти платформы выделяются как наиболее успешные по уровню продаж. У них высокие медианные значения и широкий межквартильный диапазон, что свидетельствует о высоких и стабильных продажах."
   ]
  },
  {
   "cell_type": "markdown",
   "metadata": {},
   "source": [
    "#### Оценим продажи внутри одной популярной платформы отзывы пользователей и критиков. "
   ]
  },
  {
   "cell_type": "code",
   "execution_count": 19,
   "metadata": {},
   "outputs": [
    {
     "data": {
      "image/png": "[encoded data removed]",
      "text/plain": [
       "<Figure size 864x432 with 1 Axes>"
      ]
     },
     "metadata": {
      "needs_background": "light"
     },
     "output_type": "display_data"
    },
    {
     "data": {
      "image/png": "[encoded data removed]",
      "text/plain": [
       "<Figure size 864x432 with 1 Axes>"
      ]
     },
     "metadata": {
      "needs_background": "light"
     },
     "output_type": "display_data"
    },
    {
     "data": {
      "text/plain": [
       "(0.40656790206178134, -0.031957110204556355)"
      ]
     },
     "execution_count": 19,
     "metadata": {},
     "output_type": "execute_result"
    }
   ],
   "source": [
    "# Фильтрация данных для PS4 в 2016 году\n",
    "df_2012_2016_ps4 = df[(df['year_of_release'] >= 2012) & (df['year_of_release'] <= 2016) & (df['platform'] == 'PS4')] \n",
    "\n",
    "# Исключение заглушек для критических оценок и построение диаграммы рассеяния\n",
    "df_critic = df_2012_2016_ps4[df_2012_2016_ps4['critic_score'] != -1]\n",
    "plt.figure(figsize=(12, 6))\n",
    "sns.scatterplot(data=df_critic, x='critic_score', y='total_sales')\n",
    "plt.title('Зависимость продаж от оценок критиков (PS4, 2012-2016)')\n",
    "plt.xlabel('Оценка критиков')\n",
    "plt.ylabel('Суммарные продажи')\n",
    "plt.show()\n",
    "\n",
    "# Исключение заглушек для оценок пользователей и построение диаграммы рассеяния\n",
    "df_user = df_2012_2016_ps4[df_2012_2016_ps4['user_score'] != -1]\n",
    "plt.figure(figsize=(12, 6))\n",
    "sns.scatterplot(data=df_user, x='user_score', y='total_sales')\n",
    "plt.title('Зависимость продаж от оценок пользователей (PS4, 2012-2016)')\n",
    "plt.xlabel('Оценка пользователей')\n",
    "plt.ylabel('Суммарные продажи')\n",
    "plt.show()\n",
    "\n",
    "# Расчет коэффициентов корреляции\n",
    "correlation_critic = df_critic['critic_score'].corr(df_critic['total_sales'])\n",
    "correlation_user = df_user['user_score'].corr(df_user['total_sales'])\n",
    "\n",
    "correlation_critic, correlation_user"
   ]
  },
  {
   "cell_type": "markdown",
   "metadata": {},
   "source": [
    "Корреляция между оценками критиков и продажами для платформы **PS4:** 0.40656790206178134  \n",
    "Игры с высокими оценками критиков имеют большие продажи. Однако стоит отметить, что корреляция не является очень высокой, но всё же показывает некоторую зависимость.\n",
    "Корреляция между оценками пользователей и продажами для платформы **PS4:** -0.031957110204556355  \n",
    "Пользовательские оценки не оказывают значительного влияния на решение покупателей о покупке игр на данной платформе."
   ]
  },
  {
   "cell_type": "markdown",
   "metadata": {},
   "source": [
    "Проводя корреляцию между отзывами и продажами и учитывая итоговый ответ, мы можем сказать, что корреляция близка к нулю. Скорее всего оценки пользователей или критиков слабо влияют на продажи или не влияют вовсе."
   ]
  },
  {
   "cell_type": "markdown",
   "metadata": {},
   "source": [
    "#### Теперь можно сравнить эти данные с остальными платформами"
   ]
  },
  {
   "cell_type": "code",
   "execution_count": 21,
   "metadata": {
    "scrolled": false
   },
   "outputs": [
    {
     "data": {
      "image/png": "[encoded data removed]",
      "text/plain": [
       "<Figure size 864x432 with 1 Axes>"
      ]
     },
     "metadata": {
      "needs_background": "light"
     },
     "output_type": "display_data"
    },
    {
     "data": {
      "image/png": "[encoded data removed]",
      "text/plain": [
       "<Figure size 864x432 with 1 Axes>"
      ]
     },
     "metadata": {
      "needs_background": "light"
     },
     "output_type": "display_data"
    },
    {
     "data": {
      "image/png": "[encoded data removed]",
      "text/plain": [
       "<Figure size 864x432 with 1 Axes>"
      ]
     },
     "metadata": {
      "needs_background": "light"
     },
     "output_type": "display_data"
    },
    {
     "data": {
      "image/png": "[encoded data removed]",
      "text/plain": [
       "<Figure size 864x432 with 1 Axes>"
      ]
     },
     "metadata": {
      "needs_background": "light"
     },
     "output_type": "display_data"
    },
    {
     "data": {
      "image/png": "[encoded data removed]",
      "text/plain": [
       "<Figure size 864x432 with 1 Axes>"
      ]
     },
     "metadata": {
      "needs_background": "light"
     },
     "output_type": "display_data"
    },
    {
     "data": {
      "image/png": "[encoded data removed]",
      "text/plain": [
       "<Figure size 864x432 with 1 Axes>"
      ]
     },
     "metadata": {
      "needs_background": "light"
     },
     "output_type": "display_data"
    },
    {
     "data": {
      "image/png": "[encoded data removed]",
      "text/plain": [
       "<Figure size 864x432 with 1 Axes>"
      ]
     },
     "metadata": {
      "needs_background": "light"
     },
     "output_type": "display_data"
    },
    {
     "data": {
      "image/png": "[encoded data removed]",
      "text/plain": [
       "<Figure size 864x432 with 1 Axes>"
      ]
     },
     "metadata": {
      "needs_background": "light"
     },
     "output_type": "display_data"
    },
    {
     "data": {
      "image/png": "[encoded data removed]",
      "text/plain": [
       "<Figure size 864x432 with 1 Axes>"
      ]
     },
     "metadata": {
      "needs_background": "light"
     },
     "output_type": "display_data"
    },
    {
     "data": {
      "image/png": "[encoded data removed]",
      "text/plain": [
       "<Figure size 864x432 with 1 Axes>"
      ]
     },
     "metadata": {
      "needs_background": "light"
     },
     "output_type": "display_data"
    },
    {
     "data": {
      "text/plain": [
       "{'XOne': {'critic_score_correlation': 0.416998328008402,\n",
       "  'user_score_correlation': -0.06892505328279423},\n",
       " 'PC': {'critic_score_correlation': 0.23724324311567904,\n",
       "  'user_score_correlation': -0.12186747630735568},\n",
       " 'PS2': {'critic_score_correlation': nan, 'user_score_correlation': nan},\n",
       " 'X360': {'critic_score_correlation': 0.36057348885073387,\n",
       "  'user_score_correlation': 0.006163978646213353},\n",
       " 'Wii': {'critic_score_correlation': -0.42434130110774954,\n",
       "  'user_score_correlation': 0.29619680007479526}}"
      ]
     },
     "execution_count": 21,
     "metadata": {},
     "output_type": "execute_result"
    }
   ],
   "source": [
    "# Ограничим данные с 2012 по 2016 год\n",
    "df_2012_2016 = df[(df['year_of_release'] >= 2012) & (df['year_of_release'] <= 2016)]\n",
    "\n",
    "# Создадим словарь для хранения корреляционных коэффициентов\n",
    "correlations = {}\n",
    "\n",
    "# Определим платформы для анализа\n",
    "platforms = ['XOne', 'PC', 'PS2', 'X360', 'Wii']\n",
    "\n",
    "for platform in platforms:\n",
    "    # Отфильтруем данные для текущей платформы\n",
    "    df_platform = df_2012_2016[df_2012_2016['platform'] == platform]\n",
    "    \n",
    "    # Отфильтруем данные по критическим оценкам\n",
    "    df_platform_critic = df_platform[df_platform['critic_score'] != -1]\n",
    "    # Построим диаграмму рассеяния для оценок критиков\n",
    "    plt.figure(figsize=(12, 6))\n",
    "    sns.scatterplot(data=df_platform_critic, x='critic_score', y='total_sales')\n",
    "    plt.title(f'Scatter Plot of Critic Scores vs. Total Sales ({platform}, 2012-2016)')\n",
    "    plt.xlabel('Critic Score')\n",
    "    plt.ylabel('Total Sales')\n",
    "    plt.show()\n",
    "    \n",
    "    # Отфильтруем данные по оценкам пользователей\n",
    "    df_platform_user = df_platform[df_platform['user_score'] != -1]\n",
    "    # Построим диаграмму рассеяния для оценок пользователей\n",
    "    plt.figure(figsize=(12, 6))\n",
    "    sns.scatterplot(data=df_platform_user, x='user_score', y='total_sales')\n",
    "    plt.title(f'Scatter Plot of User Scores vs. Total Sales ({platform}, 2012-2016)')\n",
    "    plt.xlabel('User Score')\n",
    "    plt.ylabel('Total Sales')\n",
    "    plt.show()\n",
    "    \n",
    "    # Посчитаем коэффициенты корреляции\n",
    "    correlation_critic = df_platform_critic['critic_score'].corr(df_platform_critic['total_sales'])\n",
    "    correlation_user = df_platform_user['user_score'].corr(df_platform_user['total_sales'])\n",
    "    \n",
    "    # Сохраним результаты в словарь\n",
    "    correlations[platform] = {\n",
    "        'critic_score_correlation': correlation_critic,\n",
    "        'user_score_correlation': correlation_user\n",
    "    }\n",
    "\n",
    "# Печать корреляционных коэффициентов\n",
    "correlations\n"
   ]
  },
  {
   "cell_type": "markdown",
   "metadata": {},
   "source": [
    "Корреляция между оценками критиков и продажами для платформы **XOne:** 0.416998328008402  \n",
    "Корреляция между оценками пользователей и продажами для платформы **XOne:** -0.06892505328279423  \n",
    "Присутствует положительная корреляция между оценками критиков и продажами игр на платформе Xbox One. Однако корреляция с оценками пользователей близка к нулю, что может указывать на то, что пользовательские оценки не так сильно влияют на продажи.\n",
    "\n",
    "Корреляция между оценками критиков и продажами для платформы **PC:** 0.23724324311567904    \n",
    "Корреляция между оценками пользователей и продажами для платформы **PC:** -0.12186747630735568.  \n",
    "Корреляция с оценками критиков и пользователей на платформе PC также низкая и близка к нулю, что может свидетельствовать о слабой зависимости между оценками и продажами.\n",
    "\n",
    "Корреляция между оценками критиков и продажами для платформы **X360:** 0.36057348885073387\n",
    "Корреляция между оценками пользователей и продажами для платформы **Х360:** 0.006163978646213353\n",
    "На платформе Xbox 360 корреляция с оценками критиков положительная, но не слишком высокая. Оценки пользователей практически не влияют на продажи.\n",
    "\n",
    "Корреляция между оценками критиков и продажами для платформы **Wii:** -0.42434130110774954\n",
    "Корреляция между оценками пользователей и продажами для платформы **Wii:** 0.29619680007479526\n",
    "На Wii прослеживается негативная корреляция с оценками критиков, что может означать, что игры с высокими оценками критиков продаются менее успешно. В то же время положительная корреляция с оценками пользователей может указывать на то, что пользовательские оценки оказывают большее влияние на продажи."
   ]
  },
  {
   "cell_type": "markdown",
   "metadata": {},
   "source": [
    "Ориентироваться на критиков при продвижении игр для Xbox One и PS4, так как их оценки значительно влияют на продажи.  \n",
    "На PS4 и PC учитывать оценки пользователей, но не полагаться на них полностью, так как их влияние на продажи умеренное.  \n",
    "Учитывать меньшую значимость оценок критиков на PC и возможные другие факторы, влияющие на продажи, такие как функциональность и технические характеристики игр.  \n",
    "На Xbox One исследовать причины отрицательной корреляции и учитывать другие факторы, которые могут быть важнее для пользователей этой платформы."
   ]
  },
  {
   "cell_type": "markdown",
   "metadata": {},
   "source": [
    "#### Посмотрим на на общее распределение игр по жанрам."
   ]
  },
  {
   "cell_type": "code",
   "execution_count": 22,
   "metadata": {},
   "outputs": [
    {
     "data": {
      "image/png": "[encoded data removed]",
      "text/plain": [
       "<Figure size 864x576 with 1 Axes>"
      ]
     },
     "metadata": {
      "needs_background": "light"
     },
     "output_type": "display_data"
    }
   ],
   "source": [
    "import seaborn as sns\n",
    "\n",
    "genre_median_sales_2012_2016 = df_2012_2016.groupby('genre')['total_sales'].median().reset_index()\n",
    "\n",
    "# Сортировка данных по медианным продажам\n",
    "genre_median_sales_2012_2016 = genre_median_sales_2012_2016.sort_values(by='total_sales', ascending=False)\n",
    "\n",
    "# Построение графика\n",
    "plt.figure(figsize=(12, 8))\n",
    "sns.barplot(x='total_sales', y='genre', data=genre_median_sales_2012_2016, palette='viridis')\n",
    "plt.title('Медианные глобальные продажи игр по жанрам за 2012-2016 год')\n",
    "plt.xlabel('Медианные глобальные продажи (в миллионах)')\n",
    "plt.ylabel('Жанр')\n",
    "plt.show()"
   ]
  },
  {
   "cell_type": "markdown",
   "metadata": {},
   "source": [
    "**Жанры с высокими медианными продажами:**  \n",
    "*Shooter:* Жанр шутеров демонстрирует самые высокие медианные продажи. Это указывает на то, что даже средняя игра в этом жанре имеет высокие продажи.  \n",
    "*Platform:* Игры в жанре платформеров также показывают высокие медианные продажи, что говорит о стабильном спросе на этот жанр.\n",
    "\n",
    "**Жанры со средними медианными продажами:**  \n",
    "*Role-Playing и Action:* Эти жанры занимают средние позиции по медианным продажам. Это означает, что хотя некоторые игры в этих жанрах могут быть очень успешными, средние продажи все же остаются на уровне средних значений.  \n",
    "\n",
    "**Жанры с низкими медианными продажами:**   \n",
    "*Puzzle и Strategy:* Эти жанры показывают самые низкие медианные продажи, что говорит о меньшей прибыльности среднестатистической игры в этих жанрах."
   ]
  },
  {
   "cell_type": "markdown",
   "metadata": {},
   "source": [
    "### Составление портрета пользователя каждого региона"
   ]
  },
  {
   "cell_type": "code",
   "execution_count": 23,
   "metadata": {},
   "outputs": [
    {
     "data": {
      "image/png": "[encoded data removed]",
      "text/plain": [
       "<Figure size 864x1296 with 3 Axes>"
      ]
     },
     "metadata": {},
     "output_type": "display_data"
    }
   ],
   "source": [
    "platform_sales_na = df_2012_2016.groupby('platform')['na_sales'].sum().reset_index().sort_values(by='na_sales', ascending=False)\n",
    "platform_sales_eu = df_2012_2016.groupby('platform')['eu_sales'].sum().reset_index().sort_values(by='eu_sales', ascending=False)\n",
    "platform_sales_jp = df_2012_2016.groupby('platform')['jp_sales'].sum().reset_index().sort_values(by='jp_sales', ascending=False)\n",
    "\n",
    "# Выделение топ-5 платформ и объединение остальных\n",
    "top_5_na = platform_sales_na.head(5)\n",
    "other_na = platform_sales_na.iloc[5:].sum().to_frame().T\n",
    "other_na['platform'] = 'Other'\n",
    "top_5_na = pd.concat([top_5_na, other_na], ignore_index=True)\n",
    "\n",
    "top_5_eu = platform_sales_eu.head(5)\n",
    "other_eu = platform_sales_eu.iloc[5:].sum().to_frame().T\n",
    "other_eu['platform'] = 'Other'\n",
    "top_5_eu = pd.concat([top_5_eu, other_eu], ignore_index=True)\n",
    "\n",
    "top_5_jp = platform_sales_jp.head(5)\n",
    "other_jp = platform_sales_jp.iloc[5:].sum().to_frame().T\n",
    "other_jp['platform'] = 'Other'\n",
    "top_5_jp = pd.concat([top_5_jp, other_jp], ignore_index=True)\n",
    "\n",
    "fig, axs = plt.subplots(3, 1, figsize=(12, 18))\n",
    "\n",
    "# NA\n",
    "axs[0].pie(top_5_na['na_sales'], labels=top_5_na['platform'], autopct='%1.1f%%', startangle=140)\n",
    "axs[0].set_title('Доли продаж платформ в Северной Америке (2012-2016)')\n",
    "\n",
    "# EU\n",
    "axs[1].pie(top_5_eu['eu_sales'], labels=top_5_eu['platform'], autopct='%1.1f%%', startangle=140)\n",
    "axs[1].set_title('Доли продаж платформ в Европе (2012-2016)')\n",
    "\n",
    "# JP\n",
    "axs[2].pie(top_5_jp['jp_sales'], labels=top_5_jp['platform'], autopct='%1.1f%%', startangle=140)\n",
    "axs[2].set_title('Доли продаж платформ в Японии (2012-2016)')\n",
    "\n",
    "plt.tight_layout()\n",
    "plt.show()"
   ]
  },
  {
   "cell_type": "markdown",
   "metadata": {},
   "source": [
    "В Американском рынке основная доля продаж сосредоточена на нескольких платформах, среди которых доминируют консоли от Microsoft и Sony.  \n",
    "Европейский рынок показывает большее распределение платформ с высокой долей продаж как на домашних, так и на портативных консолях.  \n",
    "В Японии доминируют портативные устройства и консоли от Nintendo."
   ]
  },
  {
   "cell_type": "code",
   "execution_count": 24,
   "metadata": {},
   "outputs": [
    {
     "data": {
      "image/png": "[encoded data removed]",
      "text/plain": [
       "<Figure size 432x288 with 1 Axes>"
      ]
     },
     "metadata": {},
     "output_type": "display_data"
    },
    {
     "data": {
      "image/png": "[encoded data removed]",
      "text/plain": [
       "<Figure size 432x288 with 1 Axes>"
      ]
     },
     "metadata": {},
     "output_type": "display_data"
    },
    {
     "data": {
      "image/png": "[encoded data removed]",
      "text/plain": [
       "<Figure size 432x288 with 1 Axes>"
      ]
     },
     "metadata": {},
     "output_type": "display_data"
    }
   ],
   "source": [
    "genre_sales_na = df_2012_2016.groupby('genre')['na_sales'].sum().reset_index().sort_values(by='na_sales', ascending=False)\n",
    "genre_sales_eu = df_2012_2016.groupby('genre')['eu_sales'].sum().reset_index().sort_values(by='eu_sales', ascending=False)\n",
    "genre_sales_jp = df_2012_2016.groupby('genre')['jp_sales'].sum().reset_index().sort_values(by='jp_sales', ascending=False)\n",
    "\n",
    "# Выделение топ-5 жанров\n",
    "top_5_genres_na = genre_sales_na.head(5)\n",
    "top_5_genres_eu = genre_sales_eu.head(5)\n",
    "top_5_genres_jp = genre_sales_jp.head(5)\n",
    "\n",
    "def plot_pie(data, title, column):\n",
    "    labels = data['genre']\n",
    "    sizes = data[column]\n",
    "    plt.pie(sizes, labels=labels, autopct='%1.1f%%', startangle=140)\n",
    "    plt.title(title)\n",
    "    plt.axis('equal')  # Equal aspect ratio ensures that pie is drawn as a circle.\n",
    "    plt.show()\n",
    "\n",
    "# Построение круговых диаграмм для каждого региона\n",
    "plot_pie(top_5_genres_na, 'Доли продаж жанров в Северной Америке (2012-2016)', 'na_sales')\n",
    "plot_pie(top_5_genres_eu, 'Доли продаж жанров в Европе (2012-2016)', 'eu_sales')\n",
    "plot_pie(top_5_genres_jp, 'Доли продаж жанров в Японии (2012-2016)', 'jp_sales')"
   ]
  },
  {
   "cell_type": "markdown",
   "metadata": {},
   "source": [
    "В Северной Америке наибольшей популярностью пользуются жанры, связанные с активными действиями, спортом и приключениями.  \n",
    "Европейский рынок также демонстрирует высокую популярность активных жанров, с дополнительным интересом к ролевым играм и симуляторам.  \n",
    "Японии доминируют жанры, ориентированные на ролевые игры, приключения и симуляторы, что отражает культурные предпочтения и популярность сюжетно-ориентированных игр."
   ]
  },
  {
   "cell_type": "markdown",
   "metadata": {},
   "source": [
    "#### Теперь выясним влияет ли рейтинг ESRB на продажи в отдельном регионе."
   ]
  },
  {
   "cell_type": "code",
   "execution_count": 25,
   "metadata": {},
   "outputs": [
    {
     "data": {
      "image/png": "[encoded data removed]",
      "text/plain": [
       "<Figure size 720x432 with 1 Axes>"
      ]
     },
     "metadata": {
      "needs_background": "light"
     },
     "output_type": "display_data"
    },
    {
     "data": {
      "image/png": "[encoded data removed]",
      "text/plain": [
       "<Figure size 720x432 with 1 Axes>"
      ]
     },
     "metadata": {
      "needs_background": "light"
     },
     "output_type": "display_data"
    },
    {
     "data": {
      "image/png": "[encoded data removed]",
      "text/plain": [
       "<Figure size 720x432 with 1 Axes>"
      ]
     },
     "metadata": {
      "needs_background": "light"
     },
     "output_type": "display_data"
    }
   ],
   "source": [
    "df['rating'] = df['rating'].fillna('No Rating')\n",
    "\n",
    "na_sales_by_rating = df.groupby('rating')['na_sales'].sum().sort_values(ascending=False)\n",
    "\n",
    "# Построение столбчатой диаграммы для Северной Америки\n",
    "plt.figure(figsize=(10, 6))\n",
    "na_sales_by_rating.plot(kind='bar', color='skyblue')\n",
    "plt.title('Продажи в Северной Америке по рейтингам ESRB')\n",
    "plt.xlabel('Рейтинг ESRB')\n",
    "plt.ylabel('Продажи (млн копий)')\n",
    "plt.xticks(rotation=45)\n",
    "plt.grid(axis='y', linestyle='--', alpha=0.7)\n",
    "plt.show()\n",
    "\n",
    "# Группировка данных по рейтингу ESRB и суммирование продаж в Европе\n",
    "eu_sales_by_rating = df.groupby('rating')['eu_sales'].sum().sort_values(ascending=False)\n",
    "\n",
    "# Построение столбчатой диаграммы для Европы\n",
    "plt.figure(figsize=(10, 6))\n",
    "eu_sales_by_rating.plot(kind='bar', color='lightgreen')\n",
    "plt.title('Продажи в Европе по рейтингам ESRB')\n",
    "plt.xlabel('Рейтинг ESRB')\n",
    "plt.ylabel('Продажи (млн копий)')\n",
    "plt.xticks(rotation=45)\n",
    "plt.grid(axis='y', linestyle='--', alpha=0.7)\n",
    "plt.show()\n",
    "\n",
    "# Группировка данных по рейтингу ESRB и суммирование продаж в Японии\n",
    "jp_sales_by_rating = df.groupby('rating')['jp_sales'].sum().sort_values(ascending=False)\n",
    "\n",
    "# Построение столбчатой диаграммы для Японии\n",
    "plt.figure(figsize=(10, 6))\n",
    "jp_sales_by_rating.plot(kind='bar', color='salmon')\n",
    "plt.title('Продажи в Японии по рейтингам ESRB')\n",
    "plt.xlabel('Рейтинг ESRB')\n",
    "plt.ylabel('Продажи (млн копий)')\n",
    "plt.xticks(rotation=45)\n",
    "plt.grid(axis='y', linestyle='--', alpha=0.7)\n",
    "plt.show()"
   ]
  },
  {
   "cell_type": "markdown",
   "metadata": {},
   "source": [
    "**NA**  \n",
    "*Рейтинги с наибольшими продажами:*  \n",
    "В данном регионе наибольшие продажи имеют игры с рейтингом E, M, и T.  \n",
    "*Отсутствие рейтинга:* Игры с отсутствием рейтинга (\"No Rating\") могут демонстрировать существенные продажи, что указывает на то, что рейтинг не всегда является решающим фактором для продаж в этом регионе.  \n",
    "\n",
    "**EU**  \n",
    "*Рейтинги с наибольшими продажами:* В Европе также популярны игры с рейтингами E, M, и T.  \n",
    "*Отсутствие рейтинга:* Игры без рейтинга также могут занимать значительную долю продаж, что свидетельствует о схожей тенденции с Северной Америкой.\n",
    "\n",
    "**JP**  \n",
    "*Рейтинги с наибольшими продажами:*  \n",
    "В Японии популярность рейтингов может различаться от западных регионов. Здесь можно увидеть больший интерес к играм с рейтингом A (All Ages) или C (15+).  \n",
    "*Отсутствие рейтинга:*   \n",
    "В Японии игры без рейтинга также могут иметь значительные продажи."
   ]
  },
  {
   "cell_type": "markdown",
   "metadata": {},
   "source": [
    "#### Влияние рейтинга ESRB на продажи в отдельном регионе"
   ]
  },
  {
   "cell_type": "markdown",
   "metadata": {},
   "source": [
    "Для проверки гипотез о влиянии рейтингов ESRB на продажи в разных регионах можно использовать дисперсионный анализ ANOVA\n",
    "\n",
    "Нулевая гипотеза (H0): Средние продажи в регионе не зависят от рейтинга ESRB.  \n",
    "Альтернативная гипотеза (H1): Средние продажи в регионе зависят от рейтинга ESRB."
   ]
  },
  {
   "cell_type": "code",
   "execution_count": 26,
   "metadata": {},
   "outputs": [
    {
     "name": "stdout",
     "output_type": "stream",
     "text": [
      "NA_sales: F=18.04, p=0.00000\n",
      "EU_sales: F=19.82, p=0.00000\n",
      "JP_sales: F=4.13, p=0.00095\n"
     ]
    }
   ],
   "source": [
    "import scipy.stats as stats\n",
    "\n",
    "# ANOVA для na_sales\n",
    "f_val_na, p_val_na = stats.f_oneway(\n",
    "    df[df['rating'] == 'E']['na_sales'],\n",
    "    df[df['rating'] == 'T']['na_sales'],\n",
    "    df[df['rating'] == 'M']['na_sales'],\n",
    "    df[df['rating'] == 'E10+']['na_sales'],\n",
    "    df[df['rating'] == 'AO']['na_sales'],\n",
    "    df[df['rating'] == 'K-A']['na_sales']\n",
    ")\n",
    "print(f'NA_sales: F={f_val_na:.2f}, p={p_val_na:.5f}')\n",
    "\n",
    "# ANOVA для eu_sales\n",
    "f_val_eu, p_val_eu = stats.f_oneway(\n",
    "    df[df['rating'] == 'E']['eu_sales'],\n",
    "    df[df['rating'] == 'T']['eu_sales'],\n",
    "    df[df['rating'] == 'M']['eu_sales'],\n",
    "    df[df['rating'] == 'E10+']['eu_sales'],\n",
    "    df[df['rating'] == 'AO']['eu_sales'],\n",
    "    df[df['rating'] == 'K-A']['eu_sales']\n",
    ")\n",
    "print(f'EU_sales: F={f_val_eu:.2f}, p={p_val_eu:.5f}')\n",
    "\n",
    "# ANOVA для jp_sales\n",
    "f_val_jp, p_val_jp = stats.f_oneway(\n",
    "    df[df['rating'] == 'E']['jp_sales'],\n",
    "    df[df['rating'] == 'T']['jp_sales'],\n",
    "    df[df['rating'] == 'M']['jp_sales'],\n",
    "    df[df['rating'] == 'E10+']['jp_sales'],\n",
    "    df[df['rating'] == 'AO']['jp_sales'],\n",
    "    df[df['rating'] == 'K-A']['jp_sales']\n",
    ")\n",
    "print(f'JP_sales: F={f_val_jp:.2f}, p={p_val_jp:.5f}')"
   ]
  },
  {
   "cell_type": "markdown",
   "metadata": {},
   "source": [
    "Во всех регионах (Северная Америка, Европа, Япония) p-значения очень мало (в среднем практически равно 0), что говорит о статистической значимости различий в средних значениях продаж между разными рейтингами ESRB.  \n",
    "Это означает, что мы можем отвергнуть нулевую гипотезу о равенстве средних продаж для разных рейтингов ESRB в пользу альтернативной гипотезы о том, что средние продаж отличаются в зависимости от рейтинга ESRB.  \n",
    "Таким образом, рейтинг ESRB все еще оказывает влияние на продажи игр в различных регионах, и это подтверждается новыми показателями."
   ]
  },
  {
   "cell_type": "markdown",
   "metadata": {},
   "source": [
    "### Проверка гипотез"
   ]
  },
  {
   "cell_type": "markdown",
   "metadata": {},
   "source": [
    "#### Гипотеза \"Средние пользовательские рейтинги платформ Xbox One и PC одинаковые\"."
   ]
  },
  {
   "cell_type": "markdown",
   "metadata": {},
   "source": [
    "Нулевая гипотеза (H₀): Средние пользовательские рейтинги платформ Xbox One и PC одинаковые.  \n",
    "Альтернативная гипотеза (H₁): Средние пользовательские рейтинги платформ Xbox One и PC различаются."
   ]
  },
  {
   "cell_type": "code",
   "execution_count": 27,
   "metadata": {},
   "outputs": [
    {
     "name": "stdout",
     "output_type": "stream",
     "text": [
      "Shapiro-Wilk test for Xbox One ratings: ShapiroResult(statistic=0.7894643545150757, pvalue=1.5238968099690892e-17)\n",
      "Shapiro-Wilk test for PC ratings: ShapiroResult(statistic=0.8195375204086304, pvalue=2.412218543673423e-16)\n",
      "T-test result: Ttest_indResult(statistic=-1.9151103251736437, pvalue=0.05605440473353151)\n",
      "Не отвергаем нулевую гипотезу: средние пользовательские рейтинги платформ Xbox One и PC одинаковые.\n"
     ]
    }
   ],
   "source": [
    "import scipy.stats as stats\n",
    "\n",
    "# Извлечение пользовательских рейтингов для платформ Xbox One и PC\n",
    "xbox_one_ratings = df_2012_2016[df_2012_2016['platform'] == 'XOne']['user_score']\n",
    "pc_ratings = df_2012_2016[df_2012_2016['platform'] == 'PC']['user_score']\n",
    "\n",
    "# Задаем пороговое значение alpha\n",
    "alpha = 0.05\n",
    "\n",
    "# Проверка нормальности распределения рейтингов\n",
    "print(\"Shapiro-Wilk test for Xbox One ratings:\", stats.shapiro(xbox_one_ratings.dropna()))\n",
    "print(\"Shapiro-Wilk test for PC ratings:\", stats.shapiro(pc_ratings.dropna()))\n",
    "\n",
    "# Проведение t-теста для независимых выборок с игнорированием пропусков\n",
    "t_test_result = stats.ttest_ind(xbox_one_ratings, pc_ratings, nan_policy='omit')\n",
    "print(\"T-test result:\", t_test_result)\n",
    "\n",
    "# Интерпретация результата\n",
    "if t_test_result.pvalue < alpha:\n",
    "    print(\"Отвергаем нулевую гипотезу: средние пользовательские рейтинги платформ Xbox One и PC различаются.\")\n",
    "else:\n",
    "    print(\"Не отвергаем нулевую гипотезу: средние пользовательские рейтинги платформ Xbox One и PC одинаковые.\")"
   ]
  },
  {
   "cell_type": "markdown",
   "metadata": {},
   "source": [
    "#### Гипотеза \"Средние пользовательские рейтинги жанров Action и Sports разные\"."
   ]
  },
  {
   "cell_type": "markdown",
   "metadata": {},
   "source": [
    "Нулевая гипотеза (H₀): Средние пользовательские рейтинги жанров Action и Sports одинаковые.  \n",
    "Альтернативная гипотеза (H₁): Средние пользовательские рейтинги жанров Action и Sports разные."
   ]
  },
  {
   "cell_type": "code",
   "execution_count": 28,
   "metadata": {},
   "outputs": [
    {
     "name": "stdout",
     "output_type": "stream",
     "text": [
      "Shapiro-Wilk test for Action ratings: ShapiroResult(statistic=0.7436951398849487, pvalue=3.9022660106324115e-37)\n",
      "Shapiro-Wilk test for Sports ratings: ShapiroResult(statistic=0.8551616668701172, pvalue=4.112925600004971e-15)\n",
      "T-test result: Ttest_indResult(statistic=-2.703283898504859, pvalue=0.006955563564265583)\n",
      "Отвергаем нулевую гипотезу: средние пользовательские рейтинги жанров Action и Sports различаются.\n"
     ]
    }
   ],
   "source": [
    "# Извлечение пользовательских рейтингов для жанров Action и Sports\n",
    "action_ratings = df_2012_2016[df_2012_2016['genre'] == 'Action']['user_score']\n",
    "sports_ratings = df_2012_2016[df_2012_2016['genre'] == 'Sports']['user_score']\n",
    "\n",
    "# Задаем пороговое значение alpha\n",
    "alpha = 0.05\n",
    "\n",
    "# Проверка нормальности распределения рейтингов\n",
    "print(\"Shapiro-Wilk test for Action ratings:\", stats.shapiro(action_ratings.dropna()))\n",
    "print(\"Shapiro-Wilk test for Sports ratings:\", stats.shapiro(sports_ratings.dropna()))\n",
    "\n",
    "# Проведение t-теста для независимых выборок с игнорированием пропусков\n",
    "t_test_result = stats.ttest_ind(action_ratings, sports_ratings, nan_policy='omit')\n",
    "print(\"T-test result:\", t_test_result)\n",
    "\n",
    "# Интерпретация результата\n",
    "if t_test_result.pvalue < alpha:\n",
    "    print(\"Отвергаем нулевую гипотезу: средние пользовательские рейтинги жанров Action и Sports различаются.\")\n",
    "else:\n",
    "    print(\"Не отвергаем нулевую гипотезу: средние пользовательские рейтинги жанров Action и Sports одинаковые.\")"
   ]
  },
  {
   "cell_type": "markdown",
   "metadata": {},
   "source": [
    "По результатам проведенного анализа, можно сделать вывод, что средние пользовательские рейтинги жанров Action и Sports различаются."
   ]
  },
  {
   "cell_type": "markdown",
   "metadata": {},
   "source": [
    "Формирование гипотез состояло в следующем:\n",
    "Нулевая гипотеза (H₀):\n",
    "\n",
    "Формулировка: Средние пользовательские рейтинги жанров Action и Sports одинаковые.\n",
    "Обоснование: Нулевая гипотеза предполагает отсутствие различий между сравниваемыми группами. В данном случае это означает, что нет статистически значимых различий в пользовательских рейтингах между жанрами Action и Sports.\n",
    "Альтернативная гипотеза (H₁):\n",
    "\n",
    "Формулировка: Средние пользовательские рейтинги жанров Action и Sports разные.\n",
    "Обоснование: Альтернативная гипотеза предполагает наличие различий между сравниваемыми группами. В данном случае это означает, что существует статистически значимая разница в пользовательских рейтингах между жанрами Action и Sports.\n",
    "\n",
    "Также критерием для проверки гипотез мы прибегли к t-тест для независимых выборок.\n",
    "t-тест используется для сравнения средних значений двух независимых выборок. Он предполагает, что данные в выборках нормально распределены и имеют однородные дисперсии. Мы проверили эти условия с помощью Shapiro-Wilk теста на нормальность."
   ]
  },
  {
   "cell_type": "markdown",
   "metadata": {},
   "source": [
    "### Общий вывод"
   ]
  },
  {
   "cell_type": "markdown",
   "metadata": {},
   "source": [
    "В рамках данного проекта были проанализированы данные о продажах компьютерных игр в интернет-магазине «Стримчик» за 2016 год. Проведен анализ влияния различных факторов на успех игр, включая платформу, жанр и отзывы пользователей и критиков. Для этого была проведена предобработка данных, исследовательский анализ и проверка гипотез.\n",
    "\n",
    "**Главные выводы**\n",
    "\n",
    "*Анализ продаж по платформам:*  \n",
    "Наиболее популярные платформы по суммарным продажам за 2012-2016 год включают PS4, PS3, X360, 3DS и Wii.  \n",
    "Жизненный цикл платформ составляет около 10 лет, после чего их популярность начинает снижаться.  \n",
    "\n",
    "*Влияние отзывов на продажи:*  \n",
    "Тренды в индустрии: Мы изучили, как менялись продажи по различным платформам и обнаружили, что каждая платформа имеет свой собственный жизненный цикл. Наибольшие суммарные продажи за актуальный период 2012-2016 года наблюдались у платформ PS4, XOne и 3DS.\n",
    "\n",
    "*Влияние оценок на продажи:* \n",
    "Мы исследовали влияние оценок пользователей и критиков на продажи игр. Результаты показали, что есть слабая положительная корреляция между оценками критиков и продажами, особенно для платформы XOne. Однако оценки пользователей практически не влияют на продажи.  \n",
    "\n",
    "*Анализ жанров:*  \n",
    "Мы рассмотрели распределение продаж по различным жанрам и определили, что наиболее прибыльными жанрами являются Action, Shooter и Sports.\n",
    "\n",
    "*Рейтинг ESRB:*  \n",
    "Мы также исследовали влияние рейтинга ESRB на продажи в разных регионах. Результаты показали, что игры с рейтингом \"M\" (для взрослых) преобладают в Северной Америке, в то время как в Японии популярны игры с рейтингом \"E\" (для всех).\n",
    "\n",
    "*Исходя из проведенного анализа, рекомендуется обратить внимание на следующие аспекты:*\n",
    "\n",
    "*Платформы:*  \n",
    "PS4, XOne и 3DS показывают стабильные продажи и являются перспективными для размещения новых игр.\n",
    "\n",
    "*Жанры:*  \n",
    "Жанры Action, Shooter и Sports наиболее прибыльны и пользуются популярностью среди игроков.\n",
    "*Оценки:*  \n",
    "Хотя оценки критиков оказывают некоторое влияние на продажи, оценки пользователей не имеют большого значения. Тем не менее, хорошие отзывы критиков могут способствовать увеличению продаж.\n",
    "\n",
    "*Рекомендации по платформам и жанрам:*  \n",
    "При планировании выпуска новых игр и маркетинговых кампаний, стоит ориентироваться на популярные платформы и жанры, выявленные в ходе анализа.\n",
    "Особое внимание следует уделить новым и перспективным платформам, а также жанрам, которые демонстрируют стабильный рост продаж."
   ]
  }
 ],
 "metadata": {
  "ExecuteTimeLog": [
   {
    "duration": 436,
    "start_time": "2024-06-05T10:39:33.399Z"
   },
   {
    "duration": 2,
    "start_time": "2024-06-05T10:40:44.746Z"
   },
   {
    "duration": 106,
    "start_time": "2024-06-05T10:40:45.154Z"
   },
   {
    "duration": 100,
    "start_time": "2024-06-05T10:40:45.591Z"
   },
   {
    "duration": 44,
    "start_time": "2024-06-05T10:40:59.665Z"
   },
   {
    "duration": 46,
    "start_time": "2024-06-05T10:41:38.113Z"
   },
   {
    "duration": 2,
    "start_time": "2024-06-05T10:41:59.240Z"
   },
   {
    "duration": 45,
    "start_time": "2024-06-05T10:42:00.942Z"
   },
   {
    "duration": 108,
    "start_time": "2024-06-05T10:43:11.074Z"
   },
   {
    "duration": 14,
    "start_time": "2024-06-05T10:43:19.491Z"
   },
   {
    "duration": 12,
    "start_time": "2024-06-05T10:54:56.721Z"
   },
   {
    "duration": 12,
    "start_time": "2024-06-05T10:55:16.712Z"
   },
   {
    "duration": 4,
    "start_time": "2024-06-05T11:00:26.799Z"
   },
   {
    "duration": 16,
    "start_time": "2024-06-05T11:03:45.081Z"
   },
   {
    "duration": 11,
    "start_time": "2024-06-05T11:26:10.119Z"
   },
   {
    "duration": 15,
    "start_time": "2024-06-05T11:26:16.360Z"
   },
   {
    "duration": 409,
    "start_time": "2024-06-07T08:33:23.762Z"
   },
   {
    "duration": 182,
    "start_time": "2024-06-07T08:33:24.172Z"
   },
   {
    "duration": 12,
    "start_time": "2024-06-07T08:33:31.029Z"
   },
   {
    "duration": 3,
    "start_time": "2024-06-07T08:33:32.790Z"
   },
   {
    "duration": 79,
    "start_time": "2024-06-07T11:47:08.755Z"
   },
   {
    "duration": 21,
    "start_time": "2024-06-07T11:59:11.820Z"
   },
   {
    "duration": 14,
    "start_time": "2024-06-07T11:59:36.611Z"
   },
   {
    "duration": 10,
    "start_time": "2024-06-07T12:26:17.588Z"
   },
   {
    "duration": 9,
    "start_time": "2024-06-07T12:46:22.934Z"
   },
   {
    "duration": 19,
    "start_time": "2024-06-07T12:46:37.905Z"
   },
   {
    "duration": 11,
    "start_time": "2024-06-07T12:53:45.269Z"
   },
   {
    "duration": 650,
    "start_time": "2024-06-07T13:03:57.027Z"
   },
   {
    "duration": 419,
    "start_time": "2024-06-08T07:32:19.976Z"
   },
   {
    "duration": 112,
    "start_time": "2024-06-08T07:32:20.397Z"
   },
   {
    "duration": 14,
    "start_time": "2024-06-08T07:32:21.854Z"
   },
   {
    "duration": 4,
    "start_time": "2024-06-08T07:32:22.790Z"
   },
   {
    "duration": 26,
    "start_time": "2024-06-08T07:32:23.302Z"
   },
   {
    "duration": 23,
    "start_time": "2024-06-08T07:32:24.459Z"
   },
   {
    "duration": 14,
    "start_time": "2024-06-08T07:32:25.358Z"
   },
   {
    "duration": 803,
    "start_time": "2024-06-08T07:32:26.918Z"
   },
   {
    "duration": 399,
    "start_time": "2024-06-08T07:33:44.940Z"
   },
   {
    "duration": 824,
    "start_time": "2024-06-08T07:36:38.663Z"
   },
   {
    "duration": 920,
    "start_time": "2024-06-08T07:37:02.369Z"
   },
   {
    "duration": 673,
    "start_time": "2024-06-08T07:37:21.612Z"
   },
   {
    "duration": 383,
    "start_time": "2024-06-08T07:38:08.794Z"
   },
   {
    "duration": 813,
    "start_time": "2024-06-08T10:51:36.745Z"
   },
   {
    "duration": 5,
    "start_time": "2024-06-08T10:53:23.145Z"
   },
   {
    "duration": 6,
    "start_time": "2024-06-08T10:53:26.068Z"
   },
   {
    "duration": 21,
    "start_time": "2024-06-08T10:53:37.429Z"
   },
   {
    "duration": 579,
    "start_time": "2024-06-08T10:56:28.648Z"
   },
   {
    "duration": 936,
    "start_time": "2024-06-08T11:01:19.106Z"
   },
   {
    "duration": 369,
    "start_time": "2024-06-08T11:03:02.855Z"
   },
   {
    "duration": 2149,
    "start_time": "2024-06-08T11:56:06.912Z"
   },
   {
    "duration": 505,
    "start_time": "2024-06-08T12:10:49.431Z"
   },
   {
    "duration": 615,
    "start_time": "2024-06-08T13:11:42.359Z"
   },
   {
    "duration": 607,
    "start_time": "2024-06-08T13:16:39.263Z"
   },
   {
    "duration": 126,
    "start_time": "2024-06-08T13:18:38.760Z"
   },
   {
    "duration": 17,
    "start_time": "2024-06-08T13:19:58.600Z"
   },
   {
    "duration": 560,
    "start_time": "2024-06-08T13:21:16.566Z"
   },
   {
    "duration": 19,
    "start_time": "2024-06-08T13:22:17.656Z"
   },
   {
    "duration": 23,
    "start_time": "2024-06-08T13:26:19.217Z"
   },
   {
    "duration": 16,
    "start_time": "2024-06-08T13:26:36.947Z"
   },
   {
    "duration": 16,
    "start_time": "2024-06-08T13:26:50.356Z"
   },
   {
    "duration": 331,
    "start_time": "2024-06-09T09:50:41.061Z"
   },
   {
    "duration": 179,
    "start_time": "2024-06-09T09:50:41.468Z"
   },
   {
    "duration": 13,
    "start_time": "2024-06-09T09:50:43.056Z"
   },
   {
    "duration": 4,
    "start_time": "2024-06-09T09:50:44.080Z"
   },
   {
    "duration": 20,
    "start_time": "2024-06-09T09:50:44.652Z"
   },
   {
    "duration": 17,
    "start_time": "2024-06-09T09:50:45.653Z"
   },
   {
    "duration": 11,
    "start_time": "2024-06-09T09:50:46.612Z"
   },
   {
    "duration": 679,
    "start_time": "2024-06-09T09:50:48.158Z"
   },
   {
    "duration": 331,
    "start_time": "2024-06-09T09:50:49.504Z"
   },
   {
    "duration": 635,
    "start_time": "2024-06-09T09:50:50.044Z"
   },
   {
    "duration": 510,
    "start_time": "2024-06-09T09:50:50.681Z"
   },
   {
    "duration": 724,
    "start_time": "2024-06-09T09:50:51.193Z"
   },
   {
    "duration": 329,
    "start_time": "2024-06-09T09:50:51.920Z"
   },
   {
    "duration": 1547,
    "start_time": "2024-06-09T09:50:52.251Z"
   },
   {
    "duration": 433,
    "start_time": "2024-06-09T09:50:53.799Z"
   },
   {
    "duration": 559,
    "start_time": "2024-06-09T09:50:54.234Z"
   },
   {
    "duration": 541,
    "start_time": "2024-06-09T09:50:54.794Z"
   },
   {
    "duration": 468,
    "start_time": "2024-06-09T09:50:55.337Z"
   },
   {
    "duration": 11,
    "start_time": "2024-06-09T10:36:27.339Z"
   },
   {
    "duration": 10,
    "start_time": "2024-06-09T10:37:08.223Z"
   },
   {
    "duration": 9,
    "start_time": "2024-06-09T10:37:30.185Z"
   },
   {
    "duration": 11,
    "start_time": "2024-06-09T10:38:22.824Z"
   },
   {
    "duration": 12,
    "start_time": "2024-06-09T10:38:33.121Z"
   },
   {
    "duration": 11,
    "start_time": "2024-06-09T10:38:44.056Z"
   },
   {
    "duration": 2,
    "start_time": "2024-06-09T12:26:18.184Z"
   },
   {
    "duration": 49,
    "start_time": "2024-06-09T12:26:19.634Z"
   },
   {
    "duration": 10,
    "start_time": "2024-06-09T12:26:22.145Z"
   },
   {
    "duration": 4,
    "start_time": "2024-06-09T12:27:47.082Z"
   },
   {
    "duration": 22,
    "start_time": "2024-06-09T12:29:04.071Z"
   },
   {
    "duration": 16,
    "start_time": "2024-06-09T12:32:44.359Z"
   },
   {
    "duration": 12,
    "start_time": "2024-06-09T12:34:55.627Z"
   },
   {
    "duration": 317,
    "start_time": "2024-06-09T12:56:03.883Z"
   },
   {
    "duration": 614,
    "start_time": "2024-06-09T13:03:57.427Z"
   },
   {
    "duration": 348,
    "start_time": "2024-06-09T13:04:24.638Z"
   },
   {
    "duration": 371,
    "start_time": "2024-06-09T13:04:40.342Z"
   },
   {
    "duration": 506,
    "start_time": "2024-06-09T13:05:01.710Z"
   },
   {
    "duration": 337,
    "start_time": "2024-06-09T13:05:29.462Z"
   },
   {
    "duration": 479,
    "start_time": "2024-06-09T13:13:47.678Z"
   },
   {
    "duration": 388,
    "start_time": "2024-06-09T13:13:58.064Z"
   },
   {
    "duration": 142,
    "start_time": "2024-06-09T13:14:40.296Z"
   },
   {
    "duration": 394,
    "start_time": "2024-06-09T13:14:47.555Z"
   },
   {
    "duration": 33,
    "start_time": "2024-06-09T13:14:58.929Z"
   },
   {
    "duration": 408,
    "start_time": "2024-06-09T13:15:03.330Z"
   },
   {
    "duration": 677,
    "start_time": "2024-06-09T13:16:57.891Z"
   },
   {
    "duration": 371,
    "start_time": "2024-06-09T13:17:16.021Z"
   },
   {
    "duration": 57,
    "start_time": "2024-06-09T13:17:34.355Z"
   },
   {
    "duration": 55,
    "start_time": "2024-06-09T13:17:58.604Z"
   },
   {
    "duration": 520,
    "start_time": "2024-06-09T13:18:08.227Z"
   },
   {
    "duration": 386,
    "start_time": "2024-06-09T13:18:24.036Z"
   },
   {
    "duration": 75,
    "start_time": "2024-06-09T13:18:38.474Z"
   },
   {
    "duration": 55,
    "start_time": "2024-06-09T13:18:45.046Z"
   },
   {
    "duration": 373,
    "start_time": "2024-06-09T13:18:51.372Z"
   },
   {
    "duration": 16,
    "start_time": "2024-06-09T13:19:22.171Z"
   },
   {
    "duration": 403,
    "start_time": "2024-06-09T13:19:32.011Z"
   },
   {
    "duration": 384,
    "start_time": "2024-06-09T13:19:42.888Z"
   },
   {
    "duration": 212,
    "start_time": "2024-06-09T13:24:09.086Z"
   },
   {
    "duration": 272,
    "start_time": "2024-06-09T13:24:16.796Z"
   },
   {
    "duration": 402,
    "start_time": "2024-06-09T13:24:24.811Z"
   },
   {
    "duration": 245,
    "start_time": "2024-06-09T13:24:29.325Z"
   },
   {
    "duration": 216,
    "start_time": "2024-06-09T13:24:38.156Z"
   },
   {
    "duration": 204,
    "start_time": "2024-06-09T13:24:45.362Z"
   },
   {
    "duration": 106,
    "start_time": "2024-06-09T13:24:50.211Z"
   },
   {
    "duration": 12,
    "start_time": "2024-06-09T13:24:56.498Z"
   },
   {
    "duration": 2,
    "start_time": "2024-06-09T13:25:55.314Z"
   },
   {
    "duration": 46,
    "start_time": "2024-06-09T13:25:56.906Z"
   },
   {
    "duration": 13,
    "start_time": "2024-06-09T13:25:57.511Z"
   },
   {
    "duration": 3,
    "start_time": "2024-06-09T13:26:00.579Z"
   },
   {
    "duration": 22,
    "start_time": "2024-06-09T13:26:01.679Z"
   },
   {
    "duration": 18,
    "start_time": "2024-06-09T13:26:03.735Z"
   },
   {
    "duration": 12,
    "start_time": "2024-06-09T13:26:05.379Z"
   },
   {
    "duration": 324,
    "start_time": "2024-06-09T13:26:08.077Z"
   },
   {
    "duration": 321,
    "start_time": "2024-06-09T13:26:10.813Z"
   },
   {
    "duration": 549,
    "start_time": "2024-06-09T13:26:13.335Z"
   },
   {
    "duration": 500,
    "start_time": "2024-06-09T13:26:25.371Z"
   },
   {
    "duration": 301,
    "start_time": "2024-06-09T13:44:21.153Z"
   },
   {
    "duration": 257,
    "start_time": "2024-06-09T13:44:31.746Z"
   },
   {
    "duration": 274,
    "start_time": "2024-06-09T13:44:40.885Z"
   },
   {
    "duration": 397,
    "start_time": "2024-06-09T13:44:53.005Z"
   },
   {
    "duration": 290,
    "start_time": "2024-06-09T13:45:01.813Z"
   },
   {
    "duration": 259,
    "start_time": "2024-06-09T13:45:09.750Z"
   },
   {
    "duration": 292,
    "start_time": "2024-06-09T13:45:16.918Z"
   },
   {
    "duration": 226,
    "start_time": "2024-06-09T13:45:22.567Z"
   },
   {
    "duration": 243,
    "start_time": "2024-06-09T13:45:31.778Z"
   },
   {
    "duration": 258,
    "start_time": "2024-06-09T13:45:39.582Z"
   },
   {
    "duration": 232,
    "start_time": "2024-06-09T13:45:45.455Z"
   },
   {
    "duration": 272,
    "start_time": "2024-06-09T13:45:59.595Z"
   },
   {
    "duration": 220,
    "start_time": "2024-06-09T13:46:05.415Z"
   },
   {
    "duration": 210,
    "start_time": "2024-06-09T13:46:12.239Z"
   },
   {
    "duration": 264,
    "start_time": "2024-06-09T13:46:22.897Z"
   },
   {
    "duration": 219,
    "start_time": "2024-06-09T13:46:29.146Z"
   },
   {
    "duration": 223,
    "start_time": "2024-06-09T13:46:35.152Z"
   },
   {
    "duration": 309,
    "start_time": "2024-06-09T13:46:42.358Z"
   },
   {
    "duration": 219,
    "start_time": "2024-06-09T13:46:50.350Z"
   },
   {
    "duration": 2,
    "start_time": "2024-06-09T13:50:52.657Z"
   },
   {
    "duration": 1496,
    "start_time": "2024-06-09T13:55:03.628Z"
   },
   {
    "duration": 2,
    "start_time": "2024-06-09T14:17:00.449Z"
   },
   {
    "duration": 9,
    "start_time": "2024-06-09T14:25:09.002Z"
   },
   {
    "duration": 11,
    "start_time": "2024-06-09T14:25:19.446Z"
   },
   {
    "duration": 3,
    "start_time": "2024-06-09T14:29:59.661Z"
   },
   {
    "duration": 57,
    "start_time": "2024-06-09T14:30:00.044Z"
   },
   {
    "duration": 330,
    "start_time": "2024-06-10T06:49:02.031Z"
   },
   {
    "duration": 188,
    "start_time": "2024-06-10T06:49:02.362Z"
   },
   {
    "duration": 14,
    "start_time": "2024-06-10T06:49:02.552Z"
   },
   {
    "duration": 4,
    "start_time": "2024-06-10T06:49:03.545Z"
   },
   {
    "duration": 30,
    "start_time": "2024-06-10T06:49:04.099Z"
   },
   {
    "duration": 19,
    "start_time": "2024-06-10T06:49:04.782Z"
   },
   {
    "duration": 11,
    "start_time": "2024-06-10T06:49:05.822Z"
   },
   {
    "duration": 617,
    "start_time": "2024-06-10T06:49:07.134Z"
   },
   {
    "duration": 306,
    "start_time": "2024-06-10T06:49:08.436Z"
   },
   {
    "duration": 567,
    "start_time": "2024-06-10T06:49:09.370Z"
   },
   {
    "duration": 439,
    "start_time": "2024-06-10T06:49:10.342Z"
   },
   {
    "duration": 712,
    "start_time": "2024-06-10T06:49:12.330Z"
   },
   {
    "duration": 2,
    "start_time": "2024-06-10T06:49:13.283Z"
   },
   {
    "duration": 357,
    "start_time": "2024-06-10T06:53:15.967Z"
   },
   {
    "duration": 277,
    "start_time": "2024-06-10T06:54:39.598Z"
   },
   {
    "duration": 322,
    "start_time": "2024-06-10T06:55:20.638Z"
   },
   {
    "duration": 266,
    "start_time": "2024-06-10T06:55:42.011Z"
   },
   {
    "duration": 291,
    "start_time": "2024-06-10T06:55:50.571Z"
   },
   {
    "duration": 309,
    "start_time": "2024-06-10T06:55:57.912Z"
   },
   {
    "duration": 286,
    "start_time": "2024-06-10T06:57:18.634Z"
   },
   {
    "duration": 337,
    "start_time": "2024-06-10T06:57:25.733Z"
   },
   {
    "duration": 327,
    "start_time": "2024-06-10T06:57:40.592Z"
   },
   {
    "duration": 409,
    "start_time": "2024-06-10T06:58:36.450Z"
   },
   {
    "duration": 337,
    "start_time": "2024-06-10T07:03:51.357Z"
   },
   {
    "duration": 334,
    "start_time": "2024-06-10T07:03:59.906Z"
   },
   {
    "duration": 219,
    "start_time": "2024-06-10T07:05:01.208Z"
   },
   {
    "duration": 224,
    "start_time": "2024-06-10T07:06:11.119Z"
   },
   {
    "duration": 214,
    "start_time": "2024-06-10T07:06:20.596Z"
   },
   {
    "duration": 519,
    "start_time": "2024-06-10T07:38:20.075Z"
   },
   {
    "duration": 231,
    "start_time": "2024-06-10T07:38:23.779Z"
   },
   {
    "duration": 171,
    "start_time": "2024-06-10T07:40:21.654Z"
   },
   {
    "duration": 166,
    "start_time": "2024-06-10T07:40:47.717Z"
   },
   {
    "duration": 173,
    "start_time": "2024-06-10T07:41:59.411Z"
   },
   {
    "duration": 217,
    "start_time": "2024-06-10T07:43:57.958Z"
   },
   {
    "duration": 230,
    "start_time": "2024-06-10T07:46:57.537Z"
   },
   {
    "duration": 209,
    "start_time": "2024-06-10T07:47:18.306Z"
   },
   {
    "duration": 190,
    "start_time": "2024-06-10T07:51:18.739Z"
   },
   {
    "duration": 212,
    "start_time": "2024-06-10T07:51:36.803Z"
   },
   {
    "duration": 333,
    "start_time": "2024-06-10T07:51:38.647Z"
   },
   {
    "duration": 1380,
    "start_time": "2024-06-10T07:51:39.998Z"
   },
   {
    "duration": 437,
    "start_time": "2024-06-10T07:51:41.380Z"
   },
   {
    "duration": 637,
    "start_time": "2024-06-10T07:51:42.662Z"
   },
   {
    "duration": 495,
    "start_time": "2024-06-10T07:51:43.715Z"
   },
   {
    "duration": 443,
    "start_time": "2024-06-10T07:51:44.724Z"
   },
   {
    "duration": 2,
    "start_time": "2024-06-10T07:51:45.200Z"
   },
   {
    "duration": 101,
    "start_time": "2024-06-10T07:51:46.128Z"
   },
   {
    "duration": 100,
    "start_time": "2024-06-10T07:52:23.272Z"
   },
   {
    "duration": 7,
    "start_time": "2024-06-10T07:54:02.060Z"
   },
   {
    "duration": 89,
    "start_time": "2024-06-10T07:56:53.326Z"
   },
   {
    "duration": 794,
    "start_time": "2024-06-10T07:57:48.491Z"
   },
   {
    "duration": 476,
    "start_time": "2024-06-10T07:59:52.917Z"
   },
   {
    "duration": 713,
    "start_time": "2024-06-10T08:00:10.917Z"
   },
   {
    "duration": 841,
    "start_time": "2024-06-10T08:00:24.063Z"
   },
   {
    "duration": 142,
    "start_time": "2024-06-10T08:00:53.085Z"
   },
   {
    "duration": 432,
    "start_time": "2024-06-10T08:01:54.298Z"
   },
   {
    "duration": 32,
    "start_time": "2024-06-10T08:02:41.949Z"
   },
   {
    "duration": 3,
    "start_time": "2024-06-10T08:02:42.571Z"
   },
   {
    "duration": 33,
    "start_time": "2024-06-10T08:03:43.476Z"
   },
   {
    "duration": 3,
    "start_time": "2024-06-10T08:03:44.177Z"
   },
   {
    "duration": 32,
    "start_time": "2024-06-10T08:07:41.251Z"
   },
   {
    "duration": 32,
    "start_time": "2024-06-10T08:07:52.030Z"
   },
   {
    "duration": 31,
    "start_time": "2024-06-10T08:12:56.107Z"
   },
   {
    "duration": 3,
    "start_time": "2024-06-10T08:53:26.252Z"
   },
   {
    "duration": 44,
    "start_time": "2024-06-10T08:53:26.987Z"
   },
   {
    "duration": 10,
    "start_time": "2024-06-10T08:53:27.681Z"
   },
   {
    "duration": 4,
    "start_time": "2024-06-10T08:54:01.190Z"
   },
   {
    "duration": 21,
    "start_time": "2024-06-10T08:54:02.467Z"
   },
   {
    "duration": 17,
    "start_time": "2024-06-10T08:54:14.192Z"
   },
   {
    "duration": 12,
    "start_time": "2024-06-10T08:55:51.146Z"
   },
   {
    "duration": 278,
    "start_time": "2024-06-10T08:55:57.442Z"
   },
   {
    "duration": 355,
    "start_time": "2024-06-10T08:56:03.643Z"
   },
   {
    "duration": 226,
    "start_time": "2024-06-10T08:56:10.155Z"
   },
   {
    "duration": 618,
    "start_time": "2024-06-10T08:56:12.201Z"
   },
   {
    "duration": 512,
    "start_time": "2024-06-10T08:56:16.915Z"
   },
   {
    "duration": 31,
    "start_time": "2024-06-10T08:56:33.532Z"
   },
   {
    "duration": 218,
    "start_time": "2024-06-10T08:57:16.812Z"
   },
   {
    "duration": 218,
    "start_time": "2024-06-10T08:57:22.014Z"
   },
   {
    "duration": 290,
    "start_time": "2024-06-10T08:57:29.055Z"
   },
   {
    "duration": 1483,
    "start_time": "2024-06-10T08:57:36.635Z"
   },
   {
    "duration": 378,
    "start_time": "2024-06-10T08:57:43.246Z"
   },
   {
    "duration": 574,
    "start_time": "2024-06-10T08:57:48.752Z"
   },
   {
    "duration": 498,
    "start_time": "2024-06-10T08:57:51.388Z"
   },
   {
    "duration": 464,
    "start_time": "2024-06-10T08:57:59.543Z"
   },
   {
    "duration": 449,
    "start_time": "2024-06-10T08:58:45.185Z"
   },
   {
    "duration": 31,
    "start_time": "2024-06-10T08:58:49.511Z"
   },
   {
    "duration": 12,
    "start_time": "2024-06-10T08:59:08.383Z"
   },
   {
    "duration": 10,
    "start_time": "2024-06-10T08:59:59.863Z"
   },
   {
    "duration": 10,
    "start_time": "2024-06-10T09:00:07.602Z"
   },
   {
    "duration": 381,
    "start_time": "2024-06-10T13:01:22.764Z"
   },
   {
    "duration": 105,
    "start_time": "2024-06-10T13:01:23.147Z"
   },
   {
    "duration": 12,
    "start_time": "2024-06-10T13:01:23.254Z"
   },
   {
    "duration": 25,
    "start_time": "2024-06-10T13:01:23.267Z"
   },
   {
    "duration": 27,
    "start_time": "2024-06-10T13:01:23.294Z"
   },
   {
    "duration": 20,
    "start_time": "2024-06-10T13:01:23.323Z"
   },
   {
    "duration": 12,
    "start_time": "2024-06-10T13:01:23.345Z"
   },
   {
    "duration": 713,
    "start_time": "2024-06-10T13:01:23.359Z"
   },
   {
    "duration": 351,
    "start_time": "2024-06-10T13:01:24.073Z"
   },
   {
    "duration": 282,
    "start_time": "2024-06-10T13:01:24.425Z"
   },
   {
    "duration": 603,
    "start_time": "2024-06-10T13:01:24.708Z"
   },
   {
    "duration": 538,
    "start_time": "2024-06-10T13:01:25.312Z"
   },
   {
    "duration": 746,
    "start_time": "2024-06-10T13:01:25.851Z"
   },
   {
    "duration": 345,
    "start_time": "2024-06-10T13:01:26.601Z"
   },
   {
    "duration": 1679,
    "start_time": "2024-06-10T13:01:26.948Z"
   },
   {
    "duration": 423,
    "start_time": "2024-06-10T13:01:28.628Z"
   },
   {
    "duration": 602,
    "start_time": "2024-06-10T13:01:29.052Z"
   },
   {
    "duration": 660,
    "start_time": "2024-06-10T13:01:29.656Z"
   },
   {
    "duration": 518,
    "start_time": "2024-06-10T13:01:30.318Z"
   },
   {
    "duration": 480,
    "start_time": "2024-06-10T13:01:30.845Z"
   },
   {
    "duration": 38,
    "start_time": "2024-06-10T13:01:31.327Z"
   },
   {
    "duration": 111,
    "start_time": "2024-06-10T13:01:31.366Z"
   },
   {
    "duration": 31,
    "start_time": "2024-06-10T13:01:31.479Z"
   },
   {
    "duration": 402,
    "start_time": "2024-06-10T13:22:27.738Z"
   },
   {
    "duration": 53,
    "start_time": "2024-06-10T13:22:28.141Z"
   },
   {
    "duration": 11,
    "start_time": "2024-06-10T13:22:28.196Z"
   },
   {
    "duration": 4,
    "start_time": "2024-06-10T13:22:28.209Z"
   },
   {
    "duration": 33,
    "start_time": "2024-06-10T13:22:28.215Z"
   },
   {
    "duration": 19,
    "start_time": "2024-06-10T13:22:28.250Z"
   },
   {
    "duration": 13,
    "start_time": "2024-06-10T13:22:28.270Z"
   },
   {
    "duration": 540,
    "start_time": "2024-06-10T13:22:28.284Z"
   },
   {
    "duration": 331,
    "start_time": "2024-06-10T13:22:28.825Z"
   },
   {
    "duration": 238,
    "start_time": "2024-06-10T13:22:29.157Z"
   },
   {
    "duration": 660,
    "start_time": "2024-06-10T13:22:29.396Z"
   },
   {
    "duration": 483,
    "start_time": "2024-06-10T13:22:30.058Z"
   },
   {
    "duration": 749,
    "start_time": "2024-06-10T13:22:30.545Z"
   },
   {
    "duration": 308,
    "start_time": "2024-06-10T13:22:31.298Z"
   },
   {
    "duration": 1567,
    "start_time": "2024-06-10T13:22:31.607Z"
   },
   {
    "duration": 418,
    "start_time": "2024-06-10T13:22:33.176Z"
   },
   {
    "duration": 514,
    "start_time": "2024-06-10T13:22:33.596Z"
   },
   {
    "duration": 546,
    "start_time": "2024-06-10T13:22:34.112Z"
   },
   {
    "duration": 549,
    "start_time": "2024-06-10T13:22:34.659Z"
   },
   {
    "duration": 471,
    "start_time": "2024-06-10T13:22:35.210Z"
   },
   {
    "duration": 37,
    "start_time": "2024-06-10T13:22:35.683Z"
   },
   {
    "duration": 52,
    "start_time": "2024-06-10T13:22:35.722Z"
   },
   {
    "duration": 27,
    "start_time": "2024-06-10T13:22:35.776Z"
   },
   {
    "duration": 53,
    "start_time": "2024-06-11T10:43:21.073Z"
   },
   {
    "duration": 4,
    "start_time": "2024-06-11T10:43:26.631Z"
   },
   {
    "duration": 6,
    "start_time": "2024-06-11T10:43:30.572Z"
   },
   {
    "duration": 393,
    "start_time": "2024-06-11T10:43:35.646Z"
   },
   {
    "duration": 187,
    "start_time": "2024-06-11T10:43:36.644Z"
   },
   {
    "duration": 21,
    "start_time": "2024-06-11T10:43:42.584Z"
   },
   {
    "duration": 56,
    "start_time": "2024-06-11T10:44:01.445Z"
   },
   {
    "duration": 55,
    "start_time": "2024-06-11T10:44:15.860Z"
   },
   {
    "duration": 59,
    "start_time": "2024-06-11T10:44:47.043Z"
   },
   {
    "duration": 61,
    "start_time": "2024-06-11T10:45:04.719Z"
   },
   {
    "duration": 76,
    "start_time": "2024-06-11T10:45:25.336Z"
   },
   {
    "duration": 11,
    "start_time": "2024-06-11T10:46:18.313Z"
   },
   {
    "duration": 16,
    "start_time": "2024-06-11T10:46:24.317Z"
   },
   {
    "duration": 17,
    "start_time": "2024-06-11T10:46:32.647Z"
   },
   {
    "duration": 25,
    "start_time": "2024-06-11T10:51:57.767Z"
   },
   {
    "duration": 11,
    "start_time": "2024-06-11T10:52:02.104Z"
   },
   {
    "duration": 12,
    "start_time": "2024-06-11T11:19:15.721Z"
   },
   {
    "duration": 54,
    "start_time": "2024-06-11T11:19:23.560Z"
   },
   {
    "duration": 4,
    "start_time": "2024-06-11T11:20:10.951Z"
   },
   {
    "duration": 23,
    "start_time": "2024-06-11T11:33:30.904Z"
   },
   {
    "duration": 18,
    "start_time": "2024-06-11T12:06:34.886Z"
   },
   {
    "duration": 15,
    "start_time": "2024-06-11T12:22:18.331Z"
   },
   {
    "duration": 18,
    "start_time": "2024-06-11T12:22:28.013Z"
   },
   {
    "duration": 3,
    "start_time": "2024-06-11T12:23:14.234Z"
   },
   {
    "duration": 14,
    "start_time": "2024-06-11T12:24:04.192Z"
   },
   {
    "duration": 2,
    "start_time": "2024-06-11T12:24:05.209Z"
   },
   {
    "duration": 21,
    "start_time": "2024-06-11T12:27:49.749Z"
   },
   {
    "duration": 16,
    "start_time": "2024-06-11T12:28:01.028Z"
   },
   {
    "duration": 47,
    "start_time": "2024-06-11T12:29:10.242Z"
   },
   {
    "duration": 51,
    "start_time": "2024-06-11T12:29:33.589Z"
   },
   {
    "duration": 72,
    "start_time": "2024-06-11T12:31:15.296Z"
   },
   {
    "duration": 22,
    "start_time": "2024-06-11T12:31:24.060Z"
   },
   {
    "duration": 48,
    "start_time": "2024-06-11T12:31:24.608Z"
   },
   {
    "duration": 658,
    "start_time": "2024-06-11T12:31:27.237Z"
   },
   {
    "duration": 20,
    "start_time": "2024-06-11T12:31:31.956Z"
   },
   {
    "duration": 4,
    "start_time": "2024-06-11T12:31:55.809Z"
   },
   {
    "duration": 17,
    "start_time": "2024-06-11T12:31:58.889Z"
   },
   {
    "duration": 3,
    "start_time": "2024-06-11T12:32:00.303Z"
   },
   {
    "duration": 12,
    "start_time": "2024-06-11T12:32:01.585Z"
   },
   {
    "duration": 24,
    "start_time": "2024-06-11T12:32:03.035Z"
   },
   {
    "duration": 51,
    "start_time": "2024-06-11T12:32:03.200Z"
   },
   {
    "duration": 254,
    "start_time": "2024-06-11T12:32:04.670Z"
   },
   {
    "duration": 9,
    "start_time": "2024-06-11T12:32:05.929Z"
   },
   {
    "duration": 9,
    "start_time": "2024-06-11T12:32:45.318Z"
   },
   {
    "duration": 364,
    "start_time": "2024-06-11T12:33:01.808Z"
   },
   {
    "duration": 50,
    "start_time": "2024-06-11T12:33:02.174Z"
   },
   {
    "duration": 155,
    "start_time": "2024-06-11T12:33:02.225Z"
   },
   {
    "duration": 11,
    "start_time": "2024-06-11T12:33:02.382Z"
   },
   {
    "duration": 50,
    "start_time": "2024-06-11T12:33:02.394Z"
   },
   {
    "duration": 30,
    "start_time": "2024-06-11T12:33:02.445Z"
   },
   {
    "duration": 12,
    "start_time": "2024-06-11T12:33:02.477Z"
   },
   {
    "duration": 43,
    "start_time": "2024-06-11T12:33:02.491Z"
   },
   {
    "duration": 37,
    "start_time": "2024-06-11T12:33:02.535Z"
   },
   {
    "duration": 76,
    "start_time": "2024-06-11T12:33:02.575Z"
   },
   {
    "duration": 485,
    "start_time": "2024-06-11T12:33:02.653Z"
   },
   {
    "duration": 76,
    "start_time": "2024-06-11T12:33:03.139Z"
   },
   {
    "duration": 0,
    "start_time": "2024-06-11T12:33:03.217Z"
   },
   {
    "duration": 0,
    "start_time": "2024-06-11T12:33:03.217Z"
   },
   {
    "duration": 0,
    "start_time": "2024-06-11T12:33:03.218Z"
   },
   {
    "duration": 0,
    "start_time": "2024-06-11T12:33:03.219Z"
   },
   {
    "duration": 0,
    "start_time": "2024-06-11T12:33:03.220Z"
   },
   {
    "duration": 0,
    "start_time": "2024-06-11T12:33:03.221Z"
   },
   {
    "duration": 0,
    "start_time": "2024-06-11T12:33:03.222Z"
   },
   {
    "duration": 0,
    "start_time": "2024-06-11T12:33:03.223Z"
   },
   {
    "duration": 0,
    "start_time": "2024-06-11T12:33:03.223Z"
   },
   {
    "duration": 0,
    "start_time": "2024-06-11T12:33:03.224Z"
   },
   {
    "duration": 0,
    "start_time": "2024-06-11T12:33:03.225Z"
   },
   {
    "duration": 0,
    "start_time": "2024-06-11T12:33:03.226Z"
   },
   {
    "duration": 0,
    "start_time": "2024-06-11T12:33:03.226Z"
   },
   {
    "duration": 0,
    "start_time": "2024-06-11T12:33:03.227Z"
   },
   {
    "duration": 3,
    "start_time": "2024-06-11T12:33:21.956Z"
   },
   {
    "duration": 49,
    "start_time": "2024-06-11T12:33:22.488Z"
   },
   {
    "duration": 17,
    "start_time": "2024-06-11T12:33:22.668Z"
   },
   {
    "duration": 12,
    "start_time": "2024-06-11T12:33:23.045Z"
   },
   {
    "duration": 4,
    "start_time": "2024-06-11T12:33:40.546Z"
   },
   {
    "duration": 13,
    "start_time": "2024-06-11T12:34:30.018Z"
   },
   {
    "duration": 367,
    "start_time": "2024-06-12T05:54:34.523Z"
   },
   {
    "duration": 115,
    "start_time": "2024-06-12T05:54:34.996Z"
   },
   {
    "duration": 21,
    "start_time": "2024-06-12T05:54:35.362Z"
   },
   {
    "duration": 18,
    "start_time": "2024-06-12T05:54:36.199Z"
   },
   {
    "duration": 3,
    "start_time": "2024-06-12T05:54:40.697Z"
   },
   {
    "duration": 22,
    "start_time": "2024-06-12T05:54:42.132Z"
   },
   {
    "duration": 3,
    "start_time": "2024-06-12T05:54:45.214Z"
   },
   {
    "duration": 20,
    "start_time": "2024-06-12T05:54:47.095Z"
   },
   {
    "duration": 23,
    "start_time": "2024-06-12T05:54:48.485Z"
   },
   {
    "duration": 56,
    "start_time": "2024-06-12T05:54:49.217Z"
   },
   {
    "duration": 716,
    "start_time": "2024-06-12T05:54:51.401Z"
   },
   {
    "duration": 73,
    "start_time": "2024-06-12T05:54:53.565Z"
   },
   {
    "duration": 50,
    "start_time": "2024-06-12T05:56:16.962Z"
   },
   {
    "duration": 53,
    "start_time": "2024-06-12T05:56:24.140Z"
   },
   {
    "duration": 49,
    "start_time": "2024-06-12T05:56:27.755Z"
   },
   {
    "duration": 246,
    "start_time": "2024-06-12T05:56:35.690Z"
   },
   {
    "duration": 10,
    "start_time": "2024-06-12T05:56:37.320Z"
   },
   {
    "duration": 85,
    "start_time": "2024-06-12T05:56:51.991Z"
   },
   {
    "duration": 7,
    "start_time": "2024-06-12T05:56:58.995Z"
   },
   {
    "duration": 879,
    "start_time": "2024-06-12T05:57:13.457Z"
   },
   {
    "duration": 10,
    "start_time": "2024-06-12T05:57:20.673Z"
   },
   {
    "duration": 12,
    "start_time": "2024-06-12T05:58:12.362Z"
   },
   {
    "duration": 17,
    "start_time": "2024-06-12T05:58:27.050Z"
   },
   {
    "duration": 2,
    "start_time": "2024-06-12T05:58:30.496Z"
   },
   {
    "duration": 9,
    "start_time": "2024-06-12T05:58:32.214Z"
   },
   {
    "duration": 20,
    "start_time": "2024-06-12T05:58:33.508Z"
   },
   {
    "duration": 46,
    "start_time": "2024-06-12T05:58:33.916Z"
   },
   {
    "duration": 242,
    "start_time": "2024-06-12T05:58:35.433Z"
   },
   {
    "duration": 10,
    "start_time": "2024-06-12T05:58:36.673Z"
   },
   {
    "duration": 8,
    "start_time": "2024-06-12T06:00:18.889Z"
   },
   {
    "duration": 8,
    "start_time": "2024-06-12T06:00:31.052Z"
   },
   {
    "duration": 10,
    "start_time": "2024-06-12T06:00:45.803Z"
   },
   {
    "duration": 14,
    "start_time": "2024-06-12T06:02:28.449Z"
   },
   {
    "duration": 22,
    "start_time": "2024-06-12T06:02:29.850Z"
   },
   {
    "duration": 79,
    "start_time": "2024-06-12T06:02:30.242Z"
   },
   {
    "duration": 265,
    "start_time": "2024-06-12T06:02:31.806Z"
   },
   {
    "duration": 9,
    "start_time": "2024-06-12T06:02:32.907Z"
   },
   {
    "duration": 3,
    "start_time": "2024-06-12T06:03:09.805Z"
   },
   {
    "duration": 51,
    "start_time": "2024-06-12T06:03:10.244Z"
   },
   {
    "duration": 24,
    "start_time": "2024-06-12T06:03:10.399Z"
   },
   {
    "duration": 10,
    "start_time": "2024-06-12T06:03:12.154Z"
   },
   {
    "duration": 3,
    "start_time": "2024-06-12T06:03:33.465Z"
   },
   {
    "duration": 28,
    "start_time": "2024-06-12T06:04:21.244Z"
   },
   {
    "duration": 11,
    "start_time": "2024-06-12T06:04:35.456Z"
   },
   {
    "duration": 20,
    "start_time": "2024-06-12T06:05:10.809Z"
   },
   {
    "duration": 51,
    "start_time": "2024-06-12T06:05:14.515Z"
   },
   {
    "duration": 45,
    "start_time": "2024-06-12T06:06:42.982Z"
   },
   {
    "duration": 46,
    "start_time": "2024-06-12T06:06:49.306Z"
   },
   {
    "duration": 47,
    "start_time": "2024-06-12T06:06:53.355Z"
   },
   {
    "duration": 20,
    "start_time": "2024-06-12T06:07:02.314Z"
   },
   {
    "duration": 46,
    "start_time": "2024-06-12T06:07:03.329Z"
   },
   {
    "duration": 272,
    "start_time": "2024-06-12T06:07:13.207Z"
   },
   {
    "duration": 11,
    "start_time": "2024-06-12T06:07:35.237Z"
   },
   {
    "duration": 11,
    "start_time": "2024-06-12T06:08:07.158Z"
   },
   {
    "duration": 10,
    "start_time": "2024-06-12T06:08:16.039Z"
   },
   {
    "duration": 6,
    "start_time": "2024-06-12T06:08:58.820Z"
   },
   {
    "duration": 6,
    "start_time": "2024-06-12T06:09:18.892Z"
   },
   {
    "duration": 2,
    "start_time": "2024-06-12T06:09:50.012Z"
   },
   {
    "duration": 12,
    "start_time": "2024-06-12T06:11:02.338Z"
   },
   {
    "duration": 5,
    "start_time": "2024-06-12T06:11:20.448Z"
   },
   {
    "duration": 4,
    "start_time": "2024-06-12T06:11:40.997Z"
   },
   {
    "duration": 17,
    "start_time": "2024-06-12T06:12:53.731Z"
   },
   {
    "duration": 17,
    "start_time": "2024-06-12T06:13:04.253Z"
   },
   {
    "duration": 21,
    "start_time": "2024-06-12T06:13:05.553Z"
   },
   {
    "duration": 47,
    "start_time": "2024-06-12T06:13:06.483Z"
   },
   {
    "duration": 268,
    "start_time": "2024-06-12T06:13:08.416Z"
   },
   {
    "duration": 11,
    "start_time": "2024-06-12T06:13:10.176Z"
   },
   {
    "duration": 10,
    "start_time": "2024-06-12T06:13:12.397Z"
   },
   {
    "duration": 7,
    "start_time": "2024-06-12T06:13:39.813Z"
   },
   {
    "duration": 5,
    "start_time": "2024-06-12T06:13:43.208Z"
   },
   {
    "duration": 4,
    "start_time": "2024-06-12T06:14:19.176Z"
   },
   {
    "duration": 11,
    "start_time": "2024-06-12T06:14:37.951Z"
   },
   {
    "duration": 14,
    "start_time": "2024-06-12T06:14:49.920Z"
   },
   {
    "duration": 13,
    "start_time": "2024-06-12T06:14:52.262Z"
   },
   {
    "duration": 13,
    "start_time": "2024-06-12T06:15:05.853Z"
   },
   {
    "duration": 12,
    "start_time": "2024-06-12T06:15:09.062Z"
   },
   {
    "duration": 13,
    "start_time": "2024-06-12T06:15:21.015Z"
   },
   {
    "duration": 329,
    "start_time": "2024-06-12T06:15:38.039Z"
   },
   {
    "duration": 49,
    "start_time": "2024-06-12T06:15:38.370Z"
   },
   {
    "duration": 22,
    "start_time": "2024-06-12T06:15:38.420Z"
   },
   {
    "duration": 13,
    "start_time": "2024-06-12T06:15:38.443Z"
   },
   {
    "duration": 3,
    "start_time": "2024-06-12T06:15:38.457Z"
   },
   {
    "duration": 42,
    "start_time": "2024-06-12T06:15:38.461Z"
   },
   {
    "duration": 16,
    "start_time": "2024-06-12T06:15:38.504Z"
   },
   {
    "duration": 63,
    "start_time": "2024-06-12T06:15:38.521Z"
   },
   {
    "duration": 0,
    "start_time": "2024-06-12T06:15:38.585Z"
   },
   {
    "duration": 0,
    "start_time": "2024-06-12T06:15:38.601Z"
   },
   {
    "duration": 0,
    "start_time": "2024-06-12T06:15:38.602Z"
   },
   {
    "duration": 0,
    "start_time": "2024-06-12T06:15:38.602Z"
   },
   {
    "duration": 0,
    "start_time": "2024-06-12T06:15:38.603Z"
   },
   {
    "duration": 0,
    "start_time": "2024-06-12T06:15:38.604Z"
   },
   {
    "duration": 0,
    "start_time": "2024-06-12T06:15:38.605Z"
   },
   {
    "duration": 0,
    "start_time": "2024-06-12T06:15:38.606Z"
   },
   {
    "duration": 0,
    "start_time": "2024-06-12T06:15:38.607Z"
   },
   {
    "duration": 0,
    "start_time": "2024-06-12T06:15:38.608Z"
   },
   {
    "duration": 0,
    "start_time": "2024-06-12T06:15:38.608Z"
   },
   {
    "duration": 0,
    "start_time": "2024-06-12T06:15:38.609Z"
   },
   {
    "duration": 0,
    "start_time": "2024-06-12T06:15:38.610Z"
   },
   {
    "duration": 0,
    "start_time": "2024-06-12T06:15:38.611Z"
   },
   {
    "duration": 0,
    "start_time": "2024-06-12T06:15:38.612Z"
   },
   {
    "duration": 0,
    "start_time": "2024-06-12T06:15:38.613Z"
   },
   {
    "duration": 0,
    "start_time": "2024-06-12T06:15:38.613Z"
   },
   {
    "duration": 2,
    "start_time": "2024-06-12T06:15:50.559Z"
   },
   {
    "duration": 46,
    "start_time": "2024-06-12T06:15:50.752Z"
   },
   {
    "duration": 22,
    "start_time": "2024-06-12T06:15:51.047Z"
   },
   {
    "duration": 10,
    "start_time": "2024-06-12T06:15:51.700Z"
   },
   {
    "duration": 3,
    "start_time": "2024-06-12T06:15:54.677Z"
   },
   {
    "duration": 21,
    "start_time": "2024-06-12T06:15:57.639Z"
   },
   {
    "duration": 24,
    "start_time": "2024-06-12T06:16:03.023Z"
   },
   {
    "duration": 13,
    "start_time": "2024-06-12T06:16:07.485Z"
   },
   {
    "duration": 19,
    "start_time": "2024-06-12T06:16:22.571Z"
   },
   {
    "duration": 13,
    "start_time": "2024-06-12T06:16:28.314Z"
   },
   {
    "duration": 13,
    "start_time": "2024-06-12T06:16:33.694Z"
   },
   {
    "duration": 52,
    "start_time": "2024-06-12T06:16:33.978Z"
   },
   {
    "duration": 22,
    "start_time": "2024-06-12T06:19:57.356Z"
   },
   {
    "duration": 25,
    "start_time": "2024-06-12T06:20:04.476Z"
   },
   {
    "duration": 23,
    "start_time": "2024-06-12T06:20:29.150Z"
   },
   {
    "duration": 46,
    "start_time": "2024-06-12T06:21:41.838Z"
   },
   {
    "duration": 45,
    "start_time": "2024-06-12T06:22:11.472Z"
   },
   {
    "duration": 55,
    "start_time": "2024-06-12T06:22:22.866Z"
   },
   {
    "duration": 16,
    "start_time": "2024-06-12T06:23:21.829Z"
   },
   {
    "duration": 18,
    "start_time": "2024-06-12T06:23:22.444Z"
   },
   {
    "duration": 53,
    "start_time": "2024-06-12T06:23:23.021Z"
   },
   {
    "duration": 16,
    "start_time": "2024-06-12T06:23:36.446Z"
   },
   {
    "duration": 14,
    "start_time": "2024-06-12T06:23:39.946Z"
   },
   {
    "duration": 44,
    "start_time": "2024-06-12T06:23:49.914Z"
   },
   {
    "duration": 470,
    "start_time": "2024-06-12T06:23:59.031Z"
   },
   {
    "duration": 17,
    "start_time": "2024-06-12T06:24:01.726Z"
   },
   {
    "duration": 10,
    "start_time": "2024-06-12T06:24:55.350Z"
   },
   {
    "duration": 8,
    "start_time": "2024-06-12T06:25:44.423Z"
   },
   {
    "duration": 10,
    "start_time": "2024-06-12T06:25:50.298Z"
   },
   {
    "duration": 4,
    "start_time": "2024-06-12T06:26:09.024Z"
   },
   {
    "duration": 18,
    "start_time": "2024-06-12T06:26:47.536Z"
   },
   {
    "duration": 186,
    "start_time": "2024-06-12T06:27:16.871Z"
   },
   {
    "duration": 184,
    "start_time": "2024-06-12T06:27:54.162Z"
   },
   {
    "duration": 199,
    "start_time": "2024-06-12T06:30:23.131Z"
   },
   {
    "duration": 272,
    "start_time": "2024-06-12T06:30:36.695Z"
   },
   {
    "duration": 178,
    "start_time": "2024-06-12T06:30:43.510Z"
   },
   {
    "duration": 210,
    "start_time": "2024-06-12T06:47:13.943Z"
   },
   {
    "duration": 496,
    "start_time": "2024-06-12T06:47:21.441Z"
   },
   {
    "duration": 415,
    "start_time": "2024-06-12T06:47:26.308Z"
   },
   {
    "duration": 696,
    "start_time": "2024-06-12T08:40:39.281Z"
   },
   {
    "duration": 208,
    "start_time": "2024-06-12T08:40:50.368Z"
   },
   {
    "duration": 208,
    "start_time": "2024-06-12T09:54:29.143Z"
   },
   {
    "duration": 483,
    "start_time": "2024-06-12T10:05:48.998Z"
   },
   {
    "duration": 410,
    "start_time": "2024-06-12T10:08:16.639Z"
   },
   {
    "duration": 412,
    "start_time": "2024-06-12T10:09:31.259Z"
   },
   {
    "duration": 467,
    "start_time": "2024-06-12T10:11:32.324Z"
   },
   {
    "duration": 293,
    "start_time": "2024-06-12T10:35:05.219Z"
   },
   {
    "duration": 1389,
    "start_time": "2024-06-12T10:35:32.434Z"
   },
   {
    "duration": 1197,
    "start_time": "2024-06-12T10:42:59.354Z"
   },
   {
    "duration": 173,
    "start_time": "2024-06-12T11:38:31.695Z"
   },
   {
    "duration": 227,
    "start_time": "2024-06-12T11:46:26.350Z"
   },
   {
    "duration": 455,
    "start_time": "2024-06-12T11:55:20.117Z"
   },
   {
    "duration": 245,
    "start_time": "2024-06-12T11:59:22.036Z"
   },
   {
    "duration": 418,
    "start_time": "2024-06-12T12:03:16.945Z"
   },
   {
    "duration": 34,
    "start_time": "2024-06-12T12:09:03.694Z"
   },
   {
    "duration": 32,
    "start_time": "2024-06-12T12:14:28.384Z"
   },
   {
    "duration": 9,
    "start_time": "2024-06-12T12:20:59.972Z"
   },
   {
    "duration": 8,
    "start_time": "2024-06-12T12:24:12.169Z"
   },
   {
    "duration": 57,
    "start_time": "2024-06-12T12:24:27.016Z"
   },
   {
    "duration": 10,
    "start_time": "2024-06-12T12:46:45.054Z"
   },
   {
    "duration": 8,
    "start_time": "2024-06-12T12:49:54.947Z"
   },
   {
    "duration": 8,
    "start_time": "2024-06-12T12:55:56.065Z"
   },
   {
    "duration": 381,
    "start_time": "2024-06-12T13:09:41.495Z"
   },
   {
    "duration": 49,
    "start_time": "2024-06-12T13:09:41.878Z"
   },
   {
    "duration": 23,
    "start_time": "2024-06-12T13:09:41.929Z"
   },
   {
    "duration": 11,
    "start_time": "2024-06-12T13:09:41.954Z"
   },
   {
    "duration": 3,
    "start_time": "2024-06-12T13:09:41.967Z"
   },
   {
    "duration": 47,
    "start_time": "2024-06-12T13:09:41.972Z"
   },
   {
    "duration": 17,
    "start_time": "2024-06-12T13:09:42.021Z"
   },
   {
    "duration": 76,
    "start_time": "2024-06-12T13:09:42.039Z"
   },
   {
    "duration": 0,
    "start_time": "2024-06-12T13:09:42.117Z"
   },
   {
    "duration": 0,
    "start_time": "2024-06-12T13:09:42.118Z"
   },
   {
    "duration": 0,
    "start_time": "2024-06-12T13:09:42.119Z"
   },
   {
    "duration": 0,
    "start_time": "2024-06-12T13:09:42.121Z"
   },
   {
    "duration": 1,
    "start_time": "2024-06-12T13:09:42.121Z"
   },
   {
    "duration": 0,
    "start_time": "2024-06-12T13:09:42.122Z"
   },
   {
    "duration": 0,
    "start_time": "2024-06-12T13:09:42.123Z"
   },
   {
    "duration": 0,
    "start_time": "2024-06-12T13:09:42.124Z"
   },
   {
    "duration": 0,
    "start_time": "2024-06-12T13:09:42.125Z"
   },
   {
    "duration": 0,
    "start_time": "2024-06-12T13:09:42.125Z"
   },
   {
    "duration": 0,
    "start_time": "2024-06-12T13:09:42.126Z"
   },
   {
    "duration": 0,
    "start_time": "2024-06-12T13:09:42.127Z"
   },
   {
    "duration": 0,
    "start_time": "2024-06-12T13:09:42.128Z"
   },
   {
    "duration": 0,
    "start_time": "2024-06-12T13:09:42.129Z"
   },
   {
    "duration": 0,
    "start_time": "2024-06-12T13:09:42.130Z"
   },
   {
    "duration": 0,
    "start_time": "2024-06-12T13:09:42.132Z"
   },
   {
    "duration": 0,
    "start_time": "2024-06-12T13:09:42.133Z"
   },
   {
    "duration": 0,
    "start_time": "2024-06-12T13:09:42.134Z"
   },
   {
    "duration": 55,
    "start_time": "2024-06-12T13:11:02.230Z"
   },
   {
    "duration": 12,
    "start_time": "2024-06-12T13:12:14.658Z"
   },
   {
    "duration": 51,
    "start_time": "2024-06-12T13:12:22.849Z"
   },
   {
    "duration": 17,
    "start_time": "2024-06-12T13:12:26.283Z"
   },
   {
    "duration": 2,
    "start_time": "2024-06-12T13:12:29.541Z"
   },
   {
    "duration": 55,
    "start_time": "2024-06-12T13:12:29.545Z"
   },
   {
    "duration": 15,
    "start_time": "2024-06-12T13:12:29.602Z"
   },
   {
    "duration": 19,
    "start_time": "2024-06-12T13:12:29.618Z"
   },
   {
    "duration": 6,
    "start_time": "2024-06-12T13:12:29.639Z"
   },
   {
    "duration": 20,
    "start_time": "2024-06-12T13:12:29.646Z"
   },
   {
    "duration": 21,
    "start_time": "2024-06-12T13:12:29.667Z"
   },
   {
    "duration": 56,
    "start_time": "2024-06-12T13:12:29.702Z"
   },
   {
    "duration": 17,
    "start_time": "2024-06-12T13:12:29.760Z"
   },
   {
    "duration": 98,
    "start_time": "2024-06-12T13:12:29.778Z"
   },
   {
    "duration": 463,
    "start_time": "2024-06-12T13:12:29.879Z"
   },
   {
    "duration": 22,
    "start_time": "2024-06-12T13:12:30.343Z"
   },
   {
    "duration": 0,
    "start_time": "2024-06-12T13:12:30.367Z"
   },
   {
    "duration": 0,
    "start_time": "2024-06-12T13:12:30.368Z"
   },
   {
    "duration": 0,
    "start_time": "2024-06-12T13:12:30.369Z"
   },
   {
    "duration": 0,
    "start_time": "2024-06-12T13:12:30.369Z"
   },
   {
    "duration": 0,
    "start_time": "2024-06-12T13:12:30.370Z"
   },
   {
    "duration": 0,
    "start_time": "2024-06-12T13:12:30.371Z"
   },
   {
    "duration": 0,
    "start_time": "2024-06-12T13:12:30.373Z"
   },
   {
    "duration": 1,
    "start_time": "2024-06-12T13:12:30.373Z"
   },
   {
    "duration": 0,
    "start_time": "2024-06-12T13:12:30.375Z"
   },
   {
    "duration": 0,
    "start_time": "2024-06-12T13:12:30.376Z"
   },
   {
    "duration": 0,
    "start_time": "2024-06-12T13:12:30.402Z"
   },
   {
    "duration": 0,
    "start_time": "2024-06-12T13:12:30.403Z"
   },
   {
    "duration": 0,
    "start_time": "2024-06-12T13:12:30.404Z"
   },
   {
    "duration": 0,
    "start_time": "2024-06-12T13:12:30.406Z"
   },
   {
    "duration": 9,
    "start_time": "2024-06-12T13:12:57.825Z"
   },
   {
    "duration": 16,
    "start_time": "2024-06-12T13:13:11.063Z"
   },
   {
    "duration": 45,
    "start_time": "2024-06-12T13:13:16.936Z"
   },
   {
    "duration": 243,
    "start_time": "2024-06-12T13:13:18.169Z"
   },
   {
    "duration": 10,
    "start_time": "2024-06-12T13:13:19.277Z"
   },
   {
    "duration": 4,
    "start_time": "2024-06-12T13:13:49.813Z"
   },
   {
    "duration": 3,
    "start_time": "2024-06-12T13:14:08.550Z"
   },
   {
    "duration": 46,
    "start_time": "2024-06-12T13:14:17.568Z"
   },
   {
    "duration": 19,
    "start_time": "2024-06-12T13:14:23.045Z"
   },
   {
    "duration": 32,
    "start_time": "2024-06-12T13:15:02.618Z"
   },
   {
    "duration": 44,
    "start_time": "2024-06-12T13:15:07.129Z"
   },
   {
    "duration": 89,
    "start_time": "2024-06-12T13:15:31.020Z"
   },
   {
    "duration": 19,
    "start_time": "2024-06-12T13:15:41.098Z"
   },
   {
    "duration": 19,
    "start_time": "2024-06-12T13:15:49.119Z"
   },
   {
    "duration": 3,
    "start_time": "2024-06-12T13:15:56.445Z"
   },
   {
    "duration": 48,
    "start_time": "2024-06-12T13:16:05.140Z"
   },
   {
    "duration": 281,
    "start_time": "2024-06-12T13:16:07.957Z"
   },
   {
    "duration": 185,
    "start_time": "2024-06-12T13:16:09.838Z"
   },
   {
    "duration": 215,
    "start_time": "2024-06-12T13:16:12.101Z"
   },
   {
    "duration": 501,
    "start_time": "2024-06-12T13:16:13.350Z"
   },
   {
    "duration": 428,
    "start_time": "2024-06-12T13:55:42.448Z"
   },
   {
    "duration": 58,
    "start_time": "2024-06-12T13:55:42.878Z"
   },
   {
    "duration": 29,
    "start_time": "2024-06-12T13:55:42.938Z"
   },
   {
    "duration": 17,
    "start_time": "2024-06-12T13:55:42.969Z"
   },
   {
    "duration": 4,
    "start_time": "2024-06-12T13:55:42.988Z"
   },
   {
    "duration": 43,
    "start_time": "2024-06-12T13:55:42.994Z"
   },
   {
    "duration": 34,
    "start_time": "2024-06-12T13:55:43.039Z"
   },
   {
    "duration": 86,
    "start_time": "2024-06-12T13:55:43.075Z"
   },
   {
    "duration": 22,
    "start_time": "2024-06-12T13:55:43.162Z"
   },
   {
    "duration": 18,
    "start_time": "2024-06-12T13:55:43.186Z"
   },
   {
    "duration": 84,
    "start_time": "2024-06-12T13:55:43.206Z"
   },
   {
    "duration": 609,
    "start_time": "2024-06-12T13:55:43.292Z"
   },
   {
    "duration": 243,
    "start_time": "2024-06-12T13:55:43.903Z"
   },
   {
    "duration": 270,
    "start_time": "2024-06-12T13:55:44.154Z"
   },
   {
    "duration": 724,
    "start_time": "2024-06-12T13:55:44.426Z"
   },
   {
    "duration": 554,
    "start_time": "2024-06-12T13:55:45.155Z"
   },
   {
    "duration": 1184,
    "start_time": "2024-06-12T13:55:45.711Z"
   },
   {
    "duration": 545,
    "start_time": "2024-06-12T13:55:46.896Z"
   },
   {
    "duration": 437,
    "start_time": "2024-06-12T13:55:47.443Z"
   },
   {
    "duration": 1496,
    "start_time": "2024-06-12T13:55:47.882Z"
   },
   {
    "duration": 229,
    "start_time": "2024-06-12T13:55:49.380Z"
   },
   {
    "duration": 622,
    "start_time": "2024-06-12T13:55:49.611Z"
   },
   {
    "duration": 308,
    "start_time": "2024-06-12T13:55:50.235Z"
   },
   {
    "duration": 522,
    "start_time": "2024-06-12T13:55:50.545Z"
   },
   {
    "duration": 40,
    "start_time": "2024-06-12T13:55:51.069Z"
   },
   {
    "duration": 12,
    "start_time": "2024-06-12T13:55:51.111Z"
   },
   {
    "duration": 37,
    "start_time": "2024-06-12T13:55:51.125Z"
   },
   {
    "duration": 12,
    "start_time": "2024-06-12T13:57:15.420Z"
   },
   {
    "duration": 398,
    "start_time": "2024-06-12T13:57:30.194Z"
   },
   {
    "duration": 59,
    "start_time": "2024-06-12T13:57:30.595Z"
   },
   {
    "duration": 37,
    "start_time": "2024-06-12T13:57:30.656Z"
   },
   {
    "duration": 85,
    "start_time": "2024-06-12T13:57:30.695Z"
   },
   {
    "duration": 86,
    "start_time": "2024-06-12T13:57:30.783Z"
   },
   {
    "duration": 81,
    "start_time": "2024-06-12T13:57:30.871Z"
   },
   {
    "duration": 57,
    "start_time": "2024-06-12T13:57:30.954Z"
   },
   {
    "duration": 83,
    "start_time": "2024-06-12T13:57:31.013Z"
   },
   {
    "duration": 21,
    "start_time": "2024-06-12T13:57:31.098Z"
   },
   {
    "duration": 12,
    "start_time": "2024-06-12T13:57:31.121Z"
   },
   {
    "duration": 71,
    "start_time": "2024-06-12T13:57:31.135Z"
   },
   {
    "duration": 81,
    "start_time": "2024-06-12T13:57:31.208Z"
   },
   {
    "duration": 595,
    "start_time": "2024-06-12T13:57:31.291Z"
   },
   {
    "duration": 271,
    "start_time": "2024-06-12T13:57:31.889Z"
   },
   {
    "duration": 275,
    "start_time": "2024-06-12T13:57:32.161Z"
   },
   {
    "duration": 710,
    "start_time": "2024-06-12T13:57:32.438Z"
   },
   {
    "duration": 584,
    "start_time": "2024-06-12T13:57:33.150Z"
   },
   {
    "duration": 1149,
    "start_time": "2024-06-12T13:57:33.736Z"
   },
   {
    "duration": 572,
    "start_time": "2024-06-12T13:57:34.886Z"
   },
   {
    "duration": 430,
    "start_time": "2024-06-12T13:57:35.459Z"
   },
   {
    "duration": 1570,
    "start_time": "2024-06-12T13:57:35.890Z"
   },
   {
    "duration": 231,
    "start_time": "2024-06-12T13:57:37.462Z"
   },
   {
    "duration": 604,
    "start_time": "2024-06-12T13:57:37.695Z"
   },
   {
    "duration": 339,
    "start_time": "2024-06-12T13:57:38.301Z"
   },
   {
    "duration": 569,
    "start_time": "2024-06-12T13:57:38.642Z"
   },
   {
    "duration": 55,
    "start_time": "2024-06-12T13:57:39.213Z"
   },
   {
    "duration": 12,
    "start_time": "2024-06-12T13:57:39.270Z"
   },
   {
    "duration": 11,
    "start_time": "2024-06-12T13:57:39.284Z"
   },
   {
    "duration": 11,
    "start_time": "2024-06-12T13:58:18.452Z"
   },
   {
    "duration": 429,
    "start_time": "2024-06-12T13:58:24.452Z"
   },
   {
    "duration": 56,
    "start_time": "2024-06-12T13:58:24.883Z"
   },
   {
    "duration": 29,
    "start_time": "2024-06-12T13:58:24.940Z"
   },
   {
    "duration": 16,
    "start_time": "2024-06-12T13:58:24.970Z"
   },
   {
    "duration": 4,
    "start_time": "2024-06-12T13:58:24.988Z"
   },
   {
    "duration": 58,
    "start_time": "2024-06-12T13:58:24.993Z"
   },
   {
    "duration": 21,
    "start_time": "2024-06-12T13:58:25.053Z"
   },
   {
    "duration": 83,
    "start_time": "2024-06-12T13:58:25.075Z"
   },
   {
    "duration": 22,
    "start_time": "2024-06-12T13:58:25.160Z"
   },
   {
    "duration": 4,
    "start_time": "2024-06-12T13:58:25.183Z"
   },
   {
    "duration": 11,
    "start_time": "2024-06-12T13:58:25.189Z"
   },
   {
    "duration": 90,
    "start_time": "2024-06-12T13:58:25.202Z"
   },
   {
    "duration": 584,
    "start_time": "2024-06-12T13:58:25.294Z"
   },
   {
    "duration": 252,
    "start_time": "2024-06-12T13:58:25.881Z"
   },
   {
    "duration": 326,
    "start_time": "2024-06-12T13:58:26.134Z"
   },
   {
    "duration": 726,
    "start_time": "2024-06-12T13:58:26.461Z"
   },
   {
    "duration": 555,
    "start_time": "2024-06-12T13:58:27.189Z"
   },
   {
    "duration": 1109,
    "start_time": "2024-06-12T13:58:27.746Z"
   },
   {
    "duration": 563,
    "start_time": "2024-06-12T13:58:28.857Z"
   },
   {
    "duration": 441,
    "start_time": "2024-06-12T13:58:29.422Z"
   },
   {
    "duration": 1542,
    "start_time": "2024-06-12T13:58:29.865Z"
   },
   {
    "duration": 233,
    "start_time": "2024-06-12T13:58:31.409Z"
   },
   {
    "duration": 596,
    "start_time": "2024-06-12T13:58:31.643Z"
   },
   {
    "duration": 336,
    "start_time": "2024-06-12T13:58:32.241Z"
   },
   {
    "duration": 523,
    "start_time": "2024-06-12T13:58:32.579Z"
   },
   {
    "duration": 41,
    "start_time": "2024-06-12T13:58:33.103Z"
   },
   {
    "duration": 11,
    "start_time": "2024-06-12T13:58:33.156Z"
   },
   {
    "duration": 24,
    "start_time": "2024-06-12T13:58:33.168Z"
   },
   {
    "duration": 7,
    "start_time": "2024-06-12T14:03:25.588Z"
   },
   {
    "duration": 10,
    "start_time": "2024-06-12T14:03:44.746Z"
   },
   {
    "duration": 413,
    "start_time": "2024-06-12T14:09:32.063Z"
   },
   {
    "duration": 57,
    "start_time": "2024-06-12T14:09:32.478Z"
   },
   {
    "duration": 27,
    "start_time": "2024-06-12T14:09:32.537Z"
   },
   {
    "duration": 21,
    "start_time": "2024-06-12T14:09:32.566Z"
   },
   {
    "duration": 3,
    "start_time": "2024-06-12T14:09:32.590Z"
   },
   {
    "duration": 39,
    "start_time": "2024-06-12T14:09:32.595Z"
   },
   {
    "duration": 36,
    "start_time": "2024-06-12T14:09:32.636Z"
   },
   {
    "duration": 108,
    "start_time": "2024-06-12T14:09:32.673Z"
   },
   {
    "duration": 21,
    "start_time": "2024-06-12T14:09:32.783Z"
   },
   {
    "duration": 5,
    "start_time": "2024-06-12T14:09:32.806Z"
   },
   {
    "duration": 92,
    "start_time": "2024-06-12T14:09:32.813Z"
   },
   {
    "duration": 614,
    "start_time": "2024-06-12T14:09:32.906Z"
   },
   {
    "duration": 238,
    "start_time": "2024-06-12T14:09:33.522Z"
   },
   {
    "duration": 297,
    "start_time": "2024-06-12T14:09:33.763Z"
   },
   {
    "duration": 719,
    "start_time": "2024-06-12T14:09:34.062Z"
   },
   {
    "duration": 555,
    "start_time": "2024-06-12T14:09:34.782Z"
   },
   {
    "duration": 1130,
    "start_time": "2024-06-12T14:09:35.339Z"
   },
   {
    "duration": 698,
    "start_time": "2024-06-12T14:09:36.471Z"
   },
   {
    "duration": 440,
    "start_time": "2024-06-12T14:09:37.171Z"
   },
   {
    "duration": 10,
    "start_time": "2024-06-12T14:09:37.613Z"
   },
   {
    "duration": 1494,
    "start_time": "2024-06-12T14:09:37.624Z"
   },
   {
    "duration": 232,
    "start_time": "2024-06-12T14:09:39.120Z"
   },
   {
    "duration": 637,
    "start_time": "2024-06-12T14:09:39.355Z"
   },
   {
    "duration": 334,
    "start_time": "2024-06-12T14:09:39.994Z"
   },
   {
    "duration": 527,
    "start_time": "2024-06-12T14:09:40.330Z"
   },
   {
    "duration": 41,
    "start_time": "2024-06-12T14:09:40.859Z"
   },
   {
    "duration": 13,
    "start_time": "2024-06-12T14:09:40.902Z"
   },
   {
    "duration": 18,
    "start_time": "2024-06-12T14:09:40.916Z"
   },
   {
    "duration": 387,
    "start_time": "2024-06-13T07:17:18.499Z"
   },
   {
    "duration": 114,
    "start_time": "2024-06-13T07:17:18.888Z"
   },
   {
    "duration": 27,
    "start_time": "2024-06-13T07:17:19.059Z"
   },
   {
    "duration": 14,
    "start_time": "2024-06-13T07:17:19.485Z"
   },
   {
    "duration": 5,
    "start_time": "2024-06-13T07:17:24.918Z"
   },
   {
    "duration": 23,
    "start_time": "2024-06-13T07:17:27.066Z"
   },
   {
    "duration": 21,
    "start_time": "2024-06-13T07:17:27.790Z"
   },
   {
    "duration": 72,
    "start_time": "2024-06-13T07:17:28.450Z"
   },
   {
    "duration": 23,
    "start_time": "2024-06-13T07:17:36.117Z"
   },
   {
    "duration": 4,
    "start_time": "2024-06-13T07:17:36.886Z"
   },
   {
    "duration": 66,
    "start_time": "2024-06-13T07:17:41.041Z"
   },
   {
    "duration": 714,
    "start_time": "2024-06-13T07:17:44.124Z"
   },
   {
    "duration": 202,
    "start_time": "2024-06-13T07:19:50.311Z"
   },
   {
    "duration": 244,
    "start_time": "2024-06-13T07:19:55.196Z"
   },
   {
    "duration": 653,
    "start_time": "2024-06-13T07:19:58.655Z"
   },
   {
    "duration": 494,
    "start_time": "2024-06-13T07:20:00.121Z"
   },
   {
    "duration": 238,
    "start_time": "2024-06-13T07:40:03.722Z"
   },
   {
    "duration": 211,
    "start_time": "2024-06-13T07:43:16.333Z"
   },
   {
    "duration": 240,
    "start_time": "2024-06-13T07:48:53.754Z"
   },
   {
    "duration": 691,
    "start_time": "2024-06-13T07:48:57.747Z"
   },
   {
    "duration": 69,
    "start_time": "2024-06-13T07:49:37.649Z"
   },
   {
    "duration": 10,
    "start_time": "2024-06-13T07:50:02.071Z"
   },
   {
    "duration": 596,
    "start_time": "2024-06-13T07:50:19.848Z"
   },
   {
    "duration": 664,
    "start_time": "2024-06-13T07:57:54.609Z"
   },
   {
    "duration": 578,
    "start_time": "2024-06-13T07:58:16.923Z"
   },
   {
    "duration": 628,
    "start_time": "2024-06-13T08:00:40.450Z"
   },
   {
    "duration": 1069,
    "start_time": "2024-06-13T08:10:39.116Z"
   },
   {
    "duration": 982,
    "start_time": "2024-06-13T08:49:01.882Z"
   },
   {
    "duration": 455,
    "start_time": "2024-06-13T08:49:04.960Z"
   },
   {
    "duration": 349,
    "start_time": "2024-06-13T08:53:22.896Z"
   },
   {
    "duration": 428,
    "start_time": "2024-06-13T09:00:50.404Z"
   },
   {
    "duration": 1619,
    "start_time": "2024-06-13T09:19:47.668Z"
   },
   {
    "duration": 407,
    "start_time": "2024-06-13T09:35:02.615Z"
   },
   {
    "duration": 191,
    "start_time": "2024-06-13T09:42:53.893Z"
   },
   {
    "duration": 540,
    "start_time": "2024-06-13T09:44:16.160Z"
   },
   {
    "duration": 262,
    "start_time": "2024-06-13T09:45:04.492Z"
   },
   {
    "duration": 11,
    "start_time": "2024-06-13T09:52:18.945Z"
   },
   {
    "duration": 10,
    "start_time": "2024-06-13T09:52:53.376Z"
   },
   {
    "duration": 332,
    "start_time": "2024-06-13T13:24:08.841Z"
   },
   {
    "duration": 54,
    "start_time": "2024-06-13T13:24:09.174Z"
   },
   {
    "duration": 24,
    "start_time": "2024-06-13T13:24:09.230Z"
   },
   {
    "duration": 18,
    "start_time": "2024-06-13T13:24:09.256Z"
   },
   {
    "duration": 21,
    "start_time": "2024-06-13T13:24:09.275Z"
   },
   {
    "duration": 23,
    "start_time": "2024-06-13T13:24:09.297Z"
   },
   {
    "duration": 19,
    "start_time": "2024-06-13T13:24:09.321Z"
   },
   {
    "duration": 69,
    "start_time": "2024-06-13T13:24:09.342Z"
   },
   {
    "duration": 20,
    "start_time": "2024-06-13T13:24:09.412Z"
   },
   {
    "duration": 4,
    "start_time": "2024-06-13T13:24:09.434Z"
   },
   {
    "duration": 72,
    "start_time": "2024-06-13T13:24:09.439Z"
   },
   {
    "duration": 517,
    "start_time": "2024-06-13T13:24:09.512Z"
   },
   {
    "duration": 210,
    "start_time": "2024-06-13T13:24:10.031Z"
   },
   {
    "duration": 254,
    "start_time": "2024-06-13T13:24:10.243Z"
   },
   {
    "duration": 567,
    "start_time": "2024-06-13T13:24:10.499Z"
   },
   {
    "duration": 829,
    "start_time": "2024-06-13T13:24:11.067Z"
   },
   {
    "duration": 977,
    "start_time": "2024-06-13T13:24:11.897Z"
   },
   {
    "duration": 451,
    "start_time": "2024-06-13T13:24:12.875Z"
   },
   {
    "duration": 377,
    "start_time": "2024-06-13T13:24:13.328Z"
   },
   {
    "duration": 8,
    "start_time": "2024-06-13T13:24:13.706Z"
   },
   {
    "duration": 1499,
    "start_time": "2024-06-13T13:24:13.715Z"
   },
   {
    "duration": 195,
    "start_time": "2024-06-13T13:24:15.215Z"
   },
   {
    "duration": 473,
    "start_time": "2024-06-13T13:24:15.412Z"
   },
   {
    "duration": 276,
    "start_time": "2024-06-13T13:24:15.886Z"
   },
   {
    "duration": 474,
    "start_time": "2024-06-13T13:24:16.164Z"
   },
   {
    "duration": 47,
    "start_time": "2024-06-13T13:24:16.640Z"
   },
   {
    "duration": 9,
    "start_time": "2024-06-13T13:24:16.689Z"
   },
   {
    "duration": 10,
    "start_time": "2024-06-13T13:24:16.701Z"
   }
  ],
  "kernelspec": {
   "display_name": "Python 3 (ipykernel)",
   "language": "python",
   "name": "python3"
  },
  "language_info": {
   "codemirror_mode": {
    "name": "ipython",
    "version": 3
   },
   "file_extension": ".py",
   "mimetype": "text/x-python",
   "name": "python",
   "nbconvert_exporter": "python",
   "pygments_lexer": "ipython3",
   "version": "3.9.5"
  },
  "toc": {
   "base_numbering": 1,
   "nav_menu": {},
   "number_sections": true,
   "sideBar": true,
   "skip_h1_title": true,
   "title_cell": "Table of Contents",
   "title_sidebar": "Contents",
   "toc_cell": false,
   "toc_position": {},
   "toc_section_display": true,
   "toc_window_display": false
  }
 },
 "nbformat": 4,
 "nbformat_minor": 2
}
