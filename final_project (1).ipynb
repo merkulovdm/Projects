{
 "cells": [
  {
   "cell_type": "markdown",
   "metadata": {},
   "source": [
    "# Описание проекта"
   ]
  },
  {
   "cell_type": "markdown",
   "metadata": {},
   "source": [
    "Нам повезло работать в одном из лучших банков страны «Метанпромбанк».  \n",
    "Однако нам предстоит разобраться в анализе оттока клиентов регионального банка.  \n",
    "Проведем предобработку данных, а затем исследовательский анализ данных, определим все значимые\n",
    "признаки отточности.\n",
    "\n",
    "Сформулируем и проверим гипотезы:\n",
    "- Город проживания может влиять на склонность к оттоку (например, жители Ярославля и небольших городов могут вести себя по-разному).\n",
    "- Клиенты, которые пользуются более чем одним продуктом, реже уходят.\n",
    "- Клиенты с низким кредитным скорингом склонны к оттоку.\n",
    "\n",
    "После проверки гипотез мы выделим категорию клиентов, которые обладают высокой склонностью к оттоку для более детального анализа и разработки рекомендаций.\n",
    "В конце, на основе анализа мы предоставим выводы, а также разработаем рекомендации для данного случая."
   ]
  },
  {
   "cell_type": "markdown",
   "metadata": {},
   "source": [
    "# Цель проекта:\n",
    "Основная цель данного проекта - проанализировать поведение клиентов банка, выявить ключевые факторы, влияющие на их отток, и предложить сегментацию клиентов на основе этих факторов. Анализ позволит сформулировать рекомендации для улучшения удержания клиентов и минимизации оттока."
   ]
  },
  {
   "cell_type": "markdown",
   "metadata": {},
   "source": [
    "# Описание данных:\n",
    "\n",
    "Анализ проводится на основе данных о клиентах регионального банка \"Метанпром\", который расположен Ярославле и областных городах: Ростов Великий и Рыбинск.  \n",
    "Датасет содержит следующие параметры:  \n",
    "\n",
    "USERID — идентификатор пользователя.  \n",
    "score — баллы кредитного скоринга.  \n",
    "city — город проживания клиента (Ярославль, Ростов Великий, Рыбинск).  \n",
    "gender — пол клиента.  \n",
    "age — возраст клиента.  \n",
    "equity — количество баллов собственности.  \n",
    "balance — баланс на счете клиента.  \n",
    "products — количество продуктов, которыми пользуется клиент.  \n",
    "credit_card — наличие кредитной карты.  \n",
    "last_activity — активность клиента.  \n",
    "EST_SALARY — оценочный доход клиента.  \n",
    "churn — признак оттока клиента (ушел или остался).  "
   ]
  },
  {
   "cell_type": "markdown",
   "metadata": {},
   "source": [
    "# Изучение общих и сырых поступивших данных"
   ]
  },
  {
   "cell_type": "code",
   "execution_count": 293,
   "metadata": {},
   "outputs": [
    {
     "name": "stdout",
     "output_type": "stream",
     "text": [
      "Requirement already satisfied: phik in /opt/conda/lib/python3.9/site-packages (0.12.4)\n",
      "Requirement already satisfied: joblib>=0.14.1 in /opt/conda/lib/python3.9/site-packages (from phik) (1.1.0)\n",
      "Requirement already satisfied: numpy>=1.18.0 in /opt/conda/lib/python3.9/site-packages (from phik) (1.21.1)\n",
      "Requirement already satisfied: matplotlib>=2.2.3 in /opt/conda/lib/python3.9/site-packages (from phik) (3.3.4)\n",
      "Requirement already satisfied: scipy>=1.5.2 in /opt/conda/lib/python3.9/site-packages (from phik) (1.9.1)\n",
      "Requirement already satisfied: pandas>=0.25.1 in /opt/conda/lib/python3.9/site-packages (from phik) (1.2.4)\n",
      "Requirement already satisfied: python-dateutil>=2.1 in /opt/conda/lib/python3.9/site-packages (from matplotlib>=2.2.3->phik) (2.8.1)\n",
      "Requirement already satisfied: pillow>=6.2.0 in /opt/conda/lib/python3.9/site-packages (from matplotlib>=2.2.3->phik) (8.4.0)\n",
      "Requirement already satisfied: kiwisolver>=1.0.1 in /opt/conda/lib/python3.9/site-packages (from matplotlib>=2.2.3->phik) (1.4.4)\n",
      "Requirement already satisfied: pyparsing!=2.0.4,!=2.1.2,!=2.1.6,>=2.0.3 in /opt/conda/lib/python3.9/site-packages (from matplotlib>=2.2.3->phik) (2.4.7)\n",
      "Requirement already satisfied: cycler>=0.10 in /opt/conda/lib/python3.9/site-packages (from matplotlib>=2.2.3->phik) (0.11.0)\n",
      "Requirement already satisfied: pytz>=2017.3 in /opt/conda/lib/python3.9/site-packages (from pandas>=0.25.1->phik) (2021.1)\n",
      "Requirement already satisfied: six>=1.5 in /opt/conda/lib/python3.9/site-packages (from python-dateutil>=2.1->matplotlib>=2.2.3->phik) (1.16.0)\n",
      "Note: you may need to restart the kernel to use updated packages.\n"
     ]
    }
   ],
   "source": [
    "pip install phik"
   ]
  },
  {
   "cell_type": "code",
   "execution_count": 294,
   "metadata": {},
   "outputs": [],
   "source": [
    "import pandas as pd\n",
    "import matplotlib.pyplot as plt\n",
    "import seaborn as sns\n",
    "from phik import resources\n",
    "from phik.report import plot_correlation_matrix\n",
    "from scipy import stats\n",
    "from sklearn.preprocessing import StandardScaler\n",
    "from sklearn.cluster import KMeans"
   ]
  },
  {
   "cell_type": "code",
   "execution_count": 295,
   "metadata": {},
   "outputs": [],
   "source": [
    "url = 'https://code.s3.yandex.net/datasets/bank_scrooge.csv'"
   ]
  },
  {
   "cell_type": "code",
   "execution_count": 296,
   "metadata": {
    "scrolled": false
   },
   "outputs": [
    {
     "data": {
      "text/html": [
       "<div>\n",
       "<style scoped>\n",
       "    .dataframe tbody tr th:only-of-type {\n",
       "        vertical-align: middle;\n",
       "    }\n",
       "\n",
       "    .dataframe tbody tr th {\n",
       "        vertical-align: top;\n",
       "    }\n",
       "\n",
       "    .dataframe thead th {\n",
       "        text-align: right;\n",
       "    }\n",
       "</style>\n",
       "<table border=\"1\" class=\"dataframe\">\n",
       "  <thead>\n",
       "    <tr style=\"text-align: right;\">\n",
       "      <th></th>\n",
       "      <th>USERID</th>\n",
       "      <th>score</th>\n",
       "      <th>city</th>\n",
       "      <th>gender</th>\n",
       "      <th>age</th>\n",
       "      <th>equity</th>\n",
       "      <th>balance</th>\n",
       "      <th>products</th>\n",
       "      <th>credit_card</th>\n",
       "      <th>last_activity</th>\n",
       "      <th>EST_SALARY</th>\n",
       "      <th>churn</th>\n",
       "    </tr>\n",
       "  </thead>\n",
       "  <tbody>\n",
       "    <tr>\n",
       "      <th>0</th>\n",
       "      <td>183012</td>\n",
       "      <td>850.0</td>\n",
       "      <td>Рыбинск</td>\n",
       "      <td>Ж</td>\n",
       "      <td>25.0</td>\n",
       "      <td>1</td>\n",
       "      <td>59214.82</td>\n",
       "      <td>2</td>\n",
       "      <td>0</td>\n",
       "      <td>1</td>\n",
       "      <td>75719.14</td>\n",
       "      <td>1</td>\n",
       "    </tr>\n",
       "    <tr>\n",
       "      <th>1</th>\n",
       "      <td>146556</td>\n",
       "      <td>861.0</td>\n",
       "      <td>Рыбинск</td>\n",
       "      <td>Ж</td>\n",
       "      <td>37.0</td>\n",
       "      <td>5</td>\n",
       "      <td>850594.33</td>\n",
       "      <td>3</td>\n",
       "      <td>1</td>\n",
       "      <td>0</td>\n",
       "      <td>86621.77</td>\n",
       "      <td>0</td>\n",
       "    </tr>\n",
       "    <tr>\n",
       "      <th>2</th>\n",
       "      <td>120722</td>\n",
       "      <td>892.0</td>\n",
       "      <td>Рыбинск</td>\n",
       "      <td>Ж</td>\n",
       "      <td>30.0</td>\n",
       "      <td>0</td>\n",
       "      <td>NaN</td>\n",
       "      <td>1</td>\n",
       "      <td>1</td>\n",
       "      <td>1</td>\n",
       "      <td>107683.34</td>\n",
       "      <td>0</td>\n",
       "    </tr>\n",
       "    <tr>\n",
       "      <th>3</th>\n",
       "      <td>225363</td>\n",
       "      <td>866.0</td>\n",
       "      <td>Ярославль</td>\n",
       "      <td>Ж</td>\n",
       "      <td>51.0</td>\n",
       "      <td>5</td>\n",
       "      <td>1524746.26</td>\n",
       "      <td>2</td>\n",
       "      <td>0</td>\n",
       "      <td>1</td>\n",
       "      <td>174423.53</td>\n",
       "      <td>1</td>\n",
       "    </tr>\n",
       "    <tr>\n",
       "      <th>4</th>\n",
       "      <td>157978</td>\n",
       "      <td>730.0</td>\n",
       "      <td>Ярославль</td>\n",
       "      <td>М</td>\n",
       "      <td>34.0</td>\n",
       "      <td>5</td>\n",
       "      <td>174.00</td>\n",
       "      <td>1</td>\n",
       "      <td>1</td>\n",
       "      <td>0</td>\n",
       "      <td>67353.16</td>\n",
       "      <td>1</td>\n",
       "    </tr>\n",
       "    <tr>\n",
       "      <th>...</th>\n",
       "      <td>...</td>\n",
       "      <td>...</td>\n",
       "      <td>...</td>\n",
       "      <td>...</td>\n",
       "      <td>...</td>\n",
       "      <td>...</td>\n",
       "      <td>...</td>\n",
       "      <td>...</td>\n",
       "      <td>...</td>\n",
       "      <td>...</td>\n",
       "      <td>...</td>\n",
       "      <td>...</td>\n",
       "    </tr>\n",
       "    <tr>\n",
       "      <th>9995</th>\n",
       "      <td>120553</td>\n",
       "      <td>814.0</td>\n",
       "      <td>Рыбинск</td>\n",
       "      <td>М</td>\n",
       "      <td>27.0</td>\n",
       "      <td>1</td>\n",
       "      <td>78144.65</td>\n",
       "      <td>1</td>\n",
       "      <td>0</td>\n",
       "      <td>1</td>\n",
       "      <td>18943.64</td>\n",
       "      <td>0</td>\n",
       "    </tr>\n",
       "    <tr>\n",
       "      <th>9996</th>\n",
       "      <td>139170</td>\n",
       "      <td>894.0</td>\n",
       "      <td>Ярославль</td>\n",
       "      <td>М</td>\n",
       "      <td>46.0</td>\n",
       "      <td>0</td>\n",
       "      <td>NaN</td>\n",
       "      <td>1</td>\n",
       "      <td>1</td>\n",
       "      <td>0</td>\n",
       "      <td>196898.29</td>\n",
       "      <td>0</td>\n",
       "    </tr>\n",
       "    <tr>\n",
       "      <th>9997</th>\n",
       "      <td>115639</td>\n",
       "      <td>903.0</td>\n",
       "      <td>Ярославль</td>\n",
       "      <td>М</td>\n",
       "      <td>24.0</td>\n",
       "      <td>0</td>\n",
       "      <td>NaN</td>\n",
       "      <td>2</td>\n",
       "      <td>1</td>\n",
       "      <td>1</td>\n",
       "      <td>108905.09</td>\n",
       "      <td>0</td>\n",
       "    </tr>\n",
       "    <tr>\n",
       "      <th>9998</th>\n",
       "      <td>148700</td>\n",
       "      <td>777.0</td>\n",
       "      <td>Ярославль</td>\n",
       "      <td>Ж</td>\n",
       "      <td>68.0</td>\n",
       "      <td>3</td>\n",
       "      <td>865457.97</td>\n",
       "      <td>3</td>\n",
       "      <td>0</td>\n",
       "      <td>1</td>\n",
       "      <td>86874.90</td>\n",
       "      <td>0</td>\n",
       "    </tr>\n",
       "    <tr>\n",
       "      <th>9999</th>\n",
       "      <td>96267</td>\n",
       "      <td>828.0</td>\n",
       "      <td>Рыбинск</td>\n",
       "      <td>Ж</td>\n",
       "      <td>58.0</td>\n",
       "      <td>3</td>\n",
       "      <td>1180886.70</td>\n",
       "      <td>4</td>\n",
       "      <td>0</td>\n",
       "      <td>1</td>\n",
       "      <td>21422.37</td>\n",
       "      <td>0</td>\n",
       "    </tr>\n",
       "  </tbody>\n",
       "</table>\n",
       "<p>10000 rows × 12 columns</p>\n",
       "</div>"
      ],
      "text/plain": [
       "      USERID  score       city gender   age  equity     balance  products  \\\n",
       "0     183012  850.0    Рыбинск      Ж  25.0       1    59214.82         2   \n",
       "1     146556  861.0    Рыбинск      Ж  37.0       5   850594.33         3   \n",
       "2     120722  892.0    Рыбинск      Ж  30.0       0         NaN         1   \n",
       "3     225363  866.0  Ярославль      Ж  51.0       5  1524746.26         2   \n",
       "4     157978  730.0  Ярославль      М  34.0       5      174.00         1   \n",
       "...      ...    ...        ...    ...   ...     ...         ...       ...   \n",
       "9995  120553  814.0    Рыбинск      М  27.0       1    78144.65         1   \n",
       "9996  139170  894.0  Ярославль      М  46.0       0         NaN         1   \n",
       "9997  115639  903.0  Ярославль      М  24.0       0         NaN         2   \n",
       "9998  148700  777.0  Ярославль      Ж  68.0       3   865457.97         3   \n",
       "9999   96267  828.0    Рыбинск      Ж  58.0       3  1180886.70         4   \n",
       "\n",
       "      credit_card  last_activity  EST_SALARY  churn  \n",
       "0               0              1    75719.14      1  \n",
       "1               1              0    86621.77      0  \n",
       "2               1              1   107683.34      0  \n",
       "3               0              1   174423.53      1  \n",
       "4               1              0    67353.16      1  \n",
       "...           ...            ...         ...    ...  \n",
       "9995            0              1    18943.64      0  \n",
       "9996            1              0   196898.29      0  \n",
       "9997            1              1   108905.09      0  \n",
       "9998            0              1    86874.90      0  \n",
       "9999            0              1    21422.37      0  \n",
       "\n",
       "[10000 rows x 12 columns]"
      ]
     },
     "execution_count": 296,
     "metadata": {},
     "output_type": "execute_result"
    }
   ],
   "source": [
    "data = pd.read_csv(url)\n",
    "data"
   ]
  },
  {
   "cell_type": "markdown",
   "metadata": {},
   "source": [
    "Мы вывели датасет с 10000 логами  и 12 колонками. \n",
    "\n",
    "В нашем логе указано:  \n",
    "user_id — идентификатор пользователя;  \n",
    "score — баллы кредитного скоринга,  \n",
    "city — город,  \n",
    "gender — пол,  \n",
    "age — возраст,  \n",
    "equity — количество баллов собственности,  \n",
    "balance — баланс на счёте,  \n",
    "products — количество продуктов, которыми пользуется клиент,  \n",
    "credit_card — есть ли кредитная карта,  \n",
    "last_activity — активный клиент,  \n",
    "EST_SALARY — оценочный доход клиента,  \n",
    "сhurn — признак оттока."
   ]
  },
  {
   "cell_type": "markdown",
   "metadata": {},
   "source": [
    "# 1. Подготовка и обработка данных"
   ]
  },
  {
   "cell_type": "code",
   "execution_count": 297,
   "metadata": {},
   "outputs": [
    {
     "data": {
      "text/html": [
       "<div>\n",
       "<style scoped>\n",
       "    .dataframe tbody tr th:only-of-type {\n",
       "        vertical-align: middle;\n",
       "    }\n",
       "\n",
       "    .dataframe tbody tr th {\n",
       "        vertical-align: top;\n",
       "    }\n",
       "\n",
       "    .dataframe thead th {\n",
       "        text-align: right;\n",
       "    }\n",
       "</style>\n",
       "<table border=\"1\" class=\"dataframe\">\n",
       "  <thead>\n",
       "    <tr style=\"text-align: right;\">\n",
       "      <th></th>\n",
       "      <th>user_id</th>\n",
       "      <th>score</th>\n",
       "      <th>city</th>\n",
       "      <th>gender</th>\n",
       "      <th>age</th>\n",
       "      <th>equity</th>\n",
       "      <th>balance</th>\n",
       "      <th>products</th>\n",
       "      <th>credit_card</th>\n",
       "      <th>last_activity</th>\n",
       "      <th>est_salary</th>\n",
       "      <th>churn</th>\n",
       "    </tr>\n",
       "  </thead>\n",
       "  <tbody>\n",
       "    <tr>\n",
       "      <th>0</th>\n",
       "      <td>183012</td>\n",
       "      <td>850.0</td>\n",
       "      <td>Рыбинск</td>\n",
       "      <td>Ж</td>\n",
       "      <td>25.0</td>\n",
       "      <td>1</td>\n",
       "      <td>59214.82</td>\n",
       "      <td>2</td>\n",
       "      <td>0</td>\n",
       "      <td>1</td>\n",
       "      <td>75719.14</td>\n",
       "      <td>1</td>\n",
       "    </tr>\n",
       "    <tr>\n",
       "      <th>1</th>\n",
       "      <td>146556</td>\n",
       "      <td>861.0</td>\n",
       "      <td>Рыбинск</td>\n",
       "      <td>Ж</td>\n",
       "      <td>37.0</td>\n",
       "      <td>5</td>\n",
       "      <td>850594.33</td>\n",
       "      <td>3</td>\n",
       "      <td>1</td>\n",
       "      <td>0</td>\n",
       "      <td>86621.77</td>\n",
       "      <td>0</td>\n",
       "    </tr>\n",
       "    <tr>\n",
       "      <th>2</th>\n",
       "      <td>120722</td>\n",
       "      <td>892.0</td>\n",
       "      <td>Рыбинск</td>\n",
       "      <td>Ж</td>\n",
       "      <td>30.0</td>\n",
       "      <td>0</td>\n",
       "      <td>NaN</td>\n",
       "      <td>1</td>\n",
       "      <td>1</td>\n",
       "      <td>1</td>\n",
       "      <td>107683.34</td>\n",
       "      <td>0</td>\n",
       "    </tr>\n",
       "    <tr>\n",
       "      <th>3</th>\n",
       "      <td>225363</td>\n",
       "      <td>866.0</td>\n",
       "      <td>Ярославль</td>\n",
       "      <td>Ж</td>\n",
       "      <td>51.0</td>\n",
       "      <td>5</td>\n",
       "      <td>1524746.26</td>\n",
       "      <td>2</td>\n",
       "      <td>0</td>\n",
       "      <td>1</td>\n",
       "      <td>174423.53</td>\n",
       "      <td>1</td>\n",
       "    </tr>\n",
       "    <tr>\n",
       "      <th>4</th>\n",
       "      <td>157978</td>\n",
       "      <td>730.0</td>\n",
       "      <td>Ярославль</td>\n",
       "      <td>М</td>\n",
       "      <td>34.0</td>\n",
       "      <td>5</td>\n",
       "      <td>174.00</td>\n",
       "      <td>1</td>\n",
       "      <td>1</td>\n",
       "      <td>0</td>\n",
       "      <td>67353.16</td>\n",
       "      <td>1</td>\n",
       "    </tr>\n",
       "    <tr>\n",
       "      <th>...</th>\n",
       "      <td>...</td>\n",
       "      <td>...</td>\n",
       "      <td>...</td>\n",
       "      <td>...</td>\n",
       "      <td>...</td>\n",
       "      <td>...</td>\n",
       "      <td>...</td>\n",
       "      <td>...</td>\n",
       "      <td>...</td>\n",
       "      <td>...</td>\n",
       "      <td>...</td>\n",
       "      <td>...</td>\n",
       "    </tr>\n",
       "    <tr>\n",
       "      <th>9995</th>\n",
       "      <td>120553</td>\n",
       "      <td>814.0</td>\n",
       "      <td>Рыбинск</td>\n",
       "      <td>М</td>\n",
       "      <td>27.0</td>\n",
       "      <td>1</td>\n",
       "      <td>78144.65</td>\n",
       "      <td>1</td>\n",
       "      <td>0</td>\n",
       "      <td>1</td>\n",
       "      <td>18943.64</td>\n",
       "      <td>0</td>\n",
       "    </tr>\n",
       "    <tr>\n",
       "      <th>9996</th>\n",
       "      <td>139170</td>\n",
       "      <td>894.0</td>\n",
       "      <td>Ярославль</td>\n",
       "      <td>М</td>\n",
       "      <td>46.0</td>\n",
       "      <td>0</td>\n",
       "      <td>NaN</td>\n",
       "      <td>1</td>\n",
       "      <td>1</td>\n",
       "      <td>0</td>\n",
       "      <td>196898.29</td>\n",
       "      <td>0</td>\n",
       "    </tr>\n",
       "    <tr>\n",
       "      <th>9997</th>\n",
       "      <td>115639</td>\n",
       "      <td>903.0</td>\n",
       "      <td>Ярославль</td>\n",
       "      <td>М</td>\n",
       "      <td>24.0</td>\n",
       "      <td>0</td>\n",
       "      <td>NaN</td>\n",
       "      <td>2</td>\n",
       "      <td>1</td>\n",
       "      <td>1</td>\n",
       "      <td>108905.09</td>\n",
       "      <td>0</td>\n",
       "    </tr>\n",
       "    <tr>\n",
       "      <th>9998</th>\n",
       "      <td>148700</td>\n",
       "      <td>777.0</td>\n",
       "      <td>Ярославль</td>\n",
       "      <td>Ж</td>\n",
       "      <td>68.0</td>\n",
       "      <td>3</td>\n",
       "      <td>865457.97</td>\n",
       "      <td>3</td>\n",
       "      <td>0</td>\n",
       "      <td>1</td>\n",
       "      <td>86874.90</td>\n",
       "      <td>0</td>\n",
       "    </tr>\n",
       "    <tr>\n",
       "      <th>9999</th>\n",
       "      <td>96267</td>\n",
       "      <td>828.0</td>\n",
       "      <td>Рыбинск</td>\n",
       "      <td>Ж</td>\n",
       "      <td>58.0</td>\n",
       "      <td>3</td>\n",
       "      <td>1180886.70</td>\n",
       "      <td>4</td>\n",
       "      <td>0</td>\n",
       "      <td>1</td>\n",
       "      <td>21422.37</td>\n",
       "      <td>0</td>\n",
       "    </tr>\n",
       "  </tbody>\n",
       "</table>\n",
       "<p>10000 rows × 12 columns</p>\n",
       "</div>"
      ],
      "text/plain": [
       "      user_id  score       city gender   age  equity     balance  products  \\\n",
       "0      183012  850.0    Рыбинск      Ж  25.0       1    59214.82         2   \n",
       "1      146556  861.0    Рыбинск      Ж  37.0       5   850594.33         3   \n",
       "2      120722  892.0    Рыбинск      Ж  30.0       0         NaN         1   \n",
       "3      225363  866.0  Ярославль      Ж  51.0       5  1524746.26         2   \n",
       "4      157978  730.0  Ярославль      М  34.0       5      174.00         1   \n",
       "...       ...    ...        ...    ...   ...     ...         ...       ...   \n",
       "9995   120553  814.0    Рыбинск      М  27.0       1    78144.65         1   \n",
       "9996   139170  894.0  Ярославль      М  46.0       0         NaN         1   \n",
       "9997   115639  903.0  Ярославль      М  24.0       0         NaN         2   \n",
       "9998   148700  777.0  Ярославль      Ж  68.0       3   865457.97         3   \n",
       "9999    96267  828.0    Рыбинск      Ж  58.0       3  1180886.70         4   \n",
       "\n",
       "      credit_card  last_activity  est_salary  churn  \n",
       "0               0              1    75719.14      1  \n",
       "1               1              0    86621.77      0  \n",
       "2               1              1   107683.34      0  \n",
       "3               0              1   174423.53      1  \n",
       "4               1              0    67353.16      1  \n",
       "...           ...            ...         ...    ...  \n",
       "9995            0              1    18943.64      0  \n",
       "9996            1              0   196898.29      0  \n",
       "9997            1              1   108905.09      0  \n",
       "9998            0              1    86874.90      0  \n",
       "9999            0              1    21422.37      0  \n",
       "\n",
       "[10000 rows x 12 columns]"
      ]
     },
     "execution_count": 297,
     "metadata": {},
     "output_type": "execute_result"
    }
   ],
   "source": [
    "data = data.rename(columns={'USERID': 'user_id', 'EST_SALARY': 'est_salary'})\n",
    "data"
   ]
  },
  {
   "cell_type": "markdown",
   "metadata": {},
   "source": [
    "Здесь мы поменяли название некоторых столбцов, согласно правилу хорошего стиля."
   ]
  },
  {
   "cell_type": "code",
   "execution_count": 298,
   "metadata": {},
   "outputs": [
    {
     "name": "stdout",
     "output_type": "stream",
     "text": [
      "      user_id  score       city gender   age  equity     balance  products  \\\n",
      "0      183012  850.0    рыбинск      ж  25.0       1    59214.82         2   \n",
      "1      146556  861.0    рыбинск      ж  37.0       5   850594.33         3   \n",
      "2      120722  892.0    рыбинск      ж  30.0       0         NaN         1   \n",
      "3      225363  866.0  ярославль      ж  51.0       5  1524746.26         2   \n",
      "4      157978  730.0  ярославль      м  34.0       5      174.00         1   \n",
      "...       ...    ...        ...    ...   ...     ...         ...       ...   \n",
      "9995   120553  814.0    рыбинск      м  27.0       1    78144.65         1   \n",
      "9996   139170  894.0  ярославль      м  46.0       0         NaN         1   \n",
      "9997   115639  903.0  ярославль      м  24.0       0         NaN         2   \n",
      "9998   148700  777.0  ярославль      ж  68.0       3   865457.97         3   \n",
      "9999    96267  828.0    рыбинск      ж  58.0       3  1180886.70         4   \n",
      "\n",
      "      credit_card  last_activity  est_salary  churn  \n",
      "0               0              1    75719.14      1  \n",
      "1               1              0    86621.77      0  \n",
      "2               1              1   107683.34      0  \n",
      "3               0              1   174423.53      1  \n",
      "4               1              0    67353.16      1  \n",
      "...           ...            ...         ...    ...  \n",
      "9995            0              1    18943.64      0  \n",
      "9996            1              0   196898.29      0  \n",
      "9997            1              1   108905.09      0  \n",
      "9998            0              1    86874.90      0  \n",
      "9999            0              1    21422.37      0  \n",
      "\n",
      "[10000 rows x 12 columns]\n"
     ]
    }
   ],
   "source": [
    "data['city'] = data['city'].str.lower()\n",
    "data['gender'] = data['gender'].str.lower()\n",
    "\n",
    "print(data)"
   ]
  },
  {
   "cell_type": "markdown",
   "metadata": {},
   "source": [
    "Также мы изменили регистр в столбце город и пол для удобства проводимого в дальнейшем анализа."
   ]
  },
  {
   "cell_type": "markdown",
   "metadata": {},
   "source": [
    "## Проверим пропуски и типы данных."
   ]
  },
  {
   "cell_type": "code",
   "execution_count": 299,
   "metadata": {},
   "outputs": [
    {
     "name": "stdout",
     "output_type": "stream",
     "text": [
      "<class 'pandas.core.frame.DataFrame'>\n",
      "RangeIndex: 10000 entries, 0 to 9999\n",
      "Data columns (total 12 columns):\n",
      " #   Column         Non-Null Count  Dtype  \n",
      "---  ------         --------------  -----  \n",
      " 0   user_id        10000 non-null  int64  \n",
      " 1   score          10000 non-null  float64\n",
      " 2   city           10000 non-null  object \n",
      " 3   gender         10000 non-null  object \n",
      " 4   age            9974 non-null   float64\n",
      " 5   equity         10000 non-null  int64  \n",
      " 6   balance        7705 non-null   float64\n",
      " 7   products       10000 non-null  int64  \n",
      " 8   credit_card    10000 non-null  int64  \n",
      " 9   last_activity  10000 non-null  int64  \n",
      " 10  est_salary     10000 non-null  float64\n",
      " 11  churn          10000 non-null  int64  \n",
      "dtypes: float64(4), int64(6), object(2)\n",
      "memory usage: 937.6+ KB\n",
      "Пропущенные значения в balance:\n",
      "2295\n",
      "\n",
      "Пропущенные значения в products:\n",
      "0\n",
      "\n",
      "Пропущенные значения в age:\n",
      "26\n"
     ]
    }
   ],
   "source": [
    "data.info()\n",
    "\n",
    "print(\"Пропущенные значения в balance:\")\n",
    "print(data['balance'].isnull().sum())\n",
    "print(\"\\nПропущенные значения в products:\")\n",
    "print(data['products'].isnull().sum())\n",
    "print(\"\\nПропущенные значения в age:\")\n",
    "print(data['age'].isnull().sum())"
   ]
  },
  {
   "cell_type": "markdown",
   "metadata": {},
   "source": [
    "В нашем датасете есть два интересующих столбца, в которм важна информация по пропускам.\n",
    "Это balance, products и age.  \n",
    "В столбце balance мы выявили 2295 пропущенных значений.  \n",
    "В столбце age мы выявили 26 пропущенных значений.  \n",
    "В столбце products пропущенные значения отстуствуют.  "
   ]
  },
  {
   "cell_type": "markdown",
   "metadata": {},
   "source": [
    "Типы данных в датафрейме:\n",
    "- user_id\n",
    "- equity\n",
    "- products\n",
    "- credit_card\n",
    "- last_activity\n",
    "- churn,   \n",
    "являются типом int64.  \n",
    "___\n",
    "- score\n",
    "- age\n",
    "- balance\n",
    "- est_salary,   \n",
    "являются типом float64.  \n",
    "___  \n",
    "- city\n",
    "- gender,   \n",
    "являются типом object.  \n"
   ]
  },
  {
   "cell_type": "markdown",
   "metadata": {},
   "source": [
    "## Заменим пропущенные значения"
   ]
  },
  {
   "cell_type": "markdown",
   "metadata": {},
   "source": [
    "Заменим пропущенные значения в столбце balance на 0"
   ]
  },
  {
   "cell_type": "code",
   "execution_count": 300,
   "metadata": {},
   "outputs": [],
   "source": [
    "data['balance'].fillna(0, inplace=True)"
   ]
  },
  {
   "cell_type": "markdown",
   "metadata": {},
   "source": [
    "Далее изучим, есть ли выбросы в столбце balance"
   ]
  },
  {
   "cell_type": "code",
   "execution_count": 301,
   "metadata": {},
   "outputs": [
    {
     "name": "stdout",
     "output_type": "stream",
     "text": [
      "count    1.000000e+04\n",
      "mean     6.378155e+05\n",
      "std      1.773030e+06\n",
      "min      0.000000e+00\n",
      "25%      6.084606e+04\n",
      "50%      3.758789e+05\n",
      "75%      8.027422e+05\n",
      "max      1.191136e+08\n",
      "Name: balance, dtype: float64\n"
     ]
    }
   ],
   "source": [
    "print(data['balance'].describe())"
   ]
  },
  {
   "cell_type": "markdown",
   "metadata": {},
   "source": [
    "В столбце balance действительно есть выбросы"
   ]
  },
  {
   "cell_type": "code",
   "execution_count": 302,
   "metadata": {},
   "outputs": [
    {
     "name": "stdout",
     "output_type": "stream",
     "text": [
      "count    1.000000e+04\n",
      "mean     5.804785e+05\n",
      "std      7.222623e+05\n",
      "min      0.000000e+00\n",
      "25%      6.084606e+04\n",
      "50%      3.758789e+05\n",
      "75%      8.027422e+05\n",
      "max      4.310126e+06\n",
      "Name: balance, dtype: float64\n"
     ]
    }
   ],
   "source": [
    "lower_limit = data['balance'].quantile(1)\n",
    "upper_limit = data['balance'].quantile(0.99)\n",
    "data['balance'] = data['balance'].clip(upper=upper_limit)\n",
    "print(data['balance'].describe())"
   ]
  },
  {
   "cell_type": "markdown",
   "metadata": {},
   "source": [
    "Мы избавились как от мелких, так и от крупных показателей и выбросов, но сохранили остальное распределение."
   ]
  },
  {
   "cell_type": "code",
   "execution_count": 303,
   "metadata": {},
   "outputs": [],
   "source": [
    "data = data.dropna(subset=['age'])"
   ]
  },
  {
   "cell_type": "markdown",
   "metadata": {},
   "source": [
    "Произвели удаление пустых значений в age.  \n",
    "В данном стобце всего 26 строк с пропущенным возрастом (из 10 000 строк). Удаленные данные не сильно повлияет на результат анализа."
   ]
  },
  {
   "cell_type": "code",
   "execution_count": 304,
   "metadata": {},
   "outputs": [
    {
     "name": "stdout",
     "output_type": "stream",
     "text": [
      "[2 3 1 4 5 0]\n"
     ]
    }
   ],
   "source": [
    "unique_products = data['products'].unique()\n",
    "print(unique_products)"
   ]
  },
  {
   "cell_type": "markdown",
   "metadata": {},
   "source": [
    "Согласно нашему датасету, у каждого клиента есть от 0 до 5 продуктов нашего банка. "
   ]
  },
  {
   "cell_type": "code",
   "execution_count": 305,
   "metadata": {},
   "outputs": [
    {
     "data": {
      "text/html": [
       "<div>\n",
       "<style scoped>\n",
       "    .dataframe tbody tr th:only-of-type {\n",
       "        vertical-align: middle;\n",
       "    }\n",
       "\n",
       "    .dataframe tbody tr th {\n",
       "        vertical-align: top;\n",
       "    }\n",
       "\n",
       "    .dataframe thead th {\n",
       "        text-align: right;\n",
       "    }\n",
       "</style>\n",
       "<table border=\"1\" class=\"dataframe\">\n",
       "  <thead>\n",
       "    <tr style=\"text-align: right;\">\n",
       "      <th></th>\n",
       "      <th>user_id</th>\n",
       "      <th>score</th>\n",
       "      <th>city</th>\n",
       "      <th>gender</th>\n",
       "      <th>age</th>\n",
       "      <th>equity</th>\n",
       "      <th>balance</th>\n",
       "      <th>products</th>\n",
       "      <th>credit_card</th>\n",
       "      <th>last_activity</th>\n",
       "      <th>est_salary</th>\n",
       "      <th>churn</th>\n",
       "    </tr>\n",
       "  </thead>\n",
       "  <tbody>\n",
       "    <tr>\n",
       "      <th>0</th>\n",
       "      <td>183012</td>\n",
       "      <td>850.0</td>\n",
       "      <td>рыбинск</td>\n",
       "      <td>ж</td>\n",
       "      <td>25.0</td>\n",
       "      <td>1</td>\n",
       "      <td>59214.82</td>\n",
       "      <td>2</td>\n",
       "      <td>0</td>\n",
       "      <td>1</td>\n",
       "      <td>75719.14</td>\n",
       "      <td>1</td>\n",
       "    </tr>\n",
       "    <tr>\n",
       "      <th>1</th>\n",
       "      <td>146556</td>\n",
       "      <td>861.0</td>\n",
       "      <td>рыбинск</td>\n",
       "      <td>ж</td>\n",
       "      <td>37.0</td>\n",
       "      <td>5</td>\n",
       "      <td>850594.33</td>\n",
       "      <td>3</td>\n",
       "      <td>1</td>\n",
       "      <td>0</td>\n",
       "      <td>86621.77</td>\n",
       "      <td>0</td>\n",
       "    </tr>\n",
       "    <tr>\n",
       "      <th>2</th>\n",
       "      <td>120722</td>\n",
       "      <td>892.0</td>\n",
       "      <td>рыбинск</td>\n",
       "      <td>ж</td>\n",
       "      <td>30.0</td>\n",
       "      <td>0</td>\n",
       "      <td>0.00</td>\n",
       "      <td>1</td>\n",
       "      <td>1</td>\n",
       "      <td>1</td>\n",
       "      <td>107683.34</td>\n",
       "      <td>0</td>\n",
       "    </tr>\n",
       "    <tr>\n",
       "      <th>3</th>\n",
       "      <td>225363</td>\n",
       "      <td>866.0</td>\n",
       "      <td>ярославль</td>\n",
       "      <td>ж</td>\n",
       "      <td>51.0</td>\n",
       "      <td>5</td>\n",
       "      <td>1524746.26</td>\n",
       "      <td>2</td>\n",
       "      <td>0</td>\n",
       "      <td>1</td>\n",
       "      <td>174423.53</td>\n",
       "      <td>1</td>\n",
       "    </tr>\n",
       "    <tr>\n",
       "      <th>4</th>\n",
       "      <td>157978</td>\n",
       "      <td>730.0</td>\n",
       "      <td>ярославль</td>\n",
       "      <td>м</td>\n",
       "      <td>34.0</td>\n",
       "      <td>5</td>\n",
       "      <td>174.00</td>\n",
       "      <td>1</td>\n",
       "      <td>1</td>\n",
       "      <td>0</td>\n",
       "      <td>67353.16</td>\n",
       "      <td>1</td>\n",
       "    </tr>\n",
       "    <tr>\n",
       "      <th>...</th>\n",
       "      <td>...</td>\n",
       "      <td>...</td>\n",
       "      <td>...</td>\n",
       "      <td>...</td>\n",
       "      <td>...</td>\n",
       "      <td>...</td>\n",
       "      <td>...</td>\n",
       "      <td>...</td>\n",
       "      <td>...</td>\n",
       "      <td>...</td>\n",
       "      <td>...</td>\n",
       "      <td>...</td>\n",
       "    </tr>\n",
       "    <tr>\n",
       "      <th>9995</th>\n",
       "      <td>120553</td>\n",
       "      <td>814.0</td>\n",
       "      <td>рыбинск</td>\n",
       "      <td>м</td>\n",
       "      <td>27.0</td>\n",
       "      <td>1</td>\n",
       "      <td>78144.65</td>\n",
       "      <td>1</td>\n",
       "      <td>0</td>\n",
       "      <td>1</td>\n",
       "      <td>18943.64</td>\n",
       "      <td>0</td>\n",
       "    </tr>\n",
       "    <tr>\n",
       "      <th>9996</th>\n",
       "      <td>139170</td>\n",
       "      <td>894.0</td>\n",
       "      <td>ярославль</td>\n",
       "      <td>м</td>\n",
       "      <td>46.0</td>\n",
       "      <td>0</td>\n",
       "      <td>0.00</td>\n",
       "      <td>1</td>\n",
       "      <td>1</td>\n",
       "      <td>0</td>\n",
       "      <td>196898.29</td>\n",
       "      <td>0</td>\n",
       "    </tr>\n",
       "    <tr>\n",
       "      <th>9997</th>\n",
       "      <td>115639</td>\n",
       "      <td>903.0</td>\n",
       "      <td>ярославль</td>\n",
       "      <td>м</td>\n",
       "      <td>24.0</td>\n",
       "      <td>0</td>\n",
       "      <td>0.00</td>\n",
       "      <td>2</td>\n",
       "      <td>1</td>\n",
       "      <td>1</td>\n",
       "      <td>108905.09</td>\n",
       "      <td>0</td>\n",
       "    </tr>\n",
       "    <tr>\n",
       "      <th>9998</th>\n",
       "      <td>148700</td>\n",
       "      <td>777.0</td>\n",
       "      <td>ярославль</td>\n",
       "      <td>ж</td>\n",
       "      <td>68.0</td>\n",
       "      <td>3</td>\n",
       "      <td>865457.97</td>\n",
       "      <td>3</td>\n",
       "      <td>0</td>\n",
       "      <td>1</td>\n",
       "      <td>86874.90</td>\n",
       "      <td>0</td>\n",
       "    </tr>\n",
       "    <tr>\n",
       "      <th>9999</th>\n",
       "      <td>96267</td>\n",
       "      <td>828.0</td>\n",
       "      <td>рыбинск</td>\n",
       "      <td>ж</td>\n",
       "      <td>58.0</td>\n",
       "      <td>3</td>\n",
       "      <td>1180886.70</td>\n",
       "      <td>4</td>\n",
       "      <td>0</td>\n",
       "      <td>1</td>\n",
       "      <td>21422.37</td>\n",
       "      <td>0</td>\n",
       "    </tr>\n",
       "  </tbody>\n",
       "</table>\n",
       "<p>9973 rows × 12 columns</p>\n",
       "</div>"
      ],
      "text/plain": [
       "      user_id  score       city gender   age  equity     balance  products  \\\n",
       "0      183012  850.0    рыбинск      ж  25.0       1    59214.82         2   \n",
       "1      146556  861.0    рыбинск      ж  37.0       5   850594.33         3   \n",
       "2      120722  892.0    рыбинск      ж  30.0       0        0.00         1   \n",
       "3      225363  866.0  ярославль      ж  51.0       5  1524746.26         2   \n",
       "4      157978  730.0  ярославль      м  34.0       5      174.00         1   \n",
       "...       ...    ...        ...    ...   ...     ...         ...       ...   \n",
       "9995   120553  814.0    рыбинск      м  27.0       1    78144.65         1   \n",
       "9996   139170  894.0  ярославль      м  46.0       0        0.00         1   \n",
       "9997   115639  903.0  ярославль      м  24.0       0        0.00         2   \n",
       "9998   148700  777.0  ярославль      ж  68.0       3   865457.97         3   \n",
       "9999    96267  828.0    рыбинск      ж  58.0       3  1180886.70         4   \n",
       "\n",
       "      credit_card  last_activity  est_salary  churn  \n",
       "0               0              1    75719.14      1  \n",
       "1               1              0    86621.77      0  \n",
       "2               1              1   107683.34      0  \n",
       "3               0              1   174423.53      1  \n",
       "4               1              0    67353.16      1  \n",
       "...           ...            ...         ...    ...  \n",
       "9995            0              1    18943.64      0  \n",
       "9996            1              0   196898.29      0  \n",
       "9997            1              1   108905.09      0  \n",
       "9998            0              1    86874.90      0  \n",
       "9999            0              1    21422.37      0  \n",
       "\n",
       "[9973 rows x 12 columns]"
      ]
     },
     "execution_count": 305,
     "metadata": {},
     "output_type": "execute_result"
    }
   ],
   "source": [
    "data = data[data['products'] != 0]\n",
    "data"
   ]
  },
  {
   "cell_type": "markdown",
   "metadata": {},
   "source": [
    "Удалим строчку, где у user_id было 0 продуктов, поскольку это нерепрезентативные данные."
   ]
  },
  {
   "cell_type": "code",
   "execution_count": 306,
   "metadata": {},
   "outputs": [
    {
     "name": "stdout",
     "output_type": "stream",
     "text": [
      "[2 3 1 4 5]\n"
     ]
    }
   ],
   "source": [
    "unique_products = data['products'].unique()\n",
    "print(unique_products)"
   ]
  },
  {
   "cell_type": "markdown",
   "metadata": {},
   "source": [
    "Убедились в том, что теперь у нас нет клиентов, у которых 0 продуктов. "
   ]
  },
  {
   "cell_type": "code",
   "execution_count": 307,
   "metadata": {},
   "outputs": [
    {
     "name": "stdout",
     "output_type": "stream",
     "text": [
      "18.0\n",
      "86.0\n"
     ]
    }
   ],
   "source": [
    "min_data_age = data['age'].min()\n",
    "max_data_age = data['age'].max()\n",
    "\n",
    "print(min_data_age)\n",
    "print(max_data_age)"
   ]
  },
  {
   "cell_type": "markdown",
   "metadata": {},
   "source": [
    "Убедились, что возраст клиентов банка от 18 до 86."
   ]
  },
  {
   "cell_type": "markdown",
   "metadata": {},
   "source": [
    "## Построение распределений ключевых признаков."
   ]
  },
  {
   "cell_type": "markdown",
   "metadata": {},
   "source": [
    "Необходимо понять как распределены значения по основным признакам (возраст, баланс, доход и т.д.)"
   ]
  },
  {
   "cell_type": "code",
   "execution_count": 308,
   "metadata": {},
   "outputs": [
    {
     "data": {
      "text/plain": [
       "<function matplotlib.pyplot.show(close=None, block=None)>"
      ]
     },
     "execution_count": 308,
     "metadata": {},
     "output_type": "execute_result"
    },
    {
     "data": {
      "image/png": "[encoded data removed]",
      "text/plain": [
       "<Figure size 1152x720 with 5 Axes>"
      ]
     },
     "metadata": {
      "needs_background": "light"
     },
     "output_type": "display_data"
    }
   ],
   "source": [
    "numerical_columns = ['age', 'balance', 'products', 'score', 'est_salary']\n",
    "\n",
    "plt.figure(figsize=(16, 10))\n",
    "for i, col in enumerate(numerical_columns, 1):\n",
    "    plt.subplot(2,3,i)\n",
    "    sns.histplot(data[col], kde=True, bins=30)\n",
    "    plt.title(f'Распределение по {col}')\n",
    "plt.tight_layout()\n",
    "plt.show"
   ]
  },
  {
   "cell_type": "markdown",
   "metadata": {},
   "source": [
    "**Вывод по данным визуализациям:**  \n",
    "1) большинство клиентов в возрасте от 30 до 40 лет, с пиковым значением на 35 лет. Наибольшее количество клиентов от 26 до 60. Наименьшее количество клиентов банка 18-22 и 60+.  \n",
    "2) большинство клиентов имеют совокупный баланс от 200 тыс. до 1 млн.   \n",
    "3) большинство клиентов в среднем имеют два продукта в банке. следом за ним идут показатели, указывающие на 1 продукт.  \n",
    "4) наибольшая концентрация кредитных скорингов находится в диапазоне от 700 до 860. возможно это говорит о стабильности и платежеспособности клиентов (либо лояльной и устаревшей/недоработанной score-системе).  \n",
    "5) большинство клиентов с доходом от 100 до 200 тыс. Поскольку города небольшие, то эти данные считаю завышенными, вследствии непорядочности клиентов указывать истинно верный доход. Но данный вопрос не в нашей компетенции.   "
   ]
  },
  {
   "cell_type": "markdown",
   "metadata": {},
   "source": [
    "Теперь визуализируем категориальные признаки: город, пол."
   ]
  },
  {
   "cell_type": "code",
   "execution_count": 309,
   "metadata": {},
   "outputs": [
    {
     "data": {
      "text/plain": [
       "<function matplotlib.pyplot.show(close=None, block=None)>"
      ]
     },
     "execution_count": 309,
     "metadata": {},
     "output_type": "execute_result"
    },
    {
     "data": {
      "image/png": "[encoded data removed]",
      "text/plain": [
       "<Figure size 576x432 with 1 Axes>"
      ]
     },
     "metadata": {
      "needs_background": "light"
     },
     "output_type": "display_data"
    },
    {
     "data": {
      "image/png": "[encoded data removed]",
      "text/plain": [
       "<Figure size 576x432 with 1 Axes>"
      ]
     },
     "metadata": {
      "needs_background": "light"
     },
     "output_type": "display_data"
    }
   ],
   "source": [
    "plt.figure(figsize=(8,6))\n",
    "sns.countplot(data=data, x='city')\n",
    "plt.title('Распределение по городу')\n",
    "plt.show\n",
    "\n",
    "plt.figure(figsize=(8,6))\n",
    "sns.countplot(data=data, x='gender')\n",
    "plt.title('Распределение по полу')\n",
    "plt.show"
   ]
  },
  {
   "cell_type": "markdown",
   "metadata": {},
   "source": [
    "**Выводы по этим графикам следующие:**  \n",
    "1) большинство клиентов из Ярославля ~ 6 тыс.  \n",
    "2) следом идет город Рыбинск ~ 2.8 тыс.  \n",
    "3) замыкает список клиенты из Ростова ~ 2 тыс.  \n",
    "\n",
    "График распределения по полу составляет практически 1:1."
   ]
  },
  {
   "cell_type": "markdown",
   "metadata": {},
   "source": [
    "Построим корреляционную матриу для числовых признаков. \n",
    "Это может нам понять как они связаны друг с другом и оттоком."
   ]
  },
  {
   "cell_type": "code",
   "execution_count": 310,
   "metadata": {},
   "outputs": [
    {
     "data": {
      "text/plain": [
       "<function matplotlib.pyplot.show(close=None, block=None)>"
      ]
     },
     "execution_count": 310,
     "metadata": {},
     "output_type": "execute_result"
    },
    {
     "data": {
      "image/png": "[encoded data removed]",
      "text/plain": [
       "<Figure size 720x576 with 2 Axes>"
      ]
     },
     "metadata": {
      "needs_background": "light"
     },
     "output_type": "display_data"
    }
   ],
   "source": [
    "corr_matrix = data[numerical_columns].corr()\n",
    "\n",
    "plt.figure(figsize=(10, 8))\n",
    "sns.heatmap(corr_matrix, annot=True, cmap='coolwarm', vmin=-1, vmax=1)\n",
    "plt.title('Корреляционная матрица')\n",
    "plt.show"
   ]
  },
  {
   "cell_type": "markdown",
   "metadata": {},
   "source": [
    "**Вывод по корреляционной матрице:**  \n",
    "1) корреляция между балансом и кредитным скорингом составляет 0.14.Скорее всего это из-за того, что клиенты с более высоким балансом могут иметь слегка более высокий кредитный скоринг (но 0.14 это не такая сильная зависимость).  \n",
    "2) корреляция между балансом и количеством продуктов составляет 0.16. Возможно это тоже слабая положительная корреляция, вероятно из-за того, что клиенты с более высоким балансом часто пользуются несколькими банковскими продуктами (но из-за 0.16 корреляции это не сильно выражается).  \n",
    "3) корреляция между кредитным скорингом и оценочным доходом составляет -0.12. Очередная слабая отрицательная корреляция, что означает, что клиенты с более высоким кредитным скорингом могут иметь немного более низкий доход.  \n",
    "4) самая высокая корреляция — с балансом (0.066), что указывает на то, что возраст клиентов не сильно влияет на их баланс, количество продуктов, кредитный скоринг или оценочный доход.  "
   ]
  },
  {
   "cell_type": "markdown",
   "metadata": {},
   "source": [
    "Примененим phik для категориальных данных. "
   ]
  },
  {
   "cell_type": "code",
   "execution_count": 311,
   "metadata": {
    "scrolled": false
   },
   "outputs": [
    {
     "data": {
      "text/plain": [
       "<function matplotlib.pyplot.show(close=None, block=None)>"
      ]
     },
     "execution_count": 311,
     "metadata": {},
     "output_type": "execute_result"
    },
    {
     "data": {
      "text/plain": [
       "<Figure size 864x720 with 0 Axes>"
      ]
     },
     "metadata": {},
     "output_type": "display_data"
    },
    {
     "data": {
      "image/png": "[encoded data removed]",
      "text/plain": [
       "<Figure size 504x360 with 2 Axes>"
      ]
     },
     "metadata": {
      "needs_background": "light"
     },
     "output_type": "display_data"
    }
   ],
   "source": [
    "data_no_id = data.drop(columns=['user_id'])\n",
    "\n",
    "phik_matrix = data_no_id.phik_matrix(interval_cols=['age', 'balance', 'products', 'score', 'est_salary'])\n",
    "\n",
    "plt.figure(figsize=(12, 10))\n",
    "plot_correlation_matrix(phik_matrix.values, x_labels=phik_matrix.columns, y_labels=phik_matrix.index,vmin=-1, vmax=1)\n",
    "plt.title('Phik корреляционная матрица')\n",
    "plt.show"
   ]
  },
  {
   "cell_type": "markdown",
   "metadata": {},
   "source": [
    "*Мы исключили user_id bp анализа, поскольку выдавало ошибку.  \n",
    "Порывшысь в источниках, мы пришли к выводу, что данный столбец не является информативным и его следует исключить.*"
   ]
  },
  {
   "attachments": {
    "%D0%A1%D0%BD%D0%B8%D0%BC%D0%BE%D0%BA%20%D1%8D%D0%BA%D1%80%D0%B0%D0%BD%D0%B0%202024-10-10%20121100.png": {
     "image/png": "[encoded data removed]"
    }
   },
   "cell_type": "markdown",
   "metadata": {},
   "source": [
    "![%D0%A1%D0%BD%D0%B8%D0%BC%D0%BE%D0%BA%20%D1%8D%D0%BA%D1%80%D0%B0%D0%BD%D0%B0%202024-10-10%20121100.png](attachment:%D0%A1%D0%BD%D0%B8%D0%BC%D0%BE%D0%BA%20%D1%8D%D0%BA%D1%80%D0%B0%D0%BD%D0%B0%202024-10-10%20121100.png)"
   ]
  },
  {
   "cell_type": "markdown",
   "metadata": {},
   "source": [
    "Построение тепловой карты с корреляциями."
   ]
  },
  {
   "cell_type": "code",
   "execution_count": 312,
   "metadata": {},
   "outputs": [
    {
     "data": {
      "image/png": "[encoded data removed]",
      "text/plain": [
       "<Figure size 576x864 with 2 Axes>"
      ]
     },
     "metadata": {
      "needs_background": "light"
     },
     "output_type": "display_data"
    }
   ],
   "source": [
    "churn_corr = data.corr()['churn'].sort_values(ascending=False)\n",
    "\n",
    "plt.figure(figsize=(8,12))\n",
    "sns.heatmap(churn_corr.to_frame(), annot=True, cmap='coolwarm', vmin=-1, vmax=1)\n",
    "plt.title('Корреляция по churn')\n",
    "plt.show()"
   ]
  },
  {
   "cell_type": "markdown",
   "metadata": {},
   "source": [
    "**Вывод по данной матрице:**  \n",
    "1) данные показывают, что клиенты, у которых много продуктов в этом банке как раз-таки склонны к оттоку. Здесь может быть множество гипотез, почему так, но это уже другой предмет для рассмотрения.  \n",
    "2) а вот возраст и оценочный доход как раз не влияют на склонность к оттоку клиентов из банка."
   ]
  },
  {
   "cell_type": "markdown",
   "metadata": {},
   "source": [
    "# 2. Проверка гипотез и их визуализация. "
   ]
  },
  {
   "cell_type": "markdown",
   "metadata": {},
   "source": [
    "Гипотеза 1: Влияет ли город проживания на склонность к оттоку.\n",
    "Проверим, есть ли значимые различия в оттоке клиентов между жителями разных городов."
   ]
  },
  {
   "cell_type": "code",
   "execution_count": 313,
   "metadata": {},
   "outputs": [
    {
     "name": "stdout",
     "output_type": "stream",
     "text": [
      "T-тест различий между Ярославлем и Ростовом: Ttest_indResult(statistic=0.25776748241993935, pvalue=0.7966109365520193)\n",
      "T-тест различий между Ярославлем и Рыбинском: Ttest_indResult(statistic=3.1411828981426564, pvalue=0.0016916054642913763)\n"
     ]
    },
    {
     "data": {
      "image/png": "[encoded data removed]",
      "text/plain": [
       "<Figure size 720x432 with 1 Axes>"
      ]
     },
     "metadata": {
      "needs_background": "light"
     },
     "output_type": "display_data"
    }
   ],
   "source": [
    "yaroslavl = data[data['city'] == 'ярославль']['churn']\n",
    "rostov = data[data['city'] == 'ростов']['churn']\n",
    "rybinsk = data[data['city'] == 'рыбинск']['churn']\n",
    "\n",
    "# Ярославль и Ростов\n",
    "ttest_yar_rost = stats.ttest_ind(yaroslavl, rostov, equal_var=False)\n",
    "print('T-тест различий между Ярославлем и Ростовом:', ttest_yar_rost)\n",
    "\n",
    "# Ярославль и Рыбинск\n",
    "ttest_yar_ryb = stats.ttest_ind(yaroslavl, rybinsk, equal_var=False)\n",
    "print('T-тест различий между Ярославлем и Рыбинском:', ttest_yar_ryb)\n",
    "\n",
    "plt.figure(figsize=(10, 6))\n",
    "sns.countplot(x='city', hue='churn', data=data)\n",
    "plt.title('Churn by City')\n",
    "plt.xlabel('City')\n",
    "plt.ylabel('Count')\n",
    "plt.legend(title='Churn', loc='upper right')\n",
    "plt.show()"
   ]
  },
  {
   "cell_type": "markdown",
   "metadata": {},
   "source": [
    "**Вывод:**  \n",
    "*между Ярославлем и Ростовом*,\n",
    "мы не можем отвергнуть нулевую гипотезу, что отток клиентов в этих двух городах одинаков. А это означает, что нет больших различий в поведении клиентов, связанных с оттоком, между этими городами.  \n",
    "*между Ярославлем и Рыбинском*,\n",
    "поведение клиентов в Ярославле и Рыбинске значительно отличается в контексте склонности к оттоку. Наверное в Рыбинске клиенты более склонны к оттоку или же наоборот, реже уходят, чем в Ярославле."
   ]
  },
  {
   "cell_type": "markdown",
   "metadata": {},
   "source": [
    "Гипотеза 2: Клиенты, которые пользуются одним продуктом реже уходят."
   ]
  },
  {
   "cell_type": "code",
   "execution_count": 314,
   "metadata": {},
   "outputs": [
    {
     "name": "stdout",
     "output_type": "stream",
     "text": [
      "Т-тест различий между одним продуктом и более одного продукта: Ttest_indResult(statistic=-24.39093143481919, pvalue=1.4835317277253565e-127)\n"
     ]
    },
    {
     "data": {
      "image/png": "[encoded data removed]",
      "text/plain": [
       "<Figure size 576x432 with 1 Axes>"
      ]
     },
     "metadata": {
      "needs_background": "light"
     },
     "output_type": "display_data"
    }
   ],
   "source": [
    "one_product = data[data['products'] == 1]['churn']\n",
    "more_than_one_product = data[data['products'] > 1]['churn']\n",
    "\n",
    "ttest_products = stats.ttest_ind(one_product, more_than_one_product, equal_var=False)\n",
    "print('Т-тест различий между одним продуктом и более одного продукта:', ttest_products)\n",
    "\n",
    "plt.figure(figsize=(8,6))\n",
    "sns.violinplot(x='products', y='churn', data=data, split=True)\n",
    "plt.title('Зависимость от количества продуктов')\n",
    "plt.xlabel('Кол-во продуктов')\n",
    "plt.ylabel('churn')\n",
    "plt.show()"
   ]
  },
  {
   "cell_type": "markdown",
   "metadata": {},
   "source": [
    "**Вывод:**  \n",
    "клиенты с одним продуктом имеют более высокий уровень оттока по сравнению с клиентами, нежели чем те, кто пользуется более чем одним продуктом."
   ]
  },
  {
   "cell_type": "markdown",
   "metadata": {},
   "source": [
    "Гипотеза 3: Склонны ли клиенты с низким кредитным скоррингом к оттоку"
   ]
  },
  {
   "cell_type": "code",
   "execution_count": 315,
   "metadata": {},
   "outputs": [
    {
     "name": "stdout",
     "output_type": "stream",
     "text": [
      "Т-тест между низким и высоким кредитным скорингом: Ttest_indResult(statistic=-10.177350273401537, pvalue=3.310965618770074e-24)\n"
     ]
    },
    {
     "data": {
      "image/png": "[encoded data removed]",
      "text/plain": [
       "<Figure size 576x432 with 1 Axes>"
      ]
     },
     "metadata": {
      "needs_background": "light"
     },
     "output_type": "display_data"
    }
   ],
   "source": [
    "low_score = data[data['score'] < data ['score'].median()]['churn']\n",
    "high_score = data[data['score'] >= data ['score'].median()]['churn']\n",
    "\n",
    "ttest_score = stats.ttest_ind(low_score, high_score, equal_var=False)\n",
    "print('Т-тест между низким и высоким кредитным скорингом:', ttest_score)\n",
    "\n",
    "plt.figure(figsize=(8, 6))\n",
    "sns.violinplot(x='churn', y='score', data=data)\n",
    "plt.title('Credit Score Distribution by Churn')\n",
    "plt.xlabel('Churn')\n",
    "plt.ylabel('Credit Score')\n",
    "plt.show()"
   ]
  },
  {
   "cell_type": "markdown",
   "metadata": {},
   "source": [
    "**Вывод:**  \n",
    "очевидно наблюдается, что клиенты с низким кредитным скорингом более склонны к оттоку по сравнению с клиентами, у которых высокий кредитный скоринг, поэтому они в группе риска у банка."
   ]
  },
  {
   "cell_type": "markdown",
   "metadata": {},
   "source": [
    "# 3. Cегментация клиентов "
   ]
  },
  {
   "cell_type": "markdown",
   "metadata": {},
   "source": [
    "Сначала стандартизируем данные"
   ]
  },
  {
   "cell_type": "code",
   "execution_count": 316,
   "metadata": {},
   "outputs": [],
   "source": [
    "features = ['score', 'products', 'balance', 'age']\n",
    "\n",
    "scaler = StandardScaler()\n",
    "data_scaled = scaler.fit_transform(data[features])"
   ]
  },
  {
   "cell_type": "code",
   "execution_count": 317,
   "metadata": {},
   "outputs": [],
   "source": [
    "kmeans = KMeans(n_clusters=3, random_state=42)\n",
    "\n",
    "data['cluster'] = kmeans.fit_predict(data_scaled)"
   ]
  },
  {
   "cell_type": "markdown",
   "metadata": {},
   "source": [
    "Оценим количество клиентов в каждом кластере"
   ]
  },
  {
   "cell_type": "code",
   "execution_count": 319,
   "metadata": {},
   "outputs": [
    {
     "name": "stdout",
     "output_type": "stream",
     "text": [
      "0    4344\n",
      "1    3588\n",
      "2    2041\n",
      "Name: cluster, dtype: int64\n"
     ]
    }
   ],
   "source": [
    "print(data['cluster'].value_counts())"
   ]
  },
  {
   "cell_type": "markdown",
   "metadata": {},
   "source": [
    "Теперь исследуем средние значения признаков для каждого кластера"
   ]
  },
  {
   "cell_type": "code",
   "execution_count": 320,
   "metadata": {},
   "outputs": [
    {
     "name": "stdout",
     "output_type": "stream",
     "text": [
      "              score  products       balance        age\n",
      "cluster                                               \n",
      "0        790.528085  1.837707  3.957414e+05  43.459945\n",
      "1        899.361761  1.415273  2.794286e+05  39.319398\n",
      "2        883.309162  2.746203  1.506069e+06  47.175894\n"
     ]
    }
   ],
   "source": [
    "print(data.groupby('cluster')[['score', 'products', 'balance', 'age']].mean())"
   ]
  },
  {
   "cell_type": "markdown",
   "metadata": {},
   "source": [
    "Исследуем связь кластеров с оттоком"
   ]
  },
  {
   "cell_type": "code",
   "execution_count": 321,
   "metadata": {},
   "outputs": [
    {
     "name": "stdout",
     "output_type": "stream",
     "text": [
      "cluster\n",
      "0    0.120626\n",
      "1    0.129877\n",
      "2    0.405683\n",
      "Name: churn, dtype: float64\n"
     ]
    }
   ],
   "source": [
    "print(data.groupby('cluster')['churn'].mean())"
   ]
  },
  {
   "cell_type": "markdown",
   "metadata": {},
   "source": [
    "# 4. Выводы по проекту."
   ]
  },
  {
   "cell_type": "markdown",
   "metadata": {},
   "source": [
    "**1. Цель проекта:**  \n",
    "\n",
    "    Проанализировать поведение клиентов банка, выявить ключевые факторы, влияющие на отток, и предложить сегментацию клиентов на основе этих факторов. На основе анализа были сформулированы рекомендации для улучшения удержания клиентов и минимизации оттока.  \n",
    "    \n",
    "**2. Выполненные шаги:**  \n",
    "\n",
    "    Исследовательский анализ данных: Были проанализированы ключевые показатели клиентов, такие как возраст, баланс, количество продуктов, кредитный скоринг и оценочный доход.\n",
    "    Корреляционный анализ: Оценены взаимосвязи между различными признаками, чтобы выявить ключевые факторы, влияющие на отток.\n",
    "    Проверка гипотез с помощью t-тестов: Были проверены гипотезы о влиянии города проживания, количества продуктов и кредитного скоринга на склонность к оттоку.\n",
    "    Кластеризация: Клиенты были сегментированы на три группы (кластера) на основе их кредитного скоринга, баланса, количества продуктов и возраста.\n",
    "    Анализ оттока по сегментам: Проведена оценка уровня оттока для каждого кластера, чтобы выявить группы риска.  \n",
    "\n",
    "**3. Главные выводы:**   \n",
    "    \n",
    "    Демографический анализ:  \n",
    "    Большинство клиентов банка — это люди в возрасте от 30 до 40 лет, с пиковым значением на 35 лет.  \n",
    "    Большая часть клиентов имеет совокупный баланс от 200 тыс. до 1 млн.  \n",
    "    В среднем клиенты пользуются двумя продуктами, но также есть значительное количество клиентов с одним продуктом.  \n",
    "    Основная масса клиентов имеет кредитный скоринг в диапазоне от 700 до 860, что свидетельствует о стабильности их кредитных возможностей.  \n",
    "    Большинство клиентов имеют доход от 100 до 200 тыс., что может быть завышенным показателем из-за ненадежности указанных данных.  \n",
    "\n",
    "    Анализ по городам:  \n",
    "    Ярославль имеет наибольшее количество клиентов (~6 тыс.), за ним следует Рыбинск (~2.8 тыс.), и замыкает список Ростов (~2 тыс.).  \n",
    "    Распределение по полу практически 1:1, что говорит о равномерном распределении клиентов по гендерному признаку.  \n",
    "\n",
    "    Корреляционный анализ:  \n",
    "    Корреляция между балансом и кредитным скорингом (0.14) и между балансом и количеством продуктов (0.16) слаба, что указывает на слабую взаимосвязь этих факторов.  \n",
    "    Негативная корреляция между кредитным скорингом и оценочным доходом (-0.12) предполагает, что клиенты с высоким скорингом могут иметь немного более низкий доход.  \n",
    "    Возраст практически не влияет на баланс, количество продуктов или кредитный скоринг.  \n",
    "\n",
    "    T-тесты:  \n",
    "    Между Ярославлем и Ростовом не выявлено статистически значимых различий в уровне оттока.  \n",
    "    Между Ярославлем и Рыбинском выявлены значительные различия в поведении клиентов относительно оттока.  \n",
    "        Клиенты с одним продуктом имеют более высокий уровень оттока по сравнению с теми, кто пользуется более чем одним продуктом.  \n",
    "        Клиенты с низким кредитным скорингом более склонны к оттоку, что указывает на необходимость уделять больше внимания этой группе.  \n",
    "\n",
    "    Кластерный анализ:  \n",
    "    Кластер 0: Средний баланс, среднее количество продуктов, низкий уровень оттока (12.06%).  \n",
    "    Кластер 1: Самый высокий кредитный скоринг, меньшее количество продуктов и баланса, низкий уровень оттока (12.99%).  \n",
    "    Кластер 2: Самый высокий баланс и большее количество продуктов, но и самый высокий уровень оттока (40.57%). Это наиболее рисковая группа.  \n",
    "\n",
    "**4. Рекомендации:**\n",
    "\n",
    "    Для Кластера 2 (ГДЕ высокий баланс и большое количество продуктов):  \n",
    "    Полагаю, что можно разработать программы лояльности и индивидуальные предложения для клиентов с высокими балансами и большим количеством продуктов. Для этой группы требуются премиальные и персонализированные услуги для снижения уровня оттока.  \n",
    "    Для Кластеров 0 и 1 (средний баланс и меньшее количество продуктов):  \n",
    "    В целом, рекомендуется продвигать кросс-продажи и программы вовлеченности, чтобы увеличить количество продуктов, используемых клиентами, и повысить их лояльность. Эти клиенты и тмак имеют низкий уровень оттока, и усиление их вовлеченности может помочь еще больше улучшить показатели удержания.  \n",
    "    \n",
    "**5. Рекомендации по улучшению качества данных:**  \n",
    "\n",
    "    Обработка пропущенных значений: Для будущего прогнозирования и анализа стоит обратить внимание на тщательную работу с пропущенными данными, особенно в таких важных столбцах, как баланс и возраст (хотя представленные данные были не такими уж и \"грязными\").  \n",
    "    Отбор признаков для прогнозирования: На основе анализа можно рекомендовать такие признаки, как количество продуктов, кредитный скоринг и баланс для будущих моделей прогнозирования оттока.  \n",
    "    Избежание дубликатов: Важно внедрить механизмы для предотвращения появления дубликатов в данных клиентов, что повысит точность анализа и прогнозирования.  \n",
    "    Уверен, что эти шаги помогут как-то улучшить удержание клиентов и создать более эффективные стратегии работы с разными группами клиентов. "
   ]
  }
 ],
 "metadata": {
  "ExecuteTimeLog": [
   {
    "duration": 1380,
    "start_time": "2024-10-08T13:26:59.783Z"
   },
   {
    "duration": 10,
    "start_time": "2024-10-08T13:27:09.432Z"
   },
   {
    "duration": 54,
    "start_time": "2024-10-08T13:27:52.457Z"
   },
   {
    "duration": 124,
    "start_time": "2024-10-08T13:28:06.524Z"
   },
   {
    "duration": 3,
    "start_time": "2024-10-08T13:30:19.519Z"
   },
   {
    "duration": 58,
    "start_time": "2024-10-08T13:30:36.593Z"
   },
   {
    "duration": 3,
    "start_time": "2024-10-08T13:31:00.116Z"
   },
   {
    "duration": 131,
    "start_time": "2024-10-08T13:31:00.407Z"
   },
   {
    "duration": 22,
    "start_time": "2024-10-08T13:36:59.291Z"
   },
   {
    "duration": 12,
    "start_time": "2024-10-08T13:46:02.491Z"
   },
   {
    "duration": 18,
    "start_time": "2024-10-08T13:47:17.282Z"
   },
   {
    "duration": 11,
    "start_time": "2024-10-08T13:48:45.852Z"
   },
   {
    "duration": 53,
    "start_time": "2024-10-09T08:25:32.125Z"
   },
   {
    "duration": 1451,
    "start_time": "2024-10-09T08:25:37.277Z"
   },
   {
    "duration": 3,
    "start_time": "2024-10-09T08:25:38.730Z"
   },
   {
    "duration": 215,
    "start_time": "2024-10-09T08:25:38.735Z"
   },
   {
    "duration": 20,
    "start_time": "2024-10-09T08:25:38.952Z"
   },
   {
    "duration": 13,
    "start_time": "2024-10-09T08:25:38.974Z"
   },
   {
    "duration": 5,
    "start_time": "2024-10-09T09:46:02.577Z"
   },
   {
    "duration": 5,
    "start_time": "2024-10-09T09:46:18.677Z"
   },
   {
    "duration": 5,
    "start_time": "2024-10-09T09:47:12.532Z"
   },
   {
    "duration": 156,
    "start_time": "2024-10-09T11:02:06.555Z"
   },
   {
    "duration": 92,
    "start_time": "2024-10-09T11:05:10.754Z"
   },
   {
    "duration": 5,
    "start_time": "2024-10-09T11:05:17.232Z"
   },
   {
    "duration": 4,
    "start_time": "2024-10-09T11:05:17.844Z"
   },
   {
    "duration": 86,
    "start_time": "2024-10-09T11:05:18.244Z"
   },
   {
    "duration": 147,
    "start_time": "2024-10-09T11:05:30.010Z"
   },
   {
    "duration": 150,
    "start_time": "2024-10-09T11:05:42.293Z"
   },
   {
    "duration": 164,
    "start_time": "2024-10-09T11:06:10.026Z"
   },
   {
    "duration": 5,
    "start_time": "2024-10-09T11:06:39.971Z"
   },
   {
    "duration": 60,
    "start_time": "2024-10-09T11:44:44.040Z"
   },
   {
    "duration": 5,
    "start_time": "2024-10-09T11:46:49.927Z"
   },
   {
    "duration": 65,
    "start_time": "2024-10-09T11:47:26.223Z"
   },
   {
    "duration": 5,
    "start_time": "2024-10-09T11:47:34.189Z"
   },
   {
    "duration": 4,
    "start_time": "2024-10-09T11:48:53.553Z"
   },
   {
    "duration": 22,
    "start_time": "2024-10-09T12:01:54.437Z"
   },
   {
    "duration": 22,
    "start_time": "2024-10-09T12:02:57.533Z"
   },
   {
    "duration": 3,
    "start_time": "2024-10-09T12:03:10.046Z"
   },
   {
    "duration": 4,
    "start_time": "2024-10-09T12:03:50.872Z"
   },
   {
    "duration": 4,
    "start_time": "2024-10-09T12:03:56.366Z"
   },
   {
    "duration": 5,
    "start_time": "2024-10-09T12:04:27.711Z"
   },
   {
    "duration": 5,
    "start_time": "2024-10-09T12:04:28.452Z"
   },
   {
    "duration": 21,
    "start_time": "2024-10-09T12:04:29.319Z"
   },
   {
    "duration": 6,
    "start_time": "2024-10-09T12:21:04.921Z"
   },
   {
    "duration": 5,
    "start_time": "2024-10-09T12:21:15.193Z"
   },
   {
    "duration": 4,
    "start_time": "2024-10-09T12:21:20.284Z"
   },
   {
    "duration": 6,
    "start_time": "2024-10-09T12:21:47.481Z"
   },
   {
    "duration": 16,
    "start_time": "2024-10-09T12:51:52.182Z"
   },
   {
    "duration": 13,
    "start_time": "2024-10-09T12:52:02.772Z"
   },
   {
    "duration": 1319,
    "start_time": "2024-10-10T06:30:58.731Z"
   },
   {
    "duration": 3,
    "start_time": "2024-10-10T06:31:00.052Z"
   },
   {
    "duration": 264,
    "start_time": "2024-10-10T06:31:00.057Z"
   },
   {
    "duration": 22,
    "start_time": "2024-10-10T06:31:00.323Z"
   },
   {
    "duration": 21,
    "start_time": "2024-10-10T06:31:00.348Z"
   },
   {
    "duration": 5,
    "start_time": "2024-10-10T06:31:00.375Z"
   },
   {
    "duration": 28,
    "start_time": "2024-10-10T06:31:00.381Z"
   },
   {
    "duration": 36,
    "start_time": "2024-10-10T06:31:00.410Z"
   },
   {
    "duration": 3,
    "start_time": "2024-10-10T06:31:00.448Z"
   },
   {
    "duration": 6,
    "start_time": "2024-10-10T06:31:00.453Z"
   },
   {
    "duration": 55,
    "start_time": "2024-10-10T06:46:18.510Z"
   },
   {
    "duration": 100,
    "start_time": "2024-10-10T06:46:34.609Z"
   },
   {
    "duration": 57,
    "start_time": "2024-10-10T06:46:50.772Z"
   },
   {
    "duration": 3,
    "start_time": "2024-10-10T06:46:53.641Z"
   },
   {
    "duration": 13,
    "start_time": "2024-10-10T06:46:53.646Z"
   },
   {
    "duration": 86,
    "start_time": "2024-10-10T06:46:53.661Z"
   },
   {
    "duration": 20,
    "start_time": "2024-10-10T06:46:53.748Z"
   },
   {
    "duration": 25,
    "start_time": "2024-10-10T06:46:53.770Z"
   },
   {
    "duration": 4,
    "start_time": "2024-10-10T06:46:53.797Z"
   },
   {
    "duration": 3,
    "start_time": "2024-10-10T06:46:53.803Z"
   },
   {
    "duration": 22,
    "start_time": "2024-10-10T06:46:53.807Z"
   },
   {
    "duration": 3,
    "start_time": "2024-10-10T06:46:53.831Z"
   },
   {
    "duration": 5,
    "start_time": "2024-10-10T06:46:53.835Z"
   },
   {
    "duration": 39,
    "start_time": "2024-10-10T06:46:53.841Z"
   },
   {
    "duration": 3,
    "start_time": "2024-10-10T06:47:09.226Z"
   },
   {
    "duration": 9,
    "start_time": "2024-10-10T06:47:14.395Z"
   },
   {
    "duration": 1588,
    "start_time": "2024-10-10T06:47:24.976Z"
   },
   {
    "duration": 17,
    "start_time": "2024-10-10T06:52:18.469Z"
   },
   {
    "duration": 3,
    "start_time": "2024-10-10T06:54:30.700Z"
   },
   {
    "duration": 29,
    "start_time": "2024-10-10T06:54:30.705Z"
   },
   {
    "duration": 88,
    "start_time": "2024-10-10T06:54:30.736Z"
   },
   {
    "duration": 23,
    "start_time": "2024-10-10T06:54:30.825Z"
   },
   {
    "duration": 15,
    "start_time": "2024-10-10T06:54:30.850Z"
   },
   {
    "duration": 10,
    "start_time": "2024-10-10T06:54:30.866Z"
   },
   {
    "duration": 20,
    "start_time": "2024-10-10T06:54:30.877Z"
   },
   {
    "duration": 28,
    "start_time": "2024-10-10T06:54:30.898Z"
   },
   {
    "duration": 20,
    "start_time": "2024-10-10T06:54:30.928Z"
   },
   {
    "duration": 5,
    "start_time": "2024-10-10T06:54:30.950Z"
   },
   {
    "duration": 1519,
    "start_time": "2024-10-10T06:54:30.957Z"
   },
   {
    "duration": 16,
    "start_time": "2024-10-10T06:54:32.477Z"
   },
   {
    "duration": 21,
    "start_time": "2024-10-10T06:54:46.611Z"
   },
   {
    "duration": 234,
    "start_time": "2024-10-10T06:55:44.952Z"
   },
   {
    "duration": 357,
    "start_time": "2024-10-10T06:59:00.810Z"
   },
   {
    "duration": 9,
    "start_time": "2024-10-10T06:59:52.936Z"
   },
   {
    "duration": 9,
    "start_time": "2024-10-10T06:59:54.130Z"
   },
   {
    "duration": 0,
    "start_time": "2024-10-10T06:59:54.141Z"
   },
   {
    "duration": 0,
    "start_time": "2024-10-10T06:59:54.142Z"
   },
   {
    "duration": 0,
    "start_time": "2024-10-10T06:59:54.143Z"
   },
   {
    "duration": 0,
    "start_time": "2024-10-10T06:59:54.144Z"
   },
   {
    "duration": 0,
    "start_time": "2024-10-10T06:59:54.145Z"
   },
   {
    "duration": 0,
    "start_time": "2024-10-10T06:59:54.146Z"
   },
   {
    "duration": 0,
    "start_time": "2024-10-10T06:59:54.147Z"
   },
   {
    "duration": 0,
    "start_time": "2024-10-10T06:59:54.148Z"
   },
   {
    "duration": 0,
    "start_time": "2024-10-10T06:59:54.148Z"
   },
   {
    "duration": 0,
    "start_time": "2024-10-10T06:59:54.149Z"
   },
   {
    "duration": 0,
    "start_time": "2024-10-10T06:59:54.151Z"
   },
   {
    "duration": 0,
    "start_time": "2024-10-10T06:59:54.152Z"
   },
   {
    "duration": 0,
    "start_time": "2024-10-10T06:59:54.153Z"
   },
   {
    "duration": 60,
    "start_time": "2024-10-10T07:03:38.470Z"
   },
   {
    "duration": 11,
    "start_time": "2024-10-10T07:03:50.182Z"
   },
   {
    "duration": 82,
    "start_time": "2024-10-10T07:04:55.667Z"
   },
   {
    "duration": 0,
    "start_time": "2024-10-10T07:04:55.751Z"
   },
   {
    "duration": 0,
    "start_time": "2024-10-10T07:04:55.752Z"
   },
   {
    "duration": 0,
    "start_time": "2024-10-10T07:04:55.753Z"
   },
   {
    "duration": 0,
    "start_time": "2024-10-10T07:04:55.754Z"
   },
   {
    "duration": 0,
    "start_time": "2024-10-10T07:04:55.755Z"
   },
   {
    "duration": 0,
    "start_time": "2024-10-10T07:04:55.756Z"
   },
   {
    "duration": 0,
    "start_time": "2024-10-10T07:04:55.757Z"
   },
   {
    "duration": 0,
    "start_time": "2024-10-10T07:04:55.758Z"
   },
   {
    "duration": 0,
    "start_time": "2024-10-10T07:04:55.759Z"
   },
   {
    "duration": 0,
    "start_time": "2024-10-10T07:04:55.760Z"
   },
   {
    "duration": 0,
    "start_time": "2024-10-10T07:04:55.761Z"
   },
   {
    "duration": 1,
    "start_time": "2024-10-10T07:04:55.762Z"
   },
   {
    "duration": 0,
    "start_time": "2024-10-10T07:04:55.763Z"
   },
   {
    "duration": 0,
    "start_time": "2024-10-10T07:04:55.764Z"
   },
   {
    "duration": 64,
    "start_time": "2024-10-10T07:05:05.659Z"
   },
   {
    "duration": 1,
    "start_time": "2024-10-10T07:05:05.724Z"
   },
   {
    "duration": 0,
    "start_time": "2024-10-10T07:05:05.726Z"
   },
   {
    "duration": 0,
    "start_time": "2024-10-10T07:05:05.727Z"
   },
   {
    "duration": 0,
    "start_time": "2024-10-10T07:05:05.728Z"
   },
   {
    "duration": 0,
    "start_time": "2024-10-10T07:05:05.729Z"
   },
   {
    "duration": 0,
    "start_time": "2024-10-10T07:05:05.730Z"
   },
   {
    "duration": 0,
    "start_time": "2024-10-10T07:05:05.731Z"
   },
   {
    "duration": 0,
    "start_time": "2024-10-10T07:05:05.732Z"
   },
   {
    "duration": 0,
    "start_time": "2024-10-10T07:05:05.733Z"
   },
   {
    "duration": 0,
    "start_time": "2024-10-10T07:05:05.734Z"
   },
   {
    "duration": 0,
    "start_time": "2024-10-10T07:05:05.735Z"
   },
   {
    "duration": 0,
    "start_time": "2024-10-10T07:05:05.736Z"
   },
   {
    "duration": 0,
    "start_time": "2024-10-10T07:05:05.737Z"
   },
   {
    "duration": 0,
    "start_time": "2024-10-10T07:05:05.738Z"
   },
   {
    "duration": 3488,
    "start_time": "2024-10-10T07:05:49.299Z"
   },
   {
    "duration": 56,
    "start_time": "2024-10-10T07:05:56.757Z"
   },
   {
    "duration": 2413,
    "start_time": "2024-10-10T07:06:03.340Z"
   },
   {
    "duration": 4,
    "start_time": "2024-10-10T07:06:05.756Z"
   },
   {
    "duration": 31,
    "start_time": "2024-10-10T07:06:05.762Z"
   },
   {
    "duration": 112,
    "start_time": "2024-10-10T07:06:05.795Z"
   },
   {
    "duration": 22,
    "start_time": "2024-10-10T07:06:05.908Z"
   },
   {
    "duration": 14,
    "start_time": "2024-10-10T07:06:05.932Z"
   },
   {
    "duration": 29,
    "start_time": "2024-10-10T07:06:05.948Z"
   },
   {
    "duration": 4,
    "start_time": "2024-10-10T07:06:05.978Z"
   },
   {
    "duration": 40,
    "start_time": "2024-10-10T07:06:05.983Z"
   },
   {
    "duration": 3,
    "start_time": "2024-10-10T07:06:06.025Z"
   },
   {
    "duration": 26,
    "start_time": "2024-10-10T07:06:06.030Z"
   },
   {
    "duration": 1625,
    "start_time": "2024-10-10T07:06:06.058Z"
   },
   {
    "duration": 245,
    "start_time": "2024-10-10T07:06:07.684Z"
   },
   {
    "duration": 435,
    "start_time": "2024-10-10T07:06:07.930Z"
   },
   {
    "duration": 61,
    "start_time": "2024-10-10T07:06:08.367Z"
   },
   {
    "duration": 0,
    "start_time": "2024-10-10T07:06:08.430Z"
   },
   {
    "duration": 18575,
    "start_time": "2024-10-10T07:06:24.529Z"
   },
   {
    "duration": 0,
    "start_time": "2024-10-10T07:08:19.791Z"
   },
   {
    "duration": 19758,
    "start_time": "2024-10-10T07:08:35.349Z"
   },
   {
    "duration": 413,
    "start_time": "2024-10-10T07:12:22.527Z"
   },
   {
    "duration": 1547,
    "start_time": "2024-10-10T07:12:33.691Z"
   },
   {
    "duration": 16,
    "start_time": "2024-10-10T07:18:38.571Z"
   },
   {
    "duration": 14,
    "start_time": "2024-10-10T07:18:52.717Z"
   },
   {
    "duration": 413,
    "start_time": "2024-10-10T07:19:01.266Z"
   },
   {
    "duration": 4,
    "start_time": "2024-10-10T07:58:03.314Z"
   },
   {
    "duration": 28,
    "start_time": "2024-10-10T08:08:18.404Z"
   },
   {
    "duration": 21,
    "start_time": "2024-10-10T08:08:49.028Z"
   },
   {
    "duration": 2524,
    "start_time": "2024-10-10T08:08:54.281Z"
   },
   {
    "duration": 5,
    "start_time": "2024-10-10T08:08:56.807Z"
   },
   {
    "duration": 5,
    "start_time": "2024-10-10T08:08:56.813Z"
   },
   {
    "duration": 295,
    "start_time": "2024-10-10T08:08:56.819Z"
   },
   {
    "duration": 20,
    "start_time": "2024-10-10T08:08:57.116Z"
   },
   {
    "duration": 19,
    "start_time": "2024-10-10T08:08:57.138Z"
   },
   {
    "duration": 27,
    "start_time": "2024-10-10T08:08:57.159Z"
   },
   {
    "duration": 5,
    "start_time": "2024-10-10T08:08:57.187Z"
   },
   {
    "duration": 5,
    "start_time": "2024-10-10T08:08:57.193Z"
   },
   {
    "duration": 29,
    "start_time": "2024-10-10T08:08:57.200Z"
   },
   {
    "duration": 3,
    "start_time": "2024-10-10T08:08:57.231Z"
   },
   {
    "duration": 4,
    "start_time": "2024-10-10T08:08:57.236Z"
   },
   {
    "duration": 1520,
    "start_time": "2024-10-10T08:08:57.242Z"
   },
   {
    "duration": 236,
    "start_time": "2024-10-10T08:08:58.764Z"
   },
   {
    "duration": 364,
    "start_time": "2024-10-10T08:08:59.002Z"
   },
   {
    "duration": 1764,
    "start_time": "2024-10-10T08:08:59.367Z"
   },
   {
    "duration": 400,
    "start_time": "2024-10-10T08:09:01.133Z"
   },
   {
    "duration": 5,
    "start_time": "2024-10-10T08:09:01.534Z"
   },
   {
    "duration": 2402,
    "start_time": "2024-10-10T08:09:54.972Z"
   },
   {
    "duration": 5,
    "start_time": "2024-10-10T08:09:57.376Z"
   },
   {
    "duration": 34,
    "start_time": "2024-10-10T08:09:57.382Z"
   },
   {
    "duration": 96,
    "start_time": "2024-10-10T08:09:57.417Z"
   },
   {
    "duration": 20,
    "start_time": "2024-10-10T08:09:57.515Z"
   },
   {
    "duration": 22,
    "start_time": "2024-10-10T08:09:57.536Z"
   },
   {
    "duration": 28,
    "start_time": "2024-10-10T08:09:57.559Z"
   },
   {
    "duration": 4,
    "start_time": "2024-10-10T08:09:57.589Z"
   },
   {
    "duration": 13,
    "start_time": "2024-10-10T08:09:57.595Z"
   },
   {
    "duration": 28,
    "start_time": "2024-10-10T08:09:57.609Z"
   },
   {
    "duration": 4,
    "start_time": "2024-10-10T08:09:57.638Z"
   },
   {
    "duration": 9,
    "start_time": "2024-10-10T08:09:57.643Z"
   },
   {
    "duration": 1485,
    "start_time": "2024-10-10T08:09:57.654Z"
   },
   {
    "duration": 255,
    "start_time": "2024-10-10T08:09:59.142Z"
   },
   {
    "duration": 380,
    "start_time": "2024-10-10T08:09:59.399Z"
   },
   {
    "duration": 1600,
    "start_time": "2024-10-10T08:09:59.780Z"
   },
   {
    "duration": 366,
    "start_time": "2024-10-10T08:10:01.382Z"
   },
   {
    "duration": 6,
    "start_time": "2024-10-10T08:10:01.750Z"
   },
   {
    "duration": 13,
    "start_time": "2024-10-10T08:14:59.080Z"
   },
   {
    "duration": 9,
    "start_time": "2024-10-10T08:19:42.594Z"
   },
   {
    "duration": 12,
    "start_time": "2024-10-10T08:19:49.019Z"
   },
   {
    "duration": 11,
    "start_time": "2024-10-10T08:24:40.472Z"
   },
   {
    "duration": 12,
    "start_time": "2024-10-10T08:25:28.322Z"
   },
   {
    "duration": 122,
    "start_time": "2024-10-10T08:25:39.428Z"
   },
   {
    "duration": 10,
    "start_time": "2024-10-10T08:35:24.022Z"
   },
   {
    "duration": 15,
    "start_time": "2024-10-10T08:35:49.946Z"
   },
   {
    "duration": 265,
    "start_time": "2024-10-10T08:36:02.685Z"
   },
   {
    "duration": 276,
    "start_time": "2024-10-10T08:36:17.327Z"
   },
   {
    "duration": 212,
    "start_time": "2024-10-10T08:36:39.054Z"
   },
   {
    "duration": 151,
    "start_time": "2024-10-10T08:43:59.626Z"
   },
   {
    "duration": 159,
    "start_time": "2024-10-10T08:44:23.666Z"
   },
   {
    "duration": 231,
    "start_time": "2024-10-10T08:50:50.425Z"
   },
   {
    "duration": 282,
    "start_time": "2024-10-10T08:57:31.362Z"
   },
   {
    "duration": 258,
    "start_time": "2024-10-10T08:59:30.096Z"
   },
   {
    "duration": 156,
    "start_time": "2024-10-10T08:59:53.781Z"
   },
   {
    "duration": 88,
    "start_time": "2024-10-10T09:05:11.367Z"
   },
   {
    "duration": 312,
    "start_time": "2024-10-10T09:05:58.178Z"
   },
   {
    "duration": 3,
    "start_time": "2024-10-10T09:06:39.819Z"
   },
   {
    "duration": 20,
    "start_time": "2024-10-10T09:08:41.181Z"
   },
   {
    "duration": 15,
    "start_time": "2024-10-10T09:08:58.840Z"
   },
   {
    "duration": 9,
    "start_time": "2024-10-10T09:09:08.892Z"
   },
   {
    "duration": 10,
    "start_time": "2024-10-10T09:10:20.755Z"
   },
   {
    "duration": 4,
    "start_time": "2024-10-10T09:10:39.798Z"
   },
   {
    "duration": 2438,
    "start_time": "2024-10-10T09:10:42.557Z"
   },
   {
    "duration": 8,
    "start_time": "2024-10-10T09:10:44.998Z"
   },
   {
    "duration": 38,
    "start_time": "2024-10-10T09:10:45.008Z"
   },
   {
    "duration": 169,
    "start_time": "2024-10-10T09:10:45.047Z"
   },
   {
    "duration": 20,
    "start_time": "2024-10-10T09:10:45.219Z"
   },
   {
    "duration": 37,
    "start_time": "2024-10-10T09:10:45.241Z"
   },
   {
    "duration": 16,
    "start_time": "2024-10-10T09:10:45.280Z"
   },
   {
    "duration": 13,
    "start_time": "2024-10-10T09:10:45.298Z"
   },
   {
    "duration": 21,
    "start_time": "2024-10-10T09:10:45.312Z"
   },
   {
    "duration": 48,
    "start_time": "2024-10-10T09:10:45.335Z"
   },
   {
    "duration": 16,
    "start_time": "2024-10-10T09:10:45.385Z"
   },
   {
    "duration": 8,
    "start_time": "2024-10-10T09:10:45.403Z"
   },
   {
    "duration": 1633,
    "start_time": "2024-10-10T09:10:45.412Z"
   },
   {
    "duration": 245,
    "start_time": "2024-10-10T09:10:47.048Z"
   },
   {
    "duration": 372,
    "start_time": "2024-10-10T09:10:47.294Z"
   },
   {
    "duration": 1639,
    "start_time": "2024-10-10T09:10:47.667Z"
   },
   {
    "duration": 362,
    "start_time": "2024-10-10T09:10:49.308Z"
   },
   {
    "duration": 12,
    "start_time": "2024-10-10T09:10:49.676Z"
   },
   {
    "duration": 29,
    "start_time": "2024-10-10T09:10:49.689Z"
   },
   {
    "duration": 10,
    "start_time": "2024-10-10T09:10:49.720Z"
   },
   {
    "duration": 150,
    "start_time": "2024-10-10T09:10:49.731Z"
   },
   {
    "duration": 208,
    "start_time": "2024-10-10T09:10:49.882Z"
   },
   {
    "duration": 17,
    "start_time": "2024-10-10T09:10:50.091Z"
   },
   {
    "duration": 0,
    "start_time": "2024-10-10T09:10:50.109Z"
   },
   {
    "duration": 0,
    "start_time": "2024-10-10T09:10:50.111Z"
   },
   {
    "duration": 1029,
    "start_time": "2024-10-10T09:12:53.003Z"
   },
   {
    "duration": 16,
    "start_time": "2024-10-10T09:13:27.663Z"
   },
   {
    "duration": 1265,
    "start_time": "2024-10-10T09:13:55.403Z"
   },
   {
    "duration": 15,
    "start_time": "2024-10-10T09:19:23.370Z"
   },
   {
    "duration": 889,
    "start_time": "2024-10-10T09:19:24.045Z"
   },
   {
    "duration": 2533,
    "start_time": "2024-10-10T09:19:51.327Z"
   },
   {
    "duration": 5,
    "start_time": "2024-10-10T09:19:53.862Z"
   },
   {
    "duration": 16,
    "start_time": "2024-10-10T09:19:53.869Z"
   },
   {
    "duration": 88,
    "start_time": "2024-10-10T09:19:53.887Z"
   },
   {
    "duration": 22,
    "start_time": "2024-10-10T09:19:53.977Z"
   },
   {
    "duration": 21,
    "start_time": "2024-10-10T09:19:54.001Z"
   },
   {
    "duration": 33,
    "start_time": "2024-10-10T09:19:54.023Z"
   },
   {
    "duration": 4,
    "start_time": "2024-10-10T09:19:54.057Z"
   },
   {
    "duration": 15,
    "start_time": "2024-10-10T09:19:54.063Z"
   },
   {
    "duration": 34,
    "start_time": "2024-10-10T09:19:54.079Z"
   },
   {
    "duration": 4,
    "start_time": "2024-10-10T09:19:54.114Z"
   },
   {
    "duration": 11,
    "start_time": "2024-10-10T09:19:54.119Z"
   },
   {
    "duration": 1682,
    "start_time": "2024-10-10T09:19:54.132Z"
   },
   {
    "duration": 246,
    "start_time": "2024-10-10T09:19:55.817Z"
   },
   {
    "duration": 401,
    "start_time": "2024-10-10T09:19:56.065Z"
   },
   {
    "duration": 1598,
    "start_time": "2024-10-10T09:19:56.468Z"
   },
   {
    "duration": 378,
    "start_time": "2024-10-10T09:19:58.067Z"
   },
   {
    "duration": 13,
    "start_time": "2024-10-10T09:19:58.447Z"
   },
   {
    "duration": 23,
    "start_time": "2024-10-10T09:19:58.462Z"
   },
   {
    "duration": 18,
    "start_time": "2024-10-10T09:19:58.486Z"
   },
   {
    "duration": 160,
    "start_time": "2024-10-10T09:19:58.506Z"
   },
   {
    "duration": 208,
    "start_time": "2024-10-10T09:19:58.668Z"
   },
   {
    "duration": 17,
    "start_time": "2024-10-10T09:19:58.877Z"
   },
   {
    "duration": 0,
    "start_time": "2024-10-10T09:19:58.895Z"
   },
   {
    "duration": 0,
    "start_time": "2024-10-10T09:19:58.896Z"
   },
   {
    "duration": 0,
    "start_time": "2024-10-10T09:19:58.898Z"
   },
   {
    "duration": 15,
    "start_time": "2024-10-10T09:20:31.573Z"
   },
   {
    "duration": 5804,
    "start_time": "2024-10-10T09:20:44.056Z"
   },
   {
    "duration": 257,
    "start_time": "2024-10-10T09:21:13.544Z"
   },
   {
    "duration": 131,
    "start_time": "2024-10-10T09:21:21.333Z"
   },
   {
    "duration": 159,
    "start_time": "2024-10-10T09:21:30.860Z"
   },
   {
    "duration": 14,
    "start_time": "2024-10-10T09:21:35.108Z"
   },
   {
    "duration": 19,
    "start_time": "2024-10-10T09:21:36.360Z"
   },
   {
    "duration": 16,
    "start_time": "2024-10-10T09:22:16.755Z"
   },
   {
    "duration": 960,
    "start_time": "2024-10-10T09:22:21.615Z"
   },
   {
    "duration": 25,
    "start_time": "2024-10-10T09:23:00.664Z"
   },
   {
    "duration": 3,
    "start_time": "2024-10-10T09:23:10.802Z"
   },
   {
    "duration": 15,
    "start_time": "2024-10-10T09:23:47.725Z"
   },
   {
    "duration": 3480,
    "start_time": "2024-10-11T07:39:02.024Z"
   },
   {
    "duration": 1657,
    "start_time": "2024-10-11T07:39:05.506Z"
   },
   {
    "duration": 3,
    "start_time": "2024-10-11T07:39:07.164Z"
   },
   {
    "duration": 159,
    "start_time": "2024-10-11T07:39:07.170Z"
   },
   {
    "duration": 21,
    "start_time": "2024-10-11T07:39:07.331Z"
   },
   {
    "duration": 23,
    "start_time": "2024-10-11T07:39:07.354Z"
   },
   {
    "duration": 15,
    "start_time": "2024-10-11T07:39:07.378Z"
   },
   {
    "duration": 5,
    "start_time": "2024-10-11T07:39:07.394Z"
   },
   {
    "duration": 3,
    "start_time": "2024-10-11T07:39:07.400Z"
   },
   {
    "duration": 28,
    "start_time": "2024-10-11T07:39:07.406Z"
   },
   {
    "duration": 4,
    "start_time": "2024-10-11T07:39:07.436Z"
   },
   {
    "duration": 9,
    "start_time": "2024-10-11T07:39:07.476Z"
   },
   {
    "duration": 1669,
    "start_time": "2024-10-11T07:39:07.487Z"
   },
   {
    "duration": 242,
    "start_time": "2024-10-11T07:39:09.158Z"
   },
   {
    "duration": 383,
    "start_time": "2024-10-11T07:39:09.401Z"
   },
   {
    "duration": 1637,
    "start_time": "2024-10-11T07:39:09.786Z"
   },
   {
    "duration": 375,
    "start_time": "2024-10-11T07:39:11.424Z"
   },
   {
    "duration": 11,
    "start_time": "2024-10-11T07:39:11.800Z"
   },
   {
    "duration": 21,
    "start_time": "2024-10-11T07:39:11.813Z"
   },
   {
    "duration": 23,
    "start_time": "2024-10-11T07:39:11.836Z"
   },
   {
    "duration": 171,
    "start_time": "2024-10-11T07:39:11.860Z"
   },
   {
    "duration": 217,
    "start_time": "2024-10-11T07:39:12.033Z"
   },
   {
    "duration": 148,
    "start_time": "2024-10-11T07:39:12.252Z"
   },
   {
    "duration": 0,
    "start_time": "2024-10-11T07:39:12.402Z"
   },
   {
    "duration": 0,
    "start_time": "2024-10-11T07:39:12.404Z"
   },
   {
    "duration": 0,
    "start_time": "2024-10-11T07:39:12.405Z"
   },
   {
    "duration": 16,
    "start_time": "2024-10-11T07:44:28.455Z"
   },
   {
    "duration": 15,
    "start_time": "2024-10-11T07:44:58.631Z"
   },
   {
    "duration": 131,
    "start_time": "2024-10-11T07:45:07.747Z"
   },
   {
    "duration": 9,
    "start_time": "2024-10-11T07:45:14.068Z"
   },
   {
    "duration": 15,
    "start_time": "2024-10-11T07:45:15.261Z"
   },
   {
    "duration": 1009,
    "start_time": "2024-10-11T07:45:15.712Z"
   },
   {
    "duration": 14,
    "start_time": "2024-10-11T07:46:04.852Z"
   },
   {
    "duration": 4,
    "start_time": "2024-10-11T07:46:31.610Z"
   },
   {
    "duration": 9,
    "start_time": "2024-10-11T07:46:53.965Z"
   },
   {
    "duration": 16,
    "start_time": "2024-10-11T07:47:06.125Z"
   },
   {
    "duration": 19,
    "start_time": "2024-10-11T07:47:26.016Z"
   },
   {
    "duration": 7,
    "start_time": "2024-10-11T07:48:33.771Z"
   },
   {
    "duration": 4,
    "start_time": "2024-10-11T08:00:33.835Z"
   },
   {
    "duration": 6,
    "start_time": "2024-10-11T08:28:28.022Z"
   },
   {
    "duration": 15,
    "start_time": "2024-10-11T08:29:41.945Z"
   },
   {
    "duration": 7,
    "start_time": "2024-10-11T08:30:49.354Z"
   },
   {
    "duration": 9,
    "start_time": "2024-10-11T08:32:05.648Z"
   },
   {
    "duration": 7,
    "start_time": "2024-10-11T08:32:59.961Z"
   },
   {
    "duration": 4,
    "start_time": "2024-10-11T08:33:01.550Z"
   },
   {
    "duration": 2430,
    "start_time": "2024-10-11T08:33:04.650Z"
   },
   {
    "duration": 4,
    "start_time": "2024-10-11T08:33:07.083Z"
   },
   {
    "duration": 62,
    "start_time": "2024-10-11T08:33:07.089Z"
   },
   {
    "duration": 93,
    "start_time": "2024-10-11T08:33:07.152Z"
   },
   {
    "duration": 20,
    "start_time": "2024-10-11T08:33:07.248Z"
   },
   {
    "duration": 20,
    "start_time": "2024-10-11T08:33:07.269Z"
   },
   {
    "duration": 16,
    "start_time": "2024-10-11T08:33:07.291Z"
   },
   {
    "duration": 4,
    "start_time": "2024-10-11T08:33:07.308Z"
   },
   {
    "duration": 12,
    "start_time": "2024-10-11T08:33:07.314Z"
   },
   {
    "duration": 5,
    "start_time": "2024-10-11T08:33:07.328Z"
   },
   {
    "duration": 4,
    "start_time": "2024-10-11T08:33:07.334Z"
   },
   {
    "duration": 50,
    "start_time": "2024-10-11T08:33:07.339Z"
   },
   {
    "duration": 4,
    "start_time": "2024-10-11T08:33:07.390Z"
   },
   {
    "duration": 4,
    "start_time": "2024-10-11T08:33:07.396Z"
   },
   {
    "duration": 1612,
    "start_time": "2024-10-11T08:33:07.402Z"
   },
   {
    "duration": 239,
    "start_time": "2024-10-11T08:33:09.016Z"
   },
   {
    "duration": 379,
    "start_time": "2024-10-11T08:33:09.257Z"
   },
   {
    "duration": 1369,
    "start_time": "2024-10-11T08:33:09.638Z"
   },
   {
    "duration": 343,
    "start_time": "2024-10-11T08:33:11.009Z"
   },
   {
    "duration": 11,
    "start_time": "2024-10-11T08:33:11.353Z"
   },
   {
    "duration": 15,
    "start_time": "2024-10-11T08:33:11.366Z"
   },
   {
    "duration": 14,
    "start_time": "2024-10-11T08:33:11.383Z"
   },
   {
    "duration": 164,
    "start_time": "2024-10-11T08:33:11.398Z"
   },
   {
    "duration": 213,
    "start_time": "2024-10-11T08:33:11.563Z"
   },
   {
    "duration": 129,
    "start_time": "2024-10-11T08:33:11.778Z"
   },
   {
    "duration": 7,
    "start_time": "2024-10-11T08:33:11.908Z"
   },
   {
    "duration": 16,
    "start_time": "2024-10-11T08:34:40.240Z"
   },
   {
    "duration": 16,
    "start_time": "2024-10-11T08:34:50.836Z"
   },
   {
    "duration": 979,
    "start_time": "2024-10-11T08:35:09.253Z"
   },
   {
    "duration": 2463,
    "start_time": "2024-10-11T08:35:30.652Z"
   },
   {
    "duration": 5,
    "start_time": "2024-10-11T08:35:33.118Z"
   },
   {
    "duration": 31,
    "start_time": "2024-10-11T08:35:33.124Z"
   },
   {
    "duration": 97,
    "start_time": "2024-10-11T08:35:33.157Z"
   },
   {
    "duration": 145,
    "start_time": "2024-10-11T08:35:33.255Z"
   },
   {
    "duration": 21,
    "start_time": "2024-10-11T08:35:33.401Z"
   },
   {
    "duration": 77,
    "start_time": "2024-10-11T08:35:33.424Z"
   },
   {
    "duration": 4,
    "start_time": "2024-10-11T08:35:33.503Z"
   },
   {
    "duration": 15,
    "start_time": "2024-10-11T08:35:33.508Z"
   },
   {
    "duration": 15,
    "start_time": "2024-10-11T08:35:33.526Z"
   },
   {
    "duration": 5,
    "start_time": "2024-10-11T08:35:33.543Z"
   },
   {
    "duration": 23,
    "start_time": "2024-10-11T08:35:33.550Z"
   },
   {
    "duration": 4,
    "start_time": "2024-10-11T08:35:33.574Z"
   },
   {
    "duration": 15,
    "start_time": "2024-10-11T08:35:33.580Z"
   },
   {
    "duration": 1493,
    "start_time": "2024-10-11T08:35:33.597Z"
   },
   {
    "duration": 254,
    "start_time": "2024-10-11T08:35:35.092Z"
   },
   {
    "duration": 373,
    "start_time": "2024-10-11T08:35:35.348Z"
   },
   {
    "duration": 1387,
    "start_time": "2024-10-11T08:35:35.722Z"
   },
   {
    "duration": 345,
    "start_time": "2024-10-11T08:35:37.111Z"
   },
   {
    "duration": 25,
    "start_time": "2024-10-11T08:35:37.458Z"
   },
   {
    "duration": 15,
    "start_time": "2024-10-11T08:35:37.485Z"
   },
   {
    "duration": 9,
    "start_time": "2024-10-11T08:35:37.502Z"
   },
   {
    "duration": 160,
    "start_time": "2024-10-11T08:35:37.512Z"
   },
   {
    "duration": 213,
    "start_time": "2024-10-11T08:35:37.675Z"
   },
   {
    "duration": 251,
    "start_time": "2024-10-11T08:35:37.889Z"
   },
   {
    "duration": 15,
    "start_time": "2024-10-11T08:35:38.142Z"
   },
   {
    "duration": 38,
    "start_time": "2024-10-11T08:35:38.158Z"
   },
   {
    "duration": 6,
    "start_time": "2024-10-11T08:35:56.240Z"
   },
   {
    "duration": 7,
    "start_time": "2024-10-11T08:36:24.571Z"
   },
   {
    "duration": 12,
    "start_time": "2024-10-11T08:37:17.607Z"
   },
   {
    "duration": 9,
    "start_time": "2024-10-11T08:37:50.367Z"
   },
   {
    "duration": 3,
    "start_time": "2024-10-11T08:37:57.904Z"
   },
   {
    "duration": 2466,
    "start_time": "2024-10-11T08:37:59.866Z"
   },
   {
    "duration": 5,
    "start_time": "2024-10-11T08:38:02.334Z"
   },
   {
    "duration": 9,
    "start_time": "2024-10-11T08:38:02.340Z"
   },
   {
    "duration": 113,
    "start_time": "2024-10-11T08:38:02.350Z"
   },
   {
    "duration": 20,
    "start_time": "2024-10-11T08:38:02.465Z"
   },
   {
    "duration": 22,
    "start_time": "2024-10-11T08:38:02.487Z"
   },
   {
    "duration": 53,
    "start_time": "2024-10-11T08:38:02.511Z"
   },
   {
    "duration": 25,
    "start_time": "2024-10-11T08:38:02.566Z"
   },
   {
    "duration": 16,
    "start_time": "2024-10-11T08:38:02.592Z"
   },
   {
    "duration": 8,
    "start_time": "2024-10-11T08:38:02.610Z"
   },
   {
    "duration": 15,
    "start_time": "2024-10-11T08:38:02.619Z"
   },
   {
    "duration": 27,
    "start_time": "2024-10-11T08:38:02.635Z"
   },
   {
    "duration": 3,
    "start_time": "2024-10-11T08:38:02.664Z"
   },
   {
    "duration": 16,
    "start_time": "2024-10-11T08:38:02.669Z"
   },
   {
    "duration": 1538,
    "start_time": "2024-10-11T08:38:02.687Z"
   },
   {
    "duration": 249,
    "start_time": "2024-10-11T08:38:04.227Z"
   },
   {
    "duration": 384,
    "start_time": "2024-10-11T08:38:04.477Z"
   },
   {
    "duration": 1610,
    "start_time": "2024-10-11T08:38:04.862Z"
   },
   {
    "duration": 365,
    "start_time": "2024-10-11T08:38:06.476Z"
   },
   {
    "duration": 13,
    "start_time": "2024-10-11T08:38:06.842Z"
   },
   {
    "duration": 23,
    "start_time": "2024-10-11T08:38:06.856Z"
   },
   {
    "duration": 12,
    "start_time": "2024-10-11T08:38:06.881Z"
   },
   {
    "duration": 158,
    "start_time": "2024-10-11T08:38:06.895Z"
   },
   {
    "duration": 323,
    "start_time": "2024-10-11T08:38:07.054Z"
   },
   {
    "duration": 136,
    "start_time": "2024-10-11T08:38:07.379Z"
   },
   {
    "duration": 6,
    "start_time": "2024-10-11T08:38:07.516Z"
   },
   {
    "duration": 9,
    "start_time": "2024-10-11T08:38:32.490Z"
   },
   {
    "duration": 1134,
    "start_time": "2024-10-11T08:38:44.042Z"
   },
   {
    "duration": 13,
    "start_time": "2024-10-11T08:38:52.205Z"
   },
   {
    "duration": 205,
    "start_time": "2024-10-11T08:43:55.835Z"
   },
   {
    "duration": 130,
    "start_time": "2024-10-11T08:44:20.977Z"
   },
   {
    "duration": 167,
    "start_time": "2024-10-11T08:44:31.062Z"
   },
   {
    "duration": 16,
    "start_time": "2024-10-11T08:44:38.805Z"
   },
   {
    "duration": 162,
    "start_time": "2024-10-11T08:44:41.500Z"
   },
   {
    "duration": 2564,
    "start_time": "2024-10-11T09:31:33.350Z"
   },
   {
    "duration": 5,
    "start_time": "2024-10-11T09:31:35.916Z"
   },
   {
    "duration": 33,
    "start_time": "2024-10-11T09:31:35.922Z"
   },
   {
    "duration": 92,
    "start_time": "2024-10-11T09:31:35.957Z"
   },
   {
    "duration": 21,
    "start_time": "2024-10-11T09:31:36.051Z"
   },
   {
    "duration": 20,
    "start_time": "2024-10-11T09:31:36.073Z"
   },
   {
    "duration": 26,
    "start_time": "2024-10-11T09:31:36.094Z"
   },
   {
    "duration": 3,
    "start_time": "2024-10-11T09:31:36.122Z"
   },
   {
    "duration": 8,
    "start_time": "2024-10-11T09:31:36.127Z"
   },
   {
    "duration": 11,
    "start_time": "2024-10-11T09:31:36.137Z"
   },
   {
    "duration": 26,
    "start_time": "2024-10-11T09:31:36.149Z"
   },
   {
    "duration": 37,
    "start_time": "2024-10-11T09:31:36.177Z"
   },
   {
    "duration": 4,
    "start_time": "2024-10-11T09:31:36.216Z"
   },
   {
    "duration": 8,
    "start_time": "2024-10-11T09:31:36.221Z"
   },
   {
    "duration": 1588,
    "start_time": "2024-10-11T09:31:36.231Z"
   },
   {
    "duration": 246,
    "start_time": "2024-10-11T09:31:37.821Z"
   },
   {
    "duration": 396,
    "start_time": "2024-10-11T09:31:38.075Z"
   },
   {
    "duration": 1573,
    "start_time": "2024-10-11T09:31:38.475Z"
   },
   {
    "duration": 395,
    "start_time": "2024-10-11T09:31:40.049Z"
   },
   {
    "duration": 12,
    "start_time": "2024-10-11T09:31:40.446Z"
   },
   {
    "duration": 7,
    "start_time": "2024-10-11T09:31:40.459Z"
   },
   {
    "duration": 9,
    "start_time": "2024-10-11T09:31:40.475Z"
   },
   {
    "duration": 204,
    "start_time": "2024-10-11T09:31:40.485Z"
   },
   {
    "duration": 257,
    "start_time": "2024-10-11T09:31:40.690Z"
   },
   {
    "duration": 173,
    "start_time": "2024-10-11T09:31:40.948Z"
   },
   {
    "duration": 9,
    "start_time": "2024-10-11T09:31:41.122Z"
   },
   {
    "duration": 1146,
    "start_time": "2024-10-11T09:31:41.132Z"
   },
   {
    "duration": 102,
    "start_time": "2024-10-11T09:31:42.283Z"
   },
   {
    "duration": 2454,
    "start_time": "2024-10-11T09:31:49.816Z"
   },
   {
    "duration": 4,
    "start_time": "2024-10-11T09:31:52.273Z"
   },
   {
    "duration": 4,
    "start_time": "2024-10-11T09:31:52.278Z"
   },
   {
    "duration": 81,
    "start_time": "2024-10-11T09:31:52.284Z"
   },
   {
    "duration": 21,
    "start_time": "2024-10-11T09:31:52.367Z"
   },
   {
    "duration": 21,
    "start_time": "2024-10-11T09:31:52.389Z"
   },
   {
    "duration": 151,
    "start_time": "2024-10-11T09:31:52.411Z"
   },
   {
    "duration": 3,
    "start_time": "2024-10-11T09:31:52.564Z"
   },
   {
    "duration": 6,
    "start_time": "2024-10-11T09:31:52.576Z"
   },
   {
    "duration": 5,
    "start_time": "2024-10-11T09:31:52.585Z"
   },
   {
    "duration": 3,
    "start_time": "2024-10-11T09:31:52.592Z"
   },
   {
    "duration": 25,
    "start_time": "2024-10-11T09:31:52.597Z"
   },
   {
    "duration": 4,
    "start_time": "2024-10-11T09:31:52.623Z"
   },
   {
    "duration": 6,
    "start_time": "2024-10-11T09:31:52.629Z"
   },
   {
    "duration": 1485,
    "start_time": "2024-10-11T09:31:52.636Z"
   },
   {
    "duration": 253,
    "start_time": "2024-10-11T09:31:54.123Z"
   },
   {
    "duration": 390,
    "start_time": "2024-10-11T09:31:54.377Z"
   },
   {
    "duration": 1586,
    "start_time": "2024-10-11T09:31:54.769Z"
   },
   {
    "duration": 370,
    "start_time": "2024-10-11T09:31:56.357Z"
   },
   {
    "duration": 11,
    "start_time": "2024-10-11T09:31:56.729Z"
   },
   {
    "duration": 8,
    "start_time": "2024-10-11T09:31:56.741Z"
   },
   {
    "duration": 26,
    "start_time": "2024-10-11T09:31:56.750Z"
   },
   {
    "duration": 155,
    "start_time": "2024-10-11T09:31:56.778Z"
   },
   {
    "duration": 224,
    "start_time": "2024-10-11T09:31:56.935Z"
   },
   {
    "duration": 280,
    "start_time": "2024-10-11T09:31:57.161Z"
   },
   {
    "duration": 8,
    "start_time": "2024-10-11T09:31:57.443Z"
   },
   {
    "duration": 1124,
    "start_time": "2024-10-11T09:31:57.452Z"
   },
   {
    "duration": 99,
    "start_time": "2024-10-11T09:31:58.581Z"
   },
   {
    "duration": 16,
    "start_time": "2024-10-11T09:38:39.794Z"
   },
   {
    "duration": 3,
    "start_time": "2024-10-11T09:41:53.926Z"
   },
   {
    "duration": 1410,
    "start_time": "2024-10-11T09:50:12.745Z"
   },
   {
    "duration": 8,
    "start_time": "2024-10-11T09:57:50.994Z"
   },
   {
    "duration": 4,
    "start_time": "2024-10-11T09:57:52.809Z"
   },
   {
    "duration": 23,
    "start_time": "2024-10-11T09:57:53.558Z"
   },
   {
    "duration": 3,
    "start_time": "2024-10-11T09:57:54.633Z"
   },
   {
    "duration": 4,
    "start_time": "2024-10-11T09:57:55.201Z"
   },
   {
    "duration": 1545,
    "start_time": "2024-10-11T09:57:59.218Z"
   },
   {
    "duration": 3,
    "start_time": "2024-10-11T09:58:23.350Z"
   },
   {
    "duration": 6,
    "start_time": "2024-10-11T09:58:25.312Z"
   },
   {
    "duration": 4,
    "start_time": "2024-10-11T09:58:25.659Z"
   },
   {
    "duration": 23,
    "start_time": "2024-10-11T09:58:25.989Z"
   },
   {
    "duration": 3,
    "start_time": "2024-10-11T09:58:26.748Z"
   },
   {
    "duration": 4,
    "start_time": "2024-10-11T09:58:27.104Z"
   },
   {
    "duration": 5,
    "start_time": "2024-10-11T09:59:57.003Z"
   },
   {
    "duration": 6,
    "start_time": "2024-10-11T09:59:58.762Z"
   },
   {
    "duration": 5,
    "start_time": "2024-10-11T09:59:59.385Z"
   },
   {
    "duration": 23,
    "start_time": "2024-10-11T10:00:00.238Z"
   },
   {
    "duration": 3,
    "start_time": "2024-10-11T10:00:04.261Z"
   },
   {
    "duration": 4,
    "start_time": "2024-10-11T10:00:04.925Z"
   },
   {
    "duration": 1734,
    "start_time": "2024-10-11T10:00:08.785Z"
   },
   {
    "duration": 4,
    "start_time": "2024-10-11T10:02:39.245Z"
   },
   {
    "duration": 15,
    "start_time": "2024-10-11T10:03:14.344Z"
   },
   {
    "duration": 2,
    "start_time": "2024-10-11T10:03:36.694Z"
   },
   {
    "duration": 137,
    "start_time": "2024-10-11T10:03:36.908Z"
   },
   {
    "duration": 19,
    "start_time": "2024-10-11T10:03:38.612Z"
   },
   {
    "duration": 24,
    "start_time": "2024-10-11T10:03:42.260Z"
   },
   {
    "duration": 15,
    "start_time": "2024-10-11T10:03:45.906Z"
   },
   {
    "duration": 5,
    "start_time": "2024-10-11T10:04:00.073Z"
   },
   {
    "duration": 6,
    "start_time": "2024-10-11T10:04:01.804Z"
   },
   {
    "duration": 4,
    "start_time": "2024-10-11T10:04:02.432Z"
   },
   {
    "duration": 21,
    "start_time": "2024-10-11T10:04:04.844Z"
   },
   {
    "duration": 4,
    "start_time": "2024-10-11T10:04:07.219Z"
   },
   {
    "duration": 4,
    "start_time": "2024-10-11T10:04:08.040Z"
   },
   {
    "duration": 1592,
    "start_time": "2024-10-11T10:04:10.428Z"
   },
   {
    "duration": 3,
    "start_time": "2024-10-11T10:04:24.043Z"
   },
   {
    "duration": 2,
    "start_time": "2024-10-11T10:04:24.206Z"
   },
   {
    "duration": 73,
    "start_time": "2024-10-11T10:04:24.389Z"
   },
   {
    "duration": 32,
    "start_time": "2024-10-11T10:04:24.870Z"
   },
   {
    "duration": 24,
    "start_time": "2024-10-11T10:04:25.159Z"
   },
   {
    "duration": 14,
    "start_time": "2024-10-11T10:04:25.852Z"
   },
   {
    "duration": 6,
    "start_time": "2024-10-11T10:04:27.988Z"
   },
   {
    "duration": 4,
    "start_time": "2024-10-11T10:04:28.883Z"
   },
   {
    "duration": 22,
    "start_time": "2024-10-11T10:04:29.803Z"
   },
   {
    "duration": 4,
    "start_time": "2024-10-11T10:04:30.148Z"
   },
   {
    "duration": 5,
    "start_time": "2024-10-11T10:04:30.979Z"
   },
   {
    "duration": 1506,
    "start_time": "2024-10-11T10:04:32.299Z"
   },
   {
    "duration": 15,
    "start_time": "2024-10-11T10:05:10.582Z"
   },
   {
    "duration": 11,
    "start_time": "2024-10-11T10:11:17.958Z"
   },
   {
    "duration": 6,
    "start_time": "2024-10-11T10:11:34.041Z"
   },
   {
    "duration": 4,
    "start_time": "2024-10-11T10:11:34.802Z"
   },
   {
    "duration": 20,
    "start_time": "2024-10-11T10:11:35.145Z"
   },
   {
    "duration": 4,
    "start_time": "2024-10-11T10:11:35.456Z"
   },
   {
    "duration": 4,
    "start_time": "2024-10-11T10:11:36.080Z"
   },
   {
    "duration": 1528,
    "start_time": "2024-10-11T10:11:37.400Z"
   },
   {
    "duration": 1159,
    "start_time": "2024-10-11T10:12:50.674Z"
   },
   {
    "duration": 209,
    "start_time": "2024-10-11T10:12:58.458Z"
   },
   {
    "duration": 1541,
    "start_time": "2024-10-11T10:14:37.151Z"
   },
   {
    "duration": 251,
    "start_time": "2024-10-11T10:25:20.596Z"
   },
   {
    "duration": 15,
    "start_time": "2024-10-11T11:03:00.774Z"
   },
   {
    "duration": 159,
    "start_time": "2024-10-11T11:13:48.798Z"
   },
   {
    "duration": 213,
    "start_time": "2024-10-11T11:13:59.968Z"
   },
   {
    "duration": 169,
    "start_time": "2024-10-11T11:14:11.904Z"
   },
   {
    "duration": 10,
    "start_time": "2024-10-11T11:15:01.783Z"
   },
   {
    "duration": 20,
    "start_time": "2024-10-11T11:15:11.573Z"
   },
   {
    "duration": 911,
    "start_time": "2024-10-11T11:15:23.755Z"
   },
   {
    "duration": 4,
    "start_time": "2024-10-11T11:16:55.863Z"
   },
   {
    "duration": 6,
    "start_time": "2024-10-11T11:17:38.084Z"
   },
   {
    "duration": 4,
    "start_time": "2024-10-11T11:17:44.006Z"
   },
   {
    "duration": 9,
    "start_time": "2024-10-11T11:18:09.830Z"
   },
   {
    "duration": 3,
    "start_time": "2024-10-11T11:19:16.544Z"
   },
   {
    "duration": 3,
    "start_time": "2024-10-11T11:19:45.851Z"
   },
   {
    "duration": 7,
    "start_time": "2024-10-11T11:19:49.734Z"
   },
   {
    "duration": 11,
    "start_time": "2024-10-11T11:20:11.706Z"
   },
   {
    "duration": 6,
    "start_time": "2024-10-11T11:20:18.527Z"
   },
   {
    "duration": 4,
    "start_time": "2024-10-11T11:20:20.313Z"
   },
   {
    "duration": 22,
    "start_time": "2024-10-11T11:20:21.422Z"
   },
   {
    "duration": 4,
    "start_time": "2024-10-11T11:20:24.323Z"
   },
   {
    "duration": 4,
    "start_time": "2024-10-11T11:20:25.153Z"
   },
   {
    "duration": 1445,
    "start_time": "2024-10-11T11:20:30.577Z"
   },
   {
    "duration": 4,
    "start_time": "2024-10-11T11:21:35.662Z"
   },
   {
    "duration": 3,
    "start_time": "2024-10-11T11:22:16.815Z"
   },
   {
    "duration": 7,
    "start_time": "2024-10-11T11:22:28.095Z"
   },
   {
    "duration": 10,
    "start_time": "2024-10-11T11:23:53.933Z"
   },
   {
    "duration": 7,
    "start_time": "2024-10-11T11:23:56.038Z"
   },
   {
    "duration": 7,
    "start_time": "2024-10-11T11:24:11.359Z"
   },
   {
    "duration": 4,
    "start_time": "2024-10-11T11:24:11.776Z"
   },
   {
    "duration": 20,
    "start_time": "2024-10-11T11:24:12.404Z"
   },
   {
    "duration": 4,
    "start_time": "2024-10-11T11:24:15.259Z"
   },
   {
    "duration": 4,
    "start_time": "2024-10-11T11:24:15.632Z"
   },
   {
    "duration": 1546,
    "start_time": "2024-10-11T11:24:16.475Z"
   },
   {
    "duration": 11,
    "start_time": "2024-10-11T11:24:35.699Z"
   },
   {
    "duration": 7,
    "start_time": "2024-10-11T11:24:37.217Z"
   },
   {
    "duration": 4,
    "start_time": "2024-10-11T11:24:37.730Z"
   },
   {
    "duration": 21,
    "start_time": "2024-10-11T11:24:38.071Z"
   },
   {
    "duration": 4,
    "start_time": "2024-10-11T11:24:38.410Z"
   },
   {
    "duration": 4,
    "start_time": "2024-10-11T11:24:39.047Z"
   },
   {
    "duration": 1389,
    "start_time": "2024-10-11T11:24:40.806Z"
   },
   {
    "duration": 2450,
    "start_time": "2024-10-11T11:25:00.745Z"
   },
   {
    "duration": 4,
    "start_time": "2024-10-11T11:25:03.197Z"
   },
   {
    "duration": 50,
    "start_time": "2024-10-11T11:25:03.202Z"
   },
   {
    "duration": 164,
    "start_time": "2024-10-11T11:25:03.254Z"
   },
   {
    "duration": 22,
    "start_time": "2024-10-11T11:25:03.420Z"
   },
   {
    "duration": 24,
    "start_time": "2024-10-11T11:25:03.444Z"
   },
   {
    "duration": 15,
    "start_time": "2024-10-11T11:25:03.476Z"
   },
   {
    "duration": 3,
    "start_time": "2024-10-11T11:25:03.492Z"
   },
   {
    "duration": 12,
    "start_time": "2024-10-11T11:25:03.497Z"
   },
   {
    "duration": 16,
    "start_time": "2024-10-11T11:25:03.511Z"
   },
   {
    "duration": 6,
    "start_time": "2024-10-11T11:25:03.528Z"
   },
   {
    "duration": 20,
    "start_time": "2024-10-11T11:25:03.535Z"
   },
   {
    "duration": 89,
    "start_time": "2024-10-11T11:25:03.557Z"
   },
   {
    "duration": 43,
    "start_time": "2024-10-11T11:25:03.648Z"
   },
   {
    "duration": 17,
    "start_time": "2024-10-11T11:25:03.693Z"
   },
   {
    "duration": 1525,
    "start_time": "2024-10-11T11:25:03.712Z"
   },
   {
    "duration": 271,
    "start_time": "2024-10-11T11:25:05.239Z"
   },
   {
    "duration": 563,
    "start_time": "2024-10-11T11:25:05.512Z"
   },
   {
    "duration": 1601,
    "start_time": "2024-10-11T11:25:06.077Z"
   },
   {
    "duration": 366,
    "start_time": "2024-10-11T11:25:07.679Z"
   },
   {
    "duration": 188,
    "start_time": "2024-10-11T11:25:08.046Z"
   },
   {
    "duration": 222,
    "start_time": "2024-10-11T11:25:08.235Z"
   },
   {
    "duration": 178,
    "start_time": "2024-10-11T11:25:08.459Z"
   },
   {
    "duration": 9,
    "start_time": "2024-10-11T11:25:08.638Z"
   },
   {
    "duration": 1528,
    "start_time": "2024-10-11T11:25:08.648Z"
   },
   {
    "duration": 12,
    "start_time": "2024-10-11T11:25:10.178Z"
   },
   {
    "duration": 4,
    "start_time": "2024-10-11T11:28:16.136Z"
   },
   {
    "duration": 9,
    "start_time": "2024-10-11T11:28:19.537Z"
   },
   {
    "duration": 6,
    "start_time": "2024-10-11T11:28:20.585Z"
   }
  ],
  "kernelspec": {
   "display_name": "Python 3 (ipykernel)",
   "language": "python",
   "name": "python3"
  },
  "language_info": {
   "codemirror_mode": {
    "name": "ipython",
    "version": 3
   },
   "file_extension": ".py",
   "mimetype": "text/x-python",
   "name": "python",
   "nbconvert_exporter": "python",
   "pygments_lexer": "ipython3",
   "version": "3.9.5"
  },
  "toc": {
   "base_numbering": 1,
   "nav_menu": {},
   "number_sections": true,
   "sideBar": true,
   "skip_h1_title": true,
   "title_cell": "Table of Contents",
   "title_sidebar": "Contents",
   "toc_cell": false,
   "toc_position": {},
   "toc_section_display": true,
   "toc_window_display": false
  }
 },
 "nbformat": 4,
 "nbformat_minor": 2
}
