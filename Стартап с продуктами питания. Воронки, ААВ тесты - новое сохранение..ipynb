{
 "cells": [
  {
   "cell_type": "markdown",
   "metadata": {},
   "source": [
    "# Проект \"Назовём попозже\""
   ]
  },
  {
   "cell_type": "markdown",
   "metadata": {},
   "source": [
    "Цель нашего проекта - понять как пользователи доходят до покупки. Сколько пользователей доходит до покупки, а сколько — «застревает» на предыдущих шагах. "
   ]
  },
  {
   "cell_type": "markdown",
   "metadata": {},
   "source": [
    "### Изучение общих и сырых поступивших данных"
   ]
  },
  {
   "cell_type": "code",
   "execution_count": 1,
   "metadata": {
    "scrolled": false
   },
   "outputs": [
    {
     "data": {
      "text/html": [
       "<div>\n",
       "<style scoped>\n",
       "    .dataframe tbody tr th:only-of-type {\n",
       "        vertical-align: middle;\n",
       "    }\n",
       "\n",
       "    .dataframe tbody tr th {\n",
       "        vertical-align: top;\n",
       "    }\n",
       "\n",
       "    .dataframe thead th {\n",
       "        text-align: right;\n",
       "    }\n",
       "</style>\n",
       "<table border=\"1\" class=\"dataframe\">\n",
       "  <thead>\n",
       "    <tr style=\"text-align: right;\">\n",
       "      <th></th>\n",
       "      <th>EventName</th>\n",
       "      <th>DeviceIDHash</th>\n",
       "      <th>EventTimestamp</th>\n",
       "      <th>ExpId</th>\n",
       "    </tr>\n",
       "  </thead>\n",
       "  <tbody>\n",
       "    <tr>\n",
       "      <th>0</th>\n",
       "      <td>MainScreenAppear</td>\n",
       "      <td>4575588528974610257</td>\n",
       "      <td>1564029816</td>\n",
       "      <td>246</td>\n",
       "    </tr>\n",
       "    <tr>\n",
       "      <th>1</th>\n",
       "      <td>MainScreenAppear</td>\n",
       "      <td>7416695313311560658</td>\n",
       "      <td>1564053102</td>\n",
       "      <td>246</td>\n",
       "    </tr>\n",
       "    <tr>\n",
       "      <th>2</th>\n",
       "      <td>PaymentScreenSuccessful</td>\n",
       "      <td>3518123091307005509</td>\n",
       "      <td>1564054127</td>\n",
       "      <td>248</td>\n",
       "    </tr>\n",
       "    <tr>\n",
       "      <th>3</th>\n",
       "      <td>CartScreenAppear</td>\n",
       "      <td>3518123091307005509</td>\n",
       "      <td>1564054127</td>\n",
       "      <td>248</td>\n",
       "    </tr>\n",
       "    <tr>\n",
       "      <th>4</th>\n",
       "      <td>PaymentScreenSuccessful</td>\n",
       "      <td>6217807653094995999</td>\n",
       "      <td>1564055322</td>\n",
       "      <td>248</td>\n",
       "    </tr>\n",
       "    <tr>\n",
       "      <th>...</th>\n",
       "      <td>...</td>\n",
       "      <td>...</td>\n",
       "      <td>...</td>\n",
       "      <td>...</td>\n",
       "    </tr>\n",
       "    <tr>\n",
       "      <th>244121</th>\n",
       "      <td>MainScreenAppear</td>\n",
       "      <td>4599628364049201812</td>\n",
       "      <td>1565212345</td>\n",
       "      <td>247</td>\n",
       "    </tr>\n",
       "    <tr>\n",
       "      <th>244122</th>\n",
       "      <td>MainScreenAppear</td>\n",
       "      <td>5849806612437486590</td>\n",
       "      <td>1565212439</td>\n",
       "      <td>246</td>\n",
       "    </tr>\n",
       "    <tr>\n",
       "      <th>244123</th>\n",
       "      <td>MainScreenAppear</td>\n",
       "      <td>5746969938801999050</td>\n",
       "      <td>1565212483</td>\n",
       "      <td>246</td>\n",
       "    </tr>\n",
       "    <tr>\n",
       "      <th>244124</th>\n",
       "      <td>MainScreenAppear</td>\n",
       "      <td>5746969938801999050</td>\n",
       "      <td>1565212498</td>\n",
       "      <td>246</td>\n",
       "    </tr>\n",
       "    <tr>\n",
       "      <th>244125</th>\n",
       "      <td>OffersScreenAppear</td>\n",
       "      <td>5746969938801999050</td>\n",
       "      <td>1565212517</td>\n",
       "      <td>246</td>\n",
       "    </tr>\n",
       "  </tbody>\n",
       "</table>\n",
       "<p>244126 rows × 4 columns</p>\n",
       "</div>"
      ],
      "text/plain": [
       "                      EventName         DeviceIDHash  EventTimestamp  ExpId\n",
       "0              MainScreenAppear  4575588528974610257      1564029816    246\n",
       "1              MainScreenAppear  7416695313311560658      1564053102    246\n",
       "2       PaymentScreenSuccessful  3518123091307005509      1564054127    248\n",
       "3              CartScreenAppear  3518123091307005509      1564054127    248\n",
       "4       PaymentScreenSuccessful  6217807653094995999      1564055322    248\n",
       "...                         ...                  ...             ...    ...\n",
       "244121         MainScreenAppear  4599628364049201812      1565212345    247\n",
       "244122         MainScreenAppear  5849806612437486590      1565212439    246\n",
       "244123         MainScreenAppear  5746969938801999050      1565212483    246\n",
       "244124         MainScreenAppear  5746969938801999050      1565212498    246\n",
       "244125       OffersScreenAppear  5746969938801999050      1565212517    246\n",
       "\n",
       "[244126 rows x 4 columns]"
      ]
     },
     "execution_count": 1,
     "metadata": {},
     "output_type": "execute_result"
    }
   ],
   "source": [
    "import pandas as pd\n",
    "import datetime as dt\n",
    "import numpy as np\n",
    "import matplotlib.pyplot as plt\n",
    "from pandas.plotting import register_matplotlib_converters\n",
    "import warnings\n",
    "from scipy import stats as st\n",
    "import plotly.graph_objects as go\n",
    "\n",
    "# конвертеры, которые позволяют использовать типы pandas в matplotlib  \n",
    "register_matplotlib_converters()\n",
    "\n",
    "data = pd.read_csv('/datasets/logs_exp.csv', sep='\\t', low_memory=False)\n",
    "data"
   ]
  },
  {
   "cell_type": "markdown",
   "metadata": {},
   "source": [
    "Мы вывели датасет с 244126 логами бинарного типа. В нашем логе указано:\n",
    " - название события\n",
    " - id пользователя\n",
    " - время события\n",
    " - номер эксперимента, где 246 и 247 — контрольные группы, а 248 — экспериментальная."
   ]
  },
  {
   "cell_type": "markdown",
   "metadata": {},
   "source": [
    "# 2. Подготовка и обработка данных"
   ]
  },
  {
   "cell_type": "markdown",
   "metadata": {},
   "source": [
    "### Заменим названия столбцов на удобные для нас."
   ]
  },
  {
   "cell_type": "code",
   "execution_count": 2,
   "metadata": {},
   "outputs": [
    {
     "data": {
      "text/html": [
       "<div>\n",
       "<style scoped>\n",
       "    .dataframe tbody tr th:only-of-type {\n",
       "        vertical-align: middle;\n",
       "    }\n",
       "\n",
       "    .dataframe tbody tr th {\n",
       "        vertical-align: top;\n",
       "    }\n",
       "\n",
       "    .dataframe thead th {\n",
       "        text-align: right;\n",
       "    }\n",
       "</style>\n",
       "<table border=\"1\" class=\"dataframe\">\n",
       "  <thead>\n",
       "    <tr style=\"text-align: right;\">\n",
       "      <th></th>\n",
       "      <th>EventName</th>\n",
       "      <th>UserId</th>\n",
       "      <th>EventTimeStamp</th>\n",
       "      <th>ExpId</th>\n",
       "    </tr>\n",
       "  </thead>\n",
       "  <tbody>\n",
       "    <tr>\n",
       "      <th>0</th>\n",
       "      <td>MainScreenAppear</td>\n",
       "      <td>4575588528974610257</td>\n",
       "      <td>1564029816</td>\n",
       "      <td>246</td>\n",
       "    </tr>\n",
       "    <tr>\n",
       "      <th>1</th>\n",
       "      <td>MainScreenAppear</td>\n",
       "      <td>7416695313311560658</td>\n",
       "      <td>1564053102</td>\n",
       "      <td>246</td>\n",
       "    </tr>\n",
       "    <tr>\n",
       "      <th>2</th>\n",
       "      <td>PaymentScreenSuccessful</td>\n",
       "      <td>3518123091307005509</td>\n",
       "      <td>1564054127</td>\n",
       "      <td>248</td>\n",
       "    </tr>\n",
       "    <tr>\n",
       "      <th>3</th>\n",
       "      <td>CartScreenAppear</td>\n",
       "      <td>3518123091307005509</td>\n",
       "      <td>1564054127</td>\n",
       "      <td>248</td>\n",
       "    </tr>\n",
       "    <tr>\n",
       "      <th>4</th>\n",
       "      <td>PaymentScreenSuccessful</td>\n",
       "      <td>6217807653094995999</td>\n",
       "      <td>1564055322</td>\n",
       "      <td>248</td>\n",
       "    </tr>\n",
       "    <tr>\n",
       "      <th>...</th>\n",
       "      <td>...</td>\n",
       "      <td>...</td>\n",
       "      <td>...</td>\n",
       "      <td>...</td>\n",
       "    </tr>\n",
       "    <tr>\n",
       "      <th>244121</th>\n",
       "      <td>MainScreenAppear</td>\n",
       "      <td>4599628364049201812</td>\n",
       "      <td>1565212345</td>\n",
       "      <td>247</td>\n",
       "    </tr>\n",
       "    <tr>\n",
       "      <th>244122</th>\n",
       "      <td>MainScreenAppear</td>\n",
       "      <td>5849806612437486590</td>\n",
       "      <td>1565212439</td>\n",
       "      <td>246</td>\n",
       "    </tr>\n",
       "    <tr>\n",
       "      <th>244123</th>\n",
       "      <td>MainScreenAppear</td>\n",
       "      <td>5746969938801999050</td>\n",
       "      <td>1565212483</td>\n",
       "      <td>246</td>\n",
       "    </tr>\n",
       "    <tr>\n",
       "      <th>244124</th>\n",
       "      <td>MainScreenAppear</td>\n",
       "      <td>5746969938801999050</td>\n",
       "      <td>1565212498</td>\n",
       "      <td>246</td>\n",
       "    </tr>\n",
       "    <tr>\n",
       "      <th>244125</th>\n",
       "      <td>OffersScreenAppear</td>\n",
       "      <td>5746969938801999050</td>\n",
       "      <td>1565212517</td>\n",
       "      <td>246</td>\n",
       "    </tr>\n",
       "  </tbody>\n",
       "</table>\n",
       "<p>244126 rows × 4 columns</p>\n",
       "</div>"
      ],
      "text/plain": [
       "                      EventName               UserId  EventTimeStamp  ExpId\n",
       "0              MainScreenAppear  4575588528974610257      1564029816    246\n",
       "1              MainScreenAppear  7416695313311560658      1564053102    246\n",
       "2       PaymentScreenSuccessful  3518123091307005509      1564054127    248\n",
       "3              CartScreenAppear  3518123091307005509      1564054127    248\n",
       "4       PaymentScreenSuccessful  6217807653094995999      1564055322    248\n",
       "...                         ...                  ...             ...    ...\n",
       "244121         MainScreenAppear  4599628364049201812      1565212345    247\n",
       "244122         MainScreenAppear  5849806612437486590      1565212439    246\n",
       "244123         MainScreenAppear  5746969938801999050      1565212483    246\n",
       "244124         MainScreenAppear  5746969938801999050      1565212498    246\n",
       "244125       OffersScreenAppear  5746969938801999050      1565212517    246\n",
       "\n",
       "[244126 rows x 4 columns]"
      ]
     },
     "execution_count": 2,
     "metadata": {},
     "output_type": "execute_result"
    }
   ],
   "source": [
    "# Правило хорошего стиля. (Либо с заглавной, либо нижним подчеркиванием)\n",
    "data = data.rename(columns={'DeviceIDHash': 'UserId', 'EventTimestamp': 'EventTimeStamp'})\n",
    "data"
   ]
  },
  {
   "cell_type": "markdown",
   "metadata": {},
   "source": [
    "Вот так вот мы поменяли название наших столбцов."
   ]
  },
  {
   "cell_type": "markdown",
   "metadata": {},
   "source": [
    "### Проверим пропуски и типы данных."
   ]
  },
  {
   "cell_type": "code",
   "execution_count": 3,
   "metadata": {},
   "outputs": [
    {
     "name": "stdout",
     "output_type": "stream",
     "text": [
      "<class 'pandas.core.frame.DataFrame'>\n",
      "RangeIndex: 244126 entries, 0 to 244125\n",
      "Data columns (total 4 columns):\n",
      " #   Column          Non-Null Count   Dtype \n",
      "---  ------          --------------   ----- \n",
      " 0   EventName       244126 non-null  object\n",
      " 1   UserId          244126 non-null  int64 \n",
      " 2   EventTimeStamp  244126 non-null  int64 \n",
      " 3   ExpId           244126 non-null  int64 \n",
      "dtypes: int64(3), object(1)\n",
      "memory usage: 7.5+ MB\n",
      "None\n",
      "Пропущенные значения в EventName:\n",
      "0\n",
      "\n",
      "Пропущенные значения в UserId:\n",
      "0\n",
      "\n",
      "Пропущенные значения в EventTimeStamp:\n",
      "0\n",
      "\n",
      "Пропущенные значения в ExpId:\n",
      "0\n"
     ]
    }
   ],
   "source": [
    "# Проверка типа данных\n",
    "print(data.info())\n",
    "\n",
    "# Проверка количества пропущенных значений\n",
    "print(\"Пропущенные значения в EventName:\")\n",
    "print(data['EventName'].isnull().sum())\n",
    "print(\"\\nПропущенные значения в UserId:\")\n",
    "print(data['UserId'].isnull().sum())\n",
    "print(\"\\nПропущенные значения в EventTimeStamp:\")\n",
    "print(data['EventTimeStamp'].isnull().sum())\n",
    "print(\"\\nПропущенные значения в ExpId:\")\n",
    "print(data['ExpId'].isnull().sum())"
   ]
  },
  {
   "cell_type": "markdown",
   "metadata": {},
   "source": [
    "В нашем датафрейме пропущенных значений нет. \n",
    "\n",
    "Типы данных в датафрейме: \n",
    " - EventName - object\n",
    " - Остальные столбцы - int64"
   ]
  },
  {
   "cell_type": "markdown",
   "metadata": {},
   "source": [
    "#### Добавим столбцы даты и времени, а также выведем отдельный столбец с датами."
   ]
  },
  {
   "cell_type": "code",
   "execution_count": 4,
   "metadata": {},
   "outputs": [
    {
     "data": {
      "text/html": [
       "<div>\n",
       "<style scoped>\n",
       "    .dataframe tbody tr th:only-of-type {\n",
       "        vertical-align: middle;\n",
       "    }\n",
       "\n",
       "    .dataframe tbody tr th {\n",
       "        vertical-align: top;\n",
       "    }\n",
       "\n",
       "    .dataframe thead th {\n",
       "        text-align: right;\n",
       "    }\n",
       "</style>\n",
       "<table border=\"1\" class=\"dataframe\">\n",
       "  <thead>\n",
       "    <tr style=\"text-align: right;\">\n",
       "      <th></th>\n",
       "      <th>EventName</th>\n",
       "      <th>UserId</th>\n",
       "      <th>EventTimeStamp</th>\n",
       "      <th>ExpId</th>\n",
       "      <th>event_date</th>\n",
       "    </tr>\n",
       "  </thead>\n",
       "  <tbody>\n",
       "    <tr>\n",
       "      <th>0</th>\n",
       "      <td>MainScreenAppear</td>\n",
       "      <td>4575588528974610257</td>\n",
       "      <td>2019-07-25 04:43:36</td>\n",
       "      <td>246</td>\n",
       "      <td>2019-07-25</td>\n",
       "    </tr>\n",
       "    <tr>\n",
       "      <th>1</th>\n",
       "      <td>MainScreenAppear</td>\n",
       "      <td>7416695313311560658</td>\n",
       "      <td>2019-07-25 11:11:42</td>\n",
       "      <td>246</td>\n",
       "      <td>2019-07-25</td>\n",
       "    </tr>\n",
       "    <tr>\n",
       "      <th>2</th>\n",
       "      <td>PaymentScreenSuccessful</td>\n",
       "      <td>3518123091307005509</td>\n",
       "      <td>2019-07-25 11:28:47</td>\n",
       "      <td>248</td>\n",
       "      <td>2019-07-25</td>\n",
       "    </tr>\n",
       "    <tr>\n",
       "      <th>3</th>\n",
       "      <td>CartScreenAppear</td>\n",
       "      <td>3518123091307005509</td>\n",
       "      <td>2019-07-25 11:28:47</td>\n",
       "      <td>248</td>\n",
       "      <td>2019-07-25</td>\n",
       "    </tr>\n",
       "    <tr>\n",
       "      <th>4</th>\n",
       "      <td>PaymentScreenSuccessful</td>\n",
       "      <td>6217807653094995999</td>\n",
       "      <td>2019-07-25 11:48:42</td>\n",
       "      <td>248</td>\n",
       "      <td>2019-07-25</td>\n",
       "    </tr>\n",
       "    <tr>\n",
       "      <th>...</th>\n",
       "      <td>...</td>\n",
       "      <td>...</td>\n",
       "      <td>...</td>\n",
       "      <td>...</td>\n",
       "      <td>...</td>\n",
       "    </tr>\n",
       "    <tr>\n",
       "      <th>244121</th>\n",
       "      <td>MainScreenAppear</td>\n",
       "      <td>4599628364049201812</td>\n",
       "      <td>2019-08-07 21:12:25</td>\n",
       "      <td>247</td>\n",
       "      <td>2019-08-07</td>\n",
       "    </tr>\n",
       "    <tr>\n",
       "      <th>244122</th>\n",
       "      <td>MainScreenAppear</td>\n",
       "      <td>5849806612437486590</td>\n",
       "      <td>2019-08-07 21:13:59</td>\n",
       "      <td>246</td>\n",
       "      <td>2019-08-07</td>\n",
       "    </tr>\n",
       "    <tr>\n",
       "      <th>244123</th>\n",
       "      <td>MainScreenAppear</td>\n",
       "      <td>5746969938801999050</td>\n",
       "      <td>2019-08-07 21:14:43</td>\n",
       "      <td>246</td>\n",
       "      <td>2019-08-07</td>\n",
       "    </tr>\n",
       "    <tr>\n",
       "      <th>244124</th>\n",
       "      <td>MainScreenAppear</td>\n",
       "      <td>5746969938801999050</td>\n",
       "      <td>2019-08-07 21:14:58</td>\n",
       "      <td>246</td>\n",
       "      <td>2019-08-07</td>\n",
       "    </tr>\n",
       "    <tr>\n",
       "      <th>244125</th>\n",
       "      <td>OffersScreenAppear</td>\n",
       "      <td>5746969938801999050</td>\n",
       "      <td>2019-08-07 21:15:17</td>\n",
       "      <td>246</td>\n",
       "      <td>2019-08-07</td>\n",
       "    </tr>\n",
       "  </tbody>\n",
       "</table>\n",
       "<p>244126 rows × 5 columns</p>\n",
       "</div>"
      ],
      "text/plain": [
       "                      EventName               UserId      EventTimeStamp  \\\n",
       "0              MainScreenAppear  4575588528974610257 2019-07-25 04:43:36   \n",
       "1              MainScreenAppear  7416695313311560658 2019-07-25 11:11:42   \n",
       "2       PaymentScreenSuccessful  3518123091307005509 2019-07-25 11:28:47   \n",
       "3              CartScreenAppear  3518123091307005509 2019-07-25 11:28:47   \n",
       "4       PaymentScreenSuccessful  6217807653094995999 2019-07-25 11:48:42   \n",
       "...                         ...                  ...                 ...   \n",
       "244121         MainScreenAppear  4599628364049201812 2019-08-07 21:12:25   \n",
       "244122         MainScreenAppear  5849806612437486590 2019-08-07 21:13:59   \n",
       "244123         MainScreenAppear  5746969938801999050 2019-08-07 21:14:43   \n",
       "244124         MainScreenAppear  5746969938801999050 2019-08-07 21:14:58   \n",
       "244125       OffersScreenAppear  5746969938801999050 2019-08-07 21:15:17   \n",
       "\n",
       "        ExpId event_date  \n",
       "0         246 2019-07-25  \n",
       "1         246 2019-07-25  \n",
       "2         248 2019-07-25  \n",
       "3         248 2019-07-25  \n",
       "4         248 2019-07-25  \n",
       "...       ...        ...  \n",
       "244121    247 2019-08-07  \n",
       "244122    246 2019-08-07  \n",
       "244123    246 2019-08-07  \n",
       "244124    246 2019-08-07  \n",
       "244125    246 2019-08-07  \n",
       "\n",
       "[244126 rows x 5 columns]"
      ]
     },
     "execution_count": 4,
     "metadata": {},
     "output_type": "execute_result"
    }
   ],
   "source": [
    "# Преобразуем столбец с временной меткой в datetime формат и добавляем новые столбцы\n",
    "data['EventTimeStamp'] = pd.to_datetime(data['EventTimeStamp'], unit='s')\n",
    "data['event_date'] = data['EventTimeStamp'].astype('datetime64[D]')\n",
    "data"
   ]
  },
  {
   "cell_type": "markdown",
   "metadata": {},
   "source": [
    "Теперь мы ясно видим дату и время события, а также мы добавили новый столбец с датами. "
   ]
  },
  {
   "cell_type": "markdown",
   "metadata": {},
   "source": [
    "#### Выясним, есть ли дубликаты в столбце EventTimeStamp"
   ]
  },
  {
   "cell_type": "code",
   "execution_count": 5,
   "metadata": {},
   "outputs": [
    {
     "name": "stdout",
     "output_type": "stream",
     "text": [
      "Действия, совершенные в одну и ту же секунду:\n",
      "                  EventName               UserId      EventTimeStamp  ExpId  \\\n",
      "2   PaymentScreenSuccessful  3518123091307005509 2019-07-25 11:28:47    248   \n",
      "3          CartScreenAppear  3518123091307005509 2019-07-25 11:28:47    248   \n",
      "27         CartScreenAppear  2029140728621466572 2019-07-26 17:06:41    246   \n",
      "28  PaymentScreenSuccessful  2029140728621466572 2019-07-26 17:06:41    246   \n",
      "35  PaymentScreenSuccessful   746235405686708560 2019-07-26 19:44:26    248   \n",
      "36         CartScreenAppear   746235405686708560 2019-07-26 19:44:26    248   \n",
      "37         CartScreenAppear  6805714022805866600 2019-07-26 19:44:27    246   \n",
      "38  PaymentScreenSuccessful  6805714022805866600 2019-07-26 19:44:27    246   \n",
      "42  PaymentScreenSuccessful  6075091495307260046 2019-07-27 06:41:05    246   \n",
      "43         CartScreenAppear  6075091495307260046 2019-07-27 06:41:05    246   \n",
      "\n",
      "   event_date  \n",
      "2  2019-07-25  \n",
      "3  2019-07-25  \n",
      "27 2019-07-26  \n",
      "28 2019-07-26  \n",
      "35 2019-07-26  \n",
      "36 2019-07-26  \n",
      "37 2019-07-26  \n",
      "38 2019-07-26  \n",
      "42 2019-07-27  \n",
      "43 2019-07-27  \n",
      "\n",
      "Полные дубликаты:\n",
      "             EventName               UserId      EventTimeStamp  ExpId  \\\n",
      "452   MainScreenAppear  5613408041324010552 2019-07-30 08:19:44    248   \n",
      "453   MainScreenAppear  5613408041324010552 2019-07-30 08:19:44    248   \n",
      "2348  CartScreenAppear  1694940645335807244 2019-07-31 21:51:39    248   \n",
      "2350  CartScreenAppear  1694940645335807244 2019-07-31 21:51:39    248   \n",
      "3572  MainScreenAppear   434103746454591587 2019-08-01 02:59:37    248   \n",
      "3573  MainScreenAppear   434103746454591587 2019-08-01 02:59:37    248   \n",
      "4075  MainScreenAppear  3761373764179762633 2019-08-01 03:47:46    247   \n",
      "4076  MainScreenAppear  3761373764179762633 2019-08-01 03:47:46    247   \n",
      "4801  MainScreenAppear  2835328739789306622 2019-08-01 04:44:01    248   \n",
      "4803  MainScreenAppear  2835328739789306622 2019-08-01 04:44:01    248   \n",
      "\n",
      "     event_date  \n",
      "452  2019-07-30  \n",
      "453  2019-07-30  \n",
      "2348 2019-07-31  \n",
      "2350 2019-07-31  \n",
      "3572 2019-08-01  \n",
      "3573 2019-08-01  \n",
      "4075 2019-08-01  \n",
      "4076 2019-08-01  \n",
      "4801 2019-08-01  \n",
      "4803 2019-08-01  \n"
     ]
    }
   ],
   "source": [
    "# Найдем дубликаты по столбцу EventTimeStamp\n",
    "duplicates_time = data[data['EventTimeStamp'].duplicated(keep=False)]\n",
    "\n",
    "# Найдем полные дубликаты по всем столбцам\n",
    "full_duplicates = data[data.duplicated(keep=False)]\n",
    "\n",
    "# Вывести все строки, где время события повторяется\n",
    "if not duplicates_time.empty:\n",
    "    print(\"Действия, совершенные в одну и ту же секунду:\")\n",
    "    print(duplicates_time.head(10))\n",
    "else:\n",
    "    print(\"Нет действий, совершенных в одну и ту же секунду.\")\n",
    "\n",
    "if not full_duplicates.empty:\n",
    "    print(\"\\nПолные дубликаты:\")\n",
    "    print(full_duplicates.head(10))\n",
    "else:\n",
    "    print(\"\\nНет полных дубликатов.\")"
   ]
  },
  {
   "cell_type": "code",
   "execution_count": 6,
   "metadata": {},
   "outputs": [
    {
     "data": {
      "text/html": [
       "<div>\n",
       "<style scoped>\n",
       "    .dataframe tbody tr th:only-of-type {\n",
       "        vertical-align: middle;\n",
       "    }\n",
       "\n",
       "    .dataframe tbody tr th {\n",
       "        vertical-align: top;\n",
       "    }\n",
       "\n",
       "    .dataframe thead th {\n",
       "        text-align: right;\n",
       "    }\n",
       "</style>\n",
       "<table border=\"1\" class=\"dataframe\">\n",
       "  <thead>\n",
       "    <tr style=\"text-align: right;\">\n",
       "      <th></th>\n",
       "      <th>EventName</th>\n",
       "      <th>UserId</th>\n",
       "      <th>EventTimeStamp</th>\n",
       "      <th>ExpId</th>\n",
       "      <th>event_date</th>\n",
       "    </tr>\n",
       "  </thead>\n",
       "  <tbody>\n",
       "    <tr>\n",
       "      <th>452</th>\n",
       "      <td>MainScreenAppear</td>\n",
       "      <td>5613408041324010552</td>\n",
       "      <td>2019-07-30 08:19:44</td>\n",
       "      <td>248</td>\n",
       "      <td>2019-07-30</td>\n",
       "    </tr>\n",
       "    <tr>\n",
       "      <th>453</th>\n",
       "      <td>MainScreenAppear</td>\n",
       "      <td>5613408041324010552</td>\n",
       "      <td>2019-07-30 08:19:44</td>\n",
       "      <td>248</td>\n",
       "      <td>2019-07-30</td>\n",
       "    </tr>\n",
       "    <tr>\n",
       "      <th>2348</th>\n",
       "      <td>CartScreenAppear</td>\n",
       "      <td>1694940645335807244</td>\n",
       "      <td>2019-07-31 21:51:39</td>\n",
       "      <td>248</td>\n",
       "      <td>2019-07-31</td>\n",
       "    </tr>\n",
       "    <tr>\n",
       "      <th>2350</th>\n",
       "      <td>CartScreenAppear</td>\n",
       "      <td>1694940645335807244</td>\n",
       "      <td>2019-07-31 21:51:39</td>\n",
       "      <td>248</td>\n",
       "      <td>2019-07-31</td>\n",
       "    </tr>\n",
       "    <tr>\n",
       "      <th>3572</th>\n",
       "      <td>MainScreenAppear</td>\n",
       "      <td>434103746454591587</td>\n",
       "      <td>2019-08-01 02:59:37</td>\n",
       "      <td>248</td>\n",
       "      <td>2019-08-01</td>\n",
       "    </tr>\n",
       "    <tr>\n",
       "      <th>...</th>\n",
       "      <td>...</td>\n",
       "      <td>...</td>\n",
       "      <td>...</td>\n",
       "      <td>...</td>\n",
       "      <td>...</td>\n",
       "    </tr>\n",
       "    <tr>\n",
       "      <th>242359</th>\n",
       "      <td>PaymentScreenSuccessful</td>\n",
       "      <td>2382591782303281935</td>\n",
       "      <td>2019-08-07 19:27:29</td>\n",
       "      <td>246</td>\n",
       "      <td>2019-08-07</td>\n",
       "    </tr>\n",
       "    <tr>\n",
       "      <th>242360</th>\n",
       "      <td>PaymentScreenSuccessful</td>\n",
       "      <td>2382591782303281935</td>\n",
       "      <td>2019-08-07 19:27:29</td>\n",
       "      <td>246</td>\n",
       "      <td>2019-08-07</td>\n",
       "    </tr>\n",
       "    <tr>\n",
       "      <th>242362</th>\n",
       "      <td>CartScreenAppear</td>\n",
       "      <td>2382591782303281935</td>\n",
       "      <td>2019-08-07 19:27:29</td>\n",
       "      <td>246</td>\n",
       "      <td>2019-08-07</td>\n",
       "    </tr>\n",
       "    <tr>\n",
       "      <th>242634</th>\n",
       "      <td>MainScreenAppear</td>\n",
       "      <td>4097782667445790512</td>\n",
       "      <td>2019-08-07 19:36:58</td>\n",
       "      <td>246</td>\n",
       "      <td>2019-08-07</td>\n",
       "    </tr>\n",
       "    <tr>\n",
       "      <th>242635</th>\n",
       "      <td>MainScreenAppear</td>\n",
       "      <td>4097782667445790512</td>\n",
       "      <td>2019-08-07 19:36:58</td>\n",
       "      <td>246</td>\n",
       "      <td>2019-08-07</td>\n",
       "    </tr>\n",
       "  </tbody>\n",
       "</table>\n",
       "<p>768 rows × 5 columns</p>\n",
       "</div>"
      ],
      "text/plain": [
       "                      EventName               UserId      EventTimeStamp  \\\n",
       "452            MainScreenAppear  5613408041324010552 2019-07-30 08:19:44   \n",
       "453            MainScreenAppear  5613408041324010552 2019-07-30 08:19:44   \n",
       "2348           CartScreenAppear  1694940645335807244 2019-07-31 21:51:39   \n",
       "2350           CartScreenAppear  1694940645335807244 2019-07-31 21:51:39   \n",
       "3572           MainScreenAppear   434103746454591587 2019-08-01 02:59:37   \n",
       "...                         ...                  ...                 ...   \n",
       "242359  PaymentScreenSuccessful  2382591782303281935 2019-08-07 19:27:29   \n",
       "242360  PaymentScreenSuccessful  2382591782303281935 2019-08-07 19:27:29   \n",
       "242362         CartScreenAppear  2382591782303281935 2019-08-07 19:27:29   \n",
       "242634         MainScreenAppear  4097782667445790512 2019-08-07 19:36:58   \n",
       "242635         MainScreenAppear  4097782667445790512 2019-08-07 19:36:58   \n",
       "\n",
       "        ExpId event_date  \n",
       "452       248 2019-07-30  \n",
       "453       248 2019-07-30  \n",
       "2348      248 2019-07-31  \n",
       "2350      248 2019-07-31  \n",
       "3572      248 2019-08-01  \n",
       "...       ...        ...  \n",
       "242359    246 2019-08-07  \n",
       "242360    246 2019-08-07  \n",
       "242362    246 2019-08-07  \n",
       "242634    246 2019-08-07  \n",
       "242635    246 2019-08-07  \n",
       "\n",
       "[768 rows x 5 columns]"
      ]
     },
     "execution_count": 6,
     "metadata": {},
     "output_type": "execute_result"
    }
   ],
   "source": [
    "full_duplicates"
   ]
  },
  {
   "cell_type": "markdown",
   "metadata": {},
   "source": [
    "Итого полных дубликатов: 768 строки. "
   ]
  },
  {
   "cell_type": "markdown",
   "metadata": {},
   "source": [
    "Да, мы видим, что у нас есть случаи, где одни пользователи совершали разные действия в одну и ту же секунду. Баг это или логика выгрузки данных странная, либо у нас самые быстрые кликеры-пользователи на диком Западе, это предстоит выяснить (но не в этой работе). \n",
    "В нашем случае, я думаю, что нужно оставить пока эти данные. Потому что в дальнейшем мы будем урезать даты и высчитывать аномальные выбросы. "
   ]
  },
  {
   "cell_type": "markdown",
   "metadata": {},
   "source": [
    "#### Проверим корректно ли поделились пользователи в группы 246, 247, 248 и B и нет ли тех кто попал и в одну и в другую группу."
   ]
  },
  {
   "cell_type": "code",
   "execution_count": 7,
   "metadata": {
    "scrolled": true
   },
   "outputs": [
    {
     "name": "stdout",
     "output_type": "stream",
     "text": [
      "Нет пересечений между группами 246, 247, 248. Распределение верное\n"
     ]
    }
   ],
   "source": [
    "group_246_visitors = set(data[data['ExpId'] == '246']['ExpId'])\n",
    "group_247_visitors = set(data[data['ExpId'] == '247']['ExpId'])\n",
    "group_248_visitors = set(data[data['ExpId'] == '248']['ExpId'])\n",
    "\n",
    "# Поиск пересечений между группами\n",
    "common_visitors = group_246_visitors.intersection(group_247_visitors, group_248_visitors)\n",
    "\n",
    "# Проверка наличия пересечений и вывод результатов\n",
    "if common_visitors:\n",
    "    print(\"Пользователи, попавшие во все 3 группы:\", common_visitors)\n",
    "else:\n",
    "    print(\"Нет пересечений между группами 246, 247, 248. Распределение верное\")"
   ]
  },
  {
   "cell_type": "markdown",
   "metadata": {},
   "source": [
    "# 3. Изучение и проверка данных "
   ]
  },
  {
   "cell_type": "markdown",
   "metadata": {},
   "source": [
    "#### Сколько всего событий в логе?"
   ]
  },
  {
   "cell_type": "markdown",
   "metadata": {},
   "source": [
    "Поскольку в датасете каждая строка обозначает определенное событие в логе, то начиная с 2019-07-25 04:43:36 по 2019-08-07 21:15:17, собыий в логе 244125."
   ]
  },
  {
   "cell_type": "markdown",
   "metadata": {},
   "source": [
    "#### Сколько всего пользователей в логе?"
   ]
  },
  {
   "cell_type": "code",
   "execution_count": 8,
   "metadata": {},
   "outputs": [
    {
     "data": {
      "text/plain": [
       "7551"
      ]
     },
     "execution_count": 8,
     "metadata": {},
     "output_type": "execute_result"
    }
   ],
   "source": [
    "# Выведем новую переменную, обозначающую кол-во уникальных пользователей в нашем датасете. \n",
    "unique_UserId = data['UserId'].nunique()\n",
    "unique_UserId"
   ]
  },
  {
   "cell_type": "markdown",
   "metadata": {},
   "source": [
    "Пользователей всего в логе - 7551. "
   ]
  },
  {
   "cell_type": "markdown",
   "metadata": {},
   "source": [
    "#### Сколько в среднем событий приходится на пользователя?"
   ]
  },
  {
   "cell_type": "code",
   "execution_count": 9,
   "metadata": {},
   "outputs": [
    {
     "data": {
      "text/plain": [
       "32.33028737915508"
      ]
     },
     "execution_count": 9,
     "metadata": {},
     "output_type": "execute_result"
    }
   ],
   "source": [
    "# Подсчитаем общее количество событий\n",
    "total_events = data.shape[0]\n",
    "\n",
    "# Подсчитаем количество уникальных пользователей\n",
    "unique_UserId = data['UserId'].nunique()\n",
    "\n",
    "# Рассчитаем среднее количество событий на пользователя\n",
    "average_events_per_user = total_events / unique_UserId\n",
    "\n",
    "average_events_per_user"
   ]
  },
  {
   "cell_type": "markdown",
   "metadata": {},
   "source": [
    "Итак, в среднем на пользователя приходятся порядка 32-33 событий."
   ]
  },
  {
   "cell_type": "markdown",
   "metadata": {},
   "source": [
    "#### Создадим переменную с данными о количестве действий на каждого пользователя."
   ]
  },
  {
   "cell_type": "code",
   "execution_count": 10,
   "metadata": {},
   "outputs": [
    {
     "name": "stdout",
     "output_type": "stream",
     "text": [
      "UserId\n",
      "6888746892508752         1\n",
      "6909561520679493         5\n",
      "6922444491712477        47\n",
      "7435777799948366         6\n",
      "7702139951469979       137\n",
      "                      ... \n",
      "9217594193087726423      9\n",
      "9219463515465815368     17\n",
      "9220879493065341500      7\n",
      "9221926045299980007      7\n",
      "9222603179720523844     59\n",
      "Length: 7551, dtype: int64\n"
     ]
    }
   ],
   "source": [
    "# Подсчет количества действий, совершенных каждым пользователем\n",
    "events_by_users = data.groupby('UserId').size()\n",
    "\n",
    "# Вывести первые несколько строк результата\n",
    "print(events_by_users)"
   ]
  },
  {
   "cell_type": "markdown",
   "metadata": {},
   "source": [
    "**Декомпизируем вопрос с периодом данных:**\n",
    " - Найдем максимальную и минимальную дату\n",
    " - Изучим как меняется количество данных в разрезе группы с помощью диаграммы\n",
    " - Убедимся о полноте и схожести данных за период\n",
    " - В связи с тем, что в логи новых дней по некоторым пользователям могут «доезжать» события из прошлого, то нам нужно определить с какого момента у нас будут истинно полные данные\n",
    " - Выясним много пользователей мы потеряли, отбросив старые данные\n",
    " - Убедимся в наличии всех трех эксперементальных групп."
   ]
  },
  {
   "cell_type": "code",
   "execution_count": 11,
   "metadata": {},
   "outputs": [
    {
     "name": "stdout",
     "output_type": "stream",
     "text": [
      "2019-07-25 04:43:36\n",
      "2019-08-07 21:15:17\n"
     ]
    }
   ],
   "source": [
    "# Найдем минимальную и максимальную дату\n",
    "min_date = data['EventTimeStamp'].min()\n",
    "max_date = data['EventTimeStamp'].max()\n",
    "\n",
    "print(min_date)\n",
    "print(max_date)"
   ]
  },
  {
   "cell_type": "markdown",
   "metadata": {},
   "source": [
    "Минимальная дата - 2019-07-25 04:43:36\n",
    "Максимальная дата - 2019-08-07 21:15:17"
   ]
  },
  {
   "cell_type": "code",
   "execution_count": 12,
   "metadata": {
    "scrolled": false
   },
   "outputs": [
    {
     "data": {
      "image/png": "[encoded data removed]",
      "text/plain": [
       "<Figure size 1296x432 with 1 Axes>"
      ]
     },
     "metadata": {
      "needs_background": "light"
     },
     "output_type": "display_data"
    }
   ],
   "source": [
    "# Найдем доступный период данных\n",
    "plt.figure(figsize=(18, 6))\n",
    "\n",
    "data['EventTimeStamp'].hist(bins=14*24)\n",
    "\n",
    "# Добавить подписи и заголовок\n",
    "plt.xlabel('Дата и время')\n",
    "plt.ylabel('Количество событий')\n",
    "plt.title('Распределение событий по времени')\n",
    "\n",
    "# Показать график\n",
    "plt.show()"
   ]
  },
  {
   "cell_type": "markdown",
   "metadata": {},
   "source": [
    "Вывод напрашивается сам собой. \n",
    "Мы будем использовать данные от 2019-08-01 по 2019-08-08"
   ]
  },
  {
   "cell_type": "markdown",
   "metadata": {},
   "source": [
    "Построим точечный график событий на пользователя."
   ]
  },
  {
   "cell_type": "code",
   "execution_count": 13,
   "metadata": {},
   "outputs": [
    {
     "data": {
      "image/png": "[encoded data removed]",
      "text/plain": [
       "<Figure size 432x288 with 1 Axes>"
      ]
     },
     "metadata": {
      "needs_background": "light"
     },
     "output_type": "display_data"
    }
   ],
   "source": [
    "# Теперь строим точечный график \n",
    "events_per_user = data.groupby('UserId')['EventName'].count().reset_index()\n",
    "\n",
    "# Переименовываем столбцы для удобства\n",
    "events_per_user.columns = ['UserId', 'event_count']\n",
    "\n",
    "# Создаем серию значений для оси X\n",
    "x_values = pd.Series(range(0, len(events_per_user['event_count'])))\n",
    "\n",
    "# Строим точечный график\n",
    "plt.scatter(x_values, events_per_user['event_count'], alpha=0.5, edgecolor='k')\n",
    "\n",
    "# Добавляем заголовок\n",
    "plt.title('График количества событий по пользователям')\n",
    "\n",
    "# Добавляем подписи осей\n",
    "plt.xlabel('Количество пользователей')\n",
    "plt.ylabel('Число событий')\n",
    "\n",
    "# Отображаем график\n",
    "plt.show()"
   ]
  },
  {
   "cell_type": "markdown",
   "metadata": {},
   "source": [
    "Видим бо-о-о-льшие некторые выбросы. "
   ]
  },
  {
   "cell_type": "code",
   "execution_count": 14,
   "metadata": {},
   "outputs": [
    {
     "data": {
      "text/plain": [
       "array([ 64. ,  89. , 200.5])"
      ]
     },
     "execution_count": 14,
     "metadata": {},
     "output_type": "execute_result"
    }
   ],
   "source": [
    "# Выявим перцентили на количество событий на пользователя \n",
    "np.percentile(events_by_users, [90,95,99])"
   ]
  },
  {
   "cell_type": "markdown",
   "metadata": {},
   "source": [
    "Не более 5% пользователей совершают 89 событий. \n",
    "И не более 1% пользователей совершает > 200 событий. \n",
    "\n",
    "Возможно это технические работники/тестировщики, а может быть наши магазин находится на диком Западе и поэтому там все так быстро 🐎"
   ]
  },
  {
   "cell_type": "markdown",
   "metadata": {},
   "source": [
    "Пройдемся по предыдущим шагам снова, только теперь с обновленными данными."
   ]
  },
  {
   "cell_type": "code",
   "execution_count": 15,
   "metadata": {},
   "outputs": [
    {
     "data": {
      "image/png": "[encoded data removed]",
      "text/plain": [
       "<Figure size 1296x432 with 1 Axes>"
      ]
     },
     "metadata": {
      "needs_background": "light"
     },
     "output_type": "display_data"
    }
   ],
   "source": [
    "# Фильтрация по датам: с 2019-08-01 по 2019-08-08\n",
    "start_date = '2019-08-01'\n",
    "end_date = '2019-08-08'\n",
    "filtered_data = data[(data['EventTimeStamp'] >= pd.to_datetime(start_date)) & \n",
    "                     (data['EventTimeStamp'] <= pd.to_datetime(end_date))]\n",
    "\n",
    "# Найдем доступный период данных\n",
    "plt.figure(figsize=(18, 6))\n",
    "\n",
    "filtered_data['EventTimeStamp'].hist(bins=14*24)\n",
    "\n",
    "# Добавить подписи и заголовок\n",
    "plt.xlabel('Дата и время')\n",
    "plt.ylabel('Количество событий')\n",
    "plt.title('Распределение событий по времени')\n",
    "\n",
    "# Показать график\n",
    "plt.show()"
   ]
  },
  {
   "cell_type": "markdown",
   "metadata": {},
   "source": [
    "Обновленный график нам показывает уже более детальную информацию. "
   ]
  },
  {
   "cell_type": "markdown",
   "metadata": {},
   "source": [
    "#### Выясним как много пользователей мы потеряли, отбросив ненужные данные."
   ]
  },
  {
   "cell_type": "markdown",
   "metadata": {},
   "source": [
    "Чтобы выяснить, сколько событий и пользователей было потеряно после фильтрации данных (удаления событий за пределами 2019-08-01 — 2019-08-08), можно сравнить количество событий и пользователей до и после фильтрации."
   ]
  },
  {
   "cell_type": "code",
   "execution_count": 16,
   "metadata": {},
   "outputs": [
    {
     "name": "stdout",
     "output_type": "stream",
     "text": [
      "Потеряно событий: 2828 (1.16%)\n",
      "Потеряно пользователей: 17 (0.23%)\n"
     ]
    }
   ],
   "source": [
    "# Подсчитаем количество событий до фильтрации\n",
    "total_events_before = len(data)\n",
    "# Подсчитаем количество событий после фильтрации\n",
    "total_events_after = len(filtered_data)\n",
    "\n",
    "# Подсчитаем количество уникальных пользователей до фильтрации\n",
    "unique_users_before = data['UserId'].nunique()\n",
    "# Подсчитаем количество уникальных пользователей после фильтрации\n",
    "unique_users_after = filtered_data['UserId'].nunique()\n",
    "\n",
    "# Вычислим разницу в количестве событий и пользователей\n",
    "events_lost = total_events_before - total_events_after\n",
    "users_lost = unique_users_before - unique_users_after\n",
    "\n",
    "# Рассчитаем процент потерь\n",
    "percent_events_lost = (events_lost / total_events_before) * 100\n",
    "percent_users_lost = (users_lost / unique_users_before) * 100\n",
    "\n",
    "# Выведем результаты\n",
    "print(f\"Потеряно событий: {events_lost} ({percent_events_lost:.2f}%)\")\n",
    "print(f\"Потеряно пользователей: {users_lost} ({percent_users_lost:.2f}%)\")"
   ]
  },
  {
   "cell_type": "markdown",
   "metadata": {},
   "source": [
    "Потеряно 1,16% событий за недельный срок. \n",
    "Это не критично.\n",
    "\n",
    "Как и 0,23% пользователей."
   ]
  },
  {
   "cell_type": "markdown",
   "metadata": {},
   "source": [
    "#### Проверим, что у нас есть пользователи всех трех эксперементальных групп."
   ]
  },
  {
   "cell_type": "code",
   "execution_count": 17,
   "metadata": {},
   "outputs": [
    {
     "data": {
      "text/plain": [
       "array([246, 247, 248])"
      ]
     },
     "execution_count": 17,
     "metadata": {},
     "output_type": "execute_result"
    }
   ],
   "source": [
    "filtered_data['ExpId'].unique()"
   ]
  },
  {
   "cell_type": "markdown",
   "metadata": {},
   "source": [
    "Все три эксперементальные группы сохранены в нашем датафрейме. "
   ]
  },
  {
   "cell_type": "markdown",
   "metadata": {},
   "source": [
    "# 4. Изучение воронки событий "
   ]
  },
  {
   "cell_type": "markdown",
   "metadata": {},
   "source": [
    "1. Изучим, какие события есть в наших логах и как часто они встречаются. "
   ]
  },
  {
   "cell_type": "code",
   "execution_count": 18,
   "metadata": {},
   "outputs": [
    {
     "data": {
      "text/plain": [
       "array(['Tutorial', 'MainScreenAppear', 'OffersScreenAppear',\n",
       "       'CartScreenAppear', 'PaymentScreenSuccessful'], dtype=object)"
      ]
     },
     "execution_count": 18,
     "metadata": {},
     "output_type": "execute_result"
    }
   ],
   "source": [
    "filtered_data['EventName'].unique()"
   ]
  },
  {
   "cell_type": "markdown",
   "metadata": {},
   "source": [
    "В нашем логе есть такие события как: \n",
    " - Tutorial\n",
    " - MainScreenAppear\n",
    " - OffersScreenAppear\n",
    " - CartScreenAppear\n",
    " - PaymentScreenSuccessful"
   ]
  },
  {
   "cell_type": "code",
   "execution_count": 19,
   "metadata": {},
   "outputs": [
    {
     "data": {
      "text/plain": [
       "MainScreenAppear           117431\n",
       "OffersScreenAppear          46350\n",
       "CartScreenAppear            42365\n",
       "PaymentScreenSuccessful     34113\n",
       "Tutorial                     1039\n",
       "Name: EventName, dtype: int64"
      ]
     },
     "execution_count": 19,
     "metadata": {},
     "output_type": "execute_result"
    }
   ],
   "source": [
    "event_counts = filtered_data['EventName'].value_counts()\n",
    "event_counts"
   ]
  },
  {
   "cell_type": "markdown",
   "metadata": {},
   "source": [
    "Событие \n",
    "MainScreenAppear встречается 117431 раз   \n",
    "OffersScreenAppear встречается 46350 раз  \n",
    "CartScreenAppear встречается 34113 раз  \n",
    "PaymentScreenSuccessful встречается 21374 раз\n",
    "Tutorial встречается 1039 раз"
   ]
  },
  {
   "cell_type": "code",
   "execution_count": 20,
   "metadata": {},
   "outputs": [],
   "source": [
    "final_data = filtered_data"
   ]
  },
  {
   "cell_type": "markdown",
   "metadata": {},
   "source": [
    "2. Теперь узнаем сколько пользователей совершали каждое из этих событий "
   ]
  },
  {
   "cell_type": "code",
   "execution_count": 21,
   "metadata": {},
   "outputs": [
    {
     "name": "stdout",
     "output_type": "stream",
     "text": [
      "                event_name number_of_events number_of_users share_of_users  \\\n",
      "0         MainScreenAppear          117,431           7,419         98.47%   \n",
      "1       OffersScreenAppear           46,350           4,593         60.96%   \n",
      "2         CartScreenAppear           42,365           3,734         49.56%   \n",
      "3  PaymentScreenSuccessful           34,113           3,539         46.97%   \n",
      "\n",
      "  percent_initial percent_previous  \n",
      "0          98.47%             100%  \n",
      "1          60.96%           61.91%  \n",
      "2          49.56%            81.3%  \n",
      "3          46.97%           94.78%  \n"
     ]
    },
    {
     "data": {
      "text/html": [
       "<div>\n",
       "<style scoped>\n",
       "    .dataframe tbody tr th:only-of-type {\n",
       "        vertical-align: middle;\n",
       "    }\n",
       "\n",
       "    .dataframe tbody tr th {\n",
       "        vertical-align: top;\n",
       "    }\n",
       "\n",
       "    .dataframe thead th {\n",
       "        text-align: right;\n",
       "    }\n",
       "</style>\n",
       "<table border=\"1\" class=\"dataframe\">\n",
       "  <thead>\n",
       "    <tr style=\"text-align: right;\">\n",
       "      <th></th>\n",
       "      <th>event_name</th>\n",
       "      <th>number_of_events</th>\n",
       "      <th>number_of_users</th>\n",
       "      <th>share_of_users</th>\n",
       "      <th>percent_initial</th>\n",
       "      <th>percent_previous</th>\n",
       "    </tr>\n",
       "  </thead>\n",
       "  <tbody>\n",
       "    <tr>\n",
       "      <th>0</th>\n",
       "      <td>MainScreenAppear</td>\n",
       "      <td>117,431</td>\n",
       "      <td>7,419</td>\n",
       "      <td>98.47%</td>\n",
       "      <td>98.47%</td>\n",
       "      <td>100%</td>\n",
       "    </tr>\n",
       "    <tr>\n",
       "      <th>1</th>\n",
       "      <td>OffersScreenAppear</td>\n",
       "      <td>46,350</td>\n",
       "      <td>4,593</td>\n",
       "      <td>60.96%</td>\n",
       "      <td>60.96%</td>\n",
       "      <td>61.91%</td>\n",
       "    </tr>\n",
       "    <tr>\n",
       "      <th>2</th>\n",
       "      <td>CartScreenAppear</td>\n",
       "      <td>42,365</td>\n",
       "      <td>3,734</td>\n",
       "      <td>49.56%</td>\n",
       "      <td>49.56%</td>\n",
       "      <td>81.3%</td>\n",
       "    </tr>\n",
       "    <tr>\n",
       "      <th>3</th>\n",
       "      <td>PaymentScreenSuccessful</td>\n",
       "      <td>34,113</td>\n",
       "      <td>3,539</td>\n",
       "      <td>46.97%</td>\n",
       "      <td>46.97%</td>\n",
       "      <td>94.78%</td>\n",
       "    </tr>\n",
       "  </tbody>\n",
       "</table>\n",
       "</div>"
      ],
      "text/plain": [
       "                event_name number_of_events number_of_users share_of_users  \\\n",
       "0         MainScreenAppear          117,431           7,419         98.47%   \n",
       "1       OffersScreenAppear           46,350           4,593         60.96%   \n",
       "2         CartScreenAppear           42,365           3,734         49.56%   \n",
       "3  PaymentScreenSuccessful           34,113           3,539         46.97%   \n",
       "\n",
       "  percent_initial percent_previous  \n",
       "0          98.47%             100%  \n",
       "1          60.96%           61.91%  \n",
       "2          49.56%            81.3%  \n",
       "3          46.97%           94.78%  "
      ]
     },
     "execution_count": 21,
     "metadata": {},
     "output_type": "execute_result"
    }
   ],
   "source": [
    "import pandas as pd\n",
    "\n",
    "# Список интересующих событий\n",
    "events_of_interest = [\n",
    "    'MainScreenAppear',\n",
    "    'OffersScreenAppear',\n",
    "    'CartScreenAppear',\n",
    "    'PaymentScreenSuccessful'\n",
    "]\n",
    "\n",
    "# Подсчитаем количество уникальных пользователей для каждого события\n",
    "users_per_event = final_data[final_data['EventName'].isin(events_of_interest)].groupby('EventName')['UserId'].nunique()\n",
    "\n",
    "# Подсчитаем количество событий для каждого события\n",
    "events_count = final_data[final_data['EventName'].isin(events_of_interest)]['EventName'].value_counts()\n",
    "\n",
    "# Создадим DataFrame с этими данными\n",
    "result_df = pd.DataFrame({\n",
    "    'event_name': events_count.index,\n",
    "    'number_of_events': events_count.values,\n",
    "    'number_of_users': users_per_event.loc[events_count.index].values\n",
    "})\n",
    "\n",
    "# Рассчитаем дополнительные столбцы\n",
    "total_users = final_data['UserId'].nunique()\n",
    "result_df['share_of_users'] = (result_df['number_of_users'] / total_users * 100).round(2).astype(str) + '%'\n",
    "\n",
    "# Рассчитаем процент начального и предыдущего события\n",
    "result_df['percent_initial'] = (result_df['number_of_users'] / total_users * 100).round(2).astype(str) + '%'\n",
    "result_df['percent_previous'] = (result_df['number_of_users'] / result_df['number_of_users'].shift(1) * 100).round(2).astype(str) + '%'\n",
    "\n",
    "# Заполняем NaN значениями для первого события\n",
    "result_df.loc[0, 'percent_previous'] = '100%'\n",
    "\n",
    "# Форматируем столбцы с числами для удобства\n",
    "result_df['number_of_events'] = result_df['number_of_events'].apply(lambda x: f'{x:,}')\n",
    "result_df['number_of_users'] = result_df['number_of_users'].apply(lambda x: f'{x:,}')\n",
    "\n",
    "# Отсортируем по количеству пользователей\n",
    "result_df = result_df.sort_values(by='number_of_users', ascending=False).reset_index(drop=True)\n",
    "\n",
    "# Выводим итоговую таблицу\n",
    "print(result_df)\n",
    "import pandas as pd\n",
    "\n",
    "# Список интересующих событий\n",
    "events_of_interest = [\n",
    "    'MainScreenAppear',\n",
    "    'OffersScreenAppear',\n",
    "    'CartScreenAppear',\n",
    "    'PaymentScreenSuccessful'\n",
    "]\n",
    "\n",
    "# Подсчитаем количество уникальных пользователей для каждого события\n",
    "users_per_event = final_data[final_data['EventName'].isin(events_of_interest)].groupby('EventName')['UserId'].nunique()\n",
    "\n",
    "# Подсчитаем количество событий для каждого события\n",
    "events_count = final_data[final_data['EventName'].isin(events_of_interest)]['EventName'].value_counts()\n",
    "\n",
    "# Создадим DataFrame с этими данными\n",
    "result_df = pd.DataFrame({\n",
    "    'event_name': events_count.index,\n",
    "    'number_of_events': events_count.values,\n",
    "    'number_of_users': users_per_event.loc[events_count.index].values\n",
    "})\n",
    "\n",
    "# Рассчитаем дополнительные столбцы\n",
    "total_users = final_data['UserId'].nunique()\n",
    "result_df['share_of_users'] = (result_df['number_of_users'] / total_users * 100).round(2).astype(str) + '%'\n",
    "\n",
    "# Рассчитаем процент начального и предыдущего события\n",
    "result_df['percent_initial'] = (result_df['number_of_users'] / total_users * 100).round(2).astype(str) + '%'\n",
    "result_df['percent_previous'] = (result_df['number_of_users'] / result_df['number_of_users'].shift(1) * 100).round(2).astype(str) + '%'\n",
    "\n",
    "# Заполняем NaN значениями для первого события\n",
    "result_df.loc[0, 'percent_previous'] = '100%'\n",
    "\n",
    "# Форматируем столбцы с числами для удобства\n",
    "result_df['number_of_events'] = result_df['number_of_events'].apply(lambda x: f'{x:,}')\n",
    "result_df['number_of_users'] = result_df['number_of_users'].apply(lambda x: f'{x:,}')\n",
    "\n",
    "result_df = result_df.sort_values(by='number_of_users', ascending=False).reset_index(drop=True)\n",
    "\n",
    "result_df"
   ]
  },
  {
   "cell_type": "markdown",
   "metadata": {},
   "source": [
    "3. Ответим на вопрос, все ли события выстраиваются в последовательную цепочку."
   ]
  },
  {
   "cell_type": "markdown",
   "metadata": {},
   "source": [
    "MainScreenAppear — После прохождения или пропуска туториала, пользователь попадает на главный экран приложения. Это следующее логическое событие.\n",
    "\n",
    "OffersScreenAppear — Это событие происходит, когда пользователь переходит на экран предложений, возможно, после изучения главного экрана. Это следующее событие после главного экрана.\n",
    "\n",
    "CartScreenAppear — Пользователь добавляет товары в корзину и переходит к экрану корзины. Это событие должно следует после экрана предложений.\n",
    "\n",
    "PaymentScreenSuccessful — После завершения покупки, появляется экран успешной оплаты. Это последнее событие в цепочке."
   ]
  },
  {
   "cell_type": "markdown",
   "metadata": {},
   "source": [
    "4. Посчитаем какая доля пользователей проходит на следующий шаг воронки (от числа пользователей на предыдущем)."
   ]
  },
  {
   "cell_type": "code",
   "execution_count": 22,
   "metadata": {
    "scrolled": true
   },
   "outputs": [
    {
     "name": "stdout",
     "output_type": "stream",
     "text": [
      "Доля пользователей, которые прошли от MainScreenAppear к OffersScreenAppear: 61.91%\n",
      "Доля пользователей, которые прошли от OffersScreenAppear к CartScreenAppear: 81.30%\n",
      "Доля пользователей, которые прошли от CartScreenAppear к PaymentScreenSuccessful: 94.78%\n"
     ]
    }
   ],
   "source": [
    "# Посчитаем количество уникальных пользователей для каждого события\n",
    "final_data = final_data[final_data['EventName'] != 'Tutorial']\n",
    "unique_users_main_screen = final_data[final_data['EventName'] == 'MainScreenAppear']['UserId'].nunique()\n",
    "unique_users_offers_screen = final_data[final_data['EventName'] == 'OffersScreenAppear']['UserId'].nunique()\n",
    "unique_users_cart_screen = final_data[final_data['EventName'] == 'CartScreenAppear']['UserId'].nunique()\n",
    "unique_users_payment_successful = final_data[final_data['EventName'] == 'PaymentScreenSuccessful']['UserId'].nunique()\n",
    "\n",
    "# Расчитаем доли переходов от одного этапа к другому\n",
    "share_offers_screen = unique_users_offers_screen / unique_users_main_screen if unique_users_main_screen else 0\n",
    "share_cart_screen = unique_users_cart_screen / unique_users_offers_screen if unique_users_offers_screen else 0\n",
    "share_payment_successful = unique_users_payment_successful / unique_users_cart_screen if unique_users_cart_screen else 0\n",
    "\n",
    "# Вывод результатов\n",
    "print(f\"Доля пользователей, которые прошли от MainScreenAppear к OffersScreenAppear: {share_offers_screen:.2%}\")\n",
    "print(f\"Доля пользователей, которые прошли от OffersScreenAppear к CartScreenAppear: {share_cart_screen:.2%}\")\n",
    "print(f\"Доля пользователей, которые прошли от CartScreenAppear к PaymentScreenSuccessful: {share_payment_successful:.2%}\")"
   ]
  },
  {
   "cell_type": "markdown",
   "metadata": {},
   "source": [
    "Мы наблюдаем, что наибольшую долю пользователей мы теряем: \n",
    "1. Которые были на шаге MainScreenAppear к OffersScreenAppear.\n",
    " затем\n",
    "2. Которые были на шаге OffersScreenAppear к CartScreenAppear. \n",
    " \n",
    "Исходя из результатов, мы усматриваем, что\n",
    "1. Переход от MainScreenAppear к OffersScreenAppear:\n",
    "Доля пользователей, которые после просмотра главного экрана (MainScreenAppear) переходят к экрану предложений (OffersScreenAppear), составляет 61.91%. Это означает, что более половины пользователей, начавших с главного экрана, проявляют интерес к дальнейшему взаимодействию с приложением и переходят к просмотру предложений.\n",
    "\n",
    "2. Переход от OffersScreenAppear к CartScreenAppear:\n",
    "Доля пользователей, которые после просмотра предложений (OffersScreenAppear) переходят к добавлению товаров в корзину (CartScreenAppear), составляет 81.30%. Этот шаг показывает, что значительное количество пользователей, заинтересовавшихся предложениями, предпринимают действие и добавляют товары в корзину. Высокий процент переходов на этом этапе говорит о том, что предложения достаточно привлекательны и стимулируют пользователей к покупке.\n",
    "\n",
    "3. Переход от CartScreenAppear к PaymentScreenSuccessful:\n",
    "Доля пользователей, которые после добавления товаров в корзину (CartScreenAppear) успешно завершают оплату (PaymentScreenSuccessful), составляет 94.78%. Это очень высокий процент, указывающий на то, что большинство пользователей, дошедших до этапа оформления заказа, завершают процесс покупки.\n",
    "\n",
    "Воронка пользователей в приложении показывает, что после начального шага (MainScreenAppear) значительное число пользователей (61.91%) продолжают свое путешествие в приложении, переходя к просмотру предложений. На следующих этапах (переход от OffersScreenAppear к CartScreenAppear и от CartScreenAppear к PaymentScreenSuccessful) доли переходов еще выше, что свидетельствует о высокой вовлеченности и мотивации пользователей в процессе покупки."
   ]
  },
  {
   "cell_type": "markdown",
   "metadata": {},
   "source": [
    "5. Изучим какая доля пользователей доходит от первого события до оплаты. "
   ]
  },
  {
   "cell_type": "code",
   "execution_count": 23,
   "metadata": {},
   "outputs": [
    {
     "name": "stdout",
     "output_type": "stream",
     "text": [
      "Доля пользователей, которые дошли от Tutorial до PaymentScreenSuccessful: 47.70%\n"
     ]
    }
   ],
   "source": [
    "# Считаем количество уникальных пользователей для первого и последнего события в воронке\n",
    "unique_users_tutorial = final_data[final_data['EventName'] == 'MainScreenAppear']['UserId'].nunique()\n",
    "unique_users_payment_successful = final_data[final_data['EventName'] == 'PaymentScreenSuccessful']['UserId'].nunique()\n",
    "\n",
    "# Рассчитываем долю пользователей, которые дошли до оплаты\n",
    "share_tutorial_to_payment = unique_users_payment_successful / unique_users_tutorial if unique_users_tutorial else 0\n",
    "\n",
    "# Вывод результата\n",
    "print(f\"Доля пользователей, которые дошли от Tutorial до PaymentScreenSuccessful: {share_tutorial_to_payment:.2%}\")\n"
   ]
  },
  {
   "cell_type": "markdown",
   "metadata": {},
   "source": [
    "Только 47.7% пользователей дошли этапа с успешной проведенной оплатой. "
   ]
  },
  {
   "cell_type": "markdown",
   "metadata": {},
   "source": [
    "# 5. Изучим результаты эксперимента"
   ]
  },
  {
   "cell_type": "markdown",
   "metadata": {},
   "source": [
    "1. Выясним сколько пользователей в каждой экспериментальной группе."
   ]
  },
  {
   "cell_type": "code",
   "execution_count": 24,
   "metadata": {},
   "outputs": [
    {
     "name": "stdout",
     "output_type": "stream",
     "text": [
      "Количество уникальных пользователей в группе 246: 2483\n",
      "Количество уникальных пользователей в группе 247: 2512\n",
      "Количество уникальных пользователей в группе 248: 2535\n"
     ]
    }
   ],
   "source": [
    "# Подсчитываем количество уникальных пользователей в каждой экспериментальной группе\n",
    "total_users_group_246 = final_data[final_data['ExpId'] == 246]['UserId'].nunique()\n",
    "total_users_group_247 = final_data[final_data['ExpId'] == 247]['UserId'].nunique()\n",
    "total_users_group_248 = final_data[final_data['ExpId'] == 248]['UserId'].nunique()\n",
    "\n",
    "print(f\"Количество уникальных пользователей в группе 246: {total_users_group_246}\")\n",
    "print(f\"Количество уникальных пользователей в группе 247: {total_users_group_247}\")\n",
    "print(f\"Количество уникальных пользователей в группе 248: {total_users_group_248}\")"
   ]
  },
  {
   "cell_type": "markdown",
   "metadata": {},
   "source": [
    "2. Проверим, находят ли статистические критерии разницу между выборками 246 и 247."
   ]
  },
  {
   "cell_type": "code",
   "execution_count": 25,
   "metadata": {},
   "outputs": [
    {
     "name": "stdout",
     "output_type": "stream",
     "text": [
      "Критерий Манна-Уитни: p-значение = 0.843\n"
     ]
    }
   ],
   "source": [
    "from scipy.stats import mannwhitneyu\n",
    "\n",
    "# Подготовка данных для групп 246 и 247\n",
    "group_246 = final_data[final_data['ExpId'] == 246].groupby('UserId')['EventName'].count()\n",
    "group_247 = final_data[final_data['ExpId'] == 247].groupby('UserId')['EventName'].count()\n",
    "\n",
    "u_stat, p_value_mw = mannwhitneyu(group_246, group_247, alternative='two-sided')\n",
    "print(f\"Критерий Манна-Уитни: p-значение = {p_value_mw:.3f}\")"
   ]
  },
  {
   "cell_type": "markdown",
   "metadata": {},
   "source": [
    "p-значение больше 0.05, то есть статистически значимая разница между группами отсутствует."
   ]
  },
  {
   "cell_type": "markdown",
   "metadata": {},
   "source": [
    "3. Теперь нужно выбрать самое популярное событие.\n",
    " - Посчитать число пользователей, совершивших это событие в каждой из контрольных групп. \n",
    " - Посчитайте долю пользователей, совершивших это событие. \n",
    " - Проверить, будет ли отличие."
   ]
  },
  {
   "cell_type": "code",
   "execution_count": 26,
   "metadata": {},
   "outputs": [
    {
     "data": {
      "text/html": [
       "<div>\n",
       "<style scoped>\n",
       "    .dataframe tbody tr th:only-of-type {\n",
       "        vertical-align: middle;\n",
       "    }\n",
       "\n",
       "    .dataframe tbody tr th {\n",
       "        vertical-align: top;\n",
       "    }\n",
       "\n",
       "    .dataframe thead th {\n",
       "        text-align: right;\n",
       "    }\n",
       "</style>\n",
       "<table border=\"1\" class=\"dataframe\">\n",
       "  <thead>\n",
       "    <tr style=\"text-align: right;\">\n",
       "      <th></th>\n",
       "      <th>EventName</th>\n",
       "      <th>UserId</th>\n",
       "    </tr>\n",
       "  </thead>\n",
       "  <tbody>\n",
       "    <tr>\n",
       "      <th>0</th>\n",
       "      <td>MainScreenAppear</td>\n",
       "      <td>7419</td>\n",
       "    </tr>\n",
       "    <tr>\n",
       "      <th>1</th>\n",
       "      <td>OffersScreenAppear</td>\n",
       "      <td>4593</td>\n",
       "    </tr>\n",
       "    <tr>\n",
       "      <th>2</th>\n",
       "      <td>CartScreenAppear</td>\n",
       "      <td>3734</td>\n",
       "    </tr>\n",
       "    <tr>\n",
       "      <th>3</th>\n",
       "      <td>PaymentScreenSuccessful</td>\n",
       "      <td>3539</td>\n",
       "    </tr>\n",
       "  </tbody>\n",
       "</table>\n",
       "</div>"
      ],
      "text/plain": [
       "                 EventName  UserId\n",
       "0         MainScreenAppear    7419\n",
       "1       OffersScreenAppear    4593\n",
       "2         CartScreenAppear    3734\n",
       "3  PaymentScreenSuccessful    3539"
      ]
     },
     "execution_count": 26,
     "metadata": {},
     "output_type": "execute_result"
    }
   ],
   "source": [
    "# Сгруппируем уникальных пользователей по наиболее повторяющимся событиям\n",
    "data_grouped = (final_data.groupby('EventName')['UserId']\n",
    "                .nunique()\n",
    "                .reset_index()\n",
    "                .sort_values(by='UserId', ascending=False)\n",
    "                .reset_index(drop=True)\n",
    "                )\n",
    "\n",
    "data_grouped"
   ]
  },
  {
   "cell_type": "code",
   "execution_count": 27,
   "metadata": {},
   "outputs": [
    {
     "data": {
      "image/png": "[encoded data removed]",
      "text/plain": [
       "<Figure size 720x360 with 1 Axes>"
      ]
     },
     "metadata": {
      "needs_background": "light"
     },
     "output_type": "display_data"
    }
   ],
   "source": [
    "def addlabels(x,y):\n",
    "    for i in range(len(x)):\n",
    "        plt.text(i, y[i], y[i], ha = 'center')\n",
    "\n",
    "x = data_grouped['EventName']\n",
    "y = data_grouped['UserId']\n",
    "    \n",
    "plt.figure(figsize = (10, 5))\n",
    "\n",
    "plt.bar(x, y)\n",
    "\n",
    "addlabels(x, y)\n",
    "    \n",
    "# Название нашего графика\n",
    "plt.title(\"Количество событий для каждого типа для уникальных пользователей\")\n",
    "    \n",
    "# подпишем оси\n",
    "plt.xlabel(\"Тип события\")\n",
    "plt.ylabel(\"Количество уникальных пользователей\")\n",
    "    \n",
    "plt.show()"
   ]
  },
  {
   "cell_type": "markdown",
   "metadata": {},
   "source": [
    "MainScreenAppear является самым популярным действием. Его и выберем."
   ]
  },
  {
   "cell_type": "markdown",
   "metadata": {},
   "source": [
    "4. Считаем число пользователей, совершивших это событие в каждой из контрольных групп."
   ]
  },
  {
   "cell_type": "code",
   "execution_count": 28,
   "metadata": {},
   "outputs": [
    {
     "name": "stdout",
     "output_type": "stream",
     "text": [
      "Количество пользователей в группе 246, совершивших событие MainScreenAppear: 2450\n",
      "Количество пользователей в группе 247, совершивших событие MainScreenAppear: 2476\n",
      "Количество пользователей в группе 248, совершивших событие MainScreenAppear: 2493\n"
     ]
    }
   ],
   "source": [
    "# Фильтруем данные по событию MainScreenAppear\n",
    "main_screen_data = final_data[final_data['EventName'] == 'MainScreenAppear']\n",
    "\n",
    "# Подсчитываем количество уникальных пользователей в группе 246\n",
    "users_group_246 = main_screen_data[main_screen_data['ExpId'] == 246]['UserId'].nunique()\n",
    "\n",
    "# Подсчитываем количество уникальных пользователей в группе 247\n",
    "users_group_247 = main_screen_data[main_screen_data['ExpId'] == 247]['UserId'].nunique()\n",
    "\n",
    "# Подсчитываем количество уникальных пользователей в группе 248\n",
    "users_group_248 = main_screen_data[main_screen_data['ExpId'] == 248]['UserId'].nunique()\n",
    "\n",
    "print(f\"Количество пользователей в группе 246, совершивших событие MainScreenAppear: {users_group_246}\")\n",
    "print(f\"Количество пользователей в группе 247, совершивших событие MainScreenAppear: {users_group_247}\")\n",
    "print(f\"Количество пользователей в группе 248, совершивших событие MainScreenAppear: {users_group_248}\")"
   ]
  },
  {
   "cell_type": "markdown",
   "metadata": {},
   "source": [
    "5. Посчитаем долю пользователей, совершивших это событие."
   ]
  },
  {
   "cell_type": "code",
   "execution_count": 29,
   "metadata": {},
   "outputs": [
    {
     "name": "stdout",
     "output_type": "stream",
     "text": [
      "Доля пользователей в группе 246, совершивших событие MainScreenAppear: 98.671%\n",
      "Доля пользователей в группе 247, совершивших событие MainScreenAppear: 98.567%\n",
      "Доля пользователей в группе 248, совершивших событие MainScreenAppear: 98.343%\n"
     ]
    }
   ],
   "source": [
    "# Общее количество пользователей в каждой группе\n",
    "total_users_group_246 = final_data[final_data['ExpId'] == 246]['UserId'].nunique()\n",
    "total_users_group_247 = final_data[final_data['ExpId'] == 247]['UserId'].nunique()\n",
    "total_users_group_248 = final_data[final_data['ExpId'] == 248]['UserId'].nunique()\n",
    "\n",
    "# Количество пользователей, совершивших событие MainScreenAppear в каждой группе\n",
    "users_group_246_main_screen = main_screen_data[main_screen_data['ExpId'] == 246]['UserId'].nunique()\n",
    "users_group_247_main_screen = main_screen_data[main_screen_data['ExpId'] == 247]['UserId'].nunique()\n",
    "users_group_248_main_screen = main_screen_data[main_screen_data['ExpId'] == 248]['UserId'].nunique()\n",
    "\n",
    "# Доля пользователей, совершивших событие MainScreenAppear\n",
    "share_group_246 = users_group_246_main_screen / total_users_group_246\n",
    "share_group_247 = users_group_247_main_screen / total_users_group_247\n",
    "share_group_248 = users_group_248_main_screen / total_users_group_248\n",
    "\n",
    "print(f\"Доля пользователей в группе 246, совершивших событие MainScreenAppear: {share_group_246:.3%}\")\n",
    "print(f\"Доля пользователей в группе 247, совершивших событие MainScreenAppear: {share_group_247:.3%}\")\n",
    "print(f\"Доля пользователей в группе 248, совершивших событие MainScreenAppear: {share_group_248:.3%}\")"
   ]
  },
  {
   "cell_type": "markdown",
   "metadata": {},
   "source": [
    "6. Проделаем то же самое, но для других действий с помощью функции."
   ]
  },
  {
   "cell_type": "markdown",
   "metadata": {},
   "source": [
    "**1. Сформулируем гипотезу:**\n",
    "Есть ли статистически значимые различия в доле пользователей, совершивших каждое событие, между двумя контрольными группами (246 и 247).\n",
    "\n",
    "Нулевая гипотеза (H0): Доли пользователей, совершивших событие, одинаковы в группах 246 и 247.  \n",
    "Альтернативная гипотеза (H1): Доли пользователей, совершивших событие, различаются в группах 246 и 247."
   ]
  },
  {
   "cell_type": "markdown",
   "metadata": {},
   "source": [
    "**2. Уровень статистической значимости:**\n",
    "    Мы будем использовать уровень значимости а = 0.05. "
   ]
  },
  {
   "cell_type": "markdown",
   "metadata": {},
   "source": [
    "**3. Выберем тест:**\n",
    "Для проверки различий в долях между двумя группами лучше всего подойдет z-тест для пропорций."
   ]
  },
  {
   "cell_type": "code",
   "execution_count": 30,
   "metadata": {},
   "outputs": [
    {
     "name": "stdout",
     "output_type": "stream",
     "text": [
      "Событие: MainScreenAppear\n",
      "Доля пользователей в группе 246: 98.671%\n",
      "Доля пользователей в группе 247: 98.567%\n",
      "z-статистика: 0.31512, p-значение: 0.75267\n",
      "\n",
      "--------------------------------------------------\n",
      "\n",
      "Различия для события MainScreenAppear не являются статистически значимыми.\n",
      "Событие: OffersScreenAppear\n",
      "Доля пользователей в группе 246: 62.102%\n",
      "Доля пользователей в группе 247: 60.510%\n",
      "z-статистика: 1.15556, p-значение: 0.24786\n",
      "\n",
      "--------------------------------------------------\n",
      "\n",
      "Различия для события OffersScreenAppear не являются статистически значимыми.\n",
      "Событие: CartScreenAppear\n",
      "Доля пользователей в группе 246: 50.987%\n",
      "Доля пользователей в группе 247: 49.283%\n",
      "z-статистика: 1.20378, p-значение: 0.22868\n",
      "\n",
      "--------------------------------------------------\n",
      "\n",
      "Различия для события CartScreenAppear не являются статистически значимыми.\n",
      "Событие: PaymentScreenSuccessful\n",
      "Доля пользователей в группе 246: 48.329%\n",
      "Доля пользователей в группе 247: 46.099%\n",
      "z-статистика: 1.57843, p-значение: 0.11447\n",
      "\n",
      "--------------------------------------------------\n",
      "\n",
      "Различия для события PaymentScreenSuccessful не являются статистически значимыми.\n"
     ]
    }
   ],
   "source": [
    "from statsmodels.stats.proportion import proportions_ztest\n",
    "\n",
    "# Функция для проверки статистической значимости различий между группами\n",
    "def check_statistical_significance(event_name):\n",
    "    # Фильтруем данные по событию\n",
    "    event_data = final_data[final_data['EventName'] == event_name]\n",
    "    \n",
    "    # Общее количество пользователей в каждой группе\n",
    "    total_users_group_246 = final_data[final_data['ExpId'] == 246]['UserId'].nunique()\n",
    "    total_users_group_247 = final_data[final_data['ExpId'] == 247]['UserId'].nunique()\n",
    "\n",
    "    # Количество пользователей, совершивших событие в каждой группе\n",
    "    users_group_246 = event_data[event_data['ExpId'] == 246]['UserId'].nunique()\n",
    "    users_group_247 = event_data[event_data['ExpId'] == 247]['UserId'].nunique()\n",
    "\n",
    "    # Создание массива с количеством успехов и количеством наблюдений\n",
    "    successes = [users_group_246, users_group_247]\n",
    "    observations = [total_users_group_246, total_users_group_247]\n",
    "    \n",
    "    # Z-тест для пропорций\n",
    "    z_stat, p_value = proportions_ztest(successes, observations)\n",
    "\n",
    "    # Вывод результатов\n",
    "    print(f\"Событие: {event_name}\")\n",
    "    print(f\"Доля пользователей в группе 246: {users_group_246 / total_users_group_246:.3%}\")\n",
    "    print(f\"Доля пользователей в группе 247: {users_group_247 / total_users_group_247:.3%}\")\n",
    "    print(f\"z-статистика: {z_stat:.5f}, p-значение: {p_value:.5f}\")\n",
    "    print(\"\\n\" + \"-\"*50 + \"\\n\")\n",
    "    \n",
    "    return p_value\n",
    "\n",
    "# Список событий для анализа\n",
    "events = ['MainScreenAppear', 'OffersScreenAppear', 'CartScreenAppear', 'PaymentScreenSuccessful']\n",
    "\n",
    "# Проверка для каждого события\n",
    "for event in events:\n",
    "    p_value = check_statistical_significance(event)\n",
    "\n",
    "    if p_value < 0.05:\n",
    "        print(f\"Статистически значимые различия найдены для события {event}.\")\n",
    "    else:\n",
    "        print(f\"Различия для события {event} не являются статистически значимыми.\")"
   ]
  },
  {
   "cell_type": "markdown",
   "metadata": {},
   "source": [
    "Исходя из результатов функции, мы наблюдаем, что различие между группами (в каждом событии) статистически достоверное.   \n",
    "Разбивка по группам работает корректно."
   ]
  },
  {
   "cell_type": "markdown",
   "metadata": {},
   "source": [
    "7. Теперь поступим аналогично с группой, в которой использовался измененный шрифт. Сравним результаты с каждой из контрольных групп в отдельности по каждому событию."
   ]
  },
  {
   "cell_type": "code",
   "execution_count": 31,
   "metadata": {},
   "outputs": [
    {
     "name": "stdout",
     "output_type": "stream",
     "text": [
      "Сравнение группы 246 с группой 248\n",
      "\n",
      "Событие: MainScreenAppear\n",
      "Доля пользователей в контрольной группе (246): 98.671%\n",
      "Доля пользователей в экспериментальной группе (248): 98.343%\n",
      "z-статистика: 0.95671, p-значение: 0.33871\n",
      "\n",
      "--------------------------------------------------\n",
      "\n",
      "Различия для события MainScreenAppear между группами 246 и 248 не являются статистически значимыми.\n",
      "Событие: OffersScreenAppear\n",
      "Доля пользователей в контрольной группе (246): 62.102%\n",
      "Доля пользователей в экспериментальной группе (248): 60.394%\n",
      "z-статистика: 1.24149, p-значение: 0.21442\n",
      "\n",
      "--------------------------------------------------\n",
      "\n",
      "Различия для события OffersScreenAppear между группами 246 и 248 не являются статистически значимыми.\n",
      "Событие: CartScreenAppear\n",
      "Доля пользователей в контрольной группе (246): 50.987%\n",
      "Доля пользователей в экспериментальной группе (248): 48.521%\n",
      "z-статистика: 1.74679, p-значение: 0.08067\n",
      "\n",
      "--------------------------------------------------\n",
      "\n",
      "Различия для события CartScreenAppear между группами 246 и 248 не являются статистически значимыми.\n",
      "Событие: PaymentScreenSuccessful\n",
      "Доля пользователей в контрольной группе (246): 48.329%\n",
      "Доля пользователей в экспериментальной группе (248): 46.588%\n",
      "z-статистика: 1.23473, p-значение: 0.21693\n",
      "\n",
      "--------------------------------------------------\n",
      "\n",
      "Различия для события PaymentScreenSuccessful между группами 246 и 248 не являются статистически значимыми.\n",
      "\n",
      "Сравнение группы 247 с группой 248\n",
      "\n",
      "Событие: MainScreenAppear\n",
      "Доля пользователей в контрольной группе (247): 98.567%\n",
      "Доля пользователей в экспериментальной группе (248): 98.343%\n",
      "z-статистика: 0.64412, p-значение: 0.51950\n",
      "\n",
      "--------------------------------------------------\n",
      "\n",
      "Различия для события MainScreenAppear между группами 247 и 248 не являются статистически значимыми.\n",
      "Событие: OffersScreenAppear\n",
      "Доля пользователей в контрольной группе (247): 60.510%\n",
      "Доля пользователей в экспериментальной группе (248): 60.394%\n",
      "z-статистика: 0.08360, p-значение: 0.93338\n",
      "\n",
      "--------------------------------------------------\n",
      "\n",
      "Различия для события OffersScreenAppear между группами 247 и 248 не являются статистически значимыми.\n",
      "Событие: CartScreenAppear\n",
      "Доля пользователей в контрольной группе (247): 49.283%\n",
      "Доля пользователей в экспериментальной группе (248): 48.521%\n",
      "z-статистика: 0.54199, p-значение: 0.58783\n",
      "\n",
      "--------------------------------------------------\n",
      "\n",
      "Различия для события CartScreenAppear между группами 247 и 248 не являются статистически значимыми.\n",
      "Событие: PaymentScreenSuccessful\n",
      "Доля пользователей в контрольной группе (247): 46.099%\n",
      "Доля пользователей в экспериментальной группе (248): 46.588%\n",
      "z-статистика: -0.34836, p-значение: 0.72757\n",
      "\n",
      "--------------------------------------------------\n",
      "\n",
      "Различия для события PaymentScreenSuccessful между группами 247 и 248 не являются статистически значимыми.\n"
     ]
    }
   ],
   "source": [
    "# Функция для проверки статистической значимости различий между контрольной и экспериментальной группами\n",
    "def check_statistical_significance_with_group_248(event_name, control_group, experimental_group=248):\n",
    "    # Фильтруем данные по событию\n",
    "    event_data = final_data[final_data['EventName'] == event_name]\n",
    "    \n",
    "    # Общее количество пользователей в контрольной группе\n",
    "    total_users_control = final_data[final_data['ExpId'] == control_group]['UserId'].nunique()\n",
    "    # Общее количество пользователей в экспериментальной группе\n",
    "    total_users_experimental = final_data[final_data['ExpId'] == experimental_group]['UserId'].nunique()\n",
    "\n",
    "    # Количество пользователей, совершивших событие в контрольной группе\n",
    "    users_control = event_data[event_data['ExpId'] == control_group]['UserId'].nunique()\n",
    "    # Количество пользователей, совершивших событие в экспериментальной группе\n",
    "    users_experimental = event_data[event_data['ExpId'] == experimental_group]['UserId'].nunique()\n",
    "\n",
    "    # Создание массива с количеством успехов и количеством наблюдений\n",
    "    successes = [users_control, users_experimental]\n",
    "    observations = [total_users_control, total_users_experimental]\n",
    "    \n",
    "    # Z-тест для пропорций\n",
    "    z_stat, p_value = proportions_ztest(successes, observations)\n",
    "\n",
    "    # Вывод результатов\n",
    "    print(f\"Событие: {event_name}\")\n",
    "    print(f\"Доля пользователей в контрольной группе ({control_group}): {users_control / total_users_control:.3%}\")\n",
    "    print(f\"Доля пользователей в экспериментальной группе ({experimental_group}): {users_experimental / total_users_experimental:.3%}\")\n",
    "    print(f\"z-статистика: {z_stat:.5f}, p-значение: {p_value:.5f}\")\n",
    "    print(\"\\n\" + \"-\"*50 + \"\\n\")\n",
    "    \n",
    "    return p_value\n",
    "\n",
    "# Список событий для анализа\n",
    "events = ['MainScreenAppear', 'OffersScreenAppear', 'CartScreenAppear', 'PaymentScreenSuccessful']\n",
    "\n",
    "# Проверка для группы 246 против 248\n",
    "print(\"Сравнение группы 246 с группой 248\\n\")\n",
    "for event in events:\n",
    "    p_value = check_statistical_significance_with_group_248(event, 246)\n",
    "\n",
    "    if p_value < 0.05:\n",
    "        print(f\"Статистически значимые различия найдены для события {event} между группами 246 и 248.\")\n",
    "    else:\n",
    "        print(f\"Различия для события {event} между группами 246 и 248 не являются статистически значимыми.\")\n",
    "\n",
    "# Проверка для группы 247 против 248\n",
    "print(\"\\nСравнение группы 247 с группой 248\\n\")\n",
    "for event in events:\n",
    "    p_value = check_statistical_significance_with_group_248(event, 247)\n",
    "\n",
    "    if p_value < 0.05:\n",
    "        print(f\"Статистически значимые различия найдены для события {event} между группами 247 и 248.\")\n",
    "    else:\n",
    "        print(f\"Различия для события {event} между группами 247 и 248 не являются статистически значимыми.\")"
   ]
  },
  {
   "cell_type": "markdown",
   "metadata": {},
   "source": [
    "8. Сравним результаты с объединённой контрольной группой и исследуем полученные результаты."
   ]
  },
  {
   "cell_type": "code",
   "execution_count": 32,
   "metadata": {
    "scrolled": false
   },
   "outputs": [
    {
     "name": "stdout",
     "output_type": "stream",
     "text": [
      "Сравнение объединённой контрольной группы (246 + 247) с группой 248\n",
      "\n",
      "Событие: MainScreenAppear\n",
      "Доля пользователей в объединённой контрольной группе (246 + 247): 98.619%\n",
      "Доля пользователей в экспериментальной группе (248): 98.343%\n",
      "z-статистика: 0.93718, p-значение: 0.34867\n",
      "\n",
      "--------------------------------------------------\n",
      "\n",
      "Различия для события MainScreenAppear между объединённой контрольной группой и группой 248 не являются статистически значимыми.\n",
      "Событие: OffersScreenAppear\n",
      "Доля пользователей в объединённой контрольной группе (246 + 247): 61.301%\n",
      "Доля пользователей в экспериментальной группе (248): 60.394%\n",
      "z-статистика: 0.76239, p-значение: 0.44583\n",
      "\n",
      "--------------------------------------------------\n",
      "\n",
      "Различия для события OffersScreenAppear между объединённой контрольной группой и группой 248 не являются статистически значимыми.\n",
      "Событие: CartScreenAppear\n",
      "Доля пользователей в объединённой контрольной группе (246 + 247): 50.130%\n",
      "Доля пользователей в экспериментальной группе (248): 48.521%\n",
      "z-статистика: 1.32000, p-значение: 0.18684\n",
      "\n",
      "--------------------------------------------------\n",
      "\n",
      "Различия для события CartScreenAppear между объединённой контрольной группой и группой 248 не являются статистически значимыми.\n",
      "Событие: PaymentScreenSuccessful\n",
      "Доля пользователей в объединённой контрольной группе (246 + 247): 47.207%\n",
      "Доля пользователей в экспериментальной группе (248): 46.588%\n",
      "z-статистика: 0.50894, p-значение: 0.61079\n",
      "\n",
      "--------------------------------------------------\n",
      "\n",
      "Различия для события PaymentScreenSuccessful между объединённой контрольной группой и группой 248 не являются статистически значимыми.\n"
     ]
    }
   ],
   "source": [
    "# Функция для проверки статистической значимости различий между объединённой контрольной группой и экспериментальной группой\n",
    "def check_statistical_significance_with_combined_control(event_name, experimental_group=248):\n",
    "    # Фильтруем данные по событию\n",
    "    event_data = final_data[final_data['EventName'] == event_name]\n",
    "    \n",
    "    # Общее количество пользователей в объединённой контрольной группе (246 + 247)\n",
    "    total_users_control = final_data[final_data['ExpId'].isin([246, 247])]['UserId'].nunique()\n",
    "    # Общее количество пользователей в экспериментальной группе\n",
    "    total_users_experimental = final_data[final_data['ExpId'] == experimental_group]['UserId'].nunique()\n",
    "\n",
    "    # Количество пользователей, совершивших событие в объединённой контрольной группе (246 + 247)\n",
    "    users_control = event_data[event_data['ExpId'].isin([246, 247])]['UserId'].nunique()\n",
    "    # Количество пользователей, совершивших событие в экспериментальной группе\n",
    "    users_experimental = event_data[event_data['ExpId'] == experimental_group]['UserId'].nunique()\n",
    "\n",
    "    # Создание массива с количеством успехов и количеством наблюдений\n",
    "    successes = [users_control, users_experimental]\n",
    "    observations = [total_users_control, total_users_experimental]\n",
    "    \n",
    "    # Z-тест для пропорций\n",
    "    z_stat, p_value = proportions_ztest(successes, observations)\n",
    "\n",
    "    # Вывод результатов\n",
    "    print(f\"Событие: {event_name}\")\n",
    "    print(f\"Доля пользователей в объединённой контрольной группе (246 + 247): {users_control / total_users_control:.3%}\")\n",
    "    print(f\"Доля пользователей в экспериментальной группе ({experimental_group}): {users_experimental / total_users_experimental:.3%}\")\n",
    "    print(f\"z-статистика: {z_stat:.5f}, p-значение: {p_value:.5f}\")\n",
    "    print(\"\\n\" + \"-\"*50 + \"\\n\")\n",
    "    \n",
    "    return p_value\n",
    "\n",
    "# Список событий для анализа\n",
    "events = ['MainScreenAppear', 'OffersScreenAppear', 'CartScreenAppear', 'PaymentScreenSuccessful']\n",
    "\n",
    "# Проверка для объединённой контрольной группы против группы 248\n",
    "print(\"Сравнение объединённой контрольной группы (246 + 247) с группой 248\\n\")\n",
    "for event in events:\n",
    "    p_value = check_statistical_significance_with_combined_control(event)\n",
    "\n",
    "    if p_value < 0.05:\n",
    "        print(f\"Статистически значимые различия найдены для события {event} между объединённой контрольной группой и группой 248.\")\n",
    "    else:\n",
    "        print(f\"Различия для события {event} между объединённой контрольной группой и группой 248 не являются статистически значимыми.\")"
   ]
  },
  {
   "cell_type": "markdown",
   "metadata": {},
   "source": [
    "9. Уровень значимости и число проверок:\n",
    "\n",
    "    **Выбранный уровень значимости:** В предыдущих проверках, как правило, использовался уровень значимости 0.05. Однако, поскольку в задаче рассматривается множество проверок, возможно, было бы полезно рассмотреть уровень значимости 0.1 для определения потенциальных эффектов с определенным уровнем доверия.\n",
    "    **Количество проверок:** Всего было выполнено 16 проверок статистических гипотез (по 4 события на 4 сравнения).\n"
   ]
  },
  {
   "cell_type": "markdown",
   "metadata": {},
   "source": [
    "10. Оценка уровня значимости:\n",
    "\n",
    "    Если использовать уровень значимости 0.1, это означает, что в 10% случаев можно ошибочно отклонить нулевую гипотезу. Однако при 20 проверках вероятность ложноположительного результата увеличивается. Чтобы снизить риск ошибок первого рода, стоит либо снизить уровень значимости (например, до 0.05) либо применить коррекцию для множественных тестов, такую как метод Бонферрони."
   ]
  },
  {
   "cell_type": "markdown",
   "metadata": {},
   "source": [
    "11. Поскольку целью теста было проверить, не вызовут ли изменения шрифта негативную реакцию у пользователей и, следовательно, не уменьшатся ли ключевые метрики, такие как: количество пользователей, проходящих через основные этапы взаимодействия с приложением (просмотр главного экрана, просмотр предложений, добавление товара в корзину, успешная оплата).\n",
    "\n",
    "    Проведённый анализ показал, что ни в одной из проверок (как между контрольными группами 246 и 247 и экспериментальной группой 248, так и между объединённой контрольной группой (246 + 247) и экспериментальной группой 248) не было обнаружено статистически значимых различий в доле пользователей, совершивших ключевые события."
   ]
  },
  {
   "cell_type": "markdown",
   "metadata": {},
   "source": [
    "12. **Отсутствие значимых различий между контрольными группами и экспериментальной группой по всем ключевым событиям** означает, что изменение шрифта не привело к значимым изменениям в поведении пользователей. Это свидетельствует о том, что пользователи благоприятно отнеслись к новому шрифту и продолжили использовать приложение в привычном объёме.  \n",
    "    **Отсутствие негативного эффекта (снижения доли пользователей на этапах воронки)** позволяет предположить, что внедрение нового шрифта не ухудшит пользовательский опыт и, следовательно, его можно внедрять.\n",
    "        \n",
    "   **Вывод по A/B тесту:** На основе проведенного A/B теста можно сделать вывод, что изменения шрифта не оказывают негативного влияния на поведение пользователей в приложении. Рекомендуется внедрить новый шрифт, так как это изменение не нарушает пользовательский опыт и может способствовать обновлению визуального стиля без ущерба для ключевых метрик."
   ]
  },
  {
   "cell_type": "markdown",
   "metadata": {},
   "source": [
    "### Итоги\n",
    "Общий вывод по проекту:\n",
    "Цель проекта заключалась в исследовании пути пользователей до покупки и влиянии изменения шрифта на их поведение.\n",
    "\n",
    "Анализ воронки пользователей показал, что только 47.7% пользователей доходят до этапа успешной оплаты. Основные потери происходят на этапе перехода от главного экрана к экрану предложений (61.91% пользователей). Несмотря на это, большинство пользователей, добавивших товар в корзину, успешно завершают покупку (94.78%).\n",
    "\n",
    "Для оценки влияния нового шрифта был проведен A/B тест. Участники были разделены на три группы: две контрольные группы (246 и 247) и одну экспериментальную (248) с новым шрифтом. В результате анализа статистически значимых различий между контрольными группами и группой с измененным шрифтом по ключевым событиям не было обнаружено. Это указывает на то, что новый шрифт не оказывает значимого влияния на поведение пользователей.\n",
    "\n",
    "Заключение: Новый шрифт можно внедрить, так как его использование не ухудшает пользовательский опыт и не влияет на ключевые метрики."
   ]
  }
 ],
 "metadata": {
  "ExecuteTimeLog": [
   {
    "duration": 2247,
    "start_time": "2024-08-22T05:10:24.890Z"
   },
   {
    "duration": 433,
    "start_time": "2024-08-22T05:14:17.320Z"
   },
   {
    "duration": 393,
    "start_time": "2024-08-22T05:14:30.618Z"
   },
   {
    "duration": 455,
    "start_time": "2024-08-22T05:14:44.116Z"
   },
   {
    "duration": 14,
    "start_time": "2024-08-22T05:47:08.269Z"
   },
   {
    "duration": 365,
    "start_time": "2024-08-22T05:48:14.278Z"
   },
   {
    "duration": 325,
    "start_time": "2024-08-22T05:48:20.603Z"
   },
   {
    "duration": 380,
    "start_time": "2024-08-22T05:49:36.448Z"
   },
   {
    "duration": 341,
    "start_time": "2024-08-22T05:49:41.386Z"
   },
   {
    "duration": 382,
    "start_time": "2024-08-22T05:50:16.395Z"
   },
   {
    "duration": 363,
    "start_time": "2024-08-22T05:51:35.633Z"
   },
   {
    "duration": 348,
    "start_time": "2024-08-22T05:51:52.555Z"
   },
   {
    "duration": 414,
    "start_time": "2024-08-22T05:52:31.138Z"
   },
   {
    "duration": 436,
    "start_time": "2024-08-22T05:52:44.988Z"
   },
   {
    "duration": 66,
    "start_time": "2024-08-22T05:52:49.992Z"
   },
   {
    "duration": 331,
    "start_time": "2024-08-22T05:53:03.682Z"
   },
   {
    "duration": 321,
    "start_time": "2024-08-22T06:13:33.672Z"
   },
   {
    "duration": 372,
    "start_time": "2024-08-22T06:13:38.371Z"
   },
   {
    "duration": 392,
    "start_time": "2024-08-22T06:14:49.942Z"
   },
   {
    "duration": 386,
    "start_time": "2024-08-22T06:14:59.694Z"
   },
   {
    "duration": 377,
    "start_time": "2024-08-22T06:15:44.824Z"
   },
   {
    "duration": 352,
    "start_time": "2024-08-22T06:16:25.682Z"
   },
   {
    "duration": 428,
    "start_time": "2024-08-22T06:16:42.557Z"
   },
   {
    "duration": 438,
    "start_time": "2024-08-22T06:18:18.063Z"
   },
   {
    "duration": 432,
    "start_time": "2024-08-22T06:18:25.156Z"
   },
   {
    "duration": 431,
    "start_time": "2024-08-22T06:18:35.491Z"
   },
   {
    "duration": 34,
    "start_time": "2024-08-22T06:18:45.065Z"
   },
   {
    "duration": 26,
    "start_time": "2024-08-22T06:25:22.963Z"
   },
   {
    "duration": 17,
    "start_time": "2024-08-22T06:25:52.304Z"
   },
   {
    "duration": 19,
    "start_time": "2024-08-22T06:26:24.176Z"
   },
   {
    "duration": 18,
    "start_time": "2024-08-22T06:33:22.715Z"
   },
   {
    "duration": 954,
    "start_time": "2024-08-22T06:34:45.227Z"
   },
   {
    "duration": 37,
    "start_time": "2024-08-22T06:35:27.782Z"
   },
   {
    "duration": 27,
    "start_time": "2024-08-22T06:40:37.698Z"
   },
   {
    "duration": 59,
    "start_time": "2024-08-22T06:40:46.672Z"
   },
   {
    "duration": 2337,
    "start_time": "2024-08-22T06:46:55.717Z"
   },
   {
    "duration": 1001,
    "start_time": "2024-08-22T06:48:14.818Z"
   },
   {
    "duration": 325,
    "start_time": "2024-08-22T07:36:05.841Z"
   },
   {
    "duration": 27,
    "start_time": "2024-08-22T07:37:30.134Z"
   },
   {
    "duration": 259,
    "start_time": "2024-08-22T07:37:50.762Z"
   },
   {
    "duration": 11,
    "start_time": "2024-08-22T07:49:55.366Z"
   },
   {
    "duration": 18,
    "start_time": "2024-08-22T07:49:59.832Z"
   },
   {
    "duration": 18,
    "start_time": "2024-08-22T07:52:02.755Z"
   },
   {
    "duration": 30,
    "start_time": "2024-08-22T07:54:19.272Z"
   },
   {
    "duration": 34,
    "start_time": "2024-08-22T07:55:42.383Z"
   },
   {
    "duration": 20,
    "start_time": "2024-08-22T07:56:01.440Z"
   },
   {
    "duration": 30,
    "start_time": "2024-08-22T07:56:22.780Z"
   },
   {
    "duration": 32,
    "start_time": "2024-08-22T07:56:42.787Z"
   },
   {
    "duration": 62,
    "start_time": "2024-08-22T07:57:11.803Z"
   },
   {
    "duration": 930,
    "start_time": "2024-08-22T07:58:48.594Z"
   },
   {
    "duration": 20,
    "start_time": "2024-08-22T07:59:59.867Z"
   },
   {
    "duration": 41,
    "start_time": "2024-08-22T08:00:10.993Z"
   },
   {
    "duration": 264,
    "start_time": "2024-08-22T08:00:16.452Z"
   },
   {
    "duration": 14,
    "start_time": "2024-08-22T08:00:18.395Z"
   },
   {
    "duration": 62,
    "start_time": "2024-08-22T08:00:53.443Z"
   },
   {
    "duration": 37,
    "start_time": "2024-08-22T08:01:59.497Z"
   },
   {
    "duration": 20,
    "start_time": "2024-08-22T08:05:24.624Z"
   },
   {
    "duration": 52,
    "start_time": "2024-08-22T08:05:25.211Z"
   },
   {
    "duration": 80,
    "start_time": "2024-08-22T08:05:32.879Z"
   },
   {
    "duration": 7,
    "start_time": "2024-08-22T08:13:39.460Z"
   },
   {
    "duration": 33,
    "start_time": "2024-08-22T08:24:12.859Z"
   },
   {
    "duration": 23,
    "start_time": "2024-08-22T08:25:10.394Z"
   },
   {
    "duration": 64,
    "start_time": "2024-08-22T08:25:11.284Z"
   },
   {
    "duration": 60,
    "start_time": "2024-08-22T08:25:12.824Z"
   },
   {
    "duration": 13,
    "start_time": "2024-08-22T08:30:11.188Z"
   },
   {
    "duration": 16,
    "start_time": "2024-08-22T08:30:20.508Z"
   },
   {
    "duration": 6,
    "start_time": "2024-08-22T08:35:49.838Z"
   },
   {
    "duration": 7,
    "start_time": "2024-08-22T09:10:34.614Z"
   },
   {
    "duration": 6,
    "start_time": "2024-08-22T09:10:47.482Z"
   },
   {
    "duration": 7,
    "start_time": "2024-08-22T09:11:19.433Z"
   },
   {
    "duration": 65,
    "start_time": "2024-08-22T09:18:08.357Z"
   },
   {
    "duration": 69,
    "start_time": "2024-08-22T09:19:07.490Z"
   },
   {
    "duration": 62,
    "start_time": "2024-08-22T09:19:12.831Z"
   },
   {
    "duration": 262,
    "start_time": "2024-08-22T09:19:53.323Z"
   },
   {
    "duration": 1015,
    "start_time": "2024-08-22T09:20:43.279Z"
   },
   {
    "duration": 990,
    "start_time": "2024-08-22T09:20:56.383Z"
   },
   {
    "duration": 1007,
    "start_time": "2024-08-22T09:21:38.194Z"
   },
   {
    "duration": 982,
    "start_time": "2024-08-22T09:21:46.733Z"
   },
   {
    "duration": 1124,
    "start_time": "2024-08-22T09:22:27.306Z"
   },
   {
    "duration": 255,
    "start_time": "2024-08-22T09:22:38.513Z"
   },
   {
    "duration": 14,
    "start_time": "2024-08-22T09:22:46.335Z"
   },
   {
    "duration": 68,
    "start_time": "2024-08-22T09:22:49.324Z"
   },
   {
    "duration": 48,
    "start_time": "2024-08-22T09:22:50.751Z"
   },
   {
    "duration": 13,
    "start_time": "2024-08-22T09:22:57.256Z"
   },
   {
    "duration": 5,
    "start_time": "2024-08-22T09:23:01.097Z"
   },
   {
    "duration": 8,
    "start_time": "2024-08-22T09:23:01.717Z"
   },
   {
    "duration": 968,
    "start_time": "2024-08-22T09:23:04.666Z"
   },
   {
    "duration": 15,
    "start_time": "2024-08-22T09:42:51.094Z"
   },
   {
    "duration": 14,
    "start_time": "2024-08-22T09:43:50.622Z"
   },
   {
    "duration": 9,
    "start_time": "2024-08-22T09:44:55.788Z"
   },
   {
    "duration": 6,
    "start_time": "2024-08-22T09:46:50.983Z"
   },
   {
    "duration": 10,
    "start_time": "2024-08-22T09:48:10.107Z"
   },
   {
    "duration": 12,
    "start_time": "2024-08-22T09:48:33.090Z"
   },
   {
    "duration": 21,
    "start_time": "2024-08-22T09:48:48.940Z"
   },
   {
    "duration": 970,
    "start_time": "2024-08-22T09:56:37.081Z"
   },
   {
    "duration": 41,
    "start_time": "2024-08-22T09:56:53.214Z"
   },
   {
    "duration": 22,
    "start_time": "2024-08-22T09:57:28.238Z"
   },
   {
    "duration": 48,
    "start_time": "2024-08-22T10:11:28.779Z"
   },
   {
    "duration": 29,
    "start_time": "2024-08-22T10:11:29.258Z"
   },
   {
    "duration": 22,
    "start_time": "2024-08-22T10:17:28.478Z"
   },
   {
    "duration": 16,
    "start_time": "2024-08-22T10:17:44.685Z"
   },
   {
    "duration": 11,
    "start_time": "2024-08-22T10:18:22.848Z"
   },
   {
    "duration": 16,
    "start_time": "2024-08-22T10:20:28.729Z"
   },
   {
    "duration": 13,
    "start_time": "2024-08-22T10:21:24.873Z"
   },
   {
    "duration": 12,
    "start_time": "2024-08-22T10:22:30.108Z"
   },
   {
    "duration": 10,
    "start_time": "2024-08-22T10:22:39.601Z"
   },
   {
    "duration": 19,
    "start_time": "2024-08-22T10:22:44.568Z"
   },
   {
    "duration": 11,
    "start_time": "2024-08-22T10:22:53.416Z"
   },
   {
    "duration": 6,
    "start_time": "2024-08-22T10:24:04.023Z"
   },
   {
    "duration": 36,
    "start_time": "2024-08-22T10:45:25.795Z"
   },
   {
    "duration": 913,
    "start_time": "2024-08-22T10:47:16.336Z"
   },
   {
    "duration": 82,
    "start_time": "2024-08-22T10:47:31.052Z"
   },
   {
    "duration": 71,
    "start_time": "2024-08-22T10:50:32.581Z"
   },
   {
    "duration": 60,
    "start_time": "2024-08-22T10:51:53.773Z"
   },
   {
    "duration": 64,
    "start_time": "2024-08-22T10:53:11.263Z"
   },
   {
    "duration": 61,
    "start_time": "2024-08-22T10:53:57.089Z"
   },
   {
    "duration": 74,
    "start_time": "2024-08-22T10:54:01.234Z"
   },
   {
    "duration": 818,
    "start_time": "2024-08-22T10:56:11.858Z"
   },
   {
    "duration": 18,
    "start_time": "2024-08-22T11:00:27.502Z"
   },
   {
    "duration": 19,
    "start_time": "2024-08-22T11:03:53.481Z"
   },
   {
    "duration": 376,
    "start_time": "2024-08-22T11:04:30.178Z"
   },
   {
    "duration": 77,
    "start_time": "2024-08-22T11:05:28.440Z"
   },
   {
    "duration": 295,
    "start_time": "2024-08-22T11:05:33.806Z"
   },
   {
    "duration": 205,
    "start_time": "2024-08-22T11:06:22.100Z"
   },
   {
    "duration": 8,
    "start_time": "2024-08-22T11:07:16.446Z"
   },
   {
    "duration": 67,
    "start_time": "2024-08-22T11:07:17.944Z"
   },
   {
    "duration": 1028,
    "start_time": "2024-08-22T11:07:18.065Z"
   },
   {
    "duration": 239,
    "start_time": "2024-08-22T11:07:19.096Z"
   },
   {
    "duration": 16,
    "start_time": "2024-08-22T11:10:10.125Z"
   },
   {
    "duration": 6,
    "start_time": "2024-08-22T11:11:34.927Z"
   },
   {
    "duration": 14,
    "start_time": "2024-08-22T11:11:53.490Z"
   },
   {
    "duration": 7,
    "start_time": "2024-08-22T11:11:57.301Z"
   },
   {
    "duration": 6,
    "start_time": "2024-08-22T11:14:07.736Z"
   },
   {
    "duration": 1854,
    "start_time": "2024-08-23T07:57:40.543Z"
   },
   {
    "duration": 18,
    "start_time": "2024-08-23T07:57:42.400Z"
   },
   {
    "duration": 36,
    "start_time": "2024-08-23T07:57:42.419Z"
   },
   {
    "duration": 29,
    "start_time": "2024-08-23T07:57:42.456Z"
   },
   {
    "duration": 19,
    "start_time": "2024-08-23T07:57:42.486Z"
   },
   {
    "duration": 20,
    "start_time": "2024-08-23T07:57:42.507Z"
   },
   {
    "duration": 15,
    "start_time": "2024-08-23T07:57:42.529Z"
   },
   {
    "duration": 21,
    "start_time": "2024-08-23T07:57:42.545Z"
   },
   {
    "duration": 21,
    "start_time": "2024-08-23T07:57:42.567Z"
   },
   {
    "duration": 584,
    "start_time": "2024-08-23T07:57:42.590Z"
   },
   {
    "duration": 169,
    "start_time": "2024-08-23T07:57:43.176Z"
   },
   {
    "duration": 4,
    "start_time": "2024-08-23T07:57:43.346Z"
   },
   {
    "duration": 73,
    "start_time": "2024-08-23T07:57:43.351Z"
   },
   {
    "duration": 555,
    "start_time": "2024-08-23T07:57:43.425Z"
   },
   {
    "duration": 192,
    "start_time": "2024-08-23T07:57:43.981Z"
   },
   {
    "duration": 11,
    "start_time": "2024-08-23T07:57:44.175Z"
   },
   {
    "duration": 12,
    "start_time": "2024-08-23T07:57:44.188Z"
   },
   {
    "duration": 15,
    "start_time": "2024-08-23T08:09:09.011Z"
   },
   {
    "duration": 95,
    "start_time": "2024-08-23T08:09:21.093Z"
   },
   {
    "duration": 15,
    "start_time": "2024-08-23T08:09:33.622Z"
   },
   {
    "duration": 15,
    "start_time": "2024-08-23T08:09:48.797Z"
   },
   {
    "duration": 18,
    "start_time": "2024-08-23T08:09:54.715Z"
   },
   {
    "duration": 18,
    "start_time": "2024-08-23T08:10:07.681Z"
   },
   {
    "duration": 19,
    "start_time": "2024-08-23T08:10:14.480Z"
   },
   {
    "duration": 15,
    "start_time": "2024-08-23T08:10:21.272Z"
   },
   {
    "duration": 12,
    "start_time": "2024-08-23T10:59:34.923Z"
   },
   {
    "duration": 14,
    "start_time": "2024-08-23T10:59:41.647Z"
   },
   {
    "duration": 2032,
    "start_time": "2024-08-24T09:33:26.017Z"
   },
   {
    "duration": 11,
    "start_time": "2024-08-24T09:33:28.051Z"
   },
   {
    "duration": 47,
    "start_time": "2024-08-24T09:33:28.063Z"
   },
   {
    "duration": 36,
    "start_time": "2024-08-24T09:33:28.112Z"
   },
   {
    "duration": 23,
    "start_time": "2024-08-24T09:33:28.151Z"
   },
   {
    "duration": 11,
    "start_time": "2024-08-24T09:33:28.175Z"
   },
   {
    "duration": 23,
    "start_time": "2024-08-24T09:33:28.187Z"
   },
   {
    "duration": 19,
    "start_time": "2024-08-24T09:33:28.211Z"
   },
   {
    "duration": 8,
    "start_time": "2024-08-24T09:33:28.232Z"
   },
   {
    "duration": 679,
    "start_time": "2024-08-24T09:33:28.241Z"
   },
   {
    "duration": 162,
    "start_time": "2024-08-24T09:33:28.921Z"
   },
   {
    "duration": 4,
    "start_time": "2024-08-24T09:33:29.084Z"
   },
   {
    "duration": 70,
    "start_time": "2024-08-24T09:33:29.090Z"
   },
   {
    "duration": 671,
    "start_time": "2024-08-24T09:33:29.162Z"
   },
   {
    "duration": 194,
    "start_time": "2024-08-24T09:33:29.837Z"
   },
   {
    "duration": 14,
    "start_time": "2024-08-24T09:33:30.032Z"
   },
   {
    "duration": 11,
    "start_time": "2024-08-24T09:33:30.047Z"
   },
   {
    "duration": 28,
    "start_time": "2024-08-24T09:33:30.060Z"
   },
   {
    "duration": 44,
    "start_time": "2024-08-24T09:33:30.090Z"
   },
   {
    "duration": 101,
    "start_time": "2024-08-24T10:11:27.106Z"
   },
   {
    "duration": 40,
    "start_time": "2024-08-24T10:11:49.615Z"
   },
   {
    "duration": 26,
    "start_time": "2024-08-24T10:11:56.942Z"
   },
   {
    "duration": 24,
    "start_time": "2024-08-24T10:14:12.027Z"
   },
   {
    "duration": 12,
    "start_time": "2024-08-24T10:15:30.431Z"
   },
   {
    "duration": 67,
    "start_time": "2024-08-24T10:16:00.595Z"
   },
   {
    "duration": 5,
    "start_time": "2024-08-24T10:16:49.077Z"
   },
   {
    "duration": 13,
    "start_time": "2024-08-24T10:17:14.228Z"
   },
   {
    "duration": 4,
    "start_time": "2024-08-24T10:23:40.119Z"
   },
   {
    "duration": 3,
    "start_time": "2024-08-24T10:23:51.462Z"
   },
   {
    "duration": 3,
    "start_time": "2024-08-24T10:24:09.977Z"
   },
   {
    "duration": 14,
    "start_time": "2024-08-24T10:25:23.513Z"
   },
   {
    "duration": 23,
    "start_time": "2024-08-24T10:25:41.295Z"
   },
   {
    "duration": 54,
    "start_time": "2024-08-24T10:57:14.125Z"
   },
   {
    "duration": 59,
    "start_time": "2024-08-24T10:58:16.633Z"
   },
   {
    "duration": 12,
    "start_time": "2024-08-24T11:00:10.833Z"
   },
   {
    "duration": 59,
    "start_time": "2024-08-24T11:01:33.579Z"
   },
   {
    "duration": 12,
    "start_time": "2024-08-24T11:02:12.492Z"
   },
   {
    "duration": 58,
    "start_time": "2024-08-24T11:02:32.890Z"
   },
   {
    "duration": 20,
    "start_time": "2024-08-24T11:16:00.799Z"
   },
   {
    "duration": 30,
    "start_time": "2024-08-24T11:16:28.959Z"
   },
   {
    "duration": 19,
    "start_time": "2024-08-24T11:16:41.174Z"
   },
   {
    "duration": 59,
    "start_time": "2024-08-24T11:23:03.105Z"
   },
   {
    "duration": 64,
    "start_time": "2024-08-24T11:23:23.024Z"
   },
   {
    "duration": 235,
    "start_time": "2024-08-24T11:30:00.725Z"
   },
   {
    "duration": 2194,
    "start_time": "2024-08-25T09:22:49.861Z"
   },
   {
    "duration": 13,
    "start_time": "2024-08-25T09:22:52.057Z"
   },
   {
    "duration": 43,
    "start_time": "2024-08-25T09:22:52.072Z"
   },
   {
    "duration": 40,
    "start_time": "2024-08-25T09:22:52.118Z"
   },
   {
    "duration": 45,
    "start_time": "2024-08-25T09:22:52.160Z"
   },
   {
    "duration": 32,
    "start_time": "2024-08-25T09:22:52.207Z"
   },
   {
    "duration": 4,
    "start_time": "2024-08-25T09:22:52.241Z"
   },
   {
    "duration": 40,
    "start_time": "2024-08-25T09:22:52.246Z"
   },
   {
    "duration": 23,
    "start_time": "2024-08-25T09:22:52.288Z"
   },
   {
    "duration": 786,
    "start_time": "2024-08-25T09:22:52.314Z"
   },
   {
    "duration": 228,
    "start_time": "2024-08-25T09:22:53.102Z"
   },
   {
    "duration": 5,
    "start_time": "2024-08-25T09:22:53.332Z"
   },
   {
    "duration": 78,
    "start_time": "2024-08-25T09:22:53.339Z"
   },
   {
    "duration": 776,
    "start_time": "2024-08-25T09:22:53.419Z"
   },
   {
    "duration": 260,
    "start_time": "2024-08-25T09:22:54.197Z"
   },
   {
    "duration": 16,
    "start_time": "2024-08-25T09:22:54.459Z"
   },
   {
    "duration": 6,
    "start_time": "2024-08-25T09:22:54.476Z"
   },
   {
    "duration": 27,
    "start_time": "2024-08-25T09:22:54.483Z"
   },
   {
    "duration": 28,
    "start_time": "2024-08-25T09:22:54.512Z"
   },
   {
    "duration": 23,
    "start_time": "2024-08-25T09:22:54.542Z"
   },
   {
    "duration": 307,
    "start_time": "2024-08-25T09:22:54.567Z"
   },
   {
    "duration": 97,
    "start_time": "2024-08-25T11:01:44.918Z"
   },
   {
    "duration": 6,
    "start_time": "2024-08-25T11:18:45.729Z"
   },
   {
    "duration": 28,
    "start_time": "2024-08-25T11:19:34.203Z"
   },
   {
    "duration": 7,
    "start_time": "2024-08-25T11:19:53.416Z"
   },
   {
    "duration": 4,
    "start_time": "2024-08-25T11:20:00.663Z"
   },
   {
    "duration": 5,
    "start_time": "2024-08-25T11:20:30.096Z"
   },
   {
    "duration": 117,
    "start_time": "2024-08-25T11:25:01.858Z"
   },
   {
    "duration": 3,
    "start_time": "2024-08-25T11:25:07.326Z"
   },
   {
    "duration": 22,
    "start_time": "2024-08-25T11:50:50.936Z"
   },
   {
    "duration": 29,
    "start_time": "2024-08-25T11:50:57.839Z"
   },
   {
    "duration": 26,
    "start_time": "2024-08-25T11:51:30.700Z"
   },
   {
    "duration": 29,
    "start_time": "2024-08-25T11:51:40.929Z"
   },
   {
    "duration": 19,
    "start_time": "2024-08-25T11:52:43.664Z"
   },
   {
    "duration": 37,
    "start_time": "2024-08-25T12:22:41.830Z"
   },
   {
    "duration": 4,
    "start_time": "2024-08-25T12:23:38.892Z"
   },
   {
    "duration": 4,
    "start_time": "2024-08-25T12:23:49.556Z"
   },
   {
    "duration": 45,
    "start_time": "2024-08-25T12:24:11.508Z"
   },
   {
    "duration": 4,
    "start_time": "2024-08-25T12:24:30.542Z"
   },
   {
    "duration": 42,
    "start_time": "2024-08-25T12:25:32.933Z"
   },
   {
    "duration": 22,
    "start_time": "2024-08-25T12:41:01.504Z"
   },
   {
    "duration": 29,
    "start_time": "2024-08-25T12:45:48.834Z"
   },
   {
    "duration": 32,
    "start_time": "2024-08-25T12:46:24.840Z"
   },
   {
    "duration": 2088,
    "start_time": "2024-08-26T07:02:12.259Z"
   },
   {
    "duration": 12,
    "start_time": "2024-08-26T07:02:14.348Z"
   },
   {
    "duration": 40,
    "start_time": "2024-08-26T07:02:14.362Z"
   },
   {
    "duration": 49,
    "start_time": "2024-08-26T07:02:14.405Z"
   },
   {
    "duration": 26,
    "start_time": "2024-08-26T07:02:14.456Z"
   },
   {
    "duration": 12,
    "start_time": "2024-08-26T07:02:14.484Z"
   },
   {
    "duration": 5,
    "start_time": "2024-08-26T07:02:14.498Z"
   },
   {
    "duration": 18,
    "start_time": "2024-08-26T07:02:14.504Z"
   },
   {
    "duration": 33,
    "start_time": "2024-08-26T07:02:14.523Z"
   },
   {
    "duration": 737,
    "start_time": "2024-08-26T07:02:14.560Z"
   },
   {
    "duration": 183,
    "start_time": "2024-08-26T07:02:15.299Z"
   },
   {
    "duration": 5,
    "start_time": "2024-08-26T07:02:15.484Z"
   },
   {
    "duration": 80,
    "start_time": "2024-08-26T07:02:15.490Z"
   },
   {
    "duration": 770,
    "start_time": "2024-08-26T07:02:15.572Z"
   },
   {
    "duration": 228,
    "start_time": "2024-08-26T07:02:16.344Z"
   },
   {
    "duration": 15,
    "start_time": "2024-08-26T07:02:16.573Z"
   },
   {
    "duration": 5,
    "start_time": "2024-08-26T07:02:16.590Z"
   },
   {
    "duration": 17,
    "start_time": "2024-08-26T07:02:16.596Z"
   },
   {
    "duration": 39,
    "start_time": "2024-08-26T07:02:16.615Z"
   },
   {
    "duration": 36,
    "start_time": "2024-08-26T07:02:16.655Z"
   },
   {
    "duration": 237,
    "start_time": "2024-08-26T07:02:16.693Z"
   },
   {
    "duration": 88,
    "start_time": "2024-08-26T07:02:16.932Z"
   },
   {
    "duration": 50,
    "start_time": "2024-08-26T07:02:17.022Z"
   },
   {
    "duration": 19,
    "start_time": "2024-08-26T07:02:17.074Z"
   },
   {
    "duration": 24,
    "start_time": "2024-08-26T07:02:17.095Z"
   },
   {
    "duration": 95,
    "start_time": "2024-08-26T09:43:13.399Z"
   },
   {
    "duration": 30,
    "start_time": "2024-08-26T09:44:09.874Z"
   },
   {
    "duration": 37,
    "start_time": "2024-08-26T10:19:53.547Z"
   },
   {
    "duration": 34,
    "start_time": "2024-08-26T10:20:22.313Z"
   },
   {
    "duration": 28,
    "start_time": "2024-08-26T10:21:04.680Z"
   },
   {
    "duration": 33,
    "start_time": "2024-08-26T10:21:09.883Z"
   },
   {
    "duration": 200,
    "start_time": "2024-08-26T10:21:16.049Z"
   },
   {
    "duration": 13,
    "start_time": "2024-08-26T10:21:16.252Z"
   },
   {
    "duration": 63,
    "start_time": "2024-08-26T10:21:16.266Z"
   },
   {
    "duration": 36,
    "start_time": "2024-08-26T10:21:16.331Z"
   },
   {
    "duration": 27,
    "start_time": "2024-08-26T10:21:16.368Z"
   },
   {
    "duration": 10,
    "start_time": "2024-08-26T10:21:16.397Z"
   },
   {
    "duration": 8,
    "start_time": "2024-08-26T10:21:16.409Z"
   },
   {
    "duration": 15,
    "start_time": "2024-08-26T10:21:16.418Z"
   },
   {
    "duration": 20,
    "start_time": "2024-08-26T10:21:16.435Z"
   },
   {
    "duration": 583,
    "start_time": "2024-08-26T10:21:16.459Z"
   },
   {
    "duration": 175,
    "start_time": "2024-08-26T10:21:17.044Z"
   },
   {
    "duration": 5,
    "start_time": "2024-08-26T10:21:17.221Z"
   },
   {
    "duration": 67,
    "start_time": "2024-08-26T10:21:17.228Z"
   },
   {
    "duration": 670,
    "start_time": "2024-08-26T10:21:17.296Z"
   },
   {
    "duration": 196,
    "start_time": "2024-08-26T10:21:17.968Z"
   },
   {
    "duration": 11,
    "start_time": "2024-08-26T10:21:18.166Z"
   },
   {
    "duration": 5,
    "start_time": "2024-08-26T10:21:18.178Z"
   },
   {
    "duration": 30,
    "start_time": "2024-08-26T10:21:18.184Z"
   },
   {
    "duration": 21,
    "start_time": "2024-08-26T10:21:18.215Z"
   },
   {
    "duration": 19,
    "start_time": "2024-08-26T10:21:18.253Z"
   },
   {
    "duration": 206,
    "start_time": "2024-08-26T10:21:18.274Z"
   },
   {
    "duration": 84,
    "start_time": "2024-08-26T10:21:18.482Z"
   },
   {
    "duration": 35,
    "start_time": "2024-08-26T10:21:18.568Z"
   },
   {
    "duration": 21,
    "start_time": "2024-08-26T10:21:18.605Z"
   },
   {
    "duration": 48,
    "start_time": "2024-08-26T10:21:18.628Z"
   },
   {
    "duration": 24,
    "start_time": "2024-08-26T10:22:31.910Z"
   },
   {
    "duration": 34,
    "start_time": "2024-08-26T10:22:59.620Z"
   },
   {
    "duration": 74,
    "start_time": "2024-08-26T10:23:09.780Z"
   },
   {
    "duration": 63,
    "start_time": "2024-08-26T10:24:58.471Z"
   },
   {
    "duration": 64,
    "start_time": "2024-08-26T10:25:08.548Z"
   },
   {
    "duration": 39,
    "start_time": "2024-08-26T10:25:22.884Z"
   },
   {
    "duration": 27,
    "start_time": "2024-08-26T10:25:59.860Z"
   },
   {
    "duration": 34,
    "start_time": "2024-08-26T10:26:12.678Z"
   },
   {
    "duration": 14,
    "start_time": "2024-08-26T10:27:27.859Z"
   },
   {
    "duration": 27,
    "start_time": "2024-08-26T10:32:17.509Z"
   },
   {
    "duration": 147,
    "start_time": "2024-08-26T10:32:25.406Z"
   },
   {
    "duration": 37,
    "start_time": "2024-08-26T11:38:37.551Z"
   },
   {
    "duration": 31,
    "start_time": "2024-08-26T11:39:27.854Z"
   },
   {
    "duration": 150,
    "start_time": "2024-08-26T11:42:59.254Z"
   },
   {
    "duration": 32,
    "start_time": "2024-08-26T12:04:37.600Z"
   },
   {
    "duration": 39,
    "start_time": "2024-08-26T12:25:41.657Z"
   },
   {
    "duration": 31,
    "start_time": "2024-08-26T12:25:50.286Z"
   },
   {
    "duration": 26,
    "start_time": "2024-08-26T12:25:58.861Z"
   },
   {
    "duration": 140,
    "start_time": "2024-08-26T12:40:15.321Z"
   },
   {
    "duration": 287,
    "start_time": "2024-08-26T12:55:05.621Z"
   },
   {
    "duration": 176,
    "start_time": "2024-08-26T13:02:57.398Z"
   },
   {
    "duration": 2472,
    "start_time": "2024-08-27T07:39:23.642Z"
   },
   {
    "duration": 11,
    "start_time": "2024-08-27T07:39:26.116Z"
   },
   {
    "duration": 45,
    "start_time": "2024-08-27T07:39:26.128Z"
   },
   {
    "duration": 48,
    "start_time": "2024-08-27T07:39:26.175Z"
   },
   {
    "duration": 42,
    "start_time": "2024-08-27T07:39:26.225Z"
   },
   {
    "duration": 11,
    "start_time": "2024-08-27T07:39:26.270Z"
   },
   {
    "duration": 6,
    "start_time": "2024-08-27T07:39:26.283Z"
   },
   {
    "duration": 13,
    "start_time": "2024-08-27T07:39:26.291Z"
   },
   {
    "duration": 5,
    "start_time": "2024-08-27T07:39:26.306Z"
   },
   {
    "duration": 821,
    "start_time": "2024-08-27T07:39:26.314Z"
   },
   {
    "duration": 190,
    "start_time": "2024-08-27T07:39:27.137Z"
   },
   {
    "duration": 5,
    "start_time": "2024-08-27T07:39:27.329Z"
   },
   {
    "duration": 77,
    "start_time": "2024-08-27T07:39:27.335Z"
   },
   {
    "duration": 767,
    "start_time": "2024-08-27T07:39:27.414Z"
   },
   {
    "duration": 230,
    "start_time": "2024-08-27T07:39:28.182Z"
   },
   {
    "duration": 14,
    "start_time": "2024-08-27T07:39:28.414Z"
   },
   {
    "duration": 5,
    "start_time": "2024-08-27T07:39:28.429Z"
   },
   {
    "duration": 28,
    "start_time": "2024-08-27T07:39:28.436Z"
   },
   {
    "duration": 23,
    "start_time": "2024-08-27T07:39:28.466Z"
   },
   {
    "duration": 39,
    "start_time": "2024-08-27T07:39:28.490Z"
   },
   {
    "duration": 263,
    "start_time": "2024-08-27T07:39:28.530Z"
   },
   {
    "duration": 186,
    "start_time": "2024-08-27T07:39:28.794Z"
   },
   {
    "duration": 0,
    "start_time": "2024-08-27T07:39:28.982Z"
   },
   {
    "duration": 0,
    "start_time": "2024-08-27T07:39:28.983Z"
   },
   {
    "duration": 0,
    "start_time": "2024-08-27T07:39:28.984Z"
   },
   {
    "duration": 0,
    "start_time": "2024-08-27T07:39:28.985Z"
   },
   {
    "duration": 0,
    "start_time": "2024-08-27T07:39:28.986Z"
   },
   {
    "duration": 0,
    "start_time": "2024-08-27T07:39:28.987Z"
   },
   {
    "duration": 0,
    "start_time": "2024-08-27T07:39:28.988Z"
   },
   {
    "duration": 0,
    "start_time": "2024-08-27T07:39:28.989Z"
   },
   {
    "duration": 0,
    "start_time": "2024-08-27T07:39:28.990Z"
   },
   {
    "duration": 0,
    "start_time": "2024-08-27T07:39:28.991Z"
   },
   {
    "duration": 75,
    "start_time": "2024-08-27T07:40:21.390Z"
   },
   {
    "duration": 67,
    "start_time": "2024-08-27T07:40:43.245Z"
   },
   {
    "duration": 37,
    "start_time": "2024-08-27T07:40:49.536Z"
   },
   {
    "duration": 19,
    "start_time": "2024-08-27T07:40:51.616Z"
   },
   {
    "duration": 26,
    "start_time": "2024-08-27T07:40:52.546Z"
   },
   {
    "duration": 38,
    "start_time": "2024-08-27T07:40:53.963Z"
   },
   {
    "duration": 164,
    "start_time": "2024-08-27T07:40:54.596Z"
   },
   {
    "duration": 33,
    "start_time": "2024-08-27T07:40:55.747Z"
   },
   {
    "duration": 30,
    "start_time": "2024-08-27T07:40:56.426Z"
   },
   {
    "duration": 153,
    "start_time": "2024-08-27T07:40:57.132Z"
   },
   {
    "duration": 320,
    "start_time": "2024-08-27T07:40:58.421Z"
   },
   {
    "duration": 195,
    "start_time": "2024-08-27T07:41:04.960Z"
   },
   {
    "duration": 211,
    "start_time": "2024-08-27T08:02:05.840Z"
   },
   {
    "duration": 12,
    "start_time": "2024-08-27T08:02:06.053Z"
   },
   {
    "duration": 40,
    "start_time": "2024-08-27T08:02:06.066Z"
   },
   {
    "duration": 56,
    "start_time": "2024-08-27T08:02:06.108Z"
   },
   {
    "duration": 22,
    "start_time": "2024-08-27T08:02:06.166Z"
   },
   {
    "duration": 7,
    "start_time": "2024-08-27T08:02:06.189Z"
   },
   {
    "duration": 14,
    "start_time": "2024-08-27T08:02:06.198Z"
   },
   {
    "duration": 16,
    "start_time": "2024-08-27T08:02:06.213Z"
   },
   {
    "duration": 6,
    "start_time": "2024-08-27T08:02:06.231Z"
   },
   {
    "duration": 628,
    "start_time": "2024-08-27T08:02:06.253Z"
   },
   {
    "duration": 178,
    "start_time": "2024-08-27T08:02:06.882Z"
   },
   {
    "duration": 5,
    "start_time": "2024-08-27T08:02:07.062Z"
   },
   {
    "duration": 65,
    "start_time": "2024-08-27T08:02:07.068Z"
   },
   {
    "duration": 749,
    "start_time": "2024-08-27T08:02:07.135Z"
   },
   {
    "duration": 204,
    "start_time": "2024-08-27T08:02:07.885Z"
   },
   {
    "duration": 11,
    "start_time": "2024-08-27T08:02:08.091Z"
   },
   {
    "duration": 4,
    "start_time": "2024-08-27T08:02:08.104Z"
   },
   {
    "duration": 41,
    "start_time": "2024-08-27T08:02:08.110Z"
   },
   {
    "duration": 22,
    "start_time": "2024-08-27T08:02:08.153Z"
   },
   {
    "duration": 25,
    "start_time": "2024-08-27T08:02:08.176Z"
   },
   {
    "duration": 233,
    "start_time": "2024-08-27T08:02:08.202Z"
   },
   {
    "duration": 73,
    "start_time": "2024-08-27T08:02:08.437Z"
   },
   {
    "duration": 51,
    "start_time": "2024-08-27T08:02:08.512Z"
   },
   {
    "duration": 19,
    "start_time": "2024-08-27T08:02:08.564Z"
   },
   {
    "duration": 24,
    "start_time": "2024-08-27T08:02:08.585Z"
   },
   {
    "duration": 47,
    "start_time": "2024-08-27T08:02:08.611Z"
   },
   {
    "duration": 174,
    "start_time": "2024-08-27T08:02:08.660Z"
   },
   {
    "duration": 35,
    "start_time": "2024-08-27T08:02:08.837Z"
   },
   {
    "duration": 27,
    "start_time": "2024-08-27T08:02:08.873Z"
   },
   {
    "duration": 162,
    "start_time": "2024-08-27T08:02:08.901Z"
   },
   {
    "duration": 293,
    "start_time": "2024-08-27T08:02:09.065Z"
   },
   {
    "duration": 182,
    "start_time": "2024-08-27T08:02:09.360Z"
   },
   {
    "duration": 5,
    "start_time": "2024-08-27T08:13:11.471Z"
   },
   {
    "duration": 238,
    "start_time": "2024-08-27T08:18:53.925Z"
   },
   {
    "duration": 18,
    "start_time": "2024-08-27T08:19:10.163Z"
   },
   {
    "duration": 155,
    "start_time": "2024-08-27T08:19:45.855Z"
   },
   {
    "duration": 1369,
    "start_time": "2024-08-28T06:18:16.553Z"
   },
   {
    "duration": 12,
    "start_time": "2024-08-28T06:18:17.925Z"
   },
   {
    "duration": 36,
    "start_time": "2024-08-28T06:18:17.939Z"
   },
   {
    "duration": 68,
    "start_time": "2024-08-28T06:18:17.978Z"
   },
   {
    "duration": 24,
    "start_time": "2024-08-28T06:18:18.048Z"
   },
   {
    "duration": 39,
    "start_time": "2024-08-28T06:18:18.074Z"
   },
   {
    "duration": 5,
    "start_time": "2024-08-28T06:18:18.115Z"
   },
   {
    "duration": 22,
    "start_time": "2024-08-28T06:18:18.123Z"
   },
   {
    "duration": 7,
    "start_time": "2024-08-28T06:18:18.146Z"
   },
   {
    "duration": 814,
    "start_time": "2024-08-28T06:18:18.156Z"
   },
   {
    "duration": 201,
    "start_time": "2024-08-28T06:18:18.971Z"
   },
   {
    "duration": 5,
    "start_time": "2024-08-28T06:18:19.174Z"
   },
   {
    "duration": 87,
    "start_time": "2024-08-28T06:18:19.180Z"
   },
   {
    "duration": 804,
    "start_time": "2024-08-28T06:18:19.269Z"
   },
   {
    "duration": 238,
    "start_time": "2024-08-28T06:18:20.075Z"
   },
   {
    "duration": 18,
    "start_time": "2024-08-28T06:18:20.316Z"
   },
   {
    "duration": 5,
    "start_time": "2024-08-28T06:18:20.336Z"
   },
   {
    "duration": 22,
    "start_time": "2024-08-28T06:18:20.342Z"
   },
   {
    "duration": 42,
    "start_time": "2024-08-28T06:18:20.366Z"
   },
   {
    "duration": 37,
    "start_time": "2024-08-28T06:18:20.410Z"
   },
   {
    "duration": 232,
    "start_time": "2024-08-28T06:18:20.449Z"
   },
   {
    "duration": 75,
    "start_time": "2024-08-28T06:18:20.682Z"
   },
   {
    "duration": 49,
    "start_time": "2024-08-28T06:18:20.759Z"
   },
   {
    "duration": 25,
    "start_time": "2024-08-28T06:18:20.811Z"
   },
   {
    "duration": 28,
    "start_time": "2024-08-28T06:18:20.838Z"
   },
   {
    "duration": 64,
    "start_time": "2024-08-28T06:18:20.868Z"
   },
   {
    "duration": 186,
    "start_time": "2024-08-28T06:18:20.934Z"
   },
   {
    "duration": 33,
    "start_time": "2024-08-28T06:18:21.126Z"
   },
   {
    "duration": 29,
    "start_time": "2024-08-28T06:18:21.160Z"
   },
   {
    "duration": 183,
    "start_time": "2024-08-28T06:18:21.207Z"
   },
   {
    "duration": 357,
    "start_time": "2024-08-28T06:18:21.405Z"
   },
   {
    "duration": 225,
    "start_time": "2024-08-28T06:18:21.764Z"
   },
   {
    "duration": 60,
    "start_time": "2024-08-28T07:05:14.131Z"
   },
   {
    "duration": 8,
    "start_time": "2024-08-28T07:13:03.819Z"
   },
   {
    "duration": 1482,
    "start_time": "2024-08-28T07:18:52.832Z"
   },
   {
    "duration": 13,
    "start_time": "2024-08-28T07:18:54.316Z"
   },
   {
    "duration": 76,
    "start_time": "2024-08-28T07:18:54.331Z"
   },
   {
    "duration": 43,
    "start_time": "2024-08-28T07:18:54.409Z"
   },
   {
    "duration": 28,
    "start_time": "2024-08-28T07:18:54.455Z"
   },
   {
    "duration": 43,
    "start_time": "2024-08-28T07:18:54.504Z"
   },
   {
    "duration": 18,
    "start_time": "2024-08-28T07:18:54.549Z"
   },
   {
    "duration": 28,
    "start_time": "2024-08-28T07:18:54.569Z"
   },
   {
    "duration": 19,
    "start_time": "2024-08-28T07:18:54.599Z"
   },
   {
    "duration": 856,
    "start_time": "2024-08-28T07:18:54.620Z"
   },
   {
    "duration": 196,
    "start_time": "2024-08-28T07:18:55.478Z"
   },
   {
    "duration": 6,
    "start_time": "2024-08-28T07:18:55.675Z"
   },
   {
    "duration": 92,
    "start_time": "2024-08-28T07:18:55.684Z"
   },
   {
    "duration": 869,
    "start_time": "2024-08-28T07:18:55.779Z"
   },
   {
    "duration": 311,
    "start_time": "2024-08-28T07:18:56.650Z"
   },
   {
    "duration": 19,
    "start_time": "2024-08-28T07:18:56.964Z"
   },
   {
    "duration": 44,
    "start_time": "2024-08-28T07:18:56.985Z"
   },
   {
    "duration": 18,
    "start_time": "2024-08-28T07:18:57.031Z"
   },
   {
    "duration": 48,
    "start_time": "2024-08-28T07:18:57.051Z"
   },
   {
    "duration": 40,
    "start_time": "2024-08-28T07:18:57.101Z"
   },
   {
    "duration": 234,
    "start_time": "2024-08-28T07:18:57.143Z"
   },
   {
    "duration": 73,
    "start_time": "2024-08-28T07:18:57.379Z"
   },
   {
    "duration": 50,
    "start_time": "2024-08-28T07:18:57.455Z"
   },
   {
    "duration": 18,
    "start_time": "2024-08-28T07:18:57.507Z"
   },
   {
    "duration": 26,
    "start_time": "2024-08-28T07:18:57.527Z"
   },
   {
    "duration": 55,
    "start_time": "2024-08-28T07:18:57.555Z"
   },
   {
    "duration": 177,
    "start_time": "2024-08-28T07:18:57.612Z"
   },
   {
    "duration": 39,
    "start_time": "2024-08-28T07:18:57.791Z"
   },
   {
    "duration": 30,
    "start_time": "2024-08-28T07:18:57.832Z"
   },
   {
    "duration": 182,
    "start_time": "2024-08-28T07:18:57.863Z"
   },
   {
    "duration": 344,
    "start_time": "2024-08-28T07:18:58.047Z"
   },
   {
    "duration": 251,
    "start_time": "2024-08-28T07:18:58.393Z"
   },
   {
    "duration": 77,
    "start_time": "2024-08-28T08:28:23.305Z"
   },
   {
    "duration": 2203,
    "start_time": "2024-08-28T08:36:22.597Z"
   },
   {
    "duration": 12,
    "start_time": "2024-08-28T08:36:24.802Z"
   },
   {
    "duration": 58,
    "start_time": "2024-08-28T08:36:24.815Z"
   },
   {
    "duration": 39,
    "start_time": "2024-08-28T08:36:24.875Z"
   },
   {
    "duration": 41,
    "start_time": "2024-08-28T08:36:24.916Z"
   },
   {
    "duration": 13,
    "start_time": "2024-08-28T08:36:24.959Z"
   },
   {
    "duration": 10,
    "start_time": "2024-08-28T08:36:24.975Z"
   },
   {
    "duration": 22,
    "start_time": "2024-08-28T08:36:24.987Z"
   },
   {
    "duration": 5,
    "start_time": "2024-08-28T08:36:25.011Z"
   },
   {
    "duration": 782,
    "start_time": "2024-08-28T08:36:25.019Z"
   },
   {
    "duration": 215,
    "start_time": "2024-08-28T08:36:25.803Z"
   },
   {
    "duration": 5,
    "start_time": "2024-08-28T08:36:26.020Z"
   },
   {
    "duration": 85,
    "start_time": "2024-08-28T08:36:26.027Z"
   },
   {
    "duration": 821,
    "start_time": "2024-08-28T08:36:26.113Z"
   },
   {
    "duration": 249,
    "start_time": "2024-08-28T08:36:26.936Z"
   },
   {
    "duration": 16,
    "start_time": "2024-08-28T08:36:27.187Z"
   },
   {
    "duration": 5,
    "start_time": "2024-08-28T08:36:27.205Z"
   },
   {
    "duration": 20,
    "start_time": "2024-08-28T08:36:27.212Z"
   },
   {
    "duration": 39,
    "start_time": "2024-08-28T08:36:27.234Z"
   },
   {
    "duration": 22,
    "start_time": "2024-08-28T08:36:27.275Z"
   },
   {
    "duration": 272,
    "start_time": "2024-08-28T08:36:27.300Z"
   },
   {
    "duration": 87,
    "start_time": "2024-08-28T08:36:27.574Z"
   },
   {
    "duration": 39,
    "start_time": "2024-08-28T08:36:27.663Z"
   },
   {
    "duration": 42,
    "start_time": "2024-08-28T08:36:27.704Z"
   },
   {
    "duration": 29,
    "start_time": "2024-08-28T08:36:27.748Z"
   },
   {
    "duration": 44,
    "start_time": "2024-08-28T08:36:27.779Z"
   },
   {
    "duration": 187,
    "start_time": "2024-08-28T08:36:27.825Z"
   },
   {
    "duration": 48,
    "start_time": "2024-08-28T08:36:28.015Z"
   },
   {
    "duration": 46,
    "start_time": "2024-08-28T08:36:28.065Z"
   },
   {
    "duration": 247,
    "start_time": "2024-08-28T08:36:28.113Z"
   },
   {
    "duration": 401,
    "start_time": "2024-08-28T08:36:28.362Z"
   },
   {
    "duration": 208,
    "start_time": "2024-08-28T08:36:28.766Z"
   },
   {
    "duration": 7,
    "start_time": "2024-08-28T10:02:35.469Z"
   },
   {
    "duration": 7,
    "start_time": "2024-08-28T10:02:50.983Z"
   },
   {
    "duration": 97,
    "start_time": "2024-08-28T10:07:33.613Z"
   },
   {
    "duration": 105,
    "start_time": "2024-08-28T10:07:51.331Z"
   },
   {
    "duration": 9,
    "start_time": "2024-08-28T10:12:54.273Z"
   },
   {
    "duration": 50,
    "start_time": "2024-08-28T11:12:40.513Z"
   },
   {
    "duration": 113,
    "start_time": "2024-08-28T11:12:53.283Z"
   },
   {
    "duration": 108,
    "start_time": "2024-08-28T11:13:40.916Z"
   },
   {
    "duration": 207,
    "start_time": "2024-08-28T11:15:39.023Z"
   },
   {
    "duration": 16,
    "start_time": "2024-08-28T11:15:39.233Z"
   },
   {
    "duration": 138,
    "start_time": "2024-08-28T11:15:39.251Z"
   },
   {
    "duration": 35,
    "start_time": "2024-08-28T11:15:39.391Z"
   },
   {
    "duration": 95,
    "start_time": "2024-08-28T11:15:39.429Z"
   },
   {
    "duration": 22,
    "start_time": "2024-08-28T11:15:39.525Z"
   },
   {
    "duration": 8,
    "start_time": "2024-08-28T11:15:39.549Z"
   },
   {
    "duration": 23,
    "start_time": "2024-08-28T11:15:39.559Z"
   },
   {
    "duration": 10,
    "start_time": "2024-08-28T11:15:39.584Z"
   },
   {
    "duration": 683,
    "start_time": "2024-08-28T11:15:39.597Z"
   },
   {
    "duration": 187,
    "start_time": "2024-08-28T11:15:40.282Z"
   },
   {
    "duration": 5,
    "start_time": "2024-08-28T11:15:40.471Z"
   },
   {
    "duration": 60,
    "start_time": "2024-08-28T11:15:40.478Z"
   },
   {
    "duration": 790,
    "start_time": "2024-08-28T11:15:40.545Z"
   },
   {
    "duration": 201,
    "start_time": "2024-08-28T11:15:41.337Z"
   },
   {
    "duration": 11,
    "start_time": "2024-08-28T11:15:41.546Z"
   },
   {
    "duration": 15,
    "start_time": "2024-08-28T11:15:41.559Z"
   },
   {
    "duration": 32,
    "start_time": "2024-08-28T11:15:41.575Z"
   },
   {
    "duration": 59,
    "start_time": "2024-08-28T11:15:41.609Z"
   },
   {
    "duration": 30,
    "start_time": "2024-08-28T11:15:41.670Z"
   },
   {
    "duration": 233,
    "start_time": "2024-08-28T11:21:52.447Z"
   },
   {
    "duration": 13,
    "start_time": "2024-08-28T11:21:52.682Z"
   },
   {
    "duration": 63,
    "start_time": "2024-08-28T11:21:52.698Z"
   },
   {
    "duration": 32,
    "start_time": "2024-08-28T11:21:52.764Z"
   },
   {
    "duration": 107,
    "start_time": "2024-08-28T11:21:52.797Z"
   },
   {
    "duration": 8,
    "start_time": "2024-08-28T11:21:52.905Z"
   },
   {
    "duration": 14,
    "start_time": "2024-08-28T11:21:52.915Z"
   },
   {
    "duration": 27,
    "start_time": "2024-08-28T11:21:52.930Z"
   },
   {
    "duration": 7,
    "start_time": "2024-08-28T11:21:52.959Z"
   },
   {
    "duration": 754,
    "start_time": "2024-08-28T11:21:52.968Z"
   },
   {
    "duration": 175,
    "start_time": "2024-08-28T11:21:53.724Z"
   },
   {
    "duration": 5,
    "start_time": "2024-08-28T11:21:53.900Z"
   },
   {
    "duration": 58,
    "start_time": "2024-08-28T11:21:53.906Z"
   },
   {
    "duration": 644,
    "start_time": "2024-08-28T11:21:53.965Z"
   },
   {
    "duration": 240,
    "start_time": "2024-08-28T11:21:54.612Z"
   },
   {
    "duration": 11,
    "start_time": "2024-08-28T11:21:54.854Z"
   },
   {
    "duration": 5,
    "start_time": "2024-08-28T11:21:54.867Z"
   },
   {
    "duration": 19,
    "start_time": "2024-08-28T11:21:54.874Z"
   },
   {
    "duration": 22,
    "start_time": "2024-08-28T11:21:54.894Z"
   },
   {
    "duration": 48,
    "start_time": "2024-08-28T11:21:54.917Z"
   },
   {
    "duration": 233,
    "start_time": "2024-08-28T11:21:54.967Z"
   },
   {
    "duration": 93,
    "start_time": "2024-08-28T11:21:55.201Z"
   },
   {
    "duration": 37,
    "start_time": "2024-08-28T11:21:55.296Z"
   },
   {
    "duration": 28,
    "start_time": "2024-08-28T11:21:55.334Z"
   },
   {
    "duration": 25,
    "start_time": "2024-08-28T11:21:55.364Z"
   },
   {
    "duration": 26,
    "start_time": "2024-08-28T11:21:55.390Z"
   },
   {
    "duration": 188,
    "start_time": "2024-08-28T11:21:55.417Z"
   },
   {
    "duration": 38,
    "start_time": "2024-08-28T11:21:55.608Z"
   },
   {
    "duration": 27,
    "start_time": "2024-08-28T11:21:55.647Z"
   },
   {
    "duration": 173,
    "start_time": "2024-08-28T11:21:55.676Z"
   },
   {
    "duration": 0,
    "start_time": "2024-08-28T11:21:55.851Z"
   },
   {
    "duration": 0,
    "start_time": "2024-08-28T11:21:55.852Z"
   },
   {
    "duration": 213,
    "start_time": "2024-08-28T11:23:48.129Z"
   },
   {
    "duration": 108,
    "start_time": "2024-08-28T11:28:23.977Z"
   },
   {
    "duration": 211,
    "start_time": "2024-08-28T11:28:38.581Z"
   },
   {
    "duration": 212,
    "start_time": "2024-08-28T11:29:24.992Z"
   },
   {
    "duration": 82,
    "start_time": "2024-08-28T11:29:36.247Z"
   },
   {
    "duration": 24,
    "start_time": "2024-08-28T11:30:00.179Z"
   },
   {
    "duration": 25,
    "start_time": "2024-08-28T11:30:01.584Z"
   },
   {
    "duration": 14,
    "start_time": "2024-08-28T11:30:05.473Z"
   },
   {
    "duration": 288,
    "start_time": "2024-08-28T11:30:42.341Z"
   },
   {
    "duration": 11,
    "start_time": "2024-08-28T11:30:46.761Z"
   },
   {
    "duration": 33,
    "start_time": "2024-08-28T11:30:53.452Z"
   },
   {
    "duration": 23,
    "start_time": "2024-08-28T11:31:11.184Z"
   },
   {
    "duration": 51,
    "start_time": "2024-08-28T11:34:28.850Z"
   },
   {
    "duration": 1031,
    "start_time": "2024-08-28T11:34:52.769Z"
   },
   {
    "duration": 48,
    "start_time": "2024-08-28T11:35:25.881Z"
   },
   {
    "duration": 176,
    "start_time": "2024-08-28T11:35:28.285Z"
   },
   {
    "duration": 34,
    "start_time": "2024-08-28T11:35:52.149Z"
   },
   {
    "duration": 31,
    "start_time": "2024-08-28T11:35:54.657Z"
   },
   {
    "duration": 180,
    "start_time": "2024-08-28T11:36:13.340Z"
   },
   {
    "duration": 149,
    "start_time": "2024-08-28T11:37:25.259Z"
   },
   {
    "duration": 126,
    "start_time": "2024-08-28T11:55:32.192Z"
   },
   {
    "duration": 288,
    "start_time": "2024-08-28T11:59:22.087Z"
   },
   {
    "duration": 179,
    "start_time": "2024-08-28T11:59:35.691Z"
   },
   {
    "duration": 164,
    "start_time": "2024-08-28T12:06:54.039Z"
   },
   {
    "duration": 902,
    "start_time": "2024-08-28T12:14:04.496Z"
   },
   {
    "duration": 13,
    "start_time": "2024-08-28T12:14:18.895Z"
   },
   {
    "duration": 19,
    "start_time": "2024-08-28T12:15:20.675Z"
   },
   {
    "duration": 7,
    "start_time": "2024-08-28T12:15:37.375Z"
   },
   {
    "duration": 7,
    "start_time": "2024-08-28T12:16:27.888Z"
   },
   {
    "duration": 16,
    "start_time": "2024-08-28T12:35:48.282Z"
   },
   {
    "duration": 7,
    "start_time": "2024-08-28T12:36:29.767Z"
   },
   {
    "duration": 687,
    "start_time": "2024-08-28T12:37:26.108Z"
   },
   {
    "duration": 867,
    "start_time": "2024-08-28T12:38:32.535Z"
   },
   {
    "duration": 11,
    "start_time": "2024-08-28T12:39:41.046Z"
   },
   {
    "duration": 1432,
    "start_time": "2024-08-28T12:39:47.093Z"
   },
   {
    "duration": 942,
    "start_time": "2024-08-28T12:40:04.037Z"
   },
   {
    "duration": 826,
    "start_time": "2024-08-28T12:41:04.922Z"
   },
   {
    "duration": 799,
    "start_time": "2024-08-28T12:41:30.803Z"
   },
   {
    "duration": 1088,
    "start_time": "2024-08-28T12:41:40.473Z"
   },
   {
    "duration": 219,
    "start_time": "2024-08-28T12:41:50.065Z"
   },
   {
    "duration": 12,
    "start_time": "2024-08-28T12:41:50.286Z"
   },
   {
    "duration": 52,
    "start_time": "2024-08-28T12:41:50.300Z"
   },
   {
    "duration": 34,
    "start_time": "2024-08-28T12:41:50.360Z"
   },
   {
    "duration": 104,
    "start_time": "2024-08-28T12:41:50.396Z"
   },
   {
    "duration": 15,
    "start_time": "2024-08-28T12:41:50.502Z"
   },
   {
    "duration": 34,
    "start_time": "2024-08-28T12:41:50.519Z"
   },
   {
    "duration": 11,
    "start_time": "2024-08-28T12:41:50.558Z"
   },
   {
    "duration": 9,
    "start_time": "2024-08-28T12:41:50.572Z"
   },
   {
    "duration": 18,
    "start_time": "2024-08-28T12:41:50.585Z"
   },
   {
    "duration": 10,
    "start_time": "2024-08-28T12:41:50.605Z"
   },
   {
    "duration": 854,
    "start_time": "2024-08-28T12:41:50.617Z"
   },
   {
    "duration": 187,
    "start_time": "2024-08-28T12:41:51.473Z"
   },
   {
    "duration": 6,
    "start_time": "2024-08-28T12:41:51.661Z"
   },
   {
    "duration": 739,
    "start_time": "2024-08-28T12:41:51.669Z"
   },
   {
    "duration": 13,
    "start_time": "2024-08-28T12:41:52.411Z"
   },
   {
    "duration": 39,
    "start_time": "2024-08-28T12:41:52.426Z"
   },
   {
    "duration": 20,
    "start_time": "2024-08-28T12:41:52.467Z"
   },
   {
    "duration": 28,
    "start_time": "2024-08-28T12:41:52.489Z"
   },
   {
    "duration": 32,
    "start_time": "2024-08-28T12:41:52.519Z"
   },
   {
    "duration": 241,
    "start_time": "2024-08-28T12:41:52.553Z"
   },
   {
    "duration": 100,
    "start_time": "2024-08-28T12:41:52.795Z"
   },
   {
    "duration": 36,
    "start_time": "2024-08-28T12:41:52.897Z"
   },
   {
    "duration": 36,
    "start_time": "2024-08-28T12:41:52.934Z"
   },
   {
    "duration": 24,
    "start_time": "2024-08-28T12:41:52.972Z"
   },
   {
    "duration": 80,
    "start_time": "2024-08-28T12:41:52.998Z"
   },
   {
    "duration": 180,
    "start_time": "2024-08-28T12:41:53.080Z"
   },
   {
    "duration": 32,
    "start_time": "2024-08-28T12:41:53.263Z"
   },
   {
    "duration": 67,
    "start_time": "2024-08-28T12:41:53.297Z"
   },
   {
    "duration": 134,
    "start_time": "2024-08-28T12:41:53.367Z"
   },
   {
    "duration": 329,
    "start_time": "2024-08-28T12:41:53.503Z"
   },
   {
    "duration": 202,
    "start_time": "2024-08-28T12:41:53.834Z"
   },
   {
    "duration": 54,
    "start_time": "2024-08-28T12:42:53.675Z"
   },
   {
    "duration": 5,
    "start_time": "2024-08-28T12:43:00.215Z"
   },
   {
    "duration": 16,
    "start_time": "2024-08-28T12:43:03.417Z"
   },
   {
    "duration": 20,
    "start_time": "2024-08-28T12:43:05.766Z"
   },
   {
    "duration": 24,
    "start_time": "2024-08-28T12:43:22.634Z"
   },
   {
    "duration": 91,
    "start_time": "2024-08-28T12:43:43.106Z"
   },
   {
    "duration": 6,
    "start_time": "2024-08-28T12:44:07.635Z"
   },
   {
    "duration": 15,
    "start_time": "2024-08-28T12:44:10.301Z"
   },
   {
    "duration": 20,
    "start_time": "2024-08-28T12:44:19.927Z"
   },
   {
    "duration": 13,
    "start_time": "2024-08-28T12:44:33.508Z"
   },
   {
    "duration": 10,
    "start_time": "2024-08-28T12:44:40.760Z"
   },
   {
    "duration": 51,
    "start_time": "2024-08-28T12:44:50.844Z"
   },
   {
    "duration": 8,
    "start_time": "2024-08-28T12:45:44.883Z"
   },
   {
    "duration": 52,
    "start_time": "2024-08-28T12:45:56.342Z"
   },
   {
    "duration": 21,
    "start_time": "2024-08-28T12:46:15.878Z"
   },
   {
    "duration": 9,
    "start_time": "2024-08-28T12:46:20.940Z"
   },
   {
    "duration": 840,
    "start_time": "2024-08-28T12:47:27.012Z"
   },
   {
    "duration": 23,
    "start_time": "2024-08-28T12:47:33.446Z"
   },
   {
    "duration": 11,
    "start_time": "2024-08-28T12:47:42.979Z"
   },
   {
    "duration": 12,
    "start_time": "2024-08-28T12:47:51.357Z"
   },
   {
    "duration": 677,
    "start_time": "2024-08-28T12:49:09.337Z"
   },
   {
    "duration": 12,
    "start_time": "2024-08-28T12:49:25.038Z"
   },
   {
    "duration": 25,
    "start_time": "2024-08-28T12:50:04.856Z"
   },
   {
    "duration": 20,
    "start_time": "2024-08-28T12:50:20.140Z"
   },
   {
    "duration": 24,
    "start_time": "2024-08-28T12:50:41.535Z"
   },
   {
    "duration": 16,
    "start_time": "2024-08-28T12:50:50.048Z"
   },
   {
    "duration": 24,
    "start_time": "2024-08-28T12:51:09.159Z"
   },
   {
    "duration": 26,
    "start_time": "2024-08-28T12:51:17.893Z"
   },
   {
    "duration": 211,
    "start_time": "2024-08-28T12:52:31.441Z"
   },
   {
    "duration": 2,
    "start_time": "2024-08-28T12:53:31.526Z"
   },
   {
    "duration": 236,
    "start_time": "2024-08-28T12:53:39.121Z"
   },
   {
    "duration": 99,
    "start_time": "2024-08-28T12:53:48.951Z"
   },
   {
    "duration": 42,
    "start_time": "2024-08-28T12:53:55.289Z"
   },
   {
    "duration": 28,
    "start_time": "2024-08-28T12:54:10.423Z"
   },
   {
    "duration": 26,
    "start_time": "2024-08-28T12:54:15.901Z"
   },
   {
    "duration": 56,
    "start_time": "2024-08-28T12:54:21.825Z"
   },
   {
    "duration": 156,
    "start_time": "2024-08-28T12:54:32.999Z"
   },
   {
    "duration": 35,
    "start_time": "2024-08-28T12:54:39.153Z"
   },
   {
    "duration": 29,
    "start_time": "2024-08-28T12:54:41.916Z"
   },
   {
    "duration": 138,
    "start_time": "2024-08-28T12:54:51.869Z"
   },
   {
    "duration": 358,
    "start_time": "2024-08-28T12:54:56.349Z"
   },
   {
    "duration": 195,
    "start_time": "2024-08-28T12:55:00.525Z"
   },
   {
    "duration": 285,
    "start_time": "2024-08-28T13:18:34.274Z"
   },
   {
    "duration": 163,
    "start_time": "2024-08-28T13:19:00.783Z"
   },
   {
    "duration": 204,
    "start_time": "2024-08-28T13:19:58.671Z"
   },
   {
    "duration": 10,
    "start_time": "2024-08-28T13:19:58.877Z"
   },
   {
    "duration": 35,
    "start_time": "2024-08-28T13:19:58.888Z"
   },
   {
    "duration": 30,
    "start_time": "2024-08-28T13:19:58.945Z"
   },
   {
    "duration": 88,
    "start_time": "2024-08-28T13:19:58.977Z"
   },
   {
    "duration": 12,
    "start_time": "2024-08-28T13:19:59.067Z"
   },
   {
    "duration": 15,
    "start_time": "2024-08-28T13:19:59.080Z"
   },
   {
    "duration": 23,
    "start_time": "2024-08-28T13:19:59.097Z"
   },
   {
    "duration": 12,
    "start_time": "2024-08-28T13:19:59.121Z"
   },
   {
    "duration": 27,
    "start_time": "2024-08-28T13:19:59.136Z"
   },
   {
    "duration": 29,
    "start_time": "2024-08-28T13:19:59.165Z"
   },
   {
    "duration": 603,
    "start_time": "2024-08-28T13:19:59.196Z"
   },
   {
    "duration": 327,
    "start_time": "2024-08-28T13:19:59.801Z"
   },
   {
    "duration": 6,
    "start_time": "2024-08-28T13:20:00.129Z"
   },
   {
    "duration": 657,
    "start_time": "2024-08-28T13:20:00.147Z"
   },
   {
    "duration": 11,
    "start_time": "2024-08-28T13:20:00.806Z"
   },
   {
    "duration": 28,
    "start_time": "2024-08-28T13:20:00.819Z"
   },
   {
    "duration": 16,
    "start_time": "2024-08-28T13:20:00.849Z"
   },
   {
    "duration": 30,
    "start_time": "2024-08-28T13:20:00.867Z"
   },
   {
    "duration": 24,
    "start_time": "2024-08-28T13:20:00.899Z"
   },
   {
    "duration": 73,
    "start_time": "2024-08-28T13:20:00.925Z"
   },
   {
    "duration": 267,
    "start_time": "2024-08-28T13:20:01.000Z"
   },
   {
    "duration": 110,
    "start_time": "2024-08-28T13:20:01.269Z"
   },
   {
    "duration": 45,
    "start_time": "2024-08-28T13:20:01.381Z"
   },
   {
    "duration": 84,
    "start_time": "2024-08-28T13:20:01.428Z"
   },
   {
    "duration": 27,
    "start_time": "2024-08-28T13:20:01.513Z"
   },
   {
    "duration": 92,
    "start_time": "2024-08-28T13:20:01.541Z"
   },
   {
    "duration": 168,
    "start_time": "2024-08-28T13:20:01.636Z"
   },
   {
    "duration": 46,
    "start_time": "2024-08-28T13:20:01.806Z"
   },
   {
    "duration": 242,
    "start_time": "2024-08-28T13:20:01.854Z"
   },
   {
    "duration": 188,
    "start_time": "2024-08-28T13:20:02.097Z"
   },
   {
    "duration": 298,
    "start_time": "2024-08-28T13:20:02.287Z"
   },
   {
    "duration": 189,
    "start_time": "2024-08-28T13:20:02.588Z"
   },
   {
    "duration": 1909,
    "start_time": "2024-08-29T10:26:39.044Z"
   },
   {
    "duration": 12,
    "start_time": "2024-08-29T10:26:40.955Z"
   },
   {
    "duration": 52,
    "start_time": "2024-08-29T10:26:40.969Z"
   },
   {
    "duration": 28,
    "start_time": "2024-08-29T10:26:41.022Z"
   },
   {
    "duration": 118,
    "start_time": "2024-08-29T10:26:41.052Z"
   },
   {
    "duration": 14,
    "start_time": "2024-08-29T10:26:41.171Z"
   },
   {
    "duration": 5,
    "start_time": "2024-08-29T10:26:41.187Z"
   },
   {
    "duration": 10,
    "start_time": "2024-08-29T10:26:41.206Z"
   },
   {
    "duration": 7,
    "start_time": "2024-08-29T10:26:41.217Z"
   },
   {
    "duration": 33,
    "start_time": "2024-08-29T10:26:41.225Z"
   },
   {
    "duration": 25,
    "start_time": "2024-08-29T10:26:41.260Z"
   },
   {
    "duration": 558,
    "start_time": "2024-08-29T10:26:41.286Z"
   },
   {
    "duration": 142,
    "start_time": "2024-08-29T10:26:41.846Z"
   },
   {
    "duration": 4,
    "start_time": "2024-08-29T10:26:41.990Z"
   },
   {
    "duration": 94,
    "start_time": "2024-08-29T10:26:41.995Z"
   },
   {
    "duration": 0,
    "start_time": "2024-08-29T10:26:42.090Z"
   },
   {
    "duration": 0,
    "start_time": "2024-08-29T10:26:42.091Z"
   },
   {
    "duration": 0,
    "start_time": "2024-08-29T10:26:42.092Z"
   },
   {
    "duration": 0,
    "start_time": "2024-08-29T10:26:42.093Z"
   },
   {
    "duration": 0,
    "start_time": "2024-08-29T10:26:42.094Z"
   },
   {
    "duration": 0,
    "start_time": "2024-08-29T10:26:42.106Z"
   },
   {
    "duration": 0,
    "start_time": "2024-08-29T10:26:42.107Z"
   },
   {
    "duration": 0,
    "start_time": "2024-08-29T10:26:42.108Z"
   },
   {
    "duration": 0,
    "start_time": "2024-08-29T10:26:42.108Z"
   },
   {
    "duration": 0,
    "start_time": "2024-08-29T10:26:42.109Z"
   },
   {
    "duration": 0,
    "start_time": "2024-08-29T10:26:42.110Z"
   },
   {
    "duration": 0,
    "start_time": "2024-08-29T10:26:42.111Z"
   },
   {
    "duration": 0,
    "start_time": "2024-08-29T10:26:42.112Z"
   },
   {
    "duration": 0,
    "start_time": "2024-08-29T10:26:42.112Z"
   },
   {
    "duration": 0,
    "start_time": "2024-08-29T10:26:42.113Z"
   },
   {
    "duration": 0,
    "start_time": "2024-08-29T10:26:42.114Z"
   },
   {
    "duration": 0,
    "start_time": "2024-08-29T10:26:42.116Z"
   },
   {
    "duration": 0,
    "start_time": "2024-08-29T10:26:42.117Z"
   },
   {
    "duration": 1112,
    "start_time": "2024-08-29T10:27:14.222Z"
   },
   {
    "duration": 9,
    "start_time": "2024-08-29T10:27:15.336Z"
   },
   {
    "duration": 88,
    "start_time": "2024-08-29T10:27:15.346Z"
   },
   {
    "duration": 30,
    "start_time": "2024-08-29T10:27:15.435Z"
   },
   {
    "duration": 138,
    "start_time": "2024-08-29T10:27:15.466Z"
   },
   {
    "duration": 12,
    "start_time": "2024-08-29T10:27:15.605Z"
   },
   {
    "duration": 142,
    "start_time": "2024-08-29T10:27:15.618Z"
   },
   {
    "duration": 33,
    "start_time": "2024-08-29T10:27:15.762Z"
   },
   {
    "duration": 6,
    "start_time": "2024-08-29T10:27:15.797Z"
   },
   {
    "duration": 27,
    "start_time": "2024-08-29T10:27:15.804Z"
   },
   {
    "duration": 96,
    "start_time": "2024-08-29T10:27:15.832Z"
   },
   {
    "duration": 554,
    "start_time": "2024-08-29T10:27:15.929Z"
   },
   {
    "duration": 140,
    "start_time": "2024-08-29T10:27:16.484Z"
   },
   {
    "duration": 4,
    "start_time": "2024-08-29T10:27:16.626Z"
   },
   {
    "duration": 95,
    "start_time": "2024-08-29T10:27:16.631Z"
   },
   {
    "duration": 0,
    "start_time": "2024-08-29T10:27:16.727Z"
   },
   {
    "duration": 0,
    "start_time": "2024-08-29T10:27:16.728Z"
   },
   {
    "duration": 0,
    "start_time": "2024-08-29T10:27:16.729Z"
   },
   {
    "duration": 0,
    "start_time": "2024-08-29T10:27:16.730Z"
   },
   {
    "duration": 0,
    "start_time": "2024-08-29T10:27:16.731Z"
   },
   {
    "duration": 0,
    "start_time": "2024-08-29T10:27:16.732Z"
   },
   {
    "duration": 0,
    "start_time": "2024-08-29T10:27:16.733Z"
   },
   {
    "duration": 0,
    "start_time": "2024-08-29T10:27:16.734Z"
   },
   {
    "duration": 0,
    "start_time": "2024-08-29T10:27:16.735Z"
   },
   {
    "duration": 0,
    "start_time": "2024-08-29T10:27:16.736Z"
   },
   {
    "duration": 0,
    "start_time": "2024-08-29T10:27:16.736Z"
   },
   {
    "duration": 1,
    "start_time": "2024-08-29T10:27:16.737Z"
   },
   {
    "duration": 0,
    "start_time": "2024-08-29T10:27:16.738Z"
   },
   {
    "duration": 0,
    "start_time": "2024-08-29T10:27:16.739Z"
   },
   {
    "duration": 0,
    "start_time": "2024-08-29T10:27:16.740Z"
   },
   {
    "duration": 0,
    "start_time": "2024-08-29T10:27:16.741Z"
   },
   {
    "duration": 0,
    "start_time": "2024-08-29T10:27:16.742Z"
   },
   {
    "duration": 0,
    "start_time": "2024-08-29T10:27:16.743Z"
   },
   {
    "duration": 1161,
    "start_time": "2024-08-29T10:33:50.488Z"
   },
   {
    "duration": 9,
    "start_time": "2024-08-29T10:33:51.651Z"
   },
   {
    "duration": 79,
    "start_time": "2024-08-29T10:33:51.661Z"
   },
   {
    "duration": 29,
    "start_time": "2024-08-29T10:33:51.741Z"
   },
   {
    "duration": 86,
    "start_time": "2024-08-29T10:33:51.772Z"
   },
   {
    "duration": 11,
    "start_time": "2024-08-29T10:33:51.859Z"
   },
   {
    "duration": 29,
    "start_time": "2024-08-29T10:33:51.871Z"
   },
   {
    "duration": 38,
    "start_time": "2024-08-29T10:33:51.901Z"
   },
   {
    "duration": 17,
    "start_time": "2024-08-29T10:33:51.940Z"
   },
   {
    "duration": 9,
    "start_time": "2024-08-29T10:33:51.959Z"
   },
   {
    "duration": 6,
    "start_time": "2024-08-29T10:33:51.969Z"
   },
   {
    "duration": 542,
    "start_time": "2024-08-29T10:33:51.976Z"
   },
   {
    "duration": 160,
    "start_time": "2024-08-29T10:33:52.520Z"
   },
   {
    "duration": 4,
    "start_time": "2024-08-29T10:33:52.684Z"
   },
   {
    "duration": 99,
    "start_time": "2024-08-29T10:33:52.689Z"
   },
   {
    "duration": 0,
    "start_time": "2024-08-29T10:33:52.789Z"
   },
   {
    "duration": 0,
    "start_time": "2024-08-29T10:33:52.791Z"
   },
   {
    "duration": 0,
    "start_time": "2024-08-29T10:33:52.792Z"
   },
   {
    "duration": 0,
    "start_time": "2024-08-29T10:33:52.793Z"
   },
   {
    "duration": 0,
    "start_time": "2024-08-29T10:33:52.794Z"
   },
   {
    "duration": 0,
    "start_time": "2024-08-29T10:33:52.795Z"
   },
   {
    "duration": 0,
    "start_time": "2024-08-29T10:33:52.806Z"
   },
   {
    "duration": 0,
    "start_time": "2024-08-29T10:33:52.808Z"
   },
   {
    "duration": 0,
    "start_time": "2024-08-29T10:33:52.809Z"
   },
   {
    "duration": 0,
    "start_time": "2024-08-29T10:33:52.810Z"
   },
   {
    "duration": 0,
    "start_time": "2024-08-29T10:33:52.811Z"
   },
   {
    "duration": 0,
    "start_time": "2024-08-29T10:33:52.812Z"
   },
   {
    "duration": 0,
    "start_time": "2024-08-29T10:33:52.813Z"
   },
   {
    "duration": 0,
    "start_time": "2024-08-29T10:33:52.814Z"
   },
   {
    "duration": 0,
    "start_time": "2024-08-29T10:33:52.816Z"
   },
   {
    "duration": 0,
    "start_time": "2024-08-29T10:33:52.817Z"
   },
   {
    "duration": 0,
    "start_time": "2024-08-29T10:33:52.818Z"
   },
   {
    "duration": 0,
    "start_time": "2024-08-29T10:33:52.819Z"
   },
   {
    "duration": 48,
    "start_time": "2024-08-29T10:43:50.769Z"
   },
   {
    "duration": 2291,
    "start_time": "2024-08-29T10:44:05.194Z"
   },
   {
    "duration": 10,
    "start_time": "2024-08-29T10:44:07.487Z"
   },
   {
    "duration": 36,
    "start_time": "2024-08-29T10:44:07.499Z"
   },
   {
    "duration": 37,
    "start_time": "2024-08-29T10:44:07.537Z"
   },
   {
    "duration": 112,
    "start_time": "2024-08-29T10:44:07.576Z"
   },
   {
    "duration": 12,
    "start_time": "2024-08-29T10:44:07.690Z"
   },
   {
    "duration": 8,
    "start_time": "2024-08-29T10:44:07.704Z"
   },
   {
    "duration": 8,
    "start_time": "2024-08-29T10:44:07.725Z"
   },
   {
    "duration": 8,
    "start_time": "2024-08-29T10:44:07.734Z"
   },
   {
    "duration": 10,
    "start_time": "2024-08-29T10:44:07.744Z"
   },
   {
    "duration": 5,
    "start_time": "2024-08-29T10:44:07.755Z"
   },
   {
    "duration": 684,
    "start_time": "2024-08-29T10:44:07.761Z"
   },
   {
    "duration": 168,
    "start_time": "2024-08-29T10:44:08.446Z"
   },
   {
    "duration": 11,
    "start_time": "2024-08-29T10:44:08.615Z"
   },
   {
    "duration": 106,
    "start_time": "2024-08-29T10:44:08.627Z"
   },
   {
    "duration": 0,
    "start_time": "2024-08-29T10:44:08.735Z"
   },
   {
    "duration": 0,
    "start_time": "2024-08-29T10:44:08.736Z"
   },
   {
    "duration": 0,
    "start_time": "2024-08-29T10:44:08.737Z"
   },
   {
    "duration": 0,
    "start_time": "2024-08-29T10:44:08.738Z"
   },
   {
    "duration": 0,
    "start_time": "2024-08-29T10:44:08.739Z"
   },
   {
    "duration": 0,
    "start_time": "2024-08-29T10:44:08.741Z"
   },
   {
    "duration": 0,
    "start_time": "2024-08-29T10:44:08.741Z"
   },
   {
    "duration": 0,
    "start_time": "2024-08-29T10:44:08.742Z"
   },
   {
    "duration": 0,
    "start_time": "2024-08-29T10:44:08.744Z"
   },
   {
    "duration": 0,
    "start_time": "2024-08-29T10:44:08.744Z"
   },
   {
    "duration": 0,
    "start_time": "2024-08-29T10:44:08.745Z"
   },
   {
    "duration": 0,
    "start_time": "2024-08-29T10:44:08.746Z"
   },
   {
    "duration": 0,
    "start_time": "2024-08-29T10:44:08.747Z"
   },
   {
    "duration": 0,
    "start_time": "2024-08-29T10:44:08.748Z"
   },
   {
    "duration": 0,
    "start_time": "2024-08-29T10:44:08.749Z"
   },
   {
    "duration": 0,
    "start_time": "2024-08-29T10:44:08.750Z"
   },
   {
    "duration": 0,
    "start_time": "2024-08-29T10:44:08.751Z"
   },
   {
    "duration": 0,
    "start_time": "2024-08-29T10:44:08.752Z"
   },
   {
    "duration": 8,
    "start_time": "2024-08-29T10:45:31.323Z"
   },
   {
    "duration": 669,
    "start_time": "2024-08-29T10:46:03.256Z"
   },
   {
    "duration": 10,
    "start_time": "2024-08-29T10:46:19.511Z"
   },
   {
    "duration": 1313,
    "start_time": "2024-08-29T10:48:20.688Z"
   },
   {
    "duration": 592,
    "start_time": "2024-08-29T10:48:48.266Z"
   },
   {
    "duration": 710,
    "start_time": "2024-08-29T10:50:26.070Z"
   },
   {
    "duration": 12,
    "start_time": "2024-08-29T10:50:34.973Z"
   },
   {
    "duration": 1356,
    "start_time": "2024-08-29T10:50:48.718Z"
   },
   {
    "duration": 11,
    "start_time": "2024-08-29T10:50:50.076Z"
   },
   {
    "duration": 55,
    "start_time": "2024-08-29T10:50:50.089Z"
   },
   {
    "duration": 40,
    "start_time": "2024-08-29T10:50:50.146Z"
   },
   {
    "duration": 134,
    "start_time": "2024-08-29T10:50:50.188Z"
   },
   {
    "duration": 13,
    "start_time": "2024-08-29T10:50:50.325Z"
   },
   {
    "duration": 7,
    "start_time": "2024-08-29T10:50:50.340Z"
   },
   {
    "duration": 12,
    "start_time": "2024-08-29T10:50:50.348Z"
   },
   {
    "duration": 7,
    "start_time": "2024-08-29T10:50:50.362Z"
   },
   {
    "duration": 11,
    "start_time": "2024-08-29T10:50:50.371Z"
   },
   {
    "duration": 5,
    "start_time": "2024-08-29T10:50:50.383Z"
   },
   {
    "duration": 689,
    "start_time": "2024-08-29T10:50:50.426Z"
   },
   {
    "duration": 166,
    "start_time": "2024-08-29T10:50:51.125Z"
   },
   {
    "duration": 5,
    "start_time": "2024-08-29T10:50:51.293Z"
   },
   {
    "duration": 699,
    "start_time": "2024-08-29T10:50:51.299Z"
   },
   {
    "duration": 12,
    "start_time": "2024-08-29T10:50:51.999Z"
   },
   {
    "duration": 17,
    "start_time": "2024-08-29T10:50:52.012Z"
   },
   {
    "duration": 18,
    "start_time": "2024-08-29T10:50:52.031Z"
   },
   {
    "duration": 24,
    "start_time": "2024-08-29T10:50:52.050Z"
   },
   {
    "duration": 10,
    "start_time": "2024-08-29T10:50:52.076Z"
   },
   {
    "duration": 268,
    "start_time": "2024-08-29T10:50:52.087Z"
   },
   {
    "duration": 110,
    "start_time": "2024-08-29T10:50:52.357Z"
   },
   {
    "duration": 42,
    "start_time": "2024-08-29T10:50:52.468Z"
   },
   {
    "duration": 33,
    "start_time": "2024-08-29T10:50:52.511Z"
   },
   {
    "duration": 27,
    "start_time": "2024-08-29T10:50:52.545Z"
   },
   {
    "duration": 75,
    "start_time": "2024-08-29T10:50:52.573Z"
   },
   {
    "duration": 158,
    "start_time": "2024-08-29T10:50:52.650Z"
   },
   {
    "duration": 37,
    "start_time": "2024-08-29T10:50:52.811Z"
   },
   {
    "duration": 30,
    "start_time": "2024-08-29T10:50:52.849Z"
   },
   {
    "duration": 163,
    "start_time": "2024-08-29T10:50:52.880Z"
   },
   {
    "duration": 296,
    "start_time": "2024-08-29T10:50:53.044Z"
   },
   {
    "duration": 193,
    "start_time": "2024-08-29T10:50:53.342Z"
   },
   {
    "duration": 2327,
    "start_time": "2024-08-29T21:14:27.763Z"
   },
   {
    "duration": 10,
    "start_time": "2024-08-29T21:14:30.092Z"
   },
   {
    "duration": 96,
    "start_time": "2024-08-29T21:14:30.103Z"
   },
   {
    "duration": 46,
    "start_time": "2024-08-29T21:14:30.200Z"
   },
   {
    "duration": 115,
    "start_time": "2024-08-29T21:14:30.248Z"
   },
   {
    "duration": 13,
    "start_time": "2024-08-29T21:14:30.365Z"
   },
   {
    "duration": 9,
    "start_time": "2024-08-29T21:14:30.380Z"
   },
   {
    "duration": 22,
    "start_time": "2024-08-29T21:14:30.391Z"
   },
   {
    "duration": 19,
    "start_time": "2024-08-29T21:14:30.414Z"
   },
   {
    "duration": 12,
    "start_time": "2024-08-29T21:14:30.435Z"
   },
   {
    "duration": 5,
    "start_time": "2024-08-29T21:14:30.449Z"
   },
   {
    "duration": 727,
    "start_time": "2024-08-29T21:14:30.456Z"
   },
   {
    "duration": 186,
    "start_time": "2024-08-29T21:14:31.184Z"
   },
   {
    "duration": 4,
    "start_time": "2024-08-29T21:14:31.373Z"
   },
   {
    "duration": 725,
    "start_time": "2024-08-29T21:14:31.379Z"
   },
   {
    "duration": 21,
    "start_time": "2024-08-29T21:14:32.105Z"
   },
   {
    "duration": 10,
    "start_time": "2024-08-29T21:14:32.128Z"
   },
   {
    "duration": 18,
    "start_time": "2024-08-29T21:14:32.140Z"
   },
   {
    "duration": 23,
    "start_time": "2024-08-29T21:14:32.159Z"
   },
   {
    "duration": 9,
    "start_time": "2024-08-29T21:14:32.184Z"
   },
   {
    "duration": 287,
    "start_time": "2024-08-29T21:14:32.195Z"
   },
   {
    "duration": 110,
    "start_time": "2024-08-29T21:14:32.483Z"
   },
   {
    "duration": 49,
    "start_time": "2024-08-29T21:14:32.595Z"
   },
   {
    "duration": 19,
    "start_time": "2024-08-29T21:14:32.646Z"
   },
   {
    "duration": 25,
    "start_time": "2024-08-29T21:14:32.666Z"
   },
   {
    "duration": 80,
    "start_time": "2024-08-29T21:14:32.693Z"
   },
   {
    "duration": 176,
    "start_time": "2024-08-29T21:14:32.775Z"
   },
   {
    "duration": 32,
    "start_time": "2024-08-29T21:14:32.953Z"
   },
   {
    "duration": 46,
    "start_time": "2024-08-29T21:14:32.987Z"
   },
   {
    "duration": 166,
    "start_time": "2024-08-29T21:14:33.035Z"
   },
   {
    "duration": 307,
    "start_time": "2024-08-29T21:14:33.203Z"
   },
   {
    "duration": 208,
    "start_time": "2024-08-29T21:14:33.512Z"
   },
   {
    "duration": 1386,
    "start_time": "2024-08-29T21:31:45.150Z"
   },
   {
    "duration": 16,
    "start_time": "2024-08-29T21:31:46.539Z"
   },
   {
    "duration": 41,
    "start_time": "2024-08-29T21:31:46.557Z"
   },
   {
    "duration": 62,
    "start_time": "2024-08-29T21:31:46.600Z"
   },
   {
    "duration": 121,
    "start_time": "2024-08-29T21:31:46.664Z"
   },
   {
    "duration": 13,
    "start_time": "2024-08-29T21:31:46.787Z"
   },
   {
    "duration": 29,
    "start_time": "2024-08-29T21:31:46.802Z"
   },
   {
    "duration": 20,
    "start_time": "2024-08-29T21:31:46.834Z"
   },
   {
    "duration": 8,
    "start_time": "2024-08-29T21:31:46.855Z"
   },
   {
    "duration": 8,
    "start_time": "2024-08-29T21:31:46.865Z"
   },
   {
    "duration": 4,
    "start_time": "2024-08-29T21:31:46.875Z"
   },
   {
    "duration": 794,
    "start_time": "2024-08-29T21:31:46.881Z"
   },
   {
    "duration": 192,
    "start_time": "2024-08-29T21:31:47.676Z"
   },
   {
    "duration": 4,
    "start_time": "2024-08-29T21:31:47.870Z"
   },
   {
    "duration": 776,
    "start_time": "2024-08-29T21:31:47.875Z"
   },
   {
    "duration": 14,
    "start_time": "2024-08-29T21:31:48.653Z"
   },
   {
    "duration": 6,
    "start_time": "2024-08-29T21:31:48.669Z"
   },
   {
    "duration": 19,
    "start_time": "2024-08-29T21:31:48.677Z"
   },
   {
    "duration": 39,
    "start_time": "2024-08-29T21:31:48.727Z"
   },
   {
    "duration": 17,
    "start_time": "2024-08-29T21:31:48.767Z"
   },
   {
    "duration": 286,
    "start_time": "2024-08-29T21:31:48.786Z"
   },
   {
    "duration": 127,
    "start_time": "2024-08-29T21:31:49.074Z"
   },
   {
    "duration": 59,
    "start_time": "2024-08-29T21:31:49.203Z"
   },
   {
    "duration": 20,
    "start_time": "2024-08-29T21:31:49.264Z"
   },
   {
    "duration": 46,
    "start_time": "2024-08-29T21:31:49.286Z"
   },
   {
    "duration": 63,
    "start_time": "2024-08-29T21:31:49.334Z"
   },
   {
    "duration": 183,
    "start_time": "2024-08-29T21:31:49.398Z"
   },
   {
    "duration": 49,
    "start_time": "2024-08-29T21:31:49.585Z"
   },
   {
    "duration": 37,
    "start_time": "2024-08-29T21:31:49.636Z"
   },
   {
    "duration": 191,
    "start_time": "2024-08-29T21:31:49.675Z"
   },
   {
    "duration": 338,
    "start_time": "2024-08-29T21:31:49.867Z"
   },
   {
    "duration": 230,
    "start_time": "2024-08-29T21:31:50.207Z"
   },
   {
    "duration": 1341,
    "start_time": "2024-08-29T21:33:52.370Z"
   },
   {
    "duration": 16,
    "start_time": "2024-08-29T21:33:53.713Z"
   },
   {
    "duration": 40,
    "start_time": "2024-08-29T21:33:53.731Z"
   },
   {
    "duration": 34,
    "start_time": "2024-08-29T21:33:53.773Z"
   },
   {
    "duration": 109,
    "start_time": "2024-08-29T21:33:53.808Z"
   },
   {
    "duration": 18,
    "start_time": "2024-08-29T21:33:53.925Z"
   },
   {
    "duration": 11,
    "start_time": "2024-08-29T21:33:53.944Z"
   },
   {
    "duration": 52,
    "start_time": "2024-08-29T21:33:53.956Z"
   },
   {
    "duration": 12,
    "start_time": "2024-08-29T21:33:54.010Z"
   },
   {
    "duration": 14,
    "start_time": "2024-08-29T21:33:54.026Z"
   },
   {
    "duration": 5,
    "start_time": "2024-08-29T21:33:54.042Z"
   },
   {
    "duration": 740,
    "start_time": "2024-08-29T21:33:54.048Z"
   },
   {
    "duration": 182,
    "start_time": "2024-08-29T21:33:54.789Z"
   },
   {
    "duration": 5,
    "start_time": "2024-08-29T21:33:54.972Z"
   },
   {
    "duration": 777,
    "start_time": "2024-08-29T21:33:54.978Z"
   },
   {
    "duration": 11,
    "start_time": "2024-08-29T21:33:55.757Z"
   },
   {
    "duration": 4,
    "start_time": "2024-08-29T21:33:55.770Z"
   },
   {
    "duration": 18,
    "start_time": "2024-08-29T21:33:55.775Z"
   },
   {
    "duration": 51,
    "start_time": "2024-08-29T21:33:55.794Z"
   },
   {
    "duration": 3,
    "start_time": "2024-08-29T21:33:55.847Z"
   },
   {
    "duration": 273,
    "start_time": "2024-08-29T21:33:55.852Z"
   },
   {
    "duration": 109,
    "start_time": "2024-08-29T21:33:56.127Z"
   },
   {
    "duration": 43,
    "start_time": "2024-08-29T21:33:56.239Z"
   },
   {
    "duration": 41,
    "start_time": "2024-08-29T21:33:56.284Z"
   },
   {
    "duration": 33,
    "start_time": "2024-08-29T21:33:56.327Z"
   },
   {
    "duration": 67,
    "start_time": "2024-08-29T21:33:56.362Z"
   },
   {
    "duration": 167,
    "start_time": "2024-08-29T21:33:56.431Z"
   },
   {
    "duration": 40,
    "start_time": "2024-08-29T21:33:56.601Z"
   },
   {
    "duration": 33,
    "start_time": "2024-08-29T21:33:56.643Z"
   },
   {
    "duration": 178,
    "start_time": "2024-08-29T21:33:56.678Z"
   },
   {
    "duration": 313,
    "start_time": "2024-08-29T21:33:56.858Z"
   },
   {
    "duration": 203,
    "start_time": "2024-08-29T21:33:57.173Z"
   },
   {
    "duration": 2202,
    "start_time": "2024-08-30T04:09:55.575Z"
   },
   {
    "duration": 15,
    "start_time": "2024-08-30T04:09:57.780Z"
   },
   {
    "duration": 40,
    "start_time": "2024-08-30T04:09:57.797Z"
   },
   {
    "duration": 56,
    "start_time": "2024-08-30T04:09:57.840Z"
   },
   {
    "duration": 111,
    "start_time": "2024-08-30T04:09:57.897Z"
   },
   {
    "duration": 13,
    "start_time": "2024-08-30T04:09:58.009Z"
   },
   {
    "duration": 12,
    "start_time": "2024-08-30T04:09:58.024Z"
   },
   {
    "duration": 12,
    "start_time": "2024-08-30T04:09:58.038Z"
   },
   {
    "duration": 20,
    "start_time": "2024-08-30T04:09:58.051Z"
   },
   {
    "duration": 22,
    "start_time": "2024-08-30T04:09:58.073Z"
   },
   {
    "duration": 82,
    "start_time": "2024-08-30T04:09:58.097Z"
   },
   {
    "duration": 689,
    "start_time": "2024-08-30T04:09:58.181Z"
   },
   {
    "duration": 172,
    "start_time": "2024-08-30T04:09:58.871Z"
   },
   {
    "duration": 6,
    "start_time": "2024-08-30T04:09:59.045Z"
   },
   {
    "duration": 800,
    "start_time": "2024-08-30T04:09:59.065Z"
   },
   {
    "duration": 17,
    "start_time": "2024-08-30T04:09:59.867Z"
   },
   {
    "duration": 5,
    "start_time": "2024-08-30T04:09:59.886Z"
   },
   {
    "duration": 18,
    "start_time": "2024-08-30T04:09:59.893Z"
   },
   {
    "duration": 53,
    "start_time": "2024-08-30T04:09:59.913Z"
   },
   {
    "duration": 4,
    "start_time": "2024-08-30T04:09:59.967Z"
   },
   {
    "duration": 308,
    "start_time": "2024-08-30T04:09:59.972Z"
   },
   {
    "duration": 110,
    "start_time": "2024-08-30T04:10:00.282Z"
   },
   {
    "duration": 43,
    "start_time": "2024-08-30T04:10:00.393Z"
   },
   {
    "duration": 131,
    "start_time": "2024-08-30T04:10:00.438Z"
   },
   {
    "duration": 27,
    "start_time": "2024-08-30T04:10:00.571Z"
   },
   {
    "duration": 66,
    "start_time": "2024-08-30T04:10:00.600Z"
   },
   {
    "duration": 179,
    "start_time": "2024-08-30T04:10:00.669Z"
   },
   {
    "duration": 40,
    "start_time": "2024-08-30T04:10:00.851Z"
   },
   {
    "duration": 32,
    "start_time": "2024-08-30T04:10:00.892Z"
   },
   {
    "duration": 163,
    "start_time": "2024-08-30T04:10:00.926Z"
   },
   {
    "duration": 316,
    "start_time": "2024-08-30T04:10:01.091Z"
   },
   {
    "duration": 211,
    "start_time": "2024-08-30T04:10:01.409Z"
   },
   {
    "duration": 45,
    "start_time": "2024-08-30T07:37:34.092Z"
   },
   {
    "duration": 53,
    "start_time": "2024-08-30T07:57:06.843Z"
   },
   {
    "duration": 1265,
    "start_time": "2024-08-30T20:29:11.794Z"
   },
   {
    "duration": 9,
    "start_time": "2024-08-30T20:29:13.061Z"
   },
   {
    "duration": 41,
    "start_time": "2024-08-30T20:29:13.072Z"
   },
   {
    "duration": 33,
    "start_time": "2024-08-30T20:29:13.115Z"
   },
   {
    "duration": 116,
    "start_time": "2024-08-30T20:29:13.150Z"
   },
   {
    "duration": 12,
    "start_time": "2024-08-30T20:29:13.267Z"
   },
   {
    "duration": 20,
    "start_time": "2024-08-30T20:29:13.281Z"
   },
   {
    "duration": 12,
    "start_time": "2024-08-30T20:29:13.302Z"
   },
   {
    "duration": 7,
    "start_time": "2024-08-30T20:29:13.315Z"
   },
   {
    "duration": 8,
    "start_time": "2024-08-30T20:29:13.324Z"
   },
   {
    "duration": 6,
    "start_time": "2024-08-30T20:29:13.334Z"
   },
   {
    "duration": 659,
    "start_time": "2024-08-30T20:29:13.341Z"
   },
   {
    "duration": 163,
    "start_time": "2024-08-30T20:29:14.002Z"
   },
   {
    "duration": 6,
    "start_time": "2024-08-30T20:29:14.166Z"
   },
   {
    "duration": 665,
    "start_time": "2024-08-30T20:29:14.173Z"
   },
   {
    "duration": 12,
    "start_time": "2024-08-30T20:29:14.840Z"
   },
   {
    "duration": 5,
    "start_time": "2024-08-30T20:29:14.854Z"
   },
   {
    "duration": 17,
    "start_time": "2024-08-30T20:29:14.861Z"
   },
   {
    "duration": 47,
    "start_time": "2024-08-30T20:29:14.880Z"
   },
   {
    "duration": 3,
    "start_time": "2024-08-30T20:29:14.928Z"
   },
   {
    "duration": 258,
    "start_time": "2024-08-30T20:29:14.932Z"
   },
   {
    "duration": 99,
    "start_time": "2024-08-30T20:29:15.192Z"
   },
   {
    "duration": 52,
    "start_time": "2024-08-30T20:29:15.292Z"
   },
   {
    "duration": 19,
    "start_time": "2024-08-30T20:29:15.346Z"
   },
   {
    "duration": 45,
    "start_time": "2024-08-30T20:29:15.367Z"
   },
   {
    "duration": 52,
    "start_time": "2024-08-30T20:29:15.414Z"
   },
   {
    "duration": 157,
    "start_time": "2024-08-30T20:29:15.468Z"
   },
   {
    "duration": 31,
    "start_time": "2024-08-30T20:29:15.628Z"
   },
   {
    "duration": 47,
    "start_time": "2024-08-30T20:29:15.660Z"
   },
   {
    "duration": 140,
    "start_time": "2024-08-30T20:29:15.709Z"
   },
   {
    "duration": 267,
    "start_time": "2024-08-30T20:29:15.851Z"
   },
   {
    "duration": 172,
    "start_time": "2024-08-30T20:29:16.120Z"
   },
   {
    "duration": 1227,
    "start_time": "2024-08-30T20:30:58.828Z"
   },
   {
    "duration": 11,
    "start_time": "2024-08-30T20:31:00.057Z"
   },
   {
    "duration": 110,
    "start_time": "2024-08-30T20:31:00.069Z"
   },
   {
    "duration": 36,
    "start_time": "2024-08-30T20:31:00.180Z"
   },
   {
    "duration": 96,
    "start_time": "2024-08-30T20:31:00.218Z"
   },
   {
    "duration": 14,
    "start_time": "2024-08-30T20:31:00.315Z"
   },
   {
    "duration": 11,
    "start_time": "2024-08-30T20:31:00.330Z"
   },
   {
    "duration": 13,
    "start_time": "2024-08-30T20:31:00.343Z"
   },
   {
    "duration": 21,
    "start_time": "2024-08-30T20:31:00.357Z"
   },
   {
    "duration": 49,
    "start_time": "2024-08-30T20:31:00.379Z"
   },
   {
    "duration": 5,
    "start_time": "2024-08-30T20:31:00.430Z"
   },
   {
    "duration": 634,
    "start_time": "2024-08-30T20:31:00.436Z"
   },
   {
    "duration": 160,
    "start_time": "2024-08-30T20:31:01.072Z"
   },
   {
    "duration": 4,
    "start_time": "2024-08-30T20:31:01.235Z"
   },
   {
    "duration": 659,
    "start_time": "2024-08-30T20:31:01.240Z"
   },
   {
    "duration": 16,
    "start_time": "2024-08-30T20:31:01.900Z"
   },
   {
    "duration": 5,
    "start_time": "2024-08-30T20:31:01.918Z"
   },
   {
    "duration": 18,
    "start_time": "2024-08-30T20:31:01.925Z"
   },
   {
    "duration": 23,
    "start_time": "2024-08-30T20:31:01.945Z"
   },
   {
    "duration": 45,
    "start_time": "2024-08-30T20:31:01.969Z"
   },
   {
    "duration": 238,
    "start_time": "2024-08-30T20:31:02.015Z"
   },
   {
    "duration": 129,
    "start_time": "2024-08-30T20:31:02.254Z"
   },
   {
    "duration": 46,
    "start_time": "2024-08-30T20:31:02.385Z"
   },
   {
    "duration": 20,
    "start_time": "2024-08-30T20:31:02.433Z"
   },
   {
    "duration": 27,
    "start_time": "2024-08-30T20:31:02.455Z"
   },
   {
    "duration": 75,
    "start_time": "2024-08-30T20:31:02.484Z"
   },
   {
    "duration": 159,
    "start_time": "2024-08-30T20:31:02.561Z"
   },
   {
    "duration": 31,
    "start_time": "2024-08-30T20:31:02.722Z"
   },
   {
    "duration": 28,
    "start_time": "2024-08-30T20:31:02.755Z"
   },
   {
    "duration": 188,
    "start_time": "2024-08-30T20:31:02.785Z"
   },
   {
    "duration": 273,
    "start_time": "2024-08-30T20:31:02.975Z"
   },
   {
    "duration": 184,
    "start_time": "2024-08-30T20:31:03.250Z"
   }
  ],
  "kernelspec": {
   "display_name": "Python 3 (ipykernel)",
   "language": "python",
   "name": "python3"
  },
  "language_info": {
   "codemirror_mode": {
    "name": "ipython",
    "version": 3
   },
   "file_extension": ".py",
   "mimetype": "text/x-python",
   "name": "python",
   "nbconvert_exporter": "python",
   "pygments_lexer": "ipython3",
   "version": "3.9.5"
  },
  "toc": {
   "base_numbering": 1,
   "nav_menu": {},
   "number_sections": true,
   "sideBar": true,
   "skip_h1_title": true,
   "title_cell": "Table of Contents",
   "title_sidebar": "Contents",
   "toc_cell": false,
   "toc_position": {},
   "toc_section_display": true,
   "toc_window_display": false
  }
 },
 "nbformat": 4,
 "nbformat_minor": 2
}
