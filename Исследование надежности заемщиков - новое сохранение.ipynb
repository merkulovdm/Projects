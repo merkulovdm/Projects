{
 "cells": [
  {
   "cell_type": "markdown",
   "id": "386f2ae7",
   "metadata": {
    "deletable": false,
    "editable": false,
    "id": "386f2ae7"
   },
   "source": [
    "# Исследование надежности заемщиков\n"
   ]
  },
  {
   "cell_type": "markdown",
   "id": "ffe86f65",
   "metadata": {
    "deletable": false,
    "editable": false,
    "id": "ffe86f65"
   },
   "source": [
    "Во второй части проекта вы выполните шаги 3 и 4. Их вручную проверит ревьюер.\n",
    "Чтобы вам не пришлось писать код заново для шагов 1 и 2, мы добавили авторские решения в ячейки с кодом. \n",
    "\n"
   ]
  },
  {
   "cell_type": "markdown",
   "id": "26613308",
   "metadata": {
    "deletable": false,
    "editable": false,
    "id": "26613308"
   },
   "source": [
    "## Откройте таблицу и изучите общую информацию о данных"
   ]
  },
  {
   "cell_type": "markdown",
   "id": "3c9f838e",
   "metadata": {
    "deletable": false,
    "editable": false,
    "id": "3c9f838e"
   },
   "source": [
    "**Задание 1. Импортируйте библиотеку pandas. Считайте данные из csv-файла в датафрейм и сохраните в переменную `data`. Путь к файлу:**\n",
    "\n",
    "`/datasets/data.csv`"
   ]
  },
  {
   "cell_type": "code",
   "execution_count": 25,
   "id": "77a68a90",
   "metadata": {
    "deletable": false,
    "id": "77a68a90"
   },
   "outputs": [],
   "source": [
    "import pandas as pd\n",
    "\n",
    "try:\n",
    "    data = pd.read_csv('/datasets/data.csv')\n",
    "except:\n",
    "    data = pd.read_csv('https://code.s3.yandex.net/datasets/data.csv')"
   ]
  },
  {
   "cell_type": "markdown",
   "id": "45365635",
   "metadata": {
    "deletable": false,
    "editable": false,
    "id": "45365635"
   },
   "source": [
    "**Задание 2. Выведите первые 20 строчек датафрейма `data` на экран.**"
   ]
  },
  {
   "cell_type": "code",
   "execution_count": 26,
   "id": "b0451a9a",
   "metadata": {
    "deletable": false,
    "id": "b0451a9a",
    "outputId": "1a8f3ef2-d323-4ec2-ddf7-89670b5944c4"
   },
   "outputs": [
    {
     "data": {
      "text/html": [
       "<div>\n",
       "<style scoped>\n",
       "    .dataframe tbody tr th:only-of-type {\n",
       "        vertical-align: middle;\n",
       "    }\n",
       "\n",
       "    .dataframe tbody tr th {\n",
       "        vertical-align: top;\n",
       "    }\n",
       "\n",
       "    .dataframe thead th {\n",
       "        text-align: right;\n",
       "    }\n",
       "</style>\n",
       "<table border=\"1\" class=\"dataframe\">\n",
       "  <thead>\n",
       "    <tr style=\"text-align: right;\">\n",
       "      <th></th>\n",
       "      <th>children</th>\n",
       "      <th>days_employed</th>\n",
       "      <th>dob_years</th>\n",
       "      <th>education</th>\n",
       "      <th>education_id</th>\n",
       "      <th>family_status</th>\n",
       "      <th>family_status_id</th>\n",
       "      <th>gender</th>\n",
       "      <th>income_type</th>\n",
       "      <th>debt</th>\n",
       "      <th>total_income</th>\n",
       "      <th>purpose</th>\n",
       "    </tr>\n",
       "  </thead>\n",
       "  <tbody>\n",
       "    <tr>\n",
       "      <th>0</th>\n",
       "      <td>1</td>\n",
       "      <td>-8437.673028</td>\n",
       "      <td>42</td>\n",
       "      <td>высшее</td>\n",
       "      <td>0</td>\n",
       "      <td>женат / замужем</td>\n",
       "      <td>0</td>\n",
       "      <td>F</td>\n",
       "      <td>сотрудник</td>\n",
       "      <td>0</td>\n",
       "      <td>253875.639453</td>\n",
       "      <td>покупка жилья</td>\n",
       "    </tr>\n",
       "    <tr>\n",
       "      <th>1</th>\n",
       "      <td>1</td>\n",
       "      <td>-4024.803754</td>\n",
       "      <td>36</td>\n",
       "      <td>среднее</td>\n",
       "      <td>1</td>\n",
       "      <td>женат / замужем</td>\n",
       "      <td>0</td>\n",
       "      <td>F</td>\n",
       "      <td>сотрудник</td>\n",
       "      <td>0</td>\n",
       "      <td>112080.014102</td>\n",
       "      <td>приобретение автомобиля</td>\n",
       "    </tr>\n",
       "    <tr>\n",
       "      <th>2</th>\n",
       "      <td>0</td>\n",
       "      <td>-5623.422610</td>\n",
       "      <td>33</td>\n",
       "      <td>Среднее</td>\n",
       "      <td>1</td>\n",
       "      <td>женат / замужем</td>\n",
       "      <td>0</td>\n",
       "      <td>M</td>\n",
       "      <td>сотрудник</td>\n",
       "      <td>0</td>\n",
       "      <td>145885.952297</td>\n",
       "      <td>покупка жилья</td>\n",
       "    </tr>\n",
       "    <tr>\n",
       "      <th>3</th>\n",
       "      <td>3</td>\n",
       "      <td>-4124.747207</td>\n",
       "      <td>32</td>\n",
       "      <td>среднее</td>\n",
       "      <td>1</td>\n",
       "      <td>женат / замужем</td>\n",
       "      <td>0</td>\n",
       "      <td>M</td>\n",
       "      <td>сотрудник</td>\n",
       "      <td>0</td>\n",
       "      <td>267628.550329</td>\n",
       "      <td>дополнительное образование</td>\n",
       "    </tr>\n",
       "    <tr>\n",
       "      <th>4</th>\n",
       "      <td>0</td>\n",
       "      <td>340266.072047</td>\n",
       "      <td>53</td>\n",
       "      <td>среднее</td>\n",
       "      <td>1</td>\n",
       "      <td>гражданский брак</td>\n",
       "      <td>1</td>\n",
       "      <td>F</td>\n",
       "      <td>пенсионер</td>\n",
       "      <td>0</td>\n",
       "      <td>158616.077870</td>\n",
       "      <td>сыграть свадьбу</td>\n",
       "    </tr>\n",
       "    <tr>\n",
       "      <th>5</th>\n",
       "      <td>0</td>\n",
       "      <td>-926.185831</td>\n",
       "      <td>27</td>\n",
       "      <td>высшее</td>\n",
       "      <td>0</td>\n",
       "      <td>гражданский брак</td>\n",
       "      <td>1</td>\n",
       "      <td>M</td>\n",
       "      <td>компаньон</td>\n",
       "      <td>0</td>\n",
       "      <td>255763.565419</td>\n",
       "      <td>покупка жилья</td>\n",
       "    </tr>\n",
       "    <tr>\n",
       "      <th>6</th>\n",
       "      <td>0</td>\n",
       "      <td>-2879.202052</td>\n",
       "      <td>43</td>\n",
       "      <td>высшее</td>\n",
       "      <td>0</td>\n",
       "      <td>женат / замужем</td>\n",
       "      <td>0</td>\n",
       "      <td>F</td>\n",
       "      <td>компаньон</td>\n",
       "      <td>0</td>\n",
       "      <td>240525.971920</td>\n",
       "      <td>операции с жильем</td>\n",
       "    </tr>\n",
       "    <tr>\n",
       "      <th>7</th>\n",
       "      <td>0</td>\n",
       "      <td>-152.779569</td>\n",
       "      <td>50</td>\n",
       "      <td>СРЕДНЕЕ</td>\n",
       "      <td>1</td>\n",
       "      <td>женат / замужем</td>\n",
       "      <td>0</td>\n",
       "      <td>M</td>\n",
       "      <td>сотрудник</td>\n",
       "      <td>0</td>\n",
       "      <td>135823.934197</td>\n",
       "      <td>образование</td>\n",
       "    </tr>\n",
       "    <tr>\n",
       "      <th>8</th>\n",
       "      <td>2</td>\n",
       "      <td>-6929.865299</td>\n",
       "      <td>35</td>\n",
       "      <td>ВЫСШЕЕ</td>\n",
       "      <td>0</td>\n",
       "      <td>гражданский брак</td>\n",
       "      <td>1</td>\n",
       "      <td>F</td>\n",
       "      <td>сотрудник</td>\n",
       "      <td>0</td>\n",
       "      <td>95856.832424</td>\n",
       "      <td>на проведение свадьбы</td>\n",
       "    </tr>\n",
       "    <tr>\n",
       "      <th>9</th>\n",
       "      <td>0</td>\n",
       "      <td>-2188.756445</td>\n",
       "      <td>41</td>\n",
       "      <td>среднее</td>\n",
       "      <td>1</td>\n",
       "      <td>женат / замужем</td>\n",
       "      <td>0</td>\n",
       "      <td>M</td>\n",
       "      <td>сотрудник</td>\n",
       "      <td>0</td>\n",
       "      <td>144425.938277</td>\n",
       "      <td>покупка жилья для семьи</td>\n",
       "    </tr>\n",
       "    <tr>\n",
       "      <th>10</th>\n",
       "      <td>2</td>\n",
       "      <td>-4171.483647</td>\n",
       "      <td>36</td>\n",
       "      <td>высшее</td>\n",
       "      <td>0</td>\n",
       "      <td>женат / замужем</td>\n",
       "      <td>0</td>\n",
       "      <td>M</td>\n",
       "      <td>компаньон</td>\n",
       "      <td>0</td>\n",
       "      <td>113943.491460</td>\n",
       "      <td>покупка недвижимости</td>\n",
       "    </tr>\n",
       "    <tr>\n",
       "      <th>11</th>\n",
       "      <td>0</td>\n",
       "      <td>-792.701887</td>\n",
       "      <td>40</td>\n",
       "      <td>среднее</td>\n",
       "      <td>1</td>\n",
       "      <td>женат / замужем</td>\n",
       "      <td>0</td>\n",
       "      <td>F</td>\n",
       "      <td>сотрудник</td>\n",
       "      <td>0</td>\n",
       "      <td>77069.234271</td>\n",
       "      <td>покупка коммерческой недвижимости</td>\n",
       "    </tr>\n",
       "    <tr>\n",
       "      <th>12</th>\n",
       "      <td>0</td>\n",
       "      <td>NaN</td>\n",
       "      <td>65</td>\n",
       "      <td>среднее</td>\n",
       "      <td>1</td>\n",
       "      <td>гражданский брак</td>\n",
       "      <td>1</td>\n",
       "      <td>M</td>\n",
       "      <td>пенсионер</td>\n",
       "      <td>0</td>\n",
       "      <td>NaN</td>\n",
       "      <td>сыграть свадьбу</td>\n",
       "    </tr>\n",
       "    <tr>\n",
       "      <th>13</th>\n",
       "      <td>0</td>\n",
       "      <td>-1846.641941</td>\n",
       "      <td>54</td>\n",
       "      <td>неоконченное высшее</td>\n",
       "      <td>2</td>\n",
       "      <td>женат / замужем</td>\n",
       "      <td>0</td>\n",
       "      <td>F</td>\n",
       "      <td>сотрудник</td>\n",
       "      <td>0</td>\n",
       "      <td>130458.228857</td>\n",
       "      <td>приобретение автомобиля</td>\n",
       "    </tr>\n",
       "    <tr>\n",
       "      <th>14</th>\n",
       "      <td>0</td>\n",
       "      <td>-1844.956182</td>\n",
       "      <td>56</td>\n",
       "      <td>высшее</td>\n",
       "      <td>0</td>\n",
       "      <td>гражданский брак</td>\n",
       "      <td>1</td>\n",
       "      <td>F</td>\n",
       "      <td>компаньон</td>\n",
       "      <td>1</td>\n",
       "      <td>165127.911772</td>\n",
       "      <td>покупка жилой недвижимости</td>\n",
       "    </tr>\n",
       "    <tr>\n",
       "      <th>15</th>\n",
       "      <td>1</td>\n",
       "      <td>-972.364419</td>\n",
       "      <td>26</td>\n",
       "      <td>среднее</td>\n",
       "      <td>1</td>\n",
       "      <td>женат / замужем</td>\n",
       "      <td>0</td>\n",
       "      <td>F</td>\n",
       "      <td>сотрудник</td>\n",
       "      <td>0</td>\n",
       "      <td>116820.904450</td>\n",
       "      <td>строительство собственной недвижимости</td>\n",
       "    </tr>\n",
       "    <tr>\n",
       "      <th>16</th>\n",
       "      <td>0</td>\n",
       "      <td>-1719.934226</td>\n",
       "      <td>35</td>\n",
       "      <td>среднее</td>\n",
       "      <td>1</td>\n",
       "      <td>женат / замужем</td>\n",
       "      <td>0</td>\n",
       "      <td>F</td>\n",
       "      <td>сотрудник</td>\n",
       "      <td>0</td>\n",
       "      <td>289202.704229</td>\n",
       "      <td>недвижимость</td>\n",
       "    </tr>\n",
       "    <tr>\n",
       "      <th>17</th>\n",
       "      <td>0</td>\n",
       "      <td>-2369.999720</td>\n",
       "      <td>33</td>\n",
       "      <td>высшее</td>\n",
       "      <td>0</td>\n",
       "      <td>гражданский брак</td>\n",
       "      <td>1</td>\n",
       "      <td>M</td>\n",
       "      <td>сотрудник</td>\n",
       "      <td>0</td>\n",
       "      <td>90410.586745</td>\n",
       "      <td>строительство недвижимости</td>\n",
       "    </tr>\n",
       "    <tr>\n",
       "      <th>18</th>\n",
       "      <td>0</td>\n",
       "      <td>400281.136913</td>\n",
       "      <td>53</td>\n",
       "      <td>среднее</td>\n",
       "      <td>1</td>\n",
       "      <td>вдовец / вдова</td>\n",
       "      <td>2</td>\n",
       "      <td>F</td>\n",
       "      <td>пенсионер</td>\n",
       "      <td>0</td>\n",
       "      <td>56823.777243</td>\n",
       "      <td>на покупку подержанного автомобиля</td>\n",
       "    </tr>\n",
       "    <tr>\n",
       "      <th>19</th>\n",
       "      <td>0</td>\n",
       "      <td>-10038.818549</td>\n",
       "      <td>48</td>\n",
       "      <td>СРЕДНЕЕ</td>\n",
       "      <td>1</td>\n",
       "      <td>в разводе</td>\n",
       "      <td>3</td>\n",
       "      <td>F</td>\n",
       "      <td>сотрудник</td>\n",
       "      <td>0</td>\n",
       "      <td>242831.107982</td>\n",
       "      <td>на покупку своего автомобиля</td>\n",
       "    </tr>\n",
       "  </tbody>\n",
       "</table>\n",
       "</div>"
      ],
      "text/plain": [
       "    children  days_employed  dob_years            education  education_id  \\\n",
       "0          1   -8437.673028         42               высшее             0   \n",
       "1          1   -4024.803754         36              среднее             1   \n",
       "2          0   -5623.422610         33              Среднее             1   \n",
       "3          3   -4124.747207         32              среднее             1   \n",
       "4          0  340266.072047         53              среднее             1   \n",
       "5          0    -926.185831         27               высшее             0   \n",
       "6          0   -2879.202052         43               высшее             0   \n",
       "7          0    -152.779569         50              СРЕДНЕЕ             1   \n",
       "8          2   -6929.865299         35               ВЫСШЕЕ             0   \n",
       "9          0   -2188.756445         41              среднее             1   \n",
       "10         2   -4171.483647         36               высшее             0   \n",
       "11         0    -792.701887         40              среднее             1   \n",
       "12         0            NaN         65              среднее             1   \n",
       "13         0   -1846.641941         54  неоконченное высшее             2   \n",
       "14         0   -1844.956182         56               высшее             0   \n",
       "15         1    -972.364419         26              среднее             1   \n",
       "16         0   -1719.934226         35              среднее             1   \n",
       "17         0   -2369.999720         33               высшее             0   \n",
       "18         0  400281.136913         53              среднее             1   \n",
       "19         0  -10038.818549         48              СРЕДНЕЕ             1   \n",
       "\n",
       "       family_status  family_status_id gender income_type  debt  \\\n",
       "0    женат / замужем                 0      F   сотрудник     0   \n",
       "1    женат / замужем                 0      F   сотрудник     0   \n",
       "2    женат / замужем                 0      M   сотрудник     0   \n",
       "3    женат / замужем                 0      M   сотрудник     0   \n",
       "4   гражданский брак                 1      F   пенсионер     0   \n",
       "5   гражданский брак                 1      M   компаньон     0   \n",
       "6    женат / замужем                 0      F   компаньон     0   \n",
       "7    женат / замужем                 0      M   сотрудник     0   \n",
       "8   гражданский брак                 1      F   сотрудник     0   \n",
       "9    женат / замужем                 0      M   сотрудник     0   \n",
       "10   женат / замужем                 0      M   компаньон     0   \n",
       "11   женат / замужем                 0      F   сотрудник     0   \n",
       "12  гражданский брак                 1      M   пенсионер     0   \n",
       "13   женат / замужем                 0      F   сотрудник     0   \n",
       "14  гражданский брак                 1      F   компаньон     1   \n",
       "15   женат / замужем                 0      F   сотрудник     0   \n",
       "16   женат / замужем                 0      F   сотрудник     0   \n",
       "17  гражданский брак                 1      M   сотрудник     0   \n",
       "18    вдовец / вдова                 2      F   пенсионер     0   \n",
       "19         в разводе                 3      F   сотрудник     0   \n",
       "\n",
       "     total_income                                 purpose  \n",
       "0   253875.639453                           покупка жилья  \n",
       "1   112080.014102                 приобретение автомобиля  \n",
       "2   145885.952297                           покупка жилья  \n",
       "3   267628.550329              дополнительное образование  \n",
       "4   158616.077870                         сыграть свадьбу  \n",
       "5   255763.565419                           покупка жилья  \n",
       "6   240525.971920                       операции с жильем  \n",
       "7   135823.934197                             образование  \n",
       "8    95856.832424                   на проведение свадьбы  \n",
       "9   144425.938277                 покупка жилья для семьи  \n",
       "10  113943.491460                    покупка недвижимости  \n",
       "11   77069.234271       покупка коммерческой недвижимости  \n",
       "12            NaN                         сыграть свадьбу  \n",
       "13  130458.228857                 приобретение автомобиля  \n",
       "14  165127.911772              покупка жилой недвижимости  \n",
       "15  116820.904450  строительство собственной недвижимости  \n",
       "16  289202.704229                            недвижимость  \n",
       "17   90410.586745              строительство недвижимости  \n",
       "18   56823.777243      на покупку подержанного автомобиля  \n",
       "19  242831.107982            на покупку своего автомобиля  "
      ]
     },
     "execution_count": 26,
     "metadata": {},
     "output_type": "execute_result"
    }
   ],
   "source": [
    "data.head(20)"
   ]
  },
  {
   "cell_type": "markdown",
   "id": "0ed8f27f",
   "metadata": {
    "deletable": false,
    "editable": false,
    "id": "0ed8f27f"
   },
   "source": [
    "**Задание 3. Выведите основную информацию о датафрейме с помощью метода `info()`.**"
   ]
  },
  {
   "cell_type": "code",
   "execution_count": 27,
   "id": "ab3f863b",
   "metadata": {
    "deletable": false,
    "id": "ab3f863b",
    "outputId": "15376089-8dad-46c9-b520-c05248d43158"
   },
   "outputs": [
    {
     "name": "stdout",
     "output_type": "stream",
     "text": [
      "<class 'pandas.core.frame.DataFrame'>\n",
      "RangeIndex: 21525 entries, 0 to 21524\n",
      "Data columns (total 12 columns):\n",
      " #   Column            Non-Null Count  Dtype  \n",
      "---  ------            --------------  -----  \n",
      " 0   children          21525 non-null  int64  \n",
      " 1   days_employed     19351 non-null  float64\n",
      " 2   dob_years         21525 non-null  int64  \n",
      " 3   education         21525 non-null  object \n",
      " 4   education_id      21525 non-null  int64  \n",
      " 5   family_status     21525 non-null  object \n",
      " 6   family_status_id  21525 non-null  int64  \n",
      " 7   gender            21525 non-null  object \n",
      " 8   income_type       21525 non-null  object \n",
      " 9   debt              21525 non-null  int64  \n",
      " 10  total_income      19351 non-null  float64\n",
      " 11  purpose           21525 non-null  object \n",
      "dtypes: float64(2), int64(5), object(5)\n",
      "memory usage: 2.0+ MB\n"
     ]
    }
   ],
   "source": [
    "data.info()"
   ]
  },
  {
   "cell_type": "markdown",
   "id": "60e3e22d",
   "metadata": {
    "deletable": false,
    "editable": false,
    "id": "60e3e22d"
   },
   "source": [
    "## Предобработка данных"
   ]
  },
  {
   "cell_type": "markdown",
   "id": "03dc170c",
   "metadata": {
    "deletable": false,
    "editable": false,
    "id": "03dc170c"
   },
   "source": [
    "### Удаление пропусков"
   ]
  },
  {
   "cell_type": "markdown",
   "id": "a4f54eef",
   "metadata": {
    "deletable": false,
    "editable": false,
    "id": "a4f54eef"
   },
   "source": [
    "**Задание 4. Выведите количество пропущенных значений для каждого столбца. Используйте комбинацию двух методов.**"
   ]
  },
  {
   "cell_type": "code",
   "execution_count": 28,
   "id": "2dc372b2",
   "metadata": {
    "deletable": false,
    "id": "2dc372b2",
    "outputId": "81f4d817-781c-465c-ed15-91ce4446810d"
   },
   "outputs": [
    {
     "data": {
      "text/plain": [
       "children               0\n",
       "days_employed       2174\n",
       "dob_years              0\n",
       "education              0\n",
       "education_id           0\n",
       "family_status          0\n",
       "family_status_id       0\n",
       "gender                 0\n",
       "income_type            0\n",
       "debt                   0\n",
       "total_income        2174\n",
       "purpose                0\n",
       "dtype: int64"
      ]
     },
     "execution_count": 28,
     "metadata": {},
     "output_type": "execute_result"
    }
   ],
   "source": [
    "data.isna().sum()"
   ]
  },
  {
   "cell_type": "markdown",
   "id": "14f011b1",
   "metadata": {
    "deletable": false,
    "editable": false,
    "id": "14f011b1"
   },
   "source": [
    "**Задание 5. В двух столбцах есть пропущенные значения. Один из них — `days_employed`. Пропуски в этом столбце вы обработаете на следующем этапе. Другой столбец с пропущенными значениями — `total_income` — хранит данные о доходах. На сумму дохода сильнее всего влияет тип занятости, поэтому заполнить пропуски в этом столбце нужно медианным значением по каждому типу из столбца `income_type`. Например, у человека с типом занятости `сотрудник` пропуск в столбце `total_income` должен быть заполнен медианным доходом среди всех записей с тем же типом.**"
   ]
  },
  {
   "cell_type": "code",
   "execution_count": 29,
   "id": "bdabfb6e",
   "metadata": {
    "deletable": false,
    "id": "bdabfb6e"
   },
   "outputs": [],
   "source": [
    "for t in data['income_type'].unique():\n",
    "    data.loc[(data['income_type'] == t) & (data['total_income'].isna()), 'total_income'] = \\\n",
    "    data.loc[(data['income_type'] == t), 'total_income'].median()"
   ]
  },
  {
   "cell_type": "markdown",
   "id": "5be34059",
   "metadata": {
    "deletable": false,
    "editable": false,
    "id": "5be34059"
   },
   "source": [
    "### Обработка аномальных значений"
   ]
  },
  {
   "cell_type": "markdown",
   "id": "a87606cb",
   "metadata": {
    "deletable": false,
    "editable": false,
    "id": "a87606cb"
   },
   "source": [
    "**Задание 6. В данных могут встречаться артефакты (аномалии) — значения, которые не отражают действительность и появились по какой-то ошибке. таким артефактом будет отрицательное количество дней трудового стажа в столбце `days_employed`. Для реальных данных это нормально. Обработайте значения в этом столбце: замените все отрицательные значения положительными с помощью метода `abs()`.**"
   ]
  },
  {
   "cell_type": "code",
   "execution_count": 30,
   "id": "020c46cc",
   "metadata": {
    "deletable": false,
    "id": "020c46cc"
   },
   "outputs": [],
   "source": [
    "data['days_employed'] = data['days_employed'].abs()"
   ]
  },
  {
   "cell_type": "markdown",
   "id": "45538a3a",
   "metadata": {
    "deletable": false,
    "editable": false,
    "id": "45538a3a"
   },
   "source": [
    "**Задание 7. Для каждого типа занятости выведите медианное значение трудового стажа `days_employed` в днях.**"
   ]
  },
  {
   "cell_type": "code",
   "execution_count": 31,
   "id": "cd3e6328",
   "metadata": {
    "deletable": false,
    "id": "cd3e6328",
    "outputId": "801ef80e-522b-4668-f34e-565af7432bcf"
   },
   "outputs": [
    {
     "data": {
      "text/plain": [
       "income_type\n",
       "безработный        366413.652744\n",
       "в декрете            3296.759962\n",
       "госслужащий          2689.368353\n",
       "компаньон            1547.382223\n",
       "пенсионер          365213.306266\n",
       "предприниматель       520.848083\n",
       "сотрудник            1574.202821\n",
       "студент               578.751554\n",
       "Name: days_employed, dtype: float64"
      ]
     },
     "execution_count": 31,
     "metadata": {},
     "output_type": "execute_result"
    }
   ],
   "source": [
    "data.groupby('income_type')['days_employed'].agg('median')"
   ]
  },
  {
   "cell_type": "markdown",
   "id": "90c5f058",
   "metadata": {
    "deletable": false,
    "editable": false,
    "id": "90c5f058"
   },
   "source": [
    "У двух типов (безработные и пенсионеры) получатся аномально большие значения. Исправить такие значения сложно, поэтому оставьте их как есть."
   ]
  },
  {
   "cell_type": "markdown",
   "id": "9652e50d",
   "metadata": {
    "deletable": false,
    "editable": false,
    "id": "9652e50d"
   },
   "source": [
    "**Задание 8. Выведите перечень уникальных значений столбца `children`.**"
   ]
  },
  {
   "cell_type": "code",
   "execution_count": 32,
   "id": "dbb37b8e",
   "metadata": {
    "deletable": false,
    "id": "dbb37b8e",
    "outputId": "6975b15c-7f95-4697-d16d-a0c79b657b03"
   },
   "outputs": [
    {
     "data": {
      "text/plain": [
       "array([ 1,  0,  3,  2, -1,  4, 20,  5])"
      ]
     },
     "execution_count": 32,
     "metadata": {},
     "output_type": "execute_result"
    }
   ],
   "source": [
    "data['children'].unique()"
   ]
  },
  {
   "cell_type": "markdown",
   "id": "2b8b0715",
   "metadata": {
    "deletable": false,
    "editable": false,
    "id": "2b8b0715"
   },
   "source": [
    "**Задание 9. В столбце `children` есть два аномальных значения. Удалите строки, в которых встречаются такие аномальные значения из датафрейма `data`.**"
   ]
  },
  {
   "cell_type": "code",
   "execution_count": 33,
   "id": "20009df8",
   "metadata": {
    "deletable": false,
    "id": "20009df8"
   },
   "outputs": [],
   "source": [
    "data = data[(data['children'] != -1) & (data['children'] != 20)]"
   ]
  },
  {
   "cell_type": "markdown",
   "id": "8c6ac9f1",
   "metadata": {
    "deletable": false,
    "editable": false,
    "id": "8c6ac9f1"
   },
   "source": [
    "**Задание 10. Ещё раз выведите перечень уникальных значений столбца `children`, чтобы убедиться, что артефакты удалены.**"
   ]
  },
  {
   "cell_type": "code",
   "execution_count": 34,
   "id": "07337b81",
   "metadata": {
    "deletable": false,
    "id": "07337b81",
    "outputId": "b2097101-d49d-44d9-901b-32a65c9463d1"
   },
   "outputs": [
    {
     "data": {
      "text/plain": [
       "array([1, 0, 3, 2, 4, 5])"
      ]
     },
     "execution_count": 34,
     "metadata": {},
     "output_type": "execute_result"
    }
   ],
   "source": [
    "data['children'].unique()"
   ]
  },
  {
   "cell_type": "markdown",
   "id": "ee3f52d4",
   "metadata": {
    "deletable": false,
    "editable": false,
    "id": "ee3f52d4"
   },
   "source": [
    "### Удаление пропусков (продолжение)"
   ]
  },
  {
   "cell_type": "markdown",
   "id": "a700b0e4",
   "metadata": {
    "deletable": false,
    "editable": false,
    "id": "a700b0e4"
   },
   "source": [
    "**Задание 11. Заполните пропуски в столбце `days_employed` медианными значениями по каждого типа занятости `income_type`.**"
   ]
  },
  {
   "cell_type": "code",
   "execution_count": 35,
   "id": "61946b83",
   "metadata": {
    "deletable": false,
    "id": "61946b83"
   },
   "outputs": [],
   "source": [
    "for t in data['income_type'].unique():\n",
    "    data.loc[(data['income_type'] == t) & (data['days_employed'].isna()), 'days_employed'] = \\\n",
    "    data.loc[(data['income_type'] == t), 'days_employed'].median()"
   ]
  },
  {
   "cell_type": "markdown",
   "id": "550dcd9b",
   "metadata": {
    "deletable": false,
    "editable": false,
    "id": "550dcd9b"
   },
   "source": [
    "**Задание 12. Убедитесь, что все пропуски заполнены. Проверьте себя и ещё раз выведите количество пропущенных значений для каждого столбца с помощью двух методов.**"
   ]
  },
  {
   "cell_type": "code",
   "execution_count": 36,
   "id": "937c7014",
   "metadata": {
    "deletable": false,
    "id": "937c7014",
    "outputId": "8da1e4e1-358e-4e87-98c9-f261bce0a7b2"
   },
   "outputs": [
    {
     "data": {
      "text/plain": [
       "children            0\n",
       "days_employed       0\n",
       "dob_years           0\n",
       "education           0\n",
       "education_id        0\n",
       "family_status       0\n",
       "family_status_id    0\n",
       "gender              0\n",
       "income_type         0\n",
       "debt                0\n",
       "total_income        0\n",
       "purpose             0\n",
       "dtype: int64"
      ]
     },
     "execution_count": 36,
     "metadata": {},
     "output_type": "execute_result"
    }
   ],
   "source": [
    "data.isna().sum()"
   ]
  },
  {
   "cell_type": "markdown",
   "id": "d522e295",
   "metadata": {
    "deletable": false,
    "editable": false,
    "id": "d522e295"
   },
   "source": [
    "### Изменение типов данных"
   ]
  },
  {
   "cell_type": "markdown",
   "id": "c229c581",
   "metadata": {
    "deletable": false,
    "editable": false,
    "id": "c229c581"
   },
   "source": [
    "**Задание 13. Замените вещественный тип данных в столбце `total_income` на целочисленный с помощью метода `astype()`.**"
   ]
  },
  {
   "cell_type": "code",
   "execution_count": 37,
   "id": "31036462",
   "metadata": {
    "deletable": false,
    "id": "31036462"
   },
   "outputs": [],
   "source": [
    "data['total_income'] = data['total_income'].astype(int)"
   ]
  },
  {
   "cell_type": "markdown",
   "id": "b8e3d1d9",
   "metadata": {
    "deletable": false,
    "editable": false,
    "id": "b8e3d1d9"
   },
   "source": [
    "### Обработка дубликатов"
   ]
  },
  {
   "cell_type": "markdown",
   "id": "9be53c49",
   "metadata": {
    "deletable": false,
    "editable": false,
    "id": "9be53c49"
   },
   "source": [
    "**Задание 14. Обработайте неявные дубликаты в столбце `education`. В этом столбце есть одни и те же значения, но записанные по-разному: с использованием заглавных и строчных букв. Приведите их к нижнему регистру.**"
   ]
  },
  {
   "cell_type": "code",
   "execution_count": 38,
   "id": "d89e73e1",
   "metadata": {
    "deletable": false,
    "id": "d89e73e1"
   },
   "outputs": [],
   "source": [
    "data['education'] = data['education'].str.lower()"
   ]
  },
  {
   "cell_type": "markdown",
   "id": "01d4500e",
   "metadata": {
    "deletable": false,
    "editable": false,
    "id": "01d4500e"
   },
   "source": [
    "**Задание 15. Выведите на экран количество строк-дубликатов в данных. Если такие строки присутствуют, удалите их.**"
   ]
  },
  {
   "cell_type": "code",
   "execution_count": 39,
   "id": "e10efb23",
   "metadata": {
    "deletable": false,
    "id": "e10efb23",
    "outputId": "9684deba-1934-42d1-99e1-cda61740f822"
   },
   "outputs": [
    {
     "data": {
      "text/plain": [
       "71"
      ]
     },
     "execution_count": 39,
     "metadata": {},
     "output_type": "execute_result"
    }
   ],
   "source": [
    "data.duplicated().sum()"
   ]
  },
  {
   "cell_type": "code",
   "execution_count": 40,
   "id": "df853f20",
   "metadata": {
    "deletable": false,
    "id": "df853f20"
   },
   "outputs": [],
   "source": [
    "data = data.drop_duplicates()"
   ]
  },
  {
   "cell_type": "markdown",
   "id": "627be38f",
   "metadata": {
    "deletable": false,
    "editable": false,
    "id": "627be38f"
   },
   "source": [
    "### Категоризация данных"
   ]
  },
  {
   "cell_type": "markdown",
   "id": "4684c3e0",
   "metadata": {
    "deletable": false,
    "editable": false,
    "id": "4684c3e0"
   },
   "source": [
    "**Задание 16. На основании диапазонов, указанных ниже, создайте в датафрейме `data` столбец `total_income_category` с категориями:**\n",
    "\n",
    "- 0–30000 — `'E'`;\n",
    "- 30001–50000 — `'D'`;\n",
    "- 50001–200000 — `'C'`;\n",
    "- 200001–1000000 — `'B'`;\n",
    "- 1000001 и выше — `'A'`.\n",
    "\n",
    "\n",
    "**Например, кредитополучателю с доходом 25000 нужно назначить категорию `'E'`, а клиенту, получающему 235000, — `'B'`. Используйте собственную функцию с именем `categorize_income()` и метод `apply()`.**"
   ]
  },
  {
   "cell_type": "code",
   "execution_count": 41,
   "id": "78965238",
   "metadata": {
    "deletable": false,
    "id": "78965238"
   },
   "outputs": [],
   "source": [
    "import pandas as pd\n",
    "\n",
    "def categorize_income(income):\n",
    "    if income <= 30000:\n",
    "        return 'E'\n",
    "    elif income <= 50000:\n",
    "        return 'D'\n",
    "    elif income <= 200000:\n",
    "        return 'C'\n",
    "    elif income <= 1000000:\n",
    "        return 'B'\n",
    "    else:\n",
    "        return 'A'\n"
   ]
  },
  {
   "cell_type": "code",
   "execution_count": 49,
   "id": "0980ada1",
   "metadata": {
    "deletable": false,
    "id": "0980ada1"
   },
   "outputs": [],
   "source": [
    "data['total_income_category'] = data['total_income'].apply(categorize_income)"
   ]
  },
  {
   "cell_type": "markdown",
   "id": "9917bba0",
   "metadata": {
    "deletable": false,
    "editable": false,
    "id": "9917bba0"
   },
   "source": [
    "**Задание 17. Выведите на экран перечень уникальных целей взятия кредита из столбца `purpose`.**"
   ]
  },
  {
   "cell_type": "code",
   "execution_count": 50,
   "id": "ee07b65e",
   "metadata": {
    "deletable": false,
    "id": "ee07b65e",
    "outputId": "673c12d9-7d7e-4ae0-9812-c622c89dd244"
   },
   "outputs": [
    {
     "data": {
      "text/plain": [
       "array(['покупка жилья', 'приобретение автомобиля',\n",
       "       'дополнительное образование', 'сыграть свадьбу',\n",
       "       'операции с жильем', 'образование', 'на проведение свадьбы',\n",
       "       'покупка жилья для семьи', 'покупка недвижимости',\n",
       "       'покупка коммерческой недвижимости', 'покупка жилой недвижимости',\n",
       "       'строительство собственной недвижимости', 'недвижимость',\n",
       "       'строительство недвижимости', 'на покупку подержанного автомобиля',\n",
       "       'на покупку своего автомобиля',\n",
       "       'операции с коммерческой недвижимостью',\n",
       "       'строительство жилой недвижимости', 'жилье',\n",
       "       'операции со своей недвижимостью', 'автомобили',\n",
       "       'заняться образованием', 'сделка с подержанным автомобилем',\n",
       "       'получение образования', 'автомобиль', 'свадьба',\n",
       "       'получение дополнительного образования', 'покупка своего жилья',\n",
       "       'операции с недвижимостью', 'получение высшего образования',\n",
       "       'свой автомобиль', 'сделка с автомобилем',\n",
       "       'профильное образование', 'высшее образование',\n",
       "       'покупка жилья для сдачи', 'на покупку автомобиля', 'ремонт жилью',\n",
       "       'заняться высшим образованием'], dtype=object)"
      ]
     },
     "execution_count": 50,
     "metadata": {},
     "output_type": "execute_result"
    }
   ],
   "source": [
    "data['purpose'].unique()"
   ]
  },
  {
   "cell_type": "markdown",
   "id": "52b79d56",
   "metadata": {
    "deletable": false,
    "editable": false,
    "id": "52b79d56"
   },
   "source": [
    "**Задание 18. Создайте функцию, которая на основании данных из столбца `purpose` сформирует новый столбец `purpose_category`, в который войдут следующие категории:**\n",
    "\n",
    "- `'операции с автомобилем'`,\n",
    "- `'операции с недвижимостью'`,\n",
    "- `'проведение свадьбы'`,\n",
    "- `'получение образования'`.\n",
    "\n",
    "**Например, если в столбце `purpose` находится подстрока `'на покупку автомобиля'`, то в столбце `purpose_category` должна появиться строка `'операции с автомобилем'`.**\n",
    "\n",
    "**Используйте собственную функцию с именем `categorize_purpose()` и метод `apply()`. Изучите данные в столбце `purpose` и определите, какие подстроки помогут вам правильно определить категорию.**"
   ]
  },
  {
   "cell_type": "code",
   "execution_count": 44,
   "id": "be41da5d",
   "metadata": {
    "deletable": false,
    "id": "be41da5d"
   },
   "outputs": [],
   "source": [
    "def categorize_purpose(row):\n",
    "    try:\n",
    "        if 'автом' in row:\n",
    "            return 'операции с автомобилем'\n",
    "        elif 'жил' in row or 'недвиж' in row:\n",
    "            return 'операции с недвижимостью'\n",
    "        elif 'свад' in row:\n",
    "            return 'проведение свадьбы'\n",
    "        elif 'образов' in row:\n",
    "            return 'получение образования'\n",
    "    except:\n",
    "        return 'нет категории'"
   ]
  },
  {
   "cell_type": "code",
   "execution_count": 45,
   "id": "94c4a19a",
   "metadata": {
    "deletable": false,
    "id": "94c4a19a"
   },
   "outputs": [],
   "source": [
    "data['purpose_category'] = data['purpose'].apply(categorize_purpose)"
   ]
  },
  {
   "cell_type": "markdown",
   "id": "3d596c34",
   "metadata": {
    "deletable": false,
    "editable": false,
    "id": "3d596c34"
   },
   "source": [
    "### Шаг 3. Исследуйте данные и ответьте на вопросы"
   ]
  },
  {
   "cell_type": "markdown",
   "id": "648db036",
   "metadata": {
    "deletable": false,
    "editable": false,
    "id": "648db036"
   },
   "source": [
    "#### 3.1 Есть ли зависимость между количеством детей и возвратом кредита в срок?"
   ]
  },
  {
   "cell_type": "code",
   "execution_count": 46,
   "id": "7fcff25e",
   "metadata": {
    "deletable": false,
    "id": "7fcff25e"
   },
   "outputs": [
    {
     "name": "stdout",
     "output_type": "stream",
     "text": [
      "           total_debtors  total_clients  debt_ratio\n",
      "категория                                          \n",
      "0                   1063          14149   13.310442\n",
      "1                    444           4818   10.851351\n",
      "2                    194           2055   10.592784\n",
      "3                     27            330   12.222222\n",
      "4                      4             41   10.250000\n",
      "5                      0              9         inf\n"
     ]
    }
   ],
   "source": [
    "import pandas as pd\n",
    "data = pd.read_csv('/datasets/data.csv')\n",
    "# Удаление строк с аномальными значениями в столбце 'children'.\n",
    "data = data[(data['children'] != -1) & (data['children'] != 20)]\n",
    "# Произвели группировку данных по категории \"количество детей\"\n",
    "grouped = data.groupby('children')['debt'].agg(['count', 'sum'])\n",
    "# Далее выявили общее количество кредитополучателей и общее количество должников\n",
    "grouped['total_debtors'] = grouped['sum']\n",
    "grouped['total_clients'] = grouped['count']\n",
    "\n",
    "# Подсчет доли должников\n",
    "grouped['debt_ratio'] = (grouped['total_clients'] / grouped['total_debtors']) \n",
    "\n",
    "# Удаление лишних столбцов ('count','sum')\n",
    "grouped.drop(['count', 'sum'], axis=1, inplace=True)\n",
    "\n",
    "# Переименование индекса в \"категория\"\n",
    "grouped.index.name = 'категория'\n",
    "\n",
    "# Вывод таблицы\n",
    "print(grouped)\n"
   ]
  },
  {
   "cell_type": "markdown",
   "id": "2eb9088e",
   "metadata": {
    "deletable": false,
    "id": "2eb9088e"
   },
   "source": [
    "**Вывод:** Из данных усматривается, что с увеличением количества детей, понижается количество должников. Дети явно служат для своих родителей и попечителей как большая ответственность, поэтому минимизируют количество задолженностей в банках. \n",
    "    В рамках исключения у нас категория с 3 детьми. Доля должников составляет 12.2%. Для более качественного иследования нам необходимо провести анализ данных по остальным категориям, дабы выявить причину выброса данных по этой категории. \n"
   ]
  },
  {
   "cell_type": "markdown",
   "id": "74c9b3a7",
   "metadata": {
    "deletable": false,
    "editable": false,
    "id": "74c9b3a7"
   },
   "source": [
    "#### 3.2 Есть ли зависимость между семейным положением и возвратом кредита в срок?"
   ]
  },
  {
   "cell_type": "code",
   "execution_count": 47,
   "id": "8098ab3b",
   "metadata": {
    "deletable": false,
    "id": "8098ab3b"
   },
   "outputs": [
    {
     "name": "stdout",
     "output_type": "stream",
     "text": [
      "                       total_debtors  total_clients  debt_ratio\n",
      "категория                                                      \n",
      "Не женат / не замужем            274           2813   10.266423\n",
      "гражданский брак                 388           4177   10.765464\n",
      "женат / замужем                  931          12380   13.297530\n",
      "в разводе                         85           1195   14.058824\n",
      "вдовец / вдова                    63            960   15.238095\n"
     ]
    }
   ],
   "source": [
    "import pandas as pd\n",
    "data = pd.read_csv('/datasets/data.csv')\n",
    "\n",
    "# Произвели группировку данных по категории \"количество детей\"\n",
    "grouped = data.groupby('family_status')['debt'].agg(['count', 'sum'])\n",
    "# Далее выявили общее количество кредитополучателей и общее количество должников\n",
    "grouped['total_debtors'] = grouped['sum']\n",
    "grouped['total_clients'] = grouped['count']\n",
    "\n",
    "# Подсчет доли должников\n",
    "grouped['debt_ratio'] = (grouped['total_clients'] / grouped['total_debtors']) \n",
    "\n",
    "# Удаление лишних столбцов ('count','sum')\n",
    "grouped.drop(['count', 'sum'], axis=1, inplace=True)\n",
    "\n",
    "# Переименование индекса в \"категория\"\n",
    "grouped.index.name = 'категория'\n",
    "# Для визуального удобства чтения данных, сортируем категорию по возрастанию. \n",
    "grouped_sorted = grouped.sort_values(by=['debt_ratio'])\n",
    "\n",
    "# Вывод таблицы\n",
    "print(grouped_sorted)\n"
   ]
  },
  {
   "cell_type": "markdown",
   "id": "c389ca63",
   "metadata": {
    "deletable": false,
    "id": "c389ca63"
   },
   "source": [
    "**Вывод:**  \n",
    "Очевидно, что группы населения, находящиеся в тяжелом семейном положении, являются наиболее неплатежеспособными по сравнению с остальными. \n",
    "Можно в дальнейшем для исследования взаимосвязь между категориями \"в разводе\"-\"вдовец / вдова\" и \"количество детей в семье\". "
   ]
  },
  {
   "cell_type": "markdown",
   "id": "9529de68",
   "metadata": {
    "deletable": false,
    "editable": false,
    "id": "9529de68"
   },
   "source": [
    "#### 3.3 Есть ли зависимость между уровнем дохода и возвратом кредита в срок?"
   ]
  },
  {
   "cell_type": "code",
   "execution_count": 53,
   "id": "8787f44a",
   "metadata": {
    "deletable": false,
    "id": "8787f44a"
   },
   "outputs": [
    {
     "name": "stdout",
     "output_type": "stream",
     "text": [
      "       children  days_employed  dob_years education  education_id  \\\n",
      "0             1   -8437.673028         42    высшее             0   \n",
      "1             1   -4024.803754         36   среднее             1   \n",
      "2             0   -5623.422610         33   Среднее             1   \n",
      "3             3   -4124.747207         32   среднее             1   \n",
      "4             0  340266.072047         53   среднее             1   \n",
      "...         ...            ...        ...       ...           ...   \n",
      "21520         1   -4529.316663         43   среднее             1   \n",
      "21521         0  343937.404131         67   среднее             1   \n",
      "21522         1   -2113.346888         38   среднее             1   \n",
      "21523         3   -3112.481705         38   среднее             1   \n",
      "21524         2   -1984.507589         40   среднее             1   \n",
      "\n",
      "          family_status  family_status_id gender income_type  debt  \\\n",
      "0       женат / замужем                 0      F   сотрудник     0   \n",
      "1       женат / замужем                 0      F   сотрудник     0   \n",
      "2       женат / замужем                 0      M   сотрудник     0   \n",
      "3       женат / замужем                 0      M   сотрудник     0   \n",
      "4      гражданский брак                 1      F   пенсионер     0   \n",
      "...                 ...               ...    ...         ...   ...   \n",
      "21520  гражданский брак                 1      F   компаньон     0   \n",
      "21521   женат / замужем                 0      F   пенсионер     0   \n",
      "21522  гражданский брак                 1      M   сотрудник     1   \n",
      "21523   женат / замужем                 0      M   сотрудник     1   \n",
      "21524   женат / замужем                 0      F   сотрудник     0   \n",
      "\n",
      "        total_income                       purpose total_income_category  \n",
      "0      253875.639453                 покупка жилья                     B  \n",
      "1      112080.014102       приобретение автомобиля                     C  \n",
      "2      145885.952297                 покупка жилья                     C  \n",
      "3      267628.550329    дополнительное образование                     B  \n",
      "4      158616.077870               сыграть свадьбу                     C  \n",
      "...              ...                           ...                   ...  \n",
      "21520  224791.862382             операции с жильем                     B  \n",
      "21521  155999.806512          сделка с автомобилем                     C  \n",
      "21522   89672.561153                  недвижимость                     C  \n",
      "21523  244093.050500  на покупку своего автомобиля                     B  \n",
      "21524   82047.418899         на покупку автомобиля                     C  \n",
      "\n",
      "[21525 rows x 13 columns]\n"
     ]
    }
   ],
   "source": [
    "import pandas as pd\n",
    "\n",
    "# Предположим, что у вас уже есть DataFrame с названием data и столбцами total_income_category и debt\n",
    "\n",
    "# Группировка данных по категории дохода и подсчет количества записей в каждой категории\n",
    "category_counts = data['total_income_category'].value_counts().reset_index()\n",
    "category_counts.columns = ['Категория', 'Количество']\n",
    "\n",
    "# Группировка данных по категории дохода и подсчет количества должников в каждой категории\n",
    "debt_counts = data.groupby('total_income_category')['debt'].sum().reset_index()\n",
    "debt_counts.columns = ['Категория', 'Количество должников']\n",
    "\n",
    "# Объединение таблиц по категории дохода\n",
    "merged_data = pd.merge(category_counts, debt_counts, on='Категория')\n",
    "\n",
    "# Создание дополнительного столбца с процентным соотношением должников в каждой категории от общего числа клиентов в этой категории\n",
    "merged_data['Процент должников от общего числа'] = (merged_data['Количество должников'] / merged_data['Количество']) * 100\n",
    "\n",
    "# Вывод объединенной таблицы для сравнения\n",
    "print(data)\n"
   ]
  },
  {
   "cell_type": "markdown",
   "id": "6dd14b57",
   "metadata": {
    "deletable": false,
    "id": "6dd14b57"
   },
   "source": [
    "**Вывод:** \n",
    "Поскольку основные клиенты банка-кредитора являются люди с указанным доходом от 50 000 и до 1 000 000, то сравниваем две выборки В и С. Лидирующей категорией среди должников, являются кредитополучатели, указывающие доход от 50 001 до 200 000. \n",
    "Наиболее ответственная и массивная часть кредитополучателей является группа с указанным доходом от 200 001 до 1 000 000. \n",
    "Остальные выборки необходимо проанализировать по дополнительным критериям (напр. цель получения кредита и наличие детей, поскольку это социально-отягочающие факторы, влияющие на доход)."
   ]
  },
  {
   "cell_type": "markdown",
   "id": "1dcc9b12",
   "metadata": {
    "deletable": false,
    "editable": false,
    "id": "1dcc9b12"
   },
   "source": [
    "#### 3.4 Как разные цели кредита влияют на его возврат в срок?"
   ]
  },
  {
   "cell_type": "code",
   "execution_count": 54,
   "id": "c602bc8b",
   "metadata": {
    "deletable": false,
    "id": "c602bc8b"
   },
   "outputs": [
    {
     "name": "stdout",
     "output_type": "stream",
     "text": [
      "                          no_debt  debt  debt_percentage\n",
      "purpose_category                                        \n",
      "операции с автомобилем       3530   367         9.417501\n",
      "получение образования        3266   331         9.202113\n",
      "проведение свадьбы           1941   158         7.527394\n",
      "операции с недвижимостью     9043   715         7.327321\n"
     ]
    }
   ],
   "source": [
    "import pandas as pd\n",
    "data = pd.read_csv('/datasets/data.csv')\n",
    "\n",
    "# Снова создадим функцию, которая будет объединять категории.\n",
    "def categorize_purpose(row):\n",
    "    try:\n",
    "        if 'автом' in row:\n",
    "            return 'операции с автомобилем'\n",
    "        elif 'жил' in row or 'недвиж' in row:\n",
    "            return 'операции с недвижимостью'\n",
    "        elif 'свад' in row:\n",
    "            return 'проведение свадьбы'\n",
    "        elif 'образов' in row:\n",
    "            return 'получение образования'\n",
    "        else:\n",
    "            return 'другое'\n",
    "    except:\n",
    "        return 'нет категории'\n",
    "\n",
    "data['purpose_category'] = data['purpose'].apply(categorize_purpose)\n",
    "\n",
    "# Создадим сводную таблицу с количеством должников и недолжников для каждой категории\n",
    "pivot_table = pd.pivot_table(data, index='purpose_category', columns='debt', values='total_income', aggfunc='count')\n",
    "\n",
    "# Переименовываем столбцы для лучшего понимания\n",
    "pivot_table.columns = ['no_debt', 'debt']\n",
    "\n",
    "# Добавляем столбец с процентом должников от общего числа заемщиков для каждой категории целей кредита\n",
    "pivot_table['debt_percentage'] = (pivot_table['debt'] / (pivot_table['no_debt'] + pivot_table['debt'])) * 100\n",
    "\n",
    "# Сортируем сводную таблицу по проценту должников\n",
    "pivot_table_sorted = pivot_table.sort_values(by='debt_percentage', ascending=False)\n",
    "\n",
    "# Выводим отсортированную сводную таблицу\n",
    "print(pivot_table_sorted)\n"
   ]
  },
  {
   "cell_type": "markdown",
   "id": "cf05ed63",
   "metadata": {
    "deletable": false,
    "id": "cf05ed63"
   },
   "source": [
    "**Вывод:** \n",
    "Операции с автомобилем имеют самый высокий процент должников. Это может быть связано с тем, что операции с автомобилем часто требуют значительных финансовых затрат, и заемщики могут столкнуться с финансовыми трудностями при возврате кредита.\n",
    "Получение образования также имеет высокий процент должников в размере 9.20%. Это может быть обусловлено тем, что заемщики, берущие кредит на образование, могут столкнуться с трудностями в погашении кредита из-за длительного времени обучения и невозможности получения стабильного дохода во время учебы.\n",
    "Данные по первым двум категориям лучше будет проанализировать вместе с gender — полом клиента. \n",
    "Проведение свадьбы и операции с недвижимостью имеют более низкий процент должников, составляющий 7.52% и 7.32% соответственно. Это может указывать на то, что эти категории целей кредита обладают более стабильной возвратной способностью, возможно, из-за более четко определенных целей и более высокой финансовой ответственности заемщиков."
   ]
  },
  {
   "cell_type": "markdown",
   "id": "46c1f10b",
   "metadata": {
    "deletable": false,
    "editable": false,
    "id": "46c1f10b"
   },
   "source": [
    "#### 3.5 Приведите возможные причины появления пропусков в исходных данных."
   ]
  },
  {
   "cell_type": "markdown",
   "id": "3697d2a9",
   "metadata": {
    "deletable": false,
    "id": "3697d2a9"
   },
   "source": [
    "*Ответ:* \n",
    "Возможна неполнота сбора данных или человеческие ошибки, а также баги или ошибки в программном обеспечении, которые могут быть вызваны процессами обновления программного обеспечения."
   ]
  },
  {
   "cell_type": "markdown",
   "id": "3137d257",
   "metadata": {
    "deletable": false,
    "editable": false,
    "id": "3137d257"
   },
   "source": [
    "#### 3.6 Объясните, почему заполнить пропуски медианным значением — лучшее решение для количественных переменных."
   ]
  },
  {
   "cell_type": "markdown",
   "id": "cf40012a",
   "metadata": {
    "deletable": false,
    "id": "cf40012a"
   },
   "source": [
    "*Ответ:* \n",
    "Медианное значение устойчиво к выбросам в данных. То есть использование медианы в пропусках помогает сохранить распределение данных и не искажает его форму, особенно в случае наличия выбросов и сохраняет адекватные средние данные.\n"
   ]
  },
  {
   "cell_type": "markdown",
   "id": "57bc304e",
   "metadata": {
    "deletable": false,
    "editable": false,
    "id": "57bc304e"
   },
   "source": [
    "### Шаг 4: общий вывод."
   ]
  },
  {
   "cell_type": "markdown",
   "id": "1ab75d1c",
   "metadata": {
    "deletable": false,
    "id": "1ab75d1c"
   },
   "source": [
    "Из проведенного анализа данных можно сделать следующие выводы:\n",
    "\n",
    "Влияние количества детей: Не обнаружено существенного влияния количества детей на факт возврата кредита в срок. Это означает, что наличие или отсутствие детей у заемщиков не является ключевым фактором при принятии решений о выдаче кредита.\n",
    "\n",
    "Влияние семейного положения: Также не обнаружено значительного влияния семейного положения на возврат кредита в срок. Это говорит о том, что заемщики в разных семейных статусах имеют примерно одинаковые шансы на возврат кредита в срок.\n",
    "\n",
    "Зависимость от уровня дохода: Корреляционный анализ показал, что зависимость между уровнем дохода заемщиков и возвратом кредита в срок практически незначительна. Это означает, что уровень дохода не является решающим фактором при оценке кредитоспособности.\n",
    "\n",
    "Цели кредитов: Наиболее высокий процент невозврата отмечается в случае операций с автомобилем и получения образования.\n",
    "\n",
    "Причины появления пропусков: Возможные причины появления пропусков в исходных данных могут быть связаны с неполнотой сбора данных или человеческими ошибками при заполнении анкет.\n",
    "\n",
    "Рекомендации:\n",
    "\n",
    "При оценке кредитоспособности заемщиков стоит учитывать не только их семейное положение, количество детей и уровень дохода, но и другие факторы, такие как стабильность работы, кредитная история и срочные финансовые обязательства.\n",
    "Для минимизации рисков невозврата кредита в срок рекомендуется более тщательно анализировать заемщиков, оценивая их платежеспособность и риски, связанные с конкретными целями кредитования.\n",
    "Важно систематически собирать и анализировать данные о клиентах, чтобы выявить и корректировать потенциальные проблемные области и оптимизировать процессы выдачи кредитов.\n",
    "Этот отчет представляет собой свод информации о влиянии различных факторов на возврат кредита в срок и предлагает рекомендации для более эффективного управления кредитным портфелем и минимизации рисков для банка."
   ]
  }
 ],
 "metadata": {
  "ExecuteTimeLog": [
   {
    "duration": 646,
    "start_time": "2024-03-08T09:48:24.710Z"
   },
   {
    "duration": 24,
    "start_time": "2024-03-08T09:48:25.357Z"
   },
   {
    "duration": 22,
    "start_time": "2024-03-08T09:48:25.383Z"
   },
   {
    "duration": 10,
    "start_time": "2024-03-08T09:48:25.407Z"
   },
   {
    "duration": 62,
    "start_time": "2024-03-08T09:48:25.419Z"
   },
   {
    "duration": 3,
    "start_time": "2024-03-08T09:48:25.483Z"
   },
   {
    "duration": 15,
    "start_time": "2024-03-08T09:48:25.488Z"
   },
   {
    "duration": 4,
    "start_time": "2024-03-08T09:48:25.504Z"
   },
   {
    "duration": 14,
    "start_time": "2024-03-08T09:48:25.510Z"
   },
   {
    "duration": 6,
    "start_time": "2024-03-08T09:48:25.528Z"
   },
   {
    "duration": 58,
    "start_time": "2024-03-08T09:48:25.535Z"
   },
   {
    "duration": 10,
    "start_time": "2024-03-08T09:48:25.595Z"
   },
   {
    "duration": 8,
    "start_time": "2024-03-08T09:48:25.606Z"
   },
   {
    "duration": 17,
    "start_time": "2024-03-08T09:48:25.615Z"
   },
   {
    "duration": 27,
    "start_time": "2024-03-08T09:48:25.634Z"
   },
   {
    "duration": 15,
    "start_time": "2024-03-08T09:48:25.665Z"
   },
   {
    "duration": 3,
    "start_time": "2024-03-08T09:48:25.681Z"
   },
   {
    "duration": 17,
    "start_time": "2024-03-08T09:48:25.686Z"
   },
   {
    "duration": 7,
    "start_time": "2024-03-08T09:48:25.705Z"
   },
   {
    "duration": 3,
    "start_time": "2024-03-08T09:48:25.714Z"
   },
   {
    "duration": 12,
    "start_time": "2024-03-08T09:48:25.719Z"
   },
   {
    "duration": 2,
    "start_time": "2024-03-08T09:48:25.733Z"
   },
   {
    "duration": 15,
    "start_time": "2024-03-08T09:48:25.737Z"
   },
   {
    "duration": 11,
    "start_time": "2024-03-08T09:48:25.754Z"
   },
   {
    "duration": 2,
    "start_time": "2024-03-08T09:48:25.767Z"
   },
   {
    "duration": 48,
    "start_time": "2024-03-17T11:52:27.618Z"
   },
   {
    "duration": 7,
    "start_time": "2024-03-17T11:52:45.781Z"
   },
   {
    "duration": 6,
    "start_time": "2024-03-17T11:52:50.107Z"
   },
   {
    "duration": 6,
    "start_time": "2024-03-17T12:15:31.175Z"
   },
   {
    "duration": 492,
    "start_time": "2024-03-17T12:15:36.189Z"
   },
   {
    "duration": 22,
    "start_time": "2024-03-17T12:15:37.430Z"
   },
   {
    "duration": 28,
    "start_time": "2024-03-17T12:27:59.730Z"
   },
   {
    "duration": 13,
    "start_time": "2024-03-17T12:29:58.000Z"
   },
   {
    "duration": 13,
    "start_time": "2024-03-17T12:31:21.882Z"
   },
   {
    "duration": 4,
    "start_time": "2024-03-17T12:31:28.023Z"
   },
   {
    "duration": 12,
    "start_time": "2024-03-17T12:31:35.058Z"
   },
   {
    "duration": 14,
    "start_time": "2024-03-17T12:31:54.961Z"
   },
   {
    "duration": 14,
    "start_time": "2024-03-17T12:32:11.692Z"
   },
   {
    "duration": 11,
    "start_time": "2024-03-17T12:35:04.757Z"
   },
   {
    "duration": 20,
    "start_time": "2024-03-17T12:35:14.052Z"
   },
   {
    "duration": 13,
    "start_time": "2024-03-17T12:35:23.658Z"
   },
   {
    "duration": 14,
    "start_time": "2024-03-17T12:38:32.883Z"
   },
   {
    "duration": 15,
    "start_time": "2024-03-17T12:39:19.252Z"
   },
   {
    "duration": 14,
    "start_time": "2024-03-17T12:42:17.691Z"
   },
   {
    "duration": 2,
    "start_time": "2024-03-17T12:46:38.348Z"
   },
   {
    "duration": 14,
    "start_time": "2024-03-17T12:47:14.307Z"
   },
   {
    "duration": 11,
    "start_time": "2024-03-17T13:07:34.048Z"
   },
   {
    "duration": 22,
    "start_time": "2024-03-17T13:07:38.987Z"
   },
   {
    "duration": 16,
    "start_time": "2024-03-17T13:07:54.045Z"
   },
   {
    "duration": 13,
    "start_time": "2024-03-17T13:09:49.165Z"
   },
   {
    "duration": 13,
    "start_time": "2024-03-17T13:10:16.546Z"
   },
   {
    "duration": 36,
    "start_time": "2024-03-17T13:29:32.717Z"
   },
   {
    "duration": 36,
    "start_time": "2024-03-17T13:29:35.302Z"
   },
   {
    "duration": 4,
    "start_time": "2024-03-17T13:38:20.374Z"
   },
   {
    "duration": 22,
    "start_time": "2024-03-17T13:55:44.635Z"
   },
   {
    "duration": 7,
    "start_time": "2024-03-17T13:56:21.704Z"
   },
   {
    "duration": 3,
    "start_time": "2024-03-17T13:56:24.959Z"
   },
   {
    "duration": 9,
    "start_time": "2024-03-17T13:56:25.628Z"
   },
   {
    "duration": 9,
    "start_time": "2024-03-17T13:56:38.383Z"
   },
   {
    "duration": 17,
    "start_time": "2024-03-17T13:57:01.892Z"
   },
   {
    "duration": 472,
    "start_time": "2024-03-17T14:03:43.916Z"
   },
   {
    "duration": 29,
    "start_time": "2024-03-17T14:03:44.390Z"
   },
   {
    "duration": 18,
    "start_time": "2024-03-17T14:03:44.422Z"
   },
   {
    "duration": 11,
    "start_time": "2024-03-17T14:03:44.443Z"
   },
   {
    "duration": 66,
    "start_time": "2024-03-17T14:03:44.456Z"
   },
   {
    "duration": 3,
    "start_time": "2024-03-17T14:03:44.524Z"
   },
   {
    "duration": 11,
    "start_time": "2024-03-17T14:03:44.528Z"
   },
   {
    "duration": 4,
    "start_time": "2024-03-17T14:03:44.540Z"
   },
   {
    "duration": 7,
    "start_time": "2024-03-17T14:03:44.546Z"
   },
   {
    "duration": 4,
    "start_time": "2024-03-17T14:03:44.556Z"
   },
   {
    "duration": 58,
    "start_time": "2024-03-17T14:03:44.561Z"
   },
   {
    "duration": 10,
    "start_time": "2024-03-17T14:03:44.620Z"
   },
   {
    "duration": 3,
    "start_time": "2024-03-17T14:03:44.632Z"
   },
   {
    "duration": 13,
    "start_time": "2024-03-17T14:03:44.636Z"
   },
   {
    "duration": 44,
    "start_time": "2024-03-17T14:03:44.651Z"
   },
   {
    "duration": 16,
    "start_time": "2024-03-17T14:03:44.697Z"
   },
   {
    "duration": 4,
    "start_time": "2024-03-17T14:03:44.714Z"
   },
   {
    "duration": 16,
    "start_time": "2024-03-17T14:03:44.719Z"
   },
   {
    "duration": 5,
    "start_time": "2024-03-17T14:03:44.736Z"
   },
   {
    "duration": 3,
    "start_time": "2024-03-17T14:03:44.743Z"
   },
   {
    "duration": 14,
    "start_time": "2024-03-17T14:03:44.748Z"
   },
   {
    "duration": 40,
    "start_time": "2024-03-17T14:03:44.763Z"
   },
   {
    "duration": 12,
    "start_time": "2024-03-17T14:03:44.805Z"
   },
   {
    "duration": 5,
    "start_time": "2024-03-17T14:03:44.819Z"
   },
   {
    "duration": 17,
    "start_time": "2024-03-17T14:03:44.826Z"
   },
   {
    "duration": 77,
    "start_time": "2024-03-17T14:03:48.734Z"
   },
   {
    "duration": 15,
    "start_time": "2024-03-17T14:03:48.813Z"
   },
   {
    "duration": 16,
    "start_time": "2024-03-17T14:03:48.830Z"
   },
   {
    "duration": 10,
    "start_time": "2024-03-17T14:03:48.848Z"
   },
   {
    "duration": 58,
    "start_time": "2024-03-17T14:03:48.860Z"
   },
   {
    "duration": 4,
    "start_time": "2024-03-17T14:03:48.919Z"
   },
   {
    "duration": 15,
    "start_time": "2024-03-17T14:03:48.925Z"
   },
   {
    "duration": 5,
    "start_time": "2024-03-17T14:03:48.942Z"
   },
   {
    "duration": 7,
    "start_time": "2024-03-17T14:03:48.949Z"
   },
   {
    "duration": 30,
    "start_time": "2024-03-17T14:03:48.959Z"
   },
   {
    "duration": 57,
    "start_time": "2024-03-17T14:03:48.990Z"
   },
   {
    "duration": 11,
    "start_time": "2024-03-17T14:03:49.048Z"
   },
   {
    "duration": 5,
    "start_time": "2024-03-17T14:03:49.061Z"
   },
   {
    "duration": 26,
    "start_time": "2024-03-17T14:03:49.067Z"
   },
   {
    "duration": 20,
    "start_time": "2024-03-17T14:03:49.094Z"
   },
   {
    "duration": 17,
    "start_time": "2024-03-17T14:03:49.116Z"
   },
   {
    "duration": 3,
    "start_time": "2024-03-17T14:03:49.135Z"
   },
   {
    "duration": 25,
    "start_time": "2024-03-17T14:03:49.140Z"
   },
   {
    "duration": 22,
    "start_time": "2024-03-17T14:03:49.166Z"
   },
   {
    "duration": 4,
    "start_time": "2024-03-17T14:03:49.190Z"
   },
   {
    "duration": 9,
    "start_time": "2024-03-17T14:03:49.196Z"
   },
   {
    "duration": 18,
    "start_time": "2024-03-17T14:03:49.207Z"
   },
   {
    "duration": 14,
    "start_time": "2024-03-17T14:03:49.227Z"
   },
   {
    "duration": 5,
    "start_time": "2024-03-17T14:03:49.242Z"
   },
   {
    "duration": 55,
    "start_time": "2024-03-17T14:03:49.249Z"
   },
   {
    "duration": 4,
    "start_time": "2024-03-17T14:05:44.997Z"
   },
   {
    "duration": 13,
    "start_time": "2024-03-17T14:06:01.334Z"
   },
   {
    "duration": 77,
    "start_time": "2024-03-17T14:06:11.082Z"
   },
   {
    "duration": 15,
    "start_time": "2024-03-17T14:06:11.161Z"
   },
   {
    "duration": 17,
    "start_time": "2024-03-17T14:06:11.178Z"
   },
   {
    "duration": 14,
    "start_time": "2024-03-17T14:06:11.197Z"
   },
   {
    "duration": 40,
    "start_time": "2024-03-17T14:06:11.213Z"
   },
   {
    "duration": 3,
    "start_time": "2024-03-17T14:06:11.255Z"
   },
   {
    "duration": 11,
    "start_time": "2024-03-17T14:06:11.260Z"
   },
   {
    "duration": 16,
    "start_time": "2024-03-17T14:06:11.273Z"
   },
   {
    "duration": 5,
    "start_time": "2024-03-17T14:06:11.291Z"
   },
   {
    "duration": 4,
    "start_time": "2024-03-17T14:06:11.298Z"
   },
   {
    "duration": 54,
    "start_time": "2024-03-17T14:06:11.304Z"
   },
   {
    "duration": 37,
    "start_time": "2024-03-17T14:06:11.359Z"
   },
   {
    "duration": 4,
    "start_time": "2024-03-17T14:06:11.397Z"
   },
   {
    "duration": 12,
    "start_time": "2024-03-17T14:06:11.403Z"
   },
   {
    "duration": 20,
    "start_time": "2024-03-17T14:06:11.416Z"
   },
   {
    "duration": 49,
    "start_time": "2024-03-17T14:06:11.438Z"
   },
   {
    "duration": 7,
    "start_time": "2024-03-17T14:06:11.489Z"
   },
   {
    "duration": 12,
    "start_time": "2024-03-17T14:06:11.498Z"
   },
   {
    "duration": 6,
    "start_time": "2024-03-17T14:06:11.511Z"
   },
   {
    "duration": 5,
    "start_time": "2024-03-17T14:06:11.519Z"
   },
   {
    "duration": 10,
    "start_time": "2024-03-17T14:06:11.525Z"
   },
   {
    "duration": 16,
    "start_time": "2024-03-17T14:06:11.537Z"
   },
   {
    "duration": 54,
    "start_time": "2024-03-17T14:06:11.554Z"
   },
   {
    "duration": 4,
    "start_time": "2024-03-17T14:06:11.610Z"
   },
   {
    "duration": 18,
    "start_time": "2024-03-17T14:06:11.615Z"
   },
   {
    "duration": 483,
    "start_time": "2024-03-18T06:28:20.091Z"
   },
   {
    "duration": 9,
    "start_time": "2024-03-18T06:29:25.336Z"
   },
   {
    "duration": 8,
    "start_time": "2024-03-18T06:29:53.104Z"
   },
   {
    "duration": 303,
    "start_time": "2024-03-18T06:30:56.448Z"
   },
   {
    "duration": 117,
    "start_time": "2024-03-18T06:31:16.396Z"
   },
   {
    "duration": 85,
    "start_time": "2024-03-18T06:31:27.394Z"
   },
   {
    "duration": 77,
    "start_time": "2024-03-18T06:31:46.838Z"
   },
   {
    "duration": 88,
    "start_time": "2024-03-18T07:22:57.691Z"
   },
   {
    "duration": 83,
    "start_time": "2024-03-18T07:23:04.857Z"
   },
   {
    "duration": 83,
    "start_time": "2024-03-18T07:24:23.345Z"
   },
   {
    "duration": 86,
    "start_time": "2024-03-18T07:56:16.574Z"
   },
   {
    "duration": 85,
    "start_time": "2024-03-18T07:57:43.566Z"
   },
   {
    "duration": 87,
    "start_time": "2024-03-18T09:11:12.392Z"
   },
   {
    "duration": 83,
    "start_time": "2024-03-18T10:46:32.312Z"
   },
   {
    "duration": 92,
    "start_time": "2024-03-18T11:02:56.163Z"
   },
   {
    "duration": 101,
    "start_time": "2024-03-18T11:03:30.420Z"
   },
   {
    "duration": 82,
    "start_time": "2024-03-18T11:03:42.267Z"
   },
   {
    "duration": 80,
    "start_time": "2024-03-18T11:03:53.923Z"
   },
   {
    "duration": 83,
    "start_time": "2024-03-18T11:04:09.667Z"
   },
   {
    "duration": 84,
    "start_time": "2024-03-18T11:04:31.162Z"
   },
   {
    "duration": 80,
    "start_time": "2024-03-18T11:04:41.708Z"
   },
   {
    "duration": 82,
    "start_time": "2024-03-18T11:05:33.266Z"
   },
   {
    "duration": 82,
    "start_time": "2024-03-18T11:08:54.538Z"
   },
   {
    "duration": 80,
    "start_time": "2024-03-18T11:10:23.597Z"
   },
   {
    "duration": 1108,
    "start_time": "2024-03-18T11:40:26.458Z"
   },
   {
    "duration": 11,
    "start_time": "2024-03-18T12:32:55.661Z"
   },
   {
    "duration": 1252,
    "start_time": "2024-03-18T12:37:59.844Z"
   },
   {
    "duration": 6,
    "start_time": "2024-03-18T12:38:49.222Z"
   },
   {
    "duration": 3,
    "start_time": "2024-03-18T12:39:16.373Z"
   },
   {
    "duration": 3,
    "start_time": "2024-03-18T12:39:22.354Z"
   },
   {
    "duration": 79,
    "start_time": "2024-03-18T12:42:14.970Z"
   },
   {
    "duration": 3,
    "start_time": "2024-03-18T12:42:33.884Z"
   },
   {
    "duration": 3,
    "start_time": "2024-03-18T12:43:34.708Z"
   },
   {
    "duration": 3,
    "start_time": "2024-03-18T12:44:12.376Z"
   },
   {
    "duration": 16,
    "start_time": "2024-03-18T12:44:15.629Z"
   },
   {
    "duration": 12,
    "start_time": "2024-03-18T12:44:17.695Z"
   },
   {
    "duration": 5,
    "start_time": "2024-03-18T12:44:26.508Z"
   },
   {
    "duration": 3,
    "start_time": "2024-03-18T12:44:29.095Z"
   },
   {
    "duration": 12,
    "start_time": "2024-03-18T12:52:44.482Z"
   },
   {
    "duration": 3,
    "start_time": "2024-03-18T12:52:46.598Z"
   },
   {
    "duration": 16,
    "start_time": "2024-03-18T12:54:07.541Z"
   },
   {
    "duration": 1152,
    "start_time": "2024-03-18T12:54:28.502Z"
   },
   {
    "duration": 10,
    "start_time": "2024-03-18T12:54:36.566Z"
   },
   {
    "duration": 26,
    "start_time": "2024-03-18T13:10:17.624Z"
   },
   {
    "duration": 21,
    "start_time": "2024-03-18T13:12:26.746Z"
   },
   {
    "duration": 16,
    "start_time": "2024-03-18T13:12:47.092Z"
   },
   {
    "duration": 72,
    "start_time": "2024-03-18T13:19:22.380Z"
   },
   {
    "duration": 20,
    "start_time": "2024-03-18T13:19:22.454Z"
   },
   {
    "duration": 19,
    "start_time": "2024-03-18T13:19:22.476Z"
   },
   {
    "duration": 9,
    "start_time": "2024-03-18T13:19:22.497Z"
   },
   {
    "duration": 55,
    "start_time": "2024-03-18T13:19:22.507Z"
   },
   {
    "duration": 4,
    "start_time": "2024-03-18T13:19:22.564Z"
   },
   {
    "duration": 9,
    "start_time": "2024-03-18T13:19:22.569Z"
   },
   {
    "duration": 7,
    "start_time": "2024-03-18T13:19:22.579Z"
   },
   {
    "duration": 5,
    "start_time": "2024-03-18T13:19:22.588Z"
   },
   {
    "duration": 11,
    "start_time": "2024-03-18T13:19:22.595Z"
   },
   {
    "duration": 57,
    "start_time": "2024-03-18T13:19:22.608Z"
   },
   {
    "duration": 9,
    "start_time": "2024-03-18T13:19:22.667Z"
   },
   {
    "duration": 13,
    "start_time": "2024-03-18T13:19:22.677Z"
   },
   {
    "duration": 13,
    "start_time": "2024-03-18T13:19:22.691Z"
   },
   {
    "duration": 16,
    "start_time": "2024-03-18T13:19:22.705Z"
   },
   {
    "duration": 27,
    "start_time": "2024-03-18T13:19:22.722Z"
   },
   {
    "duration": 4,
    "start_time": "2024-03-18T13:19:22.750Z"
   },
   {
    "duration": 18,
    "start_time": "2024-03-18T13:19:22.756Z"
   },
   {
    "duration": 7,
    "start_time": "2024-03-18T13:19:22.775Z"
   },
   {
    "duration": 3,
    "start_time": "2024-03-18T13:19:22.784Z"
   },
   {
    "duration": 9,
    "start_time": "2024-03-18T13:19:22.789Z"
   },
   {
    "duration": 89,
    "start_time": "2024-03-18T13:19:22.799Z"
   },
   {
    "duration": 59,
    "start_time": "2024-03-18T13:19:22.889Z"
   },
   {
    "duration": 1133,
    "start_time": "2024-03-18T13:19:22.949Z"
   },
   {
    "duration": 0,
    "start_time": "2024-03-18T13:19:24.084Z"
   },
   {
    "duration": 1115,
    "start_time": "2024-03-18T13:20:09.625Z"
   },
   {
    "duration": 1243,
    "start_time": "2024-03-18T13:20:16.747Z"
   },
   {
    "duration": 3,
    "start_time": "2024-03-18T13:21:39.603Z"
   },
   {
    "duration": 13,
    "start_time": "2024-03-18T13:21:41.999Z"
   },
   {
    "duration": 18,
    "start_time": "2024-03-18T13:22:08.140Z"
   },
   {
    "duration": 1110,
    "start_time": "2024-03-18T13:28:24.294Z"
   },
   {
    "duration": 72,
    "start_time": "2024-03-18T13:28:34.635Z"
   },
   {
    "duration": 13,
    "start_time": "2024-03-18T13:28:34.709Z"
   },
   {
    "duration": 38,
    "start_time": "2024-03-18T13:28:34.724Z"
   },
   {
    "duration": 11,
    "start_time": "2024-03-18T13:28:34.764Z"
   },
   {
    "duration": 32,
    "start_time": "2024-03-18T13:28:34.777Z"
   },
   {
    "duration": 4,
    "start_time": "2024-03-18T13:28:34.810Z"
   },
   {
    "duration": 33,
    "start_time": "2024-03-18T13:28:34.815Z"
   },
   {
    "duration": 4,
    "start_time": "2024-03-18T13:28:34.850Z"
   },
   {
    "duration": 8,
    "start_time": "2024-03-18T13:28:34.858Z"
   },
   {
    "duration": 21,
    "start_time": "2024-03-18T13:28:34.867Z"
   },
   {
    "duration": 39,
    "start_time": "2024-03-18T13:28:34.890Z"
   },
   {
    "duration": 16,
    "start_time": "2024-03-18T13:28:34.931Z"
   },
   {
    "duration": 4,
    "start_time": "2024-03-18T13:28:34.949Z"
   },
   {
    "duration": 16,
    "start_time": "2024-03-18T13:28:34.956Z"
   },
   {
    "duration": 20,
    "start_time": "2024-03-18T13:28:34.973Z"
   },
   {
    "duration": 14,
    "start_time": "2024-03-18T13:28:34.994Z"
   },
   {
    "duration": 4,
    "start_time": "2024-03-18T13:28:35.009Z"
   },
   {
    "duration": 44,
    "start_time": "2024-03-18T13:28:35.014Z"
   },
   {
    "duration": 13,
    "start_time": "2024-03-18T13:28:35.059Z"
   },
   {
    "duration": 5,
    "start_time": "2024-03-18T13:28:35.073Z"
   },
   {
    "duration": 15,
    "start_time": "2024-03-18T13:28:35.080Z"
   },
   {
    "duration": 64,
    "start_time": "2024-03-18T13:28:35.096Z"
   },
   {
    "duration": 62,
    "start_time": "2024-03-18T13:28:35.162Z"
   },
   {
    "duration": 1198,
    "start_time": "2024-03-18T13:28:35.226Z"
   },
   {
    "duration": 0,
    "start_time": "2024-03-18T13:28:36.425Z"
   },
   {
    "duration": 1130,
    "start_time": "2024-03-18T13:33:21.285Z"
   },
   {
    "duration": 1179,
    "start_time": "2024-03-18T13:33:54.922Z"
   },
   {
    "duration": 74,
    "start_time": "2024-03-18T13:34:17.401Z"
   },
   {
    "duration": 17,
    "start_time": "2024-03-18T13:34:17.477Z"
   },
   {
    "duration": 34,
    "start_time": "2024-03-18T13:34:17.495Z"
   },
   {
    "duration": 45,
    "start_time": "2024-03-18T13:34:17.530Z"
   },
   {
    "duration": 40,
    "start_time": "2024-03-18T13:34:17.577Z"
   },
   {
    "duration": 3,
    "start_time": "2024-03-18T13:34:17.618Z"
   },
   {
    "duration": 32,
    "start_time": "2024-03-18T13:34:17.622Z"
   },
   {
    "duration": 25,
    "start_time": "2024-03-18T13:34:17.655Z"
   },
   {
    "duration": 27,
    "start_time": "2024-03-18T13:34:17.681Z"
   },
   {
    "duration": 30,
    "start_time": "2024-03-18T13:34:17.709Z"
   },
   {
    "duration": 47,
    "start_time": "2024-03-18T13:34:17.740Z"
   },
   {
    "duration": 9,
    "start_time": "2024-03-18T13:34:17.788Z"
   },
   {
    "duration": 26,
    "start_time": "2024-03-18T13:34:17.798Z"
   },
   {
    "duration": 29,
    "start_time": "2024-03-18T13:34:17.826Z"
   },
   {
    "duration": 24,
    "start_time": "2024-03-18T13:34:17.857Z"
   },
   {
    "duration": 16,
    "start_time": "2024-03-18T13:34:17.883Z"
   },
   {
    "duration": 3,
    "start_time": "2024-03-18T13:34:17.900Z"
   },
   {
    "duration": 30,
    "start_time": "2024-03-18T13:34:17.904Z"
   },
   {
    "duration": 7,
    "start_time": "2024-03-18T13:34:17.935Z"
   },
   {
    "duration": 13,
    "start_time": "2024-03-18T13:34:17.944Z"
   },
   {
    "duration": 18,
    "start_time": "2024-03-18T13:34:17.959Z"
   },
   {
    "duration": 57,
    "start_time": "2024-03-18T13:34:17.978Z"
   },
   {
    "duration": 78,
    "start_time": "2024-03-18T13:34:18.037Z"
   },
   {
    "duration": 1208,
    "start_time": "2024-03-18T13:34:18.117Z"
   },
   {
    "duration": 0,
    "start_time": "2024-03-18T13:34:19.326Z"
   },
   {
    "duration": 438,
    "start_time": "2024-03-18T13:34:46.468Z"
   },
   {
    "duration": 19,
    "start_time": "2024-03-18T13:34:46.909Z"
   },
   {
    "duration": 19,
    "start_time": "2024-03-18T13:34:46.929Z"
   },
   {
    "duration": 24,
    "start_time": "2024-03-18T13:34:46.950Z"
   },
   {
    "duration": 35,
    "start_time": "2024-03-18T13:34:46.975Z"
   },
   {
    "duration": 3,
    "start_time": "2024-03-18T13:34:47.012Z"
   },
   {
    "duration": 11,
    "start_time": "2024-03-18T13:34:47.016Z"
   },
   {
    "duration": 17,
    "start_time": "2024-03-18T13:34:47.028Z"
   },
   {
    "duration": 8,
    "start_time": "2024-03-18T13:34:47.047Z"
   },
   {
    "duration": 14,
    "start_time": "2024-03-18T13:34:47.059Z"
   },
   {
    "duration": 46,
    "start_time": "2024-03-18T13:34:47.075Z"
   },
   {
    "duration": 9,
    "start_time": "2024-03-18T13:34:47.122Z"
   },
   {
    "duration": 3,
    "start_time": "2024-03-18T13:34:47.133Z"
   },
   {
    "duration": 15,
    "start_time": "2024-03-18T13:34:47.138Z"
   },
   {
    "duration": 28,
    "start_time": "2024-03-18T13:34:47.155Z"
   },
   {
    "duration": 22,
    "start_time": "2024-03-18T13:34:47.185Z"
   },
   {
    "duration": 3,
    "start_time": "2024-03-18T13:34:47.209Z"
   },
   {
    "duration": 14,
    "start_time": "2024-03-18T13:34:47.214Z"
   },
   {
    "duration": 17,
    "start_time": "2024-03-18T13:34:47.230Z"
   },
   {
    "duration": 3,
    "start_time": "2024-03-18T13:34:47.248Z"
   },
   {
    "duration": 25,
    "start_time": "2024-03-18T13:34:47.253Z"
   },
   {
    "duration": 68,
    "start_time": "2024-03-18T13:34:47.279Z"
   },
   {
    "duration": 69,
    "start_time": "2024-03-18T13:34:47.348Z"
   },
   {
    "duration": 1254,
    "start_time": "2024-03-18T13:34:47.418Z"
   },
   {
    "duration": 0,
    "start_time": "2024-03-18T13:34:48.674Z"
   },
   {
    "duration": 1430,
    "start_time": "2024-03-18T13:35:08.260Z"
   },
   {
    "duration": 1106,
    "start_time": "2024-03-18T13:35:40.479Z"
   },
   {
    "duration": 1225,
    "start_time": "2024-03-18T13:36:06.179Z"
   },
   {
    "duration": 15,
    "start_time": "2024-03-18T13:36:18.303Z"
   },
   {
    "duration": 1074,
    "start_time": "2024-03-18T13:36:31.397Z"
   },
   {
    "duration": 1159,
    "start_time": "2024-03-18T13:41:27.566Z"
   },
   {
    "duration": 1311,
    "start_time": "2024-03-18T13:42:04.607Z"
   },
   {
    "duration": 1230,
    "start_time": "2024-03-18T13:42:15.166Z"
   },
   {
    "duration": 15,
    "start_time": "2024-03-18T13:43:26.617Z"
   },
   {
    "duration": 18,
    "start_time": "2024-03-18T13:43:54.387Z"
   },
   {
    "duration": 9,
    "start_time": "2024-03-18T13:44:00.986Z"
   },
   {
    "duration": 71,
    "start_time": "2024-03-18T13:44:02.940Z"
   },
   {
    "duration": 13,
    "start_time": "2024-03-18T13:44:03.013Z"
   },
   {
    "duration": 24,
    "start_time": "2024-03-18T13:44:03.027Z"
   },
   {
    "duration": 30,
    "start_time": "2024-03-18T13:44:03.053Z"
   },
   {
    "duration": 38,
    "start_time": "2024-03-18T13:44:03.084Z"
   },
   {
    "duration": 3,
    "start_time": "2024-03-18T13:44:03.123Z"
   },
   {
    "duration": 11,
    "start_time": "2024-03-18T13:44:03.127Z"
   },
   {
    "duration": 17,
    "start_time": "2024-03-18T13:44:03.139Z"
   },
   {
    "duration": 15,
    "start_time": "2024-03-18T13:44:03.157Z"
   },
   {
    "duration": 5,
    "start_time": "2024-03-18T13:44:03.173Z"
   },
   {
    "duration": 41,
    "start_time": "2024-03-18T13:44:03.179Z"
   },
   {
    "duration": 8,
    "start_time": "2024-03-18T13:44:03.222Z"
   },
   {
    "duration": 10,
    "start_time": "2024-03-18T13:44:03.231Z"
   },
   {
    "duration": 14,
    "start_time": "2024-03-18T13:44:03.242Z"
   },
   {
    "duration": 28,
    "start_time": "2024-03-18T13:44:03.257Z"
   },
   {
    "duration": 16,
    "start_time": "2024-03-18T13:44:03.286Z"
   },
   {
    "duration": 22,
    "start_time": "2024-03-18T13:44:03.303Z"
   },
   {
    "duration": 6,
    "start_time": "2024-03-18T13:44:03.327Z"
   },
   {
    "duration": 12,
    "start_time": "2024-03-18T13:44:03.334Z"
   },
   {
    "duration": 7,
    "start_time": "2024-03-18T13:44:03.347Z"
   },
   {
    "duration": 18,
    "start_time": "2024-03-18T13:44:03.356Z"
   },
   {
    "duration": 58,
    "start_time": "2024-03-18T13:44:03.375Z"
   },
   {
    "duration": 77,
    "start_time": "2024-03-18T13:44:03.434Z"
   },
   {
    "duration": 1446,
    "start_time": "2024-03-18T13:44:03.513Z"
   },
   {
    "duration": 0,
    "start_time": "2024-03-18T13:44:04.962Z"
   },
   {
    "duration": 1089,
    "start_time": "2024-03-18T14:24:14.493Z"
   },
   {
    "duration": 12,
    "start_time": "2024-03-18T14:24:59.419Z"
   },
   {
    "duration": 18,
    "start_time": "2024-03-18T14:25:36.181Z"
   },
   {
    "duration": 15,
    "start_time": "2024-03-18T14:25:59.909Z"
   },
   {
    "duration": 47,
    "start_time": "2024-03-18T14:29:59.699Z"
   },
   {
    "duration": 10,
    "start_time": "2024-03-18T14:30:09.859Z"
   },
   {
    "duration": 62,
    "start_time": "2024-03-18T14:30:19.772Z"
   },
   {
    "duration": 120,
    "start_time": "2024-03-18T14:30:36.627Z"
   },
   {
    "duration": 74,
    "start_time": "2024-03-18T14:30:46.589Z"
   },
   {
    "duration": 81,
    "start_time": "2024-03-18T14:31:41.079Z"
   },
   {
    "duration": 72,
    "start_time": "2024-03-18T14:31:56.329Z"
   },
   {
    "duration": 77,
    "start_time": "2024-03-18T14:36:13.920Z"
   },
   {
    "duration": 1072,
    "start_time": "2024-03-18T14:36:32.811Z"
   },
   {
    "duration": 1015,
    "start_time": "2024-03-18T14:37:40.510Z"
   },
   {
    "duration": 1170,
    "start_time": "2024-03-18T14:38:44.723Z"
   },
   {
    "duration": 1128,
    "start_time": "2024-03-18T14:38:59.434Z"
   },
   {
    "duration": 7,
    "start_time": "2024-03-18T14:39:20.256Z"
   },
   {
    "duration": 1218,
    "start_time": "2024-03-18T14:39:26.402Z"
   },
   {
    "duration": 1152,
    "start_time": "2024-03-18T14:40:57.468Z"
   },
   {
    "duration": 485,
    "start_time": "2024-03-18T14:41:29.339Z"
   },
   {
    "duration": 1111,
    "start_time": "2024-03-18T14:43:51.188Z"
   },
   {
    "duration": 1199,
    "start_time": "2024-03-18T14:56:06.688Z"
   },
   {
    "duration": 1625,
    "start_time": "2024-03-18T14:56:11.767Z"
   },
   {
    "duration": 1079,
    "start_time": "2024-03-18T14:56:16.310Z"
   },
   {
    "duration": 536,
    "start_time": "2024-03-19T06:55:12.977Z"
   },
   {
    "duration": 143,
    "start_time": "2024-03-19T06:56:36.072Z"
   },
   {
    "duration": 82,
    "start_time": "2024-03-19T06:57:22.323Z"
   },
   {
    "duration": 86,
    "start_time": "2024-03-19T06:57:28.718Z"
   },
   {
    "duration": 98,
    "start_time": "2024-03-19T06:59:47.290Z"
   },
   {
    "duration": 1645,
    "start_time": "2024-03-19T07:27:59.201Z"
   },
   {
    "duration": 1498,
    "start_time": "2024-03-19T07:28:08.237Z"
   },
   {
    "duration": 1559,
    "start_time": "2024-03-19T07:28:21.193Z"
   },
   {
    "duration": 8,
    "start_time": "2024-03-19T07:28:40.525Z"
   },
   {
    "duration": 1545,
    "start_time": "2024-03-19T07:28:43.409Z"
   },
   {
    "duration": 437,
    "start_time": "2024-03-19T07:29:56.626Z"
   },
   {
    "duration": 21,
    "start_time": "2024-03-19T07:29:57.065Z"
   },
   {
    "duration": 20,
    "start_time": "2024-03-19T07:29:57.088Z"
   },
   {
    "duration": 27,
    "start_time": "2024-03-19T07:29:57.109Z"
   },
   {
    "duration": 53,
    "start_time": "2024-03-19T07:29:57.137Z"
   },
   {
    "duration": 3,
    "start_time": "2024-03-19T07:29:57.191Z"
   },
   {
    "duration": 38,
    "start_time": "2024-03-19T07:29:57.195Z"
   },
   {
    "duration": 27,
    "start_time": "2024-03-19T07:29:57.234Z"
   },
   {
    "duration": 28,
    "start_time": "2024-03-19T07:29:57.262Z"
   },
   {
    "duration": 26,
    "start_time": "2024-03-19T07:29:57.292Z"
   },
   {
    "duration": 55,
    "start_time": "2024-03-19T07:29:57.320Z"
   },
   {
    "duration": 9,
    "start_time": "2024-03-19T07:29:57.376Z"
   },
   {
    "duration": 22,
    "start_time": "2024-03-19T07:29:57.387Z"
   },
   {
    "duration": 34,
    "start_time": "2024-03-19T07:29:57.411Z"
   },
   {
    "duration": 33,
    "start_time": "2024-03-19T07:29:57.447Z"
   },
   {
    "duration": 32,
    "start_time": "2024-03-19T07:29:57.482Z"
   },
   {
    "duration": 66,
    "start_time": "2024-03-19T07:29:57.516Z"
   },
   {
    "duration": 0,
    "start_time": "2024-03-19T07:29:57.583Z"
   },
   {
    "duration": 0,
    "start_time": "2024-03-19T07:29:57.584Z"
   },
   {
    "duration": 0,
    "start_time": "2024-03-19T07:29:57.585Z"
   },
   {
    "duration": 0,
    "start_time": "2024-03-19T07:29:57.587Z"
   },
   {
    "duration": 0,
    "start_time": "2024-03-19T07:29:57.587Z"
   },
   {
    "duration": 0,
    "start_time": "2024-03-19T07:29:57.589Z"
   },
   {
    "duration": 0,
    "start_time": "2024-03-19T07:29:57.590Z"
   },
   {
    "duration": 0,
    "start_time": "2024-03-19T07:29:57.590Z"
   },
   {
    "duration": 74,
    "start_time": "2024-03-19T07:30:12.149Z"
   },
   {
    "duration": 17,
    "start_time": "2024-03-19T07:30:12.225Z"
   },
   {
    "duration": 28,
    "start_time": "2024-03-19T07:30:12.243Z"
   },
   {
    "duration": 15,
    "start_time": "2024-03-19T07:30:12.273Z"
   },
   {
    "duration": 53,
    "start_time": "2024-03-19T07:30:12.289Z"
   },
   {
    "duration": 3,
    "start_time": "2024-03-19T07:30:12.344Z"
   },
   {
    "duration": 32,
    "start_time": "2024-03-19T07:30:12.348Z"
   },
   {
    "duration": 13,
    "start_time": "2024-03-19T07:30:12.381Z"
   },
   {
    "duration": 14,
    "start_time": "2024-03-19T07:30:12.396Z"
   },
   {
    "duration": 19,
    "start_time": "2024-03-19T07:30:12.412Z"
   },
   {
    "duration": 48,
    "start_time": "2024-03-19T07:30:12.433Z"
   },
   {
    "duration": 9,
    "start_time": "2024-03-19T07:30:12.483Z"
   },
   {
    "duration": 7,
    "start_time": "2024-03-19T07:30:12.493Z"
   },
   {
    "duration": 28,
    "start_time": "2024-03-19T07:30:12.501Z"
   },
   {
    "duration": 33,
    "start_time": "2024-03-19T07:30:12.530Z"
   },
   {
    "duration": 16,
    "start_time": "2024-03-19T07:30:12.564Z"
   },
   {
    "duration": 19,
    "start_time": "2024-03-19T07:30:12.581Z"
   },
   {
    "duration": 0,
    "start_time": "2024-03-19T07:30:12.602Z"
   },
   {
    "duration": 0,
    "start_time": "2024-03-19T07:30:12.603Z"
   },
   {
    "duration": 0,
    "start_time": "2024-03-19T07:30:12.604Z"
   },
   {
    "duration": 0,
    "start_time": "2024-03-19T07:30:12.605Z"
   },
   {
    "duration": 0,
    "start_time": "2024-03-19T07:30:12.606Z"
   },
   {
    "duration": 0,
    "start_time": "2024-03-19T07:30:12.607Z"
   },
   {
    "duration": 0,
    "start_time": "2024-03-19T07:30:12.608Z"
   },
   {
    "duration": 0,
    "start_time": "2024-03-19T07:30:12.609Z"
   },
   {
    "duration": 94,
    "start_time": "2024-03-19T07:30:17.437Z"
   },
   {
    "duration": 1613,
    "start_time": "2024-03-19T07:30:21.902Z"
   },
   {
    "duration": 82,
    "start_time": "2024-03-19T07:31:05.336Z"
   },
   {
    "duration": 3,
    "start_time": "2024-03-19T07:31:08.293Z"
   },
   {
    "duration": 3,
    "start_time": "2024-03-19T07:31:35.310Z"
   },
   {
    "duration": 3,
    "start_time": "2024-03-19T07:31:38.178Z"
   },
   {
    "duration": 12,
    "start_time": "2024-03-19T07:31:56.102Z"
   },
   {
    "duration": 3,
    "start_time": "2024-03-19T07:32:06.459Z"
   },
   {
    "duration": 425,
    "start_time": "2024-03-19T07:32:43.823Z"
   },
   {
    "duration": 21,
    "start_time": "2024-03-19T07:32:44.250Z"
   },
   {
    "duration": 18,
    "start_time": "2024-03-19T07:32:44.273Z"
   },
   {
    "duration": 12,
    "start_time": "2024-03-19T07:32:44.292Z"
   },
   {
    "duration": 38,
    "start_time": "2024-03-19T07:32:44.306Z"
   },
   {
    "duration": 4,
    "start_time": "2024-03-19T07:32:44.345Z"
   },
   {
    "duration": 19,
    "start_time": "2024-03-19T07:32:44.350Z"
   },
   {
    "duration": 12,
    "start_time": "2024-03-19T07:32:44.371Z"
   },
   {
    "duration": 10,
    "start_time": "2024-03-19T07:32:44.384Z"
   },
   {
    "duration": 5,
    "start_time": "2024-03-19T07:32:44.395Z"
   },
   {
    "duration": 41,
    "start_time": "2024-03-19T07:32:44.401Z"
   },
   {
    "duration": 9,
    "start_time": "2024-03-19T07:32:44.444Z"
   },
   {
    "duration": 16,
    "start_time": "2024-03-19T07:32:44.455Z"
   },
   {
    "duration": 13,
    "start_time": "2024-03-19T07:32:44.474Z"
   },
   {
    "duration": 21,
    "start_time": "2024-03-19T07:32:44.489Z"
   },
   {
    "duration": 18,
    "start_time": "2024-03-19T07:32:44.511Z"
   },
   {
    "duration": 4,
    "start_time": "2024-03-19T07:32:44.531Z"
   },
   {
    "duration": 39,
    "start_time": "2024-03-19T07:32:44.537Z"
   },
   {
    "duration": 5,
    "start_time": "2024-03-19T07:32:44.578Z"
   },
   {
    "duration": 4,
    "start_time": "2024-03-19T07:32:44.585Z"
   },
   {
    "duration": 10,
    "start_time": "2024-03-19T07:32:44.591Z"
   },
   {
    "duration": 78,
    "start_time": "2024-03-19T07:32:44.602Z"
   },
   {
    "duration": 63,
    "start_time": "2024-03-19T07:32:44.681Z"
   },
   {
    "duration": 1598,
    "start_time": "2024-03-19T07:32:44.745Z"
   },
   {
    "duration": 0,
    "start_time": "2024-03-19T07:32:46.344Z"
   },
   {
    "duration": 1541,
    "start_time": "2024-03-19T07:33:57.438Z"
   },
   {
    "duration": 1582,
    "start_time": "2024-03-19T07:34:47.217Z"
   },
   {
    "duration": 1586,
    "start_time": "2024-03-19T07:35:19.593Z"
   },
   {
    "duration": 102,
    "start_time": "2024-03-19T07:38:24.164Z"
   },
   {
    "duration": 97,
    "start_time": "2024-03-19T07:38:30.266Z"
   },
   {
    "duration": 73,
    "start_time": "2024-03-19T07:39:05.918Z"
   },
   {
    "duration": 14,
    "start_time": "2024-03-19T07:39:05.993Z"
   },
   {
    "duration": 29,
    "start_time": "2024-03-19T07:39:06.009Z"
   },
   {
    "duration": 13,
    "start_time": "2024-03-19T07:39:06.040Z"
   },
   {
    "duration": 47,
    "start_time": "2024-03-19T07:39:06.054Z"
   },
   {
    "duration": 3,
    "start_time": "2024-03-19T07:39:06.102Z"
   },
   {
    "duration": 40,
    "start_time": "2024-03-19T07:39:06.106Z"
   },
   {
    "duration": 17,
    "start_time": "2024-03-19T07:39:06.148Z"
   },
   {
    "duration": 11,
    "start_time": "2024-03-19T07:39:06.166Z"
   },
   {
    "duration": 10,
    "start_time": "2024-03-19T07:39:06.180Z"
   },
   {
    "duration": 33,
    "start_time": "2024-03-19T07:39:06.191Z"
   },
   {
    "duration": 10,
    "start_time": "2024-03-19T07:39:06.226Z"
   },
   {
    "duration": 10,
    "start_time": "2024-03-19T07:39:06.237Z"
   },
   {
    "duration": 18,
    "start_time": "2024-03-19T07:39:06.248Z"
   },
   {
    "duration": 45,
    "start_time": "2024-03-19T07:39:06.267Z"
   },
   {
    "duration": 27,
    "start_time": "2024-03-19T07:39:06.314Z"
   },
   {
    "duration": 3,
    "start_time": "2024-03-19T07:39:06.342Z"
   },
   {
    "duration": 13,
    "start_time": "2024-03-19T07:39:06.346Z"
   },
   {
    "duration": 15,
    "start_time": "2024-03-19T07:39:06.361Z"
   },
   {
    "duration": 20,
    "start_time": "2024-03-19T07:39:06.377Z"
   },
   {
    "duration": 22,
    "start_time": "2024-03-19T07:39:06.398Z"
   },
   {
    "duration": 64,
    "start_time": "2024-03-19T07:39:06.422Z"
   },
   {
    "duration": 63,
    "start_time": "2024-03-19T07:39:06.487Z"
   },
   {
    "duration": 1578,
    "start_time": "2024-03-19T07:39:06.552Z"
   },
   {
    "duration": 0,
    "start_time": "2024-03-19T07:39:08.132Z"
   },
   {
    "duration": 515,
    "start_time": "2024-03-20T07:13:19.790Z"
   },
   {
    "duration": 21,
    "start_time": "2024-03-20T07:13:20.307Z"
   },
   {
    "duration": 15,
    "start_time": "2024-03-20T07:13:20.329Z"
   },
   {
    "duration": 9,
    "start_time": "2024-03-20T07:13:20.345Z"
   },
   {
    "duration": 41,
    "start_time": "2024-03-20T07:13:20.355Z"
   },
   {
    "duration": 3,
    "start_time": "2024-03-20T07:13:20.398Z"
   },
   {
    "duration": 10,
    "start_time": "2024-03-20T07:13:20.403Z"
   },
   {
    "duration": 4,
    "start_time": "2024-03-20T07:13:20.415Z"
   },
   {
    "duration": 11,
    "start_time": "2024-03-20T07:13:20.420Z"
   },
   {
    "duration": 4,
    "start_time": "2024-03-20T07:13:20.433Z"
   },
   {
    "duration": 62,
    "start_time": "2024-03-20T07:13:20.439Z"
   },
   {
    "duration": 10,
    "start_time": "2024-03-20T07:13:20.502Z"
   },
   {
    "duration": 4,
    "start_time": "2024-03-20T07:13:20.513Z"
   },
   {
    "duration": 11,
    "start_time": "2024-03-20T07:13:20.519Z"
   },
   {
    "duration": 18,
    "start_time": "2024-03-20T07:13:20.532Z"
   },
   {
    "duration": 16,
    "start_time": "2024-03-20T07:13:20.569Z"
   },
   {
    "duration": 3,
    "start_time": "2024-03-20T07:13:20.586Z"
   },
   {
    "duration": 9,
    "start_time": "2024-03-20T07:13:20.590Z"
   },
   {
    "duration": 8,
    "start_time": "2024-03-20T07:13:20.600Z"
   },
   {
    "duration": 16,
    "start_time": "2024-03-20T07:13:20.610Z"
   },
   {
    "duration": 12,
    "start_time": "2024-03-20T07:13:20.627Z"
   },
   {
    "duration": 68,
    "start_time": "2024-03-20T07:13:20.640Z"
   },
   {
    "duration": 75,
    "start_time": "2024-03-20T07:13:20.709Z"
   },
   {
    "duration": 1572,
    "start_time": "2024-03-20T07:13:20.786Z"
   },
   {
    "duration": 0,
    "start_time": "2024-03-20T07:13:22.360Z"
   },
   {
    "duration": 525,
    "start_time": "2025-01-10T10:03:56.903Z"
   },
   {
    "duration": 23,
    "start_time": "2025-01-10T10:03:57.430Z"
   },
   {
    "duration": 23,
    "start_time": "2025-01-10T10:03:57.455Z"
   },
   {
    "duration": 11,
    "start_time": "2025-01-10T10:03:57.480Z"
   },
   {
    "duration": 39,
    "start_time": "2025-01-10T10:03:57.492Z"
   },
   {
    "duration": 4,
    "start_time": "2025-01-10T10:03:57.532Z"
   },
   {
    "duration": 16,
    "start_time": "2025-01-10T10:03:57.537Z"
   },
   {
    "duration": 9,
    "start_time": "2025-01-10T10:03:57.570Z"
   },
   {
    "duration": 9,
    "start_time": "2025-01-10T10:03:57.582Z"
   },
   {
    "duration": 8,
    "start_time": "2025-01-10T10:03:57.593Z"
   },
   {
    "duration": 48,
    "start_time": "2025-01-10T10:03:57.602Z"
   },
   {
    "duration": 26,
    "start_time": "2025-01-10T10:03:57.653Z"
   },
   {
    "duration": 5,
    "start_time": "2025-01-10T10:03:57.680Z"
   },
   {
    "duration": 15,
    "start_time": "2025-01-10T10:03:57.686Z"
   },
   {
    "duration": 35,
    "start_time": "2025-01-10T10:03:57.702Z"
   },
   {
    "duration": 36,
    "start_time": "2025-01-10T10:03:57.739Z"
   },
   {
    "duration": 4,
    "start_time": "2025-01-10T10:03:57.777Z"
   },
   {
    "duration": 20,
    "start_time": "2025-01-10T10:03:57.783Z"
   },
   {
    "duration": 12,
    "start_time": "2025-01-10T10:03:57.805Z"
   },
   {
    "duration": 16,
    "start_time": "2025-01-10T10:03:57.819Z"
   },
   {
    "duration": 26,
    "start_time": "2025-01-10T10:03:57.837Z"
   },
   {
    "duration": 71,
    "start_time": "2025-01-10T10:03:57.865Z"
   },
   {
    "duration": 77,
    "start_time": "2025-01-10T10:03:57.938Z"
   },
   {
    "duration": 1748,
    "start_time": "2025-01-10T10:03:58.017Z"
   },
   {
    "duration": 0,
    "start_time": "2025-01-10T10:03:59.767Z"
   },
   {
    "duration": 76,
    "start_time": "2025-01-10T10:04:19.988Z"
   },
   {
    "duration": 17,
    "start_time": "2025-01-10T10:04:20.066Z"
   },
   {
    "duration": 22,
    "start_time": "2025-01-10T10:04:20.084Z"
   },
   {
    "duration": 10,
    "start_time": "2025-01-10T10:04:20.108Z"
   },
   {
    "duration": 35,
    "start_time": "2025-01-10T10:04:20.120Z"
   },
   {
    "duration": 15,
    "start_time": "2025-01-10T10:04:20.157Z"
   },
   {
    "duration": 15,
    "start_time": "2025-01-10T10:04:20.174Z"
   },
   {
    "duration": 7,
    "start_time": "2025-01-10T10:04:20.190Z"
   },
   {
    "duration": 11,
    "start_time": "2025-01-10T10:04:20.198Z"
   },
   {
    "duration": 5,
    "start_time": "2025-01-10T10:04:20.210Z"
   },
   {
    "duration": 56,
    "start_time": "2025-01-10T10:04:20.216Z"
   },
   {
    "duration": 11,
    "start_time": "2025-01-10T10:04:20.273Z"
   },
   {
    "duration": 67,
    "start_time": "2025-01-10T10:04:20.285Z"
   },
   {
    "duration": 21,
    "start_time": "2025-01-10T10:04:20.355Z"
   },
   {
    "duration": 21,
    "start_time": "2025-01-10T10:04:20.378Z"
   },
   {
    "duration": 17,
    "start_time": "2025-01-10T10:04:20.400Z"
   },
   {
    "duration": 17,
    "start_time": "2025-01-10T10:04:20.419Z"
   },
   {
    "duration": 16,
    "start_time": "2025-01-10T10:04:20.437Z"
   },
   {
    "duration": 16,
    "start_time": "2025-01-10T10:04:20.455Z"
   },
   {
    "duration": 26,
    "start_time": "2025-01-10T10:04:20.473Z"
   },
   {
    "duration": 9,
    "start_time": "2025-01-10T10:04:20.500Z"
   },
   {
    "duration": 72,
    "start_time": "2025-01-10T10:04:20.511Z"
   },
   {
    "duration": 71,
    "start_time": "2025-01-10T10:04:20.584Z"
   },
   {
    "duration": 1375,
    "start_time": "2025-01-10T10:04:20.657Z"
   },
   {
    "duration": 0,
    "start_time": "2025-01-10T10:04:22.033Z"
   },
   {
    "duration": 11,
    "start_time": "2025-01-10T10:05:46.776Z"
   },
   {
    "duration": 6,
    "start_time": "2025-01-10T10:05:48.091Z"
   },
   {
    "duration": 20,
    "start_time": "2025-01-10T10:07:38.677Z"
   },
   {
    "duration": 20,
    "start_time": "2025-01-10T10:08:02.684Z"
   },
   {
    "duration": 25,
    "start_time": "2025-01-10T10:08:17.084Z"
   },
   {
    "duration": 99,
    "start_time": "2025-01-10T10:08:22.844Z"
   }
  ],
  "colab": {
   "provenance": []
  },
  "kernelspec": {
   "display_name": "Python 3 (ipykernel)",
   "language": "python",
   "name": "python3"
  },
  "language_info": {
   "codemirror_mode": {
    "name": "ipython",
    "version": 3
   },
   "file_extension": ".py",
   "mimetype": "text/x-python",
   "name": "python",
   "nbconvert_exporter": "python",
   "pygments_lexer": "ipython3",
   "version": "3.9.5"
  },
  "toc": {
   "base_numbering": 1,
   "nav_menu": {},
   "number_sections": true,
   "sideBar": true,
   "skip_h1_title": true,
   "title_cell": "Table of Contents",
   "title_sidebar": "Contents",
   "toc_cell": false,
   "toc_position": {},
   "toc_section_display": true,
   "toc_window_display": false
  }
 },
 "nbformat": 4,
 "nbformat_minor": 5
}
