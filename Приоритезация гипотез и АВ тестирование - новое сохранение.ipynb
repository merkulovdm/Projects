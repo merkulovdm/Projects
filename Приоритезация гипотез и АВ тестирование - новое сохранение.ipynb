{
 "cells": [
  {
   "cell_type": "markdown",
   "metadata": {},
   "source": [
    "# Проект \"Крупный интернет-магазин с маленькой выручкой\""
   ]
  },
  {
   "cell_type": "markdown",
   "metadata": {},
   "source": [
    "Цель нашего проекта - вместе с отделом маркетинга приоритизировать выдвинутые гипотезы и провести А/В тестирование."
   ]
  },
  {
   "cell_type": "markdown",
   "metadata": {},
   "source": [
    "## Приоритизация гипотез."
   ]
  },
  {
   "cell_type": "markdown",
   "metadata": {},
   "source": [
    "Мы имеем 9 гиптотез по увеличению выручки интернет-магазина с указанными параметрами: \n",
    "- Reach\n",
    "- Impact\n",
    "- Confidence\n",
    "- Effort"
   ]
  },
  {
   "cell_type": "markdown",
   "metadata": {},
   "source": [
    "На данном этапе мы декомпизируем задачу на несколько подзадач:\n",
    "- применим фреймворк ICE для приоритизации гипотез;\n",
    "- отсортируем их по убыванию приоритета;\n",
    "- применим фреймворк RICE для приоритизации гипотез;\n",
    "- отсортируем их по убыванию приоритета;\n",
    "- укажем, как изменилась приоритизация гипотез при применении RICE вместо ICE;\n",
    "- объясним причину."
   ]
  },
  {
   "cell_type": "code",
   "execution_count": 1,
   "metadata": {},
   "outputs": [
    {
     "name": "stdout",
     "output_type": "stream",
     "text": [
      "                                          Hypothesis  Reach  Impact  \\\n",
      "0  Добавить два новых канала привлечения трафика,...      3      10   \n",
      "1  Запустить собственную службу доставки, что сок...      2       5   \n",
      "2  Добавить блоки рекомендаций товаров на сайт ин...      8       3   \n",
      "3  Изменить структура категорий, что увеличит кон...      8       3   \n",
      "4  Изменить цвет фона главной страницы, чтобы уве...      3       1   \n",
      "5  Добавить страницу отзывов клиентов о магазине,...      3       2   \n",
      "6  Показать на главной странице баннеры с актуаль...      5       3   \n",
      "7  Добавить форму подписки на все основные страни...     10       7   \n",
      "8  Запустить акцию, дающую скидку на товар в день...      1       9   \n",
      "\n",
      "   Confidence  Efforts  \n",
      "0           8        6  \n",
      "1           4       10  \n",
      "2           7        3  \n",
      "3           3        8  \n",
      "4           1        1  \n",
      "5           2        3  \n",
      "6           8        3  \n",
      "7           8        5  \n",
      "8           9        5  \n"
     ]
    }
   ],
   "source": [
    "import pandas as pd\n",
    "import datetime as dt\n",
    "import numpy as np\n",
    "import matplotlib.pyplot as plt\n",
    "from pandas.plotting import register_matplotlib_converters\n",
    "import warnings\n",
    "from scipy import stats as st\n",
    "# конвертеры, которые позволяют использовать типы pandas в matplotlib  \n",
    "register_matplotlib_converters()\n",
    "\n",
    "data = pd.read_csv('/datasets/hypothesis.csv', sep=',')\n",
    "\n",
    "print(data)"
   ]
  },
  {
   "cell_type": "markdown",
   "metadata": {},
   "source": [
    "### Применяем фреймворк ICE, приоритизируем гипотезы и сортируем по убыванию приоритета."
   ]
  },
  {
   "cell_type": "code",
   "execution_count": 2,
   "metadata": {},
   "outputs": [
    {
     "name": "stdout",
     "output_type": "stream",
     "text": [
      "                                          Hypothesis        ICE\n",
      "8  Запустить акцию, дающую скидку на товар в день...  16.200000\n",
      "0  Добавить два новых канала привлечения трафика,...  13.333333\n",
      "7  Добавить форму подписки на все основные страни...  11.200000\n",
      "6  Показать на главной странице баннеры с актуаль...   8.000000\n",
      "2  Добавить блоки рекомендаций товаров на сайт ин...   7.000000\n",
      "1  Запустить собственную службу доставки, что сок...   2.000000\n",
      "5  Добавить страницу отзывов клиентов о магазине,...   1.333333\n",
      "3  Изменить структура категорий, что увеличит кон...   1.125000\n",
      "4  Изменить цвет фона главной страницы, чтобы уве...   1.000000\n"
     ]
    }
   ],
   "source": [
    "data['ICE'] = (data['Impact'] * data['Confidence']) / data['Efforts']\n",
    "data_sorted = data.sort_values(by='ICE', ascending=False)\n",
    "result = data_sorted[['Hypothesis', 'ICE']]\n",
    "print (result)"
   ]
  },
  {
   "cell_type": "markdown",
   "metadata": {},
   "source": [
    "### Применяем фреймворк RICE, приоритизируем гипотезы и сортируем по убыванию приоритета."
   ]
  },
  {
   "cell_type": "code",
   "execution_count": 3,
   "metadata": {},
   "outputs": [
    {
     "name": "stdout",
     "output_type": "stream",
     "text": [
      "                                          Hypothesis   RICE\n",
      "7  Добавить форму подписки на все основные страни...  112.0\n",
      "2  Добавить блоки рекомендаций товаров на сайт ин...   56.0\n",
      "0  Добавить два новых канала привлечения трафика,...   40.0\n",
      "6  Показать на главной странице баннеры с актуаль...   40.0\n",
      "8  Запустить акцию, дающую скидку на товар в день...   16.2\n",
      "3  Изменить структура категорий, что увеличит кон...    9.0\n",
      "1  Запустить собственную службу доставки, что сок...    4.0\n",
      "5  Добавить страницу отзывов клиентов о магазине,...    4.0\n",
      "4  Изменить цвет фона главной страницы, чтобы уве...    3.0\n"
     ]
    }
   ],
   "source": [
    "data['RICE'] = (data['Reach'] * data['Impact'] * data['Confidence']) / data['Efforts']\n",
    "data_sorted = data.sort_values(by = ['RICE'], ascending=False)\n",
    "result = data_sorted[['Hypothesis', 'RICE']]\n",
    "print(result)"
   ]
  },
  {
   "cell_type": "markdown",
   "metadata": {},
   "source": [
    "При смене фреймворка, мы наблюдаем, что гипотеза \"Добавить форму подписки на все основные страницы\" с наибольшим RICE-баллом имеет наибольший приоритет, поэтому логично было бы начать тестирование с гипотезы о форме подписки.\n",
    "\n",
    "По выполнению двух фреймворком по приоритизации гипотез, мы наблюдаем, что в RICE добавлено условие с Охватом аудитории, а именно, насколько большая часть аудитории будет затронута с применением этой гипотезы. \n",
    "Соответственно, при выборе фреймворка нужно учесть, важен ли охват для нашего бизнеса. \n",
    "А поскольку мы проверяем гипотезу для интернет-магазина, то ответ очевиден."
   ]
  },
  {
   "cell_type": "markdown",
   "metadata": {},
   "source": [
    "## Анализ A/B-теста"
   ]
  },
  {
   "cell_type": "code",
   "execution_count": 4,
   "metadata": {},
   "outputs": [],
   "source": [
    "orders = pd.read_csv('/datasets/orders.csv', sep=',')\n",
    "orders['date'] = orders['date'].map(\n",
    "    lambda x: dt.datetime.strptime(x, '%Y-%m-%d')\n",
    ")"
   ]
  },
  {
   "cell_type": "code",
   "execution_count": 5,
   "metadata": {},
   "outputs": [],
   "source": [
    "visitors = pd.read_csv(\n",
    "    '/datasets/visitors.csv', sep=','\n",
    ")\n",
    "visitors['date'] = visitors['date'].map(\n",
    "    lambda x: dt.datetime.strptime(x, '%Y-%m-%d')\n",
    ")"
   ]
  },
  {
   "cell_type": "code",
   "execution_count": 6,
   "metadata": {},
   "outputs": [
    {
     "data": {
      "text/html": [
       "<div>\n",
       "<style scoped>\n",
       "    .dataframe tbody tr th:only-of-type {\n",
       "        vertical-align: middle;\n",
       "    }\n",
       "\n",
       "    .dataframe tbody tr th {\n",
       "        vertical-align: top;\n",
       "    }\n",
       "\n",
       "    .dataframe thead th {\n",
       "        text-align: right;\n",
       "    }\n",
       "</style>\n",
       "<table border=\"1\" class=\"dataframe\">\n",
       "  <thead>\n",
       "    <tr style=\"text-align: right;\">\n",
       "      <th></th>\n",
       "      <th>transactionId</th>\n",
       "      <th>visitorId</th>\n",
       "      <th>date</th>\n",
       "      <th>revenue</th>\n",
       "      <th>group</th>\n",
       "    </tr>\n",
       "  </thead>\n",
       "  <tbody>\n",
       "    <tr>\n",
       "      <th>0</th>\n",
       "      <td>3667963787</td>\n",
       "      <td>3312258926</td>\n",
       "      <td>2019-08-15</td>\n",
       "      <td>1650</td>\n",
       "      <td>B</td>\n",
       "    </tr>\n",
       "    <tr>\n",
       "      <th>1</th>\n",
       "      <td>2804400009</td>\n",
       "      <td>3642806036</td>\n",
       "      <td>2019-08-15</td>\n",
       "      <td>730</td>\n",
       "      <td>B</td>\n",
       "    </tr>\n",
       "    <tr>\n",
       "      <th>2</th>\n",
       "      <td>2961555356</td>\n",
       "      <td>4069496402</td>\n",
       "      <td>2019-08-15</td>\n",
       "      <td>400</td>\n",
       "      <td>A</td>\n",
       "    </tr>\n",
       "    <tr>\n",
       "      <th>3</th>\n",
       "      <td>3797467345</td>\n",
       "      <td>1196621759</td>\n",
       "      <td>2019-08-15</td>\n",
       "      <td>9759</td>\n",
       "      <td>B</td>\n",
       "    </tr>\n",
       "    <tr>\n",
       "      <th>4</th>\n",
       "      <td>2282983706</td>\n",
       "      <td>2322279887</td>\n",
       "      <td>2019-08-15</td>\n",
       "      <td>2308</td>\n",
       "      <td>B</td>\n",
       "    </tr>\n",
       "    <tr>\n",
       "      <th>...</th>\n",
       "      <td>...</td>\n",
       "      <td>...</td>\n",
       "      <td>...</td>\n",
       "      <td>...</td>\n",
       "      <td>...</td>\n",
       "    </tr>\n",
       "    <tr>\n",
       "      <th>1192</th>\n",
       "      <td>2662137336</td>\n",
       "      <td>3733762160</td>\n",
       "      <td>2019-08-14</td>\n",
       "      <td>6490</td>\n",
       "      <td>B</td>\n",
       "    </tr>\n",
       "    <tr>\n",
       "      <th>1193</th>\n",
       "      <td>2203539145</td>\n",
       "      <td>370388673</td>\n",
       "      <td>2019-08-14</td>\n",
       "      <td>3190</td>\n",
       "      <td>A</td>\n",
       "    </tr>\n",
       "    <tr>\n",
       "      <th>1194</th>\n",
       "      <td>1807773912</td>\n",
       "      <td>573423106</td>\n",
       "      <td>2019-08-14</td>\n",
       "      <td>10550</td>\n",
       "      <td>A</td>\n",
       "    </tr>\n",
       "    <tr>\n",
       "      <th>1195</th>\n",
       "      <td>1947021204</td>\n",
       "      <td>1614305549</td>\n",
       "      <td>2019-08-14</td>\n",
       "      <td>100</td>\n",
       "      <td>A</td>\n",
       "    </tr>\n",
       "    <tr>\n",
       "      <th>1196</th>\n",
       "      <td>3936777065</td>\n",
       "      <td>2108080724</td>\n",
       "      <td>2019-08-15</td>\n",
       "      <td>202740</td>\n",
       "      <td>B</td>\n",
       "    </tr>\n",
       "  </tbody>\n",
       "</table>\n",
       "<p>1197 rows × 5 columns</p>\n",
       "</div>"
      ],
      "text/plain": [
       "      transactionId   visitorId       date  revenue group\n",
       "0        3667963787  3312258926 2019-08-15     1650     B\n",
       "1        2804400009  3642806036 2019-08-15      730     B\n",
       "2        2961555356  4069496402 2019-08-15      400     A\n",
       "3        3797467345  1196621759 2019-08-15     9759     B\n",
       "4        2282983706  2322279887 2019-08-15     2308     B\n",
       "...             ...         ...        ...      ...   ...\n",
       "1192     2662137336  3733762160 2019-08-14     6490     B\n",
       "1193     2203539145   370388673 2019-08-14     3190     A\n",
       "1194     1807773912   573423106 2019-08-14    10550     A\n",
       "1195     1947021204  1614305549 2019-08-14      100     A\n",
       "1196     3936777065  2108080724 2019-08-15   202740     B\n",
       "\n",
       "[1197 rows x 5 columns]"
      ]
     },
     "execution_count": 6,
     "metadata": {},
     "output_type": "execute_result"
    }
   ],
   "source": [
    "orders"
   ]
  },
  {
   "cell_type": "code",
   "execution_count": 7,
   "metadata": {},
   "outputs": [
    {
     "data": {
      "text/html": [
       "<div>\n",
       "<style scoped>\n",
       "    .dataframe tbody tr th:only-of-type {\n",
       "        vertical-align: middle;\n",
       "    }\n",
       "\n",
       "    .dataframe tbody tr th {\n",
       "        vertical-align: top;\n",
       "    }\n",
       "\n",
       "    .dataframe thead th {\n",
       "        text-align: right;\n",
       "    }\n",
       "</style>\n",
       "<table border=\"1\" class=\"dataframe\">\n",
       "  <thead>\n",
       "    <tr style=\"text-align: right;\">\n",
       "      <th></th>\n",
       "      <th>date</th>\n",
       "      <th>group</th>\n",
       "      <th>visitors</th>\n",
       "    </tr>\n",
       "  </thead>\n",
       "  <tbody>\n",
       "    <tr>\n",
       "      <th>0</th>\n",
       "      <td>2019-08-01</td>\n",
       "      <td>A</td>\n",
       "      <td>719</td>\n",
       "    </tr>\n",
       "    <tr>\n",
       "      <th>1</th>\n",
       "      <td>2019-08-02</td>\n",
       "      <td>A</td>\n",
       "      <td>619</td>\n",
       "    </tr>\n",
       "    <tr>\n",
       "      <th>2</th>\n",
       "      <td>2019-08-03</td>\n",
       "      <td>A</td>\n",
       "      <td>507</td>\n",
       "    </tr>\n",
       "    <tr>\n",
       "      <th>3</th>\n",
       "      <td>2019-08-04</td>\n",
       "      <td>A</td>\n",
       "      <td>717</td>\n",
       "    </tr>\n",
       "    <tr>\n",
       "      <th>4</th>\n",
       "      <td>2019-08-05</td>\n",
       "      <td>A</td>\n",
       "      <td>756</td>\n",
       "    </tr>\n",
       "    <tr>\n",
       "      <th>...</th>\n",
       "      <td>...</td>\n",
       "      <td>...</td>\n",
       "      <td>...</td>\n",
       "    </tr>\n",
       "    <tr>\n",
       "      <th>57</th>\n",
       "      <td>2019-08-27</td>\n",
       "      <td>B</td>\n",
       "      <td>720</td>\n",
       "    </tr>\n",
       "    <tr>\n",
       "      <th>58</th>\n",
       "      <td>2019-08-28</td>\n",
       "      <td>B</td>\n",
       "      <td>654</td>\n",
       "    </tr>\n",
       "    <tr>\n",
       "      <th>59</th>\n",
       "      <td>2019-08-29</td>\n",
       "      <td>B</td>\n",
       "      <td>531</td>\n",
       "    </tr>\n",
       "    <tr>\n",
       "      <th>60</th>\n",
       "      <td>2019-08-30</td>\n",
       "      <td>B</td>\n",
       "      <td>490</td>\n",
       "    </tr>\n",
       "    <tr>\n",
       "      <th>61</th>\n",
       "      <td>2019-08-31</td>\n",
       "      <td>B</td>\n",
       "      <td>718</td>\n",
       "    </tr>\n",
       "  </tbody>\n",
       "</table>\n",
       "<p>62 rows × 3 columns</p>\n",
       "</div>"
      ],
      "text/plain": [
       "         date group  visitors\n",
       "0  2019-08-01     A       719\n",
       "1  2019-08-02     A       619\n",
       "2  2019-08-03     A       507\n",
       "3  2019-08-04     A       717\n",
       "4  2019-08-05     A       756\n",
       "..        ...   ...       ...\n",
       "57 2019-08-27     B       720\n",
       "58 2019-08-28     B       654\n",
       "59 2019-08-29     B       531\n",
       "60 2019-08-30     B       490\n",
       "61 2019-08-31     B       718\n",
       "\n",
       "[62 rows x 3 columns]"
      ]
     },
     "execution_count": 7,
     "metadata": {},
     "output_type": "execute_result"
    }
   ],
   "source": [
    "visitors"
   ]
  },
  {
   "cell_type": "markdown",
   "metadata": {},
   "source": [
    "Мы загрузили два датафрейма orders и visitors. В датафрейме orders 1197 строк и 5 колонок. В visitors 62 строки и 3 колонки."
   ]
  },
  {
   "cell_type": "markdown",
   "metadata": {},
   "source": [
    "**Проверим  корректно ли поделились пользователи в группы А и B и нет ли тех кто попал и в одну и в другую группу.**"
   ]
  },
  {
   "cell_type": "code",
   "execution_count": 14,
   "metadata": {},
   "outputs": [
    {
     "name": "stdout",
     "output_type": "stream",
     "text": [
      "Пользователи, попавшие в обе группы: {3957174400, 3984495233, 2780786433, 1294878855, 1648269707, 1614305549, 4120364173, 232979603, 199603092, 4266935830, 2712142231, 2587333274, 2716752286, 3891541246, 1668030113, 2654030115, 3234906277, 1230306981, 1404934699, 3803269165, 2949041841, 237748145, 457167155, 2927087541, 1738359350, 3062433592, 3656415546, 818047933, 393266494, 963407295, 471551937, 2579882178, 3202540741, 2686716486, 1333886533, 2044997962, 3941795274, 1801183820, 2378935119, 4256040402, 4069496402, 3766097110, 8300375, 351125977, 1602967004, 276558944, 2038680547, 3951559397, 3963646447, 4186807279, 3717692402, 1959144690, 2458001652, 2600415354, 2954449915, 1316129916, 477780734, 3972127743}\n"
     ]
    }
   ],
   "source": [
    "group_A_visitors = set(orders[orders['group'] == 'A']['visitorId'])\n",
    "group_B_visitors = set(orders[orders['group'] == 'B']['visitorId'])\n",
    "\n",
    "# Поиск пересечений между группами\n",
    "common_visitors = group_A_visitors.intersection(group_B_visitors)\n",
    "\n",
    "# Проверка наличия пересечений и вывод результатов\n",
    "if common_visitors:\n",
    "    print(\"Пользователи, попавшие в обе группы:\", common_visitors)\n",
    "else:\n",
    "    print(\"Нет пересечений между группами A и B.\")"
   ]
  },
  {
   "cell_type": "markdown",
   "metadata": {},
   "source": [
    "**Отфильтруем датафрейм, чтобы удалить пользователей из группы B, которые также находятся в группе A.**"
   ]
  },
  {
   "cell_type": "code",
   "execution_count": 75,
   "metadata": {},
   "outputs": [
    {
     "name": "stdout",
     "output_type": "stream",
     "text": [
      "      transactionId   visitorId       date  revenue group\n",
      "0        3667963787  3312258926 2019-08-15     1650     B\n",
      "1        2804400009  3642806036 2019-08-15      730     B\n",
      "2        2961555356  4069496402 2019-08-15      400     A\n",
      "3        3797467345  1196621759 2019-08-15     9759     B\n",
      "4        2282983706  2322279887 2019-08-15     2308     B\n",
      "...             ...         ...        ...      ...   ...\n",
      "1192     2662137336  3733762160 2019-08-14     6490     B\n",
      "1193     2203539145   370388673 2019-08-14     3190     A\n",
      "1194     1807773912   573423106 2019-08-14    10550     A\n",
      "1195     1947021204  1614305549 2019-08-14      100     A\n",
      "1196     3936777065  2108080724 2019-08-15   202740     B\n",
      "\n",
      "[1197 rows x 5 columns]\n"
     ]
    }
   ],
   "source": [
    "orders_cleaned = orders[~((orders['group'] == 'B') & (orders['visitorId'].isin(common_visitors)))]\n",
    "print(orders_cleaned)"
   ]
  },
  {
   "cell_type": "markdown",
   "metadata": {},
   "source": [
    "**Снова проверим, есть ли пересечения между группами А и В.**"
   ]
  },
  {
   "cell_type": "code",
   "execution_count": 16,
   "metadata": {},
   "outputs": [
    {
     "name": "stdout",
     "output_type": "stream",
     "text": [
      "Нет пересечений между группами A и B.\n"
     ]
    }
   ],
   "source": [
    "group_A_visitors = set(orders_cleaned[orders_cleaned['group'] == 'A']['visitorId'])\n",
    "group_B_visitors = set(orders_cleaned[orders_cleaned['group'] == 'B']['visitorId'])\n",
    "\n",
    "common_visitors = group_A_visitors.intersection(group_B_visitors)\n",
    "\n",
    "if common_visitors:\n",
    "    print(\"Пользователи, попавшие в обе группы:\", common_visitors)\n",
    "else:\n",
    "    print(\"Нет пересечений между группами A и B.\")"
   ]
  },
  {
   "cell_type": "markdown",
   "metadata": {},
   "source": [
    "**Проверим данные на нормальность. Критерий Шапиро-Уилка.**"
   ]
  },
  {
   "cell_type": "code",
   "execution_count": 11,
   "metadata": {},
   "outputs": [
    {
     "name": "stdout",
     "output_type": "stream",
     "text": [
      "p-значение:  0.0\n",
      "Отвергаем нулевую гипотезу: распределение не нормально\n"
     ]
    }
   ],
   "source": [
    "alpha = 0.05 # критический уровень статистической значимости\n",
    "\n",
    "results = st.shapiro(orders_cleaned['revenue'])\n",
    "p_value = results[\n",
    "    1\n",
    "]  # второе значение в массиве результатов (с индексом 1) - p-value\n",
    "\n",
    "print('p-значение: ', p_value)\n",
    "\n",
    "if p_value < alpha:\n",
    "    print('Отвергаем нулевую гипотезу: распределение не нормально')\n",
    "else:\n",
    "    print('Не получилось отвергнуть нулевую гипотезу, всё нормально')"
   ]
  },
  {
   "cell_type": "markdown",
   "metadata": {},
   "source": [
    "*Комментарий для ревьюера: \n",
    "Я что-то запутался. Почему так вышло? (я про код) :)*"
   ]
  },
  {
   "cell_type": "markdown",
   "metadata": {},
   "source": [
    "### Строим графики кумулятивной выручки по группам."
   ]
  },
  {
   "cell_type": "markdown",
   "metadata": {},
   "source": [
    "#### Прежде чем перейти к построению графиков кумулятивных метрик, создадим датафрейм из двух столбцов 'letter' и 'number'."
   ]
  },
  {
   "cell_type": "code",
   "execution_count": 12,
   "metadata": {},
   "outputs": [
    {
     "name": "stdout",
     "output_type": "stream",
     "text": [
      "  letter  number\n",
      "0      a       5\n",
      "1      b       4\n",
      "2      c       3\n",
      "3      d       2\n"
     ]
    }
   ],
   "source": [
    "# Создадим датафрейм из двух столбцов 'letter' и 'number'\n",
    "df = pd.DataFrame([['a', 5], ['b', 4], ['c', 3], ['d', 2]])  \n",
    "df.columns = ['letter', 'number']\n",
    "print(df) "
   ]
  },
  {
   "cell_type": "code",
   "execution_count": 13,
   "metadata": {},
   "outputs": [
    {
     "data": {
      "text/plain": [
       "0    15\n",
       "1    12\n",
       "2     9\n",
       "3     6\n",
       "dtype: int64"
      ]
     },
     "execution_count": 13,
     "metadata": {},
     "output_type": "execute_result"
    }
   ],
   "source": [
    "# К каждому значению столбца number применим lambda-функцию:\n",
    "df.apply(lambda x: x['number'] * 3, axis=1)"
   ]
  },
  {
   "cell_type": "code",
   "execution_count": 17,
   "metadata": {},
   "outputs": [
    {
     "name": "stdout",
     "output_type": "stream",
     "text": [
      "        date group  orders  revenue  visitors\n",
      "0 2019-08-01     A      20   148579       719\n",
      "1 2019-08-01     B      17    59758       713\n",
      "2 2019-08-02     A      38   242401      1338\n",
      "3 2019-08-02     B      39   221801      1294\n",
      "4 2019-08-03     A      62   354874      1845\n"
     ]
    }
   ],
   "source": [
    "# Создадим датафрейм datesGroups с уникальными парами значений 'date' и 'group', таблицы orders и избавимся от дубликатов.\n",
    "datesGroups = orders_cleaned[['date','group']].drop_duplicates()\n",
    "# Объявим новую переменную. \n",
    "ordersAggregated = datesGroups.apply(lambda x: orders_cleaned[np.logical_and(orders_cleaned['date'] <= x['date'], orders_cleaned['group'] == x['group'])]\\\n",
    ".agg({'date' : 'max', 'group' : 'max', 'visitorId' : 'nunique', 'visitorId' : 'nunique', 'revenue' : 'sum'}), axis=1).sort_values(by=['date','group'])\n",
    "# Объявим новую переменную. \n",
    "visitorsAggregated = datesGroups.apply(lambda x: visitors[np.logical_and(visitors['date'] <= x['date'], visitors['group'] == x['group'])].agg({'date' : 'max', 'group' : 'max', 'visitors' : 'sum'}), axis=1).sort_values(by=['date','group'])\n",
    "# Объявим новую переменную.\n",
    "cumulativeData = ordersAggregated.merge(visitorsAggregated, left_on=['date', 'group'], right_on=['date', 'group'])\n",
    "cumulativeData.columns = ['date', 'group', 'orders', 'revenue', 'visitors']\n",
    "\n",
    "print(cumulativeData.head(5))"
   ]
  },
  {
   "cell_type": "code",
   "execution_count": 18,
   "metadata": {},
   "outputs": [],
   "source": [
    "# Выведем новую переменную с количеством посетителей для группы A на каждую дату\n",
    "visitorsADaily = visitors[visitors['group'] == 'A'][['date', 'visitors']]\n",
    "visitorsADaily.columns = ['date', 'visitorsPerDateA']"
   ]
  },
  {
   "cell_type": "code",
   "execution_count": 19,
   "metadata": {},
   "outputs": [],
   "source": [
    "# Выведем новую переменную с количеством посетителей для группы В на каждую дату\n",
    "visitorsBDaily = visitors[visitors['group'] == 'B'][['date', 'visitors']]\n",
    "visitorsBDaily.columns = ['date', 'visitorsPerDateB']"
   ]
  },
  {
   "cell_type": "code",
   "execution_count": 86,
   "metadata": {},
   "outputs": [
    {
     "name": "stdout",
     "output_type": "stream",
     "text": [
      "        date  ordersPerDateA  revenuePerDateA  ordersPerDateB  \\\n",
      "0 2019-08-01              24           148579              21   \n",
      "1 2019-08-02              20            93822              24   \n",
      "2 2019-08-03              24           112473              16   \n",
      "3 2019-08-04              16            70825              17   \n",
      "4 2019-08-05              25           124218              23   \n",
      "\n",
      "   revenuePerDateB  ordersCummulativeA  revenueCummulativeA  \\\n",
      "0           101217                  24               148579   \n",
      "1           165531                  44               242401   \n",
      "2           114248                  68               354874   \n",
      "3           108571                  84               425699   \n",
      "4            92428                 109               549917   \n",
      "\n",
      "   ordersCummulativeB  revenueCummulativeB  visitorsPerDateA  \\\n",
      "0                  21               101217               719   \n",
      "1                  45               266748               619   \n",
      "2                  61               380996               507   \n",
      "3                  78               489567               717   \n",
      "4                 101               581995               756   \n",
      "\n",
      "   visitorsPerDateB  visitorsCummulativeA  visitorsCummulativeB  \n",
      "0               713                   719                   713  \n",
      "1               581                  1338                  1294  \n",
      "2               509                  1845                  1803  \n",
      "3               770                  2562                  2573  \n",
      "4               707                  3318                  3280  \n"
     ]
    }
   ],
   "source": [
    "# Теперь объявим переменные в которых сохраним данные о датах, выручке и числе заказов в группах A и B.\n",
    "visitorsACummulative = visitorsADaily.apply(\n",
    "    lambda x: visitorsADaily[visitorsADaily['date'] <= x['date']].agg(\n",
    "        {'date': 'max', 'visitorsPerDateA': 'sum'}\n",
    "    ),\n",
    "    axis=1,\n",
    ")\n",
    "visitorsACummulative.columns = ['date', 'visitorsCummulativeA']\n",
    "\n",
    "visitorsBCummulative = visitorsBDaily.apply(\n",
    "    lambda x: visitorsBDaily[visitorsBDaily['date'] <= x['date']].agg(\n",
    "        {'date': 'max', 'visitorsPerDateB': 'sum'}\n",
    "    ),\n",
    "    axis=1,\n",
    ")\n",
    "visitorsBCummulative.columns = ['date', 'visitorsCummulativeB']\n",
    "\n",
    "ordersADaily = (\n",
    "    orders[orders['group'] == 'A'][['date', 'transactionId', 'visitorId', 'revenue']]\n",
    "    .groupby('date', as_index=False)\n",
    "    .agg({'transactionId': pd.Series.nunique, 'revenue': 'sum'})\n",
    ")\n",
    "ordersADaily.columns = ['date', 'ordersPerDateA', 'revenuePerDateA']\n",
    "\n",
    "ordersACummulative = ordersADaily.apply(\n",
    "    lambda x: ordersADaily[ordersADaily['date'] <= x['date']].agg(\n",
    "        {'date': 'max', 'ordersPerDateA': 'sum', 'revenuePerDateA': 'sum'}\n",
    "    ),\n",
    "    axis=1,\n",
    ").sort_values(by=['date'])\n",
    "ordersACummulative.columns = [\n",
    "    'date',\n",
    "    'ordersCummulativeA',\n",
    "    'revenueCummulativeA',\n",
    "]\n",
    "\n",
    "ordersBDaily = (\n",
    "    orders[orders['group'] == 'B'][['date', 'transactionId', 'visitorId', 'revenue']]\n",
    "    .groupby('date', as_index=False)\n",
    "    .agg({'transactionId': pd.Series.nunique, 'revenue': 'sum'})\n",
    ")\n",
    "ordersBDaily.columns = ['date', 'ordersPerDateB', 'revenuePerDateB']\n",
    "\n",
    "ordersBCummulative = ordersBDaily.apply(\n",
    "    lambda x: ordersBDaily[ordersBDaily['date'] <= x['date']].agg(\n",
    "        {'date': 'max', 'ordersPerDateB': 'sum', 'revenuePerDateB': 'sum'}\n",
    "    ),\n",
    "    axis=1,\n",
    ").sort_values(by=['date'])\n",
    "ordersBCummulative.columns = [\n",
    "    'date',\n",
    "    'ordersCummulativeB',\n",
    "    'revenueCummulativeB',\n",
    "]\n",
    "\n",
    "data = (\n",
    "    ordersADaily.merge(\n",
    "        ordersBDaily, left_on='date', right_on='date', how='left'\n",
    "    )\n",
    "    .merge(ordersACummulative, left_on='date', right_on='date', how='left')\n",
    "    .merge(ordersBCummulative, left_on='date', right_on='date', how='left')\n",
    "    .merge(visitorsADaily, left_on='date', right_on='date', how='left')\n",
    "    .merge(visitorsBDaily, left_on='date', right_on='date', how='left')\n",
    "    .merge(visitorsACummulative, left_on='date', right_on='date', how='left')\n",
    "    .merge(visitorsBCummulative, left_on='date', right_on='date', how='left')\n",
    ")\n",
    "\n",
    "print(data.head(5))"
   ]
  },
  {
   "cell_type": "code",
   "execution_count": 22,
   "metadata": {},
   "outputs": [
    {
     "data": {
      "text/plain": [
       "<matplotlib.legend.Legend at 0x7f81f5628580>"
      ]
     },
     "execution_count": 22,
     "metadata": {},
     "output_type": "execute_result"
    },
    {
     "data": {
      "image/png": "[encoded data removed]",
      "text/plain": [
       "<Figure size 432x288 with 1 Axes>"
      ]
     },
     "metadata": {
      "needs_background": "light"
     },
     "output_type": "display_data"
    }
   ],
   "source": [
    "# Строим график выручки группы А\n",
    "plt.plot(data['revenueCummulativeA'], label='A')\n",
    "\n",
    "# Строим график выручки группы B\n",
    "plt.plot(data['revenueCummulativeB'], label='B')\n",
    "\n",
    "# Добавляем заголовок\n",
    "plt.title('Кумулятивная выручка групп A и B')\n",
    "\n",
    "# Добавляем подписи осей\n",
    "plt.xlabel('Время')\n",
    "plt.ylabel('Кумулятивная выручка')\n",
    "\n",
    "plt.legend() "
   ]
  },
  {
   "cell_type": "markdown",
   "metadata": {},
   "source": [
    "По прошествию половины месяца, мы наблюдаем резкий рост по группе В. Этот рост сохранился на уровне кумулятивной выручке 4 и продолжает синхронный рост вместе с А группой."
   ]
  },
  {
   "cell_type": "markdown",
   "metadata": {},
   "source": [
    "### Теперь построим график кумулятивного среднего чека по группам."
   ]
  },
  {
   "cell_type": "code",
   "execution_count": 28,
   "metadata": {},
   "outputs": [
    {
     "data": {
      "text/plain": [
       "<matplotlib.legend.Legend at 0x7f81f5554f40>"
      ]
     },
     "execution_count": 28,
     "metadata": {},
     "output_type": "execute_result"
    },
    {
     "data": {
      "image/png": "[encoded data removed]",
      "text/plain": [
       "<Figure size 432x288 with 1 Axes>"
      ]
     },
     "metadata": {
      "needs_background": "light"
     },
     "output_type": "display_data"
    }
   ],
   "source": [
    "# Вычисляем средний чек\n",
    "cumulativeRevenueA = cumulativeData[cumulativeData['group'] == 'A'][\n",
    "    ['date', 'revenue', 'orders']\n",
    "]\n",
    "cumulativeRevenueB = cumulativeData[cumulativeData['group'] == 'B'][\n",
    "    ['date', 'revenue', 'orders']\n",
    "]\n",
    "plt.plot(cumulativeRevenueA['date'], cumulativeRevenueA['revenue']/cumulativeRevenueA['orders'], label='A')\n",
    "plt.plot(cumulativeRevenueB['date'], cumulativeRevenueB['revenue']/cumulativeRevenueB['orders'], label='B')\n",
    "\n",
    "# Добавляем заголовок\n",
    "plt.title('График кумулятивного среднего чека по группам')\n",
    "\n",
    "# Добавляем подписи осей\n",
    "plt.xlabel('Дата')\n",
    "plt.ylabel('Сумма среднего чека')\n",
    "\n",
    "# Повернем даты для лучшей читаемости.\n",
    "plt.xticks(rotation=40)\n",
    "\n",
    "plt.legend()"
   ]
  },
  {
   "cell_type": "markdown",
   "metadata": {},
   "source": [
    "Что-то после 2019-08-17 сподвигло группу В увеличить сумму среднего чека практически в два раза. Очень похоже на аномалию, либо в группе В объявился меценат, который хочет закупиться в нашем интернет-магазине и порадовать деток. В любом случае, нам предстоит разобраться в этом."
   ]
  },
  {
   "cell_type": "markdown",
   "metadata": {},
   "source": [
    "### Построим график относительного изменения кумулятивного среднего чека группы B к группе A."
   ]
  },
  {
   "cell_type": "code",
   "execution_count": 43,
   "metadata": {},
   "outputs": [
    {
     "data": {
      "image/png": "[encoded data removed]",
      "text/plain": [
       "<Figure size 432x288 with 1 Axes>"
      ]
     },
     "metadata": {
      "needs_background": "light"
     },
     "output_type": "display_data"
    }
   ],
   "source": [
    "# собираем данные в одном датафрейме\n",
    "mergedCumulativeRevenue = cumulativeRevenueA.merge(cumulativeRevenueB, left_on='date', right_on='date', how='left', suffixes=['A', 'B'])\n",
    "\n",
    "# cтроим отношение средних чеков\n",
    "plt.plot(mergedCumulativeRevenue['date'], (mergedCumulativeRevenue['revenueB']/mergedCumulativeRevenue['ordersB'])/(mergedCumulativeRevenue['revenueA']/mergedCumulativeRevenue['ordersA'])-1)\n",
    "\n",
    "# добавляем ось X\n",
    "plt.axhline(y=0, color='black', linestyle='--')\n",
    "\n",
    "# Добавляем заголовок\n",
    "plt.title('График относительного изменения кумулятивного среднего чека группы B к группе A')\n",
    "\n",
    "# Добавляем подписи осей\n",
    "plt.xlabel('Дата')\n",
    "plt.ylabel('Число относительности')\n",
    "\n",
    "# Повернем даты для лучшей читаемости.\n",
    "_ = plt.xticks(rotation=40)"
   ]
  },
  {
   "cell_type": "markdown",
   "metadata": {},
   "source": [
    "На данном графике мы видим, что в группе В средний кумулятивный чек относительно группы А имел небольшое различие в начале тестирования, но по прошествию 17 дней, разница составила 0.4 между группами. "
   ]
  },
  {
   "cell_type": "markdown",
   "metadata": {},
   "source": [
    "### Построим график кумулятивного среднего количества заказов на посетителя по группам."
   ]
  },
  {
   "cell_type": "code",
   "execution_count": 73,
   "metadata": {},
   "outputs": [
    {
     "data": {
      "image/png": "[encoded data removed]",
      "text/plain": [
       "<Figure size 432x288 with 1 Axes>"
      ]
     },
     "metadata": {
      "needs_background": "light"
     },
     "output_type": "display_data"
    }
   ],
   "source": [
    "cumulativeData['date'] = pd.to_datetime(cumulativeData['date'])\n",
    "\n",
    "# считаем среднее количество заказов на посетителя\n",
    "cumulativeData['conversion'] = cumulativeData['orders']/cumulativeData['visitors']\n",
    "\n",
    "# отделяем данные по группе A\n",
    "cumulativeDataA = cumulativeData[cumulativeData['group']=='A']\n",
    "\n",
    "# отделяем данные по группе B\n",
    "cumulativeDataB = cumulativeData[cumulativeData['group']=='B']\n",
    "\n",
    "# строим графики\n",
    "plt.plot(cumulativeDataA['date'], cumulativeDataA['conversion'], label='A')\n",
    "plt.plot(cumulativeDataB['date'], cumulativeDataB['conversion'], label='B')\n",
    "plt.legend()\n",
    "\n",
    "# задаем масштаб осей\n",
    "plt.axis([dt.datetime(2019, 8, 1), dt.datetime(2019, 8, 31), 0, 0.05])\n",
    "\n",
    "# Добавляем заголовок\n",
    "plt.title('График кумулятивного среднего количества заказов на посетителя по группам')\n",
    "\n",
    "# Добавляем подписи осей\n",
    "plt.xlabel('Дата')\n",
    "plt.ylabel('Среднее кол-во заказов')\n",
    "\n",
    "# Повернем даты для лучшей читаемости.\n",
    "_ = plt.xticks(rotation=40)"
   ]
  },
  {
   "cell_type": "markdown",
   "metadata": {},
   "source": [
    "На данном графике мы наблюдаем, что среднее количество заказов в кумулятивном виде держится на одном уровне. (Если не брать в расчет начало тестирования). "
   ]
  },
  {
   "cell_type": "markdown",
   "metadata": {},
   "source": [
    "### Строим график относительного изменения кумулятивного среднего количества заказов на посетителя группы B к группе A. "
   ]
  },
  {
   "cell_type": "code",
   "execution_count": 45,
   "metadata": {},
   "outputs": [
    {
     "data": {
      "image/png": "[encoded data removed]",
      "text/plain": [
       "<Figure size 432x288 with 1 Axes>"
      ]
     },
     "metadata": {
      "needs_background": "light"
     },
     "output_type": "display_data"
    }
   ],
   "source": [
    "cumulativeData['conversion'] = (\n",
    "    cumulativeData['orders'] / cumulativeData['visitors']\n",
    ")\n",
    "\n",
    "cumulativeDataA = cumulativeData[cumulativeData['group'] == 'A']\n",
    "cumulativeDataB = cumulativeData[cumulativeData['group'] == 'B']\n",
    "mergedCumulativeConversions = cumulativeDataA[['date','conversion']].merge(cumulativeDataB[['date','conversion']], left_on='date', right_on='date', how='left', suffixes=['A', 'B'])\n",
    "\n",
    "plt.plot(mergedCumulativeConversions['date'], mergedCumulativeConversions['conversionB']/mergedCumulativeConversions['conversionA']-1, label=\"Относительный прирост кумулятивного среднего количества заказов на посетителя группы B относительно группы A\")\n",
    "plt.legend()\n",
    "\n",
    "plt.axhline(y=0, color='black', linestyle='--')\n",
    "plt.axhline(y=0.2, color='grey', linestyle='--')\n",
    "plt.axis([\"2019-08-01\", '2019-08-31', -0.5, 0.5])\n",
    "\n",
    "# Добавляем подписи осей\n",
    "plt.xlabel('Дата')\n",
    "plt.ylabel('Кумулятивное среднее число прироста заказов')\n",
    "\n",
    "# Повернем даты для лучшей читаемости.\n",
    "_ = plt.xticks(rotation=40)"
   ]
  },
  {
   "cell_type": "markdown",
   "metadata": {},
   "source": [
    "График относительного изменения кумулятивного среднего количества заказов на посетителя группы B к группе A практически на одном уровне."
   ]
  },
  {
   "cell_type": "markdown",
   "metadata": {},
   "source": [
    "### Построим точечный график количества заказов по пользователям."
   ]
  },
  {
   "cell_type": "code",
   "execution_count": 107,
   "metadata": {},
   "outputs": [
    {
     "data": {
      "image/png": "[encoded data removed]",
      "text/plain": [
       "<Figure size 432x288 with 1 Axes>"
      ]
     },
     "metadata": {
      "needs_background": "light"
     },
     "output_type": "display_data"
    }
   ],
   "source": [
    "# Выведем новую переменную для группировки.\n",
    "orders_per_user = orders_cleaned.groupby('visitorId')['transactionId'].count().reset_index()\n",
    "\n",
    "orders_per_user.columns = ['visitorId', 'order_count']\n",
    "\n",
    "# Расчитаем график\n",
    "x_values = pd.Series(range(0, len(orders_per_user['order_count'])))\n",
    "plt.scatter(x_values, orders_per_user['order_count'], alpha=0.5, edgecolor='k')\n",
    "\n",
    "# Добавляем заголовок\n",
    "plt.title('График количества заказов по пользователям')\n",
    "\n",
    "# Добавляем подписи осей\n",
    "plt.xlabel('Количество пользователей')\n",
    "plt.ylabel('Число заказов')\n",
    "\n",
    "# Повернем числа для лучшей читаемости.\n",
    "_ = plt.xticks(rotation=40)"
   ]
  },
  {
   "cell_type": "markdown",
   "metadata": {},
   "source": [
    "По графику мы наблюдаем, что бОльшая часть пользователей совершает от 1 до 3 заказов. Примем границу аномальных заказов от 4 до 7. "
   ]
  },
  {
   "cell_type": "markdown",
   "metadata": {},
   "source": [
    "### Считаем 95-й и 99-й перцентили количества заказов НА пользователя."
   ]
  },
  {
   "cell_type": "code",
   "execution_count": 82,
   "metadata": {},
   "outputs": [
    {
     "name": "stdout",
     "output_type": "stream",
     "text": [
      "[37.39410939 40.1378164 ]\n"
     ]
    }
   ],
   "source": [
    "# Выведем новую переменную для количества заказа на пользователя.\n",
    "cumulativeDataOnVisitors = (cumulativeData['visitors'] / cumulativeData['orders'])\n",
    "\n",
    "print(np.percentile(cumulativeDataOnVisitors, [95, 99])) "
   ]
  },
  {
   "cell_type": "markdown",
   "metadata": {},
   "source": [
    "Не более, чем 5% пользователей заказывают 37 заказов. И не больше, чем у 1% количество заказов почти переваливает за 40.\n",
    "\n",
    "\n"
   ]
  },
  {
   "cell_type": "markdown",
   "metadata": {},
   "source": [
    "### Строим точечный график стоимостей заказов."
   ]
  },
  {
   "cell_type": "code",
   "execution_count": 108,
   "metadata": {},
   "outputs": [
    {
     "data": {
      "text/plain": [
       "<matplotlib.collections.PathCollection at 0x7f81e8f67970>"
      ]
     },
     "execution_count": 108,
     "metadata": {},
     "output_type": "execute_result"
    },
    {
     "data": {
      "image/png": "[encoded data removed]",
      "text/plain": [
       "<Figure size 432x288 with 1 Axes>"
      ]
     },
     "metadata": {
      "needs_background": "light"
     },
     "output_type": "display_data"
    }
   ],
   "source": [
    "# Добавляем заголовок\n",
    "plt.title('Точечный график стоимостей заказов')\n",
    "\n",
    "# Добавляем подписи осей\n",
    "plt.xlabel('Количество пользователей')\n",
    "plt.ylabel('Число заказов')\n",
    "\n",
    "x_values = pd.Series(range(0,len(orders_cleaned['revenue'])))\n",
    "plt.scatter(x_values, orders_cleaned['revenue']) "
   ]
  },
  {
   "cell_type": "markdown",
   "metadata": {},
   "source": [
    "#### Строим еще один график, без выбросов, что бы рассмотреть основную массу заказов."
   ]
  },
  {
   "cell_type": "code",
   "execution_count": 109,
   "metadata": {},
   "outputs": [
    {
     "data": {
      "image/png": "[encoded data removed]",
      "text/plain": [
       "<Figure size 432x288 with 1 Axes>"
      ]
     },
     "metadata": {
      "needs_background": "light"
     },
     "output_type": "display_data"
    }
   ],
   "source": [
    "# Максимальное количество заказов для нормальных пользователей\n",
    "order_count_threshold = 3\n",
    "\n",
    "# Максимальная стоимость заказа для фильтрации (95-й перцентиль)\n",
    "revenue_threshold = 27470  \n",
    "\n",
    "# Фильтруем данные на основе количества заказов (не более 3) и стоимости заказа (не более 27470)\n",
    "filtered_orders = orders_cleaned[\n",
    "    (orders_per_user['order_count'] <= order_count_threshold) &\n",
    "    (orders_cleaned['revenue'] <= revenue_threshold)\n",
    "]\n",
    "\n",
    "# Построим график без выбросов.\n",
    "x_values = pd.Series(range(0, len(filtered_orders['revenue'])))\n",
    "plt.scatter(x_values, filtered_orders['revenue'], alpha=0.5)\n",
    "\n",
    "# Добавляем заголовок\n",
    "plt.title('Точечный график, без выбросов, что бы рассмотреть основную массу заказов')\n",
    "\n",
    "plt.xlabel('Количество заказов')\n",
    "plt.ylabel('Стоимость заказа')\n",
    "\n",
    "# Повернем числа для лучшей читаемости\n",
    "_ = plt.xticks(rotation=40)\n",
    "\n",
    "plt.show()"
   ]
  },
  {
   "cell_type": "markdown",
   "metadata": {},
   "source": [
    "### Считаем 95-й и 99-й перцентили стоимости заказов."
   ]
  },
  {
   "cell_type": "code",
   "execution_count": 103,
   "metadata": {},
   "outputs": [
    {
     "name": "stdout",
     "output_type": "stream",
     "text": [
      "[28000.  58233.2]\n"
     ]
    }
   ],
   "source": [
    "print(np.percentile(orders_cleaned['revenue'], [95, 99]))"
   ]
  },
  {
   "cell_type": "markdown",
   "metadata": {},
   "source": [
    "Не более, чем у 5% заказов чек дороже 27 470. И не больше, чем у 1% заказов - дороже 58 047."
   ]
  },
  {
   "cell_type": "markdown",
   "metadata": {},
   "source": [
    "#### Полагаю, что нужно выявить выборсы и аномальные значения"
   ]
  },
  {
   "cell_type": "markdown",
   "metadata": {},
   "source": [
    "Сформулируем гипотезы. \n",
    "\n",
    "Нулевая: различий в среднем количестве заказов между группами нет. \n",
    "\n",
    "Альтернативная: различия в среднем между группами есть."
   ]
  },
  {
   "cell_type": "markdown",
   "metadata": {},
   "source": [
    "#### Для начала построим гистограмму распределения числа заказов по пользователям методом hist()."
   ]
  },
  {
   "cell_type": "code",
   "execution_count": 115,
   "metadata": {},
   "outputs": [
    {
     "data": {
      "text/plain": [
       "(array([937.,  64.,  17.,   3.,   6.,   0.,   0.,   1.,   1.,   2.]),\n",
       " array([ 1.,  2.,  3.,  4.,  5.,  6.,  7.,  8.,  9., 10., 11.]),\n",
       " <BarContainer object of 10 artists>)"
      ]
     },
     "execution_count": 115,
     "metadata": {},
     "output_type": "execute_result"
    },
    {
     "data": {
      "image/png": "[encoded data removed]",
      "text/plain": [
       "<Figure size 432x288 with 1 Axes>"
      ]
     },
     "metadata": {
      "needs_background": "light"
     },
     "output_type": "display_data"
    }
   ],
   "source": [
    "# Добавляем заголовок\n",
    "plt.title('Гистограмма распределения числа заказов по пользователям')\n",
    "\n",
    "plt.xlabel('Количество заказов')\n",
    "plt.ylabel('Стоимость заказа')\n",
    "\n",
    "plt.hist(orders_per_user['order_count'])"
   ]
  },
  {
   "cell_type": "markdown",
   "metadata": {},
   "source": [
    "Большинство пользователей совершают от 1 до 3-х заказов."
   ]
  },
  {
   "cell_type": "markdown",
   "metadata": {},
   "source": [
    "##### Построим диаграмму методом scatter()"
   ]
  },
  {
   "cell_type": "code",
   "execution_count": 117,
   "metadata": {},
   "outputs": [
    {
     "data": {
      "text/plain": [
       "<matplotlib.collections.PathCollection at 0x7f81e70f63d0>"
      ]
     },
     "execution_count": 117,
     "metadata": {},
     "output_type": "execute_result"
    },
    {
     "data": {
      "image/png": "[encoded data removed]",
      "text/plain": [
       "<Figure size 432x288 with 1 Axes>"
      ]
     },
     "metadata": {
      "needs_background": "light"
     },
     "output_type": "display_data"
    }
   ],
   "source": [
    "# Добавляем заголовок\n",
    "plt.title('Диаграмма распределения числа заказов по пользователям')\n",
    "\n",
    "plt.xlabel('Стоимость заказов')\n",
    "plt.ylabel('Количество заказа')\n",
    "\n",
    "x_values = pd.Series(range(0,len(orders_per_user['order_count'])))\n",
    "plt.scatter(x_values, orders_per_user['order_count']) "
   ]
  },
  {
   "cell_type": "markdown",
   "metadata": {},
   "source": [
    "Аномально малое количество заказов начинается от 3-4 на пользователя."
   ]
  },
  {
   "cell_type": "markdown",
   "metadata": {},
   "source": [
    "### Считаем статистическую значимость различий в среднем количестве заказов на посетителя между группами по «сырым» данным. "
   ]
  },
  {
   "cell_type": "markdown",
   "metadata": {},
   "source": [
    "Создадим переменные ordersByUsersA и ordersByUsersB со столбцами ['visitorId', 'transactionId']. В них для пользователей, которые заказывали хотя бы 1 раз, укажем число совершённых заказов."
   ]
  },
  {
   "cell_type": "code",
   "execution_count": 121,
   "metadata": {},
   "outputs": [],
   "source": [
    "ordersByUsersA = (\n",
    "    orders_cleaned[orders_cleaned['group'] == 'A']\n",
    "    .groupby('visitorId', as_index=False)\n",
    "    .agg({'transactionId': pd.Series.nunique})\n",
    ")\n",
    "ordersByUsersA.columns = ['visitorId', 'transactionId']\n",
    "\n",
    "ordersByUsersB = (\n",
    "    orders_cleaned[orders_cleaned['group'] == 'B']\n",
    "    .groupby('visitorId', as_index=False)\n",
    "    .agg({'transactionId': pd.Series.nunique})\n",
    ")\n",
    "ordersByUsersB.columns = ['visitorId', 'transactionId']"
   ]
  },
  {
   "cell_type": "markdown",
   "metadata": {},
   "source": [
    "Объявим переменные sampleA и sampleB, в которых пользователям из разных групп будет соответствовать количество заказов. Тем, кто ничего не заказал, будут соответствовать нули. Это нужно, чтобы подготовить выборки к проверке критерием Манна-Уитни."
   ]
  },
  {
   "cell_type": "code",
   "execution_count": 127,
   "metadata": {},
   "outputs": [
    {
     "name": "stdout",
     "output_type": "stream",
     "text": [
      "0.017\n",
      "0.138\n"
     ]
    }
   ],
   "source": [
    "# Объявим новые переменные. Тем, кто ничего не заказал, будут соответствовать нули. \n",
    "pd.Series(0, index=np.arange(data['visitorsPerDateA'].sum() - len(ordersByUsersA['transactionId'])), name='transactionId')\n",
    "\n",
    "[ordersByUsersA['transactionId'],pd.Series(0, index=np.arange(data['visitorsPerDateA'].sum() - len(ordersByUsersA['transactionId'])), name='transactionId')]\n",
    "\n",
    "\n",
    "# Передаем аргумент, сообщающий, что объекты Series нужно объединить по строкам\n",
    "sampleA = pd.concat([ordersByUsersA['transactionId'],pd.Series(0, index=np.arange(data['visitorsPerDateA'].sum() - len(ordersByUsersA['transactionId'])), name='transactionId')],axis=0)\n",
    "\n",
    "sampleB = pd.concat([ordersByUsersB['transactionId'],pd.Series(0, index=np.arange(data['visitorsPerDateB'].sum() - len(ordersByUsersB['transactionId'])), name='transactionId')],axis=0)\n",
    "\n",
    "# Выведем относительный прирост среднего числа заказов группы B\n",
    "print(\"{0:.3f}\".format(st.mannwhitneyu(sampleA, sampleB)[1]))\n",
    "\n",
    "print(\"{0:.3f}\".format(sampleB.mean() / sampleA.mean() - 1))"
   ]
  },
  {
   "cell_type": "markdown",
   "metadata": {},
   "source": [
    "Первое число — p-value = 0.017  Значит, нулевую гипотезу о том, что статистически значимых различий в среднем числе заказов между группами нет, не отвергаем. "
   ]
  },
  {
   "cell_type": "markdown",
   "metadata": {},
   "source": [
    "### Считаем статистическую значимость различий в среднем чеке заказа между группами по «сырым» данным."
   ]
  },
  {
   "cell_type": "markdown",
   "metadata": {},
   "source": [
    "Чтобы рассчитать статистическую значимость различий в среднем чеке, передадим критерию mannwhitneyu() данные о выручке с заказов. "
   ]
  },
  {
   "cell_type": "code",
   "execution_count": 129,
   "metadata": {},
   "outputs": [
    {
     "name": "stdout",
     "output_type": "stream",
     "text": [
      "0.729\n",
      "0.259\n"
     ]
    }
   ],
   "source": [
    "print('{0:.3f}'.format(st.mannwhitneyu(orders_cleaned[orders_cleaned['group']=='A']['revenue'], orders_cleaned[orders_cleaned['group']=='B']['revenue'])[1]))\n",
    "print('{0:.3f}'.format(orders_cleaned[orders_cleaned['group']=='B']['revenue'].mean()/orders_cleaned[orders_cleaned['group']=='A']['revenue'].mean()-1))"
   ]
  },
  {
   "cell_type": "markdown",
   "metadata": {},
   "source": [
    "P-value значительно больше 0.05. Значит, причин отвергать нулевую гипотезу и считать, что в среднем чеке есть различия, нет."
   ]
  },
  {
   "cell_type": "markdown",
   "metadata": {},
   "source": [
    "#### Отчистим данные от аномальных заказов"
   ]
  },
  {
   "cell_type": "markdown",
   "metadata": {},
   "source": [
    "#### Примем за аномальных пользователей тех, кто совершил от 4 заказов или совершил заказ дороже 10 000 рублей. "
   ]
  },
  {
   "cell_type": "code",
   "execution_count": 124,
   "metadata": {},
   "outputs": [
    {
     "name": "stdout",
     "output_type": "stream",
     "text": [
      "71        8300375\n",
      "231      71018815\n",
      "848     102981183\n",
      "568     113298937\n",
      "1099    148427295\n",
      "Name: visitorId, dtype: int64\n",
      "222\n"
     ]
    }
   ],
   "source": [
    "usersWithManyOrders = pd.concat(\n",
    "    [\n",
    "        ordersByUsersA[ordersByUsersA['transactionId'] > 4]['visitorId'],\n",
    "        ordersByUsersB[ordersByUsersB['transactionId'] > 4]['visitorId'],\n",
    "    ],\n",
    "    axis=0,\n",
    ")\n",
    "usersWithExpensiveOrders = orders_cleaned[orders_cleaned['revenue'] > 10000]['visitorId']\n",
    "abnormalUsers = (\n",
    "    pd.concat([usersWithManyOrders, usersWithExpensiveOrders], axis=0)\n",
    "    .drop_duplicates()\n",
    "    .sort_values()\n",
    ")\n",
    "print(abnormalUsers.head(5))\n",
    "print(abnormalUsers.shape[0])"
   ]
  },
  {
   "cell_type": "markdown",
   "metadata": {},
   "source": [
    "Всего по установленным данным, мы выявили 222 аномальных пользователя."
   ]
  },
  {
   "cell_type": "markdown",
   "metadata": {},
   "source": [
    "### Посчитаем статистическую значимость различий в среднем количестве заказов на посетителя между группами по «очищенным» данным"
   ]
  },
  {
   "cell_type": "markdown",
   "metadata": {},
   "source": [
    "#### Сначала подготовим выборки количества заказов по пользователям по группам теста:"
   ]
  },
  {
   "cell_type": "code",
   "execution_count": 131,
   "metadata": {},
   "outputs": [
    {
     "name": "stdout",
     "output_type": "stream",
     "text": [
      "0.012\n",
      "0.183\n"
     ]
    }
   ],
   "source": [
    "sampleAFiltered = pd.concat(\n",
    "    [\n",
    "        ordersByUsersA[\n",
    "            np.logical_not(ordersByUsersA['visitorId'].isin(abnormalUsers))\n",
    "        ]['transactionId'],\n",
    "        pd.Series(\n",
    "            0,\n",
    "            index=np.arange(\n",
    "                data['visitorsPerDateA'].sum() - len(ordersByUsersA['transactionId'])\n",
    "            ),\n",
    "            name='transactionId',\n",
    "        ),\n",
    "    ],\n",
    "    axis=0,\n",
    ")\n",
    "\n",
    "sampleBFiltered = pd.concat(\n",
    "    [\n",
    "        ordersByUsersB[\n",
    "            np.logical_not(ordersByUsersB['visitorId'].isin(abnormalUsers))\n",
    "        ]['transactionId'],\n",
    "        pd.Series(\n",
    "            0,\n",
    "            index=np.arange(\n",
    "                data['visitorsPerDateB'].sum() - len(ordersByUsersB['transactionId'])\n",
    "            ),\n",
    "            name='transactionId',\n",
    "        ),\n",
    "    ],\n",
    "    axis=0,\n",
    ")\n",
    "\n",
    "# Применим статистический критерий Манна-Уитни\n",
    "print('{0:.3f}'.format(st.mannwhitneyu(sampleAFiltered, sampleBFiltered)[1]))\n",
    "print('{0:.3f}'.format(sampleBFiltered.mean()/sampleAFiltered.mean()-1))"
   ]
  },
  {
   "cell_type": "markdown",
   "metadata": {},
   "source": [
    "Результаты по среднему количеству заказов практически не изменились. "
   ]
  },
  {
   "cell_type": "markdown",
   "metadata": {},
   "source": [
    "### Посчитаем  статистическую значимость различий в среднем чеке заказа между группами по «очищенным» данным."
   ]
  },
  {
   "cell_type": "code",
   "execution_count": 133,
   "metadata": {},
   "outputs": [
    {
     "name": "stdout",
     "output_type": "stream",
     "text": [
      "0.528\n",
      "0.037\n"
     ]
    }
   ],
   "source": [
    "print(\n",
    "    '{0:.3f}'.format(\n",
    "        st.mannwhitneyu(\n",
    "            orders_cleaned[\n",
    "                np.logical_and(\n",
    "                    orders_cleaned['group'] == 'A',\n",
    "                    np.logical_not(orders_cleaned['visitorId'].isin(abnormalUsers)),\n",
    "                )\n",
    "            ]['revenue'],\n",
    "            orders_cleaned[\n",
    "                np.logical_and(\n",
    "                    orders_cleaned['group'] == 'B',\n",
    "                    np.logical_not(orders_cleaned['visitorId'].isin(abnormalUsers)),\n",
    "                )\n",
    "            ]['revenue'],\n",
    "        )[1]\n",
    "    )\n",
    ")\n",
    "\n",
    "print(\n",
    "    \"{0:.3f}\".format(\n",
    "        orders_cleaned[\n",
    "            np.logical_and(\n",
    "                orders_cleaned['group'] == 'B',\n",
    "                np.logical_not(orders_cleaned['visitorId'].isin(abnormalUsers)),\n",
    "            )\n",
    "        ]['revenue'].mean()\n",
    "        / orders_cleaned[\n",
    "            np.logical_and(\n",
    "                orders_cleaned['group'] == 'A',\n",
    "                np.logical_not(orders_cleaned['visitorId'].isin(abnormalUsers)),\n",
    "            )\n",
    "        ]['revenue'].mean()\n",
    "        - 1\n",
    "    )\n",
    ")"
   ]
  },
  {
   "cell_type": "markdown",
   "metadata": {},
   "source": [
    "P-value увеличился, но и разница между сегментами сократилась."
   ]
  },
  {
   "cell_type": "markdown",
   "metadata": {},
   "source": [
    "## Выводы"
   ]
  },
  {
   "cell_type": "markdown",
   "metadata": {},
   "source": [
    "#### Касаемо приоритизации гипотез:"
   ]
  },
  {
   "cell_type": "markdown",
   "metadata": {},
   "source": [
    "Мы применили фреймворк RICE для приоритизации гипотез. Три из них находятся в топе:\n",
    "\n",
    "Добавить форму подписки на все основные страницы (RICE 112.0)\n",
    "Добавить блоки рекомендаций товаров на сайт интернет-магазина (RICE 56)\n",
    "Добавить два новых канала привлечения трафика (RICE 40)\n",
    "Гипотеза с наибольшим RICE-баллом имеет наибольший приоритет, поэтому логично было бы начать тестирование с гипотезы о форме подписки."
   ]
  },
  {
   "cell_type": "markdown",
   "metadata": {},
   "source": [
    "#### Анализ сырых данных:"
   ]
  },
  {
   "cell_type": "markdown",
   "metadata": {},
   "source": [
    "**Среднее количество заказов на посетителя:** P-value = 0.017: Этот показатель ниже порогового значения 0.05, что говорит о том, что между группами есть статистически значимые различия. Это означает, что изменения в одной из групп могли повлиять на среднее количество заказов на посетителя.\n",
    "P-value = 0.138: Этот показатель выше порогового значения 0.05, что указывает на отсутствие статистически значимых различий.\n",
    "\n",
    "**Средний чек:** \n",
    "P-value = 0.729 и 0.259: Оба значения значительно превышают 0.05, что означает отсутствие статистически значимых различий между группами по среднему чеку заказа."
   ]
  },
  {
   "cell_type": "markdown",
   "metadata": {},
   "source": [
    "#### Анализ очищенных данных:"
   ]
  },
  {
   "cell_type": "markdown",
   "metadata": {},
   "source": [
    "**Среднее количество заказов на посетителя:** P-value = 0.012: Этот показатель ниже 0.05, что говорит о наличии статистически значимых различий между группами после очистки данных.\n",
    "P-value = 0.183: Этот показатель выше 0.05, что указывает на отсутствие статистически значимых различий.\n",
    "\n",
    "**Средний чек:** P-value = 0.551.\n",
    "P-value = 0.528: Значение выше 0.05, что означает отсутствие значимых различий по среднему чеку после очистки данных.\n",
    "P-value = 0.037: Значение ниже 0.05, что указывает на наличие статистически значимых различий."
   ]
  },
  {
   "cell_type": "markdown",
   "metadata": {},
   "source": [
    "#### Выводы:"
   ]
  },
  {
   "cell_type": "markdown",
   "metadata": {},
   "source": [
    "- Среднее количество заказов на посетителя: В «сырых» данных наблюдается значимое различие, однако после очистки данных статистическая значимость сохраняется только в одном из двух тестов. Это может свидетельствовать о том, что очистка данных помогла убрать возможные выбросы, и различия стали более значимыми.\n",
    "- Средний чек заказа: В «сырых» данных различия не были значимыми, но после очистки данных одно из значений стало статистически значимым, что может говорить о влиянии очистки на данные.\n",
    "- Вердикт таков: я бы рекомендовал остановить тест и признать его успешным, если ваши приоритеты связаны с увеличением среднего количества заказов.\n",
    "- По очищенным данным мы получили статистически значимые различия в среднем количестве заказов на посетителя (p-value = 0.012). Это ключевая метрика, и если мы позитивные изменения в этой области, это указывает на успех эксперимента.\n",
    "- Хотя результаты по среднему чеку не столь однозначны (p-value = 0.037 в одном из тестов), это все же указывает на возможное положительное влияние изменений. Учитвая, что у нас есть большое количество аномальных заказов. \n",
    "- Не имея дополнительной информации и существенно новых данных, мы рискуем только увеличить время проведения эксперимента."
   ]
  },
  {
   "cell_type": "markdown",
   "metadata": {},
   "source": [
    "#### Рекомендации: "
   ]
  },
  {
   "cell_type": "markdown",
   "metadata": {},
   "source": [
    "**Дополнительные метрики:** В целом, можно рассмотреть и другие метрики (например, время на сайте, количество просмотров страниц, глубина просмотра, версии приложения (десктоп или мобайл)), которые могут дать дополнительные инсайты."
   ]
  }
 ],
 "metadata": {
  "ExecuteTimeLog": [
   {
    "duration": 493,
    "start_time": "2024-08-16T08:24:48.037Z"
   },
   {
    "duration": 66,
    "start_time": "2024-08-16T08:35:39.192Z"
   },
   {
    "duration": 32,
    "start_time": "2024-08-16T08:35:43.900Z"
   },
   {
    "duration": 33,
    "start_time": "2024-08-16T08:35:57.521Z"
   },
   {
    "duration": 38,
    "start_time": "2024-08-16T08:41:11.678Z"
   },
   {
    "duration": 39,
    "start_time": "2024-08-16T08:44:13.585Z"
   },
   {
    "duration": 34,
    "start_time": "2024-08-16T08:44:37.539Z"
   },
   {
    "duration": 8,
    "start_time": "2024-08-16T08:44:41.192Z"
   },
   {
    "duration": 9,
    "start_time": "2024-08-16T08:45:15.801Z"
   },
   {
    "duration": 455,
    "start_time": "2024-08-16T09:30:04.521Z"
   },
   {
    "duration": 6,
    "start_time": "2024-08-16T09:30:52.761Z"
   },
   {
    "duration": 9,
    "start_time": "2024-08-16T09:31:30.877Z"
   },
   {
    "duration": 185,
    "start_time": "2024-08-16T09:35:24.474Z"
   },
   {
    "duration": 61,
    "start_time": "2024-08-16T09:35:33.306Z"
   },
   {
    "duration": 34,
    "start_time": "2024-08-16T09:35:38.939Z"
   },
   {
    "duration": 6,
    "start_time": "2024-08-16T09:35:55.595Z"
   },
   {
    "duration": 5,
    "start_time": "2024-08-16T09:35:56.365Z"
   },
   {
    "duration": 41,
    "start_time": "2024-08-16T09:37:23.236Z"
   },
   {
    "duration": 9,
    "start_time": "2024-08-16T09:37:24.300Z"
   },
   {
    "duration": 9,
    "start_time": "2024-08-16T09:37:24.668Z"
   },
   {
    "duration": 64,
    "start_time": "2024-08-16T09:37:25.520Z"
   },
   {
    "duration": 21,
    "start_time": "2024-08-16T09:37:25.750Z"
   },
   {
    "duration": 5,
    "start_time": "2024-08-16T09:37:26.703Z"
   },
   {
    "duration": 6,
    "start_time": "2024-08-16T09:37:27.119Z"
   },
   {
    "duration": 407,
    "start_time": "2024-08-16T09:39:33.036Z"
   },
   {
    "duration": 34,
    "start_time": "2024-08-16T09:39:51.395Z"
   },
   {
    "duration": 8,
    "start_time": "2024-08-16T09:39:52.195Z"
   },
   {
    "duration": 9,
    "start_time": "2024-08-16T09:39:52.645Z"
   },
   {
    "duration": 443,
    "start_time": "2024-08-16T09:39:54.184Z"
   },
   {
    "duration": 61,
    "start_time": "2024-08-16T09:40:31.754Z"
   },
   {
    "duration": 6,
    "start_time": "2024-08-16T09:40:38.643Z"
   },
   {
    "duration": 6,
    "start_time": "2024-08-16T09:40:39.017Z"
   },
   {
    "duration": 3,
    "start_time": "2024-08-16T09:40:39.674Z"
   },
   {
    "duration": 27,
    "start_time": "2024-08-16T09:43:21.624Z"
   },
   {
    "duration": 537,
    "start_time": "2024-08-16T09:45:38.911Z"
   },
   {
    "duration": 530,
    "start_time": "2024-08-16T10:39:26.664Z"
   },
   {
    "duration": 26,
    "start_time": "2024-08-16T10:40:55.317Z"
   },
   {
    "duration": 555,
    "start_time": "2024-08-16T10:41:25.028Z"
   },
   {
    "duration": 238,
    "start_time": "2024-08-16T10:42:09.106Z"
   },
   {
    "duration": 502,
    "start_time": "2024-08-16T10:59:11.422Z"
   },
   {
    "duration": 540,
    "start_time": "2024-08-16T11:00:36.582Z"
   },
   {
    "duration": 504,
    "start_time": "2024-08-16T11:05:28.518Z"
   },
   {
    "duration": 506,
    "start_time": "2024-08-16T11:09:34.301Z"
   },
   {
    "duration": 506,
    "start_time": "2024-08-16T11:09:38.373Z"
   },
   {
    "duration": 546,
    "start_time": "2024-08-16T11:12:23.266Z"
   },
   {
    "duration": 248,
    "start_time": "2024-08-16T11:14:49.930Z"
   },
   {
    "duration": 504,
    "start_time": "2024-08-16T11:15:07.599Z"
   },
   {
    "duration": 260,
    "start_time": "2024-08-16T11:15:15.744Z"
   },
   {
    "duration": 508,
    "start_time": "2024-08-16T11:15:35.865Z"
   },
   {
    "duration": 512,
    "start_time": "2024-08-16T11:16:48.477Z"
   },
   {
    "duration": 61,
    "start_time": "2024-08-16T11:18:35.430Z"
   },
   {
    "duration": 276,
    "start_time": "2024-08-16T11:18:35.819Z"
   },
   {
    "duration": 34,
    "start_time": "2024-08-16T11:18:51.214Z"
   },
   {
    "duration": 6,
    "start_time": "2024-08-16T11:18:53.672Z"
   },
   {
    "duration": 5,
    "start_time": "2024-08-16T11:18:54.194Z"
   },
   {
    "duration": 238,
    "start_time": "2024-08-16T11:18:54.697Z"
   },
   {
    "duration": 536,
    "start_time": "2024-08-16T11:25:11.862Z"
   },
   {
    "duration": 257,
    "start_time": "2024-08-16T11:27:10.585Z"
   },
   {
    "duration": 285,
    "start_time": "2024-08-16T11:27:33.100Z"
   },
   {
    "duration": 268,
    "start_time": "2024-08-16T11:27:39.068Z"
   },
   {
    "duration": 261,
    "start_time": "2024-08-16T11:28:43.729Z"
   },
   {
    "duration": 500,
    "start_time": "2024-08-16T11:30:06.328Z"
   },
   {
    "duration": 61,
    "start_time": "2024-08-16T11:36:20.556Z"
   },
   {
    "duration": 61,
    "start_time": "2024-08-16T11:36:31.613Z"
   },
   {
    "duration": 59,
    "start_time": "2024-08-16T11:39:10.879Z"
   },
   {
    "duration": 60,
    "start_time": "2024-08-16T11:39:18.757Z"
   },
   {
    "duration": 60,
    "start_time": "2024-08-16T11:39:25.467Z"
   },
   {
    "duration": 300,
    "start_time": "2024-08-16T11:40:03.076Z"
   },
   {
    "duration": 55,
    "start_time": "2024-08-16T11:41:26.535Z"
   },
   {
    "duration": 60,
    "start_time": "2024-08-16T11:41:36.581Z"
   },
   {
    "duration": 54,
    "start_time": "2024-08-16T11:42:03.986Z"
   },
   {
    "duration": 53,
    "start_time": "2024-08-16T11:42:08.870Z"
   },
   {
    "duration": 34,
    "start_time": "2024-08-16T11:42:16.757Z"
   },
   {
    "duration": 60,
    "start_time": "2024-08-16T11:42:22.657Z"
   },
   {
    "duration": 490,
    "start_time": "2024-08-16T11:45:12.112Z"
   },
   {
    "duration": 48,
    "start_time": "2024-08-16T11:45:46.002Z"
   },
   {
    "duration": 61,
    "start_time": "2024-08-16T11:46:15.183Z"
   },
   {
    "duration": 33,
    "start_time": "2024-08-16T11:47:08.751Z"
   },
   {
    "duration": 289,
    "start_time": "2024-08-16T11:47:22.324Z"
   },
   {
    "duration": 277,
    "start_time": "2024-08-16T11:59:56.370Z"
   },
   {
    "duration": 35,
    "start_time": "2024-08-16T12:03:14.829Z"
   },
   {
    "duration": 282,
    "start_time": "2024-08-16T12:03:22.774Z"
   },
   {
    "duration": 68,
    "start_time": "2024-08-16T12:04:45.986Z"
   },
   {
    "duration": 56,
    "start_time": "2024-08-16T12:05:20.081Z"
   },
   {
    "duration": 0,
    "start_time": "2024-08-16T12:05:38.955Z"
   },
   {
    "duration": 530,
    "start_time": "2024-08-16T12:08:36.045Z"
   },
   {
    "duration": 289,
    "start_time": "2024-08-16T12:08:50.259Z"
   },
   {
    "duration": 381,
    "start_time": "2024-08-16T12:09:27.123Z"
   },
   {
    "duration": 233,
    "start_time": "2024-08-16T12:10:25.853Z"
   },
   {
    "duration": 209,
    "start_time": "2024-08-16T12:11:19.116Z"
   },
   {
    "duration": 157,
    "start_time": "2024-08-16T12:11:24.276Z"
   },
   {
    "duration": 164,
    "start_time": "2024-08-16T12:11:48.755Z"
   },
   {
    "duration": 172,
    "start_time": "2024-08-16T12:12:04.875Z"
   },
   {
    "duration": 163,
    "start_time": "2024-08-16T12:12:43.398Z"
   },
   {
    "duration": 175,
    "start_time": "2024-08-16T12:13:08.276Z"
   },
   {
    "duration": 304,
    "start_time": "2024-08-16T12:16:04.207Z"
   },
   {
    "duration": 1002,
    "start_time": "2024-08-16T12:26:12.674Z"
   },
   {
    "duration": 996,
    "start_time": "2024-08-16T12:27:50.556Z"
   },
   {
    "duration": 223,
    "start_time": "2024-08-16T12:29:25.204Z"
   },
   {
    "duration": 991,
    "start_time": "2024-08-16T12:30:12.173Z"
   },
   {
    "duration": 127,
    "start_time": "2024-08-16T12:30:18.276Z"
   },
   {
    "duration": 12,
    "start_time": "2024-08-16T12:35:22.932Z"
   },
   {
    "duration": 13,
    "start_time": "2024-08-16T12:36:33.071Z"
   },
   {
    "duration": 9,
    "start_time": "2024-08-16T12:38:38.178Z"
   },
   {
    "duration": 14,
    "start_time": "2024-08-16T12:39:01.095Z"
   },
   {
    "duration": 10,
    "start_time": "2024-08-16T12:40:40.969Z"
   },
   {
    "duration": 11,
    "start_time": "2024-08-16T12:42:51.081Z"
   },
   {
    "duration": 11,
    "start_time": "2024-08-16T12:44:35.407Z"
   },
   {
    "duration": 12,
    "start_time": "2024-08-16T12:45:00.445Z"
   },
   {
    "duration": 10,
    "start_time": "2024-08-16T12:45:08.859Z"
   },
   {
    "duration": 122,
    "start_time": "2024-08-16T12:47:52.589Z"
   },
   {
    "duration": 128,
    "start_time": "2024-08-16T12:48:02.390Z"
   },
   {
    "duration": 131,
    "start_time": "2024-08-16T12:48:15.001Z"
   },
   {
    "duration": 13,
    "start_time": "2024-08-16T12:48:20.292Z"
   },
   {
    "duration": 11,
    "start_time": "2024-08-16T12:48:44.245Z"
   },
   {
    "duration": 154,
    "start_time": "2024-08-16T12:49:35.525Z"
   },
   {
    "duration": 126,
    "start_time": "2024-08-16T12:49:42.210Z"
   },
   {
    "duration": 120,
    "start_time": "2024-08-16T12:49:46.167Z"
   },
   {
    "duration": 1114,
    "start_time": "2024-08-16T12:50:55.118Z"
   },
   {
    "duration": 7,
    "start_time": "2024-08-16T12:51:10.501Z"
   },
   {
    "duration": 8,
    "start_time": "2024-08-16T12:51:20.314Z"
   },
   {
    "duration": 121,
    "start_time": "2024-08-16T12:51:25.749Z"
   },
   {
    "duration": 123,
    "start_time": "2024-08-16T12:52:18.407Z"
   },
   {
    "duration": 8,
    "start_time": "2024-08-16T12:54:27.210Z"
   },
   {
    "duration": 4,
    "start_time": "2024-08-16T12:54:36.364Z"
   },
   {
    "duration": 4,
    "start_time": "2024-08-16T12:54:53.605Z"
   },
   {
    "duration": 284,
    "start_time": "2024-08-16T13:06:55.097Z"
   },
   {
    "duration": 248,
    "start_time": "2024-08-16T13:07:43.658Z"
   },
   {
    "duration": 295,
    "start_time": "2024-08-16T13:10:51.403Z"
   },
   {
    "duration": 58,
    "start_time": "2024-08-17T09:08:58.438Z"
   },
   {
    "duration": 957,
    "start_time": "2024-08-17T09:09:04.067Z"
   },
   {
    "duration": 11,
    "start_time": "2024-08-17T09:09:07.359Z"
   },
   {
    "duration": 9,
    "start_time": "2024-08-17T09:09:07.723Z"
   },
   {
    "duration": 115,
    "start_time": "2024-08-17T09:09:08.286Z"
   },
   {
    "duration": 69,
    "start_time": "2024-08-17T09:09:08.476Z"
   },
   {
    "duration": 7,
    "start_time": "2024-08-17T09:09:08.906Z"
   },
   {
    "duration": 8,
    "start_time": "2024-08-17T09:09:09.250Z"
   },
   {
    "duration": 270,
    "start_time": "2024-08-17T09:09:09.674Z"
   },
   {
    "duration": 563,
    "start_time": "2024-08-17T09:09:10.060Z"
   },
   {
    "duration": 293,
    "start_time": "2024-08-17T09:09:12.042Z"
   },
   {
    "duration": 413,
    "start_time": "2024-08-17T09:09:13.100Z"
   },
   {
    "duration": 346,
    "start_time": "2024-08-17T09:09:14.282Z"
   },
   {
    "duration": 325,
    "start_time": "2024-08-17T09:09:15.587Z"
   },
   {
    "duration": 54,
    "start_time": "2024-08-17T09:09:15.989Z"
   },
   {
    "duration": 161,
    "start_time": "2024-08-17T09:09:17.170Z"
   },
   {
    "duration": 47,
    "start_time": "2024-08-17T09:09:18.658Z"
   },
   {
    "duration": 136,
    "start_time": "2024-08-17T09:09:27.477Z"
   },
   {
    "duration": 4,
    "start_time": "2024-08-17T09:09:28.977Z"
   },
   {
    "duration": 317,
    "start_time": "2024-08-17T09:09:30.368Z"
   },
   {
    "duration": 8,
    "start_time": "2024-08-17T09:10:04.058Z"
   },
   {
    "duration": 4,
    "start_time": "2024-08-17T09:10:23.461Z"
   },
   {
    "duration": 8,
    "start_time": "2024-08-17T09:10:54.011Z"
   },
   {
    "duration": 1158,
    "start_time": "2024-08-17T09:11:06.727Z"
   },
   {
    "duration": 4,
    "start_time": "2024-08-17T09:11:22.846Z"
   },
   {
    "duration": 1041,
    "start_time": "2024-08-17T09:14:01.883Z"
   },
   {
    "duration": 5,
    "start_time": "2024-08-17T09:14:06.099Z"
   },
   {
    "duration": 4,
    "start_time": "2024-08-17T09:19:12.422Z"
   },
   {
    "duration": 5,
    "start_time": "2024-08-17T09:22:23.421Z"
   },
   {
    "duration": 4,
    "start_time": "2024-08-17T09:23:14.377Z"
   },
   {
    "duration": 4,
    "start_time": "2024-08-17T09:26:22.103Z"
   },
   {
    "duration": 5,
    "start_time": "2024-08-17T09:58:48.719Z"
   },
   {
    "duration": 738,
    "start_time": "2024-08-17T10:04:57.006Z"
   },
   {
    "duration": 6,
    "start_time": "2024-08-17T10:05:13.434Z"
   },
   {
    "duration": 4,
    "start_time": "2024-08-17T10:05:26.506Z"
   },
   {
    "duration": 5,
    "start_time": "2024-08-17T10:06:15.993Z"
   },
   {
    "duration": 10,
    "start_time": "2024-08-17T10:18:15.381Z"
   },
   {
    "duration": 297,
    "start_time": "2024-08-17T10:19:51.792Z"
   },
   {
    "duration": 15,
    "start_time": "2024-08-17T10:26:27.874Z"
   },
   {
    "duration": 13,
    "start_time": "2024-08-17T10:26:37.221Z"
   },
   {
    "duration": 535,
    "start_time": "2024-08-17T10:27:14.282Z"
   },
   {
    "duration": 35,
    "start_time": "2024-08-17T10:27:27.826Z"
   },
   {
    "duration": 129,
    "start_time": "2024-08-17T10:27:59.194Z"
   },
   {
    "duration": 146,
    "start_time": "2024-08-17T10:28:15.689Z"
   },
   {
    "duration": 12,
    "start_time": "2024-08-17T10:28:42.361Z"
   },
   {
    "duration": 9,
    "start_time": "2024-08-17T10:36:08.762Z"
   },
   {
    "duration": 33,
    "start_time": "2024-08-17T10:36:23.299Z"
   },
   {
    "duration": 8,
    "start_time": "2024-08-17T10:36:29.870Z"
   },
   {
    "duration": 8,
    "start_time": "2024-08-17T10:36:34.129Z"
   },
   {
    "duration": 11,
    "start_time": "2024-08-17T10:36:42.513Z"
   },
   {
    "duration": 3,
    "start_time": "2024-08-17T10:37:28.108Z"
   },
   {
    "duration": 5,
    "start_time": "2024-08-17T10:37:54.634Z"
   },
   {
    "duration": 11,
    "start_time": "2024-08-17T10:38:13.035Z"
   },
   {
    "duration": 164,
    "start_time": "2024-08-17T10:38:49.429Z"
   },
   {
    "duration": 12,
    "start_time": "2024-08-17T10:39:08.572Z"
   },
   {
    "duration": 159,
    "start_time": "2024-08-17T10:40:15.117Z"
   },
   {
    "duration": 164,
    "start_time": "2024-08-17T10:48:18.935Z"
   },
   {
    "duration": 23,
    "start_time": "2024-08-17T10:50:38.386Z"
   },
   {
    "duration": 5,
    "start_time": "2024-08-17T10:50:59.679Z"
   },
   {
    "duration": 5,
    "start_time": "2024-08-17T10:51:39.050Z"
   },
   {
    "duration": 5,
    "start_time": "2024-08-17T10:52:23.492Z"
   },
   {
    "duration": 4,
    "start_time": "2024-08-17T11:23:11.254Z"
   },
   {
    "duration": 57,
    "start_time": "2024-08-17T11:23:40.544Z"
   },
   {
    "duration": 58,
    "start_time": "2024-08-17T11:38:23.051Z"
   },
   {
    "duration": 10,
    "start_time": "2024-08-17T11:39:23.740Z"
   },
   {
    "duration": 32,
    "start_time": "2024-08-17T11:39:48.583Z"
   },
   {
    "duration": 8,
    "start_time": "2024-08-17T11:39:51.090Z"
   },
   {
    "duration": 8,
    "start_time": "2024-08-17T11:39:51.848Z"
   },
   {
    "duration": 57,
    "start_time": "2024-08-17T11:39:54.616Z"
   },
   {
    "duration": 19,
    "start_time": "2024-08-17T11:39:54.957Z"
   },
   {
    "duration": 5,
    "start_time": "2024-08-17T11:39:56.016Z"
   },
   {
    "duration": 6,
    "start_time": "2024-08-17T11:40:48.351Z"
   },
   {
    "duration": 5,
    "start_time": "2024-08-17T11:40:54.563Z"
   },
   {
    "duration": 12,
    "start_time": "2024-08-17T11:42:57.864Z"
   },
   {
    "duration": 11,
    "start_time": "2024-08-17T11:43:05.692Z"
   },
   {
    "duration": 7,
    "start_time": "2024-08-17T11:46:28.054Z"
   },
   {
    "duration": 6,
    "start_time": "2024-08-17T11:49:02.961Z"
   },
   {
    "duration": 12,
    "start_time": "2024-08-17T11:49:14.761Z"
   },
   {
    "duration": 7,
    "start_time": "2024-08-17T11:53:31.329Z"
   },
   {
    "duration": 10,
    "start_time": "2024-08-17T11:54:32.036Z"
   },
   {
    "duration": 10,
    "start_time": "2024-08-17T11:55:33.803Z"
   },
   {
    "duration": 9,
    "start_time": "2024-08-17T11:55:42.882Z"
   },
   {
    "duration": 9,
    "start_time": "2024-08-17T11:56:15.699Z"
   },
   {
    "duration": 6,
    "start_time": "2024-08-17T11:56:40.048Z"
   },
   {
    "duration": 6,
    "start_time": "2024-08-17T11:57:15.665Z"
   },
   {
    "duration": 8,
    "start_time": "2024-08-17T12:00:36.335Z"
   },
   {
    "duration": 9,
    "start_time": "2024-08-17T12:00:52.070Z"
   },
   {
    "duration": 5,
    "start_time": "2024-08-17T12:01:09.790Z"
   },
   {
    "duration": 6,
    "start_time": "2024-08-17T12:03:23.834Z"
   },
   {
    "duration": 8,
    "start_time": "2024-08-17T12:05:51.198Z"
   },
   {
    "duration": 7,
    "start_time": "2024-08-17T12:06:14.885Z"
   },
   {
    "duration": 7,
    "start_time": "2024-08-17T12:06:22.436Z"
   },
   {
    "duration": 9,
    "start_time": "2024-08-17T12:06:25.268Z"
   },
   {
    "duration": 6,
    "start_time": "2024-08-17T12:06:26.373Z"
   },
   {
    "duration": 32,
    "start_time": "2024-08-17T12:07:55.006Z"
   },
   {
    "duration": 8,
    "start_time": "2024-08-17T12:07:56.010Z"
   },
   {
    "duration": 9,
    "start_time": "2024-08-17T12:07:57.047Z"
   },
   {
    "duration": 57,
    "start_time": "2024-08-17T12:07:58.522Z"
   },
   {
    "duration": 20,
    "start_time": "2024-08-17T12:07:59.239Z"
   },
   {
    "duration": 7,
    "start_time": "2024-08-17T12:08:01.158Z"
   },
   {
    "duration": 9,
    "start_time": "2024-08-17T12:08:05.264Z"
   },
   {
    "duration": 11,
    "start_time": "2024-08-17T12:08:08.853Z"
   },
   {
    "duration": 8,
    "start_time": "2024-08-17T12:08:12.637Z"
   },
   {
    "duration": 5,
    "start_time": "2024-08-17T12:11:25.233Z"
   },
   {
    "duration": 33,
    "start_time": "2024-08-17T12:12:05.087Z"
   },
   {
    "duration": 5,
    "start_time": "2024-08-17T12:12:13.312Z"
   },
   {
    "duration": 6,
    "start_time": "2024-08-17T12:13:51.281Z"
   },
   {
    "duration": 5,
    "start_time": "2024-08-17T12:13:51.851Z"
   },
   {
    "duration": 262,
    "start_time": "2024-08-17T12:15:31.810Z"
   },
   {
    "duration": 264,
    "start_time": "2024-08-17T12:15:34.920Z"
   },
   {
    "duration": 35,
    "start_time": "2024-08-17T12:16:06.267Z"
   },
   {
    "duration": 566,
    "start_time": "2024-08-17T12:16:19.013Z"
   },
   {
    "duration": 282,
    "start_time": "2024-08-17T12:16:29.692Z"
   },
   {
    "duration": 197,
    "start_time": "2024-08-17T12:17:14.499Z"
   },
   {
    "duration": 291,
    "start_time": "2024-08-17T12:17:19.827Z"
   },
   {
    "duration": 136,
    "start_time": "2024-08-17T12:17:28.570Z"
   },
   {
    "duration": 5,
    "start_time": "2024-08-17T12:17:36.171Z"
   },
   {
    "duration": 240,
    "start_time": "2024-08-17T12:18:20.571Z"
   },
   {
    "duration": 4,
    "start_time": "2024-08-17T12:18:25.141Z"
   },
   {
    "duration": 355,
    "start_time": "2024-08-17T12:18:28.057Z"
   },
   {
    "duration": 169,
    "start_time": "2024-08-17T12:18:32.409Z"
   },
   {
    "duration": 5,
    "start_time": "2024-08-17T12:18:37.613Z"
   },
   {
    "duration": 665,
    "start_time": "2024-08-17T13:27:30.401Z"
   },
   {
    "duration": 136,
    "start_time": "2024-08-17T13:28:08.125Z"
   },
   {
    "duration": 51,
    "start_time": "2024-08-17T13:29:13.345Z"
   },
   {
    "duration": 13,
    "start_time": "2024-08-17T13:30:01.588Z"
   },
   {
    "duration": 14,
    "start_time": "2024-08-17T13:32:05.184Z"
   },
   {
    "duration": 12,
    "start_time": "2024-08-17T13:33:37.051Z"
   },
   {
    "duration": 13,
    "start_time": "2024-08-17T13:33:53.353Z"
   },
   {
    "duration": 9,
    "start_time": "2024-08-17T13:34:16.570Z"
   },
   {
    "duration": 12,
    "start_time": "2024-08-17T13:34:48.148Z"
   },
   {
    "duration": 13,
    "start_time": "2024-08-17T13:36:29.970Z"
   },
   {
    "duration": 16,
    "start_time": "2024-08-17T13:37:15.647Z"
   },
   {
    "duration": 9,
    "start_time": "2024-08-17T13:38:09.788Z"
   },
   {
    "duration": 12,
    "start_time": "2024-08-17T13:38:44.405Z"
   },
   {
    "duration": 13,
    "start_time": "2024-08-17T13:43:02.655Z"
   },
   {
    "duration": 14,
    "start_time": "2024-08-17T13:43:19.733Z"
   },
   {
    "duration": 11,
    "start_time": "2024-08-17T13:43:29.906Z"
   },
   {
    "duration": 12,
    "start_time": "2024-08-17T13:43:44.557Z"
   },
   {
    "duration": 13,
    "start_time": "2024-08-17T13:43:55.310Z"
   },
   {
    "duration": 125,
    "start_time": "2024-08-17T13:44:51.768Z"
   },
   {
    "duration": 123,
    "start_time": "2024-08-17T13:47:33.168Z"
   },
   {
    "duration": 123,
    "start_time": "2024-08-17T13:47:41.905Z"
   },
   {
    "duration": 1179,
    "start_time": "2024-08-17T13:54:59.652Z"
   },
   {
    "duration": 130,
    "start_time": "2024-08-17T13:55:18.946Z"
   },
   {
    "duration": 129,
    "start_time": "2024-08-17T13:57:23.949Z"
   },
   {
    "duration": 22,
    "start_time": "2024-08-17T13:57:46.307Z"
   },
   {
    "duration": 13,
    "start_time": "2024-08-17T13:57:59.124Z"
   },
   {
    "duration": 11,
    "start_time": "2024-08-17T13:58:04.973Z"
   },
   {
    "duration": 12,
    "start_time": "2024-08-17T13:58:10.135Z"
   },
   {
    "duration": 12,
    "start_time": "2024-08-17T13:58:18.209Z"
   },
   {
    "duration": 11,
    "start_time": "2024-08-17T13:58:33.843Z"
   },
   {
    "duration": 113,
    "start_time": "2024-08-17T13:58:34.899Z"
   },
   {
    "duration": 4,
    "start_time": "2024-08-17T13:58:41.544Z"
   },
   {
    "duration": 8,
    "start_time": "2024-08-17T14:00:31.136Z"
   },
   {
    "duration": 973,
    "start_time": "2024-08-17T14:01:10.818Z"
   },
   {
    "duration": 4,
    "start_time": "2024-08-17T14:01:13.801Z"
   },
   {
    "duration": 1017,
    "start_time": "2024-08-17T14:01:18.551Z"
   },
   {
    "duration": 8,
    "start_time": "2024-08-17T14:01:28.214Z"
   },
   {
    "duration": 151,
    "start_time": "2024-08-17T14:01:48.390Z"
   },
   {
    "duration": 13,
    "start_time": "2024-08-17T14:02:53.436Z"
   },
   {
    "duration": 14,
    "start_time": "2024-08-17T14:04:24.928Z"
   },
   {
    "duration": 132,
    "start_time": "2024-08-17T14:04:40.738Z"
   },
   {
    "duration": 14,
    "start_time": "2024-08-17T14:05:07.835Z"
   },
   {
    "duration": 143,
    "start_time": "2024-08-17T14:05:38.259Z"
   },
   {
    "duration": 238,
    "start_time": "2024-08-17T14:08:05.701Z"
   },
   {
    "duration": 130,
    "start_time": "2024-08-17T14:08:34.662Z"
   },
   {
    "duration": 313,
    "start_time": "2024-08-17T14:13:11.464Z"
   },
   {
    "duration": 4,
    "start_time": "2024-08-17T14:18:12.228Z"
   },
   {
    "duration": 3,
    "start_time": "2024-08-17T14:18:16.966Z"
   },
   {
    "duration": 4,
    "start_time": "2024-08-17T14:18:49.702Z"
   },
   {
    "duration": 8,
    "start_time": "2024-08-17T14:18:56.742Z"
   },
   {
    "duration": 3,
    "start_time": "2024-08-17T14:19:44.482Z"
   },
   {
    "duration": 10,
    "start_time": "2024-08-17T14:20:20.522Z"
   },
   {
    "duration": 21,
    "start_time": "2024-08-17T14:21:46.867Z"
   },
   {
    "duration": 22,
    "start_time": "2024-08-17T14:21:57.025Z"
   },
   {
    "duration": 4,
    "start_time": "2024-08-17T14:27:23.993Z"
   },
   {
    "duration": 14,
    "start_time": "2024-08-17T14:28:26.603Z"
   },
   {
    "duration": 12,
    "start_time": "2024-08-17T14:29:09.709Z"
   },
   {
    "duration": 10,
    "start_time": "2024-08-17T14:29:27.112Z"
   },
   {
    "duration": 140,
    "start_time": "2024-08-17T14:29:55.089Z"
   },
   {
    "duration": 14,
    "start_time": "2024-08-17T14:31:42.928Z"
   },
   {
    "duration": 14,
    "start_time": "2024-08-17T14:31:57.297Z"
   },
   {
    "duration": 15,
    "start_time": "2024-08-17T14:32:05.045Z"
   },
   {
    "duration": 21,
    "start_time": "2024-08-17T14:32:20.046Z"
   },
   {
    "duration": 13,
    "start_time": "2024-08-17T14:33:21.521Z"
   },
   {
    "duration": 34,
    "start_time": "2024-08-17T14:34:56.226Z"
   },
   {
    "duration": 8,
    "start_time": "2024-08-17T14:34:57.200Z"
   },
   {
    "duration": 10,
    "start_time": "2024-08-17T14:34:58.057Z"
   },
   {
    "duration": 58,
    "start_time": "2024-08-17T14:34:59.119Z"
   },
   {
    "duration": 20,
    "start_time": "2024-08-17T14:34:59.643Z"
   },
   {
    "duration": 7,
    "start_time": "2024-08-17T14:35:01.268Z"
   },
   {
    "duration": 9,
    "start_time": "2024-08-17T14:35:02.303Z"
   },
   {
    "duration": 7,
    "start_time": "2024-08-17T14:35:03.124Z"
   },
   {
    "duration": 5,
    "start_time": "2024-08-17T14:35:04.071Z"
   },
   {
    "duration": 7,
    "start_time": "2024-08-17T14:35:05.287Z"
   },
   {
    "duration": 6,
    "start_time": "2024-08-17T14:35:05.831Z"
   },
   {
    "duration": 247,
    "start_time": "2024-08-17T14:35:06.404Z"
   },
   {
    "duration": 546,
    "start_time": "2024-08-17T14:35:07.976Z"
   },
   {
    "duration": 273,
    "start_time": "2024-08-17T14:35:22.418Z"
   },
   {
    "duration": 368,
    "start_time": "2024-08-17T14:35:22.770Z"
   },
   {
    "duration": 171,
    "start_time": "2024-08-17T14:35:23.730Z"
   },
   {
    "duration": 294,
    "start_time": "2024-08-17T14:35:24.946Z"
   },
   {
    "duration": 130,
    "start_time": "2024-08-17T14:35:25.891Z"
   },
   {
    "duration": 5,
    "start_time": "2024-08-17T14:35:26.946Z"
   },
   {
    "duration": 139,
    "start_time": "2024-08-17T14:35:28.259Z"
   },
   {
    "duration": 4,
    "start_time": "2024-08-17T14:35:34.934Z"
   },
   {
    "duration": 12,
    "start_time": "2024-08-17T14:35:38.878Z"
   },
   {
    "duration": 146,
    "start_time": "2024-08-17T14:35:51.066Z"
   },
   {
    "duration": 120,
    "start_time": "2024-08-17T14:36:18.669Z"
   },
   {
    "duration": 122,
    "start_time": "2024-08-17T14:36:26.473Z"
   },
   {
    "duration": 132,
    "start_time": "2024-08-17T14:36:35.448Z"
   },
   {
    "duration": 147,
    "start_time": "2024-08-17T14:37:18.962Z"
   },
   {
    "duration": 12,
    "start_time": "2024-08-17T14:37:29.244Z"
   },
   {
    "duration": 165,
    "start_time": "2024-08-17T14:38:33.470Z"
   },
   {
    "duration": 139,
    "start_time": "2024-08-17T14:39:20.353Z"
   },
   {
    "duration": 1032,
    "start_time": "2024-08-17T14:42:27.158Z"
   },
   {
    "duration": 55,
    "start_time": "2024-08-17T14:45:41.566Z"
   },
   {
    "duration": 8,
    "start_time": "2024-08-17T14:45:46.946Z"
   },
   {
    "duration": 7,
    "start_time": "2024-08-17T14:45:51.206Z"
   },
   {
    "duration": 7,
    "start_time": "2024-08-17T14:45:51.645Z"
   },
   {
    "duration": 5,
    "start_time": "2024-08-17T14:46:02.038Z"
   },
   {
    "duration": 1313,
    "start_time": "2024-08-17T14:46:07.493Z"
   },
   {
    "duration": 9,
    "start_time": "2024-08-17T14:46:09.253Z"
   },
   {
    "duration": 9,
    "start_time": "2024-08-17T14:46:10.165Z"
   },
   {
    "duration": 110,
    "start_time": "2024-08-17T14:46:11.181Z"
   },
   {
    "duration": 71,
    "start_time": "2024-08-17T14:46:11.459Z"
   },
   {
    "duration": 8,
    "start_time": "2024-08-17T14:46:12.228Z"
   },
   {
    "duration": 9,
    "start_time": "2024-08-17T14:46:12.897Z"
   },
   {
    "duration": 7,
    "start_time": "2024-08-17T14:46:13.608Z"
   },
   {
    "duration": 5,
    "start_time": "2024-08-17T14:46:14.223Z"
   },
   {
    "duration": 6,
    "start_time": "2024-08-17T14:46:15.413Z"
   },
   {
    "duration": 9,
    "start_time": "2024-08-17T14:46:15.573Z"
   },
   {
    "duration": 258,
    "start_time": "2024-08-17T14:46:15.981Z"
   },
   {
    "duration": 533,
    "start_time": "2024-08-17T14:46:16.241Z"
   },
   {
    "duration": 277,
    "start_time": "2024-08-17T14:46:17.548Z"
   },
   {
    "duration": 357,
    "start_time": "2024-08-17T14:46:18.944Z"
   },
   {
    "duration": 256,
    "start_time": "2024-08-17T14:46:19.797Z"
   },
   {
    "duration": 296,
    "start_time": "2024-08-17T14:46:21.101Z"
   },
   {
    "duration": 134,
    "start_time": "2024-08-17T14:46:22.086Z"
   },
   {
    "duration": 5,
    "start_time": "2024-08-17T14:46:22.996Z"
   },
   {
    "duration": 130,
    "start_time": "2024-08-17T14:46:23.747Z"
   },
   {
    "duration": 4,
    "start_time": "2024-08-17T14:46:24.557Z"
   },
   {
    "duration": 12,
    "start_time": "2024-08-17T14:46:25.284Z"
   },
   {
    "duration": 196,
    "start_time": "2024-08-17T14:46:26.409Z"
   },
   {
    "duration": 138,
    "start_time": "2024-08-17T14:46:27.524Z"
   },
   {
    "duration": 159,
    "start_time": "2024-08-17T14:46:28.825Z"
   },
   {
    "duration": 54,
    "start_time": "2024-08-17T14:46:39.028Z"
   },
   {
    "duration": 1358,
    "start_time": "2024-08-17T14:47:22.223Z"
   },
   {
    "duration": 11,
    "start_time": "2024-08-17T14:47:23.583Z"
   },
   {
    "duration": 9,
    "start_time": "2024-08-17T14:47:24.368Z"
   },
   {
    "duration": 106,
    "start_time": "2024-08-17T14:47:24.994Z"
   },
   {
    "duration": 68,
    "start_time": "2024-08-17T14:47:25.414Z"
   },
   {
    "duration": 8,
    "start_time": "2024-08-17T14:47:25.871Z"
   },
   {
    "duration": 9,
    "start_time": "2024-08-17T14:47:26.295Z"
   },
   {
    "duration": 7,
    "start_time": "2024-08-17T14:47:26.840Z"
   },
   {
    "duration": 4,
    "start_time": "2024-08-17T14:47:27.167Z"
   },
   {
    "duration": 6,
    "start_time": "2024-08-17T14:47:28.147Z"
   },
   {
    "duration": 9,
    "start_time": "2024-08-17T14:47:28.294Z"
   },
   {
    "duration": 256,
    "start_time": "2024-08-17T14:47:28.483Z"
   },
   {
    "duration": 551,
    "start_time": "2024-08-17T14:47:28.873Z"
   },
   {
    "duration": 289,
    "start_time": "2024-08-17T14:47:30.438Z"
   },
   {
    "duration": 397,
    "start_time": "2024-08-17T14:47:31.159Z"
   },
   {
    "duration": 265,
    "start_time": "2024-08-17T14:47:31.849Z"
   },
   {
    "duration": 298,
    "start_time": "2024-08-17T14:47:32.947Z"
   },
   {
    "duration": 134,
    "start_time": "2024-08-17T14:47:34.097Z"
   },
   {
    "duration": 5,
    "start_time": "2024-08-17T14:47:35.582Z"
   },
   {
    "duration": 141,
    "start_time": "2024-08-17T14:47:37.082Z"
   },
   {
    "duration": 5,
    "start_time": "2024-08-17T14:47:38.292Z"
   },
   {
    "duration": 23,
    "start_time": "2024-08-17T14:47:39.165Z"
   },
   {
    "duration": 214,
    "start_time": "2024-08-17T14:47:40.683Z"
   },
   {
    "duration": 126,
    "start_time": "2024-08-17T14:47:42.314Z"
   },
   {
    "duration": 49,
    "start_time": "2024-08-17T15:05:41.037Z"
   },
   {
    "duration": 1195,
    "start_time": "2024-08-17T15:05:50.547Z"
   },
   {
    "duration": 9,
    "start_time": "2024-08-17T15:05:51.744Z"
   },
   {
    "duration": 41,
    "start_time": "2024-08-17T15:05:51.754Z"
   },
   {
    "duration": 95,
    "start_time": "2024-08-17T15:05:52.260Z"
   },
   {
    "duration": 80,
    "start_time": "2024-08-17T15:05:52.726Z"
   },
   {
    "duration": 9,
    "start_time": "2024-08-17T15:05:53.205Z"
   },
   {
    "duration": 9,
    "start_time": "2024-08-17T15:05:53.513Z"
   },
   {
    "duration": 7,
    "start_time": "2024-08-17T15:05:53.832Z"
   },
   {
    "duration": 5,
    "start_time": "2024-08-17T15:05:54.146Z"
   },
   {
    "duration": 7,
    "start_time": "2024-08-17T15:05:54.911Z"
   },
   {
    "duration": 8,
    "start_time": "2024-08-17T15:05:55.105Z"
   },
   {
    "duration": 242,
    "start_time": "2024-08-17T15:05:55.292Z"
   },
   {
    "duration": 556,
    "start_time": "2024-08-17T15:05:55.536Z"
   },
   {
    "duration": 284,
    "start_time": "2024-08-17T15:05:56.095Z"
   },
   {
    "duration": 353,
    "start_time": "2024-08-17T15:05:56.574Z"
   },
   {
    "duration": 262,
    "start_time": "2024-08-17T15:05:57.050Z"
   },
   {
    "duration": 315,
    "start_time": "2024-08-17T15:05:57.677Z"
   },
   {
    "duration": 121,
    "start_time": "2024-08-17T15:05:58.166Z"
   },
   {
    "duration": 5,
    "start_time": "2024-08-17T15:05:58.692Z"
   },
   {
    "duration": 134,
    "start_time": "2024-08-17T15:05:59.451Z"
   },
   {
    "duration": 4,
    "start_time": "2024-08-17T15:06:01.468Z"
   },
   {
    "duration": 14,
    "start_time": "2024-08-17T15:06:01.947Z"
   },
   {
    "duration": 12,
    "start_time": "2024-08-17T15:06:22.344Z"
   },
   {
    "duration": 9,
    "start_time": "2024-08-17T15:08:14.461Z"
   },
   {
    "duration": 3,
    "start_time": "2024-08-17T15:20:08.718Z"
   },
   {
    "duration": 4,
    "start_time": "2024-08-17T15:21:09.354Z"
   },
   {
    "duration": 4,
    "start_time": "2024-08-17T15:22:05.166Z"
   },
   {
    "duration": 1135,
    "start_time": "2024-08-18T07:22:11.884Z"
   },
   {
    "duration": 9,
    "start_time": "2024-08-18T07:22:18.118Z"
   },
   {
    "duration": 11,
    "start_time": "2024-08-18T07:22:19.176Z"
   },
   {
    "duration": 31,
    "start_time": "2024-08-18T07:22:33.654Z"
   },
   {
    "duration": 30,
    "start_time": "2024-08-18T07:23:44.875Z"
   },
   {
    "duration": 8,
    "start_time": "2024-08-18T07:23:45.949Z"
   },
   {
    "duration": 12,
    "start_time": "2024-08-18T07:23:46.942Z"
   },
   {
    "duration": 33,
    "start_time": "2024-08-18T07:23:48.443Z"
   },
   {
    "duration": 32,
    "start_time": "2024-08-18T07:24:02.450Z"
   },
   {
    "duration": 20,
    "start_time": "2024-08-18T07:24:39.670Z"
   },
   {
    "duration": 24,
    "start_time": "2024-08-18T07:24:42.532Z"
   },
   {
    "duration": 1036,
    "start_time": "2024-08-18T07:31:22.576Z"
   },
   {
    "duration": 115,
    "start_time": "2024-08-18T07:33:02.351Z"
   },
   {
    "duration": 880,
    "start_time": "2024-08-18T07:33:03.069Z"
   },
   {
    "duration": 0,
    "start_time": "2024-08-18T07:33:03.951Z"
   },
   {
    "duration": 31,
    "start_time": "2024-08-18T07:34:30.207Z"
   },
   {
    "duration": 10,
    "start_time": "2024-08-18T07:34:37.321Z"
   },
   {
    "duration": 9,
    "start_time": "2024-08-18T07:34:39.836Z"
   },
   {
    "duration": 58,
    "start_time": "2024-08-18T07:34:43.836Z"
   },
   {
    "duration": 312,
    "start_time": "2024-08-18T07:34:45.034Z"
   },
   {
    "duration": 15,
    "start_time": "2024-08-18T07:34:45.630Z"
   },
   {
    "duration": 9,
    "start_time": "2024-08-18T07:35:16.676Z"
   },
   {
    "duration": 28,
    "start_time": "2024-08-18T07:35:58.760Z"
   },
   {
    "duration": 11,
    "start_time": "2024-08-18T07:35:59.377Z"
   },
   {
    "duration": 12,
    "start_time": "2024-08-18T07:36:00.155Z"
   },
   {
    "duration": 6,
    "start_time": "2024-08-18T07:36:13.710Z"
   },
   {
    "duration": 12,
    "start_time": "2024-08-18T07:36:18.622Z"
   },
   {
    "duration": 7,
    "start_time": "2024-08-18T07:36:24.494Z"
   },
   {
    "duration": 4,
    "start_time": "2024-08-18T07:37:00.921Z"
   },
   {
    "duration": 6,
    "start_time": "2024-08-18T07:42:58.076Z"
   },
   {
    "duration": 8,
    "start_time": "2024-08-18T07:42:58.835Z"
   },
   {
    "duration": 247,
    "start_time": "2024-08-18T07:42:59.507Z"
   },
   {
    "duration": 507,
    "start_time": "2024-08-18T07:43:02.067Z"
   },
   {
    "duration": 10,
    "start_time": "2024-08-18T07:50:34.053Z"
   },
   {
    "duration": 16,
    "start_time": "2024-08-18T07:51:28.669Z"
   },
   {
    "duration": 11,
    "start_time": "2024-08-18T07:54:30.972Z"
   },
   {
    "duration": 14,
    "start_time": "2024-08-18T07:55:55.638Z"
   },
   {
    "duration": 5,
    "start_time": "2024-08-18T08:06:05.129Z"
   },
   {
    "duration": 11,
    "start_time": "2024-08-18T08:06:14.231Z"
   },
   {
    "duration": 434,
    "start_time": "2024-08-18T08:10:31.013Z"
   },
   {
    "duration": 7,
    "start_time": "2024-08-18T08:10:33.970Z"
   },
   {
    "duration": 13,
    "start_time": "2024-08-18T08:10:37.338Z"
   },
   {
    "duration": 73,
    "start_time": "2024-08-18T08:16:42.891Z"
   },
   {
    "duration": 5,
    "start_time": "2024-08-18T08:17:20.767Z"
   },
   {
    "duration": 6,
    "start_time": "2024-08-18T08:17:21.315Z"
   },
   {
    "duration": 131,
    "start_time": "2024-08-18T08:17:21.949Z"
   },
   {
    "duration": 100,
    "start_time": "2024-08-18T08:20:08.794Z"
   },
   {
    "duration": 167,
    "start_time": "2024-08-18T08:20:42.248Z"
   },
   {
    "duration": 197,
    "start_time": "2024-08-18T08:21:01.528Z"
   },
   {
    "duration": 9,
    "start_time": "2024-08-18T08:21:35.636Z"
   },
   {
    "duration": 6,
    "start_time": "2024-08-18T08:21:36.432Z"
   },
   {
    "duration": 259,
    "start_time": "2024-08-18T08:21:39.809Z"
   },
   {
    "duration": 6,
    "start_time": "2024-08-18T08:21:44.852Z"
   },
   {
    "duration": 5,
    "start_time": "2024-08-18T08:21:45.475Z"
   },
   {
    "duration": 204,
    "start_time": "2024-08-18T08:21:46.180Z"
   },
   {
    "duration": 205,
    "start_time": "2024-08-18T08:21:51.892Z"
   },
   {
    "duration": 13,
    "start_time": "2024-08-18T08:52:05.188Z"
   },
   {
    "duration": 152,
    "start_time": "2024-08-18T08:53:27.422Z"
   },
   {
    "duration": 17,
    "start_time": "2024-08-18T09:02:39.951Z"
   },
   {
    "duration": 144,
    "start_time": "2024-08-18T09:05:01.181Z"
   },
   {
    "duration": 146,
    "start_time": "2024-08-18T09:05:20.251Z"
   },
   {
    "duration": 145,
    "start_time": "2024-08-18T09:06:04.266Z"
   },
   {
    "duration": 11,
    "start_time": "2024-08-18T09:07:45.698Z"
   },
   {
    "duration": 11,
    "start_time": "2024-08-18T09:08:36.785Z"
   },
   {
    "duration": 8,
    "start_time": "2024-08-18T09:09:10.627Z"
   },
   {
    "duration": 210,
    "start_time": "2024-08-18T09:23:23.676Z"
   },
   {
    "duration": 14,
    "start_time": "2024-08-18T09:24:19.545Z"
   },
   {
    "duration": 12,
    "start_time": "2024-08-18T09:26:35.201Z"
   },
   {
    "duration": 13,
    "start_time": "2024-08-18T09:32:15.717Z"
   },
   {
    "duration": 10,
    "start_time": "2024-08-18T09:32:39.348Z"
   },
   {
    "duration": 2,
    "start_time": "2024-08-18T09:33:07.063Z"
   },
   {
    "duration": 480,
    "start_time": "2024-08-18T09:33:48.745Z"
   },
   {
    "duration": 22,
    "start_time": "2024-08-18T09:41:10.331Z"
   },
   {
    "duration": 4,
    "start_time": "2024-08-18T09:45:11.794Z"
   },
   {
    "duration": 16,
    "start_time": "2024-08-18T09:53:16.239Z"
   },
   {
    "duration": 199,
    "start_time": "2024-08-18T09:53:54.973Z"
   },
   {
    "duration": 242,
    "start_time": "2024-08-18T09:54:05.797Z"
   },
   {
    "duration": 170,
    "start_time": "2024-08-18T09:54:41.128Z"
   },
   {
    "duration": 271,
    "start_time": "2024-08-18T09:54:47.079Z"
   },
   {
    "duration": 121,
    "start_time": "2024-08-18T09:54:51.847Z"
   },
   {
    "duration": 5,
    "start_time": "2024-08-18T09:55:02.867Z"
   },
   {
    "duration": 137,
    "start_time": "2024-08-18T09:55:13.384Z"
   },
   {
    "duration": 4,
    "start_time": "2024-08-18T09:55:17.863Z"
   },
   {
    "duration": 17,
    "start_time": "2024-08-18T09:55:23.242Z"
   },
   {
    "duration": 111,
    "start_time": "2024-08-18T09:55:36.511Z"
   },
   {
    "duration": 116,
    "start_time": "2024-08-18T09:56:59.353Z"
   },
   {
    "duration": 6,
    "start_time": "2024-08-18T09:57:45.295Z"
   },
   {
    "duration": 7,
    "start_time": "2024-08-18T09:59:31.067Z"
   },
   {
    "duration": 4,
    "start_time": "2024-08-18T10:06:42.747Z"
   },
   {
    "duration": 135,
    "start_time": "2024-08-18T10:06:57.909Z"
   },
   {
    "duration": 158,
    "start_time": "2024-08-18T10:09:17.911Z"
   },
   {
    "duration": 10,
    "start_time": "2024-08-18T10:09:30.563Z"
   },
   {
    "duration": 12,
    "start_time": "2024-08-18T10:27:00.037Z"
   },
   {
    "duration": 900,
    "start_time": "2024-08-18T10:27:03.290Z"
   },
   {
    "duration": 10,
    "start_time": "2024-08-18T10:27:04.362Z"
   },
   {
    "duration": 8,
    "start_time": "2024-08-18T10:29:35.366Z"
   },
   {
    "duration": 5,
    "start_time": "2024-08-18T10:29:50.017Z"
   },
   {
    "duration": 15,
    "start_time": "2024-08-18T11:41:10.463Z"
   },
   {
    "duration": 28,
    "start_time": "2024-08-18T11:41:55.893Z"
   },
   {
    "duration": 11,
    "start_time": "2024-08-18T11:44:19.551Z"
   },
   {
    "duration": 12,
    "start_time": "2024-08-18T11:44:33.937Z"
   },
   {
    "duration": 4,
    "start_time": "2024-08-18T11:47:26.028Z"
   },
   {
    "duration": 977,
    "start_time": "2024-08-18T11:48:55.122Z"
   },
   {
    "duration": 913,
    "start_time": "2024-08-18T11:49:01.502Z"
   },
   {
    "duration": 5,
    "start_time": "2024-08-18T11:49:16.579Z"
   },
   {
    "duration": 8,
    "start_time": "2024-08-18T11:50:47.666Z"
   },
   {
    "duration": 9,
    "start_time": "2024-08-18T11:51:21.682Z"
   },
   {
    "duration": 9,
    "start_time": "2024-08-18T11:51:33.737Z"
   },
   {
    "duration": 9,
    "start_time": "2024-08-18T11:54:31.846Z"
   },
   {
    "duration": 5,
    "start_time": "2024-08-18T11:54:50.150Z"
   },
   {
    "duration": 11,
    "start_time": "2024-08-18T12:00:13.930Z"
   },
   {
    "duration": 14,
    "start_time": "2024-08-18T12:00:17.970Z"
   },
   {
    "duration": 4,
    "start_time": "2024-08-18T12:00:54.478Z"
   },
   {
    "duration": 14,
    "start_time": "2024-08-18T12:02:01.218Z"
   },
   {
    "duration": 10,
    "start_time": "2024-08-18T12:02:16.125Z"
   },
   {
    "duration": 4,
    "start_time": "2024-08-18T12:03:39.013Z"
   },
   {
    "duration": 11,
    "start_time": "2024-08-18T12:03:53.909Z"
   },
   {
    "duration": 16,
    "start_time": "2024-08-18T12:04:10.869Z"
   },
   {
    "duration": 13,
    "start_time": "2024-08-18T12:04:28.699Z"
   },
   {
    "duration": 11,
    "start_time": "2024-08-18T12:04:37.083Z"
   },
   {
    "duration": 4,
    "start_time": "2024-08-18T12:05:33.715Z"
   },
   {
    "duration": 12,
    "start_time": "2024-08-18T12:05:48.086Z"
   },
   {
    "duration": 11,
    "start_time": "2024-08-18T12:06:06.146Z"
   },
   {
    "duration": 4,
    "start_time": "2024-08-18T12:06:19.600Z"
   },
   {
    "duration": 122,
    "start_time": "2024-08-18T12:09:44.842Z"
   },
   {
    "duration": 17,
    "start_time": "2024-08-18T12:09:45.549Z"
   },
   {
    "duration": 4,
    "start_time": "2024-08-18T12:09:46.672Z"
   },
   {
    "duration": 16,
    "start_time": "2024-08-18T12:10:06.875Z"
   },
   {
    "duration": 146,
    "start_time": "2024-08-18T12:10:07.922Z"
   },
   {
    "duration": 116,
    "start_time": "2024-08-18T12:10:08.974Z"
   },
   {
    "duration": 8,
    "start_time": "2024-08-18T12:10:09.523Z"
   },
   {
    "duration": 154,
    "start_time": "2024-08-18T12:10:13.435Z"
   },
   {
    "duration": 110,
    "start_time": "2024-08-18T12:10:14.184Z"
   },
   {
    "duration": 9,
    "start_time": "2024-08-18T12:10:20.206Z"
   },
   {
    "duration": 9,
    "start_time": "2024-08-18T12:17:33.117Z"
   },
   {
    "duration": 14,
    "start_time": "2024-08-18T12:23:36.219Z"
   },
   {
    "duration": 37,
    "start_time": "2024-08-18T12:23:45.933Z"
   },
   {
    "duration": 9,
    "start_time": "2024-08-18T12:29:06.272Z"
   },
   {
    "duration": 8,
    "start_time": "2024-08-18T12:29:07.704Z"
   },
   {
    "duration": 35,
    "start_time": "2024-08-18T12:29:09.432Z"
   },
   {
    "duration": 849,
    "start_time": "2024-08-18T12:29:10.315Z"
   },
   {
    "duration": 13,
    "start_time": "2024-08-18T12:31:03.892Z"
   },
   {
    "duration": 13,
    "start_time": "2024-08-18T12:35:59.051Z"
   },
   {
    "duration": 31,
    "start_time": "2024-08-18T12:42:27.024Z"
   },
   {
    "duration": 9,
    "start_time": "2024-08-18T12:42:28.049Z"
   },
   {
    "duration": 11,
    "start_time": "2024-08-18T12:42:29.018Z"
   },
   {
    "duration": 67,
    "start_time": "2024-08-18T12:42:37.097Z"
   },
   {
    "duration": 28,
    "start_time": "2024-08-18T12:42:37.637Z"
   },
   {
    "duration": 13,
    "start_time": "2024-08-18T12:42:38.158Z"
   },
   {
    "duration": 9,
    "start_time": "2024-08-18T12:42:39.068Z"
   },
   {
    "duration": 6,
    "start_time": "2024-08-18T12:42:53.021Z"
   },
   {
    "duration": 8,
    "start_time": "2024-08-18T12:42:54.351Z"
   },
   {
    "duration": 8,
    "start_time": "2024-08-18T12:43:10.163Z"
   },
   {
    "duration": 7,
    "start_time": "2024-08-18T12:43:21.789Z"
   },
   {
    "duration": 4,
    "start_time": "2024-08-18T12:43:27.662Z"
   },
   {
    "duration": 6,
    "start_time": "2024-08-18T12:43:40.730Z"
   },
   {
    "duration": 6,
    "start_time": "2024-08-18T12:43:42.008Z"
   },
   {
    "duration": 254,
    "start_time": "2024-08-18T12:43:42.855Z"
   },
   {
    "duration": 5,
    "start_time": "2024-08-18T12:43:45.691Z"
   },
   {
    "duration": 4,
    "start_time": "2024-08-18T12:43:46.518Z"
   },
   {
    "duration": 216,
    "start_time": "2024-08-18T12:43:48.048Z"
   },
   {
    "duration": 131,
    "start_time": "2024-08-18T12:44:14.702Z"
   },
   {
    "duration": 169,
    "start_time": "2024-08-18T12:45:02.160Z"
   },
   {
    "duration": 264,
    "start_time": "2024-08-18T12:45:38.707Z"
   },
   {
    "duration": 163,
    "start_time": "2024-08-18T12:46:39.294Z"
   },
   {
    "duration": 307,
    "start_time": "2024-08-18T12:47:03.513Z"
   },
   {
    "duration": 113,
    "start_time": "2024-08-18T12:48:29.703Z"
   },
   {
    "duration": 4,
    "start_time": "2024-08-18T12:49:02.161Z"
   },
   {
    "duration": 119,
    "start_time": "2024-08-18T12:49:04.213Z"
   },
   {
    "duration": 4,
    "start_time": "2024-08-18T12:50:17.784Z"
   },
   {
    "duration": 119,
    "start_time": "2024-08-18T12:50:32.991Z"
   },
   {
    "duration": 110,
    "start_time": "2024-08-18T12:50:35.754Z"
   },
   {
    "duration": 6,
    "start_time": "2024-08-18T12:50:37.094Z"
   },
   {
    "duration": 139,
    "start_time": "2024-08-18T12:50:44.874Z"
   },
   {
    "duration": 37,
    "start_time": "2024-08-18T12:50:45.962Z"
   },
   {
    "duration": 11,
    "start_time": "2024-08-18T12:50:48.076Z"
   },
   {
    "duration": 9,
    "start_time": "2024-08-18T12:50:49.700Z"
   },
   {
    "duration": 28,
    "start_time": "2024-08-18T12:50:51.294Z"
   },
   {
    "duration": 13,
    "start_time": "2024-08-18T12:50:52.556Z"
   },
   {
    "duration": 1078,
    "start_time": "2024-08-18T13:15:58.752Z"
   },
   {
    "duration": 15,
    "start_time": "2024-08-18T13:15:59.832Z"
   },
   {
    "duration": 9,
    "start_time": "2024-08-18T13:15:59.850Z"
   },
   {
    "duration": 50,
    "start_time": "2024-08-18T13:15:59.860Z"
   },
   {
    "duration": 16,
    "start_time": "2024-08-18T13:15:59.912Z"
   },
   {
    "duration": 21,
    "start_time": "2024-08-18T13:15:59.929Z"
   },
   {
    "duration": 9,
    "start_time": "2024-08-18T13:15:59.952Z"
   },
   {
    "duration": 6,
    "start_time": "2024-08-18T13:15:59.962Z"
   },
   {
    "duration": 9,
    "start_time": "2024-08-18T13:15:59.970Z"
   },
   {
    "duration": 5,
    "start_time": "2024-08-18T13:15:59.980Z"
   },
   {
    "duration": 5,
    "start_time": "2024-08-18T13:15:59.987Z"
   },
   {
    "duration": 9,
    "start_time": "2024-08-18T13:15:59.993Z"
   },
   {
    "duration": 51,
    "start_time": "2024-08-18T13:16:00.003Z"
   },
   {
    "duration": 257,
    "start_time": "2024-08-18T13:16:00.057Z"
   },
   {
    "duration": 4,
    "start_time": "2024-08-18T13:16:00.315Z"
   },
   {
    "duration": 45,
    "start_time": "2024-08-18T13:16:00.320Z"
   },
   {
    "duration": 250,
    "start_time": "2024-08-18T13:16:00.366Z"
   },
   {
    "duration": 175,
    "start_time": "2024-08-18T13:16:00.617Z"
   },
   {
    "duration": 242,
    "start_time": "2024-08-18T13:16:00.793Z"
   },
   {
    "duration": 267,
    "start_time": "2024-08-18T13:16:01.036Z"
   },
   {
    "duration": 164,
    "start_time": "2024-08-18T13:16:01.305Z"
   },
   {
    "duration": 275,
    "start_time": "2024-08-18T13:16:01.471Z"
   },
   {
    "duration": 119,
    "start_time": "2024-08-18T13:16:01.750Z"
   },
   {
    "duration": 5,
    "start_time": "2024-08-18T13:16:01.870Z"
   },
   {
    "duration": 149,
    "start_time": "2024-08-18T13:16:01.876Z"
   },
   {
    "duration": 14,
    "start_time": "2024-08-18T13:16:02.026Z"
   },
   {
    "duration": 214,
    "start_time": "2024-08-18T13:16:02.042Z"
   },
   {
    "duration": 133,
    "start_time": "2024-08-18T13:16:02.257Z"
   },
   {
    "duration": 203,
    "start_time": "2024-08-18T13:16:02.392Z"
   },
   {
    "duration": 59,
    "start_time": "2024-08-18T13:16:02.596Z"
   },
   {
    "duration": 21,
    "start_time": "2024-08-18T13:16:02.657Z"
   },
   {
    "duration": 16,
    "start_time": "2024-08-18T13:16:02.680Z"
   },
   {
    "duration": 65,
    "start_time": "2024-08-18T13:16:02.698Z"
   },
   {
    "duration": 12,
    "start_time": "2024-08-18T13:16:02.764Z"
   },
   {
    "duration": 1440,
    "start_time": "2024-08-18T19:27:19.261Z"
   },
   {
    "duration": 11,
    "start_time": "2024-08-18T19:27:20.703Z"
   },
   {
    "duration": 38,
    "start_time": "2024-08-18T19:27:20.716Z"
   },
   {
    "duration": 119,
    "start_time": "2024-08-18T19:27:20.756Z"
   },
   {
    "duration": 66,
    "start_time": "2024-08-18T19:27:20.877Z"
   },
   {
    "duration": 16,
    "start_time": "2024-08-18T19:27:20.945Z"
   },
   {
    "duration": 23,
    "start_time": "2024-08-18T19:27:20.962Z"
   },
   {
    "duration": 34,
    "start_time": "2024-08-18T19:27:20.987Z"
   },
   {
    "duration": 66,
    "start_time": "2024-08-18T19:27:21.022Z"
   },
   {
    "duration": 24,
    "start_time": "2024-08-18T19:27:21.090Z"
   },
   {
    "duration": 30,
    "start_time": "2024-08-18T19:27:21.116Z"
   },
   {
    "duration": 17,
    "start_time": "2024-08-18T19:27:21.148Z"
   },
   {
    "duration": 20,
    "start_time": "2024-08-18T19:27:21.167Z"
   },
   {
    "duration": 280,
    "start_time": "2024-08-18T19:27:21.189Z"
   },
   {
    "duration": 5,
    "start_time": "2024-08-18T19:27:21.470Z"
   },
   {
    "duration": 9,
    "start_time": "2024-08-18T19:27:21.484Z"
   },
   {
    "duration": 216,
    "start_time": "2024-08-18T19:27:21.495Z"
   },
   {
    "duration": 170,
    "start_time": "2024-08-18T19:27:21.712Z"
   },
   {
    "duration": 277,
    "start_time": "2024-08-18T19:27:21.883Z"
   },
   {
    "duration": 347,
    "start_time": "2024-08-18T19:27:22.161Z"
   },
   {
    "duration": 184,
    "start_time": "2024-08-18T19:27:22.510Z"
   },
   {
    "duration": 311,
    "start_time": "2024-08-18T19:27:22.696Z"
   },
   {
    "duration": 132,
    "start_time": "2024-08-18T19:27:23.009Z"
   },
   {
    "duration": 5,
    "start_time": "2024-08-18T19:27:23.142Z"
   },
   {
    "duration": 141,
    "start_time": "2024-08-18T19:27:23.149Z"
   },
   {
    "duration": 4,
    "start_time": "2024-08-18T19:27:23.292Z"
   },
   {
    "duration": 267,
    "start_time": "2024-08-18T19:27:23.298Z"
   },
   {
    "duration": 146,
    "start_time": "2024-08-18T19:27:23.567Z"
   },
   {
    "duration": 137,
    "start_time": "2024-08-18T19:27:23.715Z"
   },
   {
    "duration": 42,
    "start_time": "2024-08-18T19:27:23.853Z"
   },
   {
    "duration": 10,
    "start_time": "2024-08-18T19:27:23.897Z"
   },
   {
    "duration": 18,
    "start_time": "2024-08-18T19:27:23.909Z"
   },
   {
    "duration": 32,
    "start_time": "2024-08-18T19:27:23.929Z"
   },
   {
    "duration": 31,
    "start_time": "2024-08-18T19:27:23.963Z"
   },
   {
    "duration": 1200,
    "start_time": "2024-08-18T19:27:44.074Z"
   },
   {
    "duration": 10,
    "start_time": "2024-08-18T19:27:45.276Z"
   },
   {
    "duration": 22,
    "start_time": "2024-08-18T19:27:45.287Z"
   },
   {
    "duration": 61,
    "start_time": "2024-08-18T19:27:45.311Z"
   },
   {
    "duration": 18,
    "start_time": "2024-08-18T19:27:45.373Z"
   },
   {
    "duration": 81,
    "start_time": "2024-08-18T19:27:45.393Z"
   },
   {
    "duration": 12,
    "start_time": "2024-08-18T19:27:45.476Z"
   },
   {
    "duration": 18,
    "start_time": "2024-08-18T19:27:45.490Z"
   },
   {
    "duration": 9,
    "start_time": "2024-08-18T19:27:45.509Z"
   },
   {
    "duration": 6,
    "start_time": "2024-08-18T19:27:45.521Z"
   },
   {
    "duration": 4,
    "start_time": "2024-08-18T19:27:45.529Z"
   },
   {
    "duration": 5,
    "start_time": "2024-08-18T19:27:45.535Z"
   },
   {
    "duration": 11,
    "start_time": "2024-08-18T19:27:45.542Z"
   },
   {
    "duration": 292,
    "start_time": "2024-08-18T19:27:45.554Z"
   },
   {
    "duration": 5,
    "start_time": "2024-08-18T19:27:45.847Z"
   },
   {
    "duration": 12,
    "start_time": "2024-08-18T19:27:45.854Z"
   },
   {
    "duration": 234,
    "start_time": "2024-08-18T19:27:45.868Z"
   },
   {
    "duration": 159,
    "start_time": "2024-08-18T19:27:46.104Z"
   },
   {
    "duration": 284,
    "start_time": "2024-08-18T19:27:46.265Z"
   },
   {
    "duration": 293,
    "start_time": "2024-08-18T19:27:46.551Z"
   },
   {
    "duration": 191,
    "start_time": "2024-08-18T19:27:46.846Z"
   },
   {
    "duration": 304,
    "start_time": "2024-08-18T19:27:47.038Z"
   },
   {
    "duration": 132,
    "start_time": "2024-08-18T19:27:47.344Z"
   },
   {
    "duration": 5,
    "start_time": "2024-08-18T19:27:47.483Z"
   },
   {
    "duration": 140,
    "start_time": "2024-08-18T19:27:47.489Z"
   },
   {
    "duration": 4,
    "start_time": "2024-08-18T19:27:47.631Z"
   },
   {
    "duration": 232,
    "start_time": "2024-08-18T19:27:47.636Z"
   },
   {
    "duration": 138,
    "start_time": "2024-08-18T19:27:47.871Z"
   },
   {
    "duration": 134,
    "start_time": "2024-08-18T19:27:48.011Z"
   },
   {
    "duration": 40,
    "start_time": "2024-08-18T19:27:48.146Z"
   },
   {
    "duration": 9,
    "start_time": "2024-08-18T19:27:48.188Z"
   },
   {
    "duration": 21,
    "start_time": "2024-08-18T19:27:48.199Z"
   },
   {
    "duration": 30,
    "start_time": "2024-08-18T19:27:48.221Z"
   },
   {
    "duration": 13,
    "start_time": "2024-08-18T19:27:48.253Z"
   },
   {
    "duration": 5,
    "start_time": "2024-08-18T21:15:31.278Z"
   },
   {
    "duration": 4,
    "start_time": "2024-08-18T21:15:46.651Z"
   },
   {
    "duration": 6,
    "start_time": "2024-08-18T21:16:35.160Z"
   },
   {
    "duration": 104,
    "start_time": "2024-08-18T21:16:59.241Z"
   },
   {
    "duration": 11,
    "start_time": "2024-08-18T21:17:05.041Z"
   },
   {
    "duration": 9,
    "start_time": "2024-08-18T21:17:43.526Z"
   },
   {
    "duration": 6,
    "start_time": "2024-08-18T21:17:50.705Z"
   },
   {
    "duration": 2,
    "start_time": "2024-08-18T21:19:29.110Z"
   },
   {
    "duration": 5,
    "start_time": "2024-08-18T21:19:29.889Z"
   },
   {
    "duration": 4,
    "start_time": "2024-08-18T21:19:31.017Z"
   },
   {
    "duration": 3,
    "start_time": "2024-08-18T21:26:38.313Z"
   },
   {
    "duration": 4,
    "start_time": "2024-08-18T21:26:39.030Z"
   },
   {
    "duration": 3,
    "start_time": "2024-08-18T21:27:03.081Z"
   },
   {
    "duration": 4,
    "start_time": "2024-08-18T21:27:03.837Z"
   },
   {
    "duration": 135,
    "start_time": "2024-08-18T21:29:01.387Z"
   },
   {
    "duration": 124,
    "start_time": "2024-08-18T21:29:20.858Z"
   },
   {
    "duration": 1457,
    "start_time": "2024-08-19T06:03:49.061Z"
   },
   {
    "duration": 10,
    "start_time": "2024-08-19T06:03:52.437Z"
   },
   {
    "duration": 61,
    "start_time": "2024-08-19T06:05:37.622Z"
   },
   {
    "duration": 172,
    "start_time": "2024-08-19T06:48:37.870Z"
   },
   {
    "duration": 74,
    "start_time": "2024-08-19T06:48:38.362Z"
   },
   {
    "duration": 17,
    "start_time": "2024-08-19T06:48:38.847Z"
   },
   {
    "duration": 15,
    "start_time": "2024-08-19T06:48:39.382Z"
   },
   {
    "duration": 9,
    "start_time": "2024-08-19T06:48:47.552Z"
   },
   {
    "duration": 12,
    "start_time": "2024-08-19T06:48:48.529Z"
   },
   {
    "duration": 7,
    "start_time": "2024-08-19T06:48:50.211Z"
   },
   {
    "duration": 5,
    "start_time": "2024-08-19T06:49:00.459Z"
   },
   {
    "duration": 6,
    "start_time": "2024-08-19T06:52:03.305Z"
   },
   {
    "duration": 7,
    "start_time": "2024-08-19T06:52:03.873Z"
   },
   {
    "duration": 8,
    "start_time": "2024-08-19T06:58:13.989Z"
   },
   {
    "duration": 12,
    "start_time": "2024-08-19T06:58:14.376Z"
   },
   {
    "duration": 6,
    "start_time": "2024-08-19T06:58:15.163Z"
   },
   {
    "duration": 279,
    "start_time": "2024-08-19T07:00:03.788Z"
   },
   {
    "duration": 5,
    "start_time": "2024-08-19T07:00:04.485Z"
   },
   {
    "duration": 5,
    "start_time": "2024-08-19T07:00:04.948Z"
   },
   {
    "duration": 257,
    "start_time": "2024-08-19T07:00:05.396Z"
   },
   {
    "duration": 154,
    "start_time": "2024-08-19T07:00:05.962Z"
   },
   {
    "duration": 160,
    "start_time": "2024-08-19T07:03:30.198Z"
   },
   {
    "duration": 270,
    "start_time": "2024-08-19T07:08:14.220Z"
   },
   {
    "duration": 426,
    "start_time": "2024-08-19T07:08:58.565Z"
   },
   {
    "duration": 218,
    "start_time": "2024-08-19T07:09:08.229Z"
   },
   {
    "duration": 223,
    "start_time": "2024-08-19T07:12:28.829Z"
   },
   {
    "duration": 214,
    "start_time": "2024-08-19T07:12:38.977Z"
   },
   {
    "duration": 205,
    "start_time": "2024-08-19T07:13:10.373Z"
   },
   {
    "duration": 289,
    "start_time": "2024-08-19T07:18:19.072Z"
   },
   {
    "duration": 230,
    "start_time": "2024-08-19T07:18:26.788Z"
   },
   {
    "duration": 381,
    "start_time": "2024-08-19T07:18:37.574Z"
   },
   {
    "duration": 289,
    "start_time": "2024-08-19T07:18:41.040Z"
   },
   {
    "duration": 302,
    "start_time": "2024-08-19T07:35:09.610Z"
   },
   {
    "duration": 358,
    "start_time": "2024-08-19T07:35:38.397Z"
   },
   {
    "duration": 205,
    "start_time": "2024-08-19T07:40:23.549Z"
   },
   {
    "duration": 181,
    "start_time": "2024-08-19T07:40:32.571Z"
   },
   {
    "duration": 208,
    "start_time": "2024-08-19T07:40:44.761Z"
   },
   {
    "duration": 201,
    "start_time": "2024-08-19T07:41:20.820Z"
   },
   {
    "duration": 315,
    "start_time": "2024-08-19T07:56:50.238Z"
   },
   {
    "duration": 332,
    "start_time": "2024-08-19T07:56:56.254Z"
   },
   {
    "duration": 269,
    "start_time": "2024-08-19T07:57:01.453Z"
   },
   {
    "duration": 310,
    "start_time": "2024-08-19T08:32:47.449Z"
   },
   {
    "duration": 311,
    "start_time": "2024-08-19T08:34:15.913Z"
   },
   {
    "duration": 286,
    "start_time": "2024-08-19T08:36:26.291Z"
   },
   {
    "duration": 327,
    "start_time": "2024-08-19T08:36:37.546Z"
   },
   {
    "duration": 21,
    "start_time": "2024-08-19T09:31:19.034Z"
   },
   {
    "duration": 14,
    "start_time": "2024-08-19T09:32:00.668Z"
   },
   {
    "duration": 13,
    "start_time": "2024-08-19T09:32:08.377Z"
   },
   {
    "duration": 16,
    "start_time": "2024-08-19T09:32:18.444Z"
   },
   {
    "duration": 22,
    "start_time": "2024-08-19T09:43:01.753Z"
   },
   {
    "duration": 165,
    "start_time": "2024-08-19T09:44:18.006Z"
   },
   {
    "duration": 179,
    "start_time": "2024-08-19T09:59:58.124Z"
   },
   {
    "duration": 205,
    "start_time": "2024-08-19T10:20:17.279Z"
   },
   {
    "duration": 80,
    "start_time": "2024-08-19T11:02:46.761Z"
   },
   {
    "duration": 7,
    "start_time": "2024-08-19T11:09:17.331Z"
   },
   {
    "duration": 7,
    "start_time": "2024-08-19T11:12:55.601Z"
   },
   {
    "duration": 134,
    "start_time": "2024-08-19T11:17:56.113Z"
   },
   {
    "duration": 158,
    "start_time": "2024-08-19T11:17:59.308Z"
   },
   {
    "duration": 131,
    "start_time": "2024-08-19T11:26:27.156Z"
   },
   {
    "duration": 125,
    "start_time": "2024-08-19T11:26:37.770Z"
   },
   {
    "duration": 129,
    "start_time": "2024-08-19T11:27:19.656Z"
   },
   {
    "duration": 5,
    "start_time": "2024-08-19T11:29:29.939Z"
   },
   {
    "duration": 140,
    "start_time": "2024-08-19T11:31:15.970Z"
   },
   {
    "duration": 5,
    "start_time": "2024-08-19T11:31:34.582Z"
   },
   {
    "duration": 5,
    "start_time": "2024-08-19T11:31:53.100Z"
   },
   {
    "duration": 5,
    "start_time": "2024-08-19T11:32:02.946Z"
   },
   {
    "duration": 148,
    "start_time": "2024-08-19T11:33:43.856Z"
   },
   {
    "duration": 5,
    "start_time": "2024-08-19T11:33:48.280Z"
   },
   {
    "duration": 136,
    "start_time": "2024-08-19T11:33:58.479Z"
   },
   {
    "duration": 4,
    "start_time": "2024-08-19T11:34:33.330Z"
   },
   {
    "duration": 6,
    "start_time": "2024-08-19T11:34:46.201Z"
   },
   {
    "duration": 131,
    "start_time": "2024-08-19T11:34:52.634Z"
   },
   {
    "duration": 206,
    "start_time": "2024-08-19T11:35:00.266Z"
   },
   {
    "duration": 12,
    "start_time": "2024-08-19T11:35:17.372Z"
   },
   {
    "duration": 9,
    "start_time": "2024-08-19T11:35:21.120Z"
   },
   {
    "duration": 128,
    "start_time": "2024-08-19T11:35:32.840Z"
   },
   {
    "duration": 5,
    "start_time": "2024-08-19T11:35:35.615Z"
   },
   {
    "duration": 6,
    "start_time": "2024-08-19T11:35:39.845Z"
   },
   {
    "duration": 124,
    "start_time": "2024-08-19T11:35:42.358Z"
   },
   {
    "duration": 4,
    "start_time": "2024-08-19T11:35:46.034Z"
   },
   {
    "duration": 4,
    "start_time": "2024-08-19T11:37:18.207Z"
   },
   {
    "duration": 5,
    "start_time": "2024-08-19T11:37:37.032Z"
   },
   {
    "duration": 17,
    "start_time": "2024-08-19T11:40:21.000Z"
   },
   {
    "duration": 10,
    "start_time": "2024-08-19T11:44:35.969Z"
   },
   {
    "duration": 9,
    "start_time": "2024-08-19T11:44:40.915Z"
   },
   {
    "duration": 403,
    "start_time": "2024-08-19T11:44:51.947Z"
   },
   {
    "duration": 8,
    "start_time": "2024-08-19T11:45:06.197Z"
   },
   {
    "duration": 5,
    "start_time": "2024-08-19T11:45:22.776Z"
   },
   {
    "duration": 6,
    "start_time": "2024-08-19T11:46:05.628Z"
   },
   {
    "duration": 913,
    "start_time": "2024-08-19T11:47:13.973Z"
   },
   {
    "duration": 13,
    "start_time": "2024-08-19T11:53:31.263Z"
   },
   {
    "duration": 6,
    "start_time": "2024-08-19T11:54:03.983Z"
   },
   {
    "duration": 220,
    "start_time": "2024-08-19T11:58:04.524Z"
   },
   {
    "duration": 5,
    "start_time": "2024-08-19T11:58:40.383Z"
   },
   {
    "duration": 4,
    "start_time": "2024-08-19T12:00:00.737Z"
   },
   {
    "duration": 5,
    "start_time": "2024-08-19T12:02:40.529Z"
   },
   {
    "duration": 9,
    "start_time": "2024-08-19T12:06:02.828Z"
   },
   {
    "duration": 11,
    "start_time": "2024-08-19T12:08:45.060Z"
   },
   {
    "duration": 198,
    "start_time": "2024-08-19T12:12:05.599Z"
   },
   {
    "duration": 171,
    "start_time": "2024-08-19T12:12:22.743Z"
   },
   {
    "duration": 153,
    "start_time": "2024-08-19T12:12:29.305Z"
   },
   {
    "duration": 155,
    "start_time": "2024-08-19T12:13:01.432Z"
   },
   {
    "duration": 5,
    "start_time": "2024-08-19T12:14:29.531Z"
   },
   {
    "duration": 22,
    "start_time": "2024-08-19T12:18:35.988Z"
   },
   {
    "duration": 13,
    "start_time": "2024-08-19T12:18:54.257Z"
   },
   {
    "duration": 139,
    "start_time": "2024-08-19T12:19:24.835Z"
   },
   {
    "duration": 152,
    "start_time": "2024-08-19T12:22:38.212Z"
   },
   {
    "duration": 169,
    "start_time": "2024-08-19T12:23:25.903Z"
   },
   {
    "duration": 185,
    "start_time": "2024-08-19T12:23:51.169Z"
   },
   {
    "duration": 152,
    "start_time": "2024-08-19T12:24:14.340Z"
   },
   {
    "duration": 152,
    "start_time": "2024-08-19T12:24:38.047Z"
   },
   {
    "duration": 133,
    "start_time": "2024-08-19T12:32:25.412Z"
   },
   {
    "duration": 118,
    "start_time": "2024-08-19T12:32:49.084Z"
   },
   {
    "duration": 122,
    "start_time": "2024-08-19T12:33:04.766Z"
   },
   {
    "duration": 136,
    "start_time": "2024-08-19T12:33:50.757Z"
   },
   {
    "duration": 165,
    "start_time": "2024-08-19T12:34:12.136Z"
   },
   {
    "duration": 151,
    "start_time": "2024-08-19T12:34:33.411Z"
   },
   {
    "duration": 156,
    "start_time": "2024-08-19T12:36:11.008Z"
   },
   {
    "duration": 53,
    "start_time": "2024-08-19T12:36:11.823Z"
   },
   {
    "duration": 12,
    "start_time": "2024-08-19T12:36:22.415Z"
   },
   {
    "duration": 161,
    "start_time": "2024-08-19T12:41:31.357Z"
   },
   {
    "duration": 13,
    "start_time": "2024-08-19T12:46:13.690Z"
   },
   {
    "duration": 14,
    "start_time": "2024-08-19T12:49:31.352Z"
   },
   {
    "duration": 9,
    "start_time": "2024-08-19T12:50:03.491Z"
   },
   {
    "duration": 30,
    "start_time": "2024-08-19T12:50:22.058Z"
   },
   {
    "duration": 19,
    "start_time": "2024-08-19T12:50:28.549Z"
   },
   {
    "duration": 30,
    "start_time": "2024-08-19T12:51:41.185Z"
   },
   {
    "duration": 10,
    "start_time": "2024-08-19T12:53:41.462Z"
   },
   {
    "duration": 10,
    "start_time": "2024-08-19T12:54:18.070Z"
   },
   {
    "duration": 94,
    "start_time": "2024-08-19T12:54:29.982Z"
   },
   {
    "duration": 31,
    "start_time": "2024-08-19T12:55:31.877Z"
   },
   {
    "duration": 15,
    "start_time": "2024-08-19T12:55:35.396Z"
   },
   {
    "duration": 17,
    "start_time": "2024-08-19T12:55:45.544Z"
   }
  ],
  "kernelspec": {
   "display_name": "Python 3 (ipykernel)",
   "language": "python",
   "name": "python3"
  },
  "language_info": {
   "codemirror_mode": {
    "name": "ipython",
    "version": 3
   },
   "file_extension": ".py",
   "mimetype": "text/x-python",
   "name": "python",
   "nbconvert_exporter": "python",
   "pygments_lexer": "ipython3",
   "version": "3.9.5"
  },
  "toc": {
   "base_numbering": 1,
   "nav_menu": {},
   "number_sections": true,
   "sideBar": true,
   "skip_h1_title": true,
   "title_cell": "Table of Contents",
   "title_sidebar": "Contents",
   "toc_cell": false,
   "toc_position": {
    "height": "calc(100% - 180px)",
    "left": "10px",
    "top": "150px",
    "width": "310.8px"
   },
   "toc_section_display": true,
   "toc_window_display": false
  }
 },
 "nbformat": 4,
 "nbformat_minor": 2
}
